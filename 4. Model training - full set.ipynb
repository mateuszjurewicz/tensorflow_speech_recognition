{
 "cells": [
  {
   "cell_type": "markdown",
   "metadata": {},
   "source": [
    "# Model training - full set"
   ]
  },
  {
   "cell_type": "markdown",
   "metadata": {},
   "source": [
    "In the previous notebook we've experimented with different model architectures, hyperparameters and forms of preprocessing/augmentation. In this one we will test the most promising solutions on the entire set.\n",
    "\n",
    "First we will have to tackle the fact that our main set is **currently unbalanced**, in that we have:\n",
    "\n",
    "   1. A lot more examples in the _unknown_ category than other categories for train, cv & test sets.\n",
    "   2. A lot fewer examples in the _silence_ category than other categories for train, cv & test sets.\n",
    "\n",
    "In the _sample_ set we had a balanced mix. There's also another challenge that comes into play as we move from sample to main set - some of the examples in the full set are mislabelled. \n",
    "\n",
    "Once we balance, preprocess and persist our final data set we will move on to tuning our models to that data. Our most promising architecture we will then rewrite in TensorFlow."
   ]
  },
  {
   "cell_type": "code",
   "execution_count": 1,
   "metadata": {},
   "outputs": [
    {
     "name": "stdout",
     "output_type": "stream",
     "text": [
      "/home/paperspace/tensorflow_speech_recognition\r\n"
     ]
    }
   ],
   "source": [
    "# first make sure we're in the parent dictory of our data/sample folders.\n",
    "!pwd"
   ]
  },
  {
   "cell_type": "markdown",
   "metadata": {},
   "source": [
    "## Import\n",
    "We'll need a couple of additional libraries so let's import them."
   ]
  },
  {
   "cell_type": "code",
   "execution_count": 2,
   "metadata": {},
   "outputs": [],
   "source": [
    "# filter out warnings\n",
    "import warnings\n",
    "warnings.filterwarnings('ignore') "
   ]
  },
  {
   "cell_type": "code",
   "execution_count": 3,
   "metadata": {},
   "outputs": [],
   "source": [
    "import bcolz\n",
    "import glob\n",
    "import librosa\n",
    "import matplotlib.pyplot as plt\n",
    "import numpy as np\n",
    "import os\n",
    "import random\n",
    "import tensorflow\n",
    "\n",
    "# utils\n",
    "from importlib import reload\n",
    "import utils; reload(utils)\n",
    "\n",
    "# keras as tensorflow backend\n",
    "from tensorflow.python.keras.models import Sequential\n",
    "from tensorflow.python.keras.layers import Dense, BatchNormalization, Dropout, Convolution1D, Conv1D, Conv2D, Input\n",
    "from tensorflow.python.keras.layers import MaxPooling1D, MaxPooling2D, Flatten, SimpleRNN, GRU, ConvLSTM2D\n",
    "from tensorflow.python.keras.layers import LSTM, Activation, GlobalMaxPool1D\n",
    "from tensorflow.python.keras.optimizers import Adam\n",
    "from tensorflow.python.keras.models import Model\n",
    "\n",
    "\n",
    "# F1 and accuracy score metric\n",
    "from sklearn.metrics import f1_score, accuracy_score\n",
    "from sklearn.ensemble import RandomForestClassifier"
   ]
  },
  {
   "cell_type": "markdown",
   "metadata": {},
   "source": [
    "## Prepare data\n",
    "First we have to prepare our full dataset: \n",
    "\n",
    "1. Deal with mislabelled data\n",
    "2. Balance the number of examples per category\n",
    "3. Preprocess and persist"
   ]
  },
  {
   "cell_type": "code",
   "execution_count": 6,
   "metadata": {},
   "outputs": [],
   "source": [
    "path_to_main = \"data/main\""
   ]
  },
  {
   "cell_type": "markdown",
   "metadata": {},
   "source": [
    "### Mislabelled examples\n",
    "Kaggle is great in that its challenges resembles real life problems. In my experience the work of a data scientist & machine learning engineer often has more to do with cleaning your data and making sure that the pipeline for getting more clean data is reliable. \n",
    "\n",
    "Below is a list of all the 39 mislabelled examples from our cross-validation set."
   ]
  },
  {
   "cell_type": "code",
   "execution_count": 28,
   "metadata": {},
   "outputs": [],
   "source": [
    "mislabelled_cv_paths = [\"cv/down/bdee441c_nohash_3.wav\",\n",
    "                        \"cv/go/1bc45db9_nohash_0.wav\",\n",
    "                        \"cv/go/1bc45db9_nohash_1.wav\",\n",
    "                        \"cv/go/7fd25f7c_nohash_4.wav\",\n",
    "                        \"cv/go/a6d586b7_nohash_2.wav\",\n",
    "                        \"cv/go/d9462202_nohash_2.wav\",\n",
    "                        \"cv/go/dbb40d24_nohash_0.wav\",\n",
    "                        \"cv/go/dbb40d24_nohash_1.wav\",\n",
    "                        \"cv/go/dbb40d24_nohash_2.wav\",\n",
    "                        \"cv/go/dbb40d24_nohash_3.wav\",\n",
    "                        \"cv/go/dbb40d24_nohash_4.wav\",\n",
    "                        \"cv/go/dbb40d24_nohash_5.wav\",\n",
    "                        \"cv/left/c842b5e4_nohash_0.wav\",\n",
    "                        \"cv/left/dbb40d24_nohash_1.wav\",\n",
    "                        \"cv/left/dbb40d24_nohash_2.wav\",\n",
    "                        \"cv/left/dbb40d24_nohash_3.wav\",\n",
    "                        \"cv/left/dbb40d24_nohash_4.wav\",\n",
    "                        \"cv/left/dbb40d24_nohash_5.wav\",\n",
    "                        \"cv/no/7c1d8533_nohash_3.wav\",\n",
    "                        \"cv/no/dbb40d24_nohash_4.wav\",\n",
    "                        \"cv/off/5fadb538_nohash_0.wav\",\n",
    "                        \"cv/off/5fadb538_nohash_1.wav\",\n",
    "                        \"cv/off/5fadb538_nohash_2.wav\",\n",
    "                        \"cv/off/5fadb538_nohash_3.wav\",\n",
    "                        \"cv/off/5fadb538_nohash_4.wav\",\n",
    "                        \"cv/on/7c1d8533_nohash_2.wav\",\n",
    "                        \"cv/on/7c1d8533_nohash_3.wav\",\n",
    "                        \"cv/on/7fd25f7c_nohash_3.wav\",\n",
    "                        \"cv/on/099d52ad_nohash_3.wav\",\n",
    "                        \"cv/on/794cdfc5_nohash_0.wav\",\n",
    "                        \"cv/on/a6d586b7_nohash_4.wav\",\n",
    "                        \"cv/on/d197e3ae_nohash_2.wav\",\n",
    "                        \"cv/right/9d32f10a_nohash_0.wav\",\n",
    "                        \"cv/right/264f471d_nohash_4.wav\",\n",
    "                        \"cv/right/439c84f4_nohash_0.wav\",\n",
    "                        \"cv/right/a6d586b7_nohash_1.wav\",\n",
    "                        \"cv/stop/7fd25f7c_nohash_1.wav\",\n",
    "                        \"cv/stop/264f471d_nohash_1.wav\",\n",
    "                        \"cv/stop/d9462202_nohash_0.wav\"]"
   ]
  },
  {
   "cell_type": "markdown",
   "metadata": {},
   "source": [
    "I wanted to find all mislabelled examples in one of our subsets to be able to gauge the scale of the problem. Let's see how many examples we have in our CV set in general."
   ]
  },
  {
   "cell_type": "code",
   "execution_count": 5,
   "metadata": {},
   "outputs": [],
   "source": [
    "# we'll need a list of all category folder names\n",
    "categories_to_predict = [\"yes\", \"no\", \"up\", \"down\", \"left\", \"right\", \"on\", \"off\", \"stop\", \"go\", \"silence\", \"unknown\"]"
   ]
  },
  {
   "cell_type": "code",
   "execution_count": 7,
   "metadata": {},
   "outputs": [],
   "source": [
    "# grab all .wav paths for CV\n",
    "path_to_cv = os.path.join(path_to_main, \"cv\")\n",
    "cv_wavs = []\n",
    "\n",
    "for category in categories_to_predict:\n",
    "    path_to_category = os.path.join(path_to_cv, category)\n",
    "    category_files = utils.grab_wavs(path_to_category)\n",
    "    cv_wavs.extend(category_files)"
   ]
  },
  {
   "cell_type": "code",
   "execution_count": 11,
   "metadata": {},
   "outputs": [
    {
     "name": "stdout",
     "output_type": "stream",
     "text": [
      "0.57% of all CV examples are mislabelled\n"
     ]
    }
   ],
   "source": [
    "# scale of the problem\n",
    "print(\"{:.2f}% of all CV examples are mislabelled\".format(39 *100/len(cv_wavs)))"
   ]
  },
  {
   "cell_type": "markdown",
   "metadata": {},
   "source": [
    "Good, only less than 1% of our samples are mislabelled. That's important to remember if we were trying to estimate perfect human performance on the dataset that we were provided, but not a deal breaker for now.\n",
    "\n",
    "Let's listen to some of the mislabelled examples."
   ]
  },
  {
   "cell_type": "code",
   "execution_count": 15,
   "metadata": {},
   "outputs": [
    {
     "data": {
      "text/html": [
       "\n",
       "                <audio controls=\"controls\" >\n",
       "                    <source src=\"data:audio/wav;base64,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\" type=\"audio/wav\" />\n",
       "                    Your browser does not support the audio element.\n",
       "                </audio>\n",
       "              "
      ],
      "text/plain": [
       "<IPython.lib.display.Audio object>"
      ]
     },
     "execution_count": 15,
     "metadata": {},
     "output_type": "execute_result"
    }
   ],
   "source": [
    "# here we have a person saying \"one\" instead of \"on\"\n",
    "utils.display_audio(os.path.join(path_to_main, \"cv\", \"on\", \"7c1d8533_nohash_3.wav\"))"
   ]
  },
  {
   "cell_type": "code",
   "execution_count": 17,
   "metadata": {},
   "outputs": [
    {
     "data": {
      "text/html": [
       "\n",
       "                <audio controls=\"controls\" >\n",
       "                    <source src=\"data:audio/wav;base64,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\" type=\"audio/wav\" />\n",
       "                    Your browser does not support the audio element.\n",
       "                </audio>\n",
       "              "
      ],
      "text/plain": [
       "<IPython.lib.display.Audio object>"
      ]
     },
     "execution_count": 17,
     "metadata": {},
     "output_type": "execute_result"
    }
   ],
   "source": [
    "# here instead of \"on\" we get background noise\n",
    "utils.display_audio(os.path.join(path_to_main, \"cv\", \"on\", \"a6d586b7_nohash_4.wav\"))"
   ]
  },
  {
   "cell_type": "code",
   "execution_count": 21,
   "metadata": {},
   "outputs": [
    {
     "data": {
      "text/html": [
       "\n",
       "                <audio controls=\"controls\" >\n",
       "                    <source src=\"data:audio/wav;base64,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\" type=\"audio/wav\" />\n",
       "                    Your browser does not support the audio element.\n",
       "                </audio>\n",
       "              "
      ],
      "text/plain": [
       "<IPython.lib.display.Audio object>"
      ]
     },
     "execution_count": 21,
     "metadata": {},
     "output_type": "execute_result"
    }
   ],
   "source": [
    "# here a person doesn't manage to finish the word \"right\" before the wav cuts them off\n",
    "utils.display_audio(os.path.join(path_to_main, \"cv\", \"right\", \"439c84f4_nohash_0.wav\"))"
   ]
  },
  {
   "cell_type": "code",
   "execution_count": 23,
   "metadata": {},
   "outputs": [
    {
     "data": {
      "text/html": [
       "\n",
       "                <audio controls=\"controls\" >\n",
       "                    <source src=\"data:audio/wav;base64,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\" type=\"audio/wav\" />\n",
       "                    Your browser does not support the audio element.\n",
       "                </audio>\n",
       "              "
      ],
      "text/plain": [
       "<IPython.lib.display.Audio object>"
      ]
     },
     "execution_count": 23,
     "metadata": {},
     "output_type": "execute_result"
    }
   ],
   "source": [
    "# here the word is unintelligible\n",
    "utils.display_audio(os.path.join(path_to_main, \"cv\", \"stop\", \"dbb40d24_nohash_0.wav\"))"
   ]
  },
  {
   "cell_type": "markdown",
   "metadata": {},
   "source": [
    "The majority of the mislabelled examples are silences where the person wasn't able to finish the utterance in time. Knowing this we could expect our models to incorrectly predict the silence category. \n",
    "\n",
    "Having tracked this in the CV set allows us to potentially remove all the mislabelled examples from the CV set. Let's keep both the cleaned and uncleaned versions for now. The below code is Linux specific, for a Windows-compatible code switch the separators in the mislabelled_cv_paths list."
   ]
  },
  {
   "cell_type": "code",
   "execution_count": 26,
   "metadata": {},
   "outputs": [
    {
     "data": {
      "text/plain": [
       "'data/main/cv/yes/c4cfbe43_nohash_1.wav'"
      ]
     },
     "execution_count": 26,
     "metadata": {},
     "output_type": "execute_result"
    }
   ],
   "source": [
    "# show a wav from entire CV set\n",
    "cv_wavs[0]"
   ]
  },
  {
   "cell_type": "markdown",
   "metadata": {},
   "source": [
    "We have to turn our paths from the mislabelled_cv_paths list to match the above, and then remove them."
   ]
  },
  {
   "cell_type": "code",
   "execution_count": 29,
   "metadata": {},
   "outputs": [
    {
     "data": {
      "text/plain": [
       "'data/main/cv/down/bdee441c_nohash_3.wav'"
      ]
     },
     "execution_count": 29,
     "metadata": {},
     "output_type": "execute_result"
    }
   ],
   "source": [
    "mislabelled_cv_paths = [\"data/main/\" + p for p in mislabelled_cv_paths]\n",
    "mislabelled_cv_paths[0]"
   ]
  },
  {
   "cell_type": "code",
   "execution_count": 30,
   "metadata": {},
   "outputs": [],
   "source": [
    "# keep only correctly labelled wavs\n",
    "cv_wavs_cleaned = []\n",
    "for wav_path in cv_wavs:\n",
    "    if wav_path in mislabelled_cv_paths:\n",
    "        pass\n",
    "    else:\n",
    "        cv_wavs_cleaned.append(wav_path)"
   ]
  },
  {
   "cell_type": "code",
   "execution_count": 31,
   "metadata": {},
   "outputs": [
    {
     "data": {
      "text/plain": [
       "6850"
      ]
     },
     "execution_count": 31,
     "metadata": {},
     "output_type": "execute_result"
    }
   ],
   "source": [
    "len(cv_wavs)"
   ]
  },
  {
   "cell_type": "code",
   "execution_count": 32,
   "metadata": {},
   "outputs": [
    {
     "data": {
      "text/plain": [
       "6811"
      ]
     },
     "execution_count": 32,
     "metadata": {},
     "output_type": "execute_result"
    }
   ],
   "source": [
    "len(cv_wavs_cleaned)"
   ]
  },
  {
   "cell_type": "markdown",
   "metadata": {},
   "source": [
    "### Balance the dataset\n",
    "xxxxx"
   ]
  },
  {
   "cell_type": "code",
   "execution_count": null,
   "metadata": {},
   "outputs": [],
   "source": []
  },
  {
   "cell_type": "code",
   "execution_count": null,
   "metadata": {},
   "outputs": [],
   "source": []
  },
  {
   "cell_type": "code",
   "execution_count": null,
   "metadata": {},
   "outputs": [],
   "source": []
  },
  {
   "cell_type": "code",
   "execution_count": null,
   "metadata": {},
   "outputs": [],
   "source": []
  },
  {
   "cell_type": "code",
   "execution_count": null,
   "metadata": {},
   "outputs": [],
   "source": []
  },
  {
   "cell_type": "markdown",
   "metadata": {},
   "source": [
    "### Create a list of paths\n",
    "We will use the glob module that we learned about in the very first notebook and a function from util.py which can, given a directory, return a list of paths to .wav files within it. We will repeat the process for all 3 sets within sample, and every category subdirectory within those too."
   ]
  },
  {
   "cell_type": "code",
   "execution_count": 5,
   "metadata": {},
   "outputs": [
    {
     "data": {
      "text/plain": [
       "['data/sample/train/stop/01b4757a_nohash_0.wav',\n",
       " 'data/sample/train/stop/3ac2e76f_nohash_0.wav',\n",
       " 'data/sample/train/stop/3e31dffe_nohash_3.wav',\n",
       " 'data/sample/train/stop/37bd115d_nohash_1.wav',\n",
       " 'data/sample/train/stop/6c2dd2d5_nohash_0.wav']"
      ]
     },
     "execution_count": 5,
     "metadata": {},
     "output_type": "execute_result"
    }
   ],
   "source": [
    "# for example we can grab all .wav files from sample/train/stop\n",
    "path_to_sample_train_stop = os.path.join(path_to_sample, \"train\", \"stop\")\n",
    "utils.grab_wavs(path_to_sample_train_stop)[:5]"
   ]
  },
  {
   "cell_type": "code",
   "execution_count": 20,
   "metadata": {},
   "outputs": [],
   "source": [
    "# we'll need a list of all category folder names\n",
    "categories_to_predict = [\"yes\", \"no\", \"up\", \"down\", \"left\", \"right\", \"on\", \"off\", \"stop\", \"go\", \"silence\", \"unknown\"]"
   ]
  },
  {
   "cell_type": "code",
   "execution_count": 21,
   "metadata": {},
   "outputs": [
    {
     "data": {
      "text/plain": [
       "['data/sample/train/yes/0f3f64d5_nohash_0.wav',\n",
       " 'data/sample/train/yes/8a28231e_nohash_3.wav',\n",
       " 'data/sample/train/yes/d3f22f0e_nohash_0.wav',\n",
       " 'data/sample/train/yes/2d3c8dcb_nohash_1.wav',\n",
       " 'data/sample/train/yes/d486fb84_nohash_0.wav',\n",
       " 'data/sample/train/yes/61d3e51e_nohash_0.wav',\n",
       " 'data/sample/train/yes/8f811bbc_nohash_0.wav',\n",
       " 'data/sample/train/yes/b43de700_nohash_0.wav',\n",
       " 'data/sample/train/yes/66a412a7_nohash_0.wav',\n",
       " 'data/sample/train/yes/92e17cc4_nohash_0.wav',\n",
       " 'data/sample/train/yes/6c9223bd_nohash_0.wav',\n",
       " 'data/sample/train/yes/d5356b9a_nohash_0.wav',\n",
       " 'data/sample/train/yes/e7d0eb3f_nohash_1.wav',\n",
       " 'data/sample/train/yes/712e4d58_nohash_2.wav',\n",
       " 'data/sample/train/yes/a2fefcb4_nohash_0.wav',\n",
       " 'data/sample/train/yes/324210dd_nohash_1.wav',\n",
       " 'data/sample/train/yes/742d6431_nohash_0.wav',\n",
       " 'data/sample/train/yes/70a00e98_nohash_1.wav',\n",
       " 'data/sample/train/yes/28e47b1a_nohash_4.wav',\n",
       " 'data/sample/train/yes/7014b07e_nohash_1.wav',\n",
       " 'data/sample/train/no/f0ebef1b_nohash_0.wav',\n",
       " 'data/sample/train/no/7e783e3f_nohash_0.wav',\n",
       " 'data/sample/train/no/65040d9b_nohash_0.wav',\n",
       " 'data/sample/train/no/fcb25a78_nohash_0.wav',\n",
       " 'data/sample/train/no/28ce0c58_nohash_6.wav',\n",
       " 'data/sample/train/no/3c257192_nohash_1.wav',\n",
       " 'data/sample/train/no/106a6183_nohash_2.wav',\n",
       " 'data/sample/train/no/eb0676ec_nohash_1.wav',\n",
       " 'data/sample/train/no/6add0595_nohash_0.wav',\n",
       " 'data/sample/train/no/3efa7ec4_nohash_1.wav',\n",
       " 'data/sample/train/no/e4a2cf79_nohash_0.wav',\n",
       " 'data/sample/train/no/3c257192_nohash_3.wav',\n",
       " 'data/sample/train/no/b36c27c2_nohash_0.wav',\n",
       " 'data/sample/train/no/73dda36a_nohash_0.wav',\n",
       " 'data/sample/train/no/7ab5b8f7_nohash_0.wav',\n",
       " 'data/sample/train/no/c661be6e_nohash_2.wav',\n",
       " 'data/sample/train/no/7f74626f_nohash_1.wav',\n",
       " 'data/sample/train/no/ab5b211a_nohash_1.wav',\n",
       " 'data/sample/train/no/86cb59b2_nohash_3.wav',\n",
       " 'data/sample/train/no/caa7feaf_nohash_1.wav',\n",
       " 'data/sample/train/up/d3badc9a_nohash_1.wav',\n",
       " 'data/sample/train/up/37e8db82_nohash_0.wav',\n",
       " 'data/sample/train/up/079dfce3_nohash_1.wav',\n",
       " 'data/sample/train/up/fb9d6d23_nohash_0.wav',\n",
       " 'data/sample/train/up/48463cbc_nohash_2.wav',\n",
       " 'data/sample/train/up/229978fd_nohash_4.wav',\n",
       " 'data/sample/train/up/7846fd85_nohash_1.wav',\n",
       " 'data/sample/train/up/f33660af_nohash_1.wav',\n",
       " 'data/sample/train/up/13d7b8c9_nohash_0.wav',\n",
       " 'data/sample/train/up/cb8f8307_nohash_3.wav',\n",
       " 'data/sample/train/up/b5552931_nohash_1.wav',\n",
       " 'data/sample/train/up/9dcfba4b_nohash_0.wav',\n",
       " 'data/sample/train/up/e649aa92_nohash_0.wav',\n",
       " 'data/sample/train/up/8281a2a8_nohash_3.wav',\n",
       " 'data/sample/train/up/6078eb0d_nohash_0.wav',\n",
       " 'data/sample/train/up/10ace7eb_nohash_1.wav',\n",
       " 'data/sample/train/up/422f8cf1_nohash_2.wav',\n",
       " 'data/sample/train/up/1ba20be2_nohash_0.wav',\n",
       " 'data/sample/train/up/742d6431_nohash_1.wav',\n",
       " 'data/sample/train/up/37a3cd33_nohash_0.wav',\n",
       " 'data/sample/train/down/a1cff772_nohash_2.wav',\n",
       " 'data/sample/train/down/4ec7d027_nohash_0.wav',\n",
       " 'data/sample/train/down/742d6431_nohash_4.wav',\n",
       " 'data/sample/train/down/0819edb0_nohash_2.wav',\n",
       " 'data/sample/train/down/884ae8e1_nohash_1.wav',\n",
       " 'data/sample/train/down/834f03fe_nohash_1.wav',\n",
       " 'data/sample/train/down/ced835d3_nohash_1.wav',\n",
       " 'data/sample/train/down/0cd323ec_nohash_0.wav',\n",
       " 'data/sample/train/down/3bfd30e6_nohash_2.wav',\n",
       " 'data/sample/train/down/0e5193e6_nohash_1.wav',\n",
       " 'data/sample/train/down/c5570933_nohash_0.wav',\n",
       " 'data/sample/train/down/b7a0754f_nohash_3.wav',\n",
       " 'data/sample/train/down/ced4e2a1_nohash_0.wav',\n",
       " 'data/sample/train/down/b4bef564_nohash_1.wav',\n",
       " 'data/sample/train/down/dabf67d9_nohash_0.wav',\n",
       " 'data/sample/train/down/3d53244b_nohash_0.wav',\n",
       " 'data/sample/train/down/778a4a01_nohash_0.wav',\n",
       " 'data/sample/train/down/35d1b6ee_nohash_3.wav',\n",
       " 'data/sample/train/down/06076b6b_nohash_2.wav',\n",
       " 'data/sample/train/down/38d78313_nohash_1.wav',\n",
       " 'data/sample/train/left/4ec7d027_nohash_0.wav',\n",
       " 'data/sample/train/left/a74f3917_nohash_0.wav',\n",
       " 'data/sample/train/left/c2bc4489_nohash_1.wav',\n",
       " 'data/sample/train/left/e102119e_nohash_0.wav',\n",
       " 'data/sample/train/left/3cdecb0b_nohash_1.wav',\n",
       " 'data/sample/train/left/51eefcc6_nohash_0.wav',\n",
       " 'data/sample/train/left/743edf9d_nohash_1.wav',\n",
       " 'data/sample/train/left/190821dc_nohash_2.wav',\n",
       " 'data/sample/train/left/813b82a6_nohash_0.wav',\n",
       " 'data/sample/train/left/833a0279_nohash_0.wav',\n",
       " 'data/sample/train/left/763188c4_nohash_0.wav',\n",
       " 'data/sample/train/left/da5dadb9_nohash_0.wav',\n",
       " 'data/sample/train/left/6e2ef3d5_nohash_0.wav',\n",
       " 'data/sample/train/left/d8521ea0_nohash_0.wav',\n",
       " 'data/sample/train/left/834f03fe_nohash_0.wav',\n",
       " 'data/sample/train/left/1b63157b_nohash_0.wav',\n",
       " 'data/sample/train/left/824e8ce5_nohash_0.wav',\n",
       " 'data/sample/train/left/408de0a4_nohash_0.wav',\n",
       " 'data/sample/train/left/9f4098cb_nohash_0.wav',\n",
       " 'data/sample/train/left/a2b16113_nohash_0.wav',\n",
       " 'data/sample/train/right/ece1a95a_nohash_0.wav',\n",
       " 'data/sample/train/right/7e783e3f_nohash_1.wav',\n",
       " 'data/sample/train/right/5ba724a7_nohash_0.wav',\n",
       " 'data/sample/train/right/93f30cc4_nohash_1.wav',\n",
       " 'data/sample/train/right/cb2929ce_nohash_4.wav',\n",
       " 'data/sample/train/right/7846fd85_nohash_1.wav',\n",
       " 'data/sample/train/right/e7ea8b76_nohash_1.wav',\n",
       " 'data/sample/train/right/57b68383_nohash_0.wav',\n",
       " 'data/sample/train/right/340c8b10_nohash_0.wav',\n",
       " 'data/sample/train/right/8781f4c1_nohash_0.wav',\n",
       " 'data/sample/train/right/9735764a_nohash_0.wav',\n",
       " 'data/sample/train/right/02fcd241_nohash_0.wav',\n",
       " 'data/sample/train/right/7f74626f_nohash_3.wav',\n",
       " 'data/sample/train/right/48a9f771_nohash_1.wav',\n",
       " 'data/sample/train/right/b06c19b0_nohash_1.wav',\n",
       " 'data/sample/train/right/be91a00a_nohash_1.wav',\n",
       " 'data/sample/train/right/9080f6d3_nohash_1.wav',\n",
       " 'data/sample/train/right/dc6e9c04_nohash_0.wav',\n",
       " 'data/sample/train/right/e91d173e_nohash_0.wav',\n",
       " 'data/sample/train/right/0137b3f4_nohash_0.wav',\n",
       " 'data/sample/train/on/ffd2ba2f_nohash_0.wav',\n",
       " 'data/sample/train/on/3565ca83_nohash_2.wav',\n",
       " 'data/sample/train/on/14775481_nohash_0.wav',\n",
       " 'data/sample/train/on/b9515bf3_nohash_1.wav',\n",
       " 'data/sample/train/on/5efb758c_nohash_0.wav',\n",
       " 'data/sample/train/on/eb3f7d82_nohash_2.wav',\n",
       " 'data/sample/train/on/9d050657_nohash_0.wav',\n",
       " 'data/sample/train/on/0132a06d_nohash_3.wav',\n",
       " 'data/sample/train/on/15d83b54_nohash_0.wav',\n",
       " 'data/sample/train/on/611d2b50_nohash_4.wav',\n",
       " 'data/sample/train/on/ab353673_nohash_0.wav',\n",
       " 'data/sample/train/on/c79159aa_nohash_1.wav',\n",
       " 'data/sample/train/on/c2e08f08_nohash_1.wav',\n",
       " 'data/sample/train/on/eb3f7d82_nohash_4.wav',\n",
       " 'data/sample/train/on/28ed6bc9_nohash_0.wav',\n",
       " 'data/sample/train/on/4f086393_nohash_0.wav',\n",
       " 'data/sample/train/on/cce17a61_nohash_1.wav',\n",
       " 'data/sample/train/on/8eb4a1bf_nohash_3.wav',\n",
       " 'data/sample/train/on/7799c9cd_nohash_0.wav',\n",
       " 'data/sample/train/on/2579e514_nohash_0.wav',\n",
       " 'data/sample/train/off/a759efbc_nohash_1.wav',\n",
       " 'data/sample/train/off/b16f2d0d_nohash_1.wav',\n",
       " 'data/sample/train/off/611d2b50_nohash_1.wav',\n",
       " 'data/sample/train/off/b59fe16d_nohash_0.wav',\n",
       " 'data/sample/train/off/37bd115d_nohash_0.wav',\n",
       " 'data/sample/train/off/a8f45bdc_nohash_0.wav',\n",
       " 'data/sample/train/off/5f1b1051_nohash_0.wav',\n",
       " 'data/sample/train/off/8fce59ff_nohash_2.wav',\n",
       " 'data/sample/train/off/89f3ab7d_nohash_2.wav',\n",
       " 'data/sample/train/off/d7529c0c_nohash_0.wav',\n",
       " 'data/sample/train/off/ef2578c0_nohash_1.wav',\n",
       " 'data/sample/train/off/c2e08f08_nohash_0.wav',\n",
       " 'data/sample/train/off/1bb6ed89_nohash_0.wav',\n",
       " 'data/sample/train/off/8b39e36f_nohash_2.wav',\n",
       " 'data/sample/train/off/4cb874bb_nohash_0.wav',\n",
       " 'data/sample/train/off/e8d562ca_nohash_1.wav',\n",
       " 'data/sample/train/off/c93d5e22_nohash_2.wav',\n",
       " 'data/sample/train/off/a3fc7884_nohash_0.wav',\n",
       " 'data/sample/train/off/0137b3f4_nohash_0.wav',\n",
       " 'data/sample/train/off/ab353673_nohash_1.wav',\n",
       " 'data/sample/train/stop/01b4757a_nohash_0.wav',\n",
       " 'data/sample/train/stop/3ac2e76f_nohash_0.wav',\n",
       " 'data/sample/train/stop/3e31dffe_nohash_3.wav',\n",
       " 'data/sample/train/stop/37bd115d_nohash_1.wav',\n",
       " 'data/sample/train/stop/6c2dd2d5_nohash_0.wav',\n",
       " 'data/sample/train/stop/cf68fad2_nohash_1.wav',\n",
       " 'data/sample/train/stop/f35eedd7_nohash_0.wav',\n",
       " 'data/sample/train/stop/12c206ea_nohash_1.wav',\n",
       " 'data/sample/train/stop/ae82c78c_nohash_0.wav',\n",
       " 'data/sample/train/stop/824e8ce5_nohash_1.wav',\n",
       " 'data/sample/train/stop/f632210f_nohash_1.wav',\n",
       " 'data/sample/train/stop/d0858dce_nohash_0.wav',\n",
       " 'data/sample/train/stop/0b56bcfe_nohash_0.wav',\n",
       " 'data/sample/train/stop/28ed6bc9_nohash_0.wav',\n",
       " 'data/sample/train/stop/229978fd_nohash_1.wav',\n",
       " 'data/sample/train/stop/f8f60f59_nohash_2.wav',\n",
       " 'data/sample/train/stop/012c8314_nohash_0.wav',\n",
       " 'data/sample/train/stop/a1cff772_nohash_0.wav',\n",
       " 'data/sample/train/stop/834f03fe_nohash_2.wav',\n",
       " 'data/sample/train/stop/479e64cc_nohash_1.wav',\n",
       " 'data/sample/train/go/42c6fff1_nohash_0.wav',\n",
       " 'data/sample/train/go/31583d30_nohash_0.wav',\n",
       " 'data/sample/train/go/324210dd_nohash_4.wav',\n",
       " 'data/sample/train/go/71904de3_nohash_0.wav',\n",
       " 'data/sample/train/go/ced835d3_nohash_1.wav',\n",
       " 'data/sample/train/go/9efe5140_nohash_1.wav',\n",
       " 'data/sample/train/go/c0c701f1_nohash_0.wav',\n",
       " 'data/sample/train/go/0cd323ec_nohash_0.wav',\n",
       " 'data/sample/train/go/126a31d2_nohash_1.wav',\n",
       " 'data/sample/train/go/afd53389_nohash_0.wav',\n",
       " 'data/sample/train/go/b4604db4_nohash_0.wav',\n",
       " 'data/sample/train/go/c1e0e8e3_nohash_3.wav',\n",
       " 'data/sample/train/go/bc065a17_nohash_1.wav',\n",
       " 'data/sample/train/go/ea9f8e11_nohash_1.wav',\n",
       " 'data/sample/train/go/590750e8_nohash_2.wav',\n",
       " 'data/sample/train/go/e41e41f7_nohash_0.wav',\n",
       " 'data/sample/train/go/59fe87e6_nohash_1.wav',\n",
       " 'data/sample/train/go/6414258b_nohash_0.wav',\n",
       " 'data/sample/train/go/26e573a9_nohash_1.wav',\n",
       " 'data/sample/train/go/483e2a6f_nohash_1.wav',\n",
       " 'data/sample/train/silence/dude_miaowing_32.wav',\n",
       " 'data/sample/train/silence/pink_noise_4.wav',\n",
       " 'data/sample/train/silence/pink_noise_25.wav',\n",
       " 'data/sample/train/silence/dude_miaowing_16.wav',\n",
       " 'data/sample/train/silence/doing_the_dishes_53.wav',\n",
       " 'data/sample/train/silence/pink_noise_51.wav',\n",
       " 'data/sample/train/silence/white_noise_10.wav',\n",
       " 'data/sample/train/silence/doing_the_dishes_9.wav',\n",
       " 'data/sample/train/silence/dude_miaowing_17.wav',\n",
       " 'data/sample/train/silence/dude_miaowing_43.wav',\n",
       " 'data/sample/train/silence/dude_miaowing_37.wav',\n",
       " 'data/sample/train/silence/doing_the_dishes_86.wav',\n",
       " 'data/sample/train/silence/running_tap_9.wav',\n",
       " 'data/sample/train/silence/running_tap_51.wav',\n",
       " 'data/sample/train/silence/exercise_bike_57.wav',\n",
       " 'data/sample/train/silence/pink_noise_14.wav',\n",
       " 'data/sample/train/silence/dude_miaowing_38.wav',\n",
       " 'data/sample/train/silence/pink_noise_20.wav',\n",
       " 'data/sample/train/silence/white_noise_1.wav',\n",
       " 'data/sample/train/silence/running_tap_52.wav',\n",
       " 'data/sample/train/unknown/4def68db_nohash_0_seven.wav',\n",
       " 'data/sample/train/unknown/5705a0f9_nohash_0_eight.wav',\n",
       " 'data/sample/train/unknown/238c112c_nohash_0_two.wav',\n",
       " 'data/sample/train/unknown/b55a09be_nohash_1_wow.wav',\n",
       " 'data/sample/train/unknown/421ed23f_nohash_0_zero.wav',\n",
       " 'data/sample/train/unknown/d37e4bf1_nohash_0_nine.wav',\n",
       " 'data/sample/train/unknown/ab5ae445_nohash_0_five.wav',\n",
       " 'data/sample/train/unknown/a527cb3c_nohash_0_sheila.wav',\n",
       " 'data/sample/train/unknown/4a1e736b_nohash_1_seven.wav',\n",
       " 'data/sample/train/unknown/44f68a83_nohash_0_six.wav',\n",
       " 'data/sample/train/unknown/b9515bf3_nohash_3_six.wav',\n",
       " 'data/sample/train/unknown/8f4c551f_nohash_0_four.wav',\n",
       " 'data/sample/train/unknown/10ace7eb_nohash_2_six.wav',\n",
       " 'data/sample/train/unknown/179a61b7_nohash_0_bed.wav',\n",
       " 'data/sample/train/unknown/9f63152b_nohash_0_six.wav',\n",
       " 'data/sample/train/unknown/4d9e07cf_nohash_2_two.wav',\n",
       " 'data/sample/train/unknown/e7ea8b76_nohash_0_cat.wav',\n",
       " 'data/sample/train/unknown/c0f8f4df_nohash_0_two.wav',\n",
       " 'data/sample/train/unknown/c1d39ce8_nohash_6_zero.wav',\n",
       " 'data/sample/train/unknown/1ecfb537_nohash_4_four.wav']"
      ]
     },
     "execution_count": 21,
     "metadata": {},
     "output_type": "execute_result"
    }
   ],
   "source": [
    "# first grab the training set\n",
    "path_to_train = os.path.join(path_to_sample, \"train\")\n",
    "sample_train_wavs = []\n",
    "\n",
    "for category in categories_to_predict:\n",
    "    path_to_category = os.path.join(path_to_train, category)\n",
    "    category_files = utils.grab_wavs(path_to_category)\n",
    "    \n",
    "    # we use extend instead of append to add all elements from the iterable\n",
    "    sample_train_wavs.extend(category_files)\n",
    "    \n",
    "sample_train_wavs"
   ]
  },
  {
   "cell_type": "code",
   "execution_count": 101,
   "metadata": {},
   "outputs": [],
   "source": [
    "# repeat for cv\n",
    "path_to_cv = os.path.join(path_to_sample, \"cv\")\n",
    "sample_cv_wavs = []\n",
    "\n",
    "for category in categories_to_predict:\n",
    "    path_to_category = os.path.join(path_to_cv, category)\n",
    "    category_files = utils.grab_wavs(path_to_category)\n",
    "    sample_cv_wavs.extend(category_files)\n",
    "\n",
    "# repeat for test\n",
    "path_to_test = os.path.join(path_to_sample, \"test\")\n",
    "sample_test_wavs = []\n",
    "\n",
    "for category in categories_to_predict:\n",
    "    path_to_category = os.path.join(path_to_test, category)\n",
    "    category_files = utils.grab_wavs(path_to_category)\n",
    "    sample_test_wavs.extend(category_files)"
   ]
  },
  {
   "cell_type": "markdown",
   "metadata": {},
   "source": [
    "### One-hot encode the y"
   ]
  },
  {
   "cell_type": "markdown",
   "metadata": {},
   "source": [
    "Now that we have the 3 lists of files from each set (train, cv and test) we can construct our train_y, cv_y and test_y numpy arrays. These will be matrices of size (m, 12), one-hot encoded. E.g. if a row belongs to the category \"up\" it will take the form of an array of zeros, where the entry at index 2 (the third from the left) will become a 1.\n",
    "\n",
    "We will use a function from the utils that takes a path to a .wav, the index at which the category name starts within it (we want to control this because we will eventually use this for the main set, not just the sample) and a list of categories to predict. For our current example, the category name in the paths belonging to \"train\" starts at the 18th index (separators count as one char)."
   ]
  },
  {
   "cell_type": "code",
   "execution_count": 9,
   "metadata": {},
   "outputs": [
    {
     "data": {
      "text/plain": [
       "'data/sample/train/left/4ec7d027_nohash_0.wav'"
      ]
     },
     "execution_count": 9,
     "metadata": {},
     "output_type": "execute_result"
    }
   ],
   "source": [
    "# let's grab a single path (this one is an \"left\")\n",
    "a_wav = sample_train_wavs[80]\n",
    "a_wav"
   ]
  },
  {
   "cell_type": "code",
   "execution_count": 10,
   "metadata": {},
   "outputs": [
    {
     "data": {
      "text/plain": [
       "array([0., 0., 0., 0., 1., 0., 0., 0., 0., 0., 0., 0.])"
      ]
     },
     "execution_count": 10,
     "metadata": {},
     "output_type": "execute_result"
    }
   ],
   "source": [
    "# let's see if the 1 is correctly placed\n",
    "utils.one_hot_encode_path(a_wav, 18, categories_to_predict)"
   ]
  },
  {
   "cell_type": "markdown",
   "metadata": {},
   "source": [
    "The path belonged to the fifth category (\"left\") and the one-hot encoding correctly placed the 1 at index 4 (zero-indexed).\n",
    "\n",
    "We want to repeat this for all examples in each of the 3 subsets, adding each new one-hot encoded numpy array as a new row of the y matrix, in order."
   ]
  },
  {
   "cell_type": "code",
   "execution_count": 11,
   "metadata": {},
   "outputs": [
    {
     "data": {
      "text/plain": [
       "(240, 12)"
      ]
     },
     "execution_count": 11,
     "metadata": {},
     "output_type": "execute_result"
    }
   ],
   "source": [
    "# figure out the dimensions of train_y\n",
    "rows = len(sample_train_wavs)\n",
    "columns = len(categories_to_predict)\n",
    "dimensions = (rows, columns)\n",
    "dimensions"
   ]
  },
  {
   "cell_type": "code",
   "execution_count": 12,
   "metadata": {},
   "outputs": [
    {
     "name": "stdout",
     "output_type": "stream",
     "text": [
      "Current shape: 2880\n",
      "New shape: (240, 12)\n"
     ]
    }
   ],
   "source": [
    "# create train_y as empty array\n",
    "train_y = np.array([])\n",
    "\n",
    "# append each row to train_y\n",
    "for path_to_wav in sample_train_wavs:\n",
    "    row = utils.one_hot_encode_path(path_to_wav, 18, categories_to_predict)\n",
    "    \n",
    "    # append the new row\n",
    "    train_y = np.append(train_y, row)\n",
    "    \n",
    "# we currently have a flattened vector\n",
    "print(\"Current shape: {}\".format(*train_y.shape))\n",
    "\n",
    "# let's reshape it\n",
    "train_y = np.reshape(train_y, dimensions)\n",
    "print(\"New shape: {}\".format(train_y.shape))"
   ]
  },
  {
   "cell_type": "code",
   "execution_count": 13,
   "metadata": {},
   "outputs": [
    {
     "data": {
      "text/plain": [
       "array([[1., 0., 0., ..., 0., 0., 0.],\n",
       "       [1., 0., 0., ..., 0., 0., 0.],\n",
       "       [1., 0., 0., ..., 0., 0., 0.],\n",
       "       ...,\n",
       "       [0., 0., 0., ..., 0., 0., 1.],\n",
       "       [0., 0., 0., ..., 0., 0., 1.],\n",
       "       [0., 0., 0., ..., 0., 0., 1.]])"
      ]
     },
     "execution_count": 13,
     "metadata": {},
     "output_type": "execute_result"
    }
   ],
   "source": [
    "# show the train_y matrix to confirm\n",
    "train_y"
   ]
  },
  {
   "cell_type": "markdown",
   "metadata": {},
   "source": [
    "We can see that the first 3 entries have the 1 at 0th index, which means they belong to category \"up\" and the last three have the 1 at the last index, which is also correct given the fact that our list of paths was also ordered.\n",
    "\n",
    "We should bear in mind that by default the np.array contains float64s and our functions for loading a .wav return int16s.\n",
    "\n",
    "Since this is a highly-repetitive task we'll want to use the utils function for obtaining the y."
   ]
  },
  {
   "cell_type": "markdown",
   "metadata": {},
   "source": [
    "Repeat for **CV set**."
   ]
  },
  {
   "cell_type": "code",
   "execution_count": 14,
   "metadata": {},
   "outputs": [
    {
     "name": "stdout",
     "output_type": "stream",
     "text": [
      "Target dimensions: (60, 12)\n",
      "Received shape: (60, 12)\n"
     ]
    }
   ],
   "source": [
    "# figure out the dimensions\n",
    "rows = len(sample_cv_wavs)\n",
    "columns = len(categories_to_predict)\n",
    "dimensions = (rows, columns)\n",
    "print(\"Target dimensions: {}\".format(dimensions))\n",
    "\n",
    "# get the y\n",
    "cv_y = utils.get_y(sample_cv_wavs, 15, categories_to_predict)\n",
    "print(\"Received shape: {}\".format(cv_y.shape))"
   ]
  },
  {
   "cell_type": "markdown",
   "metadata": {},
   "source": [
    "Repeat for **Test set**."
   ]
  },
  {
   "cell_type": "code",
   "execution_count": 15,
   "metadata": {},
   "outputs": [
    {
     "name": "stdout",
     "output_type": "stream",
     "text": [
      "Target dimensions: (60, 12)\n",
      "Received shape: (60, 12)\n"
     ]
    }
   ],
   "source": [
    "# figure out the dimensions\n",
    "rows = len(sample_test_wavs)\n",
    "columns = len(categories_to_predict)\n",
    "dimensions = (rows, columns)\n",
    "print(\"Target dimensions: {}\".format(dimensions))\n",
    "\n",
    "# get the y\n",
    "test_y = utils.get_y(sample_test_wavs, 17, categories_to_predict)\n",
    "print(\"Received shape: {}\".format(test_y.shape))"
   ]
  },
  {
   "cell_type": "code",
   "execution_count": 16,
   "metadata": {},
   "outputs": [
    {
     "data": {
      "text/plain": [
       "array([1., 0., 0., 0., 0., 0., 0., 0., 0., 0., 0., 0.])"
      ]
     },
     "execution_count": 16,
     "metadata": {},
     "output_type": "execute_result"
    }
   ],
   "source": [
    "test_y[0]"
   ]
  },
  {
   "cell_type": "markdown",
   "metadata": {},
   "source": [
    "### Get the X\n",
    "We have the y - the one-hot encoded vectors representing the category for each training, cv and test example in the sample set. We need the feature vectors, conventionally referred to as X. We will use both the simplest way of extracting the .wav data and the preprocessing techniques - MFCCs, Mel spectrogram, FFT and tempogram.\n",
    "\n",
    "Let's start by defining a simple helper function for just the raw .wav data. Since our samples are of slightly differing lengths but each row of our X always has to have the same length, we will **add padding by default.**"
   ]
  },
  {
   "cell_type": "code",
   "execution_count": 17,
   "metadata": {},
   "outputs": [
    {
     "data": {
      "text/plain": [
       "16000"
      ]
     },
     "execution_count": 17,
     "metadata": {},
     "output_type": "execute_result"
    }
   ],
   "source": [
    "# get the desired number of columns (n)\n",
    "n = len(utils.get_wav_info(path_to_wav)[1])\n",
    "n"
   ]
  },
  {
   "cell_type": "markdown",
   "metadata": {},
   "source": [
    "#### Raw .wav data"
   ]
  },
  {
   "cell_type": "code",
   "execution_count": 18,
   "metadata": {},
   "outputs": [],
   "source": [
    "# define a simple helper function\n",
    "def get_X_with_padding(list_of_paths, columns=16000):\n",
    "    \n",
    "    # get shape data\n",
    "    rows = len(list_of_paths)\n",
    "    dimensions = (rows, columns)\n",
    "    \n",
    "    # create placeholder\n",
    "    X = np.array([])\n",
    "    \n",
    "    # go through every file path in the list\n",
    "    for path_to_wav in list_of_paths:\n",
    "\n",
    "        # get raw array of signed ints\n",
    "        row = utils.get_wav_info(path_to_wav)[1]\n",
    "        \n",
    "        # some of our sample have less (or slightly more) than 16000 values, so let's adjust them\n",
    "        # trim to fixed length\n",
    "        row = row[:columns]\n",
    "        \n",
    "        # pad with zeros, calculating amount of padding needed\n",
    "        padding = columns - len(row)\n",
    "        row = np.pad(row, (0, padding), mode='constant', constant_values=0)\n",
    "\n",
    "        # append the new row\n",
    "        X = np.append(X, row)\n",
    "    \n",
    "    # reshape (unroll)\n",
    "    X = np.reshape(X, dimensions)\n",
    "    \n",
    "    return X"
   ]
  },
  {
   "cell_type": "code",
   "execution_count": 19,
   "metadata": {},
   "outputs": [
    {
     "name": "stdout",
     "output_type": "stream",
     "text": [
      "Train:  (240, 16000)\n",
      "CV:  (60, 16000)\n",
      "Test:  (60, 16000)\n"
     ]
    }
   ],
   "source": [
    "# get the X for each set\n",
    "train_X = utils.get_X(sample_train_wavs, n)\n",
    "cv_X = utils.get_X(sample_cv_wavs, n)\n",
    "test_X = utils.get_X(sample_test_wavs, n)\n",
    "\n",
    "print(\"Train: \", train_X.shape)\n",
    "print(\"CV: \", cv_X.shape)\n",
    "print(\"Test: \",test_X.shape)"
   ]
  },
  {
   "cell_type": "code",
   "execution_count": 20,
   "metadata": {},
   "outputs": [
    {
     "data": {
      "text/plain": [
       "array([-11., -21., -25., -42., -33.])"
      ]
     },
     "execution_count": 20,
     "metadata": {},
     "output_type": "execute_result"
    }
   ],
   "source": [
    "train_X[0][:5]"
   ]
  },
  {
   "cell_type": "markdown",
   "metadata": {},
   "source": [
    "#### MFCCs"
   ]
  },
  {
   "cell_type": "markdown",
   "metadata": {},
   "source": [
    "We can also do the same for the MFCCs. We have a choice of whether or not we want to get returned only the mean value (1D) for the MFCCs. For now let's obtain both the 1D (mean) and 2D version."
   ]
  },
  {
   "cell_type": "code",
   "execution_count": 21,
   "metadata": {},
   "outputs": [],
   "source": [
    "# let's start with a reasonable number of mfccs to return\n",
    "n_mfcc = 100"
   ]
  },
  {
   "cell_type": "code",
   "execution_count": 22,
   "metadata": {
    "scrolled": true
   },
   "outputs": [
    {
     "name": "stdout",
     "output_type": "stream",
     "text": [
      "Train mfccs:  (240, 100)\n",
      "CV mfccs:  (60, 100)\n",
      "Test mfccs:  (60, 100)\n"
     ]
    }
   ],
   "source": [
    "train_X_mfccs_1D = utils.get_X_mfccs(sample_train_wavs, shape=(n_mfcc, 32), mean=True)\n",
    "cv_X_mfccs_1D = utils.get_X_mfccs(sample_cv_wavs, shape=(n_mfcc, 32), mean=True)\n",
    "test_X_mfccs_1D = utils.get_X_mfccs(sample_test_wavs, shape=(n_mfcc, 32), mean=True)\n",
    "\n",
    "print(\"Train mfccs: \", train_X_mfccs_1D.shape)\n",
    "print(\"CV mfccs: \", cv_X_mfccs_1D.shape)\n",
    "print(\"Test mfccs: \",test_X_mfccs_1D.shape)"
   ]
  },
  {
   "cell_type": "code",
   "execution_count": 23,
   "metadata": {
    "scrolled": true
   },
   "outputs": [
    {
     "data": {
      "text/plain": [
       "array([-445.35308297,   31.80853315,   -3.24210645,   18.580648  ,\n",
       "          0.94357346])"
      ]
     },
     "execution_count": 23,
     "metadata": {},
     "output_type": "execute_result"
    }
   ],
   "source": [
    "train_X_mfccs_1D[0][:5]"
   ]
  },
  {
   "cell_type": "markdown",
   "metadata": {},
   "source": [
    "And now for the 2-dim output."
   ]
  },
  {
   "cell_type": "code",
   "execution_count": 24,
   "metadata": {
    "scrolled": true
   },
   "outputs": [
    {
     "name": "stdout",
     "output_type": "stream",
     "text": [
      "Train mfccs:  (240, 100, 32)\n",
      "CV mfccs:  (60, 100, 32)\n",
      "Test mfccs:  (60, 100, 32)\n"
     ]
    }
   ],
   "source": [
    "train_X_mfccs_2D = utils.get_X_mfccs(sample_train_wavs, shape=(n_mfcc, 32), mean=False)\n",
    "cv_X_mfccs_2D = utils.get_X_mfccs(sample_cv_wavs, shape=(n_mfcc, 32), mean=False)\n",
    "test_X_mfccs_2D = utils.get_X_mfccs(sample_test_wavs, shape=(n_mfcc, 32), mean=False)\n",
    "\n",
    "print(\"Train mfccs: \", train_X_mfccs_2D.shape)\n",
    "print(\"CV mfccs: \", cv_X_mfccs_2D.shape)\n",
    "print(\"Test mfccs: \",test_X_mfccs_2D.shape)"
   ]
  },
  {
   "cell_type": "code",
   "execution_count": 25,
   "metadata": {
    "scrolled": true
   },
   "outputs": [
    {
     "data": {
      "text/plain": [
       "array([-576.51036871, -570.90724179, -544.55853427, -553.88026846,\n",
       "       -578.52544577])"
      ]
     },
     "execution_count": 25,
     "metadata": {},
     "output_type": "execute_result"
    }
   ],
   "source": [
    "train_X_mfccs_2D[0][0][:5]"
   ]
  },
  {
   "cell_type": "markdown",
   "metadata": {},
   "source": [
    "#### Mel spectrogam"
   ]
  },
  {
   "cell_type": "markdown",
   "metadata": {},
   "source": [
    "In case of Mel spectrograms we expect to get a matrix from a vector, therefore our final X will be 3 dimensional."
   ]
  },
  {
   "cell_type": "code",
   "execution_count": 26,
   "metadata": {},
   "outputs": [
    {
     "name": "stdout",
     "output_type": "stream",
     "text": [
      "Raw data shape: (16000,)\n",
      "Mel spectrogram shape: (128, 32)\n"
     ]
    }
   ],
   "source": [
    "# let's see the difference in dimensions\n",
    "sr, raw_data = utils.get_wav_info(path_to_wav)\n",
    "print(\"Raw data shape: {}\".format(raw_data.shape))\n",
    "x = librosa.feature.melspectrogram(raw_data, sr)\n",
    "print(\"Mel spectrogram shape: {}\".format(x.shape))"
   ]
  },
  {
   "cell_type": "code",
   "execution_count": 27,
   "metadata": {},
   "outputs": [],
   "source": [
    "# here's the function we'll use (via utils.py)\n",
    "def get_X_mel_spectrogram(list_of_paths, shape=(128, 32)):\n",
    "\n",
    "    # get shape data\n",
    "    rows = len(list_of_paths)\n",
    "\n",
    "    # create placeholder\n",
    "    result = np.array([])\n",
    "\n",
    "    # go through every file path in the list\n",
    "    for path_to_wav in list_of_paths:\n",
    "        \n",
    "        # get raw array of signed ints\n",
    "        sr, raw_data = utils.get_wav_info(path_to_wav)\n",
    "        mel_spectrogram = librosa.feature.melspectrogram(raw_data, sr)\n",
    "\n",
    "        # some of our samples have less (or slightly more) than the expected amount of values,\n",
    "        # so let's adjust them\n",
    "        placeholder = np.array([])\n",
    "        for row in mel_spectrogram:\n",
    "            \n",
    "            # trim to fixed length\n",
    "            row = row[:shape[1]]\n",
    "\n",
    "            # pad with zeros, calculating amount of padding needed\n",
    "            padding = shape[1] - len(row)\n",
    "            row = np.pad(row, (0, padding), mode='constant', constant_values=0)\n",
    "\n",
    "            # append the new row\n",
    "            placeholder = np.append(placeholder, row)\n",
    "        \n",
    "        # append the new unrolled matrix to the final result array\n",
    "        result = np.append(result, placeholder)\n",
    "    \n",
    "    # reshape into a 3-dim matrix\n",
    "    result = np.reshape(result, (len(list_of_paths), shape[0], shape[1]))\n",
    "    \n",
    "    return result"
   ]
  },
  {
   "cell_type": "markdown",
   "metadata": {},
   "source": [
    "Let's obtain the Mel spectrograms for all sample sets."
   ]
  },
  {
   "cell_type": "code",
   "execution_count": 28,
   "metadata": {},
   "outputs": [
    {
     "name": "stdout",
     "output_type": "stream",
     "text": [
      "Train mel spectrogram:  (240, 128, 32)\n",
      "CV mel spectrogram:  (60, 128, 32)\n",
      "Test mel spectrogram:  (60, 128, 32)\n"
     ]
    }
   ],
   "source": [
    "train_X_mel_spectrogram = utils.get_X_mel_spectrogram(sample_train_wavs)\n",
    "cv_X_mel_spectrogram = utils.get_X_mel_spectrogram(sample_cv_wavs)\n",
    "test_X_mel_spectrogram = utils.get_X_mel_spectrogram(sample_test_wavs)\n",
    "\n",
    "print(\"Train mel spectrogram: \", train_X_mel_spectrogram.shape)\n",
    "print(\"CV mel spectrogram: \", cv_X_mel_spectrogram.shape)\n",
    "print(\"Test mel spectrogram: \",test_X_mel_spectrogram.shape)"
   ]
  },
  {
   "cell_type": "code",
   "execution_count": 29,
   "metadata": {},
   "outputs": [
    {
     "data": {
      "text/plain": [
       "array([1457703.31342286,  427352.21837965,  201594.17632909,\n",
       "        238226.53307341,   65491.03447233,  178705.29710062,\n",
       "        412570.67348324,  378435.94871593,  258376.05295182,\n",
       "        187066.96734191,  239451.9017311 ,   56142.51095658,\n",
       "         42836.42147842,  139791.55001964,  102884.20436902,\n",
       "        167352.41037348,  321818.54914338,  559749.40569307,\n",
       "        989871.95717842,  918093.81247816, 1827327.90723131,\n",
       "       1677686.13316353,  673552.71678095,  419856.38671465,\n",
       "        384360.98528384,  454044.27309286,  670187.30942213,\n",
       "        427213.30004477,  395041.75416788,  548740.11881148,\n",
       "        294776.165019  ,  336066.61377942])"
      ]
     },
     "execution_count": 29,
     "metadata": {},
     "output_type": "execute_result"
    }
   ],
   "source": [
    "# each row is a 2D matrix (hence double-indexing)\n",
    "train_X_mel_spectrogram[0][0]"
   ]
  },
  {
   "cell_type": "markdown",
   "metadata": {},
   "source": [
    "#### FFT (Fast Fourier Transform)"
   ]
  },
  {
   "cell_type": "markdown",
   "metadata": {},
   "source": [
    "Let's obtain the FFT of our raw data too. For simplicity the utils.get_X_fft() function casts the complex numbers to the numpy float64."
   ]
  },
  {
   "cell_type": "code",
   "execution_count": 30,
   "metadata": {},
   "outputs": [
    {
     "data": {
      "text/plain": [
       "(16000,)"
      ]
     },
     "execution_count": 30,
     "metadata": {},
     "output_type": "execute_result"
    }
   ],
   "source": [
    "# here the shapes are the same\n",
    "x = utils.extract_fft(path_to_wav)\n",
    "x.shape"
   ]
  },
  {
   "cell_type": "code",
   "execution_count": 31,
   "metadata": {},
   "outputs": [
    {
     "name": "stdout",
     "output_type": "stream",
     "text": [
      "Train fft:  (240, 16000)\n",
      "CV fft:  (60, 16000)\n",
      "Test fft:  (60, 16000)\n"
     ]
    }
   ],
   "source": [
    "train_X_fft = utils.get_X_fft(sample_train_wavs)\n",
    "cv_X_fft = utils.get_X_fft(sample_cv_wavs)\n",
    "test_X_fft = utils.get_X_fft(sample_test_wavs)\n",
    "\n",
    "print(\"Train fft: \", train_X_fft.shape)\n",
    "print(\"CV fft: \", cv_X_fft.shape)\n",
    "print(\"Test fft: \",test_X_fft.shape)"
   ]
  },
  {
   "cell_type": "code",
   "execution_count": 32,
   "metadata": {
    "scrolled": true
   },
   "outputs": [
    {
     "name": "stdout",
     "output_type": "stream",
     "text": [
      "<class 'numpy.float64'>\n"
     ]
    },
    {
     "data": {
      "text/plain": [
       "array([-11519.1640625 ,   -783.21451673,  -2758.71579679,   4396.02183472,\n",
       "         3284.95650186])"
      ]
     },
     "execution_count": 32,
     "metadata": {},
     "output_type": "execute_result"
    }
   ],
   "source": [
    "# no longer complex numbers\n",
    "print(type(test_X_fft[0][0]))\n",
    "test_X_fft[0][:5]"
   ]
  },
  {
   "cell_type": "markdown",
   "metadata": {},
   "source": [
    "#### Tempogram"
   ]
  },
  {
   "cell_type": "markdown",
   "metadata": {},
   "source": [
    "With tempogram we have to do some reshaping to get a 3D matrix, just like with Mel spectrograms. We will also have to do a little bit of padding and trimming, to account for small differences in the length of the original sample."
   ]
  },
  {
   "cell_type": "code",
   "execution_count": 33,
   "metadata": {},
   "outputs": [
    {
     "name": "stdout",
     "output_type": "stream",
     "text": [
      "Tempogram: (384, 32)\n"
     ]
    }
   ],
   "source": [
    "# let's see the difference in dimensions\n",
    "x = utils.extract_tempogram(path_to_wav)\n",
    "print(\"Tempogram: {}\".format(x.shape))"
   ]
  },
  {
   "cell_type": "code",
   "execution_count": 34,
   "metadata": {},
   "outputs": [
    {
     "name": "stdout",
     "output_type": "stream",
     "text": [
      "Train tempogram:  (240, 384, 32)\n",
      "CV tempogram:  (60, 384, 32)\n",
      "Test tempogram:  (60, 384, 32)\n"
     ]
    }
   ],
   "source": [
    "train_X_tempogram = utils.get_X_tempogram(sample_train_wavs)\n",
    "cv_X_tempogram = utils.get_X_tempogram(sample_cv_wavs)\n",
    "test_X_tempogram = utils.get_X_tempogram(sample_test_wavs)\n",
    "\n",
    "print(\"Train tempogram: \", train_X_tempogram.shape)\n",
    "print(\"CV tempogram: \", cv_X_tempogram.shape)\n",
    "print(\"Test tempogram: \",test_X_tempogram.shape)"
   ]
  },
  {
   "cell_type": "code",
   "execution_count": 35,
   "metadata": {},
   "outputs": [
    {
     "data": {
      "text/plain": [
       "array([0.1764312 , 0.17643258, 0.17643404, 0.17643558, 0.17643721,\n",
       "       0.17643893, 0.17644072, 0.1764426 , 0.17644456, 0.17644661,\n",
       "       0.17644875, 0.17645096, 0.17645327, 0.17645565, 0.17645813,\n",
       "       0.17646069, 0.17646334, 0.17646607, 0.1764689 , 0.17647181,\n",
       "       0.17647481, 0.1764779 , 0.17648109, 0.17648437, 0.17648774,\n",
       "       0.1764912 , 0.17649476, 0.17649842, 0.17650217, 0.17650602,\n",
       "       0.17650997, 0.17651403])"
      ]
     },
     "execution_count": 35,
     "metadata": {},
     "output_type": "execute_result"
    }
   ],
   "source": [
    "# each row is a 2D matrix (hence double-indexing)\n",
    "train_X_tempogram[0][5]"
   ]
  },
  {
   "cell_type": "markdown",
   "metadata": {},
   "source": [
    "## Persist the preprocessed X and y\n",
    "It's good practice to persist your preprocessed datasets so that we don't have to recalculate all of the preprocessing (which in large datasets can be time-consuming). \n",
    "\n",
    "A great library for this purpose is the bcolz library (for binary columns)."
   ]
  },
  {
   "cell_type": "code",
   "execution_count": 5,
   "metadata": {},
   "outputs": [],
   "source": [
    "# define the bcolz array saving functions\n",
    "def bcolz_save(fname, arr): c=bcolz.carray(arr, rootdir=fname, mode='w'); c.flush()\n",
    "def bcolz_load(fname): return bcolz.open(fname)[:]"
   ]
  },
  {
   "cell_type": "code",
   "execution_count": 6,
   "metadata": {},
   "outputs": [
    {
     "name": "stdout",
     "output_type": "stream",
     "text": [
      "/home/paperspace/tensorflow_speech_recognition\r\n"
     ]
    }
   ],
   "source": [
    "!pwd"
   ]
  },
  {
   "cell_type": "code",
   "execution_count": 7,
   "metadata": {},
   "outputs": [
    {
     "data": {
      "text/plain": [
       "'data/sample/preprocessed'"
      ]
     },
     "execution_count": 7,
     "metadata": {},
     "output_type": "execute_result"
    }
   ],
   "source": [
    "path_to_sample_preprocessed = os.path.join(path_to_sample, \"preprocessed\")\n",
    "path_to_sample_preprocessed"
   ]
  },
  {
   "cell_type": "code",
   "execution_count": 8,
   "metadata": {},
   "outputs": [],
   "source": [
    "# create the directory if it's not there already\n",
    "# !mkdir $path_to_sample_preprocessed"
   ]
  },
  {
   "cell_type": "markdown",
   "metadata": {},
   "source": [
    "#### Persist the y"
   ]
  },
  {
   "cell_type": "code",
   "execution_count": null,
   "metadata": {},
   "outputs": [],
   "source": [
    "# save the y\n",
    "bcolz_save(path_to_sample_preprocessed + os.path.sep + \"train_y\" + \".bc\", train_y)\n",
    "bcolz_save(path_to_sample_preprocessed + os.path.sep + \"cv_y\" + \".bc\", cv_y)\n",
    "bcolz_save(path_to_sample_preprocessed + os.path.sep + \"test_y\" + \".bc\", test_y)"
   ]
  },
  {
   "cell_type": "markdown",
   "metadata": {},
   "source": [
    "#### Persist the X"
   ]
  },
  {
   "cell_type": "code",
   "execution_count": 41,
   "metadata": {},
   "outputs": [],
   "source": [
    "# save the X\n",
    "# raw data\n",
    "bcolz_save(path_to_sample_preprocessed + os.path.sep + \"train_X\" + \".bc\", train_X)\n",
    "bcolz_save(path_to_sample_preprocessed + os.path.sep + \"cv_X\" + \".bc\", cv_X)\n",
    "bcolz_save(path_to_sample_preprocessed + os.path.sep + \"test_X\" + \".bc\", test_X)"
   ]
  },
  {
   "cell_type": "code",
   "execution_count": 42,
   "metadata": {},
   "outputs": [],
   "source": [
    "# MFCCs (1dim and 2dim)\n",
    "bcolz_save(path_to_sample_preprocessed + os.path.sep + \"train_X_mfccs_1D\" + \".bc\", train_X_mfccs_1D)\n",
    "bcolz_save(path_to_sample_preprocessed + os.path.sep + \"cv_X_mfccs_1D\" + \".bc\", cv_X_mfccs_1D)\n",
    "bcolz_save(path_to_sample_preprocessed + os.path.sep + \"test_X_mfccs_1D\" + \".bc\", test_X_mfccs_1D)\n",
    "\n",
    "bcolz_save(path_to_sample_preprocessed + os.path.sep + \"train_X_mfccs_2D\" + \".bc\", train_X_mfccs_2D)\n",
    "bcolz_save(path_to_sample_preprocessed + os.path.sep + \"cv_X_mfccs_2D\" + \".bc\", cv_X_mfccs_2D)\n",
    "bcolz_save(path_to_sample_preprocessed + os.path.sep + \"test_X_mfccs_2D\" + \".bc\", test_X_mfccs_2D)"
   ]
  },
  {
   "cell_type": "code",
   "execution_count": 43,
   "metadata": {},
   "outputs": [],
   "source": [
    "# Mel spectrogram\n",
    "bcolz_save(path_to_sample_preprocessed + os.path.sep + \"train_X_mel_spectrogram\" + \".bc\", train_X_mel_spectrogram)\n",
    "bcolz_save(path_to_sample_preprocessed + os.path.sep + \"cv_X_mel_spectrogram\" + \".bc\", cv_X_mel_spectrogram)\n",
    "bcolz_save(path_to_sample_preprocessed + os.path.sep + \"test_X_mel_spectrogram\" + \".bc\", test_X_mel_spectrogram)"
   ]
  },
  {
   "cell_type": "code",
   "execution_count": 44,
   "metadata": {},
   "outputs": [],
   "source": [
    "# FFT\n",
    "bcolz_save(path_to_sample_preprocessed + os.path.sep + \"train_X_fft\" + \".bc\", train_X_fft)\n",
    "bcolz_save(path_to_sample_preprocessed + os.path.sep + \"cv_X_fft\" + \".bc\", cv_X_fft)\n",
    "bcolz_save(path_to_sample_preprocessed + os.path.sep + \"test_X_fft\" + \".bc\", test_X_fft)"
   ]
  },
  {
   "cell_type": "code",
   "execution_count": 45,
   "metadata": {},
   "outputs": [],
   "source": [
    "# Tempogram\n",
    "bcolz_save(path_to_sample_preprocessed + os.path.sep + \"train_X_tempogram\" + \".bc\", train_X_tempogram)\n",
    "bcolz_save(path_to_sample_preprocessed + os.path.sep + \"cv_X_tempogram\" + \".bc\", cv_X_tempogram)\n",
    "bcolz_save(path_to_sample_preprocessed + os.path.sep + \"test_X_tempogram\" + \".bc\", test_X_tempogram)"
   ]
  },
  {
   "cell_type": "markdown",
   "metadata": {},
   "source": [
    "## Reload the preprocessed X and y\n",
    "In order not to have to re-run the entire notebook to obtain the preprocessed X and the corresponding y matrices, let's reload them and then proceed to train simple models.\n",
    "\n",
    "If you're reloading the X & y after restarting the notebook you will also have to run the cells that define the bcolz functions and the path names."
   ]
  },
  {
   "cell_type": "markdown",
   "metadata": {},
   "source": [
    "#### Reload the y"
   ]
  },
  {
   "cell_type": "code",
   "execution_count": 8,
   "metadata": {},
   "outputs": [],
   "source": [
    "# load the y\n",
    "train_y = bcolz_load(path_to_sample_preprocessed + os.path.sep + \"train_y\" + \".bc\")\n",
    "cv_y = bcolz_load(path_to_sample_preprocessed + os.path.sep + \"cv_y\" + \".bc\")\n",
    "test_y = bcolz_load(path_to_sample_preprocessed + os.path.sep + \"test_y\" + \".bc\")"
   ]
  },
  {
   "cell_type": "code",
   "execution_count": 9,
   "metadata": {},
   "outputs": [
    {
     "data": {
      "text/plain": [
       "(240, 12)"
      ]
     },
     "execution_count": 9,
     "metadata": {},
     "output_type": "execute_result"
    }
   ],
   "source": [
    "train_y.shape"
   ]
  },
  {
   "cell_type": "markdown",
   "metadata": {},
   "source": [
    "#### Reload the X"
   ]
  },
  {
   "cell_type": "code",
   "execution_count": 10,
   "metadata": {},
   "outputs": [
    {
     "data": {
      "text/plain": [
       "(240, 16000)"
      ]
     },
     "execution_count": 10,
     "metadata": {},
     "output_type": "execute_result"
    }
   ],
   "source": [
    "# load the X\n",
    "# raw data\n",
    "train_X = bcolz_load(path_to_sample_preprocessed + os.path.sep + \"train_X\" + \".bc\")\n",
    "cv_X = bcolz_load(path_to_sample_preprocessed + os.path.sep + \"cv_X\" + \".bc\")\n",
    "test_X = bcolz_load(path_to_sample_preprocessed + os.path.sep + \"test_X\" + \".bc\")\n",
    "train_X.shape"
   ]
  },
  {
   "cell_type": "code",
   "execution_count": 11,
   "metadata": {},
   "outputs": [
    {
     "name": "stdout",
     "output_type": "stream",
     "text": [
      "(240, 100)\n",
      "(240, 100, 32)\n"
     ]
    }
   ],
   "source": [
    "# MFCCs (1D and 2D)\n",
    "train_X_mfccs_1D = bcolz_load(path_to_sample_preprocessed + os.path.sep + \"train_X_mfccs_1D\" + \".bc\")\n",
    "cv_X_mfccs_1D = bcolz_load(path_to_sample_preprocessed + os.path.sep + \"cv_X_mfccs_1D\" + \".bc\")\n",
    "test_X_mfccs_1D = bcolz_load(path_to_sample_preprocessed + os.path.sep + \"test_X_mfccs_1D\" + \".bc\")\n",
    "print(train_X_mfccs_1D.shape)\n",
    "\n",
    "train_X_mfccs_2D = bcolz_load(path_to_sample_preprocessed + os.path.sep + \"train_X_mfccs_2D\" + \".bc\")\n",
    "cv_X_mfccs_2D = bcolz_load(path_to_sample_preprocessed + os.path.sep + \"cv_X_mfccs_2D\" + \".bc\")\n",
    "test_X_mfccs_2D = bcolz_load(path_to_sample_preprocessed + os.path.sep + \"test_X_mfccs_2D\" + \".bc\")\n",
    "print(train_X_mfccs_2D.shape)"
   ]
  },
  {
   "cell_type": "code",
   "execution_count": 12,
   "metadata": {},
   "outputs": [
    {
     "data": {
      "text/plain": [
       "(240, 128, 32)"
      ]
     },
     "execution_count": 12,
     "metadata": {},
     "output_type": "execute_result"
    }
   ],
   "source": [
    "# Mel spectrogram\n",
    "train_X_mel_spectrogram = bcolz_load(path_to_sample_preprocessed + os.path.sep + \"train_X_mel_spectrogram\" + \".bc\")\n",
    "cv_X_mel_spectrogram = bcolz_load(path_to_sample_preprocessed + os.path.sep + \"cv_X_mel_spectrogram\" + \".bc\")\n",
    "test_X_mel_spectrogram = bcolz_load(path_to_sample_preprocessed + os.path.sep + \"test_X_mel_spectrogram\" + \".bc\")\n",
    "train_X_mel_spectrogram.shape"
   ]
  },
  {
   "cell_type": "code",
   "execution_count": 13,
   "metadata": {},
   "outputs": [
    {
     "data": {
      "text/plain": [
       "(240, 16000)"
      ]
     },
     "execution_count": 13,
     "metadata": {},
     "output_type": "execute_result"
    }
   ],
   "source": [
    "# FFT\n",
    "train_X_fft = bcolz_load(path_to_sample_preprocessed + os.path.sep + \"train_X_fft\" + \".bc\")\n",
    "cv_X_fft = bcolz_load(path_to_sample_preprocessed + os.path.sep + \"cv_X_fft\" + \".bc\")\n",
    "test_X_fft = bcolz_load(path_to_sample_preprocessed + os.path.sep + \"test_X_fft\" + \".bc\")\n",
    "train_X_fft.shape"
   ]
  },
  {
   "cell_type": "code",
   "execution_count": 14,
   "metadata": {},
   "outputs": [
    {
     "data": {
      "text/plain": [
       "(240, 384, 32)"
      ]
     },
     "execution_count": 14,
     "metadata": {},
     "output_type": "execute_result"
    }
   ],
   "source": [
    "# Tempogram\n",
    "train_X_tempogram = bcolz_load(path_to_sample_preprocessed + os.path.sep + \"train_X_tempogram\" + \".bc\")\n",
    "cv_X_tempogram = bcolz_load(path_to_sample_preprocessed + os.path.sep + \"cv_X_tempogram\" + \".bc\")\n",
    "test_X_tempogram = bcolz_load(path_to_sample_preprocessed + os.path.sep + \"test_X_tempogram\" + \".bc\")\n",
    "train_X_tempogram.shape"
   ]
  },
  {
   "cell_type": "markdown",
   "metadata": {},
   "source": [
    "## Train simple models\n",
    "We will start by training the simplest models and then try out more and more complex architectures, aiming for the highest possible accuracy and F1 score.\n",
    "\n",
    "The simplest model we can try is a linear model, which we can obtain by using the Keras Dense layer followed by an activation function such as softmax (as in our case categories are mutually exclusive).\n",
    "\n",
    "Since we have 12 mutually exclusive categories, we need to get an **accuracy of more than 0.833%** to beat random guessing."
   ]
  },
  {
   "cell_type": "markdown",
   "metadata": {},
   "source": [
    "#### Linear Model\n",
    "We'll need to keep track of the dimensions that we pass into our models, so lets assign their values to separate variables."
   ]
  },
  {
   "cell_type": "code",
   "execution_count": 11,
   "metadata": {},
   "outputs": [
    {
     "name": "stdout",
     "output_type": "stream",
     "text": [
      "Input features: 16000\n",
      "Categories to predict: 12\n"
     ]
    }
   ],
   "source": [
    "# we'll need the number of parameters and the output categories\n",
    "num_features = train_X.shape[1]\n",
    "num_categories = train_y.shape[1]\n",
    "print(\"Input features: {}\\nCategories to predict: {}\".format(num_features, num_categories))"
   ]
  },
  {
   "cell_type": "code",
   "execution_count": 48,
   "metadata": {},
   "outputs": [],
   "source": [
    "# design & compile the model\n",
    "linear_model = Sequential([\n",
    "    Dense(input_shape=(num_features,), units = num_categories, activation=\"softmax\")\n",
    "])\n",
    "\n",
    "# we choose the Adam optimizer with a specific learning rate\n",
    "linear_model.compile(Adam(lr=0.001),loss=\"categorical_crossentropy\", metrics=[\"accuracy\"])"
   ]
  },
  {
   "cell_type": "code",
   "execution_count": 49,
   "metadata": {},
   "outputs": [
    {
     "name": "stdout",
     "output_type": "stream",
     "text": [
      "Based on random weights initialization (values will change everytime you compile the model)\n",
      "Categorical crossentropy (loss): 15.0436\n",
      "Accuracy: 0.07\n"
     ]
    }
   ],
   "source": [
    "# let's evaluate our loss before fitting the model\n",
    "initial_score = linear_model.evaluate(test_X, test_y, verbose=0)\n",
    "categorical_crossentropy = initial_score[0]\n",
    "accuracy = initial_score[1]\n",
    "\n",
    "print(\"Based on random weights initialization (values will change everytime you compile the model)\\nCategorical crossentropy (loss): {:.4f}\\nAccuracy: {:.2f}\".format(categorical_crossentropy, accuracy))"
   ]
  },
  {
   "cell_type": "markdown",
   "metadata": {},
   "source": [
    "Let's fit our simple linear model for a couple of epochs and see the **F1 score** and **accuracy**."
   ]
  },
  {
   "cell_type": "code",
   "execution_count": 50,
   "metadata": {},
   "outputs": [
    {
     "name": "stdout",
     "output_type": "stream",
     "text": [
      "Train on 240 samples, validate on 60 samples\n",
      "Epoch 1/5\n",
      "240/240 [==============================] - 0s - loss: 14.8369 - acc: 0.0792 - val_loss: 15.0436 - val_acc: 0.0667\n",
      "Epoch 2/5\n",
      "240/240 [==============================] - 0s - loss: 14.9092 - acc: 0.0750 - val_loss: 15.0436 - val_acc: 0.0667\n",
      "Epoch 3/5\n",
      "240/240 [==============================] - 0s - loss: 14.8421 - acc: 0.0792 - val_loss: 15.0436 - val_acc: 0.0667\n",
      "Epoch 4/5\n",
      "240/240 [==============================] - 0s - loss: 14.7749 - acc: 0.0833 - val_loss: 15.0436 - val_acc: 0.0667\n",
      "Epoch 5/5\n",
      "240/240 [==============================] - 0s - loss: 14.7749 - acc: 0.0833 - val_loss: 15.0436 - val_acc: 0.0667\n"
     ]
    }
   ],
   "source": [
    "# we pass our training data and our cross-validation data to see if we're not overfitting\n",
    "history = linear_model.fit(train_X, train_y, batch_size=32, epochs=5, validation_data=(cv_X, cv_y))"
   ]
  },
  {
   "cell_type": "code",
   "execution_count": 51,
   "metadata": {},
   "outputs": [
    {
     "name": "stdout",
     "output_type": "stream",
     "text": [
      "Best scores\n",
      "Train acc: 0.0833\n",
      "CV acc: 0.0667\n"
     ]
    }
   ],
   "source": [
    "# show latest results\n",
    "best_training_accuracy = max(history.history[\"acc\"])\n",
    "best_validation_accuracy = max(history.history[\"val_acc\"])\n",
    "print(\"Best scores\\nTrain acc: {:.4f}\\nCV acc: {:.4f}\".format(best_training_accuracy, best_validation_accuracy))"
   ]
  },
  {
   "cell_type": "markdown",
   "metadata": {},
   "source": [
    "Depending on the random initialization of weights we should have an **accuracy** score within 0.05 and 0.15 on both the training and cross-validation set. Let's also calculate the **F1 score**."
   ]
  },
  {
   "cell_type": "code",
   "execution_count": 52,
   "metadata": {},
   "outputs": [],
   "source": [
    "# first use the model to predict the labels\n",
    "pred_cv_y = linear_model.predict(cv_X, batch_size=32)"
   ]
  },
  {
   "cell_type": "code",
   "execution_count": 53,
   "metadata": {},
   "outputs": [
    {
     "data": {
      "text/plain": [
       "(60, 12)"
      ]
     },
     "execution_count": 53,
     "metadata": {},
     "output_type": "execute_result"
    }
   ],
   "source": [
    "pred_cv_y.shape"
   ]
  },
  {
   "cell_type": "code",
   "execution_count": 54,
   "metadata": {},
   "outputs": [
    {
     "data": {
      "text/plain": [
       "(60, 12)"
      ]
     },
     "execution_count": 54,
     "metadata": {},
     "output_type": "execute_result"
    }
   ],
   "source": [
    "# check if shape matches expectation (number of examples, number of categories to predict)\n",
    "pred_cv_y.shape"
   ]
  },
  {
   "cell_type": "code",
   "execution_count": 61,
   "metadata": {},
   "outputs": [
    {
     "data": {
      "text/plain": [
       "array([[0., 0., 0., 0., 0., 0., 1., 0., 0., 0., 0., 0.],\n",
       "       [0., 0., 0., 0., 0., 0., 0., 0., 0., 0., 0., 1.],\n",
       "       [0., 0., 0., 1., 0., 0., 0., 0., 0., 0., 0., 0.],\n",
       "       [0., 1., 0., 0., 0., 0., 0., 0., 0., 0., 0., 0.],\n",
       "       [0., 0., 0., 0., 0., 0., 0., 0., 0., 0., 0., 1.],\n",
       "       [0., 0., 0., 1., 0., 0., 0., 0., 0., 0., 0., 0.],\n",
       "       [0., 0., 0., 0., 0., 0., 0., 1., 0., 0., 0., 0.],\n",
       "       [0., 0., 0., 0., 0., 0., 0., 1., 0., 0., 0., 0.],\n",
       "       [0., 0., 0., 0., 1., 0., 0., 0., 0., 0., 0., 0.],\n",
       "       [0., 0., 1., 0., 0., 0., 0., 0., 0., 0., 0., 0.]])"
      ]
     },
     "execution_count": 61,
     "metadata": {},
     "output_type": "execute_result"
    }
   ],
   "source": [
    "# we use softmax to get a result towards one-hot encoding, but not all rows will necessarily be just zeroes and one 1\n",
    "pred_cv_y[:10]"
   ]
  },
  {
   "cell_type": "markdown",
   "metadata": {},
   "source": [
    "So before we pass our predictions to the sklearn's f1 score function we need to make sure that all of our rows are actually one-hot encoded."
   ]
  },
  {
   "cell_type": "code",
   "execution_count": 62,
   "metadata": {},
   "outputs": [
    {
     "data": {
      "text/plain": [
       "array([[0., 0., 0., 0., 0., 0., 1., 0., 0., 0., 0., 0.],\n",
       "       [0., 0., 0., 0., 0., 0., 0., 0., 0., 0., 0., 1.],\n",
       "       [0., 0., 0., 1., 0., 0., 0., 0., 0., 0., 0., 0.],\n",
       "       [0., 1., 0., 0., 0., 0., 0., 0., 0., 0., 0., 0.],\n",
       "       [0., 0., 0., 0., 0., 0., 0., 0., 0., 0., 0., 1.],\n",
       "       [0., 0., 0., 1., 0., 0., 0., 0., 0., 0., 0., 0.],\n",
       "       [0., 0., 0., 0., 0., 0., 0., 1., 0., 0., 0., 0.],\n",
       "       [0., 0., 0., 0., 0., 0., 0., 1., 0., 0., 0., 0.],\n",
       "       [0., 0., 0., 0., 1., 0., 0., 0., 0., 0., 0., 0.],\n",
       "       [0., 0., 1., 0., 0., 0., 0., 0., 0., 0., 0., 0.]])"
      ]
     },
     "execution_count": 62,
     "metadata": {},
     "output_type": "execute_result"
    }
   ],
   "source": [
    "pred_cv_y = utils.one_hot_encode(pred_cv_y)\n",
    "pred_cv_y[:10]"
   ]
  },
  {
   "cell_type": "code",
   "execution_count": 63,
   "metadata": {},
   "outputs": [
    {
     "name": "stdout",
     "output_type": "stream",
     "text": [
      "Final linear model CV accuracy via sklearn: 0.0667\n"
     ]
    }
   ],
   "source": [
    "# we can also use sklearn directly to get accuracy\n",
    "sk_cv_accuracy = accuracy_score(cv_y, pred_cv_y)\n",
    "print(\"Final linear model CV accuracy via sklearn: {:.4f}\".format(sk_cv_accuracy))"
   ]
  },
  {
   "cell_type": "code",
   "execution_count": 64,
   "metadata": {},
   "outputs": [
    {
     "name": "stdout",
     "output_type": "stream",
     "text": [
      "Linear model f1 score (CV): 0.0513\n"
     ]
    }
   ],
   "source": [
    "# because we're dealing with a mutliclass classification challenge, we need to change the default value of average\n",
    "# (which is binary)\n",
    "cv_f1_score = f1_score(cv_y, pred_cv_y, average=\"weighted\")\n",
    "print(\"Linear model f1 score (CV): {:.4f}\".format(cv_f1_score))"
   ]
  },
  {
   "cell_type": "markdown",
   "metadata": {},
   "source": [
    "In summary, our accuracy and F1 score for the simplest possible model fall within 0.05 - 0.15. This is our earliest benchmark to beat, and it's **not much better than random guessing**, which given 12 categories would give us an accuracy of 0.08333."
   ]
  },
  {
   "cell_type": "markdown",
   "metadata": {},
   "source": [
    "#### Random Forest\n",
    "It is also useful to try other ML methods before jumping into neural networks and deep learning. Random Forests are a simple but very often quite effective (and computationally inexpensive) method of obtaining a good benchmark.\n",
    "\n",
    "For the sklearn implementation of Random Forest we actually do not want our target to be one-hot encoded."
   ]
  },
  {
   "cell_type": "code",
   "execution_count": 65,
   "metadata": {},
   "outputs": [],
   "source": [
    "# reverse the one-hot encoding\n",
    "rf_train_y = utils.reverse_one_hot_encoding(train_y)\n",
    "rf_cv_y = utils.reverse_one_hot_encoding(cv_y)\n",
    "rf_test_y = utils.reverse_one_hot_encoding(test_y)"
   ]
  },
  {
   "cell_type": "code",
   "execution_count": 66,
   "metadata": {},
   "outputs": [
    {
     "data": {
      "text/plain": [
       "RandomForestClassifier(bootstrap=True, class_weight=None, criterion='gini',\n",
       "            max_depth=20, max_features='auto', max_leaf_nodes=None,\n",
       "            min_impurity_decrease=0.0, min_impurity_split=None,\n",
       "            min_samples_leaf=1, min_samples_split=2,\n",
       "            min_weight_fraction_leaf=0.0, n_estimators=10, n_jobs=1,\n",
       "            oob_score=False, random_state=0, verbose=0, warm_start=False)"
      ]
     },
     "execution_count": 66,
     "metadata": {},
     "output_type": "execute_result"
    }
   ],
   "source": [
    "rand_forest = RandomForestClassifier(max_depth=20, random_state=0)\n",
    "rand_forest.fit(train_X, rf_train_y)"
   ]
  },
  {
   "cell_type": "code",
   "execution_count": 67,
   "metadata": {},
   "outputs": [
    {
     "data": {
      "text/plain": [
       "array([ 4.,  1.,  6.,  8.,  1.,  3.,  4.,  6.,  4.,  1.,  7., 11., 12.,\n",
       "        3.,  1.,  3.,  9.,  2.,  3.,  8.,  9.,  4.,  1.,  4.,  1.,  5.,\n",
       "        2.,  8.,  5.,  6.,  8.,  3.,  3.,  6.,  1.,  1.,  2.,  8.,  1.,\n",
       "        5.,  6.,  3.,  7.,  1.,  6., 10.,  5.,  2.,  9.,  6., 11.,  4.,\n",
       "       11.,  5.,  6.,  2.,  2.,  9.,  4.,  5.])"
      ]
     },
     "execution_count": 67,
     "metadata": {},
     "output_type": "execute_result"
    }
   ],
   "source": [
    "rf_predicted_cv_y = rand_forest.predict(cv_X)\n",
    "rf_predicted_cv_y"
   ]
  },
  {
   "cell_type": "code",
   "execution_count": 68,
   "metadata": {},
   "outputs": [
    {
     "name": "stdout",
     "output_type": "stream",
     "text": [
      "Random forest f1 score (CV): 0.135\n",
      "Random forest accuracy (CV): 0.133\n"
     ]
    }
   ],
   "source": [
    "# calculate accuracy and F1 for Random Forest\n",
    "rf_cv_f1_score = f1_score(rf_cv_y, rf_predicted_cv_y, average=\"weighted\")\n",
    "rf_cv_accuracy = accuracy_score(rf_cv_y, rf_predicted_cv_y)\n",
    "\n",
    "print(\"Random forest f1 score (CV): {:.3f}\".format(rf_cv_f1_score))\n",
    "print(\"Random forest accuracy (CV): {:.3f}\".format(rf_cv_accuracy))"
   ]
  },
  {
   "cell_type": "markdown",
   "metadata": {},
   "source": [
    "For the Random Forest method, using only default parameters (except for max depth), we are getting an **F1 score and accuracy around 0.10 - 0.15**.<br/> Slightly better than random, nowhere near good enough."
   ]
  },
  {
   "cell_type": "code",
   "execution_count": 69,
   "metadata": {},
   "outputs": [],
   "source": [
    "# set benchmark\n",
    "best_cv_acc = 0.15"
   ]
  },
  {
   "cell_type": "markdown",
   "metadata": {},
   "source": [
    "## Train Neural Networks\n",
    "Now that we have a benchmark obtained via simple linear and Random Forest models we can proceed towards trying to outdo it with MLPs and deep learning models."
   ]
  },
  {
   "cell_type": "markdown",
   "metadata": {},
   "source": [
    "#### MLP - multi-layer perceptron\n",
    "Let's start with the simplest possible neural network of just 2 dense layers. We'll be working only on the mfccs data from now on, as it tends to produce better results. We will also add **batch normalization** and **dropout** to reduce overfitting."
   ]
  },
  {
   "cell_type": "code",
   "execution_count": 91,
   "metadata": {},
   "outputs": [],
   "source": [
    "# design & compile the model\n",
    "num_nodes = 2000\n",
    "mlp = Sequential([\n",
    "    Dense(input_shape=(num_features,), units = num_nodes, activation=\"relu\"),\n",
    "    BatchNormalization(),\n",
    "    Dropout(0.96),\n",
    "    Dense(num_categories, activation='softmax')\n",
    "])\n",
    "\n",
    "# we choose the Adam optimizer with a specific learning rate\n",
    "mlp.compile(Adam(lr=0.001),loss=\"categorical_crossentropy\", metrics=[\"accuracy\"])"
   ]
  },
  {
   "cell_type": "code",
   "execution_count": 92,
   "metadata": {},
   "outputs": [
    {
     "name": "stdout",
     "output_type": "stream",
     "text": [
      "Train on 240 samples, validate on 60 samples\n",
      "Epoch 1/10\n",
      "240/240 [==============================] - 3s - loss: 8.2435 - acc: 0.0958 - val_loss: 6.3584 - val_acc: 0.0833\n",
      "Epoch 2/10\n",
      "240/240 [==============================] - 2s - loss: 7.8047 - acc: 0.1000 - val_loss: 3.9879 - val_acc: 0.0667\n",
      "Epoch 3/10\n",
      "240/240 [==============================] - 2s - loss: 6.5026 - acc: 0.1292 - val_loss: 3.5573 - val_acc: 0.1000\n",
      "Epoch 4/10\n",
      "240/240 [==============================] - 2s - loss: 6.4385 - acc: 0.1167 - val_loss: 3.2334 - val_acc: 0.0833\n",
      "Epoch 5/10\n",
      "240/240 [==============================] - 2s - loss: 6.0878 - acc: 0.1583 - val_loss: 2.9742 - val_acc: 0.1333\n",
      "Epoch 6/10\n",
      "240/240 [==============================] - 2s - loss: 5.5775 - acc: 0.2042 - val_loss: 2.9128 - val_acc: 0.1500\n",
      "Epoch 7/10\n",
      "240/240 [==============================] - 2s - loss: 6.0301 - acc: 0.1750 - val_loss: 2.8771 - val_acc: 0.1500\n",
      "Epoch 8/10\n",
      "240/240 [==============================] - 2s - loss: 5.5120 - acc: 0.1917 - val_loss: 2.8346 - val_acc: 0.1500\n",
      "Epoch 9/10\n",
      "240/240 [==============================] - 2s - loss: 5.1921 - acc: 0.2375 - val_loss: 2.8122 - val_acc: 0.1333\n",
      "Epoch 10/10\n",
      "240/240 [==============================] - 2s - loss: 4.7076 - acc: 0.3000 - val_loss: 2.7891 - val_acc: 0.1500\n"
     ]
    }
   ],
   "source": [
    "mlp_results = mlp.fit(train_X, train_y, batch_size=32, epochs=10, validation_data=(cv_X, cv_y))"
   ]
  },
  {
   "cell_type": "code",
   "execution_count": 93,
   "metadata": {},
   "outputs": [
    {
     "name": "stdout",
     "output_type": "stream",
     "text": [
      "Best MLP scores\n",
      "Train acc: 0.3000\n",
      "CV acc: 0.1500\n"
     ]
    }
   ],
   "source": [
    "# show latest results\n",
    "best_training_accuracy = max(mlp_results.history[\"acc\"])\n",
    "best_validation_accuracy = max(mlp_results.history[\"val_acc\"])\n",
    "print(\"Best MLP scores\\nTrain acc: {:.4f}\\nCV acc: {:.4f}\".format(best_training_accuracy, best_validation_accuracy))"
   ]
  },
  {
   "cell_type": "code",
   "execution_count": 94,
   "metadata": {},
   "outputs": [
    {
     "data": {
      "text/plain": [
       "(60, 12)"
      ]
     },
     "execution_count": 94,
     "metadata": {},
     "output_type": "execute_result"
    }
   ],
   "source": [
    "# predict and one-hot encode\n",
    "mlp_pred_cv_y = mlp.predict(cv_X, batch_size=32)\n",
    "mlp_pred_cv_y = utils.one_hot_encode(mlp_pred_cv_y)\n",
    "mlp_pred_cv_y.shape"
   ]
  },
  {
   "cell_type": "code",
   "execution_count": 95,
   "metadata": {},
   "outputs": [
    {
     "name": "stdout",
     "output_type": "stream",
     "text": [
      "MLP accuracy via sklearn (CV): 0.1500\n",
      "MLP f1 score (CV): 0.1499\n"
     ]
    }
   ],
   "source": [
    "# we can also use sklearn directly to get accuracy\n",
    "mlp_cv_accuracy = accuracy_score(cv_y, mlp_pred_cv_y)\n",
    "mlp_cv_f1_score = f1_score(cv_y, mlp_pred_cv_y, average=\"weighted\")\n",
    "print(\"MLP accuracy via sklearn (CV): {:.4f}\".format(mlp_cv_accuracy))\n",
    "print(\"MLP f1 score (CV): {:.4f}\".format(mlp_cv_f1_score))"
   ]
  },
  {
   "cell_type": "markdown",
   "metadata": {},
   "source": [
    "We can see that a simple MLP model reaches a very similar accuracy score to our previous benchmark of 0.15. Both this one and the previous ones can be tuned to reach approximately 0.25 but let's save fine-tuning for when we have a more promising approach - we are also already overfitting."
   ]
  },
  {
   "cell_type": "markdown",
   "metadata": {},
   "source": [
    "#### Deep Neural Networks\n",
    "Let's try adding more layers to capture more complex interactions."
   ]
  },
  {
   "cell_type": "code",
   "execution_count": 103,
   "metadata": {},
   "outputs": [],
   "source": [
    "dnn = Sequential([\n",
    "    Dense(input_shape=(num_features,), units = 4000, activation=\"relu\"),\n",
    "    BatchNormalization(),\n",
    "    Dropout(0.8),\n",
    "    Dense(3000, activation=\"relu\"),\n",
    "    BatchNormalization(),\n",
    "    Dropout(0.85),\n",
    "    Dense(2000, activation=\"relu\"),\n",
    "    BatchNormalization(),\n",
    "    Dropout(0.9),\n",
    "    Dense(num_categories, activation='softmax')\n",
    "])\n",
    "\n",
    "# we choose the Adam optimizer with a specific learning rate\n",
    "dnn.compile(Adam(lr=0.001),loss=\"categorical_crossentropy\", metrics=[\"accuracy\"])"
   ]
  },
  {
   "cell_type": "code",
   "execution_count": 104,
   "metadata": {},
   "outputs": [
    {
     "name": "stdout",
     "output_type": "stream",
     "text": [
      "Train on 240 samples, validate on 60 samples\n",
      "Epoch 1/10\n",
      "240/240 [==============================] - 5s - loss: 6.7286 - acc: 0.0958 - val_loss: 7.9826 - val_acc: 0.0833\n",
      "Epoch 2/10\n",
      "240/240 [==============================] - 3s - loss: 6.5261 - acc: 0.0917 - val_loss: 4.9535 - val_acc: 0.1000\n",
      "Epoch 3/10\n",
      "240/240 [==============================] - 3s - loss: 6.0344 - acc: 0.1333 - val_loss: 4.2601 - val_acc: 0.0833\n",
      "Epoch 4/10\n",
      "240/240 [==============================] - 3s - loss: 5.7909 - acc: 0.0875 - val_loss: 3.7598 - val_acc: 0.0500\n",
      "Epoch 5/10\n",
      "240/240 [==============================] - 3s - loss: 6.0803 - acc: 0.1000 - val_loss: 3.2002 - val_acc: 0.0500\n",
      "Epoch 6/10\n",
      "240/240 [==============================] - 3s - loss: 5.9077 - acc: 0.0958 - val_loss: 3.0013 - val_acc: 0.0667\n",
      "Epoch 7/10\n",
      "240/240 [==============================] - 3s - loss: 5.6614 - acc: 0.0792 - val_loss: 2.9356 - val_acc: 0.1167\n",
      "Epoch 8/10\n",
      "240/240 [==============================] - 3s - loss: 5.8123 - acc: 0.0958 - val_loss: 2.8923 - val_acc: 0.1500\n",
      "Epoch 9/10\n",
      "240/240 [==============================] - 3s - loss: 5.5146 - acc: 0.1375 - val_loss: 2.9007 - val_acc: 0.1500\n",
      "Epoch 10/10\n",
      "240/240 [==============================] - 3s - loss: 5.2759 - acc: 0.1500 - val_loss: 2.9153 - val_acc: 0.1500\n"
     ]
    }
   ],
   "source": [
    "dnn_results = dnn.fit(train_X, train_y, batch_size=64, epochs=10, validation_data=(cv_X, cv_y))"
   ]
  },
  {
   "cell_type": "code",
   "execution_count": 105,
   "metadata": {},
   "outputs": [
    {
     "name": "stdout",
     "output_type": "stream",
     "text": [
      "Best DNN scores\n",
      "Train acc: 0.1500\n",
      "CV acc: 0.1500\n"
     ]
    }
   ],
   "source": [
    "# show latest results\n",
    "best_training_accuracy = max(dnn_results.history[\"acc\"])\n",
    "best_validation_accuracy = max(dnn_results.history[\"val_acc\"])\n",
    "print(\"Best DNN scores\\nTrain acc: {:.4f}\\nCV acc: {:.4f}\".format(best_training_accuracy, best_validation_accuracy))"
   ]
  },
  {
   "cell_type": "code",
   "execution_count": 106,
   "metadata": {},
   "outputs": [
    {
     "data": {
      "text/plain": [
       "(60, 12)"
      ]
     },
     "execution_count": 106,
     "metadata": {},
     "output_type": "execute_result"
    }
   ],
   "source": [
    "# predict and one-hot encode\n",
    "dnn_pred_cv_y = dnn.predict(cv_X, batch_size=32)\n",
    "dnn_pred_cv_y = utils.one_hot_encode(dnn_pred_cv_y)\n",
    "dnn_pred_cv_y.shape"
   ]
  },
  {
   "cell_type": "code",
   "execution_count": 107,
   "metadata": {},
   "outputs": [
    {
     "name": "stdout",
     "output_type": "stream",
     "text": [
      "DNN accuracy via sklearn (CV): 0.1500\n",
      "DNN f1 score (CV): 0.1133\n"
     ]
    }
   ],
   "source": [
    "# we can also use sklearn directly to get accuracy\n",
    "dnn_cv_accuracy = accuracy_score(cv_y, dnn_pred_cv_y)\n",
    "dnn_cv_f1_score = f1_score(cv_y, dnn_pred_cv_y, average=\"weighted\")\n",
    "print(\"DNN accuracy via sklearn (CV): {:.4f}\".format(dnn_cv_accuracy))\n",
    "print(\"DNN f1 score (CV): {:.4f}\".format(dnn_cv_f1_score))"
   ]
  },
  {
   "cell_type": "markdown",
   "metadata": {},
   "source": [
    "### Convolutional Models\n",
    "Seems we're stuck around 0.15 accuracy. That makes sense because the actual \"no\" and other words may come at any place in the vector, we can't really keep being attached to specific indexes when training (which we currently are). Let's try convolutional layers, which can find certain patterns regardless of whether they appear at the start or end of the file.\n",
    "\n",
    "We will also move towards using our preprocessed data as convolutions work better with data that conveys dimensionality, beginning with mean MFCCs."
   ]
  },
  {
   "cell_type": "code",
   "execution_count": 16,
   "metadata": {},
   "outputs": [
    {
     "data": {
      "text/plain": [
       "(240, 100, 1)"
      ]
     },
     "execution_count": 16,
     "metadata": {},
     "output_type": "execute_result"
    }
   ],
   "source": [
    "# In order to use convolutions we have to reshape our X -> expand it to 3 dimensions\n",
    "conv_train_X_mfccs_1D = np.expand_dims(train_X_mfccs_1D, axis=2)\n",
    "conv_train_X_mfccs_1D.shape"
   ]
  },
  {
   "cell_type": "code",
   "execution_count": 17,
   "metadata": {},
   "outputs": [],
   "source": [
    "# repeat for cv & test\n",
    "conv_cv_X_mfccs_1D = np.expand_dims(cv_X_mfccs_1D, axis=2)\n",
    "conv_test_X_mfccs_1D = np.expand_dims(test_X_mfccs_1D, axis=2)"
   ]
  },
  {
   "cell_type": "code",
   "execution_count": 169,
   "metadata": {},
   "outputs": [],
   "source": [
    "cnn1 = Sequential([\n",
    "        Convolution1D(input_shape=(conv_train_X_mfccs_1D.shape[1], 1), kernel_size=64, filters=64, padding=\"same\", activation=\"relu\"),\n",
    "        Dropout(0.12),\n",
    "        MaxPooling1D(),\n",
    "        Convolution1D(kernel_size=64, filters=64, padding=\"same\", activation=\"relu\"),\n",
    "        Dropout(0.12),\n",
    "        MaxPooling1D(),\n",
    "        Flatten(),\n",
    "        Dense(2000, activation=\"relu\"),\n",
    "        Dropout(.7),\n",
    "        Dense(num_categories, activation=\"softmax\")\n",
    "    ])\n",
    "\n",
    "cnn1.compile(Adam(lr=0.0001),loss=\"categorical_crossentropy\", metrics=[\"accuracy\"])"
   ]
  },
  {
   "cell_type": "code",
   "execution_count": 170,
   "metadata": {},
   "outputs": [
    {
     "name": "stdout",
     "output_type": "stream",
     "text": [
      "Train on 240 samples, validate on 60 samples\n",
      "Epoch 1/80\n",
      "240/240 [==============================] - 2s - loss: 9.0299 - acc: 0.0917 - val_loss: 4.7122 - val_acc: 0.1167\n",
      "Epoch 2/80\n",
      "240/240 [==============================] - 0s - loss: 7.4429 - acc: 0.1208 - val_loss: 2.8284 - val_acc: 0.1167\n",
      "Epoch 3/80\n",
      "240/240 [==============================] - 0s - loss: 5.9821 - acc: 0.0750 - val_loss: 3.1201 - val_acc: 0.1500\n",
      "Epoch 4/80\n",
      "240/240 [==============================] - 0s - loss: 5.2001 - acc: 0.0958 - val_loss: 2.5003 - val_acc: 0.1833\n",
      "Epoch 5/80\n",
      "240/240 [==============================] - 0s - loss: 4.1264 - acc: 0.1000 - val_loss: 2.5581 - val_acc: 0.1167\n",
      "Epoch 6/80\n",
      "240/240 [==============================] - 0s - loss: 3.8282 - acc: 0.0833 - val_loss: 2.4932 - val_acc: 0.1500\n",
      "Epoch 7/80\n",
      "240/240 [==============================] - 0s - loss: 3.1335 - acc: 0.1375 - val_loss: 2.4176 - val_acc: 0.1833\n",
      "Epoch 8/80\n",
      "240/240 [==============================] - 0s - loss: 2.8177 - acc: 0.1375 - val_loss: 2.4147 - val_acc: 0.1500\n",
      "Epoch 9/80\n",
      "240/240 [==============================] - 0s - loss: 2.6024 - acc: 0.1750 - val_loss: 2.4203 - val_acc: 0.1833\n",
      "Epoch 10/80\n",
      "240/240 [==============================] - 0s - loss: 2.6968 - acc: 0.1542 - val_loss: 2.4164 - val_acc: 0.1333\n",
      "Epoch 11/80\n",
      "240/240 [==============================] - 0s - loss: 2.6537 - acc: 0.1208 - val_loss: 2.4124 - val_acc: 0.1000\n",
      "Epoch 12/80\n",
      "240/240 [==============================] - 0s - loss: 2.5441 - acc: 0.1292 - val_loss: 2.4133 - val_acc: 0.1167\n",
      "Epoch 13/80\n",
      "240/240 [==============================] - 0s - loss: 2.5055 - acc: 0.1667 - val_loss: 2.4194 - val_acc: 0.1500\n",
      "Epoch 14/80\n",
      "240/240 [==============================] - 0s - loss: 2.4240 - acc: 0.1333 - val_loss: 2.4230 - val_acc: 0.1333\n",
      "Epoch 15/80\n",
      "240/240 [==============================] - 0s - loss: 2.5024 - acc: 0.1292 - val_loss: 2.4231 - val_acc: 0.1167\n",
      "Epoch 16/80\n",
      "240/240 [==============================] - 0s - loss: 2.4374 - acc: 0.1292 - val_loss: 2.4203 - val_acc: 0.1500\n",
      "Epoch 17/80\n",
      "240/240 [==============================] - 0s - loss: 2.4345 - acc: 0.1250 - val_loss: 2.4158 - val_acc: 0.1833\n",
      "Epoch 18/80\n",
      "240/240 [==============================] - 0s - loss: 2.3647 - acc: 0.1625 - val_loss: 2.4073 - val_acc: 0.1667\n",
      "Epoch 19/80\n",
      "240/240 [==============================] - 0s - loss: 2.3628 - acc: 0.1917 - val_loss: 2.4035 - val_acc: 0.1833\n",
      "Epoch 20/80\n",
      "240/240 [==============================] - 0s - loss: 2.3965 - acc: 0.1333 - val_loss: 2.3932 - val_acc: 0.1500\n",
      "Epoch 21/80\n",
      "240/240 [==============================] - 0s - loss: 2.4011 - acc: 0.1667 - val_loss: 2.3862 - val_acc: 0.1667\n",
      "Epoch 22/80\n",
      "240/240 [==============================] - 0s - loss: 2.3722 - acc: 0.1750 - val_loss: 2.3813 - val_acc: 0.1500\n",
      "Epoch 23/80\n",
      "240/240 [==============================] - 0s - loss: 2.3800 - acc: 0.1750 - val_loss: 2.3693 - val_acc: 0.1833\n",
      "Epoch 24/80\n",
      "240/240 [==============================] - 0s - loss: 2.3764 - acc: 0.1583 - val_loss: 2.3634 - val_acc: 0.2000\n",
      "Epoch 25/80\n",
      "240/240 [==============================] - 0s - loss: 2.3949 - acc: 0.1750 - val_loss: 2.3640 - val_acc: 0.2000\n",
      "Epoch 26/80\n",
      "240/240 [==============================] - 0s - loss: 2.3283 - acc: 0.1792 - val_loss: 2.3643 - val_acc: 0.1833\n",
      "Epoch 27/80\n",
      "240/240 [==============================] - 0s - loss: 2.3960 - acc: 0.1667 - val_loss: 2.3627 - val_acc: 0.2167\n",
      "Epoch 28/80\n",
      "240/240 [==============================] - 0s - loss: 2.3812 - acc: 0.1792 - val_loss: 2.3500 - val_acc: 0.2167\n",
      "Epoch 29/80\n",
      "240/240 [==============================] - 0s - loss: 2.3713 - acc: 0.1833 - val_loss: 2.3450 - val_acc: 0.2167\n",
      "Epoch 30/80\n",
      "240/240 [==============================] - 0s - loss: 2.3721 - acc: 0.1750 - val_loss: 2.3437 - val_acc: 0.1667\n",
      "Epoch 31/80\n",
      "240/240 [==============================] - 0s - loss: 2.3109 - acc: 0.1792 - val_loss: 2.3467 - val_acc: 0.1500\n",
      "Epoch 32/80\n",
      "240/240 [==============================] - 0s - loss: 2.3025 - acc: 0.2167 - val_loss: 2.3400 - val_acc: 0.1167\n",
      "Epoch 33/80\n",
      "240/240 [==============================] - 0s - loss: 2.3430 - acc: 0.1583 - val_loss: 2.3277 - val_acc: 0.0833\n",
      "Epoch 34/80\n",
      "240/240 [==============================] - 0s - loss: 2.3321 - acc: 0.1625 - val_loss: 2.3122 - val_acc: 0.1500\n",
      "Epoch 35/80\n",
      "240/240 [==============================] - 0s - loss: 2.3233 - acc: 0.2208 - val_loss: 2.2990 - val_acc: 0.2167\n",
      "Epoch 36/80\n",
      "240/240 [==============================] - 0s - loss: 2.3479 - acc: 0.1708 - val_loss: 2.2911 - val_acc: 0.2000\n",
      "Epoch 37/80\n",
      "240/240 [==============================] - 0s - loss: 2.3217 - acc: 0.1625 - val_loss: 2.2967 - val_acc: 0.2000\n",
      "Epoch 38/80\n",
      "240/240 [==============================] - 0s - loss: 2.2992 - acc: 0.1833 - val_loss: 2.3089 - val_acc: 0.2000\n",
      "Epoch 39/80\n",
      "240/240 [==============================] - 0s - loss: 2.2897 - acc: 0.2042 - val_loss: 2.3225 - val_acc: 0.2000\n",
      "Epoch 40/80\n",
      "240/240 [==============================] - 0s - loss: 2.2893 - acc: 0.2083 - val_loss: 2.3205 - val_acc: 0.2000\n",
      "Epoch 41/80\n",
      "240/240 [==============================] - 0s - loss: 2.2908 - acc: 0.2000 - val_loss: 2.3127 - val_acc: 0.2000\n",
      "Epoch 42/80\n",
      "240/240 [==============================] - 0s - loss: 2.3441 - acc: 0.1500 - val_loss: 2.3110 - val_acc: 0.1833\n",
      "Epoch 43/80\n",
      "240/240 [==============================] - 0s - loss: 2.2787 - acc: 0.2167 - val_loss: 2.3102 - val_acc: 0.1500\n",
      "Epoch 44/80\n",
      "240/240 [==============================] - 0s - loss: 2.3171 - acc: 0.1958 - val_loss: 2.3090 - val_acc: 0.1833\n",
      "Epoch 45/80\n",
      "240/240 [==============================] - 0s - loss: 2.2361 - acc: 0.2375 - val_loss: 2.3033 - val_acc: 0.2000\n",
      "Epoch 46/80\n",
      "240/240 [==============================] - 0s - loss: 2.3483 - acc: 0.1667 - val_loss: 2.2933 - val_acc: 0.2167\n",
      "Epoch 47/80\n",
      "240/240 [==============================] - 0s - loss: 2.2224 - acc: 0.2167 - val_loss: 2.2827 - val_acc: 0.2000\n",
      "Epoch 48/80\n",
      "240/240 [==============================] - 0s - loss: 2.2371 - acc: 0.1833 - val_loss: 2.2773 - val_acc: 0.2500\n",
      "Epoch 49/80\n",
      "240/240 [==============================] - 0s - loss: 2.2331 - acc: 0.2208 - val_loss: 2.2763 - val_acc: 0.3000\n",
      "Epoch 50/80\n",
      "240/240 [==============================] - 0s - loss: 2.2674 - acc: 0.2542 - val_loss: 2.2832 - val_acc: 0.2333\n",
      "Epoch 51/80\n",
      "240/240 [==============================] - 0s - loss: 2.2463 - acc: 0.2000 - val_loss: 2.2698 - val_acc: 0.2000\n",
      "Epoch 52/80\n",
      "240/240 [==============================] - 0s - loss: 2.2260 - acc: 0.2292 - val_loss: 2.2522 - val_acc: 0.2333\n",
      "Epoch 53/80\n",
      "240/240 [==============================] - 0s - loss: 2.2428 - acc: 0.2833 - val_loss: 2.2446 - val_acc: 0.2167\n",
      "Epoch 54/80\n",
      "240/240 [==============================] - 0s - loss: 2.1467 - acc: 0.2583 - val_loss: 2.2426 - val_acc: 0.1833\n",
      "Epoch 55/80\n",
      "240/240 [==============================] - 0s - loss: 2.2054 - acc: 0.2542 - val_loss: 2.2521 - val_acc: 0.2167\n",
      "Epoch 56/80\n",
      "240/240 [==============================] - 0s - loss: 2.2014 - acc: 0.2667 - val_loss: 2.2558 - val_acc: 0.1667\n",
      "Epoch 57/80\n",
      "240/240 [==============================] - 0s - loss: 2.2168 - acc: 0.2250 - val_loss: 2.2482 - val_acc: 0.2167\n",
      "Epoch 58/80\n",
      "240/240 [==============================] - 0s - loss: 2.1396 - acc: 0.2750 - val_loss: 2.2372 - val_acc: 0.2667\n",
      "Epoch 59/80\n",
      "240/240 [==============================] - 0s - loss: 2.1468 - acc: 0.2458 - val_loss: 2.2271 - val_acc: 0.2333\n",
      "Epoch 60/80\n",
      "240/240 [==============================] - 0s - loss: 2.1570 - acc: 0.2542 - val_loss: 2.2444 - val_acc: 0.2167\n",
      "Epoch 61/80\n",
      "240/240 [==============================] - 0s - loss: 2.1209 - acc: 0.2708 - val_loss: 2.2364 - val_acc: 0.2000\n",
      "Epoch 62/80\n",
      "240/240 [==============================] - 0s - loss: 2.1236 - acc: 0.2208 - val_loss: 2.2220 - val_acc: 0.2000\n",
      "Epoch 63/80\n",
      "240/240 [==============================] - 0s - loss: 2.1445 - acc: 0.2750 - val_loss: 2.2162 - val_acc: 0.2333\n",
      "Epoch 64/80\n",
      "240/240 [==============================] - 0s - loss: 2.1275 - acc: 0.2542 - val_loss: 2.2072 - val_acc: 0.2000\n",
      "Epoch 65/80\n",
      "240/240 [==============================] - 0s - loss: 2.1148 - acc: 0.3125 - val_loss: 2.2010 - val_acc: 0.1667\n",
      "Epoch 66/80\n",
      "240/240 [==============================] - 0s - loss: 2.1534 - acc: 0.2625 - val_loss: 2.1916 - val_acc: 0.2000\n",
      "Epoch 67/80\n",
      "240/240 [==============================] - 0s - loss: 2.1514 - acc: 0.2375 - val_loss: 2.1942 - val_acc: 0.2000\n",
      "Epoch 68/80\n",
      "240/240 [==============================] - 0s - loss: 2.1022 - acc: 0.2542 - val_loss: 2.2061 - val_acc: 0.1500\n",
      "Epoch 69/80\n",
      "240/240 [==============================] - 0s - loss: 2.0887 - acc: 0.3167 - val_loss: 2.2183 - val_acc: 0.1833\n",
      "Epoch 70/80\n",
      "240/240 [==============================] - 0s - loss: 2.0922 - acc: 0.2625 - val_loss: 2.2088 - val_acc: 0.2833\n",
      "Epoch 71/80\n",
      "240/240 [==============================] - 0s - loss: 2.1104 - acc: 0.2750 - val_loss: 2.1778 - val_acc: 0.2500\n",
      "Epoch 72/80\n",
      "240/240 [==============================] - 0s - loss: 2.0773 - acc: 0.2875 - val_loss: 2.1739 - val_acc: 0.2333\n",
      "Epoch 73/80\n",
      "240/240 [==============================] - 0s - loss: 2.0442 - acc: 0.3000 - val_loss: 2.1663 - val_acc: 0.2333\n",
      "Epoch 74/80\n",
      "240/240 [==============================] - 0s - loss: 2.0186 - acc: 0.2958 - val_loss: 2.1616 - val_acc: 0.2333\n",
      "Epoch 75/80\n",
      "240/240 [==============================] - 0s - loss: 2.0527 - acc: 0.2708 - val_loss: 2.1622 - val_acc: 0.2167\n",
      "Epoch 76/80\n",
      "240/240 [==============================] - 0s - loss: 2.0472 - acc: 0.2792 - val_loss: 2.1686 - val_acc: 0.2167\n",
      "Epoch 77/80\n",
      "240/240 [==============================] - 0s - loss: 2.0385 - acc: 0.2833 - val_loss: 2.1529 - val_acc: 0.2000\n",
      "Epoch 78/80\n",
      "240/240 [==============================] - 0s - loss: 2.0519 - acc: 0.2958 - val_loss: 2.1458 - val_acc: 0.1833\n",
      "Epoch 79/80\n",
      "240/240 [==============================] - 0s - loss: 1.9960 - acc: 0.2667 - val_loss: 2.1593 - val_acc: 0.2000\n",
      "Epoch 80/80\n",
      "240/240 [==============================] - 0s - loss: 1.9519 - acc: 0.3500 - val_loss: 2.1585 - val_acc: 0.2167\n"
     ]
    }
   ],
   "source": [
    "cnn1_results = cnn1.fit(conv_train_X_mfccs_1D, train_y, batch_size=64, epochs=80, \n",
    "                        validation_data=(conv_cv_X_mfccs_1D, cv_y))"
   ]
  },
  {
   "cell_type": "code",
   "execution_count": 171,
   "metadata": {
    "scrolled": true
   },
   "outputs": [
    {
     "name": "stdout",
     "output_type": "stream",
     "text": [
      "Best CNN 1 scores\n",
      "Train acc: 0.3500\n",
      "CV acc: 0.3000\n"
     ]
    }
   ],
   "source": [
    "# show best results\n",
    "best_training_accuracy = max(cnn1_results.history[\"acc\"])\n",
    "best_validation_accuracy = max(cnn1_results.history[\"val_acc\"])\n",
    "print(\"Best CNN 1 scores\\nTrain acc: {:.4f}\\nCV acc: {:.4f}\".format(best_training_accuracy, best_validation_accuracy))"
   ]
  },
  {
   "cell_type": "markdown",
   "metadata": {},
   "source": [
    "This CNN architecture should get to 0.3 accuracy within 50-70 epochs and then start to overfit."
   ]
  },
  {
   "cell_type": "code",
   "execution_count": 173,
   "metadata": {},
   "outputs": [
    {
     "data": {
      "text/plain": [
       "(60, 12)"
      ]
     },
     "execution_count": 173,
     "metadata": {},
     "output_type": "execute_result"
    }
   ],
   "source": [
    "# predict and one-hot encode\n",
    "cnn1_pred_cv_y_mfccs_1D = cnn1.predict(conv_cv_X_mfccs_1D, batch_size=32)\n",
    "cnn1_pred_cv_y_mfccs_1D = utils.one_hot_encode(cnn1_pred_cv_y_mfccs_1D)\n",
    "cnn1_pred_cv_y_mfccs_1D.shape"
   ]
  },
  {
   "cell_type": "code",
   "execution_count": 174,
   "metadata": {},
   "outputs": [
    {
     "name": "stdout",
     "output_type": "stream",
     "text": [
      "CNN 1 accuracy via sklearn (CV): 0.2167\n",
      "CNN 1 f1 score (CV): 0.2299\n"
     ]
    }
   ],
   "source": [
    "# we can also use sklearn directly to get accuracy\n",
    "cnn1_cv_accuracy = accuracy_score(cv_y, cnn1_pred_cv_y_mfccs_1D)\n",
    "cnn1_cv_f1_score = f1_score(cv_y, cnn1_pred_cv_y_mfccs_1D, average=\"weighted\")\n",
    "print(\"CNN 1 accuracy via sklearn (CV): {:.4f}\".format(cnn1_cv_accuracy))\n",
    "print(\"CNN 1 f1 score (CV): {:.4f}\".format(cnn1_cv_f1_score))"
   ]
  },
  {
   "cell_type": "markdown",
   "metadata": {},
   "source": [
    "#### Convolutional models (1D) with FFT\n",
    "We have another form of preprocessing that results in a 1D vector - the Fast Fourier Transform. Let's see how our convolutional model might perform in that area."
   ]
  },
  {
   "cell_type": "code",
   "execution_count": 47,
   "metadata": {},
   "outputs": [
    {
     "data": {
      "text/plain": [
       "(240, 16000, 1)"
      ]
     },
     "execution_count": 47,
     "metadata": {},
     "output_type": "execute_result"
    }
   ],
   "source": [
    "# In order to use convolutions we have to reshape our X -> expand it to 3 dimensions\n",
    "conv_train_X_fft = np.expand_dims(train_X_fft, axis=2)\n",
    "conv_train_X_fft.shape"
   ]
  },
  {
   "cell_type": "markdown",
   "metadata": {},
   "source": [
    "Note that the FFT results in a 16K column vector - which will also require a lot more computational resources to process."
   ]
  },
  {
   "cell_type": "code",
   "execution_count": 48,
   "metadata": {},
   "outputs": [],
   "source": [
    "# repeat for cv & test\n",
    "conv_cv_X_fft = np.expand_dims(cv_X_fft, axis=2)\n",
    "conv_test_X_fft = np.expand_dims(test_X_fft, axis=2)"
   ]
  },
  {
   "cell_type": "code",
   "execution_count": 52,
   "metadata": {},
   "outputs": [],
   "source": [
    "cnn_fft = Sequential([\n",
    "    Convolution1D(input_shape=(conv_train_X_fft.shape[1], 1), kernel_size=64, filters=64, padding=\"same\", activation=\"relu\"),\n",
    "    Dropout(0.12),\n",
    "    MaxPooling1D(),\n",
    "    Convolution1D(kernel_size=64, filters=64, padding=\"same\", activation=\"relu\"),\n",
    "    Dropout(0.12),\n",
    "    MaxPooling1D(),\n",
    "    Flatten(),\n",
    "    Dense(2000, activation=\"relu\"),\n",
    "    Dropout(.7),\n",
    "    Dense(num_categories, activation=\"softmax\")\n",
    "])\n",
    "\n",
    "cnn_fft.compile(Adam(lr=0.001),loss=\"categorical_crossentropy\", metrics=[\"accuracy\"])"
   ]
  },
  {
   "cell_type": "code",
   "execution_count": 53,
   "metadata": {},
   "outputs": [
    {
     "name": "stdout",
     "output_type": "stream",
     "text": [
      "Train on 240 samples, validate on 60 samples\n",
      "Epoch 1/20\n",
      "240/240 [==============================] - 89s - loss: 14.9422 - acc: 0.0667 - val_loss: 13.9690 - val_acc: 0.1333\n",
      "Epoch 2/20\n",
      "240/240 [==============================] - 84s - loss: 14.6406 - acc: 0.0917 - val_loss: 14.7749 - val_acc: 0.0833\n",
      "Epoch 3/20\n",
      "240/240 [==============================] - 77s - loss: 14.5734 - acc: 0.0958 - val_loss: 14.7749 - val_acc: 0.0833\n",
      "Epoch 4/20\n",
      "240/240 [==============================] - 76s - loss: 14.9092 - acc: 0.0750 - val_loss: 14.7749 - val_acc: 0.0833\n",
      "Epoch 5/20\n",
      "240/240 [==============================] - 76s - loss: 14.9764 - acc: 0.0708 - val_loss: 14.7749 - val_acc: 0.0833\n",
      "Epoch 6/20\n",
      "240/240 [==============================] - 77s - loss: 14.9092 - acc: 0.0750 - val_loss: 14.7749 - val_acc: 0.0833\n",
      "Epoch 7/20\n",
      "240/240 [==============================] - 81s - loss: 14.7749 - acc: 0.0833 - val_loss: 14.7749 - val_acc: 0.0833\n",
      "Epoch 8/20\n",
      "240/240 [==============================] - 80s - loss: 14.7749 - acc: 0.0833 - val_loss: 14.7749 - val_acc: 0.0833\n",
      "Epoch 9/20\n",
      "240/240 [==============================] - 84s - loss: 14.7078 - acc: 0.0875 - val_loss: 14.7749 - val_acc: 0.0833\n",
      "Epoch 10/20\n",
      "240/240 [==============================] - 80s - loss: 14.5734 - acc: 0.0958 - val_loss: 14.7749 - val_acc: 0.0833\n",
      "Epoch 11/20\n",
      "240/240 [==============================] - 84s - loss: 14.7749 - acc: 0.0833 - val_loss: 14.7749 - val_acc: 0.0833\n",
      "Epoch 12/20\n",
      "240/240 [==============================] - 79s - loss: 15.0436 - acc: 0.0667 - val_loss: 14.7749 - val_acc: 0.0833\n",
      "Epoch 13/20\n",
      "240/240 [==============================] - 75s - loss: 15.1779 - acc: 0.0583 - val_loss: 14.7749 - val_acc: 0.0833\n",
      "Epoch 14/20\n",
      "240/240 [==============================] - 76s - loss: 14.7749 - acc: 0.0833 - val_loss: 14.7749 - val_acc: 0.0833\n",
      "Epoch 15/20\n",
      "240/240 [==============================] - 74s - loss: 15.0436 - acc: 0.0667 - val_loss: 14.7749 - val_acc: 0.0833\n",
      "Epoch 16/20\n",
      "240/240 [==============================] - 76s - loss: 14.6406 - acc: 0.0917 - val_loss: 14.7749 - val_acc: 0.0833\n",
      "Epoch 17/20\n",
      "240/240 [==============================] - 77s - loss: 14.8421 - acc: 0.0792 - val_loss: 14.7749 - val_acc: 0.0833\n",
      "Epoch 18/20\n",
      "240/240 [==============================] - 84s - loss: 15.1107 - acc: 0.0625 - val_loss: 14.7749 - val_acc: 0.0833\n",
      "Epoch 19/20\n",
      "240/240 [==============================] - 82s - loss: 14.7749 - acc: 0.0833 - val_loss: 14.7749 - val_acc: 0.0833\n",
      "Epoch 20/20\n",
      "240/240 [==============================] - 83s - loss: 14.9092 - acc: 0.0750 - val_loss: 14.7749 - val_acc: 0.0833\n"
     ]
    }
   ],
   "source": [
    "cnn_fft_results = cnn_fft.fit(conv_train_X_fft, train_y, batch_size=64, epochs=20, \n",
    "                        validation_data=(conv_cv_X_fft, cv_y))"
   ]
  },
  {
   "cell_type": "markdown",
   "metadata": {},
   "source": [
    "As we see the number of columns in the 1D vector results in a significant increase in the training time per epoch and we don't seem to be converging on better predictions (can't even fit the training set well with a fairly basic setup of the layers - most probably our kernel sizes are too small given the size of the vector). Let's leave this approach for now. Important practical aspect of ML: human time is ultimately the most valuable resource."
   ]
  },
  {
   "cell_type": "markdown",
   "metadata": {},
   "source": [
    "#### Convolutional models withMFCCs (2D)\n",
    "Let's try a similar model on the _2D MFCC data._ Notice that even though we are working with 2-dimensional input data, we are still using the 1D convolutional layers (and corresponding max pooling). That's primarily due to the available computational resources. A 1D convolutional layer will make a single pass horizontally across the 2D input matrix. Depending on the kernel size relative to the input size, this can still allow it to capture important patterns, allowing us to add more filters."
   ]
  },
  {
   "cell_type": "code",
   "execution_count": 178,
   "metadata": {},
   "outputs": [
    {
     "data": {
      "text/plain": [
       "(240, 100, 32)"
      ]
     },
     "execution_count": 178,
     "metadata": {},
     "output_type": "execute_result"
    }
   ],
   "source": [
    "# Our data is already 2D, we don't need to expand dimensions\n",
    "train_X_mfccs_2D.shape"
   ]
  },
  {
   "cell_type": "code",
   "execution_count": 226,
   "metadata": {},
   "outputs": [],
   "source": [
    "cnn2 = Sequential([\n",
    "        Convolution1D(input_shape=(train_X_mfccs_2D.shape[1], train_X_mfccs_2D.shape[2]), \n",
    "                      kernel_size=12, filters=128, padding=\"same\", activation=\"relu\"),\n",
    "        Dropout(0.11),\n",
    "        MaxPooling1D(),\n",
    "        Convolution1D(kernel_size=12, filters=128, padding=\"same\", activation=\"relu\"),\n",
    "        Dropout(0.13),\n",
    "        MaxPooling1D(),\n",
    "        Flatten(),\n",
    "        Dense(2000, activation=\"relu\"),\n",
    "        Dropout(.7),\n",
    "        Dense(num_categories, activation=\"softmax\")\n",
    "    ])\n",
    "\n",
    "cnn2.compile(Adam(lr=0.0001),loss=\"categorical_crossentropy\", metrics=[\"accuracy\"])"
   ]
  },
  {
   "cell_type": "code",
   "execution_count": 227,
   "metadata": {},
   "outputs": [
    {
     "name": "stdout",
     "output_type": "stream",
     "text": [
      "Train on 240 samples, validate on 60 samples\n",
      "Epoch 1/100\n",
      "240/240 [==============================] - 5s - loss: 13.8843 - acc: 0.0625 - val_loss: 12.1183 - val_acc: 0.1500\n",
      "Epoch 2/100\n",
      "240/240 [==============================] - 0s - loss: 13.3157 - acc: 0.1208 - val_loss: 12.3101 - val_acc: 0.1667\n",
      "Epoch 3/100\n",
      "240/240 [==============================] - 0s - loss: 13.7101 - acc: 0.1000 - val_loss: 13.8039 - val_acc: 0.1333\n",
      "Epoch 4/100\n",
      "240/240 [==============================] - 0s - loss: 13.7622 - acc: 0.0917 - val_loss: 13.9723 - val_acc: 0.1333\n",
      "Epoch 5/100\n",
      "240/240 [==============================] - 0s - loss: 13.8633 - acc: 0.1125 - val_loss: 13.7956 - val_acc: 0.1333\n",
      "Epoch 6/100\n",
      "240/240 [==============================] - 0s - loss: 13.6308 - acc: 0.1250 - val_loss: 12.3735 - val_acc: 0.1667\n",
      "Epoch 7/100\n",
      "240/240 [==============================] - 0s - loss: 13.6375 - acc: 0.1167 - val_loss: 12.7424 - val_acc: 0.1167\n",
      "Epoch 8/100\n",
      "240/240 [==============================] - 0s - loss: 13.4899 - acc: 0.1125 - val_loss: 12.7566 - val_acc: 0.1167\n",
      "Epoch 9/100\n",
      "240/240 [==============================] - 0s - loss: 12.8714 - acc: 0.1542 - val_loss: 12.3217 - val_acc: 0.1167\n",
      "Epoch 10/100\n",
      "240/240 [==============================] - 0s - loss: 12.5884 - acc: 0.1542 - val_loss: 11.3360 - val_acc: 0.1833\n",
      "Epoch 11/100\n",
      "240/240 [==============================] - 0s - loss: 13.5296 - acc: 0.1167 - val_loss: 12.1098 - val_acc: 0.1500\n",
      "Epoch 12/100\n",
      "240/240 [==============================] - 0s - loss: 13.2045 - acc: 0.1167 - val_loss: 12.9681 - val_acc: 0.1500\n",
      "Epoch 13/100\n",
      "240/240 [==============================] - 0s - loss: 12.8995 - acc: 0.1625 - val_loss: 13.2857 - val_acc: 0.1500\n",
      "Epoch 14/100\n",
      "240/240 [==============================] - 0s - loss: 12.8826 - acc: 0.1667 - val_loss: 13.2962 - val_acc: 0.1500\n",
      "Epoch 15/100\n",
      "240/240 [==============================] - 0s - loss: 12.6220 - acc: 0.1792 - val_loss: 13.0474 - val_acc: 0.1500\n",
      "Epoch 16/100\n",
      "240/240 [==============================] - 0s - loss: 12.2717 - acc: 0.1917 - val_loss: 12.4257 - val_acc: 0.1833\n",
      "Epoch 17/100\n",
      "240/240 [==============================] - 0s - loss: 12.4744 - acc: 0.1917 - val_loss: 11.8660 - val_acc: 0.1167\n",
      "Epoch 18/100\n",
      "240/240 [==============================] - 0s - loss: 12.8951 - acc: 0.1542 - val_loss: 12.3967 - val_acc: 0.1167\n",
      "Epoch 19/100\n",
      "240/240 [==============================] - 0s - loss: 12.2048 - acc: 0.1833 - val_loss: 12.3090 - val_acc: 0.1333\n",
      "Epoch 20/100\n",
      "240/240 [==============================] - 0s - loss: 12.3146 - acc: 0.1875 - val_loss: 12.0581 - val_acc: 0.1667\n",
      "Epoch 21/100\n",
      "240/240 [==============================] - 0s - loss: 12.9351 - acc: 0.1500 - val_loss: 12.3656 - val_acc: 0.1500\n",
      "Epoch 22/100\n",
      "240/240 [==============================] - 0s - loss: 12.0926 - acc: 0.1792 - val_loss: 12.1894 - val_acc: 0.1667\n",
      "Epoch 23/100\n",
      "240/240 [==============================] - 0s - loss: 12.4511 - acc: 0.1875 - val_loss: 11.5998 - val_acc: 0.2000\n",
      "Epoch 24/100\n",
      "240/240 [==============================] - 0s - loss: 12.6979 - acc: 0.1708 - val_loss: 11.3153 - val_acc: 0.1667\n",
      "Epoch 25/100\n",
      "240/240 [==============================] - 0s - loss: 12.2806 - acc: 0.1708 - val_loss: 12.5651 - val_acc: 0.1667\n",
      "Epoch 26/100\n",
      "240/240 [==============================] - 0s - loss: 12.5864 - acc: 0.1833 - val_loss: 12.2928 - val_acc: 0.2000\n",
      "Epoch 27/100\n",
      "240/240 [==============================] - 0s - loss: 12.4074 - acc: 0.1833 - val_loss: 12.4509 - val_acc: 0.1500\n",
      "Epoch 28/100\n",
      "240/240 [==============================] - 0s - loss: 11.8533 - acc: 0.2000 - val_loss: 12.4813 - val_acc: 0.1333\n",
      "Epoch 29/100\n",
      "240/240 [==============================] - 0s - loss: 12.5673 - acc: 0.1667 - val_loss: 10.8042 - val_acc: 0.1333\n",
      "Epoch 30/100\n",
      "240/240 [==============================] - 0s - loss: 11.6499 - acc: 0.2042 - val_loss: 10.6129 - val_acc: 0.2000\n",
      "Epoch 31/100\n",
      "240/240 [==============================] - 0s - loss: 11.5741 - acc: 0.2042 - val_loss: 11.6958 - val_acc: 0.2000\n",
      "Epoch 32/100\n",
      "240/240 [==============================] - 0s - loss: 11.6571 - acc: 0.2125 - val_loss: 11.9330 - val_acc: 0.1833\n",
      "Epoch 33/100\n",
      "240/240 [==============================] - 0s - loss: 12.3656 - acc: 0.1833 - val_loss: 12.6795 - val_acc: 0.1833\n",
      "Epoch 34/100\n",
      "240/240 [==============================] - 0s - loss: 12.2452 - acc: 0.1792 - val_loss: 13.2241 - val_acc: 0.1667\n",
      "Epoch 35/100\n",
      "240/240 [==============================] - 0s - loss: 11.5600 - acc: 0.2333 - val_loss: 12.6342 - val_acc: 0.1500\n",
      "Epoch 36/100\n",
      "240/240 [==============================] - 0s - loss: 11.8864 - acc: 0.2000 - val_loss: 10.4108 - val_acc: 0.1500\n",
      "Epoch 37/100\n",
      "240/240 [==============================] - 0s - loss: 11.0030 - acc: 0.2583 - val_loss: 10.8800 - val_acc: 0.1833\n",
      "Epoch 38/100\n",
      "240/240 [==============================] - 0s - loss: 11.6391 - acc: 0.2167 - val_loss: 10.4483 - val_acc: 0.2000\n",
      "Epoch 39/100\n",
      "240/240 [==============================] - 0s - loss: 10.2718 - acc: 0.2917 - val_loss: 10.2877 - val_acc: 0.1833\n",
      "Epoch 40/100\n",
      "240/240 [==============================] - 0s - loss: 10.9473 - acc: 0.2542 - val_loss: 10.0632 - val_acc: 0.1667\n",
      "Epoch 41/100\n",
      "240/240 [==============================] - 0s - loss: 10.8718 - acc: 0.2708 - val_loss: 9.7471 - val_acc: 0.2000\n",
      "Epoch 42/100\n",
      "240/240 [==============================] - 0s - loss: 10.1419 - acc: 0.3000 - val_loss: 9.7513 - val_acc: 0.1833\n",
      "Epoch 43/100\n",
      "240/240 [==============================] - 0s - loss: 10.4198 - acc: 0.2583 - val_loss: 9.9384 - val_acc: 0.2167\n",
      "Epoch 44/100\n",
      "240/240 [==============================] - 0s - loss: 10.0839 - acc: 0.3000 - val_loss: 10.2707 - val_acc: 0.2333\n",
      "Epoch 45/100\n",
      "240/240 [==============================] - 0s - loss: 9.9772 - acc: 0.2875 - val_loss: 11.1794 - val_acc: 0.1500\n",
      "Epoch 46/100\n",
      "240/240 [==============================] - 0s - loss: 9.8849 - acc: 0.2875 - val_loss: 11.0415 - val_acc: 0.1500\n",
      "Epoch 47/100\n",
      "240/240 [==============================] - 0s - loss: 9.6395 - acc: 0.2875 - val_loss: 9.7267 - val_acc: 0.1833\n",
      "Epoch 48/100\n",
      "240/240 [==============================] - 0s - loss: 8.7303 - acc: 0.3542 - val_loss: 10.0210 - val_acc: 0.2000\n",
      "Epoch 49/100\n",
      "240/240 [==============================] - 0s - loss: 9.2594 - acc: 0.3250 - val_loss: 11.1557 - val_acc: 0.1833\n",
      "Epoch 50/100\n",
      "240/240 [==============================] - 0s - loss: 9.2203 - acc: 0.2875 - val_loss: 9.3382 - val_acc: 0.2667\n",
      "Epoch 51/100\n",
      "240/240 [==============================] - 0s - loss: 8.5293 - acc: 0.3458 - val_loss: 8.3143 - val_acc: 0.2500\n",
      "Epoch 52/100\n",
      "240/240 [==============================] - 0s - loss: 8.8413 - acc: 0.3167 - val_loss: 7.7694 - val_acc: 0.2167\n",
      "Epoch 53/100\n",
      "240/240 [==============================] - 0s - loss: 8.5381 - acc: 0.3333 - val_loss: 7.3499 - val_acc: 0.2333\n",
      "Epoch 54/100\n",
      "240/240 [==============================] - 0s - loss: 7.4057 - acc: 0.3875 - val_loss: 6.6551 - val_acc: 0.2167\n",
      "Epoch 55/100\n",
      "240/240 [==============================] - 0s - loss: 7.3161 - acc: 0.3958 - val_loss: 6.0489 - val_acc: 0.2333\n",
      "Epoch 56/100\n",
      "240/240 [==============================] - 0s - loss: 7.1368 - acc: 0.3500 - val_loss: 5.6989 - val_acc: 0.2667\n",
      "Epoch 57/100\n",
      "240/240 [==============================] - 0s - loss: 6.2476 - acc: 0.4000 - val_loss: 5.5383 - val_acc: 0.2500\n",
      "Epoch 58/100\n",
      "240/240 [==============================] - 0s - loss: 5.6294 - acc: 0.4292 - val_loss: 5.0392 - val_acc: 0.2000\n",
      "Epoch 59/100\n",
      "240/240 [==============================] - 0s - loss: 4.9004 - acc: 0.4792 - val_loss: 4.7864 - val_acc: 0.2167\n",
      "Epoch 60/100\n",
      "240/240 [==============================] - 0s - loss: 5.0654 - acc: 0.4417 - val_loss: 4.5202 - val_acc: 0.2667\n",
      "Epoch 61/100\n",
      "240/240 [==============================] - 0s - loss: 4.8065 - acc: 0.4833 - val_loss: 4.0323 - val_acc: 0.2167\n",
      "Epoch 62/100\n",
      "240/240 [==============================] - 0s - loss: 3.6952 - acc: 0.5375 - val_loss: 3.6849 - val_acc: 0.2000\n",
      "Epoch 63/100\n",
      "240/240 [==============================] - 0s - loss: 3.2297 - acc: 0.5458 - val_loss: 3.6648 - val_acc: 0.1833\n",
      "Epoch 64/100\n",
      "240/240 [==============================] - 0s - loss: 3.3110 - acc: 0.5292 - val_loss: 3.4994 - val_acc: 0.1833\n",
      "Epoch 65/100\n",
      "240/240 [==============================] - 0s - loss: 2.6696 - acc: 0.5875 - val_loss: 3.2769 - val_acc: 0.2000\n",
      "Epoch 66/100\n",
      "240/240 [==============================] - 0s - loss: 2.7242 - acc: 0.5583 - val_loss: 3.1359 - val_acc: 0.2333\n",
      "Epoch 67/100\n",
      "240/240 [==============================] - 0s - loss: 2.3156 - acc: 0.5792 - val_loss: 2.8586 - val_acc: 0.2500\n",
      "Epoch 68/100\n",
      "240/240 [==============================] - 0s - loss: 1.9998 - acc: 0.5792 - val_loss: 2.6515 - val_acc: 0.2833\n",
      "Epoch 69/100\n",
      "240/240 [==============================] - 0s - loss: 1.5813 - acc: 0.6375 - val_loss: 2.5454 - val_acc: 0.3000\n",
      "Epoch 70/100\n",
      "240/240 [==============================] - 0s - loss: 1.5449 - acc: 0.6625 - val_loss: 2.4688 - val_acc: 0.3167\n",
      "Epoch 71/100\n",
      "240/240 [==============================] - 0s - loss: 1.4038 - acc: 0.6625 - val_loss: 2.4216 - val_acc: 0.3333\n",
      "Epoch 72/100\n",
      "240/240 [==============================] - 0s - loss: 1.2442 - acc: 0.6750 - val_loss: 2.3688 - val_acc: 0.3500\n",
      "Epoch 73/100\n",
      "240/240 [==============================] - 0s - loss: 0.8931 - acc: 0.7083 - val_loss: 2.3199 - val_acc: 0.3500\n",
      "Epoch 74/100\n",
      "240/240 [==============================] - 0s - loss: 0.9994 - acc: 0.6875 - val_loss: 2.3150 - val_acc: 0.3500\n",
      "Epoch 75/100\n",
      "240/240 [==============================] - 0s - loss: 0.7931 - acc: 0.7792 - val_loss: 2.3201 - val_acc: 0.3667\n",
      "Epoch 76/100\n",
      "240/240 [==============================] - 0s - loss: 1.1013 - acc: 0.7042 - val_loss: 2.3143 - val_acc: 0.3500\n",
      "Epoch 77/100\n",
      "240/240 [==============================] - 0s - loss: 0.7515 - acc: 0.7375 - val_loss: 2.3095 - val_acc: 0.3667\n",
      "Epoch 78/100\n",
      "240/240 [==============================] - 0s - loss: 0.7794 - acc: 0.8083 - val_loss: 2.3081 - val_acc: 0.3667\n",
      "Epoch 79/100\n",
      "240/240 [==============================] - 0s - loss: 0.6406 - acc: 0.8000 - val_loss: 2.2990 - val_acc: 0.3500\n",
      "Epoch 80/100\n",
      "240/240 [==============================] - 0s - loss: 0.5782 - acc: 0.8167 - val_loss: 2.2906 - val_acc: 0.3500\n",
      "Epoch 81/100\n",
      "240/240 [==============================] - 0s - loss: 0.6192 - acc: 0.8083 - val_loss: 2.2948 - val_acc: 0.3167\n",
      "Epoch 82/100\n",
      "240/240 [==============================] - 0s - loss: 0.4767 - acc: 0.8583 - val_loss: 2.3005 - val_acc: 0.3500\n",
      "Epoch 83/100\n",
      "240/240 [==============================] - 0s - loss: 0.5202 - acc: 0.8417 - val_loss: 2.3202 - val_acc: 0.3167\n",
      "Epoch 84/100\n",
      "240/240 [==============================] - 0s - loss: 0.5177 - acc: 0.8292 - val_loss: 2.3436 - val_acc: 0.3000\n",
      "Epoch 85/100\n",
      "240/240 [==============================] - 0s - loss: 0.3719 - acc: 0.8875 - val_loss: 2.3619 - val_acc: 0.3167\n",
      "Epoch 86/100\n",
      "240/240 [==============================] - 0s - loss: 0.3652 - acc: 0.8792 - val_loss: 2.3715 - val_acc: 0.3333\n",
      "Epoch 87/100\n",
      "240/240 [==============================] - 0s - loss: 0.3251 - acc: 0.8958 - val_loss: 2.3881 - val_acc: 0.3333\n",
      "Epoch 88/100\n",
      "240/240 [==============================] - 0s - loss: 0.3631 - acc: 0.8625 - val_loss: 2.3999 - val_acc: 0.3833\n",
      "Epoch 89/100\n",
      "240/240 [==============================] - 0s - loss: 0.3473 - acc: 0.8708 - val_loss: 2.4111 - val_acc: 0.3833\n",
      "Epoch 90/100\n",
      "240/240 [==============================] - 0s - loss: 0.3708 - acc: 0.8708 - val_loss: 2.4294 - val_acc: 0.3333\n",
      "Epoch 91/100\n",
      "240/240 [==============================] - 0s - loss: 0.3701 - acc: 0.8708 - val_loss: 2.4398 - val_acc: 0.3000\n",
      "Epoch 92/100\n",
      "240/240 [==============================] - 0s - loss: 0.2602 - acc: 0.9083 - val_loss: 2.4338 - val_acc: 0.2833\n",
      "Epoch 93/100\n",
      "240/240 [==============================] - 0s - loss: 0.2491 - acc: 0.8958 - val_loss: 2.4188 - val_acc: 0.3667\n",
      "Epoch 94/100\n",
      "240/240 [==============================] - 0s - loss: 0.3462 - acc: 0.9083 - val_loss: 2.4111 - val_acc: 0.3833\n",
      "Epoch 95/100\n",
      "240/240 [==============================] - 0s - loss: 0.2006 - acc: 0.9375 - val_loss: 2.3988 - val_acc: 0.3833\n",
      "Epoch 96/100\n",
      "240/240 [==============================] - 0s - loss: 0.2515 - acc: 0.9042 - val_loss: 2.3900 - val_acc: 0.3667\n",
      "Epoch 97/100\n",
      "240/240 [==============================] - 0s - loss: 0.2246 - acc: 0.9333 - val_loss: 2.3940 - val_acc: 0.3667\n",
      "Epoch 98/100\n",
      "240/240 [==============================] - 0s - loss: 0.1624 - acc: 0.9458 - val_loss: 2.4119 - val_acc: 0.3667\n",
      "Epoch 99/100\n",
      "240/240 [==============================] - 0s - loss: 0.1707 - acc: 0.9333 - val_loss: 2.4460 - val_acc: 0.3500\n",
      "Epoch 100/100\n",
      "240/240 [==============================] - 0s - loss: 0.1978 - acc: 0.9458 - val_loss: 2.4600 - val_acc: 0.3500\n"
     ]
    }
   ],
   "source": [
    "cnn2_results = cnn2.fit(train_X_mfccs_2D, train_y, batch_size=64, \n",
    "                        epochs=100, validation_data=(cv_X_mfccs_2D, cv_y))"
   ]
  },
  {
   "cell_type": "code",
   "execution_count": 228,
   "metadata": {},
   "outputs": [
    {
     "name": "stdout",
     "output_type": "stream",
     "text": [
      "Best CNN 2 results\n",
      "Train acc: 0.9458\n",
      "CV acc: 0.3833\n"
     ]
    }
   ],
   "source": [
    "# show best results\n",
    "best_training_accuracy = max(cnn2_results.history[\"acc\"])\n",
    "best_validation_accuracy = max(cnn2_results.history[\"val_acc\"])\n",
    "print(\"Best CNN 2 results\\nTrain acc: {:.4f}\\nCV acc: {:.4f}\".format(best_training_accuracy, best_validation_accuracy))"
   ]
  },
  {
   "cell_type": "markdown",
   "metadata": {},
   "source": [
    "We can see that our **best convolutional model's accuracy above 0.35**. The model's performance is very brittle though, highly dependent on random weights initialization. It is also already overfitting. Let's calculate the F1 score for our latest model."
   ]
  },
  {
   "cell_type": "code",
   "execution_count": 229,
   "metadata": {},
   "outputs": [
    {
     "data": {
      "text/plain": [
       "(60, 12)"
      ]
     },
     "execution_count": 229,
     "metadata": {},
     "output_type": "execute_result"
    }
   ],
   "source": [
    "# predict and one-hot encode\n",
    "cnn2_pred_cv_y_mfccs_2D = cnn2.predict(cv_X_mfccs_2D, batch_size=32)\n",
    "cnn2_pred_cv_y_mfccs_2D = utils.one_hot_encode(cnn2_pred_cv_y_mfccs_2D)\n",
    "cnn2_pred_cv_y_mfccs_2D.shape"
   ]
  },
  {
   "cell_type": "code",
   "execution_count": 230,
   "metadata": {},
   "outputs": [
    {
     "name": "stdout",
     "output_type": "stream",
     "text": [
      "CNN 2 accuracy via sklearn (CV): 0.3500\n",
      "CNN 2 f1 score (CV): 0.3767\n"
     ]
    }
   ],
   "source": [
    "# we can also use sklearn directly to get accuracy\n",
    "cnn2_cv_accuracy = accuracy_score(cv_y, cnn2_pred_cv_y_mfccs_2D)\n",
    "cnn2_cv_f1_score = f1_score(cv_y, cnn2_pred_cv_y_mfccs_2D, average=\"weighted\")\n",
    "print(\"CNN 2 accuracy via sklearn (CV): {:.4f}\".format(cnn2_cv_accuracy))\n",
    "print(\"CNN 2 f1 score (CV): {:.4f}\".format(cnn2_cv_f1_score))"
   ]
  },
  {
   "cell_type": "markdown",
   "metadata": {},
   "source": [
    "#### Convolutional models with Tempogram data (2D)\n",
    "We have 2 other forms of preprocessed data with dimensions that lend themselves to convolutions - MEL Spectrogram and Tempogram. Initial experiments with the MEL Spectrogram data didn't yield promising initial results, let's try Tempogram instead."
   ]
  },
  {
   "cell_type": "code",
   "execution_count": 91,
   "metadata": {},
   "outputs": [
    {
     "name": "stdout",
     "output_type": "stream",
     "text": [
      "Tempogram shape:  (240, 384, 32)\n"
     ]
    }
   ],
   "source": [
    "# Our data is already 2D, we don't need to expand dimensions\n",
    "print(\"Tempogram shape: \", train_X_tempogram.shape)"
   ]
  },
  {
   "cell_type": "code",
   "execution_count": 97,
   "metadata": {},
   "outputs": [],
   "source": [
    "cnn3 = Sequential([\n",
    "        Convolution1D(input_shape=(train_X_tempogram.shape[1], train_X_tempogram.shape[2]), \n",
    "                      kernel_size=32, filters=128, padding=\"same\", activation=\"relu\"),\n",
    "        Dropout(0.11),\n",
    "        MaxPooling1D(),\n",
    "        Convolution1D(kernel_size=12, filters=128, padding=\"same\", activation=\"relu\"),\n",
    "        Dropout(0.13),\n",
    "        MaxPooling1D(),\n",
    "        Flatten(),\n",
    "        Dense(2000, activation=\"relu\"),\n",
    "        Dropout(.7),\n",
    "        Dense(num_categories, activation=\"softmax\")\n",
    "    ])\n",
    "\n",
    "cnn3.compile(Adam(lr=0.0001),loss=\"categorical_crossentropy\", metrics=[\"accuracy\"])"
   ]
  },
  {
   "cell_type": "code",
   "execution_count": 98,
   "metadata": {},
   "outputs": [
    {
     "name": "stdout",
     "output_type": "stream",
     "text": [
      "Train on 240 samples, validate on 60 samples\n",
      "Epoch 1/50\n",
      "240/240 [==============================] - 4s - loss: 2.4760 - acc: 0.0917 - val_loss: 2.4169 - val_acc: 0.1167\n",
      "Epoch 2/50\n",
      "240/240 [==============================] - 2s - loss: 2.4466 - acc: 0.1042 - val_loss: 2.4006 - val_acc: 0.1500\n",
      "Epoch 3/50\n",
      "240/240 [==============================] - 2s - loss: 2.4076 - acc: 0.1292 - val_loss: 2.4018 - val_acc: 0.1667\n",
      "Epoch 4/50\n",
      "240/240 [==============================] - 2s - loss: 2.4003 - acc: 0.1625 - val_loss: 2.3901 - val_acc: 0.1833\n",
      "Epoch 5/50\n",
      "240/240 [==============================] - 2s - loss: 2.3821 - acc: 0.1417 - val_loss: 2.3701 - val_acc: 0.1833\n",
      "Epoch 6/50\n",
      "240/240 [==============================] - 2s - loss: 2.3500 - acc: 0.1500 - val_loss: 2.3524 - val_acc: 0.2000\n",
      "Epoch 7/50\n",
      "240/240 [==============================] - 2s - loss: 2.3744 - acc: 0.1792 - val_loss: 2.3573 - val_acc: 0.2333\n",
      "Epoch 8/50\n",
      "240/240 [==============================] - 2s - loss: 2.3599 - acc: 0.1708 - val_loss: 2.3358 - val_acc: 0.2000\n",
      "Epoch 9/50\n",
      "240/240 [==============================] - 2s - loss: 2.3464 - acc: 0.1667 - val_loss: 2.3278 - val_acc: 0.1833\n",
      "Epoch 10/50\n",
      "240/240 [==============================] - 2s - loss: 2.3226 - acc: 0.1708 - val_loss: 2.3227 - val_acc: 0.1833\n",
      "Epoch 11/50\n",
      "240/240 [==============================] - 2s - loss: 2.3286 - acc: 0.1750 - val_loss: 2.3141 - val_acc: 0.1833\n",
      "Epoch 12/50\n",
      "240/240 [==============================] - 2s - loss: 2.2943 - acc: 0.1875 - val_loss: 2.2992 - val_acc: 0.2167\n",
      "Epoch 13/50\n",
      "240/240 [==============================] - 2s - loss: 2.2680 - acc: 0.2375 - val_loss: 2.2972 - val_acc: 0.2167\n",
      "Epoch 14/50\n",
      "240/240 [==============================] - 2s - loss: 2.3057 - acc: 0.1875 - val_loss: 2.2927 - val_acc: 0.2000\n",
      "Epoch 15/50\n",
      "240/240 [==============================] - 2s - loss: 2.2658 - acc: 0.1833 - val_loss: 2.2678 - val_acc: 0.2333\n",
      "Epoch 16/50\n",
      "240/240 [==============================] - 2s - loss: 2.2390 - acc: 0.2042 - val_loss: 2.2697 - val_acc: 0.2000\n",
      "Epoch 17/50\n",
      "240/240 [==============================] - 2s - loss: 2.2391 - acc: 0.2417 - val_loss: 2.2593 - val_acc: 0.2333\n",
      "Epoch 18/50\n",
      "240/240 [==============================] - 2s - loss: 2.2434 - acc: 0.2333 - val_loss: 2.2491 - val_acc: 0.2500\n",
      "Epoch 19/50\n",
      "240/240 [==============================] - 2s - loss: 2.2233 - acc: 0.2292 - val_loss: 2.2484 - val_acc: 0.2500\n",
      "Epoch 20/50\n",
      "240/240 [==============================] - 2s - loss: 2.2043 - acc: 0.2333 - val_loss: 2.2348 - val_acc: 0.2500\n",
      "Epoch 21/50\n",
      "240/240 [==============================] - 2s - loss: 2.2209 - acc: 0.2250 - val_loss: 2.2161 - val_acc: 0.2833\n",
      "Epoch 22/50\n",
      "240/240 [==============================] - 2s - loss: 2.2093 - acc: 0.2333 - val_loss: 2.2156 - val_acc: 0.2500\n",
      "Epoch 23/50\n",
      "240/240 [==============================] - 2s - loss: 2.2051 - acc: 0.2292 - val_loss: 2.2160 - val_acc: 0.2500\n",
      "Epoch 24/50\n",
      "240/240 [==============================] - 2s - loss: 2.1959 - acc: 0.2208 - val_loss: 2.1940 - val_acc: 0.2333\n",
      "Epoch 25/50\n",
      "240/240 [==============================] - 2s - loss: 2.1527 - acc: 0.2792 - val_loss: 2.1822 - val_acc: 0.2333\n",
      "Epoch 26/50\n",
      "240/240 [==============================] - 2s - loss: 2.1617 - acc: 0.2625 - val_loss: 2.1726 - val_acc: 0.2833\n",
      "Epoch 27/50\n",
      "240/240 [==============================] - 2s - loss: 2.1363 - acc: 0.2542 - val_loss: 2.1591 - val_acc: 0.2833\n",
      "Epoch 28/50\n",
      "240/240 [==============================] - 2s - loss: 2.1425 - acc: 0.2667 - val_loss: 2.1491 - val_acc: 0.2667\n",
      "Epoch 29/50\n",
      "240/240 [==============================] - 2s - loss: 2.1138 - acc: 0.2875 - val_loss: 2.1776 - val_acc: 0.2667\n",
      "Epoch 30/50\n",
      "240/240 [==============================] - 2s - loss: 2.1096 - acc: 0.3083 - val_loss: 2.1530 - val_acc: 0.2667\n",
      "Epoch 31/50\n",
      "240/240 [==============================] - 2s - loss: 2.1045 - acc: 0.2792 - val_loss: 2.1347 - val_acc: 0.2833\n",
      "Epoch 32/50\n",
      "240/240 [==============================] - 2s - loss: 2.1094 - acc: 0.2958 - val_loss: 2.1373 - val_acc: 0.3000\n",
      "Epoch 33/50\n",
      "240/240 [==============================] - 2s - loss: 2.0524 - acc: 0.3000 - val_loss: 2.1213 - val_acc: 0.2667\n",
      "Epoch 34/50\n",
      "240/240 [==============================] - 2s - loss: 2.0636 - acc: 0.2917 - val_loss: 2.0976 - val_acc: 0.3167\n",
      "Epoch 35/50\n",
      "240/240 [==============================] - 2s - loss: 2.0188 - acc: 0.3125 - val_loss: 2.0915 - val_acc: 0.3000\n",
      "Epoch 36/50\n",
      "240/240 [==============================] - 2s - loss: 2.0609 - acc: 0.3000 - val_loss: 2.1023 - val_acc: 0.3167\n",
      "Epoch 37/50\n",
      "240/240 [==============================] - 2s - loss: 2.0167 - acc: 0.3208 - val_loss: 2.0878 - val_acc: 0.3000\n",
      "Epoch 38/50\n",
      "240/240 [==============================] - 2s - loss: 1.9785 - acc: 0.3708 - val_loss: 2.0711 - val_acc: 0.3333\n",
      "Epoch 39/50\n",
      "240/240 [==============================] - 2s - loss: 1.9760 - acc: 0.3250 - val_loss: 2.0630 - val_acc: 0.2833\n",
      "Epoch 40/50\n",
      "240/240 [==============================] - 2s - loss: 1.9442 - acc: 0.3500 - val_loss: 2.0455 - val_acc: 0.3333\n",
      "Epoch 41/50\n",
      "240/240 [==============================] - 2s - loss: 1.9865 - acc: 0.3000 - val_loss: 2.0397 - val_acc: 0.3500\n",
      "Epoch 42/50\n",
      "240/240 [==============================] - 2s - loss: 1.9434 - acc: 0.3250 - val_loss: 2.0364 - val_acc: 0.3167\n",
      "Epoch 43/50\n",
      "240/240 [==============================] - 3s - loss: 1.9754 - acc: 0.3083 - val_loss: 2.0151 - val_acc: 0.3167\n",
      "Epoch 44/50\n",
      "240/240 [==============================] - 3s - loss: 1.9031 - acc: 0.3833 - val_loss: 2.0037 - val_acc: 0.3333\n",
      "Epoch 45/50\n",
      "240/240 [==============================] - 2s - loss: 1.9431 - acc: 0.3250 - val_loss: 2.0157 - val_acc: 0.3000\n",
      "Epoch 46/50\n",
      "240/240 [==============================] - 3s - loss: 1.9001 - acc: 0.3667 - val_loss: 2.0070 - val_acc: 0.3167\n",
      "Epoch 47/50\n",
      "240/240 [==============================] - 2s - loss: 1.8910 - acc: 0.3333 - val_loss: 1.9949 - val_acc: 0.3167\n",
      "Epoch 48/50\n",
      "240/240 [==============================] - 2s - loss: 1.8815 - acc: 0.3500 - val_loss: 2.0005 - val_acc: 0.3167\n",
      "Epoch 49/50\n",
      "240/240 [==============================] - 2s - loss: 1.9089 - acc: 0.3250 - val_loss: 1.9903 - val_acc: 0.3000\n",
      "Epoch 50/50\n",
      "240/240 [==============================] - 2s - loss: 1.8556 - acc: 0.3542 - val_loss: 1.9861 - val_acc: 0.3333\n"
     ]
    }
   ],
   "source": [
    "cnn3_results = cnn3.fit(train_X_tempogram, train_y, batch_size=64, \n",
    "                        epochs=50, validation_data=(cv_X_tempogram, cv_y))"
   ]
  },
  {
   "cell_type": "code",
   "execution_count": 99,
   "metadata": {},
   "outputs": [
    {
     "name": "stdout",
     "output_type": "stream",
     "text": [
      "Best CNN 3 results\n",
      "Train acc: 0.3833\n",
      "CV acc: 0.3500\n"
     ]
    }
   ],
   "source": [
    "# show best results\n",
    "best_training_accuracy = max(cnn3_results.history[\"acc\"])\n",
    "best_validation_accuracy = max(cnn3_results.history[\"val_acc\"])\n",
    "print(\"Best CNN 3 results\\nTrain acc: {:.4f}\\nCV acc: {:.4f}\".format(best_training_accuracy, best_validation_accuracy))"
   ]
  },
  {
   "cell_type": "markdown",
   "metadata": {},
   "source": [
    "We can see that our **best convolutional model with the tempogram data reaches an accuracy around 0.35**. This model's performance is far less brittle than the 2D MFCCs. After 50 epochs we aren't particularly overfitting. Let's check the F1 score and continue training for a couple more epochs."
   ]
  },
  {
   "cell_type": "code",
   "execution_count": 100,
   "metadata": {},
   "outputs": [
    {
     "data": {
      "text/plain": [
       "(60, 12)"
      ]
     },
     "execution_count": 100,
     "metadata": {},
     "output_type": "execute_result"
    }
   ],
   "source": [
    "# predict and one-hot encode\n",
    "cnn3_pred_cv_y_tempogram = cnn3.predict(cv_X_tempogram, batch_size=32)\n",
    "cnn3_pred_cv_y_tempogram = utils.one_hot_encode(cnn3_pred_cv_y_tempogram)\n",
    "cnn3_pred_cv_y_tempogram.shape"
   ]
  },
  {
   "cell_type": "code",
   "execution_count": 101,
   "metadata": {},
   "outputs": [
    {
     "name": "stdout",
     "output_type": "stream",
     "text": [
      "CNN 3 (tempogram) accuracy via sklearn (CV): 0.3333\n",
      "CNN 3 (tempogram) f1 score (CV): 0.2913\n"
     ]
    }
   ],
   "source": [
    "# we can also use sklearn directly to get accuracy\n",
    "cnn3_cv_accuracy = accuracy_score(cv_y, cnn3_pred_cv_y_tempogram)\n",
    "cnn3_cv_f1_score = f1_score(cv_y, cnn3_pred_cv_y_tempogram, average=\"weighted\")\n",
    "print(\"CNN 3 (tempogram) accuracy via sklearn (CV): {:.4f}\".format(cnn3_cv_accuracy))\n",
    "print(\"CNN 3 (tempogram) f1 score (CV): {:.4f}\".format(cnn3_cv_f1_score))"
   ]
  },
  {
   "cell_type": "code",
   "execution_count": 102,
   "metadata": {},
   "outputs": [
    {
     "name": "stdout",
     "output_type": "stream",
     "text": [
      "Train on 240 samples, validate on 60 samples\n",
      "Epoch 1/50\n",
      "240/240 [==============================] - 2s - loss: 1.8663 - acc: 0.3333 - val_loss: 1.9622 - val_acc: 0.3500\n",
      "Epoch 2/50\n",
      "240/240 [==============================] - 2s - loss: 1.8919 - acc: 0.3167 - val_loss: 1.9641 - val_acc: 0.3500\n",
      "Epoch 3/50\n",
      "240/240 [==============================] - 2s - loss: 1.8349 - acc: 0.3667 - val_loss: 1.9515 - val_acc: 0.3667\n",
      "Epoch 4/50\n",
      "240/240 [==============================] - 2s - loss: 1.8632 - acc: 0.3333 - val_loss: 1.9513 - val_acc: 0.3667\n",
      "Epoch 5/50\n",
      "240/240 [==============================] - 2s - loss: 1.7914 - acc: 0.4000 - val_loss: 1.9441 - val_acc: 0.3667\n",
      "Epoch 6/50\n",
      "240/240 [==============================] - 2s - loss: 1.8184 - acc: 0.3792 - val_loss: 1.9343 - val_acc: 0.3667\n",
      "Epoch 7/50\n",
      "240/240 [==============================] - 2s - loss: 1.8228 - acc: 0.3792 - val_loss: 1.9309 - val_acc: 0.3500\n",
      "Epoch 8/50\n",
      "240/240 [==============================] - 2s - loss: 1.8108 - acc: 0.3458 - val_loss: 1.9374 - val_acc: 0.3833\n",
      "Epoch 9/50\n",
      "240/240 [==============================] - 2s - loss: 1.7938 - acc: 0.3833 - val_loss: 1.9289 - val_acc: 0.3667\n",
      "Epoch 10/50\n",
      "240/240 [==============================] - 2s - loss: 1.8062 - acc: 0.3833 - val_loss: 1.9286 - val_acc: 0.3833\n",
      "Epoch 11/50\n",
      "240/240 [==============================] - 2s - loss: 1.7849 - acc: 0.3375 - val_loss: 1.9200 - val_acc: 0.3667\n",
      "Epoch 12/50\n",
      "240/240 [==============================] - 2s - loss: 1.7493 - acc: 0.3875 - val_loss: 1.9068 - val_acc: 0.3500\n",
      "Epoch 13/50\n",
      "240/240 [==============================] - 2s - loss: 1.7274 - acc: 0.4375 - val_loss: 1.9044 - val_acc: 0.3500\n",
      "Epoch 14/50\n",
      "240/240 [==============================] - 2s - loss: 1.7345 - acc: 0.3958 - val_loss: 1.9137 - val_acc: 0.3667\n",
      "Epoch 15/50\n",
      "240/240 [==============================] - 2s - loss: 1.7547 - acc: 0.3917 - val_loss: 1.9177 - val_acc: 0.3667\n",
      "Epoch 16/50\n",
      "240/240 [==============================] - 2s - loss: 1.7387 - acc: 0.4125 - val_loss: 1.9047 - val_acc: 0.4000\n",
      "Epoch 17/50\n",
      "240/240 [==============================] - 2s - loss: 1.7286 - acc: 0.3750 - val_loss: 1.9001 - val_acc: 0.4000\n",
      "Epoch 18/50\n",
      "240/240 [==============================] - 2s - loss: 1.7485 - acc: 0.4000 - val_loss: 1.9245 - val_acc: 0.3667\n",
      "Epoch 19/50\n",
      "240/240 [==============================] - 2s - loss: 1.7070 - acc: 0.4083 - val_loss: 1.9221 - val_acc: 0.3833\n",
      "Epoch 20/50\n",
      "240/240 [==============================] - 2s - loss: 1.7264 - acc: 0.3875 - val_loss: 1.9156 - val_acc: 0.3500\n",
      "Epoch 21/50\n",
      "240/240 [==============================] - 2s - loss: 1.7418 - acc: 0.3917 - val_loss: 1.9227 - val_acc: 0.3667\n",
      "Epoch 22/50\n",
      "240/240 [==============================] - 2s - loss: 1.6804 - acc: 0.4250 - val_loss: 1.8997 - val_acc: 0.3333\n",
      "Epoch 23/50\n",
      "240/240 [==============================] - 2s - loss: 1.6447 - acc: 0.4417 - val_loss: 1.9037 - val_acc: 0.3667\n",
      "Epoch 24/50\n",
      "240/240 [==============================] - 2s - loss: 1.6794 - acc: 0.4208 - val_loss: 1.8957 - val_acc: 0.3833\n",
      "Epoch 25/50\n",
      "240/240 [==============================] - 2s - loss: 1.6816 - acc: 0.4042 - val_loss: 1.8880 - val_acc: 0.3500\n",
      "Epoch 26/50\n",
      "240/240 [==============================] - 2s - loss: 1.6686 - acc: 0.4042 - val_loss: 1.9014 - val_acc: 0.3333\n",
      "Epoch 27/50\n",
      "240/240 [==============================] - 2s - loss: 1.6584 - acc: 0.4125 - val_loss: 1.8999 - val_acc: 0.3333\n",
      "Epoch 28/50\n",
      "240/240 [==============================] - 2s - loss: 1.7168 - acc: 0.4125 - val_loss: 1.8923 - val_acc: 0.3333\n",
      "Epoch 29/50\n",
      "240/240 [==============================] - 2s - loss: 1.6537 - acc: 0.4625 - val_loss: 1.8996 - val_acc: 0.3500\n",
      "Epoch 30/50\n",
      "240/240 [==============================] - 2s - loss: 1.6205 - acc: 0.4625 - val_loss: 1.8999 - val_acc: 0.3500\n",
      "Epoch 31/50\n",
      "240/240 [==============================] - 2s - loss: 1.5866 - acc: 0.4792 - val_loss: 1.8975 - val_acc: 0.3833\n",
      "Epoch 32/50\n",
      "240/240 [==============================] - 2s - loss: 1.6386 - acc: 0.4292 - val_loss: 1.8875 - val_acc: 0.3667\n",
      "Epoch 33/50\n",
      "240/240 [==============================] - 2s - loss: 1.5948 - acc: 0.4333 - val_loss: 1.9121 - val_acc: 0.3667\n",
      "Epoch 34/50\n",
      "240/240 [==============================] - 2s - loss: 1.6026 - acc: 0.4333 - val_loss: 1.8950 - val_acc: 0.3500\n",
      "Epoch 35/50\n",
      "240/240 [==============================] - 2s - loss: 1.6066 - acc: 0.4333 - val_loss: 1.8973 - val_acc: 0.3667\n",
      "Epoch 36/50\n",
      "240/240 [==============================] - 2s - loss: 1.6021 - acc: 0.4542 - val_loss: 1.9071 - val_acc: 0.3500\n",
      "Epoch 37/50\n",
      "240/240 [==============================] - 2s - loss: 1.5608 - acc: 0.4708 - val_loss: 1.9079 - val_acc: 0.3333\n",
      "Epoch 38/50\n",
      "240/240 [==============================] - 2s - loss: 1.5606 - acc: 0.4958 - val_loss: 1.9087 - val_acc: 0.3667\n",
      "Epoch 39/50\n",
      "240/240 [==============================] - 2s - loss: 1.5695 - acc: 0.4417 - val_loss: 1.9151 - val_acc: 0.3667\n",
      "Epoch 40/50\n",
      "240/240 [==============================] - 2s - loss: 1.5732 - acc: 0.4583 - val_loss: 1.9063 - val_acc: 0.3333\n",
      "Epoch 41/50\n",
      "240/240 [==============================] - 2s - loss: 1.5532 - acc: 0.4667 - val_loss: 1.9142 - val_acc: 0.3333\n",
      "Epoch 42/50\n",
      "240/240 [==============================] - 2s - loss: 1.5403 - acc: 0.4292 - val_loss: 1.9064 - val_acc: 0.3333\n",
      "Epoch 43/50\n",
      "240/240 [==============================] - 2s - loss: 1.5204 - acc: 0.4958 - val_loss: 1.9090 - val_acc: 0.3500\n",
      "Epoch 44/50\n",
      "240/240 [==============================] - 2s - loss: 1.5224 - acc: 0.4917 - val_loss: 1.9179 - val_acc: 0.3667\n",
      "Epoch 45/50\n",
      "240/240 [==============================] - 2s - loss: 1.5724 - acc: 0.4833 - val_loss: 1.9155 - val_acc: 0.3333\n",
      "Epoch 46/50\n",
      "240/240 [==============================] - 2s - loss: 1.5794 - acc: 0.4250 - val_loss: 1.9097 - val_acc: 0.3333\n",
      "Epoch 47/50\n",
      "240/240 [==============================] - 2s - loss: 1.5236 - acc: 0.4625 - val_loss: 1.9284 - val_acc: 0.3333\n",
      "Epoch 48/50\n",
      "240/240 [==============================] - 2s - loss: 1.5187 - acc: 0.4958 - val_loss: 1.9164 - val_acc: 0.3667\n",
      "Epoch 49/50\n",
      "240/240 [==============================] - 2s - loss: 1.4836 - acc: 0.5000 - val_loss: 1.9084 - val_acc: 0.3500\n",
      "Epoch 50/50\n",
      "240/240 [==============================] - 2s - loss: 1.5036 - acc: 0.5083 - val_loss: 1.9205 - val_acc: 0.3833\n"
     ]
    }
   ],
   "source": [
    "cnn3_results = cnn3.fit(train_X_tempogram, train_y, batch_size=64, \n",
    "                        epochs=50, validation_data=(cv_X_tempogram, cv_y))"
   ]
  },
  {
   "cell_type": "code",
   "execution_count": 103,
   "metadata": {},
   "outputs": [
    {
     "name": "stdout",
     "output_type": "stream",
     "text": [
      "Best CNN 3 results\n",
      "Train acc: 0.5083\n",
      "CV acc: 0.4000\n"
     ]
    }
   ],
   "source": [
    "# show best results after another 50 epochs\n",
    "best_training_accuracy = max(cnn3_results.history[\"acc\"])\n",
    "best_validation_accuracy = max(cnn3_results.history[\"val_acc\"])\n",
    "print(\"Best CNN 3 results\\nTrain acc: {:.4f}\\nCV acc: {:.4f}\".format(best_training_accuracy, best_validation_accuracy))"
   ]
  },
  {
   "cell_type": "code",
   "execution_count": 104,
   "metadata": {},
   "outputs": [
    {
     "name": "stdout",
     "output_type": "stream",
     "text": [
      "Final CNN 3 (tempogram) accuracy via sklearn (CV): 0.3833\n",
      "Final CNN 3 (tempogram) f1 score (CV): 0.3357\n"
     ]
    }
   ],
   "source": [
    "# predict and one-hot encode\n",
    "cnn3_pred_cv_y_tempogram = cnn3.predict(cv_X_tempogram, batch_size=32)\n",
    "cnn3_pred_cv_y_tempogram = utils.one_hot_encode(cnn3_pred_cv_y_tempogram)\n",
    "\n",
    "# we can also use sklearn directly to get accuracy\n",
    "cnn3_cv_accuracy = accuracy_score(cv_y, cnn3_pred_cv_y_tempogram)\n",
    "cnn3_cv_f1_score = f1_score(cv_y, cnn3_pred_cv_y_tempogram, average=\"weighted\")\n",
    "print(\"Final CNN 3 (tempogram) accuracy via sklearn (CV): {:.4f}\".format(cnn3_cv_accuracy))\n",
    "print(\"Final CNN 3 (tempogram) f1 score (CV): {:.4f}\".format(cnn3_cv_f1_score))"
   ]
  },
  {
   "cell_type": "markdown",
   "metadata": {},
   "source": [
    "We have reached the **best CV accuracy so far - 0.4**, but we're beginning to overfit. Given that we're working on a relatively small sample, this could be a viable starting point for training models on the entire training set."
   ]
  },
  {
   "cell_type": "markdown",
   "metadata": {},
   "source": [
    "### Recurrent Models\n",
    "We can also try to take advantage of the architectures specifically designed for time sequences: RNNs. We will start with the basic keras implementations of simple RNN. After that we can consider moving on to GRUs & LSTMs."
   ]
  },
  {
   "cell_type": "markdown",
   "metadata": {},
   "source": [
    "#### Simple RNN"
   ]
  },
  {
   "cell_type": "code",
   "execution_count": 51,
   "metadata": {},
   "outputs": [],
   "source": [
    "rnn_1 = Sequential([\n",
    "        SimpleRNN(input_shape=(conv_train_X_mfccs_1D.shape[1], 1), units=1000, activation='relu'),\n",
    "        Dropout(.4),\n",
    "        Dense(2000, activation=\"relu\"),\n",
    "        BatchNormalization(),\n",
    "        Dropout(.8),\n",
    "        Dense(num_categories, activation=\"softmax\")\n",
    "    ])\n",
    "\n",
    "rnn_1.compile(Adam(lr=0.001),loss=\"categorical_crossentropy\", metrics=[\"accuracy\"])"
   ]
  },
  {
   "cell_type": "code",
   "execution_count": 52,
   "metadata": {},
   "outputs": [
    {
     "name": "stdout",
     "output_type": "stream",
     "text": [
      "Train on 240 samples, validate on 60 samples\n",
      "Epoch 1/50\n",
      "240/240 [==============================] - 8s - loss: 3.7420 - acc: 0.0917 - val_loss: 2.4786 - val_acc: 0.0833\n",
      "Epoch 2/50\n",
      "240/240 [==============================] - 6s - loss: 3.2680 - acc: 0.1333 - val_loss: 2.4763 - val_acc: 0.0833\n",
      "Epoch 3/50\n",
      "240/240 [==============================] - 6s - loss: 3.1245 - acc: 0.1083 - val_loss: 2.4735 - val_acc: 0.1000\n",
      "Epoch 4/50\n",
      "240/240 [==============================] - 6s - loss: 3.0108 - acc: 0.1417 - val_loss: 2.4777 - val_acc: 0.0833\n",
      "Epoch 5/50\n",
      "240/240 [==============================] - 6s - loss: 2.8757 - acc: 0.1792 - val_loss: 2.4826 - val_acc: 0.0833\n",
      "Epoch 6/50\n",
      "240/240 [==============================] - 6s - loss: 2.8516 - acc: 0.1333 - val_loss: 2.4814 - val_acc: 0.1000\n",
      "Epoch 7/50\n",
      "240/240 [==============================] - 6s - loss: 2.6712 - acc: 0.1500 - val_loss: 2.4785 - val_acc: 0.0667\n",
      "Epoch 8/50\n",
      "240/240 [==============================] - 7s - loss: 2.7017 - acc: 0.1417 - val_loss: 2.4772 - val_acc: 0.1000\n",
      "Epoch 9/50\n",
      "240/240 [==============================] - 7s - loss: 2.7979 - acc: 0.1292 - val_loss: 2.4802 - val_acc: 0.0500\n",
      "Epoch 10/50\n",
      "240/240 [==============================] - 8s - loss: 2.6468 - acc: 0.1667 - val_loss: 2.4824 - val_acc: 0.0667\n",
      "Epoch 11/50\n",
      "240/240 [==============================] - 7s - loss: 2.5629 - acc: 0.2167 - val_loss: 2.4779 - val_acc: 0.0667\n",
      "Epoch 12/50\n",
      "240/240 [==============================] - 7s - loss: 2.4955 - acc: 0.1708 - val_loss: 2.4744 - val_acc: 0.1167\n",
      "Epoch 13/50\n",
      "240/240 [==============================] - 8s - loss: 2.5015 - acc: 0.2125 - val_loss: 2.4713 - val_acc: 0.1000\n",
      "Epoch 14/50\n",
      "240/240 [==============================] - 8s - loss: 2.4450 - acc: 0.1750 - val_loss: 2.4696 - val_acc: 0.0500\n",
      "Epoch 15/50\n",
      "240/240 [==============================] - 7s - loss: 2.3047 - acc: 0.2542 - val_loss: 2.4758 - val_acc: 0.0833\n",
      "Epoch 16/50\n",
      "240/240 [==============================] - 8s - loss: 2.3290 - acc: 0.2417 - val_loss: 2.4769 - val_acc: 0.1000\n",
      "Epoch 17/50\n",
      "240/240 [==============================] - 8s - loss: 2.2927 - acc: 0.2292 - val_loss: 2.4729 - val_acc: 0.1167\n",
      "Epoch 18/50\n",
      "240/240 [==============================] - 8s - loss: 2.3143 - acc: 0.2667 - val_loss: 2.4669 - val_acc: 0.0833\n",
      "Epoch 19/50\n",
      "240/240 [==============================] - 8s - loss: 2.1273 - acc: 0.2958 - val_loss: 2.4643 - val_acc: 0.1167\n",
      "Epoch 20/50\n",
      "240/240 [==============================] - 8s - loss: 2.0852 - acc: 0.3083 - val_loss: 2.4597 - val_acc: 0.1667\n",
      "Epoch 21/50\n",
      "240/240 [==============================] - 8s - loss: 2.1143 - acc: 0.3000 - val_loss: 2.4625 - val_acc: 0.1333\n",
      "Epoch 22/50\n",
      "240/240 [==============================] - 8s - loss: 1.9646 - acc: 0.3583 - val_loss: 2.4644 - val_acc: 0.1000\n",
      "Epoch 23/50\n",
      "240/240 [==============================] - 8s - loss: 2.0197 - acc: 0.3375 - val_loss: 2.4587 - val_acc: 0.1167\n",
      "Epoch 24/50\n",
      "240/240 [==============================] - 8s - loss: 1.8677 - acc: 0.3792 - val_loss: 2.4584 - val_acc: 0.1000\n",
      "Epoch 25/50\n",
      "240/240 [==============================] - 8s - loss: 1.8667 - acc: 0.3667 - val_loss: 2.4677 - val_acc: 0.0500\n",
      "Epoch 26/50\n",
      "240/240 [==============================] - 8s - loss: 1.7144 - acc: 0.4083 - val_loss: 2.4628 - val_acc: 0.0667\n",
      "Epoch 27/50\n",
      "240/240 [==============================] - 8s - loss: 1.7474 - acc: 0.4000 - val_loss: 2.4594 - val_acc: 0.1000\n",
      "Epoch 28/50\n",
      "240/240 [==============================] - 7s - loss: 1.5764 - acc: 0.4917 - val_loss: 2.4463 - val_acc: 0.0667\n",
      "Epoch 29/50\n",
      "240/240 [==============================] - 7s - loss: 1.4552 - acc: 0.5167 - val_loss: 2.4443 - val_acc: 0.0833\n",
      "Epoch 30/50\n",
      "240/240 [==============================] - 7s - loss: 1.4246 - acc: 0.5417 - val_loss: 2.4386 - val_acc: 0.1000\n",
      "Epoch 31/50\n",
      "240/240 [==============================] - 7s - loss: 1.3248 - acc: 0.5708 - val_loss: 2.4586 - val_acc: 0.1000\n",
      "Epoch 32/50\n",
      "240/240 [==============================] - 7s - loss: 1.2092 - acc: 0.6333 - val_loss: 2.4410 - val_acc: 0.1000\n",
      "Epoch 33/50\n",
      "240/240 [==============================] - 7s - loss: 1.0812 - acc: 0.6333 - val_loss: 2.4526 - val_acc: 0.1167\n",
      "Epoch 34/50\n",
      "240/240 [==============================] - 7s - loss: 1.0745 - acc: 0.6292 - val_loss: 2.4697 - val_acc: 0.0833\n",
      "Epoch 35/50\n",
      "240/240 [==============================] - 7s - loss: 0.9265 - acc: 0.7083 - val_loss: 2.4871 - val_acc: 0.0667\n",
      "Epoch 36/50\n",
      "240/240 [==============================] - 7s - loss: 0.8562 - acc: 0.7292 - val_loss: 2.5070 - val_acc: 0.0833\n",
      "Epoch 37/50\n",
      "240/240 [==============================] - 7s - loss: 0.7941 - acc: 0.7625 - val_loss: 2.4631 - val_acc: 0.0667\n",
      "Epoch 38/50\n",
      "240/240 [==============================] - 8s - loss: 0.7608 - acc: 0.7708 - val_loss: 2.4724 - val_acc: 0.1167\n",
      "Epoch 39/50\n",
      "240/240 [==============================] - 7s - loss: 0.7329 - acc: 0.7583 - val_loss: 2.4883 - val_acc: 0.0833\n",
      "Epoch 40/50\n",
      "240/240 [==============================] - 7s - loss: 0.6417 - acc: 0.7833 - val_loss: 2.5473 - val_acc: 0.0167\n",
      "Epoch 41/50\n",
      "240/240 [==============================] - 7s - loss: 0.6183 - acc: 0.8167 - val_loss: 2.5189 - val_acc: 0.0833\n",
      "Epoch 42/50\n",
      "240/240 [==============================] - 7s - loss: 0.5644 - acc: 0.8167 - val_loss: 2.5496 - val_acc: 0.1000\n",
      "Epoch 43/50\n",
      "240/240 [==============================] - 7s - loss: 0.5527 - acc: 0.8250 - val_loss: 2.5372 - val_acc: 0.1500\n",
      "Epoch 44/50\n",
      "240/240 [==============================] - 8s - loss: 0.4331 - acc: 0.8583 - val_loss: 2.5462 - val_acc: 0.0667\n",
      "Epoch 45/50\n",
      "240/240 [==============================] - 7s - loss: 0.3994 - acc: 0.8708 - val_loss: 2.6039 - val_acc: 0.1167\n",
      "Epoch 46/50\n",
      "240/240 [==============================] - 8s - loss: 0.3492 - acc: 0.8875 - val_loss: 2.6308 - val_acc: 0.0667\n",
      "Epoch 47/50\n",
      "240/240 [==============================] - 7s - loss: 0.3296 - acc: 0.8750 - val_loss: 2.6817 - val_acc: 0.0500\n",
      "Epoch 48/50\n",
      "240/240 [==============================] - 8s - loss: 0.2717 - acc: 0.9250 - val_loss: 2.7143 - val_acc: 0.1333\n",
      "Epoch 49/50\n",
      "240/240 [==============================] - 8s - loss: 0.1985 - acc: 0.9458 - val_loss: 2.7824 - val_acc: 0.0667\n",
      "Epoch 50/50\n",
      "240/240 [==============================] - 7s - loss: 0.2515 - acc: 0.9375 - val_loss: 2.8268 - val_acc: 0.0500\n"
     ]
    }
   ],
   "source": [
    "rnn_1_results = rnn_1.fit(conv_train_X_mfccs_1D, train_y, batch_size=32, epochs=50, validation_data=(conv_cv_X_mfccs_1D, cv_y))"
   ]
  },
  {
   "cell_type": "code",
   "execution_count": 54,
   "metadata": {},
   "outputs": [
    {
     "name": "stdout",
     "output_type": "stream",
     "text": [
      "Best RNN 1 results\n",
      "Train acc: 0.9458\n",
      "CV acc: 0.1667\n"
     ]
    }
   ],
   "source": [
    "# show best results after another 50 epochs\n",
    "best_training_accuracy = max(rnn_1_results.history[\"acc\"])\n",
    "best_validation_accuracy = max(rnn_1_results.history[\"val_acc\"])\n",
    "print(\"Best RNN 1 results\\nTrain acc: {:.4f}\\nCV acc: {:.4f}\".format(best_training_accuracy, best_validation_accuracy))"
   ]
  },
  {
   "cell_type": "markdown",
   "metadata": {},
   "source": [
    "Even after some experiments to reduce overfitting our SimpleRNN doesn't seem able to get a good CV accuracy."
   ]
  },
  {
   "cell_type": "markdown",
   "metadata": {},
   "source": [
    "#### GRU\n",
    "Let's try the Gated Recurrent Unit network."
   ]
  },
  {
   "cell_type": "code",
   "execution_count": 118,
   "metadata": {},
   "outputs": [],
   "source": [
    "rnn_2 = Sequential([\n",
    "        GRU(input_shape=(conv_train_X_mfccs_1D.shape[1], 1), units=1000, activation='tanh'),\n",
    "        Dense(1000, activation=\"relu\"),\n",
    "        BatchNormalization(),\n",
    "        Dropout(.7),\n",
    "        Dense(num_categories, activation=\"softmax\")\n",
    "    ])\n",
    "\n",
    "rnn_2.compile(Adam(lr=0.003),loss=\"categorical_crossentropy\", metrics=[\"accuracy\"])"
   ]
  },
  {
   "cell_type": "code",
   "execution_count": 119,
   "metadata": {},
   "outputs": [
    {
     "name": "stdout",
     "output_type": "stream",
     "text": [
      "Train on 240 samples, validate on 60 samples\n",
      "Epoch 1/10\n",
      "240/240 [==============================] - 26s - loss: 4.2266 - acc: 0.0708 - val_loss: 2.7199 - val_acc: 0.0833\n",
      "Epoch 2/10\n",
      "240/240 [==============================] - 21s - loss: 4.3152 - acc: 0.0917 - val_loss: 6.1280 - val_acc: 0.1167\n",
      "Epoch 3/10\n",
      "240/240 [==============================] - 19s - loss: 3.6099 - acc: 0.0792 - val_loss: 6.5881 - val_acc: 0.0833\n",
      "Epoch 4/10\n",
      "240/240 [==============================] - 21s - loss: 3.8228 - acc: 0.0792 - val_loss: 12.8300 - val_acc: 0.0833\n",
      "Epoch 5/10\n",
      "240/240 [==============================] - 20s - loss: 2.9018 - acc: 0.0917 - val_loss: 12.3476 - val_acc: 0.0833\n",
      "Epoch 6/10\n",
      "240/240 [==============================] - 20s - loss: 2.5534 - acc: 0.1667 - val_loss: 11.3755 - val_acc: 0.0833\n",
      "Epoch 7/10\n",
      "240/240 [==============================] - 20s - loss: 3.9685 - acc: 0.1042 - val_loss: 8.7863 - val_acc: 0.1167\n",
      "Epoch 8/10\n",
      "240/240 [==============================] - 20s - loss: 3.3102 - acc: 0.1208 - val_loss: 8.2222 - val_acc: 0.1167\n",
      "Epoch 9/10\n",
      "240/240 [==============================] - 20s - loss: 3.6101 - acc: 0.0958 - val_loss: 6.0353 - val_acc: 0.1167\n",
      "Epoch 10/10\n",
      "240/240 [==============================] - 19s - loss: 3.3395 - acc: 0.1083 - val_loss: 5.5199 - val_acc: 0.1167\n"
     ]
    }
   ],
   "source": [
    "rnn_2_results = rnn_2.fit(conv_train_X_mfccs_1D, train_y, batch_size=32, epochs=10, validation_data=(conv_cv_X_mfccs_1D, cv_y))"
   ]
  },
  {
   "cell_type": "markdown",
   "metadata": {},
   "source": [
    "Similarly the nearly-default GRU architecture doesn't seem promising. Let's try the LSTM for dilligence's sake."
   ]
  },
  {
   "cell_type": "markdown",
   "metadata": {},
   "source": [
    "#### LSTM"
   ]
  },
  {
   "cell_type": "code",
   "execution_count": 22,
   "metadata": {},
   "outputs": [],
   "source": [
    "rnn_3 = Sequential([\n",
    "        LSTM(input_shape=(conv_train_X_mfccs_1D.shape[1], 1), units=1000, activation='tanh'),\n",
    "        Dense(1000, activation=\"relu\"),\n",
    "        BatchNormalization(),\n",
    "        Dropout(.7),\n",
    "        Dense(num_categories, activation=\"softmax\")\n",
    "    ])\n",
    "\n",
    "rnn_3.compile(Adam(lr=0.001),loss=\"categorical_crossentropy\", metrics=[\"accuracy\"])"
   ]
  },
  {
   "cell_type": "code",
   "execution_count": 23,
   "metadata": {},
   "outputs": [
    {
     "name": "stdout",
     "output_type": "stream",
     "text": [
      "Train on 240 samples, validate on 60 samples\n",
      "Epoch 1/10\n",
      "240/240 [==============================] - 14s - loss: 3.1245 - acc: 0.1083 - val_loss: 2.4812 - val_acc: 0.1000\n",
      "Epoch 2/10\n",
      "240/240 [==============================] - 12s - loss: 2.7994 - acc: 0.0833 - val_loss: 2.4873 - val_acc: 0.0500\n",
      "Epoch 3/10\n",
      "240/240 [==============================] - 12s - loss: 2.8856 - acc: 0.0792 - val_loss: 2.4869 - val_acc: 0.1000\n",
      "Epoch 4/10\n",
      "240/240 [==============================] - 12s - loss: 2.8621 - acc: 0.0792 - val_loss: 2.4864 - val_acc: 0.0833\n",
      "Epoch 5/10\n",
      "240/240 [==============================] - 12s - loss: 2.6422 - acc: 0.1042 - val_loss: 2.4840 - val_acc: 0.0667\n",
      "Epoch 6/10\n",
      "240/240 [==============================] - 12s - loss: 2.6223 - acc: 0.0833 - val_loss: 2.4865 - val_acc: 0.0833\n",
      "Epoch 7/10\n",
      "240/240 [==============================] - 12s - loss: 2.6100 - acc: 0.1125 - val_loss: 2.4869 - val_acc: 0.0667\n",
      "Epoch 8/10\n",
      "240/240 [==============================] - 12s - loss: 2.5333 - acc: 0.0917 - val_loss: 2.4876 - val_acc: 0.0833\n",
      "Epoch 9/10\n",
      "240/240 [==============================] - 12s - loss: 2.5045 - acc: 0.1375 - val_loss: 2.4857 - val_acc: 0.1167\n",
      "Epoch 10/10\n",
      "240/240 [==============================] - 12s - loss: 2.4933 - acc: 0.0958 - val_loss: 2.4851 - val_acc: 0.0667\n"
     ]
    }
   ],
   "source": [
    "rnn_3_results = rnn_3.fit(conv_train_X_mfccs_1D, train_y, batch_size=32, epochs=10, validation_data=(conv_cv_X_mfccs_1D, cv_y))"
   ]
  },
  {
   "cell_type": "markdown",
   "metadata": {},
   "source": [
    "Seems that we might be running into the same obstacle as we did in our other non-convolutional models, namely the fact that the actual utterance may come at many places within the 1 second sample and the recurrent models can't pick up on that, being very order-dependent. We could consider using convolutional transformations on smaller time-slices and then running that through recurrent models."
   ]
  },
  {
   "cell_type": "markdown",
   "metadata": {},
   "source": [
    "### Combining data preprocessed in 2 different ways\n",
    "We saw that our models seem to be doing well on the 2D MFCCs and Tempogram data. Perhaps these two forms of preprocessing capture different nuances of our sets - if so, we might be able to benefit from combining them into one input matrix per example.\n",
    "\n",
    "There's a nuance here that we have to take into consideration - since we are effectively concating the 2D MFCCs and Tempogram matrices together we can no longer rely on 1D convolutional layers, as they only do 1 pass (horizontally) over the input data, which (depending on chosen kernel size) might mean our convolutions never actually \"see\" on of the data sources. In consequence our models will take much longer to train, forcing us to limit the number of filters."
   ]
  },
  {
   "cell_type": "code",
   "execution_count": 16,
   "metadata": {},
   "outputs": [
    {
     "data": {
      "text/plain": [
       "(384, 32)"
      ]
     },
     "execution_count": 16,
     "metadata": {},
     "output_type": "execute_result"
    }
   ],
   "source": [
    "# let's grab a single example from our tempogram data\n",
    "example_tempogram = train_X_tempogram[0]\n",
    "example_tempogram.shape"
   ]
  },
  {
   "cell_type": "code",
   "execution_count": 17,
   "metadata": {},
   "outputs": [
    {
     "data": {
      "text/plain": [
       "(100, 32)"
      ]
     },
     "execution_count": 17,
     "metadata": {},
     "output_type": "execute_result"
    }
   ],
   "source": [
    "# and from our 2D MFCCs\n",
    "example_mfccs_2D = train_X_mfccs_2D[0]\n",
    "example_mfccs_2D.shape"
   ]
  },
  {
   "cell_type": "markdown",
   "metadata": {},
   "source": [
    "We can see that they share the same number of dimensions along one of the axes."
   ]
  },
  {
   "cell_type": "code",
   "execution_count": 18,
   "metadata": {},
   "outputs": [
    {
     "data": {
      "text/plain": [
       "(484, 32)"
      ]
     },
     "execution_count": 18,
     "metadata": {},
     "output_type": "execute_result"
    }
   ],
   "source": [
    "example_combined = np.concatenate((example_tempogram, example_mfccs_2D), axis=0)\n",
    "example_combined.shape"
   ]
  },
  {
   "cell_type": "markdown",
   "metadata": {},
   "source": [
    "We can also do this with 3D matrices, like the ones that hold our entire preprocessed Xs (adjusting the axes number)."
   ]
  },
  {
   "cell_type": "code",
   "execution_count": 19,
   "metadata": {},
   "outputs": [
    {
     "data": {
      "text/plain": [
       "(240, 484, 32)"
      ]
     },
     "execution_count": 19,
     "metadata": {},
     "output_type": "execute_result"
    }
   ],
   "source": [
    "train_X_combined = np.concatenate((train_X_tempogram, train_X_mfccs_2D), axis=1)\n",
    "train_X_combined.shape"
   ]
  },
  {
   "cell_type": "code",
   "execution_count": 20,
   "metadata": {},
   "outputs": [
    {
     "data": {
      "text/plain": [
       "(60, 484, 32)"
      ]
     },
     "execution_count": 20,
     "metadata": {},
     "output_type": "execute_result"
    }
   ],
   "source": [
    "# repeat for CV and Test sets\n",
    "cv_X_combined = np.concatenate((cv_X_tempogram, cv_X_mfccs_2D), axis=1)\n",
    "test_X_combined = np.concatenate((test_X_tempogram, test_X_mfccs_2D), axis=1)\n",
    "cv_X_combined.shape"
   ]
  },
  {
   "cell_type": "markdown",
   "metadata": {},
   "source": [
    "We are interested in 2D convolutions this time, so let's expand with a single channel."
   ]
  },
  {
   "cell_type": "code",
   "execution_count": 21,
   "metadata": {},
   "outputs": [
    {
     "data": {
      "text/plain": [
       "(240, 484, 32, 1)"
      ]
     },
     "execution_count": 21,
     "metadata": {},
     "output_type": "execute_result"
    }
   ],
   "source": [
    "train_X_combined = np.expand_dims(train_X_combined, axis=3)\n",
    "train_X_combined.shape"
   ]
  },
  {
   "cell_type": "code",
   "execution_count": 22,
   "metadata": {},
   "outputs": [
    {
     "data": {
      "text/plain": [
       "(60, 484, 32, 1)"
      ]
     },
     "execution_count": 22,
     "metadata": {},
     "output_type": "execute_result"
    }
   ],
   "source": [
    "cv_X_combined = np.expand_dims(cv_X_combined, axis=3)\n",
    "test_X_combined = np.expand_dims(test_X_combined, axis=3)\n",
    "cv_X_combined.shape"
   ]
  },
  {
   "cell_type": "code",
   "execution_count": 113,
   "metadata": {},
   "outputs": [],
   "source": [
    "cnn4 = Sequential([\n",
    "        Conv2D(input_shape=(train_X_combined.shape[1], train_X_combined.shape[2], 1), \n",
    "                      kernel_size=12, filters=10, padding=\"same\"),\n",
    "        BatchNormalization(),\n",
    "        MaxPooling2D(),\n",
    "        Dropout(.5),\n",
    "        Conv2D(kernel_size=12, filters=12, padding=\"same\"),\n",
    "        BatchNormalization(),\n",
    "        MaxPooling2D(),\n",
    "        Dropout(.5),\n",
    "        Flatten(),\n",
    "        Dense(3000, activation=\"relu\"),\n",
    "        BatchNormalization(),\n",
    "        Dropout(.85),\n",
    "        Dense(2000, activation=\"relu\"),\n",
    "        BatchNormalization(),\n",
    "        Dropout(.7),\n",
    "        Dense(num_categories, activation=\"softmax\")\n",
    "    ])\n",
    "\n",
    "cnn4.compile(Adam(lr=0.0003),loss=\"categorical_crossentropy\", metrics=[\"accuracy\"])"
   ]
  },
  {
   "cell_type": "code",
   "execution_count": 114,
   "metadata": {},
   "outputs": [
    {
     "name": "stdout",
     "output_type": "stream",
     "text": [
      "Train on 240 samples, validate on 60 samples\n",
      "Epoch 1/50\n",
      "240/240 [==============================] - 14s - loss: 4.8142 - acc: 0.0958 - val_loss: 5.8760 - val_acc: 0.1000\n",
      "Epoch 2/50\n",
      "240/240 [==============================] - 10s - loss: 4.3949 - acc: 0.1250 - val_loss: 4.6691 - val_acc: 0.1000\n",
      "Epoch 3/50\n",
      "240/240 [==============================] - 10s - loss: 4.5150 - acc: 0.1125 - val_loss: 5.8855 - val_acc: 0.1000\n",
      "Epoch 4/50\n",
      "240/240 [==============================] - 10s - loss: 4.6312 - acc: 0.1000 - val_loss: 6.3307 - val_acc: 0.0833\n",
      "Epoch 5/50\n",
      "240/240 [==============================] - 9s - loss: 4.3680 - acc: 0.1375 - val_loss: 6.7992 - val_acc: 0.1000\n",
      "Epoch 6/50\n",
      "240/240 [==============================] - 10s - loss: 4.4208 - acc: 0.1292 - val_loss: 6.9844 - val_acc: 0.0833\n",
      "Epoch 7/50\n",
      "240/240 [==============================] - 10s - loss: 4.1149 - acc: 0.1125 - val_loss: 7.1453 - val_acc: 0.1333\n",
      "Epoch 8/50\n",
      "240/240 [==============================] - 10s - loss: 4.6399 - acc: 0.1167 - val_loss: 7.0449 - val_acc: 0.1000\n",
      "Epoch 9/50\n",
      "240/240 [==============================] - 10s - loss: 4.0905 - acc: 0.1375 - val_loss: 6.9971 - val_acc: 0.1000\n",
      "Epoch 10/50\n",
      "240/240 [==============================] - 10s - loss: 4.5596 - acc: 0.1583 - val_loss: 6.8588 - val_acc: 0.0833\n",
      "Epoch 11/50\n",
      "240/240 [==============================] - 10s - loss: 4.4594 - acc: 0.1333 - val_loss: 6.6134 - val_acc: 0.0833\n",
      "Epoch 12/50\n",
      "240/240 [==============================] - 10s - loss: 4.1430 - acc: 0.1292 - val_loss: 5.9921 - val_acc: 0.1000\n",
      "Epoch 13/50\n",
      "240/240 [==============================] - 10s - loss: 4.1459 - acc: 0.1208 - val_loss: 5.4063 - val_acc: 0.1167\n",
      "Epoch 14/50\n",
      "240/240 [==============================] - 10s - loss: 4.2946 - acc: 0.1417 - val_loss: 4.8227 - val_acc: 0.1333\n",
      "Epoch 15/50\n",
      "240/240 [==============================] - 10s - loss: 4.0024 - acc: 0.1583 - val_loss: 4.1829 - val_acc: 0.1500\n",
      "Epoch 16/50\n",
      "240/240 [==============================] - 10s - loss: 4.1820 - acc: 0.1625 - val_loss: 3.6801 - val_acc: 0.1500\n",
      "Epoch 17/50\n",
      "240/240 [==============================] - 10s - loss: 4.2758 - acc: 0.1250 - val_loss: 3.3911 - val_acc: 0.1500\n",
      "Epoch 18/50\n",
      "240/240 [==============================] - 10s - loss: 4.3461 - acc: 0.1542 - val_loss: 3.2679 - val_acc: 0.1667\n",
      "Epoch 19/50\n",
      "240/240 [==============================] - 10s - loss: 4.3335 - acc: 0.0917 - val_loss: 3.2203 - val_acc: 0.2000\n",
      "Epoch 20/50\n",
      "240/240 [==============================] - 10s - loss: 3.9622 - acc: 0.1333 - val_loss: 3.1888 - val_acc: 0.1667\n",
      "Epoch 21/50\n",
      "240/240 [==============================] - 10s - loss: 4.1834 - acc: 0.1750 - val_loss: 3.1829 - val_acc: 0.1667\n",
      "Epoch 22/50\n",
      "240/240 [==============================] - 10s - loss: 3.9855 - acc: 0.1708 - val_loss: 3.1999 - val_acc: 0.1667\n",
      "Epoch 23/50\n",
      "240/240 [==============================] - 10s - loss: 3.7107 - acc: 0.1792 - val_loss: 3.1944 - val_acc: 0.1500\n",
      "Epoch 24/50\n",
      "240/240 [==============================] - 10s - loss: 4.1047 - acc: 0.1542 - val_loss: 3.2142 - val_acc: 0.1667\n",
      "Epoch 25/50\n",
      "240/240 [==============================] - 10s - loss: 4.0661 - acc: 0.1542 - val_loss: 3.2156 - val_acc: 0.1667\n",
      "Epoch 26/50\n",
      "240/240 [==============================] - 10s - loss: 3.9187 - acc: 0.1458 - val_loss: 3.2066 - val_acc: 0.1667\n",
      "Epoch 27/50\n",
      "240/240 [==============================] - 10s - loss: 3.9436 - acc: 0.1625 - val_loss: 3.2064 - val_acc: 0.2000\n",
      "Epoch 28/50\n",
      "240/240 [==============================] - 10s - loss: 3.9605 - acc: 0.1458 - val_loss: 3.0842 - val_acc: 0.2000\n",
      "Epoch 29/50\n",
      "240/240 [==============================] - 10s - loss: 3.7457 - acc: 0.1875 - val_loss: 2.9559 - val_acc: 0.2333\n",
      "Epoch 30/50\n",
      "240/240 [==============================] - 10s - loss: 3.7994 - acc: 0.1750 - val_loss: 2.7915 - val_acc: 0.1833\n",
      "Epoch 31/50\n",
      "240/240 [==============================] - 10s - loss: 3.8660 - acc: 0.1625 - val_loss: 2.6988 - val_acc: 0.1833\n",
      "Epoch 32/50\n",
      "240/240 [==============================] - 10s - loss: 3.8243 - acc: 0.1708 - val_loss: 2.6926 - val_acc: 0.2000\n",
      "Epoch 33/50\n",
      "240/240 [==============================] - 10s - loss: 3.7331 - acc: 0.1667 - val_loss: 2.6751 - val_acc: 0.2000\n",
      "Epoch 34/50\n",
      "240/240 [==============================] - 11s - loss: 3.6763 - acc: 0.2000 - val_loss: 2.6015 - val_acc: 0.2333\n",
      "Epoch 35/50\n",
      "240/240 [==============================] - 10s - loss: 3.7012 - acc: 0.1750 - val_loss: 2.5429 - val_acc: 0.2167\n",
      "Epoch 36/50\n",
      "240/240 [==============================] - 11s - loss: 3.8196 - acc: 0.1833 - val_loss: 2.4758 - val_acc: 0.2167\n",
      "Epoch 37/50\n",
      "240/240 [==============================] - 10s - loss: 3.9068 - acc: 0.1792 - val_loss: 2.4266 - val_acc: 0.2167\n",
      "Epoch 38/50\n",
      "240/240 [==============================] - 11s - loss: 3.7018 - acc: 0.2000 - val_loss: 2.4123 - val_acc: 0.2333\n",
      "Epoch 39/50\n",
      "240/240 [==============================] - 11s - loss: 3.7243 - acc: 0.1875 - val_loss: 2.4162 - val_acc: 0.2000\n",
      "Epoch 40/50\n",
      "240/240 [==============================] - 12s - loss: 3.3309 - acc: 0.1708 - val_loss: 2.4139 - val_acc: 0.2333\n",
      "Epoch 41/50\n",
      "240/240 [==============================] - 11s - loss: 3.7622 - acc: 0.2000 - val_loss: 2.4165 - val_acc: 0.2333\n",
      "Epoch 42/50\n",
      "240/240 [==============================] - 11s - loss: 3.3182 - acc: 0.2667 - val_loss: 2.4391 - val_acc: 0.2000\n",
      "Epoch 43/50\n",
      "240/240 [==============================] - 11s - loss: 3.7953 - acc: 0.1750 - val_loss: 2.4957 - val_acc: 0.2167\n",
      "Epoch 44/50\n",
      "240/240 [==============================] - 11s - loss: 3.5564 - acc: 0.1917 - val_loss: 2.5607 - val_acc: 0.2167\n",
      "Epoch 45/50\n",
      "240/240 [==============================] - 11s - loss: 3.4664 - acc: 0.2250 - val_loss: 2.6295 - val_acc: 0.1833\n",
      "Epoch 46/50\n",
      "240/240 [==============================] - 11s - loss: 3.2550 - acc: 0.2333 - val_loss: 2.6644 - val_acc: 0.1833\n",
      "Epoch 47/50\n",
      "240/240 [==============================] - 11s - loss: 3.6804 - acc: 0.1958 - val_loss: 2.6788 - val_acc: 0.1833\n",
      "Epoch 48/50\n",
      "240/240 [==============================] - 11s - loss: 3.2768 - acc: 0.2500 - val_loss: 2.6773 - val_acc: 0.1667\n",
      "Epoch 49/50\n",
      "240/240 [==============================] - 11s - loss: 3.6634 - acc: 0.2333 - val_loss: 2.6842 - val_acc: 0.1667\n",
      "Epoch 50/50\n",
      "240/240 [==============================] - 11s - loss: 3.4536 - acc: 0.2042 - val_loss: 2.6958 - val_acc: 0.1167\n"
     ]
    }
   ],
   "source": [
    "cnn4_results = cnn4.fit(train_X_combined, train_y, batch_size=64, \n",
    "                        epochs=50, validation_data=(cv_X_combined, cv_y))"
   ]
  },
  {
   "cell_type": "markdown",
   "metadata": {},
   "source": [
    "We can see that with the unchanged kernel size our models perform worse on the combined data. In principle however running a model consisting of 2D convolutional layers might still be a valid approach.\n",
    "\n",
    "Let's try one last experiment before moving on. Let's try to fit a 2D convolutional model, despite the computational costs, on the tempogram data. First we'll have to expand its dimensions to fit the shape required by 2D convolutions (which can also take colors into consideration). We will essentially treat the tempogram as a 2D grayscale image."
   ]
  },
  {
   "cell_type": "code",
   "execution_count": 35,
   "metadata": {},
   "outputs": [
    {
     "data": {
      "text/plain": [
       "(240, 384, 32, 1)"
      ]
     },
     "execution_count": 35,
     "metadata": {},
     "output_type": "execute_result"
    }
   ],
   "source": [
    "train_X_mfccs_2D_2 = np.expand_dims(train_X_tempogram, axis=3)\n",
    "train_X_tempogram_2.shape"
   ]
  },
  {
   "cell_type": "code",
   "execution_count": 36,
   "metadata": {},
   "outputs": [],
   "source": [
    "cv_X_tempogram_2 = np.expand_dims(cv_X_tempogram, axis=3)\n",
    "test_X_tempogram_2 = np.expand_dims(test_X_tempogram, axis=3)"
   ]
  },
  {
   "cell_type": "code",
   "execution_count": 37,
   "metadata": {},
   "outputs": [],
   "source": [
    "cnn5 = Sequential([\n",
    "        Conv2D(input_shape=(train_X_tempogram_2.shape[1], train_X_tempogram_2.shape[2], 1), \n",
    "                      kernel_size=32, filters=128, padding=\"same\", activation=\"relu\"),\n",
    "        Dropout(0.11),\n",
    "        MaxPooling2D(),\n",
    "        Conv2D(kernel_size=12, filters=128, padding=\"same\", activation=\"relu\"),\n",
    "        Dropout(0.13),\n",
    "        MaxPooling2D(),\n",
    "        Flatten(),\n",
    "        Dense(2000, activation=\"relu\"),\n",
    "        Dropout(.7),\n",
    "        Dense(num_categories, activation=\"softmax\")\n",
    "    ])\n",
    "\n",
    "cnn5.compile(Adam(lr=0.0001),loss=\"categorical_crossentropy\", metrics=[\"accuracy\"])"
   ]
  },
  {
   "cell_type": "code",
   "execution_count": 38,
   "metadata": {},
   "outputs": [
    {
     "name": "stdout",
     "output_type": "stream",
     "text": [
      "Train on 240 samples, validate on 60 samples\n",
      "Epoch 1/20\n",
      "240/240 [==============================] - 200s - loss: 2.4703 - acc: 0.0958 - val_loss: 2.4299 - val_acc: 0.1000\n",
      "Epoch 2/20\n",
      "240/240 [==============================] - 166s - loss: 2.4532 - acc: 0.0875 - val_loss: 2.4248 - val_acc: 0.0833\n",
      "Epoch 3/20\n",
      "240/240 [==============================] - 216s - loss: 2.4124 - acc: 0.1500 - val_loss: 2.4065 - val_acc: 0.1167\n",
      "Epoch 4/20\n",
      "240/240 [==============================] - 200s - loss: 2.3962 - acc: 0.1542 - val_loss: 2.3685 - val_acc: 0.1333\n",
      "Epoch 5/20\n",
      "240/240 [==============================] - 198s - loss: 2.3846 - acc: 0.1542 - val_loss: 2.3484 - val_acc: 0.1333\n",
      "Epoch 6/20\n",
      "240/240 [==============================] - 199s - loss: 2.3738 - acc: 0.1792 - val_loss: 2.3489 - val_acc: 0.1833\n",
      "Epoch 7/20\n",
      "240/240 [==============================] - 198s - loss: 2.3756 - acc: 0.1500 - val_loss: 2.3336 - val_acc: 0.2333\n",
      "Epoch 8/20\n",
      "240/240 [==============================] - 194s - loss: 2.3349 - acc: 0.1750 - val_loss: 2.3088 - val_acc: 0.1667\n",
      "Epoch 9/20\n",
      "240/240 [==============================] - 193s - loss: 2.3352 - acc: 0.1583 - val_loss: 2.3130 - val_acc: 0.1833\n",
      "Epoch 10/20\n",
      "240/240 [==============================] - 193s - loss: 2.3445 - acc: 0.1542 - val_loss: 2.2973 - val_acc: 0.1833\n",
      "Epoch 11/20\n",
      "240/240 [==============================] - 193s - loss: 2.3074 - acc: 0.1875 - val_loss: 2.2778 - val_acc: 0.1833\n",
      "Epoch 12/20\n",
      "240/240 [==============================] - 235s - loss: 2.2832 - acc: 0.1500 - val_loss: 2.2803 - val_acc: 0.2167\n",
      "Epoch 13/20\n",
      "240/240 [==============================] - 215s - loss: 2.2684 - acc: 0.2292 - val_loss: 2.2527 - val_acc: 0.2333\n",
      "Epoch 14/20\n",
      "240/240 [==============================] - 306s - loss: 2.2162 - acc: 0.2292 - val_loss: 2.2276 - val_acc: 0.2500\n",
      "Epoch 15/20\n",
      "240/240 [==============================] - 308s - loss: 2.2224 - acc: 0.2292 - val_loss: 2.2227 - val_acc: 0.2333\n",
      "Epoch 16/20\n",
      "240/240 [==============================] - 226s - loss: 2.1983 - acc: 0.2292 - val_loss: 2.2191 - val_acc: 0.2000\n",
      "Epoch 17/20\n",
      "240/240 [==============================] - 186s - loss: 2.1694 - acc: 0.2458 - val_loss: 2.1503 - val_acc: 0.2667\n",
      "Epoch 18/20\n",
      "240/240 [==============================] - 179s - loss: 2.1449 - acc: 0.2333 - val_loss: 2.1302 - val_acc: 0.2667\n",
      "Epoch 19/20\n",
      "240/240 [==============================] - 173s - loss: 2.1329 - acc: 0.2583 - val_loss: 2.1477 - val_acc: 0.3333\n",
      "Epoch 20/20\n",
      "240/240 [==============================] - 167s - loss: 2.0927 - acc: 0.2667 - val_loss: 2.1107 - val_acc: 0.3000\n"
     ]
    }
   ],
   "source": [
    "cnn5_results = cnn5.fit(train_X_tempogram_2, train_y, batch_size=64, \n",
    "                        epochs=20, validation_data=(cv_X_tempogram_2, cv_y))"
   ]
  },
  {
   "cell_type": "code",
   "execution_count": 44,
   "metadata": {},
   "outputs": [
    {
     "name": "stdout",
     "output_type": "stream",
     "text": [
      "Best CNN 5 results\n",
      "Train acc: 0.2667\n",
      "CV acc: 0.3333\n"
     ]
    }
   ],
   "source": [
    "# show best results after the 20 epochs\n",
    "best_training_accuracy = max(cnn5_results.history[\"acc\"])\n",
    "best_validation_accuracy = max(cnn5_results.history[\"val_acc\"])\n",
    "print(\"Best CNN 5 results\\nTrain acc: {:.4f}\\nCV acc: {:.4f}\".format(best_training_accuracy, best_validation_accuracy))"
   ]
  },
  {
   "cell_type": "markdown",
   "metadata": {},
   "source": [
    "After 20 epochs the 2D convolutions model is approaching our previous best results, without overfitting, albeit taking a lot longer to get there."
   ]
  },
  {
   "cell_type": "code",
   "execution_count": 45,
   "metadata": {},
   "outputs": [
    {
     "name": "stdout",
     "output_type": "stream",
     "text": [
      "Train on 240 samples, validate on 60 samples\n",
      "Epoch 1/20\n",
      "240/240 [==============================] - 164s - loss: 2.0675 - acc: 0.2708 - val_loss: 2.1040 - val_acc: 0.3167\n",
      "Epoch 2/20\n",
      "240/240 [==============================] - 162s - loss: 2.0496 - acc: 0.2792 - val_loss: 2.0543 - val_acc: 0.3167\n",
      "Epoch 3/20\n",
      "240/240 [==============================] - 166s - loss: 1.9616 - acc: 0.2833 - val_loss: 2.0355 - val_acc: 0.3167\n",
      "Epoch 4/20\n",
      "240/240 [==============================] - 169s - loss: 1.9800 - acc: 0.3250 - val_loss: 1.9935 - val_acc: 0.3167\n",
      "Epoch 5/20\n",
      "240/240 [==============================] - 172s - loss: 1.9760 - acc: 0.3208 - val_loss: 1.9803 - val_acc: 0.3333\n",
      "Epoch 6/20\n",
      "240/240 [==============================] - 167s - loss: 1.8824 - acc: 0.3250 - val_loss: 1.9780 - val_acc: 0.3333\n",
      "Epoch 7/20\n",
      "240/240 [==============================] - 163s - loss: 1.9024 - acc: 0.3292 - val_loss: 1.9439 - val_acc: 0.3833\n",
      "Epoch 8/20\n",
      "240/240 [==============================] - 163s - loss: 1.8479 - acc: 0.3500 - val_loss: 1.9397 - val_acc: 0.3500\n",
      "Epoch 9/20\n",
      "240/240 [==============================] - 162s - loss: 1.8363 - acc: 0.3667 - val_loss: 1.9142 - val_acc: 0.3500\n",
      "Epoch 10/20\n",
      "240/240 [==============================] - 162s - loss: 1.8364 - acc: 0.3583 - val_loss: 1.9350 - val_acc: 0.3333\n",
      "Epoch 11/20\n",
      "240/240 [==============================] - 162s - loss: 1.7748 - acc: 0.4208 - val_loss: 1.9061 - val_acc: 0.3333\n",
      "Epoch 12/20\n",
      "240/240 [==============================] - 164s - loss: 1.7964 - acc: 0.3917 - val_loss: 1.8875 - val_acc: 0.3167\n",
      "Epoch 13/20\n",
      "240/240 [==============================] - 164s - loss: 1.7521 - acc: 0.3708 - val_loss: 1.8968 - val_acc: 0.3833\n",
      "Epoch 14/20\n",
      "240/240 [==============================] - 170s - loss: 1.7115 - acc: 0.3833 - val_loss: 1.8864 - val_acc: 0.3667\n",
      "Epoch 15/20\n",
      "240/240 [==============================] - 164s - loss: 1.6913 - acc: 0.3875 - val_loss: 1.8810 - val_acc: 0.3667\n",
      "Epoch 16/20\n",
      "240/240 [==============================] - 178s - loss: 1.6314 - acc: 0.4500 - val_loss: 1.8937 - val_acc: 0.3000\n",
      "Epoch 17/20\n",
      "240/240 [==============================] - 189s - loss: 1.6924 - acc: 0.4208 - val_loss: 1.8831 - val_acc: 0.3833\n",
      "Epoch 18/20\n",
      "240/240 [==============================] - 209s - loss: 1.6527 - acc: 0.4542 - val_loss: 1.8754 - val_acc: 0.4167\n",
      "Epoch 19/20\n",
      "240/240 [==============================] - 219s - loss: 1.5760 - acc: 0.4417 - val_loss: 1.8740 - val_acc: 0.3500\n",
      "Epoch 20/20\n",
      "240/240 [==============================] - 203s - loss: 1.5554 - acc: 0.4417 - val_loss: 1.8887 - val_acc: 0.3500\n"
     ]
    }
   ],
   "source": [
    "# fit for another 20 epochs\n",
    "cnn5_results = cnn5.fit(train_X_tempogram_2, train_y, batch_size=64, \n",
    "                        epochs=20, validation_data=(cv_X_tempogram_2, cv_y))"
   ]
  },
  {
   "cell_type": "code",
   "execution_count": 46,
   "metadata": {},
   "outputs": [
    {
     "name": "stdout",
     "output_type": "stream",
     "text": [
      "Best CNN 5 results\n",
      "Train acc: 0.4542\n",
      "CV acc: 0.4167\n"
     ]
    }
   ],
   "source": [
    "# show best results after the 20 epochs\n",
    "best_training_accuracy = max(cnn5_results.history[\"acc\"])\n",
    "best_validation_accuracy = max(cnn5_results.history[\"val_acc\"])\n",
    "print(\"Best CNN 5 results\\nTrain acc: {:.4f}\\nCV acc: {:.4f}\".format(best_training_accuracy, best_validation_accuracy))"
   ]
  },
  {
   "cell_type": "markdown",
   "metadata": {},
   "source": [
    "The 2D Convolutional model is doing just a little bit better on the 2D Tempogram data than the 1D Convolutional model, with the **best CV accuracy of 0.42**."
   ]
  },
  {
   "cell_type": "code",
   "execution_count": 47,
   "metadata": {},
   "outputs": [
    {
     "name": "stdout",
     "output_type": "stream",
     "text": [
      "Final CNN 5 (tempogram) accuracy via sklearn (CV): 0.3500\n",
      "Final CNN 5 (tempogram) f1 score (CV): 0.3134\n"
     ]
    }
   ],
   "source": [
    "# predict and one-hot encode\n",
    "cnn5_pred_cv_y_tempogram = cnn5.predict(cv_X_tempogram_2, batch_size=32)\n",
    "cnn5_pred_cv_y_tempogram = utils.one_hot_encode(cnn5_pred_cv_y_tempogram)\n",
    "\n",
    "# we can also use sklearn directly to get accuracy\n",
    "cnn5_cv_accuracy = accuracy_score(cv_y, cnn5_pred_cv_y_tempogram)\n",
    "cnn5_cv_f1_score = f1_score(cv_y, cnn5_pred_cv_y_tempogram, average=\"weighted\")\n",
    "print(\"Final CNN 5 (tempogram) accuracy via sklearn (CV): {:.4f}\".format(cnn5_cv_accuracy))\n",
    "print(\"Final CNN 5 (tempogram) f1 score (CV): {:.4f}\".format(cnn5_cv_f1_score))"
   ]
  },
  {
   "cell_type": "markdown",
   "metadata": {},
   "source": [
    "### Adding augmentation\n",
    "In the previous notebook we also figured out ways of shifting and stretching our voice samples, as well as adding background noise. This methods will effectively enable us to generate additional, slightly different training examples.\n",
    "\n",
    "In many cases we would do this by creating a batch generator function that is called within the model's fitting function, effectively turning the untouched batch of training examples into a larger batch of preprocessed samples. In our case however the shifting, stretching and adding white noise has to be done prior to the other transformations that we've found make our models more effective (extraction of MFCCs and Tempogram).\n",
    "\n",
    "This means that we have to use the shifting, stretching and adding white noise on the raw .wav files and then turn that data into MFCCs and Tempograms."
   ]
  },
  {
   "cell_type": "code",
   "execution_count": 16,
   "metadata": {},
   "outputs": [
    {
     "name": "stdout",
     "output_type": "stream",
     "text": [
      "/home/paperspace/tensorflow_speech_recognition\r\n"
     ]
    }
   ],
   "source": [
    "!pwd"
   ]
  },
  {
   "cell_type": "code",
   "execution_count": 16,
   "metadata": {},
   "outputs": [],
   "source": [
    "# first create a new directory for our preprocessed & augmented data\n",
    "path_to_sample_preprocessed_and_augmented = os.path.join(path_to_sample, \"preprocessed_and_augmented\")"
   ]
  },
  {
   "cell_type": "code",
   "execution_count": 105,
   "metadata": {},
   "outputs": [],
   "source": [
    "# create the directory if it's not there already\n",
    "!mkdir $path_to_sample_preprocessed_and_augmented\n",
    "!mkdir $path_to_sample_preprocessed_and_augmented/train\n",
    "!mkdir $path_to_sample_preprocessed_and_augmented/cv"
   ]
  },
  {
   "cell_type": "code",
   "execution_count": 106,
   "metadata": {},
   "outputs": [
    {
     "name": "stdout",
     "output_type": "stream",
     "text": [
      "06076b6b_nohash_2.wav  3d53244b_nohash_0.wav  b4bef564_nohash_1.wav\r\n",
      "0819edb0_nohash_2.wav  4ec7d027_nohash_0.wav  b7a0754f_nohash_3.wav\r\n",
      "0cd323ec_nohash_0.wav  742d6431_nohash_4.wav  c5570933_nohash_0.wav\r\n",
      "0e5193e6_nohash_1.wav  778a4a01_nohash_0.wav  ced4e2a1_nohash_0.wav\r\n",
      "35d1b6ee_nohash_3.wav  834f03fe_nohash_1.wav  ced835d3_nohash_1.wav\r\n",
      "38d78313_nohash_1.wav  884ae8e1_nohash_1.wav  dabf67d9_nohash_0.wav\r\n",
      "3bfd30e6_nohash_2.wav  a1cff772_nohash_2.wav\r\n"
     ]
    }
   ],
   "source": [
    "# copy all train and cv subfolders and files (untouched) to the new directory\n",
    "!cp -r data/sample/train/* data/sample/preprocessed_and_augmented/train/\n",
    "!cp -r data/sample/cv/* data/sample/preprocessed_and_augmented/cv/\n",
    "!ls data/sample/preprocessed_and_augmented/train/down/"
   ]
  },
  {
   "cell_type": "code",
   "execution_count": 108,
   "metadata": {},
   "outputs": [
    {
     "data": {
      "text/plain": [
       "300"
      ]
     },
     "execution_count": 108,
     "metadata": {},
     "output_type": "execute_result"
    }
   ],
   "source": [
    "# combine the train and cv paths\n",
    "sample_train_and_cv_wavs = sample_train_wavs + sample_cv_wavs\n",
    "len(sample_train_and_cv_wavs)"
   ]
  },
  {
   "cell_type": "code",
   "execution_count": 109,
   "metadata": {},
   "outputs": [],
   "source": [
    "# run our 3 augmentation functions on all .wav files from our sample train and cv set, saving them in the new folders\n",
    "# seed the random module for repeatable results\n",
    "random.seed(12345678)\n",
    "\n",
    "for wav_file in sample_train_and_cv_wavs:\n",
    "    \n",
    "    # prepare output paths\n",
    "    wav_file = wav_file.replace(\"/sample/train/\", \"/sample/preprocessed_and_augmented/train/\")\n",
    "    # or in the cv case\n",
    "    wav_file = wav_file.replace(\"/sample/cv/\", \"/sample/preprocessed_and_augmented/cv/\")\n",
    "    \n",
    "    output_white_noise = wav_file.replace(\".wav\", \"_whitenoise.wav\")\n",
    "    output_shift = wav_file.replace(\".wav\", \"_shift.wav\")\n",
    "    output_stretch =  wav_file.replace(\".wav\", \"_stretch.wav\")\n",
    "    \n",
    "    # random white noise\n",
    "    # within reasonable bounds and a constant seed\n",
    "    white_noise_factor = random.uniform(10, 40)\n",
    "    utils.augment_with_white_noise(wav_file, output_white_noise, white_noise_factor)\n",
    "    \n",
    "    # shifting (default factor)\n",
    "    utils.augment_with_shift(wav_file, output_shift)\n",
    "    \n",
    "    # stretching\n",
    "    stretch_factor = random.uniform(0.6, 1.4)\n",
    "    utils.augment_with_stretch(wav_file, output_stretch, stretch_factor)"
   ]
  },
  {
   "cell_type": "markdown",
   "metadata": {},
   "source": [
    "Let's listen to our augmented samples to confirm they are different in the desired way."
   ]
  },
  {
   "cell_type": "code",
   "execution_count": 110,
   "metadata": {},
   "outputs": [
    {
     "data": {
      "text/html": [
       "\n",
       "                <audio controls=\"controls\" >\n",
       "                    <source src=\"data:audio/wav;base64,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\" type=\"audio/wav\" />\n",
       "                    Your browser does not support the audio element.\n",
       "                </audio>\n",
       "              "
      ],
      "text/plain": [
       "<IPython.lib.display.Audio object>"
      ]
     },
     "execution_count": 110,
     "metadata": {},
     "output_type": "execute_result"
    }
   ],
   "source": [
    "# original\n",
    "utils.display_audio(\"data/sample/train/down/a1cff772_nohash_2.wav\")"
   ]
  },
  {
   "cell_type": "code",
   "execution_count": 111,
   "metadata": {},
   "outputs": [
    {
     "data": {
      "text/html": [
       "\n",
       "                <audio controls=\"controls\" >\n",
       "                    <source src=\"data:audio/wav;base64,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\" type=\"audio/wav\" />\n",
       "                    Your browser does not support the audio element.\n",
       "                </audio>\n",
       "              "
      ],
      "text/plain": [
       "<IPython.lib.display.Audio object>"
      ]
     },
     "execution_count": 111,
     "metadata": {},
     "output_type": "execute_result"
    }
   ],
   "source": [
    "# with random whitenoise\n",
    "utils.display_audio(\"data/sample/preprocessed_and_augmented/train/down/a1cff772_nohash_2_whitenoise.wav\")"
   ]
  },
  {
   "cell_type": "code",
   "execution_count": 112,
   "metadata": {},
   "outputs": [
    {
     "data": {
      "text/html": [
       "\n",
       "                <audio controls=\"controls\" >\n",
       "                    <source src=\"data:audio/wav;base64,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\" type=\"audio/wav\" />\n",
       "                    Your browser does not support the audio element.\n",
       "                </audio>\n",
       "              "
      ],
      "text/plain": [
       "<IPython.lib.display.Audio object>"
      ]
     },
     "execution_count": 112,
     "metadata": {},
     "output_type": "execute_result"
    }
   ],
   "source": [
    "# with shift\n",
    "utils.display_audio(\"data/sample/preprocessed_and_augmented/train/down/a1cff772_nohash_2_shift.wav\")"
   ]
  },
  {
   "cell_type": "code",
   "execution_count": 113,
   "metadata": {},
   "outputs": [
    {
     "data": {
      "text/html": [
       "\n",
       "                <audio controls=\"controls\" >\n",
       "                    <source src=\"data:audio/wav;base64,UklGRiRgAABXQVZFZm10IBAAAAABAAEAgD4AAAB9AAACABAAZGF0YQBgAAAAAAAAAAAAAAAAAAAAAAAAAAAAAAAAAAAAAAAAAAAAAAAAAAAAAAAAAAAAAAAAAAAAAAAAAAAAAAAAAAAAAAAAAAAAAAAAAAAAAAAAAAAAAAAAAAAAAAAAAAAAAAAAAAAAAAAAAAAAAAAAAAAAAAAAAAAAAAAAAAAAAAAAAAAAAAAAAAAAAAAAAAAAAAAAAAAAAAAAAAAAAAAAAAAAAAAAAAAAAAAAAAAAAAAAAAAAAAAAAAAAAAAAAAAAAAAAAAAAAAAAAAAAAAAAAAAAAAAAAAAAAAAAAAAAAAAAAAAAAAAAAAAAAAAAAAAAAAAAAAAAAAAAAAAAAAAAAAAAAAAAAAAAAAAAAAAAAAAAAAAAAAAAAAAAAAAAAAAAAAAAAAAAAAAAAAAAAAAAAAAAAAAAAAAAAAAAAAAAAAAAAAAAAAAAAAAAAAAAAAAAAAAAAAAAAAAAAAAAAAAAAAAAAAAAAAAAAAAAAAAAAAAAAAAAAAAAAAAAAAAAAAAAAAAAAAAAAAAAAAAAAAAAAAAAAAAAAAAAAAAAAAAAAAAAAAAAAAAAAAAAAAAAAAAAAAAAAAAAAAAAAAAAAAAAAAAAAAAAAAAAAAAAAAAAAAAAAAAAAAAAAAAAAAAAAAAAAAAAAAAAAAAAAAAAAAAAAAAAAAAAAAAAAAAAAAAAAAAAAAAAAAAAAAAAAAAAAAAAAAAAAAAAAAAAAAAAAAAAAAAAAAAAAAAAAAAAAAAAAAAAAAAAAAAAAAAAAAAAAAAAAAAAAAAAAAAAAAAAAAAAAAAAAAAAAAAAAAAAAAAAAAAAAAAAAAAAAAAAAAAAAAAAAAAAAAAAAAAAAAAAAAAAAAAAAAAAAAAAAAAAAAAAAAAAAAAAAAAAAAAAAAAAAAAAAAAAAAAAAAAAAAAAAAAAAAAAAAAAAAAAAAAAAAAAAAAAAAAAAAAAAAAAAAAAAAAAAAAAAAAAAAAAAAAAAAAAAAAAAAAAAAAAAAAAAAAAAAAAAAAAAAAAAAAAAAAAAAAAAAAAAAAAAAAAAAAAAAAAAAAAAAAAAAAAAAAAAAAAAAAAAAAAAAAAAAAAAAAAAAAAAAAAAAAAAAAAAAAAAAAAAAAAAAAAAAAAAAAAAAAAAAAAAAAAAAAAAAAAAAAAAAAAAAAAAAAAAAAAAAAAAAAAAAAAAAAAAAAAAAAAAAAAAAAAAAAAAAAAAAAAAAAAAAAAAAAAAAAAAAAAAAAAAAAAAAAAAAAAAAAAAAAAAAAAAAAAAAAAAAAAAAAAAAAAAAAAAAAAAAAAAAAAAAAAAAAAAAAAAAAAAAAAAAAAAAAAAAAAAAAAAAAAAAAAAAAAAAAAAAAAAAAAAAAAAAAAAAAAAAAAAAAAAAAAAAAAAAAAAAAAAAAAAAAAAAAAAAAAAAAAAAAAAAAAAAAAAAAAAAAAAAAAAAAAAAAAAAAAAAAAAAAAAAAAAAAAAAAAAAAAAAAAAAAAAAAAAAAAAAAAAAAAAAAAAAAAAAAAAAAAAAAAAAAAAAAAAAAAAAAAAAAAAAAAAAAAAAAAAAAAAAAAAAAAAAAAAAAAAAAAAAAAAAAAAAAAAAAAAAAAAAAAAAAAAAAAAAAAAAAAAAAAAAAAAAAAAAAAAAAAAAAAAAAAAAAAAAAAAAAAAAAAAAAAAAAAAAAAAAAAAAAAAAAAAAAAAAAAAAAAAAAAAAAAAAAAAAAAAAAAAAAAAAAAAAAAAAAAAAAAAAAAAAAAAAAAAAAAAAAAAAAAAAAAAAAAAAAAAAAAAAAAAAAAAAAAAAAAAAAAAAAAAAAAAAAAAAAAAAAAAAAAAAAAAAAAAAAAAAAAAAAAAAAAAAAAAAAAAAAAAAAAAAAAAAAAAAAAAAAAAAAAAAAAAAAAAAAAAAAAAAAAAAAAAAAAAAAAAAAAAAAAAAAAAAAAAAAAAAAAAAAAAAAAAAAAAAAAAAAAAAAAAAAAAAAAAAAAAAAAAAAAAAAAAAAAAAAAAAAAAAAAAAAAAAAAAAAAAAAAAAAAAAAAAAAAAAAAAAAAAAAAAAAAAAAAAAAAAAAAAAAAAAAAAAAAAAAAAAAAAAAAAAAAAAAAAAAAAAAAAAAAAAAAAAAAAAAAAAAAAAAAAAAAAAAAAAAAAAAAAAAAAAAAAAAAAAAAAAAAAAAAAAAAAAAAAAAAAAAAAAAAAAAAAAAAAAAAAAAAAAAAAAAAAAAAAAAAAAAAAAAAAAAAAAAAAAAAAAAAAAAAAAAAAAAAAAAAAAAAAAAAAAAAAAAAAAAAAAAAAAAAAAAAAAAAAAAAAAAAAAAAAAAAAAAAAAAAAAAAAAAAAAAAAAAAAAAAAAAAAAAAAAAAAAAAAAAAAAAAAAAAAAAAAAAAAAAAAAAAAAAAAAAAAAAAAAAAAAAAAAAAAAAAAAAAAAAAAAAAAAAAAAAAAAAAAAAAAAAAAAAAAAAAAAAAAAAAAAAAAAAAAAAAAAAAAAAAAAAAAAAAAAAAAAAAAAAAAAAAAAAAAAAAAAAAAAAAAAAAAAAAAAAAAAAAAAAAAAAAAAAAAAAAAAAAAAAAAAAAAAAAAAAAAAAAAAAAAAAAAAAAAAAAAAAAAAAAAAAAAAAAAAAAAAAAAAAAAAAAAAAAAAAAAAAAAAAAAAAAAAAAAAAAAAAAAAAAAAAAAAAAAAAAAAAAAAAAAAAAAAAAAAAAAAAAAAAAAAAAAAAAAAAAAAAAAAAAAAAAAAAAAAAAAAAAAAAAAAAAAAAAAAAAAAAAAAAAAAAAAAAAAAAAAAAAAAAAAAAAAAAAAAAAAAAAAAAAAAAA//////7//f/9//z//P/8//z//f/+/////////wAAAAAAAAAAAAACAAIAAgABAAAA/f/7//r/+//+/wIABgAJAAwADgAPAA8ADgAMAAsACgALAA0ADwAPAAwABwABAP///f/8//z/+//7//v/+v/5//j/9f/z//H/8f/0//n///8EAAkADQAOAA8AEgAVABgAGAAXABUAEQAKAAMA/P/2//D/7P/t//D/8//y//D/7f/r/+v/6//u//T//P8FAA0AFgAcAB4AGwAVABIAEwATAA8ACAD///D/3f/I/7X/qP+j/6f/tP/D/9D/1f/W/9j/4f/v/wAADAAUABkAIAAoAC4ALwAkAA4A/P/x//L//f8CAP7/9//0//n/AwAPABkAIAAkACcAKgAtAC0AJQAcABoAJQA1AD8APgAzACUAFAAFAP7/+P/y/+v/4//h/+D/2//Q/8D/t/+6/8v/6P8GACIANQBCAEYARABDAD8ANwAtACIAHwAYAAsA///n/9X/w/+x/7L/u//P/+f/+v8CAAEAAAAAAAcAFgAqAD0ARQBMAE0AQgAtAA8A8f/Y/8r/xv/H/8H/sP+Z/3//cf92/4v/qf/I/+T/AAAbACoALgAmABMA/v/z////HQA/AFIATwAyAAIA0P+i/4j/if+f/8H/6v8OACgANgAxACEAEQAMABUAMQBcAIcAnwCcAIUAYwBEACkAGgAUABUAFwAQAAMA7f/M/5//dP9q/3r/l/+6/9n/8v8AAAIABwAXACwAPABMAGUAgQCSAIwAagAzAPv/0//H/87/3f/u//L/5f/T/8P/tP+s/7f/z//4/yIAPABHAEYAOwAxADMAPABGAEwASgBGAEAANwAiAP7/xf+J/2D/Tf9b/4L/sf/Y/+v/7v/s/+j/5//x/wcAJwA6AD0APQA+AD0AOQAoAAgA5f/F/6z/oP+Z/47/hP+B/5H/uv/p/xEAMgBMAF0AYwBjAF4AYABqAHsAlwCyALYAmABhACIA8f/Q/7v/r/+o/6b/qv+1/8j/0v/I/6r/lv+e/8f/BAA+AGsAgwCHAH8AcwBdADwAHwARABQAJAAuABoA7f+z/4D/Zv9p/3//of/E/9v/5f/p/+n/4f/h//L/GABJAHEAiwCQAHwAWAAxABAA/v/0//z/FQApAB8A7f+i/1r/NP89/3L/w/8PAEgAXgBVAEAAJAADAO//9v8aAFgAlwC2AKwAdwAaALP/a/9V/2H/gv+s/9b/+f8EAPX/1/+8/7X/y/8AAEsAkwDBAMYArACBAE4AIQABAPv/DwAqADkALwANAOL/q/97/27/h/+///v/IgAyAC0AFQDy/+L/9v8gAFAAfACjALgAqQBxACoA5f+0/5v/mf+3/+f/DwAZAAQA2v+g/2v/R/9K/4X/5f9FAI0ApwCSAFoAFwDl/9b/6/8MADEAVwBuAGsARAD//7P/dv9P/0//cP+n/+D/DQAiABYABgD9//r/CQAuAF4AggCAAFYAJQACAPT/BwA9AGMAVQAaAMH/c/9F/zv/Vv98/6L/yP/u/wwAHwAaAAAA8P/5/xgAWACmAOkAEAH8AKgAPgDY/4r/dP+O/8H/8P/4/97/r/93/0r/N/9M/4//7v9RALAA6wD0ANgAoABnAEgASgBmAIgAhwBiAC0A1/90/xT/1/7Z/gz/df/7/2YAewBOABYA4f/U//3/SwClAOAA2gCnAE8A1P9V//P+2P4C/1//zP8QADAAKgD//8T/f/9Z/2H/b/+r/yEAqgAaAUMBHQG7AD4Asv9J/x//DP8m/3T/0/84AIwAoABsAOr/Uv/s/r/+2v46/8z/VgCqALEAdgAeAK7/cv+P/9j/OQCOAMUA+wARAfUAxgCDAD4AEQDm/9T/8//2/7T/N/+//qP+zP4Z/4n/AwBhAIgAfQBlAG0AhgCiAM0AEgFWAWgBMgHIAGAAAwCc/yz/z/6m/sX+DP9d/6v/vf+Y/2v/fv8bABMB+QGFApsCKwJgAXsAuv9Q/x7/Bv8m/1X/V/8O/3z+5v2t/dX9W/5M/zQA7ABbAU0BGAH5ANkAwgD2AG4B8wFAAvgBMwEhANX+pP33/PH8jf2H/nv/FwBMABAARv94/kX+xP6+/8gAowE+AmgCDgJgAX0Ajv/P/oP+v/56/20ANwGPAVwBzwAFADr/pP58/vn+0f+HAN4A1ABTAIr/3P6X/sP+Ev9x/+b/awDbADEBZwE6AeEAgwAcAPD/9v8ZAG8AtQCgAEkAtv/R/vr9j/3S/bv+cf+y//D/KAB5ABoB1gFYApgCcQIzAisC9gFzAcgA2/+//uH9Lf2M/Eb8LPxk/Br97f2c/iT/m/8lAPkABwIFA4MDZgP/An8CUAKBAqwCbAKHAToAtP4f/cP78fri+ob7jvy+/Qb/6f8AALf/uf9hAIQBjQJOA9oD3gNLA2sCOAHV/7X+Bv4P/rj+kv8xAAYAGv8f/r39t/0s/lb/4AB1AlcDXQO9ApwBQwAb/2D+IP6X/mb/PADmAEABUwHLAHf/Af5Q/VX9xf23/jkAtwGHAn4C5QEaARwAFv8w/sf9Wv57/1MA6AB8AdQBlgGhAMH/wf9mAP8ApQGBAgcDswJ0Ae//g/4l/dX7OvvB+8789v0d/yUAmgBnALT/5v6w/ir/lQChAqsEMgZ8Bm4FQAORAF/+b/2S/UP+kv++AK0Abf9b/R37rPmD+c76g/2rADMD+gSEBbYEGQMmAaD/4v4u/2YAGQJlA4oDlAKRACj+Pfx1+1T8Y/5YAL8BewJNAlgBLwB7/1r/pf80AOMAgQFoAbAAQAAjAOH/Vf+2/g3+Qf3K/En9rP7z/3IAjAB/ABkAk/+X/wkAggDHAOcA/ADbAPYAQAE1AaEA4v9F/9H+//6N/6AASwJHAyoDlQKDAcf/8/2V/DT81fyY/VX+Kv+Y/7b/4f8FAOr/jv9B/43/4gB4AnkDswMMA+YBoQCw/6b/cQBGAaABWgFWAKD+MPzN+YH4P/kW/F3/7AE1AxIDCgLnAIIA6QCYAaoBQgEsAU4BYgEoAZYArf+r/rz99fy1/OH8zP1u/0wB/wIhBFIEUQP8Ad8AKgDk/9X/YADHAO8A2AC2/+P9nfv3+Sn5VvlM+yj+vADMAdcBOQHG/2X+d/1r/pQAmAKRBFUGgge5Bs4Dtf9l/Hn6wfnU+gT9qf//AVMDkwPjAlIB9/7u/Lj8VP7EAL8ChAPcA1QD2wHS/9r9Vf2e/Zv+XAAwAjsDogKcAJ7+tP2Y/bz++wD1Ah8EhQSZA5YBJf9J/dz8bP0d/6QBjQP7ArIADf4B/PP7Ef0A/7cATAHeACIA3v9t/wz/nf74/Qj+hv7M/ur+2f49/2kATgK3BKMGWweiBvIE4gKTAHH+JP0D/Zv9sv7q/10AZP9L/YP6Rfj896z5gfzf/qgAmwGZAb8AQP8Z/qT9rv5zAEYCAgSnBGkEdwMJArMAi//8/VL8PvsQ+1f8gv6PAKEBHAEaACf/cf4V/3sAWgHEAXcCkwIJAlYBkQDaACgBKgFoAUwBFgERAVsBEgEVAOn+lP3u/NH8bv0A/8YApwJsBHoFpAX7BNgDCwPHAnoCaAK3Aj8CTAFEADD/X/4T/aL7ZvpE+X35L/sV/QT+Yv2v+lv3u/Ur9o75v/+XB2EP8RLXEIQKlQKs/AH7Ff7jAxIK2gxDCoADEvqO8e/ryekE7HjyYPqV/64BGQFG/yP9dPoY+uT8egIoCFgL0wzgC38I4wKU/ez6QPuu/oIBhwJFAkUA2/td9WzxcPFw8+32MPzMAr0HqwkeCfwGowR9AnkBagF7AhgFPwjTCVIImwUeAjz9t/eD87HztPd2+6r9tgDjA3AE7QFr/8//HQOfB7ALJxB6ErIRSA5wCQMGygNyAUP+9/up+YT3pvba9YP1sPbI93f35fV09K31vPjJ/DoC5wgBDi0PVAt0BH//VPxW/JQAegcKDqIQmw6WBzP+e/R57qntLvAx9i/9uAHFAEn8/PYO85vxhPMY+wcF2Az0DpYL2QTq/IL25fRg+W0AGQhCDUQOnAplAj34lO8o7HHuMPezAskJ4gocBiz+EPer8cTxx/dzAUMMSRICEzoOhQVJ+230mPUH+5AClwcwCrEJ+QN6/PvzAu+/7n70+f7DB6kNYQ1tCXoE8v7E/ukDuwx4FW8bnR7aGy4UiQgK/xL5J/N58YrzxPia/PT6n/eg89fv8evc6TPr8O4c9T38CAXOC0ENoQtHCGUGGgeeCtMO3RD8EMYMeQXP/FH01u987jbw5vTj+Ev4YvMj70HuDvOE+wcBLwI7/tT5kPdl+B8A7AqOFq4ddxwdEh//H+ud3Qff+ura+W8IzQxYCeH+xu8y4/HbcOXb+YMOSBs+HkAd0hLsBJP2FfCe+WYHXBXvHScgZhg8AYHkMc/SzAjWxeS/+/gU/yR8IKEP0f/19U7wPPPwBsMjHD5xRjw7zCjxEoAAgvMH6Q/mGetd8cT3tvzx/OH3cO1Y423det/86bX2eAOIDscY9B3eHGcYPA+XBusCkARBCawMnwlPAVL1sOW53dnf1uSD7IL1RP9zCbML4AcqBEoBgwBN/dX8dwGRBcEH/gaJCIIIZwP8+dHtquSu27nV6dJt19DmivWaAOsEbQagBwQFfQLoAuAJjxNQHxIoaiNhFlYGavde7ifpUukP7/X1FwGBB+IGYQZi/o3vnuDe3lPrXv16FAgqsD9WTWJGAjMIHHwGcfgL+OkEfRK2Gwsdkg9l997ZdcOxuyvAbtCL6lkJ+R8OKfclWRkPCtv9/vi7/VoMgh4dLB8v8SRXFIwDNvIj4LbR1ctv0Jbdiuzc9tL4BPaW8+v1Jf6bBkMO1xXUHUQkOSYxIicVIALd8PHnc+hj6lTndeAv13rPc8tQy1zQeNjx4J/m2eo77/70Hv+dC3oYeiR3KycsxCYfG2sMH/2i8Azq7+fn5Nfd1dnp3Vnmtu6O84fzy/J09/QD8Rg8MPE9zj3mNZEvpC6xM0c9WUWKRZM5oyaIFTEIKPxr707lRd+k26TZ6NZs0nnMy8VHxFfNVN9b9YYJeBnxJGErvS67MfQ0KTRMLb8lbCEUH7caAxK4Bzn8p+7d4ZXYGdMXz8vM5M2j08Pd5ulK9Nn5SPyj/UgAwgUPDq8X+h0SHcEVtQ1SCBcBUPMd4zrY29OM0ZfSG9oc4snjvOHF5B/vj/gx/egCeQrDDgAOAgzDCzUK0gOv95rp99sz0BjLGM8l2yHqVveyAt8L+RBiE3caRSoUPKZIB0/dTyJLZEB6MVYm4iIKIcocIhe4EJkHsftY7i/gLNLNxEW95cLj0i7iq+tC77ftXuo06gTx9f66Eb8kUzZmRJtIJEJZNoMoNBzFFl0XORc+ElAJevxR7cLe6tNSzxfOv84h0s3Vedfn1yTb+OQX8qj/ug/zH0Aq6CwJKp0ipBcvDJ8DAf459qfp/t1Y1tjOW8fDxEbIxM701s7gluz9+tYIWREyFasXTRkIGaAWzhPXEJkLfgPR9zjmnM/ZuRGtlq8xwAPZe/SKDYsgZS6jN7w5MTsEQQhFtEZCSMNHoEX6Pl8w/h/DEM//vPJh7rnvJ/Vd+bv1oey34OLRNMVRwgLMCt+i8HH69QI1C5ANtgxzD14WjB5mJ6wwojfdNsotESI3Fm4MoAb4AykC6/vl8FXoE+d/65juhOkS3/jVWtBr0CbXU+FZ7N33ZAK1DbgbQCjjL2QvVSaiHEAVtglQ+VHpjdt+0OLFL7rgsomxf7XowjPXauxl/ngI8Q3XFHsbcyHAKeYvzi/HKhYg4hPnCGn3qtz6vy2oiJtnnxqx+8hI4TD4cw5aI1w0nz8DRwZONlMYVOFT7VNcTjU/OymbE4AF0f7z+oz2x+8K6W7lfeRs5rXpcuhA4YHbct1C597yt/fv+HH8CAHbBxsPtxPvGPAfiSWHKBcpyiUFH44Vuws3CrIPsxE8EXoN0QLt9tnq8OFf37Ddnd+A5R3mad4V1JbNaNCC3hH08Q4JKNo3zUDlP0Y0ZyesGX0H0PEn2czEDLpos0evHa5DraCw8bwO0b/qQQNYE+EdNijCMgk9t0GiO4MwGSaGHs0YlA07+d3bl7WGkqGAAYCVj0Ssa83z8YAXezPUROxOeVCYTztSHla0We9ZolOKSD43lB8+CJX0neY74YPhvONk5SnkLOMA5T/ob+uo6y/tefa+/sv+ZvyL+138QP6UANYGpxLwHMsgaCA2HbgXKxGtDEAP/BVqGC8XBBUJEPcLDwvkBzIAh/Qc5pPartYj2JnZStiS1S3VQdn74xT3ZQ5NJSU470NmSf1EqzGOFFH30t/3zf289Kx6o1KhYaQpr8fBY9Ul5S/wc/rkCIIY7ygAPvRRWlrkVOlGSDTxHKQAluAxwmSrSZ1ame6dI6QiqpK0LspF620Pai9tRwRXr2DfYwlgxlmjU3dM8kOLO7g0BCtlGKD/++cE2JrTTtaF2JTb1OPk7VH29f4YBlgGuf1v8c/qh+tS8f/7YAhvFWoh9iPkHWUWEQxl/4D2F/Wt/tgTOyshPFdD5TkoIC0Eg/Db5hTn1e5X9iL0Reee2AnNn8N6wMHI2dnV7bQB/xWpK3Y/6EsATcVAkCmhDWrxYtfFwwq5a7O9rCOnE6sbuT/Jt9Ya5Jrx8PoSA0MQoyDRMMlAfVDjXMZdaEsQJxX3tcKpmliO65grrvPEW9RM3YnjWeSM5t7zgAewG0ky00qWYdVv427FYvZSKEClK7samxGID6sLmv2A6n7dR9iX1/Pa7+P18mIAQwbWCN4IBAO2+NPum+zq88j8SQJUCGQQqxSkEukMowKG9QTuRvIuAE4V6DGbSh9Tp01jO1IcXPvR5EbdVeLE7KP0lvJi43jNZLtWspa0GcTV32sCAyI6OkhLSk/NROMy0RupAXnr/do1z/bIycS+wZzCasMJwhzBwsCGxLTRUeUn+90RaCGAJwguVTePQaJKDUXXKbgCtdjhs/eeS6DBtCrS4etz9qXzZe/z7H/oAuWw7j8LSS7xTLZoM300fx1sUEm8IYYFvPlF+SED8g+JE0sL9vhz5Bbaitkp2+jewukL+osGcAyuEekWVxVdCuD5Detc5gHvQgAQECsWCRQaDugFyv+UAEML3B1hLos3IT28PZ8y8R1KBoHtitkb1Dbac+I66mLtJeed2zTTt9IF3D3u7wSuG14tyjQjMPUhjRDk/0Lvu+AX11zRyM9S0xXbu+J25BrdUM8nxODCLs6A4JXwWAGnFKAgiSJ6Ir0mEScJFmj6CuIO0V7Kcs5226nthfytAnMAGvgr7r7np+YQ7Bn9MBoKORBSwmIdaNFgi0t5LVcRbfuz8Rb7Ew/dHYgdgg4U+ETe3soIydbT9uQs/KcSrCHJKe0pjB4LC9b1d+Ii23Xlfve2CcoYrx/pGSMJjPlz8lHysPqeC3AhNjbuQfhABjNTHEgFjPH64s3cAuCF6ub3BQPZBcj8zewa3rDUPdHN1qjppgIfFAMcHx16FHIEcfTG5zTiRuSB5zPp+uuc8dP3VfXq5P7Ps8EkvYDBnsz92pfpb/fRAi0K6g+GEqEMhwMB/9P+/AGcBOYDUQUKCQkJVgO/+TDx9Oz67Av0LAY+HjIxJzs6Png94DmRMXAluReYChsESAbRCvEMOwyGBz38sO7z50TpwvC7/b8MzRk2IRog/hROBGn23Ooz4hPlRfRWB2IVuhynHa4TYgO69XHtsO/7/QcQYh9YK40zzzNAKrQb3QvC/J/wvepc7HXyKf1xB1kFCfhg54bU9cNXvrfGntlv8RUIPxadGGATSQufAXX4K/OM81L3wfmE+oz6w/Ti5k3VYMJtsjOtwbO8w3/Yg+fZ7T3zbfsbBgsT7B2dJFUpeSocJvYeqBVQCJj6QO8H5uvjOesK9kYAcgrLEQ0VNRn3HZYhpygzMOkx/y/4KV4fCxVoCwIAYfOL6Yfpy/aPBosL4AlyCEQFaAOeB8UPPhafEqkFGfxM+iL7dP4fBCgFHwEl/6oAHQOkA44ABvzS+bD9Tgf0E7kihy03L8srzCVgHBsSqgn4/+fysujU5WjlQeJW3brX088/xyrFR84X35vyFQZEFfYcYB0oGGwREwtiA6H7FPTR65/lRuGN2hvQDcXQvFq3J7SEtozBwdFz42L2iAeZFbQiUisnLFYtlDKSMiEqeBv1BUfwMOKF2j7ateOx8VT+AAqgFAobbx7XIPkgAyF1JJ8rsjKsNGIwVSUSFAcBgvMY743teO329Kr+9gHEAmYGpAlYCjALXQxxDGsKvAdjCd0NWw7aCgQINgd+BHf9lvYz88vy7/W//H0GERLJHBYkkicvJ+8hwRmGEm4MPQYGASX86POj6YnijN782j3YkNfD1gLWtNr0467tPfnYBLULbw7nDwMPHQncAIH4HO7h4wncsta/1B/SmswTx/7C38LdxxXR4N0/67n3NgS9Ds8W7R99KLwsNy14KAkeyxBZA7r5gPSc8DLw7vYVAW0JkhDUFZoWKBXKEtMQeBPfGRYhhiXIJDokViSMH0UVTgcD+2Tz6+7S8S39IQeWCDwGjwXfAjf/qgCtAysF3AefC1MQRhb+GOgTTgmj/ZfzoO/B8Y/2GgCNDPQVEBy+H+AeSRmXE0kPogmQBPsC9AKqAD37oPSp7J/kEuDN3gTgbeQ66QvrXuw27lXsRuiy5+7qEvHG+ccAFAO4AEX69fHx6YzjWd0x1CDLusjyzDnUe9315XrpIOqH6+TtqvUCBM4QzBiNHVMe1BsqGYcYsxhBF8ETWQ8/DUMNDAyrCuAIkAQgAWgBXgMtBS0IJg1VEX4WNx/8JX4nbCVQIDEXYgseAyMAC/8y/lX90P7U/xj8tvla+x384vy3AfEIsA+WF1McRBgKEfgITv6O9wb5i/4WBF4Jjg4nFMoZ6RtIGt0WLhCmB9cAXPxu+tv5zPcq9aX0UPQz8c/t5OwM7D/q2+mq6ubppebJ4qngLOHE5Crrk/FL9mL6jv1O/m37UfSv6Ova9s/+yALGRcgnz9zYGOMM7Inz/PpoAgAH1wlVDksRzBAwEG4QjBJJF34dbSOGJ9koHCV1HOsRzwXD+ejxZO8S8WP1OPyYBEkNnxeFIt0qfy7OLJwnKyBXGDATQg76BkMAk/pV8xnrmuYB6J3rYfAw+LEBGwzVF3sg6CGaH5QczBXsC0EGsgWyAz4BYgJbAzcDHAZNCrMNfRJrFqgVYRA6CKn+gfP16F/kbeZv6qbvuvh8/9/+B/2p+u/y1egI4MfWN9Cu0VrYsOCI6hv0XvxgA9gH0ggmBdr5Deiy1tLJSsFAvjrAGsaQ0i7ku/R4AlUOvhWTFkoToQ04B3oEvQWmCGcOdBd8IBInHyv9KxwoNB4kEAEC8/UY7qHrx+xs8kT9agnpFL8gsCruLrEuNytrIwEb5BM9DOsFqQFI/Tn2fezI5inoieub78L3QQNPDk0XBB3rH9shKSAgGaYRJA1PCRIEsv4w/HP++QICBygLYBBIFk4adRpUF64RIAn9+4/smuDi2ZTYkNyw5IzvWfj6/LP+3/st9RzsDeFo143Sb9Mo2S7iY+3i+D0DGAw0EMsLM//b7RLc0cuGvom2qLOGtlTCN9VW6sEBlBihJ9YsNCqJIl8Wggg7/5z6a/rEAFwLrBeJJJou/C+KJ70cpxKFBQT4re/J6wbskvNQAMENvxv3JxgvLzFRLkgnUR5LFYsLbAEY+7f25PAW7Xrs1u679Dj7RAE+CDAPlRM6FQYXrhhOFywUqRGTD3oMVAemAKv6yvic+wgB4wjgE9oftygALO0pUyTCGXYHYfFw3YbO7sZCxwLNSNbz4knv6Pet/W7+mfj97+jmO94b2XPZvd5B5ybxjPwkBgIKngjgAFHzC+S91UXIvryctsO1wrp8yM3cB/PKCFUckCmhLqQs5iOSGGcOoQVdAaMC7AfpEfwelykCLaAqXCWtHF8QlgHA9LDsJ+nC7P710wEWEAweJylBL1ow7i52KlUiIha2BqP4ke1Q5cfhxeMC6k3zCf7MB24P9xMLFXYVehbYFTYUNBPOEXwQhw/QDJcHqAGA/Yr7YfwWA1sOPxkaITYmGSmGJnMdphBd/9jp19Z7y3bGhMZ6yzvT4ty16In0H/0zAK/92Pas7eHkVN4V3Afe7uKZ65317P4YB+AJ4gWU/G/uS90JzKC9N7PMrmW0yMO52cLygwktGwMnoCsUK00m5hzzE5sN0AjjCWESiB2aJi4q0ihmJcMf3xW0B7P4sOxk5sPn6O98/OgKShhDI1wq9C2KMIUvZyccGigLo/yn737mWuNE5WHqnfIi/ocK8BOzGFcZehjQFwwW0xNLEjERKxDcDi4NigkHBB7/7ftD/BgBgAgfERUaJCJwJxIoziQyHVAPi/wn6GLW4cnNwrfBrcV+zWrZoedw9Bf9dAH6ADT6yu+u5SzeE9xS323kYOoN8sb6igFjA7D/ePY16ZvaTcvfvIy0RrWBvlDOAOFc810DeBAZG38iGCUIJF0h+xsIFsAVURtZIYUlQCjqKGonSSTqHbgSfwXp+arwk+yX8BT4sf/1CfoUSx0AJM8o6CgOJM4b+BBwBBD4GO+f60/rHeyy8Cn66gSMDhYV4Be/Gm4dzxz6GiQZ4xV5EacM7Qc4AzT+Kfqb+Lv5m/3EBHoOUxh1IKsldSeWJvoh/xZPBpfyQN4KzSbCy73kviPFqtAK3zHtLPoeA5IFqAEA+OHrJ+JX3X7b0dq23UjkQeyj9KT6vftl+GvxG+eP2t7OYcYCwonDOMuh1lHjcPAM/eQHoxEXGkUfKyGkIW8ivSS5KO4syC9wMboxOi9TKSIhNhdBC4/+UfTK7vPsOe7l8ov6RwVEEc4bCySJKJYoBSVfHZkSMgfL/Er16/Da7vjwy/dTAMQINhByFbYYEhvrGzMa2hdxFU4RPw2aCTkF9QFC/7/8fPw+/hMDzQuSFOAZaRx/HaAbnBbWDlsCHPIP4dHRF8hUxaTHtc3y1unhcu1e+S0DQgfHBHr7Ee+f5Qbf0dnW1l/W4tic3u3lCOy57kDun+ua5j/gUtqv1eXT29XF2sDhQum+8Br44f1cAyQKHxDwFNIZRB7ZIpwo/S5eNHY31jeONBUuhiazHdkRHwVd+7/07/CO8H/zUPkTAtkMVxbRHNggYyKqICgbDBPpCoQENABD/YL7Bv0NA/gKEhFvFB4WORdiGMsX5BPIDt4KsQiLB4MGuQXNBWIGhQaPBsMHYgqxDSQQ0w8nDRwKAAeKApb8rfV67cTkf92b2AXWn9bV2szfDeQC6mfySvp7/mL9L/h98T7q0uF72I/QF8yfyyHOCdLC1rTbluBI5cToC+sc7dLuVvBo8kv0lPW+9vr2z/YG9wP3FPlU/r8EXwx5FEUbAyJSKikySjadNj408C63JxcfMBXWC7wDW/2G+S/4XfqCACsI5Q9nFpEZkBqUGkkYCRSzDwIMtwmnCVMLTA13DxcSWhMsE/MRyA6HC+QJ4wiDB2oGRAdlCiMO+xArErQR9RCBD5EMqQmFB28G5wXuAwsBFf6U+sz3/fRY8BHrBea64QLfJN1/3FDe2eHT5rzsnvJY+Lf7W/vh9yzxnOh13+3U2sp3xB3CpcNTyDzOu9Q43Lnkdu1k9bD7v//IAjYGIwinBhUCXvxa99vyJu/d7TLwXfaE/nMGTw4fF6cgXygSLEEshiqzJ9QjMx6eFpsPGQuyCAYIXwgqCn4OUBQJGiYeYR+zHlQdWhoQFisSeQ5FC+4JGArWCi0M2Q0eD8wPMw/VDJwKLArXCYIIzwcjCS4MhA/kEcgSjxKjEYAPRgwcCVYGygNMAdD+gfyM+Tn2pfO68MLsbehL5Frhq99m3nreeeGx5nLsufFB9oP6Mf2e+7z15OwX4pbWb8s2wj+837r5vnfGqM+/2ojm0fF4/NMEewmWC54Mbgw9CukFPgBv+hz12PAk7sbsze0T8jf3xPsGAW8Hvg7MFYAa4BxOHjYfhB8uH08e/RwLG3EZNhm3GfYakB2kINUisSMHI2IgfxyBGGcUPRAxDPQI2gfUCMcKrwyRDgQRKROXExASJw8EDLIJQgdcBOgCrAPlBQEJRwxsDhkPfw/HDwkPTg2EC9cJkAfUA0/+GvhA8k7s1+VK4Ajd9Nu23Lzem+H15bjrBPCb8aryhfJ472XqMOMT2unR+stwx+HEjcXDyazQ5thw4TXpqe909QX7PP/QAGwAiACaAeUACf4A+0b46/Vx9LHzPfPf83D2t/n7/I8A2QMqB+UKlg37DpUQTROyF7ccNSGLJRMpyCslLq0v8i+0LrosSCrJJr8i1B4kGyAYTxbvFEMT5xEwERcR2RBPD64M8wkvB6QD+f8I/er6SPoz+wL9LQDRBAIKVw/2E0gXhRmbGhEamBfjE3kPIgoPBIX9w/bb7+boHOPS3uDbptoP29zcK9/24ILiHOSd5KLjqOIP4tLgA9+53A3aTtj71zDYNtkg3Avgj+NC5q3odesi7jnwAPEV8bzxfvLX89327/k9/ND+TQEIAzYEnQX8BikH8QXYAzQBAP9J/c77UPxB/+UDogpfE3scfSVTLj81hDkzO0s6VDcpM8kudypYJr4jbiItIPwcExvGGrIZ6RYXE0oO6QhuA5r9wvcO85/v1u1j7kvwgfMG+Q4AsQeND00WChsOHhofSR0hGdkTrg0HB+QAlft89iHyOu887dDre+p36UvpE+nT50rlGeLu3jfcvdoG2mzZo9mU2xTfs+Kq5Xrnj+i/6dTpoOh058fmeeZs5nfmseak51LpVOtv7a7vL/Oi91f7y/5DAowFswgKC18MZQzACw8LdAioA77+p/oj+Ef3W/cS+bv9SgUIDgIX/B9LKKAvpTRPNhI2KjVCM20wEC1dKWImWyWZJb0kKSKoH8IdvRpvFUIOlgZu/yP4XPAS6rLm9eXH6G3uwfRL/CcFSA6+Fp0cvh7DHZgaRhXYDcgFU/7Y9zrz//By8PzwEfML9oj4mvkH+Dr0eu/R6ZHj792v2RnX2dZZ2AzaC9yl3jLhpuO55SLmMeVZ5ALkOeQn5VTniuod7WzuH+/S74PxRvNk8/vynvM49jH6Ev6hAhEIjQxwD4oQGQ+uCz0HRAJc/VD4LPR689j15flO/8cF6Q0eFzkfGyUxKZUrjCw/LO8p8SZsJe4kLCWQJgQoLSl0KuUqcyniJRwg0Rj0ELoI7f8494vwfewV68fsqfDF9Tb8FAPYCAQNIg8lD9kNPAveBloBJPxc+K31M/OT8c7xRPQ7+E/7xvyQ/Zn9Svyw+ZT1ffA07CDpI+aW4uLfxt5y3ozel96Q3gbf09844GvgruDk4Fvi+uQF54bpZe0p8S/0l/aQ+PD5q/pA+4b7WPs5/Lj+WwHXAzwGnQhqCisKcAhFBhIDJP9k/Bj7sfpp/AMBngdsDkYUqRkaH4IjeyV3JSkkzyFQH1wd8xujGwIdjB8JI4wmiii6KMwnmCXeIL4ZJBEcCKX/rvgq9I3yoPMn9sD59/0fASYDjgRbBAQCTv5f+vT2UvSN8q7xw/GM8j/0dfaO+Nv6t/xh/tf/Yf9Q/V77k/lg9870SvKa8FHvCe6G7Dfq1+f65fTjyOHq3/fdJ93h3mXhtePF5rzpUeyc727ySPR49lb4H/kE+uT6Qvv5+0z9Gf+uAA8CEATQBZoGPwbmA7AAAv4V+7H5dfs+/tgBDQd8DFARhxXeGBUbCBy+GyIbxBpZGiga0xomHJYdWh+dIRYk0iW/JbIjZSBAHBMXMhEOC7wFqgH2/hL+xP1//bb9Vv43/+r/+P+H/4P+qfx8+vT4r/e+9fnzePKT8Vjyq/M69Vj3KvlY+gP7Hvv6+q/6XvpE+hD6JPqP+pr6A/p2+Lf1hPIz78zqnub+48nhw+DQ4YbjWOWm59vpuOt37bvugu8M8P3vou+L8K3yb/X3+BX9YwHhBFIHrAg4CG4GLwTUAX//Cf1j+5j7Hv2q/8UDowg8DX4RrhTyFr4YeRmQGcoZPxneF7sXihgdGe4anh3rHk0f0B+fHyQeOBsNF4MSzQ3kCFgEwQA0/nL8vvsl/NP8l/2F/rP+3/1i/dP8gfur+tj5QPi39oT16fQl9ZL1l/VM9Tj1X/WE9d31X/ay9vf2vPeG+Wb8XP+QAWIDDwTgAmcBvf/x/Cv5qfR58Jjti+s96izqaepw6j3rY+yT7FXswewV7dvsP+2f7pbwivNU9xL7+P66AkEFGwd2CGgIIwd7BQ4D6f/w/VL90f0CADwDowZDCioOLRGPEzwW+BdmGHYYSxjSF44XsRfmFxoYaRiiGNgYEBmVGE4XvxVcE3QPnAp3BV0AUPwb+lb5dfm2+rb8Vf7u/zAByACf/1X+D/yq+WP4nfcQ93D3HPhB+GX4PvhH9zX2AfW18mbwaO/X7lzv4fF+9Zf5nv2kAKsCIwSFBOgDZQLB/1788Phb9pP0qfNh8xHzfvK/8f7wAfDF7gjtIeuh6fjofOkb6zbu8/GY9YL5gf1XAZYEugYfCKYIIAiHB/0GiQZDBksG9gZGCEoKpwwfD1ERJRNYFGMU6hPqEsMRQhGIENgPDBApEJcQ6BH/EpoTxxNwE+ERSg86DEgIdQTdAOf9xfx0/Pn8Dv9gAfsCzQPiA0EDCgG1/YD6tPeq9aH00vS19Xf2APfC95T45PcW9jn01/HK7yfvxu9T8ZvzX/ZL+T38//4iAeoCMQQFBLUCUQG//+79+vyg/IL7Tfpx+ev3avZp9QL0V/Kn8Dzvde5H7s3uge9/8ILxZfIA9Iv2XPn9+9j+0gDjAWkDrwS/BRgH/QelCJsJkAp2C5QMoA3xDQ8ODw5DDY8MLwynC2ALkQv3C2wMKg3hDT4ObA5EDlYNOAzaCqIItAa1BSMF9gTOBQAH3QctCUkKVAraCXIIkgWiAgUAT/22+z37rPpH+kn6bflJ+MT3SPYR9D7yTPC87l7uve7a79rxJfRq9sr4V/uH/Yr/jAFcAnsCZAJtAZYAEQBp/4P+PP3x+5j6Efl39/X1oPQz89/x+PB58Ffws/Bn8Sry9fKn88j0dPZC+EH63fs5/dj+agAAAsYD7gUFCLgJbQu1DJgNpg48D1wPDg/gDY8MiAuQCs0JzglbCg8LZwyPDRYOuQ7QDmcOAA6zDOkKAQl1B40GLwY/B0wIFAkmCn8KogpzCggJvgZSBE8Bbf7y/AT8Jfun+jr6QPke+Ej37fUC9CDyG/Ag7irtRe3Q7Qvv0fCG8hv04vXp9/j5P/zS/Y3+Ov9Z/1z/pP8gAG8ALAAAAHv/b/6Z/YX8OPuT+bX37vVk9OTz0fNT9LX1q/at90H5cvpm+3H8Dv0q/Tj9lP0b/h//ywCLAn4ElQaqCIkKEgyIDUAOOw7ADWcMDwsJCvoIsQgSCboJyQrvC+MMcQ3ODa4NNw2SDGYLRQptCawIhQgyCe4JoQorC0ILDAtVClsJmQceBc4CDgDW/RH9hvwS/O/7vPvo+sX5J/kH+DH23PQ181rxBvHp8N3wFvLa8k3ztvRS9pH36fgQ+i/6FPpe+qj67fp9+xb8O/xg/BH9q/24/Qn+/v0W/XH8e/sX+jT5ovj/9xL4/PiX+Zr6+PsE/Yb+sP87AHoAIADF/2r/bv85ANgAfgGKAowDtwTjBSMHJghACE8IDAiTB5wHbgerByAISAgMCdAJhQpgCwQMdAxfDOILUgu9CjQKJgppCmkK3QpaCx0LLwvyCoAJRwjKBoUELANCAgoBZAAkAI3/3f7D/kL+xvzm+8L68Pgl+CT3CPb09a/1g/Wj9cX1WPZY9pD2XPdM93H3t/dI99722vb89hj3nPfM96b3J/hq+Jb4bfmz+U35OPnR+HD4mfjr+HH51fm4+rz7e/ym/Zj+B/9F/0P/5/6h/pr+5f6f/xkAtgCYAUEC0AI2A7wDDQQeBDwESwRdBJAEdgWeBsoH+wjbCbEK/AryCgsL1AqCCqoKnAo9CnkKugouC9ALPgyYDMQMvgzpCwcLAgotCIQGGwWlA7YCZgIMAsMB2AHBAUYBFAGWABT/1P3T/Iv7yfq1+kL6v/km+in61vkf+j36z/lr+Rn5MfgY92L2bvWM9MX03fSv9HL11/WY9Qn2mfYJ9nz1pvUj9SX1EvbZ9iv4g/mG+pX7ffxN/SP+sv6v/nX+MP4h/mT+sf40/9f/TgCwADoBoAG3AdkB0QGVAV8BeAHkAW0CbgPNBD8GnAedCDgJoAm4CWsJcQkqCa8IwghrCHkIFglyCRMK9wpqCzgLKwvGCs4J1giJBzUG5wS/AzoDDQPiAuUCwgJpAkYC7gFNAX8Ak/9y/vH9Pv5N/tH+D//G/gr/Mf8S/wb/2f7x/bn8jPv1+av4APhc99r23Pa09ob21fbq9uf24/ZD9p/1hPVi9Wf1Avay9jj3GfhV+Wb6hPu+/IX9Jv6A/in+1/25/Vv9Ev1E/QT+1/5+/3cAzACMAHUA1/9i/57/AQCNAIwBQgI9A7oEogWxBl0HeQf1Bz0Ibwj/CDEJ9Qi+CFwIXgi2CPIIQQlwCUsJ1ghPCLEHqAZ1BUwENwNGAroBsAG+AeIBswE3AcIALQCs/wT/k/50/on++/5k/zoAkwCDAM0AnQDqAIIB6QEPAp0BtABA//z91Pzl+177+/qs+mj6fPpk+hv6J/qw+Rv5Cfk2+Jb3rPeF98f3hvhJ+eb5tPqB+9L7aPzn/J38tfwX/cn8H/22/XP9o/3q/UX+0v7L/qP+V/7f/cf9Ov5J/n7+UP9//yMAKwG7AQIDTQQjBSUGkgaYBgAHPwcdB04HTwcaB40HwQedB8oHSwdKBsMFCQWTBLQEdAQGBGsDgwLbAWUB8wDRAGYA5f+S/xn/L/9b/03/qf/b/wQAWQAyAE0ASQDL/+v/NwA6ABQA8f+I/7z+l/4f/mL9U/2k/Nj7+fsS/Ab8ZfyU/Fj8P/xj/BP8CPt4+lD6FfrH+of7vvt+/Pf82/wZ/VD9ev34/TX+X/6j/sT+Gf9c/3H/e/94/3P/c/9V/wf/xP7A/iL/q/8+ALwA1wBDAfgBoQKGA80DCwShBJgEywQnBScFEQX8BFMFdAVfBZUFKQXDBPgElQT/Ax8EwgO+AnIC+gH9ANgAAAHPAOQAPgHjAEcAOgCG/9D+2P6D/m3+0P4w/0n/Jv8R/+f+0/7N/tL+bP7//d39nv25/Rf+Vf7//eP9BP5+/Yb9k/3z/PP8kf3X/Qf+VP46/iX+0/1M/Qf9Mf3d/UX+av6F/nz+I/4b/mj+Mv5g/sv+3P7h/vf+I//z/hL/EP/j/sr/gAAAAZEB0wFRAuQCSAOKA6oDUAM7A1MDQgMMBNsEAQUjBTwF/gS/BHcEKgQTBOwDDQT9A8MDxQOsA40D1gIuAtwBNgEIAbMA+//s/5j/DP/9/qv+Wv5Y/j7+Gf4y/kD+Uv6N/gP+Hf2L/Nn7b/uL+6r7ZPud+9f7LfuA+8b7tPue/Bb9XP17/Z/9If4Y/jf+wv4Q/7n/YgA/AD4AKQCE/x3/Bf/3/qb+Sf4d/sT9rP3q/TH+pv4e/37/bv8p/zb/Df/7/lH/Nf8k/5P/zf85AAcBjgHZASQCfAKlArAC5wIIAzEDiAMwBPIEogUlBiUGIgZIBlgGFgbPBVgFhAREBEwEGwQIBAkE0gOUA7cDowMRA54CQwI0AmACNwLjAYEBKwHFAHQAfwCAAHEAPgCX/+f+Dv4m/aL8CPw8+4r69vk7+f74//jX+HH5AfqP+kL7Kvvw+s36g/q1+mb7M/we/RL+v/4C/w//3f6l/p/+cv5Y/nP+gv6a/n7+WP4b/sz97P3T/RP+pf6t/tX+5P6o/tz+Yf+d/wgAugC0AOwArwHIAZ8BbgEiARIBrAFkAqcCJQOGA9UDfQTbBDkFaAWBBesFtwXlBUUGrAVKBekEdgQaBGYDJwPYAi0CTwKVArsCRAN9Az4DPQNVAwkD/QJKAxwDvwJlAqkBDQF+ANj/Kv+x/ib+Mv3Z/GT8yvtV+5f6G/qC+cP5bfpY+rv6Vftd+1L7a/tM+/T6yvrw+hH7vPuf/L/82vwR/Uv9sP1H/r/+t/7o/iD/E/9G/1D/Lv9S/2L/Tf9U/2b/HP/+/gX/v/7Z/s/+xP5X/77/0P8HADQAYgC+AB0BzgF9AukCmwPUA3YDPwPDAmIClgKIAmsCwAIiA1MDpAMbBO0DkAOKAxQD6QJOA3ID2ANTBEAEeASVBPoDVwN7AtkBowGaAdEB2wHdAa0BfQGLAY0BZAEYASkBXgEuAccAUACU/8n+W/6y/ez8Gf0//Zf8hvxm/Iv7Q/sz++76+/p4+9j7VPxF/Y39of3u/RX+MP4r/l/+u/7p/tr+yP5b/sv9yP2y/aL9+f1i/qj+8P47/2H/gP+K/6T/ff9F/1n/BP/s/i7/4f7R/kv/kv+p/w8AfgC+AP4AEgHOAKwA5QCrAKYAFQFwAfMBIQIEAgwC+AGAAVQBcwFDAXkB5AFJAp4C3gLjApUCpQJ4AmICgwIPAt0ByAFlAWUBoAGdAdsBNQJLAmYCLQKzAVIB+ADDADEApP+8/8L/y/8gAB4A0/+A/xT/k/4J/rn9OP3m/Bz9Ov1I/Uv9jP2r/bP9Qv6i/rX+1v4S/yH/Ov+x/2H/Dv+V/4b/bP+g/zL//f4W/8f+b/4//v79qP2f/er9fP4F/13/qf+j/1P/7v7S/sr+4P5f/+T/eADaAMcAiAAYAOX/2v/7/4MA5ABcAdgBCAKEAtACkQJ2AkQCIgKjAp8C+AHHAV4B/ABJAVABeAGoAWQBgwF2AVABOQGxAI8AuwAAAW4BdQFuAVgBCAHcAIUAp//m/pX+gv71/oH/+/9UAI4AwAB9ADEA9f9i/9r+lv5p/mD+b/5+/nH+Vv5v/jT+/v0M/t395P0J/m7+3v4O/4X/3f/y/08ATQDb//T/3/+R/5n/Sf/8/gH/JP9N/yr/B/8k/1H/mv+P/yD/8/7s/ib/rv8RAFQAhQDAAPYA3wDHAMAAlgBmAGYAawD7/6n/df8i/1P/mP/e/1oAvQDqAOoA6QAjAWEBfwHlARQC/QHiAVMBzQCHAEgANwBOAIMAnwDKACcBMAHfAJYAeQBmAD8AOAATAOv/LQA0AOj//f/5/8j/7v/j/2f/Iv/2/sH+8f4f/zr/b/+0//j/+P/Z/8f/lv9O/xb/yv63/gL/bP+4/7//1f/d/5n/bP9Z/0r/c/+t/+P/GwBiAHQASwBqAGgAIAAiACsAHQAhAOn/qf+O/2j/Pf8O/w7/DP8j/5v/+f9XAKQAmQCXAIsATQAjAPz/8v///+v/4v+4/3z/f/+U/5H/o//b//z/OQB8AI0AsQCuAKYAyAC/AKcAnQCRAKwAuQCIAGoARQDX/6f/5f85AJ4A7AAHARwBPwEpAd4ApgCBAF8AYwBuAJUA7QD1AO4A7QDTAM4AgAD9/6D/hP+G/4//jP9O/yX/KP8u/1v/f/9r/2X/b/9x/73/4f/W//D/3v/9/yMAHgAHAOP/2v/O/+z/JgAhAAAABQDb/47/Zf8n/wL/Kf9I/2n/o//Y/8n/kP9e/wb/x/67/sn+/P5V/6D/xf/m//f/3v/I/6P/Pf8G//v++/40/27/xf8KAE4AhQBdAFAAKQD3//r/DwA2AFwAoADiABYBPgF0AZwBoAG6AYgBIAHkAM0A4AAHAQYB6ADsAPkA4wC7AHwARgBAAEgANAAPAMr/m/+Z/57/sf+v/73/2//U/9b/vv+c/5n/lP+w/9T/8P8uAHwAzAAVAUMBHQHgAI0ALgAWAPr/3P8AABUAOgBtAEsAPwAaAMP/mv+I/6D/pf+a/5j/hf+a/6P/bf8t//H+xP7R/iD/Tf9z/8j/4v/b/+L/tP+O/5v/ov+b/77/9v8nAHEAkgCAAGIAOAAMANP/sf+l/5D/rf/E/+P/EAARAA8A5P+i/4P/av9P/0//bv/A/xwARABjAHcAbABOADAAGwAJAP7/AAARADAARQBBAEkASQAvACQANQA8AEIAUgBdAH0ApwDRAPAACAEEAeEA2AC/AIAAUQAlABgAJwAWABEAEwAAAAIADAAeACgALAA4ACgAGADz/8f/q/93/1P/Qf9N/2b/av+B/6n/0//v//z/EwAhACAAIQAWABEAAADi/7//lP+Z/53/j/+P/27/WP9c/2X/ef+A/4D/lP+a/6n/vv/D/7n/m/+M/4P/dv9l/1v/bv+q//v/OQBtAIcAggCLAI0AZQBLAC8AJABSAGsAgQCIAGEAWABNACQACADu/9P/6f8UACwASABNAEIAPQAvABUA9v/1//b/7f8AABIAJAAyAEAAWABZAGEAVgAoABMAAQDr/9z/1f/Q/9D/0P+8/67/q/+n/6z/x//e//j/IwAwAEMAZABEABwAAQDW/8D/q/+b/6//wf/H/8T/xP/P/8f/vv/f//r/EAA/AF8AewCPAIUAeQBcAD8AHwD4/+r/4f/j//P/DwAgACMAUAB0AHoAgQB1AGkAaQBSADQAKwAjACsAPgBGAFQAcAB5AIQAgABaADoAJQAHAO//6v/o/+j/9f/+/wQABADq/+D/5//l//3/HgAxAEMATABBACcA/f/K/7f/qP+e/6H/nP+f/43/ev98/3//gv+B/43/n/+5/8z/3f/r/+j/8//y/+b/3f/F/8T/y/+6/8H/0v/X/+z//v8IAA8AAADy/93/v//D/7//w//m//b/BQAaAB4AIAAPAP7//////w0AFgAeADsAPQA6AEIANQAZAP//4//C/7H/sf+5/9j/6//z/w4AHgAkACUAFAAHAPv/+v8PABEAAwAHAAYADAAXABUAFgAlACwAMwA+AEEATABOAEEAMQAcABwAGQALABAAAQADABoAGwArADkALwAqABYACAAMAAgAEQAlADgARwBXAGIAbABtAGYAYQBYAE4APAA8ADQAHgAXAAkA+v/r/+T/8//4//X/8v/u//j/8v/v//X/8v/u/+z/4v/V/8r/yP/K/8P/zP/O/9D/5//1/wsAJgA0ADYAMgAZAPj/4v/L/7X/pv+h/6H/pP+l/6D/mP+H/4T/ev90/4T/jv+Y/5v/pv++/8b/0//S/8X/xf/Q/9z/2//Z/9L/3//t/97/1f/e/+H/6v/6//z//P8EAA8AIQA0AC4ANgBPAFUAXwBvAGkAbwB+AHIAYQBcAE4APQAuAB0AEAABAAUAFwAWABsAJAAsADgAMQAlACMAGQAVAA4ABQAIAAYAAwD9//v/+v/3//L/5P/e/+H/6v/6/xMAHAAgACoALwA9AEcAUgBdAGUAaABjAFUARAAwAB8ADAAAAAAA/f/1/+b/1v/H/7X/qf+m/6T/ov+y/8j/z//d/+b/5//y//j/CgAYAB4AJAAjABcAAQDp/9j/wv+1/7j/t//H/9j/6f/7/wYAJQA4AEMATwBSAFkAVwBOAEYARwBNAEIAQgBDADkAPwBHAEkASABJAEMAOgA0ACkAHAARAP7/7//x/+f/2//W/9P/0f/M/8z/x//E/8H/wf/K/8b/yv/U/87/2v/n/+L/3f/h/9v/2P/Y/8j/wP+6/7T/s/+z/7D/t//E/8T/y//R/9n/4v/r////CQAXACQAJQAhAB0ADwD8/+3/5P/l//H//P8GABoAKAA0AEAAQgBCAEIAQAA2ADEALwAnACgAIwAkACYAHgAfABwAFQAWABMADwAOAAMA+//1/+7/4P/O/8D/uv+z/63/rP+o/6//s/+u/7L/tv+8/8T/xf/G/8//4//q/+z/+f8AAAoAIQAvADEAPQBFAEwAVgBYAFYAUgBQAEUAQwA8ADYAPQA2AC8AJQAcABMABAD2/+//8P/v//r/AAAIABQAIQAsAC0ANAA1ADwANwArAC4AIgAWABUACgAAAP3//P/8//X/9v/5//f/7//q//D/+P8AAAgACgARABUADwAOAAUA+v8AAP///v8IABAAHQAmACsALgArACIAEwAJAPP/2//X/83/xP/F/7//yP/P/8r/yP/G/8H/wv/G/8T/zf/X/+P/6v/x//j/8//1//T/8f/t/+z/8f/7/wMACQAZACEAIAAiACcAIAAZABgAGwAcABYAFwATAAsACQAKABAADwALABQAGQAUABQABgD4//P/7P/m/+P/4f/c/+L/6//t//b/+v/2//X////3//D///////v/BAAGAAQACAD/////AgD1//H/7//t//H/6P/o/+z/6v/p//H//v/5//n/AwAEAAUADwARABIAFgAbACIAHAAiACUAHQAeABwAHAAZABMAEwAKAAEAAwAGAAwADgATABgACQAJAAEA8v/y/+f/4f/l/+T/4//o/+L/4P/l/93/3P/Z/9P/0v/W/9r/4P/s//v/DQAeACcALgAzADcALQArACwAJAAmACoAKQAkAB8AHQAYABAACwAIAAMACAALAA4AGAAcABsAGgAYABUACAAAAPv/7P/n/+b/4P/e/93/0P/K/8r/uf+2/7j/uP/J/9b/4v/w//v///8DAP7/9f/0/+z/6P/o/+f/6//t//X//f8FAAsAEgAfACQAJAApAC0ANAAwACwAKQAeABUADAADAPz/+v/6//3/+//5//j/+v/4/+//7P/r/+r/8P/z/+//+f/7//f/AAD3/+//7f/q/+X/4//o/+b/6v/v/+X/7//z/+3/9P/y//P/+v/6//7/BQAFAAQABwAFAAAAAQAAAP//+//+/wcABwATABwAHQApADAAMQA8AD8AOgBDAEMAQgBJAEAANQA2AC0AHAATABEAAgD6//v//v8CAAAABQANAA0ADwANAAkABAD9//n/9P/r/+D/1//V/8f/wP+4/67/sv+t/7D/u/+9/8n/0//e/+z/8v/4//v/AAACAAcAEQAUABcAGwAbABwAGwAaABwAHwAjACUAJgApACsAKgAqACgALAAwACoALAAwACUAJwAhABUAFAALAAEA/v/1/+f/3//V/8v/zv/L/8z/2f/h/+3/9P/9/wYABQACAAIAAQABAAAA/P/7//b/9P/5//L/8f/q/+f/6v/i/+H/5P/g/+H/4P/g/+b/5v/p/+7/8//2//v/AAADAAMA/v/8//H/5v/m/93/3//i/9v/3v/p/+7/8//5/wAACgAPABEAGQAaABIAEAASAA8ACwAIAAwADwAPABUAIAAqAC0ALQAyADEALgAtACgAKwAnACUAKAAlACAAHAAbABUAEgANAA4AEgAQABcAGQAcACMAHQAaAB8AGgAXABcAFgAWABcAEwAVABMADQALAAgABAD///f/8v/z//L/7f/r/+3/6f/k/+X/3v/Y/9D/yP/B/7r/t/+z/7P/tf+3/7r/wP/I/8z/0//b/+L/6P/r//D/+f/9//r//f/8//7/AAD//wEABQAJAAwAEAAUABMAFgAZABkAFwAYABsAHgAiACEAIgAnACoAKQAoACMAJgAfABQAFgANAAYAAwD///7////+//r//f/7//f//P/6//z//v8BAAYABQAEAAwACgALABAACwAMAAgABwAJAAUACwANAA0AEgATABIAFAATABIAFAAXABUAFgAUABAADAAIAAUAAQD//wAA/P/4//r/+P/4//n//v8CAAYACwARABQAFgAYABcAFwAXABUAEgAOAA0ADAAHAAYAAwAAAP7/9v/t/+X/3P/U/9H/0P/S/9f/2v/j/+n/6f/p/+v/6//p/+v/7f/v//H/8//z//L/8f/y//L/7v/r/+7/7P/p/+r/5v/n/+f/5P/j/+T/4//i/+T/5//s//b//v8AAAYADwARABMAEwASABEAFQAXABgAGQAYABkAGQAUAA8ACgAHAAIAAgAFAAcACAAIAA0ADwAQABEAEgAXABcAGAAZABkAGQAbABwAGwAaABgAFAARAA8ADQANAA4ADwAUABUAFwAaABcAFAATABEADQAOAAwADAALAAcABwAHAAQA//8AAAUABAAHAAgABgADAAIAAAD9//z/+//4//f/9v/y/+z/6//p/+b/5v/p/+b/5f/k/+D/3P/a/9r/2v/c/97/4v/j/+j/7v/x//P/+v8AAAAABgAIAAoACQAJAAsACgAKAAsADQAOAAsADAAMAAoABwAEAAUABwAFAAoADAANAA0AEQASABAAFAASABMAFQAUABIADgAHAAMAAAD7//n/+P/4//f/+P/5//f/+//8//r/+//4//b/9f/z/+//7v/t/+3/7//x//P/9v/2//b/9f/y//H/8f/y/+7/8P/y//H/9P/1//P/9//4//r//f///wAAAQACAAMABQAGAAUABAAGAAQAAwAEAAQABAAIAAgACQAJAAoACwAKAAgACQALAAcABAAGAAYABQAEAAQABAAFAAQAAAAAAAAA/////////f/9//3//f////7///8BAAQABQAHAAoACwAKAAwACgAIAAkACgAKAAoADAAPAA8AEgATABQAFAAWABgAFQAVABUAFAATABIAFQAXABUAFAAVABQAEwASAA8ADAALAAcABAABAPz/+v/6//b/8f/y/+//7v/u/+v/7P/q/+3/7//x//P/8P/w//D/7//v/+7/8P/y//P/9v/2//f//f/9//3/AAABAAIAAgAEAAMAAwABAAEABAACAAEABQACAAIABQABAAIAAAAAAAAA//8AAP7//P/7//v/+f/6//r//P/+//3//P/8//z/+///////AQAEAAQACAAIAAcACAAHAAgACAAHAAUABgAEAAMAAwABAAAAAAABAAIAAQAEAAQABgAGAAcABwAHAAcACQAJAAkADAAJAAoACgAIAAkACAAGAAcABwAGAAcABwAJAAkACAAHAAUAAwAEAAEAAAD+//7/AAAAAAEAAQADAAIAAQACAAEAAAAAAAAAAAD+/wAAAQAAAAIAAQAAAAAAAAD///3/+//3//f/9//2//b/9P/y//L/7v/u/+//7//u/+//7//w//P/8f/x//T/8//0//b/9v/5//n//f/9//z//f/+////AAD//wAA///+//z/+v/8//r/+v/7//n/+v/7//3//f/7//z//P/7//z/+//8//3//f/7//z//P/+/wAA//8AAAAAAQACAAIABAAEAAUABwAFAAcACQAHAAcABgAGAAkACgAKAAwADQALAAwADAALAAwACgAIAAcACAAGAAUABAABAAAAAAD///3//f/7//n/+f/3//b/9v/1//X/9f/4//j/+v/8//3///8BAAMABAAHAAkACgALAAsADQAMAAsACQAJAAkACgAKAAkACAAGAAcABwAHAAQABAAGAAUABQAEAAMAAwADAAIAAwAEAAQABAAFAAUABQAGAAcABQAHAAkABQADAAIAAgADAAEAAQABAAAAAAABAAAAAAD+//7//f/8//3//f/+//////8AAAIAAwAEAAYABwAFAAUABQAFAAYABwAGAAkACQAKAAsADQAKAAgACgAKAAoACQAJAAkACQALAAsACgALAAsACgALAAkACgAKAAgACAAJAAgACQAKAAsACwAMAAsACwALAAwACwALAAsADAALAA0ADQAOAA4ADgAOAA0ACgAIAAcAAwACAAIAAgACAAEAAAD///7//P/7//r/+P/4//j/9//2//b/9f/1//T/8//0//X/9f/1//f/9//4//j/9//4//j/9v/2//X/9//2//X/9v/y//P/8f/x//P/7//u/+7/7v/s/+r/6v/o/+j/5//l/+j/6P/p/+r/6P/q/+v/6//q/+v/7P/s/+3/7v/w//L/8f/y//P/8f/y//P/8v/y//L/8v/0//X/+P/5//r//f/+////AAACAAMABQAGAAcACgAMAAwADQAOAA4ADAANAA0ADAAOAA4ADgARAA8ADwANAA0ADQALAAsACQAKAAsACwAMAA0ADAANAA0ADAAMAA0ADgAPAA8ADwARABEAEwAUABIAEAAOAA0ADQALAA0ADQAOABEAEwASABMAFAATABMAFAAUABUAFAAVABcAFwAWABUAEgAQAA8ACwAJAAcABgADAAIAAQAAAP///f/6//j/8//x/+z/6v/r/+j/6P/n/+b/5f/k/+L/3f/c/9r/2f/Z/9r/2P/a/9z/3P/e/97/3//h/+H/4v/j/+T/5//r/+z/7v/z//b/+P/4//z//f/+//////8CAAQABwAKAA0ADwAPABEAEQAVABMAEAARABEAEQAQAA4ADwAPABAADwAQAA8ADgAKAAoABgAEAAQAAwADAAMAAwAEAAIAAwADAAEAAQAAAP///v/9//3//P/9//v/+v/6//f/9v/0//D/7//t/+r/6f/q/+j/5//o/+r/6P/p/+n/6f/q/+3/7//x//X/9v/4//r/+//7//v/+v/8//r/+//8//3//v/+//7//f8AAP3/+//7//r/+P/4//j/+P/4//v/+v/8//////8AAAEAAQAAAAIABgAHAAgADQAMAA4AEQAPABEAFQATABQAFwAXABkAGwAcAB0AHQAcABoAGQAYABcAFwAaABsAHQAfAB8AIgAlACcAKAAnACkAKAAoACcAJgAnACYAJgAjACEAHgAaABUAFAAQAA0AEAANAA4AEAAMAAsACgAJAAcABwAGAAYABgAEAAMAAAD9//r/9v/0//D/7v/t/+r/6f/q/+j/6P/l/+L/4v/f/93/2f/X/9f/1f/Y/9j/1//Z/9r/2P/T/9L/0P/O/8v/z//S/9T/1//a/9r/3P/c/97/3f/a/9r/2//X/9f/2P/Z/97/3v/c/9z/3P/Y/9b/1f/S/9H/1P/W/9b/2f/d/97/4P/h/+H/5P/m/+j/8P/0//r/BQAMABUAHgAmACoALwA3ADcAOgA8AEEARABEAEcASgBIAEkARwBJAEgARQBDAEEAQgBAAEAAQQBAAD8APwA/AD4APAA5ADoAOgA6ADoAOwA9AD4AQwBFAEUARQBDAEAAPwA9ADgAOQA4ADMAMgAyAC8ALwAtACkAKQAmACQAIwAiACEAJAAkACQAIwAhAB8AGQAWABQAEAAOAA4ADgATABQAGAAXABUAFQAUABIAEAAMAAsACQAIAAkACAAHAAcABQACAAAA/f/7//n/8//u/+3/5//m/+j/5P/g/9z/1v/O/8b/wf+6/7X/r/+r/6v/qP+l/6L/oP+d/5z/m/+Y/5j/mf+d/53/oP+l/6X/qP+n/6f/p/+l/6b/o/+l/6T/o/+m/6n/p/+l/6n/qf+s/7D/s/+1/7j/vP/F/8z/zv/Z/+H/5f/s//X//f/+/wEABQAFAAgABgAHAAkACgAJAAkACQAKAAsADQAPABEAEwATABQAGQAbABsAHQAdACAAIwAlACgAKwAuAC8AMgA1ADgAPQBBAEMARQBIAEkASQBLAEsASgBMAFAATgBQAFIAUABUAFUAVQBWAFYAVwBWAFUAVABVAFUAVgBaAFwAWQBaAFsAWABVAFAATQBGAEAAPAA5ADUALwAoACYAHwAXABEACwAAAPf/8v/q/+P/4f/i/+P/5P/n/+z/6v/s/+z/6//r/+j/6P/s/+3/7f/v/+7/7P/n/+H/3P/W/87/yP/E/8D/vP+8/7n/tf+0/63/p/+k/57/mf+W/5X/lP+X/57/o/+r/7P/t/+9/8P/w//K/9D/1P/b/9//4//o/+z/7//x//T/9f/2//n/+f/9/wAAAwAHAA0ADAAMAAsACQAGAP///P/7//n//P///wEABwANAA8ADwAPAA4ACwALAAcAAwAFAAUABQAGAAUACQAJAAoACgAMAA8AEQAWABoAHAAgACIAIgAiACAAGgAWABMACwAHAAUABAACAAMABgAGAAkACwANAA0ADAAOAA4ADwASABIADwASABAADgAPAA0ADgAMAA0ADwAOABIAEwARABMAEAAJAAcABgAAAP7//f/9//v//v/8//r/+P/0//X/9v/0//b/+////wIABgAIAAoACgAKAAwADAALAAoACwAKAAYABQD+//f/8f/p/+T/3P/U/9P/zv/L/87/zv/R/9P/0v/R/9H/1P/V/9T/1//c/+T/7P/y//v/AAAAAAAAAwAFAAMAAwADAAIAAwABAAIAAgABAAUABwAGAAgADwARABUAHgAkAC4ANQA8AEMARgBJAEYAQwA+ADcAMQAsACYAHQAXABEADQAIAAIAAAD5//T/9P/v/+3/6v/n/+X/4v/k/+f/6v/t//D/9f/5////AgADAAQACQAJAAoACgALAAwACgAHAAYABgAGAAQABgAHAAcACwAOAA8AEgAQABAACwAGAAAA/f/5//P/8v/z//P/9//7/wAABgAIAAoACgALAAkADAAPAAoADQAOAA8AEQAOAA0ACQAJAAUAAgABAAAABQAHAAkADQALAAgAAgD8/+7/4P/W/83/wf+3/7T/rv+o/6X/ov+f/5v/l/+S/5H/kP+P/4//kf+T/5T/mf+f/6b/rP+0/73/x//U/97/6v/v//T/+f/6//n/9//2//X/8f/v//L/9v/9/wQADgAXAB8AKAAvADMAOAA9AEEASQBQAFAAVQBcAF0AXwBhAFwAWwBZAFIATABGAEEAOQAxACoAHwAVAAgA/v/3/+//6f/o/+r/6//u//L/9v/6/wAABQAIAAwAEwAWABkAIAAhACEAJAAiACIAIgAjACUAKAAuADAANAA5AD4AQQBCAEMAQgBCAEAAPwA/AEEAQQBEAEcASABGAEQAQAA5ADMAKAAdABkADAADAP3/8v/o/+b/5P/h/+X/6v/w//j//f8BAAYABwAGAAcABwAFAAAA/f/8//r/9v/2//T/8//w//H/8P/q/+X/3f/a/9T/zv/I/8T/v/+3/7f/sv+s/6z/pf+l/6P/oP+h/6H/of+l/6j/sP+2/7f/u/++/7//wf/B/8D/wv+//8H/x//I/8r/zv/M/9H/0f/S/9j/2f/e/+b/7f/z//3/AgAKABIAGAAaACAAIgAhACIAHgAcABQADAAFAP7/9f/w/+3/6f/n/+n/8P/x//b//v8CAAoAEgAbACQAKwAwADkAQABEAEgATABQAE8ATQBHAEIAOwA0ACoAIgAbABUAEAAOAA0ADwAUABUAGAAgACUAJwAsADAAMgAxADQANwA6ADsAOQA4ADQAMAArACMAGwAUAAwACQAIAAUACQAMAA0AEAAQABIAEwATABQAGAAaABoAHgAgAB0AGgAUAA0ABQD9//P/6//m/+D/4f/j/9//4v/h/9z/2v/U/8//zf/N/9L/1//c/+H/5f/r/+3/7v/v/+3/6v/q/+z/7P/v//X//P///wMABQAEAAIA/f/0/+r/4v/a/9b/0//S/9T/1v/Y/9//4//p//H/9//+/wUACgARAB0AJAApAC8ANAA4ADgANwA0AC8AKQAlACEAHAAZABkAFgATABIAEAANAAcACAAGAAEAAgACAAEABQAFAAUABQAEAP7/9v/v/+T/2v/V/9H/zP/K/8j/xv/F/8T/w//C/8T/y//V/+D/8P8AAAwAGgAiACUAJQAhABwAFgAPAAkABQABAP///P/7//j/8f/t/+f/3//b/9j/2v/c/+D/5P/r//P/9/8AAAMABAAKAA8AEgAUABgAGwAdAB4AIAAXABMADQAAAPn/7v/m/+D/2v/Y/9j/3P/d/93/4v/h/+D/5P/n/+n/7P/u//L/+P/+//3//v/9//f/9P/t/+b/4f/d/9//4v/h/+z/9f/9/wcADQAUABkAGwAiACMAJgAoAC4ANQA7AEAARwBNAFIAWgBcAF4AYgBlAGIAYQBfAFwAWABQAEsARAA8ADMALwApACIAGwAYABQAEAANAAcAAgACAAMAAAD///z/+//6//r/+P/1//X/9f/3//f/9v/6//z/AAD/////AAD+/////f/6//j/9v/2//X/8//z//D/7f/u/+3/7v/x//P/+f/8/////f/5//L/6f/f/9P/xP+7/7j/tf8=\" type=\"audio/wav\" />\n",
       "                    Your browser does not support the audio element.\n",
       "                </audio>\n",
       "              "
      ],
      "text/plain": [
       "<IPython.lib.display.Audio object>"
      ]
     },
     "execution_count": 113,
     "metadata": {},
     "output_type": "execute_result"
    }
   ],
   "source": [
    "# with stretching\n",
    "utils.display_audio(\"data/sample/preprocessed_and_augmented/train/down/a1cff772_nohash_2_stretch.wav\")"
   ]
  },
  {
   "cell_type": "code",
   "execution_count": 75,
   "metadata": {},
   "outputs": [],
   "source": [
    "# for cleanup\n",
    "# rm -r $path_to_sample_preprocessed_and_augmented"
   ]
  },
  {
   "cell_type": "markdown",
   "metadata": {},
   "source": [
    "Now we can preprocess the .wav files into a tempogram and then run the same model on it (with an increased number of training samples)."
   ]
  },
  {
   "cell_type": "code",
   "execution_count": 114,
   "metadata": {},
   "outputs": [
    {
     "data": {
      "text/plain": [
       "['data/sample/preprocessed_and_augmented/train/yes/d5356b9a_nohash_0_stretch.wav',\n",
       " 'data/sample/preprocessed_and_augmented/train/yes/d3f22f0e_nohash_0_shift.wav',\n",
       " 'data/sample/preprocessed_and_augmented/train/yes/0f3f64d5_nohash_0.wav',\n",
       " 'data/sample/preprocessed_and_augmented/train/yes/66a412a7_nohash_0_shift.wav',\n",
       " 'data/sample/preprocessed_and_augmented/train/yes/8a28231e_nohash_3.wav',\n",
       " 'data/sample/preprocessed_and_augmented/train/yes/6c9223bd_nohash_0_stretch.wav',\n",
       " 'data/sample/preprocessed_and_augmented/train/yes/8a28231e_nohash_3_shift.wav',\n",
       " 'data/sample/preprocessed_and_augmented/train/yes/61d3e51e_nohash_0_stretch.wav',\n",
       " 'data/sample/preprocessed_and_augmented/train/yes/712e4d58_nohash_2_stretch.wav',\n",
       " 'data/sample/preprocessed_and_augmented/train/yes/d3f22f0e_nohash_0.wav']"
      ]
     },
     "execution_count": 114,
     "metadata": {},
     "output_type": "execute_result"
    }
   ],
   "source": [
    "# first we need a new list of all our preprocessed & augmented train files\n",
    "path_to_augmented_train = os.path.join(path_to_sample_preprocessed_and_augmented, \"train\")\n",
    "augmented_sample_train_wavs = []\n",
    "\n",
    "for category in categories_to_predict:\n",
    "    path_to_category = os.path.join(path_to_augmented_train, category)\n",
    "    category_files = utils.grab_wavs(path_to_category)\n",
    "    \n",
    "    # we use extend instead of append to add all elements from the iterable\n",
    "    augmented_sample_train_wavs.extend(category_files)\n",
    "    \n",
    "augmented_sample_train_wavs[:10]"
   ]
  },
  {
   "cell_type": "code",
   "execution_count": 115,
   "metadata": {},
   "outputs": [
    {
     "data": {
      "text/plain": [
       "['data/sample/preprocessed_and_augmented/cv/yes/5fadb538_nohash_2_stretch.wav',\n",
       " 'data/sample/preprocessed_and_augmented/cv/yes/5fadb538_nohash_2_shift.wav',\n",
       " 'data/sample/preprocessed_and_augmented/cv/yes/90804775_nohash_0_stretch.wav',\n",
       " 'data/sample/preprocessed_and_augmented/cv/yes/dc2222d7_nohash_1_shift.wav',\n",
       " 'data/sample/preprocessed_and_augmented/cv/yes/dc2222d7_nohash_1_stretch.wav',\n",
       " 'data/sample/preprocessed_and_augmented/cv/yes/e8e960fd_nohash_0.wav',\n",
       " 'data/sample/preprocessed_and_augmented/cv/yes/90804775_nohash_0_whitenoise.wav',\n",
       " 'data/sample/preprocessed_and_augmented/cv/yes/5fadb538_nohash_2.wav',\n",
       " 'data/sample/preprocessed_and_augmented/cv/yes/e8e960fd_nohash_0_stretch.wav',\n",
       " 'data/sample/preprocessed_and_augmented/cv/yes/099d52ad_nohash_1_whitenoise.wav']"
      ]
     },
     "execution_count": 115,
     "metadata": {},
     "output_type": "execute_result"
    }
   ],
   "source": [
    "# repeat for cv\n",
    "# first we need a new list of all our preprocessed & augmented train files\n",
    "path_to_augmented_cv = os.path.join(path_to_sample_preprocessed_and_augmented, \"cv\")\n",
    "augmented_sample_cv_wavs = []\n",
    "\n",
    "for category in categories_to_predict:\n",
    "    path_to_category = os.path.join(path_to_augmented_cv, category)\n",
    "    category_files = utils.grab_wavs(path_to_category)\n",
    "    \n",
    "    # we use extend instead of append to add all elements from the iterable\n",
    "    augmented_sample_cv_wavs.extend(category_files)\n",
    "    \n",
    "augmented_sample_cv_wavs[:10]"
   ]
  },
  {
   "cell_type": "code",
   "execution_count": 116,
   "metadata": {},
   "outputs": [
    {
     "data": {
      "text/plain": [
       "960"
      ]
     },
     "execution_count": 116,
     "metadata": {},
     "output_type": "execute_result"
    }
   ],
   "source": [
    "# we expect 4 x 240 files for the train set\n",
    "len(augmented_sample_train_wavs)"
   ]
  },
  {
   "cell_type": "code",
   "execution_count": 117,
   "metadata": {},
   "outputs": [
    {
     "name": "stdout",
     "output_type": "stream",
     "text": [
      "Train shape:  (960, 384, 32)\n",
      "CV shape:  (240, 384, 32)\n"
     ]
    }
   ],
   "source": [
    "# preprocess into a tempogram\n",
    "augmented_train_X_tempogram = utils.get_X_tempogram(augmented_sample_train_wavs)\n",
    "print(\"Train shape: \", augmented_train_X_tempogram.shape)\n",
    "\n",
    "augmented_cv_X_tempogram = utils.get_X_tempogram(augmented_sample_cv_wavs)\n",
    "print(\"CV shape: \", augmented_cv_X_tempogram.shape)"
   ]
  },
  {
   "cell_type": "code",
   "execution_count": 118,
   "metadata": {},
   "outputs": [
    {
     "name": "stdout",
     "output_type": "stream",
     "text": [
      "Train:  (960, 384, 32, 1)\n",
      "CV:  (240, 384, 32, 1)\n"
     ]
    }
   ],
   "source": [
    "# extend dimensions for 2D convolutions (may take a couple of minutes)\n",
    "augmented_train_X_tempogram_2 = np.expand_dims(augmented_train_X_tempogram, axis=3)\n",
    "augmented_cv_X_tempogram_2 = np.expand_dims(augmented_cv_X_tempogram, axis=3)\n",
    "\n",
    "print(\"Train: \", augmented_train_X_tempogram_2.shape)\n",
    "print(\"CV: \", augmented_cv_X_tempogram_2.shape)"
   ]
  },
  {
   "cell_type": "code",
   "execution_count": 126,
   "metadata": {},
   "outputs": [
    {
     "name": "stdout",
     "output_type": "stream",
     "text": [
      "Target dimensions: (960, 12)\n",
      "Received shape: (960, 12)\n"
     ]
    }
   ],
   "source": [
    "# since we've increased the number of .wav files, our y has also changed shape\n",
    "rows = len(augmented_sample_train_wavs)\n",
    "columns = len(categories_to_predict)\n",
    "dimensions = (rows, columns)\n",
    "print(\"Target dimensions: {}\".format(dimensions))\n",
    "\n",
    "# get the y (notice that the character offset changes due to the name of the folder)\n",
    "augmented_train_y = utils.get_y(augmented_sample_train_wavs, 45, categories_to_predict)\n",
    "print(\"Received shape: {}\".format(augmented_train_y.shape))"
   ]
  },
  {
   "cell_type": "code",
   "execution_count": 127,
   "metadata": {},
   "outputs": [
    {
     "name": "stdout",
     "output_type": "stream",
     "text": [
      "Target dimensions: (240, 12)\n",
      "Received shape: (240, 12)\n"
     ]
    }
   ],
   "source": [
    "# repeat for cv\n",
    "# since we've increased the number of .wav files, our y has also changed shape\n",
    "rows = len(augmented_sample_cv_wavs)\n",
    "columns = len(categories_to_predict)\n",
    "dimensions = (rows, columns)\n",
    "print(\"Target dimensions: {}\".format(dimensions))\n",
    "\n",
    "# get the y (notice that the character offset changes due to the name of the folder)\n",
    "augmented_cv_y = utils.get_y(augmented_sample_cv_wavs, 42, categories_to_predict)\n",
    "print(\"Received shape: {}\".format(augmented_cv_y.shape))"
   ]
  },
  {
   "cell_type": "markdown",
   "metadata": {},
   "source": [
    "Persist the obtained matrices."
   ]
  },
  {
   "cell_type": "code",
   "execution_count": 132,
   "metadata": {},
   "outputs": [],
   "source": [
    "# persist\n",
    "bcolz_save(path_to_sample_preprocessed_and_augmented + os.path.sep + \"augmented_train_tempogram_X\" + \".bc\", augmented_train_X_tempogram_2)\n",
    "bcolz_save(path_to_sample_preprocessed_and_augmented + os.path.sep + \"augmented_train_y\" + \".bc\", augmented_train_y)\n",
    "\n",
    "bcolz_save(path_to_sample_preprocessed_and_augmented + os.path.sep + \"augmented_cv_tempogram_X\" + \".bc\", augmented_cv_X_tempogram_2)\n",
    "bcolz_save(path_to_sample_preprocessed_and_augmented + os.path.sep + \"augmented_cv_y\" + \".bc\", augmented_cv_y)"
   ]
  },
  {
   "cell_type": "markdown",
   "metadata": {},
   "source": [
    "Reload if necessary."
   ]
  },
  {
   "cell_type": "code",
   "execution_count": 17,
   "metadata": {},
   "outputs": [],
   "source": [
    "# reload\n",
    "augmented_train_X_tempogram_2 = bcolz_load(path_to_sample_preprocessed_and_augmented + os.path.sep + \"augmented_train_tempogram_X\" + \".bc\")\n",
    "augmented_cv_X_tempogram_2 = bcolz_load(path_to_sample_preprocessed_and_augmented + os.path.sep + \"augmented_cv_tempogram_X\" + \".bc\")\n",
    "\n",
    "augmented_train_y = bcolz_load(path_to_sample_preprocessed_and_augmented + os.path.sep + \"augmented_train_y\" + \".bc\")\n",
    "augmented_cv_y = bcolz_load(path_to_sample_preprocessed_and_augmented + os.path.sep + \"augmented_cv_y\" + \".bc\")"
   ]
  },
  {
   "cell_type": "markdown",
   "metadata": {},
   "source": [
    "Recreate the model and train (20 epochs may take a couple hours on a machine with a single GPU). I'm including the code for training for fewer epochs, saving model weights and reloading the model."
   ]
  },
  {
   "cell_type": "code",
   "execution_count": 18,
   "metadata": {},
   "outputs": [],
   "source": [
    "cnn6 = Sequential([\n",
    "        Conv2D(input_shape=(augmented_train_X_tempogram_2.shape[1], augmented_train_X_tempogram_2.shape[2], 1), \n",
    "                      kernel_size=32, filters=128, padding=\"same\", activation=\"relu\"),\n",
    "        Dropout(0.11),\n",
    "        MaxPooling2D(),\n",
    "        Conv2D(kernel_size=12, filters=128, padding=\"same\", activation=\"relu\"),\n",
    "        Dropout(0.13),\n",
    "        MaxPooling2D(),\n",
    "        Flatten(),\n",
    "        Dense(2000, activation=\"relu\"),\n",
    "        Dropout(.7),\n",
    "        Dense(num_categories, activation=\"softmax\")\n",
    "    ])\n",
    "\n",
    "cnn6.compile(Adam(lr=0.0001),loss=\"categorical_crossentropy\", metrics=[\"accuracy\"])"
   ]
  },
  {
   "cell_type": "code",
   "execution_count": 19,
   "metadata": {},
   "outputs": [
    {
     "name": "stdout",
     "output_type": "stream",
     "text": [
      "Train on 960 samples, validate on 240 samples\n",
      "Epoch 1/5\n",
      "960/960 [==============================] - 780s - loss: 2.4507 - acc: 0.0969 - val_loss: 2.4326 - val_acc: 0.1583\n",
      "Epoch 2/5\n",
      "960/960 [==============================] - 627s - loss: 2.4053 - acc: 0.1437 - val_loss: 2.3399 - val_acc: 0.1750\n",
      "Epoch 3/5\n",
      "960/960 [==============================] - 586s - loss: 2.3707 - acc: 0.1562 - val_loss: 2.3790 - val_acc: 0.1750\n",
      "Epoch 4/5\n",
      "960/960 [==============================] - 568s - loss: 2.3512 - acc: 0.1677 - val_loss: 2.3198 - val_acc: 0.1875\n",
      "Epoch 5/5\n",
      "960/960 [==============================] - 569s - loss: 2.2780 - acc: 0.2031 - val_loss: 2.2378 - val_acc: 0.1833\n"
     ]
    }
   ],
   "source": [
    "cnn6_results = cnn6.fit(augmented_train_X_tempogram_2, augmented_train_y, batch_size=64, \n",
    "                        epochs=5, validation_data=(augmented_cv_X_tempogram_2, augmented_cv_y))"
   ]
  },
  {
   "cell_type": "code",
   "execution_count": 23,
   "metadata": {},
   "outputs": [],
   "source": [
    "# create a directory for storing model weights\n",
    "!mkdir $path_to_sample/models"
   ]
  },
  {
   "cell_type": "code",
   "execution_count": 20,
   "metadata": {},
   "outputs": [],
   "source": [
    "# store path to weights\n",
    "path_to_weights = os.path.join(path_to_sample, \"models\", \"cnn6.h5\")"
   ]
  },
  {
   "cell_type": "code",
   "execution_count": 20,
   "metadata": {},
   "outputs": [],
   "source": [
    "# save model weights\n",
    "cnn6.save_weights(path_to_weights)"
   ]
  },
  {
   "cell_type": "code",
   "execution_count": 21,
   "metadata": {},
   "outputs": [
    {
     "name": "stdout",
     "output_type": "stream",
     "text": [
      "Train on 960 samples, validate on 240 samples\n",
      "Epoch 1/5\n",
      "960/960 [==============================] - 573s - loss: 2.2401 - acc: 0.2208 - val_loss: 2.2404 - val_acc: 0.2375\n",
      "Epoch 2/5\n",
      "960/960 [==============================] - 565s - loss: 2.1814 - acc: 0.2271 - val_loss: 2.1267 - val_acc: 0.2625\n",
      "Epoch 3/5\n",
      "960/960 [==============================] - 580s - loss: 2.1390 - acc: 0.2469 - val_loss: 2.1015 - val_acc: 0.2792\n",
      "Epoch 4/5\n",
      "960/960 [==============================] - 588s - loss: 2.0946 - acc: 0.2698 - val_loss: 2.1019 - val_acc: 0.2750\n",
      "Epoch 5/5\n",
      "960/960 [==============================] - 563s - loss: 2.0532 - acc: 0.2698 - val_loss: 2.0792 - val_acc: 0.2833\n"
     ]
    }
   ],
   "source": [
    "# 5 more epochs & save weights again\n",
    "cnn6_results = cnn6.fit(augmented_train_X_tempogram_2, augmented_train_y, batch_size=64, \n",
    "                        epochs=5, validation_data=(augmented_cv_X_tempogram_2, augmented_cv_y))\n",
    "cnn6.save_weights(path_to_weights)"
   ]
  },
  {
   "cell_type": "code",
   "execution_count": 22,
   "metadata": {},
   "outputs": [
    {
     "name": "stdout",
     "output_type": "stream",
     "text": [
      "Train on 960 samples, validate on 240 samples\n",
      "Epoch 1/5\n",
      "960/960 [==============================] - 677s - loss: 2.0442 - acc: 0.2833 - val_loss: 2.0479 - val_acc: 0.2958\n",
      "Epoch 2/5\n",
      "960/960 [==============================] - 701s - loss: 1.9625 - acc: 0.3281 - val_loss: 2.0089 - val_acc: 0.3208\n",
      "Epoch 3/5\n",
      "960/960 [==============================] - 721s - loss: 1.9416 - acc: 0.3094 - val_loss: 2.0519 - val_acc: 0.3208\n",
      "Epoch 4/5\n",
      "960/960 [==============================] - 712s - loss: 1.9399 - acc: 0.3073 - val_loss: 2.0248 - val_acc: 0.3083\n",
      "Epoch 5/5\n",
      "960/960 [==============================] - 678s - loss: 1.8895 - acc: 0.3302 - val_loss: 2.0065 - val_acc: 0.3042\n"
     ]
    }
   ],
   "source": [
    "# 5 more epochs & save weights again\n",
    "cnn6_results = cnn6.fit(augmented_train_X_tempogram_2, augmented_train_y, batch_size=64, \n",
    "                        epochs=5, validation_data=(augmented_cv_X_tempogram_2, augmented_cv_y))\n",
    "cnn6.save_weights(path_to_weights)"
   ]
  },
  {
   "cell_type": "code",
   "execution_count": 23,
   "metadata": {},
   "outputs": [
    {
     "name": "stdout",
     "output_type": "stream",
     "text": [
      "Train on 960 samples, validate on 240 samples\n",
      "Epoch 1/5\n",
      "960/960 [==============================] - 671s - loss: 1.8432 - acc: 0.3542 - val_loss: 2.0178 - val_acc: 0.3125\n",
      "Epoch 2/5\n",
      "960/960 [==============================] - 637s - loss: 1.8191 - acc: 0.3542 - val_loss: 2.0394 - val_acc: 0.3083\n",
      "Epoch 3/5\n",
      "960/960 [==============================] - 607s - loss: 1.8099 - acc: 0.3469 - val_loss: 2.0200 - val_acc: 0.3083\n",
      "Epoch 4/5\n",
      "960/960 [==============================] - 605s - loss: 1.7687 - acc: 0.3615 - val_loss: 2.0439 - val_acc: 0.3292\n",
      "Epoch 5/5\n",
      "960/960 [==============================] - 602s - loss: 1.7536 - acc: 0.3625 - val_loss: 2.0583 - val_acc: 0.3042\n"
     ]
    }
   ],
   "source": [
    "# 5 more epochs & save weights again\n",
    "cnn6_results = cnn6.fit(augmented_train_X_tempogram_2, augmented_train_y, batch_size=64, \n",
    "                        epochs=5, validation_data=(augmented_cv_X_tempogram_2, augmented_cv_y))\n",
    "cnn6.save_weights(path_to_weights)"
   ]
  },
  {
   "cell_type": "markdown",
   "metadata": {},
   "source": [
    "We can see that our model is starting to overfit."
   ]
  },
  {
   "cell_type": "code",
   "execution_count": 24,
   "metadata": {},
   "outputs": [
    {
     "name": "stdout",
     "output_type": "stream",
     "text": [
      "Train on 960 samples, validate on 240 samples\n",
      "Epoch 1/5\n",
      "960/960 [==============================] - 639s - loss: 1.7057 - acc: 0.3969 - val_loss: 2.0529 - val_acc: 0.3458\n",
      "Epoch 2/5\n",
      "960/960 [==============================] - 724s - loss: 1.6907 - acc: 0.4010 - val_loss: 2.0136 - val_acc: 0.3333\n",
      "Epoch 3/5\n",
      "960/960 [==============================] - 701s - loss: 1.6661 - acc: 0.3969 - val_loss: 2.1088 - val_acc: 0.3083\n",
      "Epoch 4/5\n",
      "960/960 [==============================] - 673s - loss: 1.6570 - acc: 0.4125 - val_loss: 2.0728 - val_acc: 0.3125\n",
      "Epoch 5/5\n",
      "960/960 [==============================] - 692s - loss: 1.5766 - acc: 0.4542 - val_loss: 2.0852 - val_acc: 0.3208\n"
     ]
    }
   ],
   "source": [
    "# 5 more epochs & save weights again\n",
    "cnn6_results = cnn6.fit(augmented_train_X_tempogram_2, augmented_train_y, batch_size=64, \n",
    "                        epochs=5, validation_data=(augmented_cv_X_tempogram_2, augmented_cv_y))\n",
    "cnn6.save_weights(path_to_weights)"
   ]
  },
  {
   "cell_type": "markdown",
   "metadata": {},
   "source": [
    "We can see that our model with data augmentation does not reach the same accuracy as a pure tempogram model. There are many potential reasons: the shifting might be segmenting utterances so that they become unrecogizable, the white-noise addition may be too generic, pushing the model in the direction of overfitting to that feature. Since the benefits of these 3 types of augmentation are not clear, we could consider the direciton of creating custom keras generators and experimenting with preprocessing there."
   ]
  },
  {
   "cell_type": "code",
   "execution_count": 21,
   "metadata": {},
   "outputs": [],
   "source": [
    "# load model weights\n",
    "# cnn6.load_weights(path_to_weights)"
   ]
  },
  {
   "cell_type": "markdown",
   "metadata": {},
   "source": [
    "### Community Solutions\n",
    "One of the best aspects of Kaggle challenges is the ability to cooperate and discuss your ideas with other participants. In general I believe seeking feedback from other ML Engineers and Data Scientists is very often hugely helpful. Additionally, discussions with other experts can be some of the most constructive experiences of our problem-solving adventures.\n",
    "\n",
    "There's one particularly interesting approach to this challenge that gained popularity while it was still ongoing - promoted by, among others, 은주니 and Sukjae Cho. I'd like to showcase it here because of its unorthodox character.\n",
    "\n",
    "The idea is to skip all preprocessing and use 1D convolutions on the raw 16000-dimensional .wav data."
   ]
  },
  {
   "cell_type": "code",
   "execution_count": 12,
   "metadata": {},
   "outputs": [
    {
     "data": {
      "text/plain": [
       "(240, 16000, 1)"
      ]
     },
     "execution_count": 12,
     "metadata": {},
     "output_type": "execute_result"
    }
   ],
   "source": [
    "# we need to expand the dimensions for 1D convolutions\n",
    "commmunity_train_X = np.expand_dims(train_X, axis=2)\n",
    "commmunity_train_X.shape"
   ]
  },
  {
   "cell_type": "code",
   "execution_count": 13,
   "metadata": {},
   "outputs": [
    {
     "data": {
      "text/plain": [
       "(60, 16000, 1)"
      ]
     },
     "execution_count": 13,
     "metadata": {},
     "output_type": "execute_result"
    }
   ],
   "source": [
    "# same for CV\n",
    "community_cv_X = np.expand_dims(cv_X, axis=2)\n",
    "community_cv_X.shape"
   ]
  },
  {
   "cell_type": "code",
   "execution_count": 16,
   "metadata": {},
   "outputs": [],
   "source": [
    "# Functional model\n",
    "\n",
    "# input layer & batch normalization\n",
    "inputs = Input(shape = (16000,1))\n",
    "x_1d = BatchNormalization(name = 'batchnormal_1d_in')(inputs)\n",
    "\n",
    "# iteratively create 9 blocks of 2 convolutional layers with batchnorm and max-pooling\n",
    "for i in range(9):\n",
    "    \n",
    "    name = 'step'+str(i)\n",
    "    \n",
    "    # first 1D convolutional block\n",
    "    x_1d = Conv1D(8*(2 ** i), (3),padding = 'same', name = 'conv'+name+'_1')(x_1d)\n",
    "    x_1d = BatchNormalization(name = 'batch'+name+'_1')(x_1d)\n",
    "    x_1d = Activation('relu')(x_1d)\n",
    "    \n",
    "    # second 1D convolutional block\n",
    "    x_1d = Conv1D(8*(2 ** i), (3),padding = 'same', name = 'conv'+name+'_2')(x_1d)\n",
    "    x_1d = BatchNormalization(name = 'batch'+name+'_2')(x_1d)\n",
    "    x_1d = Activation('relu')(x_1d)\n",
    "    \n",
    "    # max pooling\n",
    "    x_1d = MaxPooling1D((2), padding='same')(x_1d)\n",
    "\n",
    "# final convolution and dense layer\n",
    "x_1d = Conv1D(1024, (1),name='last1024')(x_1d)\n",
    "x_1d = GlobalMaxPool1D()(x_1d)\n",
    "x_1d = Dense(1024, activation = 'relu', name= 'dense1024_onlygmax')(x_1d)\n",
    "x_1d = Dropout(0.2)(x_1d)\n",
    "\n",
    "# soft-maxed prediction layer\n",
    "predictions = Dense(num_categories, activation = 'softmax',name='cls_1d')(x_1d)\n",
    "\n",
    "\n",
    "community_model = Model(inputs=inputs, outputs=predictions)\n",
    "community_model.compile(Adam(lr=0.0001),loss=\"categorical_crossentropy\", metrics=[\"accuracy\"])"
   ]
  },
  {
   "cell_type": "code",
   "execution_count": 17,
   "metadata": {},
   "outputs": [
    {
     "name": "stdout",
     "output_type": "stream",
     "text": [
      "Train on 240 samples, validate on 60 samples\n",
      "Epoch 1/5\n",
      "240/240 [==============================] - 48s - loss: 3.8549 - acc: 0.0792 - val_loss: 2.4850 - val_acc: 0.0833\n",
      "Epoch 2/5\n",
      "240/240 [==============================] - 46s - loss: 3.3894 - acc: 0.1208 - val_loss: 2.4854 - val_acc: 0.0833\n",
      "Epoch 3/5\n",
      "240/240 [==============================] - 47s - loss: 2.8088 - acc: 0.1917 - val_loss: 2.4862 - val_acc: 0.0833\n",
      "Epoch 4/5\n",
      "240/240 [==============================] - 46s - loss: 2.3386 - acc: 0.2833 - val_loss: 2.4876 - val_acc: 0.0833\n",
      "Epoch 5/5\n",
      "240/240 [==============================] - 46s - loss: 2.0296 - acc: 0.3417 - val_loss: 2.4909 - val_acc: 0.0833\n"
     ]
    }
   ],
   "source": [
    "community_model_results= community_model.fit(commmunity_train_X, train_y, batch_size=64, \n",
    "                        epochs=5, validation_data=(community_cv_X, cv_y))"
   ]
  },
  {
   "cell_type": "markdown",
   "metadata": {},
   "source": [
    "The model quickly overfits our tiny sample set without reaching a good validation accuracy. This can be due to the fact that the regularization was tuned to a much larger training set. We can experiment by adding dropout to the 9 blocks and trying to make the overall architecture a bit less complex and therefore less prone to overfitting."
   ]
  },
  {
   "cell_type": "code",
   "execution_count": 22,
   "metadata": {},
   "outputs": [],
   "source": [
    "# input layer & batch normalization\n",
    "inputs = Input(shape = (16000,1))\n",
    "x_1d = BatchNormalization(name = 'batchnormal_1d_in')(inputs)\n",
    "\n",
    "# iteratively create 4 blocks of 2 convolutional layers with batchnorm and max-pooling\n",
    "for i in range(5):\n",
    "    \n",
    "    name = 'step'+str(i)\n",
    "    \n",
    "    # first 1D convolutional block\n",
    "    x_1d = Conv1D(8*(2 ** i), (2),padding = 'same', name = 'conv'+name+'_1')(x_1d)\n",
    "    x_1d = BatchNormalization(name = 'batch'+name+'_1')(x_1d)\n",
    "    x_1d = Activation('relu')(x_1d)\n",
    "    \n",
    "    # second 1D convolutional block\n",
    "    x_1d = Conv1D(8*(2 ** i), (3),padding = 'same', name = 'conv'+name+'_2')(x_1d)\n",
    "    x_1d = BatchNormalization(name = 'batch'+name+'_2')(x_1d)\n",
    "    x_1d = Activation('relu')(x_1d)\n",
    "    \n",
    "    # max pooling\n",
    "    x_1d = MaxPooling1D((2), padding='same')(x_1d)\n",
    "\n",
    "# final convolution and dense layer\n",
    "x_1d = Conv1D(1024, (1),name='last1024')(x_1d)\n",
    "x_1d = GlobalMaxPool1D()(x_1d)\n",
    "x_1d = Dense(1024, activation = 'relu', name= 'dense1024_onlygmax')(x_1d)\n",
    "x_1d = Dropout(0.2)(x_1d)\n",
    "\n",
    "# soft-maxed prediction layer\n",
    "predictions = Dense(num_categories, activation = 'softmax',name='cls_1d')(x_1d)\n",
    "\n",
    "\n",
    "community_model_2 = Model(inputs=inputs, outputs=predictions)\n",
    "community_model_2.compile(Adam(lr=0.001),loss=\"categorical_crossentropy\", metrics=[\"accuracy\"])"
   ]
  },
  {
   "cell_type": "code",
   "execution_count": 23,
   "metadata": {},
   "outputs": [
    {
     "name": "stdout",
     "output_type": "stream",
     "text": [
      "Train on 240 samples, validate on 60 samples\n",
      "Epoch 1/30\n",
      "240/240 [==============================] - 19s - loss: 4.6181 - acc: 0.1042 - val_loss: 2.4986 - val_acc: 0.0833\n",
      "Epoch 2/30\n",
      "240/240 [==============================] - 16s - loss: 5.3352 - acc: 0.1000 - val_loss: 2.4803 - val_acc: 0.0667\n",
      "Epoch 3/30\n",
      "240/240 [==============================] - 16s - loss: 4.2115 - acc: 0.1333 - val_loss: 2.4563 - val_acc: 0.1333\n",
      "Epoch 4/30\n",
      "240/240 [==============================] - 16s - loss: 3.2941 - acc: 0.2208 - val_loss: 2.4399 - val_acc: 0.1167\n",
      "Epoch 5/30\n",
      "240/240 [==============================] - 16s - loss: 2.9829 - acc: 0.1750 - val_loss: 2.4240 - val_acc: 0.1000\n",
      "Epoch 6/30\n",
      "240/240 [==============================] - 16s - loss: 2.7526 - acc: 0.1792 - val_loss: 2.4203 - val_acc: 0.1333\n",
      "Epoch 7/30\n",
      "240/240 [==============================] - 16s - loss: 2.4915 - acc: 0.1625 - val_loss: 2.4310 - val_acc: 0.1333\n",
      "Epoch 8/30\n",
      "240/240 [==============================] - 16s - loss: 2.3198 - acc: 0.1667 - val_loss: 2.4448 - val_acc: 0.1333\n",
      "Epoch 9/30\n",
      "240/240 [==============================] - 16s - loss: 2.2501 - acc: 0.2250 - val_loss: 2.4722 - val_acc: 0.1167\n",
      "Epoch 10/30\n",
      "240/240 [==============================] - 16s - loss: 2.2181 - acc: 0.2083 - val_loss: 2.5172 - val_acc: 0.1333\n",
      "Epoch 11/30\n",
      "240/240 [==============================] - 16s - loss: 2.1509 - acc: 0.2458 - val_loss: 2.5642 - val_acc: 0.1333\n",
      "Epoch 12/30\n",
      "240/240 [==============================] - 16s - loss: 2.0779 - acc: 0.2500 - val_loss: 2.5840 - val_acc: 0.1167\n",
      "Epoch 13/30\n",
      "240/240 [==============================] - 16s - loss: 2.0517 - acc: 0.2958 - val_loss: 2.6442 - val_acc: 0.1167\n",
      "Epoch 14/30\n",
      "240/240 [==============================] - 16s - loss: 2.0209 - acc: 0.2958 - val_loss: 2.7075 - val_acc: 0.1167\n",
      "Epoch 15/30\n",
      "240/240 [==============================] - 16s - loss: 1.9995 - acc: 0.3000 - val_loss: 2.7479 - val_acc: 0.1167\n",
      "Epoch 16/30\n",
      "240/240 [==============================] - 16s - loss: 1.9569 - acc: 0.3083 - val_loss: 2.7910 - val_acc: 0.0833\n",
      "Epoch 17/30\n",
      "240/240 [==============================] - 16s - loss: 1.9285 - acc: 0.3375 - val_loss: 2.7926 - val_acc: 0.1167\n",
      "Epoch 18/30\n",
      "240/240 [==============================] - 16s - loss: 1.8407 - acc: 0.3625 - val_loss: 2.8526 - val_acc: 0.1500\n",
      "Epoch 19/30\n",
      "240/240 [==============================] - 16s - loss: 1.8417 - acc: 0.3500 - val_loss: 2.8647 - val_acc: 0.1333\n",
      "Epoch 20/30\n",
      "240/240 [==============================] - 16s - loss: 1.8506 - acc: 0.3208 - val_loss: 2.9275 - val_acc: 0.1333\n",
      "Epoch 21/30\n",
      "240/240 [==============================] - 16s - loss: 1.8006 - acc: 0.3875 - val_loss: 2.9993 - val_acc: 0.1667\n",
      "Epoch 22/30\n",
      "240/240 [==============================] - 16s - loss: 1.6915 - acc: 0.3625 - val_loss: 3.0589 - val_acc: 0.1667\n",
      "Epoch 23/30\n",
      "240/240 [==============================] - 16s - loss: 1.6458 - acc: 0.4333 - val_loss: 3.1094 - val_acc: 0.1500\n",
      "Epoch 24/30\n",
      "240/240 [==============================] - 16s - loss: 1.7385 - acc: 0.3667 - val_loss: 3.2128 - val_acc: 0.1500\n",
      "Epoch 25/30\n",
      "240/240 [==============================] - 16s - loss: 1.6428 - acc: 0.3667 - val_loss: 3.3223 - val_acc: 0.1500\n",
      "Epoch 26/30\n",
      "240/240 [==============================] - 16s - loss: 1.6249 - acc: 0.3708 - val_loss: 3.3386 - val_acc: 0.1667\n",
      "Epoch 27/30\n",
      "240/240 [==============================] - 16s - loss: 1.5752 - acc: 0.4417 - val_loss: 3.3935 - val_acc: 0.1667\n",
      "Epoch 28/30\n",
      "240/240 [==============================] - 15s - loss: 1.5695 - acc: 0.4042 - val_loss: 3.5099 - val_acc: 0.1167\n",
      "Epoch 29/30\n",
      "240/240 [==============================] - 15s - loss: 1.5296 - acc: 0.4167 - val_loss: 3.3665 - val_acc: 0.1333\n",
      "Epoch 30/30\n",
      "240/240 [==============================] - 14s - loss: 1.5400 - acc: 0.4375 - val_loss: 3.3580 - val_acc: 0.1500\n"
     ]
    }
   ],
   "source": [
    "community_model_2_results = community_model_2.fit(commmunity_train_X, train_y, batch_size=64, \n",
    "                        epochs=30, validation_data=(community_cv_X, cv_y))"
   ]
  },
  {
   "cell_type": "markdown",
   "metadata": {},
   "source": [
    "We can see some progress but nothing that would make us treat simple 1D convolutions as a particularly promising direction. A difficult lesson but a lesson nonetheless - testing on the sample can only get you so far.\n",
    "\n",
    "We'll put this architecture to the test on the main set in the next notebook."
   ]
  },
  {
   "cell_type": "markdown",
   "metadata": {},
   "source": [
    "### Final thoughts\n",
    "As you can see doing experiments on the sample sets lets you build intuitions about the types of models that might do well on the larger set. It's good to prototype quickly too narrow down the solution space but we shouldn't get too hung-up on this stage either. Things that might work great with more data might not perform well on a small sample set. We do have strong grounds to believe that the convolutional models are the most promising.\n",
    "\n",
    "There are also pitfalls that we might fall into without knowing our actual, final test set. In particular I mean the fact that the Kaggle test set that determines our leaderboard scores might be quite different from the test set we've been provided with. It might contain lots of utterances of words that would technically fall under our \"unknown\" category, but that nonetheless are very different from the \"unknown\" samples we've trained and locally tested our model on. The leaderboard test sample might also be skewed in different, real-world ways. \n",
    "\n",
    "I do not intend to devote a lot of space to tuning your predictions through ensembling techniques or ways of specifically learning things about the final Kaggle test set, but that is an interesting challenge in and of itself. Instead we'll focus on learning which techniques (and why) are likely to work on the data provided."
   ]
  },
  {
   "cell_type": "code",
   "execution_count": null,
   "metadata": {},
   "outputs": [],
   "source": []
  }
 ],
 "metadata": {
  "kernelspec": {
   "display_name": "Python 3",
   "language": "python",
   "name": "python3"
  },
  "language_info": {
   "codemirror_mode": {
    "name": "ipython",
    "version": 3
   },
   "file_extension": ".py",
   "mimetype": "text/x-python",
   "name": "python",
   "nbconvert_exporter": "python",
   "pygments_lexer": "ipython3",
   "version": "3.6.4"
  }
 },
 "nbformat": 4,
 "nbformat_minor": 2
}
