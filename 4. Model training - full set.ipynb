{
 "cells": [
  {
   "cell_type": "markdown",
   "metadata": {},
   "source": [
    "# Model training - full set"
   ]
  },
  {
   "cell_type": "markdown",
   "metadata": {},
   "source": [
    "In the previous notebook we've experimented with different model architectures, hyperparameters and forms of preprocessing/augmentation. In this one we will test the most promising solutions on the entire set.\n",
    "\n",
    "First we will have to tackle the fact that our main set is **currently unbalanced**, in that we have:\n",
    "\n",
    "   1. A lot more examples in the _unknown_ category than other categories for train, cv & test sets.\n",
    "   2. A lot fewer examples in the _silence_ category than other categories for train, cv & test sets.\n",
    "\n",
    "In the _sample_ set we had a balanced mix. There's also another challenge that comes into play as we move from sample to main set - some of the examples in the full set are mislabelled. \n",
    "\n",
    "Once we balance, preprocess and persist our final data set we will move on to tuning our models to that data. We will then rewrite our most promising architecture in TensorFlow."
   ]
  },
  {
   "cell_type": "code",
   "execution_count": 1,
   "metadata": {},
   "outputs": [
    {
     "name": "stdout",
     "output_type": "stream",
     "text": [
      "/home/paperspace/tensorflow_speech_recognition\r\n"
     ]
    }
   ],
   "source": [
    "# first make sure we're in the parent dictory of our data/sample folders.\n",
    "!pwd"
   ]
  },
  {
   "cell_type": "markdown",
   "metadata": {},
   "source": [
    "## Import\n",
    "We'll need a couple of additional libraries so let's import them."
   ]
  },
  {
   "cell_type": "code",
   "execution_count": 2,
   "metadata": {},
   "outputs": [],
   "source": [
    "# filter out warnings\n",
    "import warnings\n",
    "warnings.filterwarnings('ignore') "
   ]
  },
  {
   "cell_type": "code",
   "execution_count": 3,
   "metadata": {},
   "outputs": [],
   "source": [
    "import bcolz\n",
    "import glob\n",
    "import librosa\n",
    "import matplotlib.pyplot as plt\n",
    "import numpy as np\n",
    "import os\n",
    "import pickle\n",
    "import random\n",
    "import tensorflow\n",
    "import time\n",
    "\n",
    "# utils\n",
    "from importlib import reload\n",
    "import utils; reload(utils)\n",
    "\n",
    "# keras as tensorflow backend\n",
    "from tensorflow.python.keras.models import Sequential\n",
    "from tensorflow.python.keras.layers import Dense, BatchNormalization, Dropout, Convolution1D, Conv1D, Conv2D, Input\n",
    "from tensorflow.python.keras.layers import MaxPooling1D, MaxPooling2D, Flatten, SimpleRNN, GRU, ConvLSTM2D\n",
    "from tensorflow.python.keras.layers import LSTM, Activation, GlobalMaxPool1D\n",
    "from tensorflow.python.keras.optimizers import Adam\n",
    "from tensorflow.python.keras.models import Model, load_model\n",
    "\n",
    "# F1 and accuracy score metric\n",
    "from sklearn.metrics import f1_score, accuracy_score\n",
    "from sklearn.ensemble import RandomForestClassifier"
   ]
  },
  {
   "cell_type": "markdown",
   "metadata": {},
   "source": [
    "## Prepare data\n",
    "First we have to prepare our full dataset: \n",
    "\n",
    "1. Deal with mislabelled data\n",
    "2. Balance the number of examples per category\n",
    "3. Preprocess and persist"
   ]
  },
  {
   "cell_type": "code",
   "execution_count": 4,
   "metadata": {},
   "outputs": [],
   "source": [
    "path_to_main = \"data/main\""
   ]
  },
  {
   "cell_type": "markdown",
   "metadata": {},
   "source": [
    "### Mislabelled examples\n",
    "Kaggle is great in that its challenges resembles real life problems. In my experience the work of a data scientist & machine learning engineer often has more to do with cleaning your data and making sure that the pipeline for getting more clean data is reliable. \n",
    "\n",
    "Below is a list of all the 39 mislabelled examples from our cross-validation set."
   ]
  },
  {
   "cell_type": "code",
   "execution_count": 5,
   "metadata": {},
   "outputs": [],
   "source": [
    "mislabelled_cv_paths = [\"cv/down/bdee441c_nohash_3.wav\",\n",
    "                        \"cv/go/1bc45db9_nohash_0.wav\",\n",
    "                        \"cv/go/1bc45db9_nohash_1.wav\",\n",
    "                        \"cv/go/7fd25f7c_nohash_4.wav\",\n",
    "                        \"cv/go/a6d586b7_nohash_2.wav\",\n",
    "                        \"cv/go/d9462202_nohash_2.wav\",\n",
    "                        \"cv/go/dbb40d24_nohash_0.wav\",\n",
    "                        \"cv/go/dbb40d24_nohash_1.wav\",\n",
    "                        \"cv/go/dbb40d24_nohash_2.wav\",\n",
    "                        \"cv/go/dbb40d24_nohash_3.wav\",\n",
    "                        \"cv/go/dbb40d24_nohash_4.wav\",\n",
    "                        \"cv/go/dbb40d24_nohash_5.wav\",\n",
    "                        \"cv/left/c842b5e4_nohash_0.wav\",\n",
    "                        \"cv/left/dbb40d24_nohash_1.wav\",\n",
    "                        \"cv/left/dbb40d24_nohash_2.wav\",\n",
    "                        \"cv/left/dbb40d24_nohash_3.wav\",\n",
    "                        \"cv/left/dbb40d24_nohash_4.wav\",\n",
    "                        \"cv/left/dbb40d24_nohash_5.wav\",\n",
    "                        \"cv/no/7c1d8533_nohash_3.wav\",\n",
    "                        \"cv/no/dbb40d24_nohash_4.wav\",\n",
    "                        \"cv/off/5fadb538_nohash_0.wav\",\n",
    "                        \"cv/off/5fadb538_nohash_1.wav\",\n",
    "                        \"cv/off/5fadb538_nohash_2.wav\",\n",
    "                        \"cv/off/5fadb538_nohash_3.wav\",\n",
    "                        \"cv/off/5fadb538_nohash_4.wav\",\n",
    "                        \"cv/on/7c1d8533_nohash_2.wav\",\n",
    "                        \"cv/on/7c1d8533_nohash_3.wav\",\n",
    "                        \"cv/on/7fd25f7c_nohash_3.wav\",\n",
    "                        \"cv/on/099d52ad_nohash_3.wav\",\n",
    "                        \"cv/on/794cdfc5_nohash_0.wav\",\n",
    "                        \"cv/on/a6d586b7_nohash_4.wav\",\n",
    "                        \"cv/on/d197e3ae_nohash_2.wav\",\n",
    "                        \"cv/right/9d32f10a_nohash_0.wav\",\n",
    "                        \"cv/right/264f471d_nohash_4.wav\",\n",
    "                        \"cv/right/439c84f4_nohash_0.wav\",\n",
    "                        \"cv/right/a6d586b7_nohash_1.wav\",\n",
    "                        \"cv/stop/7fd25f7c_nohash_1.wav\",\n",
    "                        \"cv/stop/264f471d_nohash_1.wav\",\n",
    "                        \"cv/stop/d9462202_nohash_0.wav\"]"
   ]
  },
  {
   "cell_type": "markdown",
   "metadata": {},
   "source": [
    "I wanted to find all mislabelled examples in one of our subsets to be able to gauge the scale of the problem. Let's see how many examples we have in our CV set in general."
   ]
  },
  {
   "cell_type": "code",
   "execution_count": 5,
   "metadata": {},
   "outputs": [],
   "source": [
    "# we'll need a list of all category folder names\n",
    "categories_to_predict = [\"yes\", \"no\", \"up\", \"down\", \"left\", \"right\", \"on\", \"off\", \"stop\", \"go\", \"silence\", \"unknown\"]"
   ]
  },
  {
   "cell_type": "code",
   "execution_count": 7,
   "metadata": {},
   "outputs": [],
   "source": [
    "# grab all .wav paths for CV\n",
    "path_to_cv = os.path.join(path_to_main, \"cv\")\n",
    "cv_wavs = []\n",
    "\n",
    "for category in categories_to_predict:\n",
    "    path_to_category = os.path.join(path_to_cv, category)\n",
    "    category_files = utils.grab_wavs(path_to_category)\n",
    "    cv_wavs.extend(category_files)"
   ]
  },
  {
   "cell_type": "code",
   "execution_count": 8,
   "metadata": {},
   "outputs": [
    {
     "name": "stdout",
     "output_type": "stream",
     "text": [
      "0.57% of all CV examples are mislabelled\n"
     ]
    }
   ],
   "source": [
    "# scale of the problem\n",
    "print(\"{:.2f}% of all CV examples are mislabelled\".format(39 *100/len(cv_wavs)))"
   ]
  },
  {
   "cell_type": "markdown",
   "metadata": {},
   "source": [
    "Good, only less than 1% of our samples are mislabelled. That's important to remember if we were trying to estimate perfect human performance on the dataset that we were provided, but not a deal breaker for now.\n",
    "\n",
    "Let's listen to some of the mislabelled examples."
   ]
  },
  {
   "cell_type": "code",
   "execution_count": 9,
   "metadata": {},
   "outputs": [
    {
     "data": {
      "text/html": [
       "\n",
       "                <audio controls=\"controls\" >\n",
       "                    <source src=\"data:audio/wav;base64,UklGRiR9AABXQVZFZm10IBAAAAABAAEAgD4AAAB9AAACABAAZGF0YQB9AAAAAAAAAAAAAAAAAAAAAAAAAAAAAAAAAAAAAAAAAAAAAAAAAAAAAAAAAAAAAAAAAAAAAAAAAAAAAAAAAAAAAAAAAAAAAAAAAAAAAAAAAAAAAAAAAAAAAAAAAAAAAAAAAAAAAAAAAAAAAAAAAAAAAAAAAAAAAAAAAAAAAAAAAAAAAAAAAAAAAAAAAAAAAAAAAAAAAAAAAAAAAAAAAAAAAAAAAAAAAAAAAAAAAAAAAAAAAAAAAAAAAAAAAAAAAAAAAAAAAAAAAAAAAAAAAAAAAAAAAAAAAAAAAAAAAAAAAAAAAAAAAAAAAAAAAAAAAAAAAAAAAAAAAAAAAAAAAAAAAAAAAAAAAAAAAAAAAAAAAAAAAAAAAAAAAAAAAAAAAAAAAAAAAAAAAAAAAAAAAAAAAAAAAAAAAAAAAAAAAAAAAAAAAAAAAAAAAAAAAAAAAAAAAAAAAAAAAAAAAAAAAAAAAAAAAAAAAAAAAAAAAAAAAAAAAAAAAAAAAAAAAAAAAAAAAAAAAAAAAAAAAAAAAAAAAAAAAAAAAAAAAAAAAAAAAAAAAAAAAAAAAAAAAAAAAAAAAAAAAAAAAAAAAAAAAAAAAAAAAAAAAAAAAAAAAAAAAAAAAAAAAAAAAAAAAAAAAAAAAAAAAAAAAAAAAAAAAAAAAAAAAAAAAAAAAAAAAAAAAAAAAAAAAAAAAAAAAAAAAAAAAAAAAAAAAAAAAAAAAAAAAAAAAAAAAAAAAAAAAAAAAAAAAAAAAAAAAAAAAAAAAAAAAAAAAAAAAAAAAAAAAAAAAAAAAAAAAAAAAAAAAAAAAAAAAAAAAAAAAAAAAAAAAAAAAAAAAAAAAAAAAAAAAAAAAAAAAAAAAAAAAAAAAAAAAAAAAAAAAAAAAAAAAAAAAAAAAAAAAAAAAAAAAAAAAAAAAAAAAAAAAAAAAAAAAAAAAAAAAAAAAAAAAAAAAAAAAAAAAAAAAAAAAAAAAAAAAAAAAAAAAAAAAAAAAAAAAAAAAAAAAAAAAAAAAAAAAAAAAAAAAAAAAAAAAAAAAAAAAAAAAAAAAAAAAAAAAAAAAAAAAAAAAAAAAAAAAAAAAAAAAAAAAAAAAAAAAAAAAAAAAAAAAAAAAAAAAAAAAAAAAAAAAAAAAAAAAAAAAAAAAAAAAAAAAAAAAAAAAAAAAAAAAAAAAAAAAAAAAAAAAAAAAAAAAAAAAAAAAAAAAAAAAAAAAAAAAAAAAAAAAAAAAAAAAAAAAAAAAAAAAAAAAAAAAAAAAAAAAAAAAAAAAAAAAAAAAAAAAAAAAAAAAAAAAAAAAAAAAAAAAAAAAAAAAAAAAAAAAAAAAAAAAAAAAAAAAAAAAAAAAAAAAAAAAAAAAAAAAAAAAAAAAAAAAAAAAAAAAAAAAAAAAAAAAAAAAAAAAAAAAAAAAAAAAAAAAAAAAAAAAAAAAAAAAAAAAAAAAAAAAAAAAAAAAAAAAAAAAAAAAAAAAAAAAAAAAAAAAAAAAAAAAAAAAAAAAAAAAAAAAAAAAAAAAAAAAAAAAAAAAAAAAAAAAAAAAAAAAAAAAAAAAAAAAAAAAAAAAAAAAAAAAAAAAAAAAAAAAAAAAAAAAAAAAAAAAAAAAAAAAAAAAAAAAAAAAAAAAAAAAAAAAAAAAAAAAAAAAAAAAAAAAAAAAAAAAAAAAAAAAAAAAAAAAAAAAAAAAAAAAAAAAAAAAAAAAAAAAAAAAAAAAAAAAAAAAAAAAAAAAAAAAAAAAAAAAAAAAAAAAAAAAAAAAAAAAAAAAAAAAAAAAAAAAAAAAAAAAAAAAAAAAAAAAAAAAAAAAAAAAAAAAAAAAAAAAAAAAAAAAAAAAAAAAAAAAAAAAAAAAAAAAAAAAAAAAAAAAAAAAAAAAAAAAAAAAAAAAAAAAAAAAAAAAAAAAAAAAAAAAAAAAAAAAAAAAAAAAAAAAAAAAAAAAAAAAAAAAAAAAAAAAAAAAAAAAAAAAAAAAAAAAAAAAAAAAAAAAAAAAAAAAAAAAAAAAAAAAAAAAAAAAAAAAAAAAAAAAAAAAAAAAAAAAAAAAAAAAAAAAAAAAAAAAAAAAAAAAAAAAAAAAAAAAAAAAAAAAAAAAAAAAAAAAAAAAAAAAAAAAAAAAAAAAAAAAAAAAAAAAAAAAAAAAAAAAAAAAAAAAAAAAAAAAAAAAAAAAAAAAAAAAAAAAAAAAAAAAAAAAAAAAAAAAAAAAAAAAAAAAAAAAAAAAAAAAAAAAAAAAAAAAAAAAAAAAAAAAAAAAAAAAAAAAAAAAAAAAAAAAAAAAAAAAAAAAAAAAAAAAAAAAAAAAAAAAAAAAAAAAAAAAAAAAAAAAAAAAAAAAAAAAAAAAAAAAAAAAAAAAAAAAAAAAAAAAAAAAAAAAAAAAAAAAAAAAAAAAAAAAAAAAAAAAAAAAAAAAAAAAAAAAAAAAAAAAAAAAAAAAAAAAAAAAAAAAAAAAAAAAAAAAAAAAAAAAAAAAAAAAAAAAAAAAAAAAAAAAAAAAAAAAAAAAAAAAAAAAAAAAAAAAAAAAAAAAAAAAAAAAAAAAAAAAAAAAAAAAAAAAAAAAAAAAAAAAAAAAAAAAAAAAAAAAAIAAgAAAAAAAAAAAAAAAAACAAIAAgACAAIAAgACAAIAAgACAAIAAgACAAIAAgACAAIAAgACAAIAAgACAAIAAgAEAAIABAACAAAAAgACAP7//P/+//z//P8AAP7//P/8//7//P/6//r/+P/4//j/+P/4//j/+P/4//b/9P/0//T/9P/0//L/8v/y//L/9P/0//T/8v/y//L/9P/2//b/+P/4//b/9v/2//b/9v/2//b/+v/6//r/+v/8//7//v8AAP7//v8AAAAAAAACAAQABgAEAAYABAAGAAoACAAKAAoACgAKAAwACgAMAAwADAAKAA4AEAAQABAADgAMAAwADAAMAAwADAAMAAwADAAOAAwADAAKAAwACAAIAAgACAAIAAQAAgAEAAQABAAEAAIAAAD+//7//P/4//r/+P/2//b/9v/2//b/9P/0//T/9P/0//T/9P/0//L/7v/s/+z/7P/s/+r/7v/w//D/7v/s/+z/7P/s/+z/7P/s/+7/8v/w//D/8P/w//D/8v/2//T/+P/6//b/+v/6//r//P/+//7/AAACAAQABAACAAYABgAIAAoACgAMAAwAEAAQABIAFgASABIAEAAQABAAEAASABAAEgAUABQAFAAUABQAFgAUABIAFAASABAAEgAOAA4ADAAMAAoACgAKAAoACgAKAAoACgAMAAgACAAEAAIAAgAAAP7//P/8//z//P/8//r/+P/4//r//v/8//7/+v/4//r/+P/4//r/9v/2//r/+P/6//j/+v/2//b/9P/2//b/9P/4//b/9v/2//T/9v/2//T/8v/0//b/9P/0//j/+P/6//r/+v/6//j/9P/2//b/9P/0//j/+v/4//z/+P/6//z//v8CAAIAAgACAAQAAgAAAAAAAAAAAAAAAAAEAAYABgAGAAYABgAGAAYABgAEAAgACgAKAAoADAAIAAYACAAIAAQAAgACAAYABgAGAAYABgAGAAYABgAGAAYABgAEAAIAAAACAAAAAAAAAAIAAAAAAAAAAAAAAAAAAgAAAAAAAAAAAAAAAAAAAAIAAAACAP7//P/+//7//v/8//7//v/8//7//v/+//r/+P/6//r/+P/4//j//P/+//7//P/4//b/9v/y//T/9P/2//r/+v/2//T/+P/4//j//P/+//7//v/8//7/AAAAAAAAAAAAAAAAAAAAAAAAAAAAAAAABgAGAAgABAACAAIAAgACAAAAAAAAAAAAAAAAAP7//P8AAAIAAgACAAIABgAEAAIABAACAAIAAgACAAYABAAGAAQABAAIAAYABgAGAAYABgAGAAYABgAIAAQABAAGAAQAAgACAAIABAAGAAYABgAGAAgABAACAAIAAgAEAAAAAAAAAP7//v/8//j/+v/4//r/+P/4//j/+P/4//z//P/4//j/9v/4//r/+P/4//r/+v/6//j//P/6//r/+v/4//r//v/8//z//v/4//z//v/8//7/+v/8//7//P/8//z//v/8//7/+v/6//r//P/8//z/AAAAAAAAAAAAAAAAAAACAAAAAgAEAAIAAgACAAAAAAACAAIABAAGAAgACgAKAAwADAAKAAoACgAKAAgACAAIAAQABAACAAIAAgAAAAIABgAGAAYABAACAAIABgAGAAQABAACAAAAAAAAAAIAAAAAAAIAAgACAP7//P/8//z//P/8//z//P/8//z/+v/4//r/+P/4//j/+v/+/wAAAAAAAAIAAAAAAP7//P8AAP7//P/+//z//P/+//7//P/+//7//P/+/wAA+v/4//z//v/6//r/+v/2//j/+P/4//r/+v/4//j/+P/8//z//v/8/wAAAAAAAAAAAAACAAIAAgAAAPz/AAACAAAABgAIAAQAAgAEAAQAAgACAAQAAgAEAAIAAgAEAAQAAgACAAYACAAEAAIABgAGAAQABAACAAIAAgACAP7//P/+//z/AAACAAAAAAAAAAIAAAACAAQAAgAAAAIAAgACAAAA+v/8//7/AAACAAAAAgACAAAABAACAAQABAAAAAIAAgAAAAIAAgACAAIABAAGAAQAAgAAAAAAAAACAAIAAAACAAIAAAAAAAIAAAD8//z//P8AAAAAAgAAAP7/+v/6//r/+v/8//7/BAD+//z//v/+//z//P/8//7/AgAAAAAAAgD+//z//P/8/wAAAgACAAIA/v/8//z/AAACAAIAAgD+//z//v/8/wAAAgAAAP7//v/+//7//v/8//z/+v8AAAAAAgAAAP7/AAAAAP7//v8AAP7/AAACAAIAAAD+/wIA/v8AAAIAAgACAAIABAACAAIAAgAEAAIAAgAEAAQABAACAAIABAAAAAIAAgACAAQAAgAAAPz//v/+/wAAAAD+//z//P8AAAAAAAAAAAAAAAAAAAIAAgACAAIAAAD+//z//P8AAAAAAAACAAIABAAGAAYABAACAAIAAAAAAAIABAAEAAIAAAACAAIAAgAAAAAAAgAAAAIABAACAAAAAAACAAAAAAACAAAAAgD+//7//P8AAAIA/v/+//7/+v/4//z//P/8//z//P/+//7//P/+//7//v/8//z//v/6//r/+P/4//j/+P/6//z//P8AAPz//v8CAAAAAAAAAAAAAAACAAQAAgAAAAAAAAAAAAAAAAAAAAAAAgACAAAAAAACAAAAAAACAAAAAgACAAQABgAGAAQAAgACAAIAAAAAAAIAAgACAAQABAACAAIAAAAAAAAAAAAAAAAAAgAEAAIAAgD+//z//v/8//7//P/+//7//P/8//z//P/8//z/AAAAAAIAAgACAAAA/P/8//7/+v/6//7//P/8//z//P8AAAIAAgACAAIABgAIAAgACAAGAAYACgAIAAYACAAIAAQABAAEAAQABgAEAAIAAgACAAIAAgACAAAAAAD+//7//v/6//r/+v/4//j/+P/4//j/9P/0//T/8P/0//T/9P/0//T/9P/0//T/9v/2//j//P/6//r/+v/4//r/+P/6//z/AAAAAAIAAgACAAQAAgAAAAIABAAEAAQABAAEAAQAAgACAAYACAAGAAoADAAKAAwADAAMAAgABgAIAAQAAgAGAAYABgAGAAYABgAGAAYABgAEAAQABAACAAQAAgACAAIAAgACAAIAAgACAAAAAAAAAAIAAgACAAQAAgAAAAIA/v/+//r/+v/6//r/+P/6//b/9P/2//L/9P/y//T/8v/0//T/9P/0//D/8P/0//T/9P/y//L/9P/0//L/8v/y//L/9P/2//T/+P/8//z/AAD+//7//v8AAAIAAgAEAAoACgAKABAAEAASAA4AEAASABIAFAAWABoAGgAYABoAGgAWABYAFAAUABQAFAAUABQAEAAOAAwACAAIAAYABAACAAAAAgD+/wAA/v/+//7//P8AAAAAAgAGAAgADAAOAAwABgAIAAQA+P/0/+j/4P/W/8r/wv+4/67/qv+m/6L/oP+g/57/ov+o/6j/rP+w/7b/vP/E/8j/zP/U/9b/3P/g/+L/4v/k/+r/7P/u//D/9v/6/wAABAAGAA4AEAAUABoAHAAeACQAKAAqADIANgA2AEQASABMAFoAXABiAGwAcAByAHIAbABkAGAAWgBSAFIATABEAEIAOAAsAB4AEgAGAPz/8P/g/9T/yP+6/6z/nv+S/4r/gP92/27/aP9g/2D/Xv9g/2b/aP9w/3r/gv+G/5D/mv+g/6z/uP++/8z/0v/c/+z/9v8CAA4AHgAsAD4ATgBYAGIAaABuAHQAcgBuAGoAagBkAF4AVABGADgALAAkAB4AFAAIAAAA/P/4//L/7P/o/+b/6P/q/+r/6v/o/+j/6P/q/+r/7v/0/wAADgAcACoAOABGAFYAZgBwAHoAggCMAJgAogCqAK4ArgCuAK4ArACoAKYApgCoAKoArACqAKQAmgCQAIAAaABQADgAIAAEAOr/zv+y/5b/gP9w/17/Tv8+/zT/Lv8m/yL/IP8c/xb/Fv8Q/wz/CP8C/wL/CP8O/xj/Iv8u/zb/Qv9O/1r/YP9k/2z/cv94/3z/gP96/3L/bv9s/2j/Zv9q/3L/gP+M/47/lP+Y/5r/mv+e/6b/qv+s/6b/qP+u/7b/xv/c/wIAMABcAI4AugDkAAoBPgF2AaIB0AH6ARoCQAJcAnoClAKoArwCygLcAu4C9gICAwID+gLmAsoCpgJmAhoCygF4ARoBsgBUAPj/mP8y/9b+gP4e/rz9ZP0Y/cr8fvxA/Ab81Pum+4T7aPtU+1L7Xvt4+6T74vsm/HD8wvwU/Wr9vv0G/kz+jv7W/iL/bP/A/w4AXACuAPYANgFmAY4BrgHMAeAB5AHcAcIBogF8AUIBEgHmAMAApAB2AEoAHgDw/8b/mP9o/yr/6P6s/n7+ZP5M/jz+VP6I/uz+YP/I/yoAhgDcADYBfgG4Ae4BGgJMAoACrgLQAvoCLgN2A8gDBgQ6BGIEfgSWBJ4ElgRuBDAE2gN6AxADkgICAmoB6AB0ABYAwP9q/xD/xP6I/k7+Ev7W/Zj9Uv0I/bD8WPwc/Or7zPvM++D7+Psi/GL8sPwQ/Xr96v1C/nT+ov7M/vT+Iv9M/3r/qP/Q//r/KABIAFoAZgBoAHQAjgCiAKwArACiAJgAeAA0AMj/WP8A/77+iv5I/gj+vv1w/Sz92vyE/D78GvwM/AT8BvwG/Cb8cPz2/Mb9yv7o/+QAmgEWAngCxgIaA3wD5gNYBL4EEAVEBWAFogUUBpwGHgeAB7oH7gcMCAII0AdsB+AGTAayBfwEOARyA6YC1gEwAaQABgBg/8D+PP7O/Yb9SP0G/Z78Gvyk+zL71Pp4+ib6DPoY+i76OvpW+pr6BPuY+0b8/Pyi/TL+xv5y/xAAegC2ALgAjgA6AMz/dP8y/xb/Gv8m/1L/kv+o/5r/nv/G//b//P+s/yj/mP4Q/qb9MP2S/OL7Gvts+gT6pPlm+Ub5Svlo+XT5ePnO+cL6dvz+/gQCzgR0BsIGggaGBtwG6gbEBh4HLAhICZ4JTgkuCbwJnAo+C3QLRgvoCnwKOAoOCn4JXAjwBnwFFASwAkoBIABa/+D+gP4I/mr9kPxe+xz6XPlA+VD5Cvlm+PD34Pfc96j3jPfI90L4zviQ+cb6SPya/aj+6P9AAUICogLAAhwDaANqAyQDyAJMAmIBPgCK/4T/kv9s/w7/7v5a/7L/nv9w/4r/xP+Y/9T+xv3W/Pb7FvtC+pT5xPh292L25PXa9eD1tvWY9YD1bPVk9er1Yve4+eD8DgEqBnwKSgzMC8gKjgqGCuwJVgnwCYoLwgwSDQYNLg2GDbgNug3CDXoNdgwSC+wJ/gh0BwoFpALKACL/Iv0c+7T5IvnE+FD4ZvjS+Or4Zvj494r4oPny+Sr5gvgA+RL6nPrU+r77QP2O/nL/hAAMAmID8AOYBCAG0gegCNIHRgZEBa4EqAP2ATgA5v7y/TD9qPxu/Pz7SPtM+1T8dP2w/VD9OP2s/fj9gP0O/AD6Uvhq98z21vXo9GT0BPRY85TyMPKk8d7wMPFU83r2wPk6/cwB2geQDlQU5hd2GX0arxvhG/kZ2BYYFAISnA+oDCIKOgheBnQEDgNoAqoB/v/m/Uz8IPtG+VD2gvMG8sTxrvGo8djy1vWy+VL9LAB2AigEnAQuBGADFgIWAKj9wvsA+4T61vnU+bz69vs2/WL+rv/WADQBWgHqAaAC7gKQAjgCCgPMBDYGuAbaBvAGkAYIBWQCev/o/PL6fvl8+Fb45vhi+Xb5YPkI+az3WPUC80Dxtu/W7WjsVOwu7bDufvA88sbzrPXM+Mb8yAC0BMAJahD0F/8fYyf5LEMwUTH1MNctZSYZHOQRTAlsAdj4NvFK7Qjtau7y7xbynvSU9ub3FPmK+UL47PUQ9FT0xvYm+o793ACGBZ4L0hBsE3QTvBHUDagHfgAg+VLxhOnB42HhO+Lt5OLnnOtq8cz4QP8GA2QFXgjOC4IOlhBCErITfBTwE7AS1hBeDfoHYgEQ+/T1cvFQ7Trqauks68jtTPCW8xj3Yvn6+W75TPlk+Tr4+vY29yr4AvmY+fL6IP3S/T78Hvqy+Ij4APiw9gj4vP6qCT4VByFDLcg3dj62QOI+jDi9LDkdKg5YAaT1MOo54U3eieHM5nLqcu2w8eT1nPeC9rL03PLA8ELwYPMU+vABngiwD24Y5R9vItEeZBdyDv4D6Pc861vgJ9kN1o/WCdsL47DruvOw+84CNgiKC34NVg86EewS6hTaF+0axRuwGD4TAg00Bqr9RPLm5hffDds/2pPcg+G+6BLxtvkOAowHcgjgBQ4CMP8m/R76pPeS9/r5mv5cAn4DOAPgACT8qPVs7sboS+Uz5ZzrDPmIDMkiyDbaRv1RH1h3WH1Plj3rJj4Q9PwW7MncSdLvzrHSodob4j7ofO3G8ADysvAq7ljs+Oqw7FL0ggDiDbkZ4SOVLNMwCS+5Jz0ajghS9f/jZdc/0LPO1dDt1j/iKvB4+xADIAmQDJ4LYAi+BkoI2AqMDGYQaBgdIhMoMyZrHsYU/glg+8zpGdofz+TJXMoP0e3cNula9Or+SAdcDAoM/AUm/6D5hvbW9gj4RPqi/sQC/gO8Aor+Kvc07kvk3dsF2H/aP+UQ94YOiSyeSl1hQG3EbrxqLV6sRYElJgaA7uPc080mxBLFj8/F2+3jpumE7wDzAvEW6/jmJ+Yu5z7s9vcsCtUcvymlMSw4MjppMeceTAj28n/gS9BcxdrDNsod1WviyPFAAQwL+g30DEgKCAV8/cD4yPp8ApYLphRtH48rjDNxMUcmnhcyCL72keM701LJoMW8x6fPc9xY6lL1vv36BJoK0gvWB6QCNAFYBEgIlgpiC54MTgwEBlj6mOxX33nS2sWUvlTEodRi63YGSyfBTw5x/38mfpp0ZGjRUKcqlgGA5sPYAc14wmzBt87j3zTptuus7/D0AvOu6jHlhOjG72D0FP3aDsMiUy8LMX0ugyr1HlwKbPLR4JPVpsxEye/O+d387az5sAPyDBQS2A0yA4j64PWU8Rbv6vPIAdYS4R5TJ0MvPjX4M68m+hJuAEjwe9/BzwrGqsMoxujLWdbF48zxfPwyAwAKsBE+FwYYNBY0FZoW5hZcE+oMDARI+RTsd91J0NbGxsF8wGDGQdfG8BIONSx2TKhrjn6qf8Bzr2MnT0kwPgqc6jfat9JOyu7CZsgT2izpMO3O69ru7PQe9jTz+vPK+dL+ogKKChwXwx/JHJQSBAsCBxr+wu7h4C/aOdqP3LHiJO54+SgBwATmB8wKsAf0/uj1yvB872Dw3PawBNATZx4XJU0s1jN4NIEpyBd8BvL2Auc91irImMDkvoDCeszb28jtiP6uC9QWjyFHKPMn0SGjGhwW6BECCg7/qvTc6uPgvdYDzubJkMiYyg3TV+S4/Z8ZmjgpV0hvWniYcHlkx1VOPr8bNviV4yfcSdTiyDzGudT46Fbxuu9C8uj6jv+++sj1VPlG/v77APjG/BAJ4A0WBXr7CPuq/nz7cPGW63btXvE48+b1bvwsAa7/APwk/Dj+gvtw9MzutO5A8jr3CAAKDRsa6yFJJs8sIDTQM5knWBY6B7b4Leb50brBurjCtdS2bMCT1F7tugJ+Ei8hxS6YNcEy8SgXHtwUogpM/cLv7+RV3H/U580UzPnOKdRV28bmBPoyFCMzq1EqaJpxPG3/YtFWskJdIhD+E+Zf3cvYNdCayknU9ugq96r4cvfw/AgEtAFg+pz5tv6y/yj5ovQs+gYBkPzy8DjrnO8e9XrzXPC48776TP/aAKACpgS4AYb6nPTU8QDvROqa5hznmutc8mL+YA/NHrknKyttMEo3ijerLOEaBApm+xrrr9cYx9C93Lqcux7Bb9Ba5yj+rg6AGeMjKS2/LykpgR1CEkAIiP0W8xTqOeEf2OPQ488R1TnbP+E268r9eBlKOadW/Gqeb3ZmSVjUR1cyJhQC9IngYdwP3e3ZBdkN5fT4jAP2/8j63P3AA3wBCPoM+QD+YP5u9pTvTPJ69crtr+Ep35bovvK49dr3hACoCroNWgmSBBoDsv2O8U/lqd8Z4VHiseDd4UjqFPlWCjsaCScTMLY16jrQPSQ6gy4JHS4KhvYb4jXQmMMIvYS6DLw8xpHZBvG8Bc4SjRppH6cgWx7GGHoRugkQAe75dPWG7+zns9/N2SXZEduh4ErrePoiEF0sLkzHZaRroV1mSho6SygUDcDvAePi5wrvSu6W7eL5IAxKESAGBvry+JD84vdW7/DugvW49sDtXeZ+6KzrAeXH2oncuuwY/hAGOApMEdwXWhYyDFYB3vf66yncU862yk3RcdpZ4ZLoOPToBHYWuyMJK8UtsTCCNQQ4djTzKSMbhgqK983kYdbPzj3N783l0RXcEusm+g4DYATKAWb+9vzC/cT/ygP0B/oJfgqSCEADZPmq66ngZdy533LpsvXMBxUkQkY/YatlCVTCPPUq1RuKBnDuweV48zAJtBT+EhgSDBhAGBoIsu5V3ifeVeIF41jnFPWUBMAIhAG6+ub3WPHp4i3W+9dj5qT0CPxOAAIFjgbwAHD2fux15J3dH9p33qTqCPhYAJgDJgXwBbAEMgLSADQClgYuDmkaDyk4NOA10yvtGuAJ3PqW7XvhJdlP2KXe9ufQ7sDwLu8u7DLqBOww8Vb37v16BhYRLBnOGJIPWAGC8sPlOd3Z3FPmPPYeCy8oCkzqZmNkJEfPKK0ZzA7E+FPiHeb4BTkkjSrVI6EnYzFFJbr9hdfRzGvWzdzT3a7ojv2yC3gJegDK/Iz4iOmT1k/Qw9ya8Lj9CgP8BQoH4AJE+Izs++RX3y/aS9t452j5WAQaA879rPsy/LD8Ovy2/Lz/4gbuEx0kITCTMusqox0oEKQELPzS9pbyDO+47qTyOPbo8mToA96F2UHaAd0F4sztsAByE1ceFyEnH8gYLAtM90Xlkd2V4gzvcP92F943m1LBUk44yRsYECwM9v4A8F74qxyEPyxGXDkhM+A0oyWE+13PiL7IyJfYTeTK9FgM7RumFtQFcvuG9/rqYdTOx8nV5PQcDD4QygneAuT6Gu1F3DPPasjOx0vOndzE7+oB3g2YDxYGGPjG8HT1/P4EBEQGvA9LIocxvTG1JHwUIgbC+BzueOt48V75lPxo+3T5bvYg7sHfe9IhzwXYmOhG+/QNix75KGkqiyI6FJICMPCj4Snc8+GK8XgKwSokSK9Pxjr5G0QK/gae/9DwOvHaEPo7HU/wQvExSy+PK7AQjOY6zOnP79+e6Jbuzv7GEpAV9AFq66/jd+Xt4lXcO99m88AN8RyfGrQMPPzu7dXipdtn18XVLdlJ4uzreu/47MTpkOcp5DHi+um6/jIXzSYhLJEuiTA5LPUdFgum+kzvSOqs7Zj3tP/8/tr2DO5+5m/cX89kx8/MO9568l4D4hITIlEsISozHDIMdAEy+kDxoOre7ez61glsFz0o+Dg4OV8gdv8q8qD7BgT+/nb+yhiyQE1Rwj0RIykgNSrvHx77b96N5L78GgR084XkfugY8v7r+dhXz+vaHvGeAJIF8gjsEKwYRBYYB4z0duki6Azrzuye7B7rtOYH3bXROMyBz6nU99Ux26Dv8hAHLLAzyy5tK3MrCSSWEpQCRP96BAIHqAPw/yr/WPto74Pd0czuwkjB7Mex1drmSPd0BOQPKxu9Ii0hSBaoCnwFggbWCJ4KSA0IEX4Wmx4LKHkpFxumA6T1DPmG/+z7+veUCUctAEOWNF4UmgqfH4IzVSf+Bt74vAjhHHIX4Prz4KvYOdlb0ujFRMQ/1x726AzqESwLfAZ8CTgLjAPs9ULvMPQe/kAFYgVo/kTuxdcqw665mLxiwrTGZdBQ6ZYKnSFjJr8i/ST5Kl0qrx8yFGgSnBaIFl4MxP2m8sjrHeVt263QDsoszHXWieM+7RLyaPZO/zAM2hXYFT4POgsCD0oWORqGGeQWTBcTHbEnxy0NJXoQhP+C/5wGtgPc9rj2cBElMYo0GBdY/FoDcSFrMRcikAviCwshaSsoFTLsuc9/z83b3dvRzCjFtdkY/5IX3hPIAsT7UAG8BMj7tPGy9coG2BV2FnoLMvvA6UHYQMn4wVrC3sd5zyPbsu2sAkQSxBdAF8YWrBj3Gk8arhZcFDQXWRogFY4FzPMM6hToVeVx25HPZ84r27bruPIY7xDsUvNMAigMyAkUAUD//AimFoEe3x5tHwEn9TJUNlUoahCuATwG6hEWEsYFcgH2EusqmyyiEeT0qvPIC7sgpx2wDYQL+xzvK1UeMPcf1OPMwduf5cHcMdCJ2CD3ZBLsEqj+1u+o9TIEOgb6+TDx5vtKEzMhjhcU/Y3lo9wp3c3Zh8/Yya/TaOjc9tz1iuy66bbzBAOMDK4NEg/+FhsiGSdxIbQUOgdW/pD5OPS2643jD+Eb5Z7s0vMo+Cj5uvgG+oz8Dv3q+c72SPmQAWALihC+EGgRbBhdJJUqMyMoEWYCmADMBwQNkAz8D80e9zGcN0korBC2BEYLZhYiFwQPRAwCFdcdMBbw++fg89dB4c7qlObd2n/Yr+VY9tj5tO2L4EPinPEs/9j/bPkw/EgObSKjJPIQxPiQ7gDyyvPw6kXfU9/27c799P828+vkT+Kg6272lPnU9jL4agNgEXAVZAze/6j6qP2WAOL8pvRu70TyuPqQAsIFhgVCBsQKqA88DlIF3vse+vwALglwCnQD/Pqs+e7/bgUkA/b6cPYu+8gDvgW+/uD5fgEeE8khyyRdIYMhHSnpMGUvPSRCGWoXjxx/HvIUfAMY9rT0wPrm+17zzOgk59DuZvV08cvkv9st3r7nlO2+63Lpzu7E+l4DBAIG+hL0NvQw9vr0KPDK67jsPPPc+gb+2vsw+aL67v8MBIoDAgAI/7gD9AlGDBIJoAM+ANr/TgBa/ir6rvcU+gQAagQOBNgAiP+8AoAHvgiyBfYBfgEkBCQGsAP2+zjzgu8E8ij2Zvfu9Xb2zvoS/zj+APlk9sr7ZgdyESYWJBnVH3UpEy/HLN8lHyH1IHEi5yDRGhgToA1ODHAMBgqkAzr8jPjA+bz7fPmG80Lvxu+w8YbwjOxE6vjrVu9s8BjuMuvy6ebpXOli6ADpWuxG8eL1Kvkm+h75qvdI9/D3svi6+YD7NP2m/X79gv0Q/Tz76Pgw+FL5Fvuc/EL+TgA4AjYDZAOsA/4EhAfsCSwLNAvECsYKYgsyC44ISgNm/ar5lvgA+fT5hPuo/hYD5AX+BFYCWAL6BkQNvBEuFEoX5xxtIwcnLSXpH10behksGFwUfg6eCTAIVgkKCiAIXgOs/Sz5RvYG8xbu5uly6SjsJO5K7UzrpOpe6+jqaOev4nXgj+Hj43zmnOrK8N72WPoE+zT6FvlI+MT3qvfm+B78jgCCBIwGqgbyBVIFmgQgA1YBvgBmAlgFogfACBwJQAkYCQwIkgbiBfwGkgncC0AMDgt8CZYHwgSSAJ77GPdu9Nj0xveg+yT/5gHMA34EEgRIAz4DvgS8B5wLBg+mER4U/hWEFmIVrhIGD64LTAmAB34FIAPSAYwCxASSBkwGCgR4AXz/5vxg+d72WveA+Sb6SPjE9YL0kvM28aDtwurI6cDpROqS7DzxkvY++nL7+PoU+gD5cvfY9SD1lPYC+pj9oP+0//L+Fv4Q/fz7NvsS+yr8TP/EA6wHugmcCmQLmAueClAJrgikCNAImAhSB8gErgEg/778nPnu9TrzNvOq9bT4Lvte/Zz/bAE6Ao4CsANGBtYJeg2oEEoTEBW6FXwVpBRSE0wRvA42DBIKdAg2B0YGtgWgBfIFxgW2BKADNgPEAgYBOP5a/ML85v2M/XL7UPkY+H72WvNu74rsDut66h7r4O088oD29vlA/Ob82PsS+hb51Phy+BL4bPjC+UL7zPv4+nr5Tvjw9873evfi96j5rPzI/+4ByAMIBnIIKAqoCrgKKgtyC14KwAfqA6j/SvxA+lD5ZPgy9yz32vj6+vz7ePuI+iD6uvoW/WIBRgZkCiYOKBKSFeYWNBYMFbgUXBXUFYYUwBAcDHoJjAnuCWQIAgZYBYAGogceB0AFfgOMAjQC2AFIAYwAiv8M/gL8avkc9lTy8u5o7Brqruct5gjnZOq47hDytPO69GT2xvgW+3D84vzu/Pj8CP1u/Mr6HPmQ+G750PrC+7T8CP46/8b/YP9U/hD+vP+8AroFRAgKC1gO9BCaEfIPTgz+BwAEbABw/XT73vqm++L8fv0C/XT70vmw+LL3TvfU+ND88AGkBnYKig1YDygPxA0YDdINIA+MD1oOtgzKCywLWAlEBsQD3gIGA4gDeAQyBnwIVArECpgJaAcABbACZABU/n78ivo++Bb2nvQK80LwquzO6dLo+Olc7IjuSvC48pj2vvou/Yb9Bv0e/cb9tv2W/CD7fvqS+6T9LP9u/6b+BP5S/nb+Wv0U/KL8Wv+sAkIFQgfuCNwJGgpuCdYGeAPqAZ4CWAMQAi4Aqv9g//79gvyI+9j6wPp8+yj9Hv/gANwCsgSMBcoF5AXiBYgGhggsC94MtgzkCwQMVAxKC0QINASwAegBHgOsAywE2gXMCIwLggxyCyYJbAa+AzQBAP9K/eL77Pp8+tL5MPgU9kb0xvJe8ZDwnvDO8CLx+vKi9ib6avvy+rD6/voA+xL6fvjE99b4EPuo/LL8Evyc+277HPuC+mj6oPv+/aIAHgNCBXYGOAYsBSwE6gL2AGb/pP9wAVgDhARqBRIGUgUgA3IA4v2m/G79BP90ABICYgQKB3YImAdgBcYD5AMoBV4GIgf+Bx4JFApcCiAJngboA7QBvACsALAASgEUA1YFYgfkCDAJJgicBlQFngRoBEQEyAPMAhYBuv54/IL6ZPhs9pj1CvbQ9tL2ovY299L3tPcG91L2NPbY9sL3iPiG+NT3KPik+Zr6Ovo6+ej4gPmg+RL5uPhQ+Pr46vsc/xIBbgKQAzgEcgPEAeoAmADq/8j/+gD8AvYE0AUwBqgGoAWQA0YCrAEKAmID8AN8A6gD+gSYBgIHDAa0BWAG5Ab+BpgGRgYYBxQIQgfyBLQCNAEuACT/cP5s/sT+vP94AZYCoALcArQDigS4BFIElATgBbAGRgY2BfoDoAIAASL/Ov2M+0j61vmO+ej4JPmm+qb7IPsU+q755vmQ+Zj4IPgy+Nb4sPqu/Ab9BvwG+3j6BvpO+ZD4bPg2+fD6HP3U/pD/tv/u/xgA8v/K/woAvgBMAXgBEAJYA9gDGANOA2wE0gOAAo4CogIMAp4BqAGMAgoDfgJ+AuAC2gJGA4QEWgYSCCQI7gaaBcwDSgLeAe4AgP9W/5wAGAK2AnwCiAIuA5QDogOaA7QDSgQiBZwGPAgsCOQG4gUaBfADKgKiAEAAEgAS/wb+Bv0Q/Kj7EPus+X74XvjG+Nb4RPim90T3FvfG99b4zvhW+B75ZPpC+k75IPlI+Sb5fvmA+iL7Xvt2/H7+zP94/17+rP0+/kj/GP+g/qj/gAEaA4YEfAVgBeIDSgJ4Ak4DPAOEA14EJASYA1QEbAWsBbgFtgZOCAwJAAn+CI4IJAdCBSgEGgT4Aw4DwgGEAPj/gAD6APr/Ov40/hYA5gA0AIoAxgF0AlIDSAQaBDIDBALoAJwA4ABIAU4BogDS/5D/nP/q/nb9zvzm/C78JPvG+or6iPq++gD6tvma+nb6vPmY+VD5CPns+Ob4hPm2+oj7svuw+8b74Psu/F79dP4g/mD9Qv26/aj+nP/O/w4ABgHAASgCmAI4A5oDPgPQAsYCBAPSAgwChAK+AzAEjAVGB84G9gWoBoAGMgVcBGQEbgVeBdADcgOaA5ICigH8//79Gv4AAKYBegF4ACYBKgLUAToBDAC4/pr+Av+C/7z/sP9WAGQBWgHUAJwAvv/u/jr/wv+i/8b+AP7C/cD9Vv6O/jL9jPyu/Ur+Xv72/Sb8bvu6/PL8wPta+7z7ovya/hoAGP/S/BT80vxe/QD9mPuO+hr7jPzQ/Sb+CP6A/iQAmAEYAX4AvgH6AtYCrAJqA2gESgXmBUQFHgTGA7ADuAOWAxwDUgNIBG4FjAVSBGgDRgPoApoBOgDi/+D/gP8u/3T/zP+w/8D/JgAAAFD/NP+s/8L/nP84ABoBCAEaAIz/uv9Q/yb+lv0Y/hr/gv9s/yz/tP6K/j7+zv3E/dz9gv14/b7+GACQAM4AdADW/tj9Rv6a/oD+CP70/Vb/JgHUAaQBzgB+/1j+Lv0k/Xz9QPyW+2D8svzk/KD9qP0y/fb8Jv2c/lQAuABQAZACPAKCAVgCIgPWAowCwgKCAxwE5AO0A+oDEAQiBNwDvAPwBMgF/gSuAxgC8gCwAIAApP/W/g7/UP/q/hj/uP8K/7b9wP0+/0QASAA8AJwAOgGsAET/Pv48/Wj9kv7e/bb8lP3C/kb/rP+K/zb/Yv7U/Eb8hPxq/LT8kv10/rr+xv16/fz+bP9m/tD+QgDkAMQBdAPKA1wCIgHOAEoAWP8e/97/gv+8/Rz+ev/g/ur+Nv+e/Uz9Uv8yALj/JgBUAd4BigH6Ab4C9gHQAIIA0ABwATgC0gLoAv4C1AI6AnoCGgMGAnAAdADYAF4AFADi/yD/qv5y/kT+Lv4S/tb+eP+I/sL9dv7E/uD9DP7e/sb+8P6C/9T/NAA8ANr/DgDM/7L/jgGWAgYCBgI+Au4B0gEAAo4BrAAeAEIAWAFeApwBKAAQAPYAkgHsALb/yP+KAAQA2P78/cT9rP7I/rr9wPxw+776OvuA+2r7Cvv8+sb7gPvm+j78nPwS+5r7av3Y/fz9xP7c//wATAEIAfQB8AIyApIBhgKmA1wEYgWUBcoEOgUuBtQFVgXWBDIERgS0BIwFMAbOBb4FpgXSA9ABAgIOA9gCZgIUApwBNgLuAhQCjgBk/+7+cP+A/zD+3vzq/NL9sv1E/Db7XPvA++D7GPxU/Kr8nPzo+7j7JvyE/Hb8zvu2+678OP16/TD+ev5C/hj+6v2W/Sj9yvyq/AD9rv32/ZT9Av4q/6b+jP32/WT+ev7e/qj+Pv4I/6QAHgFgAGAAXgFiAvoC5ALyAroDEgRYAyIC/AFKA0AElgTuBF4EOATIBSQGqARUBJ4FWAZSBVIDUgI6Az4EiANoASYATABOAJAALgEqAcAAhgCaAHIACgDy/1b/Iv6y/Xb+2v7a/UT9ev0u/TL97v3w/Wr9EP0g/dj9PP7G/dr8Kvya/Kj9lP3e/AD+IABcAOr/egDaAJQADgBw/4L+Gv7C/oj+dP1E/Zb9DP7i/T79mP3W/Sr9Tv0K/vT9Rv4u/4T/qv+i/47/lv+u/yIAQAAUAOgA5gHeAbYBpgGsAVYCmAJGAiACgAHkAPAAZAF6AiwDaAKCAe4BOgLCAS4CigJyAWgAPgBOADYAev/+/gwACgHkALwAgACEADwBRAEaAaIBxgFcAZwA/P+mAHwBWgFYAQgBOAA8AF4A1P9Q/1L/sv+q/7T/WgC0ANwABgFwAJD/Rv/8/rL+zP5g/ob9UP24/Wj+WP46/eD8Mv3Y/Oz8lv0u/aj8Vv1o/dD8YP3O/XD9AP1e/FT8+Pyc/bb9nP2Y/sL/gP9K/zoAQgGcAVYBKgHuAMoAkgFwAkwC/AFgArwC7AJGA4YDmANEA9wCdgLcAZwBWgGiAE4AugBgAc4BPgKWAjQCIAKyAkoCfgE+AQoBXAFgAVQADACGAIgA8AA+ASYAPv8AAAgB4AAUAGb/tv/YAMgApP9G/4D/vv/2/2r/rv6q/oT+YP58/gL+Dv7w/rT+9v3s/XL9tPwC/dL9KP4e/jT+mP46/x7/AP6e/cr92v3o/Yb9vv1G//r/WP9e//z/cgAgAXoBagEYAgYDAgOmArAC9ALQAhQC6gFCAswBHAFUAdoBhgJ2A1wDUAKsAZIByAGMAVQAjv/E/+T/RADwAMwAVAD0/2z/fP/0/8r/Fv9s/pb+vv82AGz/FP/s/mT+iP6g/lb+6P5a/4T/LgAWANT/PAD8/1L/ev94/+r+QP/w/8b/NP+C/lD+ov4C/ib9pP2O/q7+6P7k/0YABABMAKYAaADM/0L//v7u/tL+av7K/sD/YP+s/i7/DgB6AE4ACgBuAFoB1AH0ATwCNAJuAhgDoAKUAWIBYgFuAfQBKgL6AQACwAFqAagBvgGMAY4BfgF6AVwBAAHQAGAAiP9M/9L/GADk/6D/eP+2/2QAbACo/0r/GP9u/hj+ZP5k/tj9jv22/bb9UP1m/VT+xv4a/gD+Iv+O/yr/XP/0/1oALgBw/wD/QP9U//D+7P7G/0gAAABYAFYB7AEoAhgCnAFiATQBrgB+AFAApv/U/qj+RP86/1T+SP76/hD/pv5y/s7+YP+0/9L/QACOADgA9v/0//j/EgAmACoAOABAAGIA9gCMAYABcgGcAZYByAH2AZwBegHmASwCmgG8ALYANgEKATYA5P8OAAgA7P/C/47/pv/e/8j/jv+g/xYAVADs/5L/KgDMAFAAvv98ABQBBABs/xYArP+4/vj+BP9y/nr+ov5c/vz9yv1q/mT/NP+2/lj/XgDoAL4AYACAAKYAsgAGAeoA/P+Y/yYAWgDs/0z/9P4i/1T/dP+m/87/8P/e/8z/BgA2AK4AdgEMAZL/kP/yAFABjgDK/2D/5P+mAEAARP86/zIA8ADgAGYAfgBKAdIBvgGIAWoBdAGgAYABGgGoANj/KP9s/5L/pP7C/QL+8v4u/0T+9P3C/jj/Xv/i/yAACAAKAAYAagDKAF4A5P+c/0b/gP/i/2L/xv7m/vL+zv4a/1L/9P6w/jT/2P/U/6b/2P9iACIBfAE+Ac4AUAAoAOIAQAFaAND/agDkAIQA9v/2/yQAwP9I/8T/VgAkAFAAEgEeAXYADgAaAEgAKACG/x7/kP/U/3T/WP9g/xz/9P5G/3T/NP9y/zAArADUANYA4ADyANQAqACuANIAhAAwALAA4gAoAOr/XgASAB7/Fv/Q/xIAAgBQANwAEAGQAAQAQAD0ACwBvgBiAHYAwgDIAKQAbACi/+z+Kv9Q/9z+2v4k/zz/cP9w/1L/iP+O/17/4v+YAIAAOABGACYA6v/c/5j/4v5s/sL+8P6e/pT+rv7C/hL/Ev+i/s7+YP9w/7L/YABUAMr/8P+EAKYAMAC8/8z/SACuAIwAPABaAIgAegC0AM4AjADCAAgB2ADeACAB5gCeAK4AfgBUAKoAwgBEABYAWgBmAFIAIADy/w4ANgAoACoANAAGABgAkACsACAA3v8qAFoAJAC8/7D/BAD2/4T/ev+u/3b/Qv9w/1j//P4I/zz/IP8s/6j/3P98/3z/CABAAAAADABUADIA+P8IAPL/uP/O/7L/RP9O/47/aP80/17/zv/8/7j/nP8CAHIAaAAsADYAYABGACwAbgCCAO7/hv/A/+j/3P+s/3r/6P9+AGYAVADMABYBFgEkATwBXgFUAfIA4AAcAfQAwAC4AGQA8P8SAFQA7P9y/5D/8v8oACgAFAD0//j/WgCsAJoAZABGAFgAhAB+ADAA6v/c/8z/lP9m/3z/iv8k/+D+Ov+O/z7/Bv9U/3z/Uv+M/ygALgCu/6D/DgAgAAQANADm/z7/OP/G//T/kP9C/yb/Mv9w/57/TP8Y/6z/KgDa/47/2P8oABwAAADq/8b/sP/G/+L/xv9+/zz/Zv/Y/wQAyP++/yQAgACmAJAAaABqAKAA2gC8AHoAWAAuABAATgByANr/Tv+U/xoAPAAEAM7/GACoAMoAtAD6ADIB4ADGAAwBDgHmAM4AnABSAEgASAAIANr/7v/i/9b/EgAMALr/1v84ADAA8P/8/zQAMADs/7j/5P8wAAoAnP+k/+r/0P+4/wYAMgD0/8D/2P8KABoA6v+g/4j/hv9+/5D/jv+E/3z/Sv8u/7T/SAD4/1r/eP8AABAAvv+c/97/MgAyAOr/wv8CAE4ANADg/+b/IgAwADAANAAeAPz/FABKAC4A3P/a/xIAGADq//D/EAAOADQAXAA2AAwAJgBQAEwAYgB2ABwAtP/E/wIAAADS/4r/UP+A/+b//P+u/3T/wP8wAEAAIgA2AFIAWgBcAFoAKADS/7b/xP+W/17/cP94/27/mP/Q/7z/rP/8/0AANgAkAEoAdACWAKoAaABEAHwAcgD0/8j/AgDy/7L/oP+w/77/yP/G/7z/zP8EADAARABgAGwAWgBCAFwAjAB4ADYADAAuAFYAPgAWAPj/6v/s/+b/8P/s/8b/pv+s//r/PgAMALT/xP8UABAA3v8MACwA/v/w/yAAOgAMAPL/IgAcALT/fv/C/+r/oP96/77/9P/C/4r/tP/i/9b/vv/i//j/xP/A/wYAAgCq/5z/5P/q/7D/kP+m/8j/tP+Q/5z/yv/q//b/9P/W/9r/DAAgAAAA8P8cABgA7v8OAB4A8v/k/xoAEgDY//7/SABcAEgAQABUAHwAigBmAHAAlgByAEoAbAB4AEQATABmAEQAIgAeACgAKgA6ADAAGgAwAEQAWABeAEYARABYAF4AUABEADYA/P/O/9b/0P+4/8D/rP98/4r/rP+W/37/kv+w/6D/hP+g/9b/7P/m/8D/pP/O/+7/uv+K/6r/uv96/2T/lP+E/1j/ev+E/0b/PP+E/7L/sv/Q//r/EgAgADQANAAkAA4ABgAQAA4A7v/O/9L/4P/i/7z/sP/m/xQAGAAmAEQAVABmAJQAngByAGwAmgCwAI4AdACIAJAAegBuAGQAWgBUAE4AagB8AGwAVgBeAHoAaABKAFQAdAB+AHAAWABWAHgAWAAiACwAMAD6/+D/+P/W/5z/vv/0/8z/sv/E/7L/ov/C/9b/0P/Y/+b/9P/u/9D/xv/C/6T/iP9u/1r/cv+I/4b/hv+O/6L/qv+i/7z/yv+w/8T/8P/q/+T//P/y/9T/2v/c/77/qv+0/6r/sP/S/9T/uP/G/97/yv/G/+r/DgAIABAAPgBAABQACgAyADYADAAAABgAFAAQADQAPgAkAB4AOgBAACwAMgBIAFoAagBmAEYAUgBqAE4ANABIAFYANgA0AFYAVAA0ACoALAAKAOT/5P/y//j/DAAaAAoABgAcAB4ACgDy//D/BAAIAAAA+v/w/+b/7P/k/+b/8P/w/+7/6v/w/wAA/v/y//j//P8GAAIA/P/+/wgADAAKAAgABAD2//b/DAAGAPb/+P/0//D/8v8IAA4A9v/+/wgA/v/6//r/+P8GAPj/0P/O/+j/7P/k/+T/5v/Q/8z/7P/w/9z/0v/w/wYA8P/m/+7/7v/s//r/EAAIAP7/GAAqAAYA6v/w/+j/9P/+//T/8P/y/+L/0v/c/+T/3P/4/xwAIAAYACQANgAuAB4ADgACAPr//v8OABAAAgAAABQAGgAKAAwADgD0/+j//P8YABoAHAAcAAgADgAUABIAGAAmACgAHAAWAAwAAAD0/+z/6P/y//r/9v/6/woAEgAKAAQABgAOAA4A/v/q//D/AAAAAAAAAADw/9j/0v/W/9D/zv/m/wIACgAIAAoABgDw/+r/AgAKAAgABAD+/wAACAASABoAGAAUABIADAAEAPb/8v/+/xAACgAAAAYAFgAWAAAA9P/q/+7/+v8IAAYA+v8GAAwA+v/o/+r/6P/s//r//P/s/+b/8P/y/+b/5P/w//j/9P/2//r/AAACAAAACAAAAPb/8P/k/+b/AAAQABAAGAASAAIA9P/+/xgAIgAmACYAIgAoADQAPgA2ACIAGAAcACAAFAAKAPr/+P8OABQAFgASABQADgDw/+r/6P/q/+7/6v/a/8T/xv/O/9L/1v/W/+D/+v8AAPL/5v/e/9D/0P/Y/9D/3v/w//j//P/8//L/5v/y/wYACAAAAP7/AgAGAAgAGgAeACQAJAAQAAQAAgAGAAgAFgAUAAwADAD+/wQADAAKAAwABgAAAPD/9P8MAAgAAgAAAPD/6v/4/wgADAAYACAAHgAcAA4ABAD+//7/CAACAAAADAAWABgADgAIAAoAAgD+/wQA+P/w/wwAHgAeAB4AEgASAA4AAAD6/wIACgACAPr/+P/4//j/8P/g/9b/1P/Y/+L/6P/w//D/8P/+/wAA+P/6//D/8P/+/woACgD8//T//P8EAAQACAAIAAYAAgAEABAAJAAsACoALAAiABgAGgAiABoAEgACAPz/EgAWAP7/8v/8//r/8v/w/+j/3v/Y/97/6v/w//T/8P/s/+b/5P/a/9r/5v/y/+z/4v/m/+b/5P/u//r//P8CAAwADAAGAAQADgAKAPr/9v8AAAwADgAOABQAIAAiACIAFAACAAAABAD8//b//P/4//D/+v/4//D/8v/6/xIAHAAkACwALgAuACQAEAAAAO7/4v/s//r/9v/0//b//P8CAPj/8P/w//7/CAAIAAYAFgAkABYADAAIAAIABgAKAAwACAAAAAAABAAMAAYAAAAMAAoADAASABQAEgAQAP7/7v/u/+j/3P/W/9z/6v/y//r/+v/+//r/9v/w/+z/8v/y//j//P8GABAADgAUABIABAD6//j//P8IAAwAGAAWAAQAAAD8//L/7v/k/97/4v/0/wIACAAeACoAIgAQAPz/+v/0//z/BgAGAAoABgAMAAwA/P/+//j/7v/0/wAA/v/+/woADgAGAAQA/v/w//D/8P/4//z/AAAIAA4ACAD8/wQABAAAAAIA/v/y/+7/6v/a/9z/3v/g/+r/7P/6/wgABgAOABgAGAASAA4ABAAAAAQA/v/y//z/AgD+//T/+P8OABAADAAEAAIADAAQABYAFAAWABgADAAGAP7//v/8//7/DAAQABoAHAAmADAAIgAaABYACgAEAAYABgAOABQAFAAYAB4AIAAkACYAKgAuAC4AKAAeABoAEAAGAPr/7P/e/+b/7P/s/+T/2P/Y/8j/0P/g/+b/6v/k/+D/4P/a/9D/2v/a/9D/yv/K/9r/3P/Y/9L/3P/o/97/4v/e/97/7P/2/wIACgAQABIADgAUABwAFAAWABYAHgAqACIAKgAuACgAIAASABAAEgAWACAAJgAmACAAHAAWABQADgAEAAIAAAD6//b/5v/g/+b/7P/6//b/9v/4//b//P8AABAAGAAcABwAEgAQAAoA+P/w//D/8P/6/wgAGAAgACIAIgAiABoACAAQAB4AGAAWABgABgD6//b/+P/0/+b/6P/u//b/AAAGAAoACgAUABYAAgDy/+j/3P/U/9z/3P/a/97/1v/S/9L/0v/c/+b/6P/y//b/8v/u//j/8v/w//b/+P8EAAQACgAOABYAHgAYABAADgAWABYACgAAAAAABgAIAAIABgAIAAQAAgACAPz/+v8AAAYACgAIAAIABAAEAPb/6v/w//L/+v/+/wgADgAIAAwACgAKAAQA+P8AAP7/+v8AAAgADAAKAAQA+P/y//7/EAAYACYAKgAqACIAGAAIAAQAAgACAAYAAAASABQACAD+//L/6v/e/+L/5v/q//D/9v/4//z/BAD+//L/5v/o/+z/8P/6/wgAGAAcABYADgAKAAAA9v/2//r/BAAOABwAFgAGAPL/2P/U/9z/6v/0/wIADgASAA4ABAD6/97/1v/S/9b/8P/8/wIA/P/6//b/8v/u/+j/8v/u//z/EAASABgAEAAAAPD/7P/w/+r/8v/2//r/BAAMABgAGgAQAAYAAgAAAAoADgAIAAwADgAQAAgABgAGAAIAAgAGABYAHAAcABwAHAAaABAADgAMAAgAEgAWABYAEAASABAADgAMAAgABgAIABIAHAAcAB4AHAAWAA4ACAAGAAAA/P/2//T/8v/2/wYAAAD2//z/8v/w//D/9P/6//7/AAD8//j/8P/o/9z/1v/g/+b/5v/k/+r/5v/k/+j/6v/q/+T/5P/i/+D/6v/m/9z/3P/a/9T/0v/a/+L/7v/y//7/BAAIABYADAAIAAQA/v8CAAoAHgAgACQAJAAYAA4ACAAEAAYAEAAIABAAHAAmACAAGAAaAA4ACgACAPr/+P/w/+z/8v/6/wAADgAUABQADgAMAA4AEAAaABwAHAAkACIAFgAQAAAA9P/4//r/AAAMAA4AFAAWAAgAAgAGAAYAAgD8/wYAEAAKABAAHgAcACAAGAASABIACgAIAP7/+v8CAAwADAAEAAQA+v/2/+7/6P/y//r/AgAAAPT/7v/i/9D/vv+8/77/vP/G/9D/1v/U/9z/3v/a/9j/1v/c/97/5v/0//b/+v/2/+z/9v8AAAIABgAKAAwACAAQABQADgAOABYAHAAgACQAJAAkACYAKAAkABgAGgASAAgADAAMABgAJAAkACYAHgAMAPz/9P/s//T/AgAEAAQACAAMAAYAAAD2/+r/5v/k/+7/+P/6//j/+P/s/+T/4v/i/+j/7v/4//r/+v/2/+7/7v/0//7/BgAMAAIA/v8KABQAGgAeABgADgAIAPj/+P8IABAAGgAeACgAHAAKAAoABgAGAAQAAgAMABQAGgAWAA4ABgD0/+L/2P/e/+b/8P/y//L/AAAIABIADAAAAP7/9P/y//j//v8IAAwADAAKAPz/9v/u/+b/4v/k//D/+P8AAAAA8v/2//L/6P/g/+L/7v/0/wIAEgAYAA4ACAACAPD/8P/u//L/+v/4//r//P/4//r/+v8AAAQAAAAOABYAFgAOAAoAFgAMAAIA/v/w/+7/9v8AAAwAGAAYABYAEAAGAA4AEgAOAA4AEAAKAAQACAAIAAYACAAEAAYAFAAgAB4AHAAWABQADgAAAPb/+v/s/+L/8P/y//7/+P/y//j/8P/s//L/9P/s//D/8v/2//z/+v/4//r//P/y/+z/7v/y//7/DAAYAB4AEAAAAPT/5P/q//j/+v/6/wYACgAKAAQA/v8CAAQADAAGAP7/AgAOABQADgAKAAYAAAD6//b/+v/4//j/9v/0//b/AgAIAAYABAACAAQAAgAEAAAA+v/y/+r/5v/m//T//v8KABgAHAAaABwAIgAaAA4ACgAEAAYAEgAQAAQABAAKAAwABgAQAAwABgAKAAYACAAKAAgABAAAAPz/+v/+//T/6P/k/9b/3v/0//7/CgAMAAYAAADw/+r/5v/i/+b/5P/i/+z/6P/g/+j/6P/o//r/CgAaACoALgA0ACgAIAAcAA4AEAAMABIAGAAMAA4AFAASABoAIgAcABIACgD+//j/7v/s/+7/6P/o/+T/7P/q/+b/7P/y//T/8P/2//T/9v/w/+j/4P/i/+b/6P/0//j/9P/2//j/+v/8//7/BgAKAAoACAAIAAoADAAMABQAHAAQABYAEgAQACIAKAAgAB4AJAAaAAoAAAACAAQA/P/8//z/BAASAAwA/v/+//r/8P/w//j/9v/0/wAACgAIAAYABAD2//j/CAAMAAQACAAGAAQACgAIAAAA8P/2//r/AAAKAAYAEAAeABoAEgAMAAAA8v/w/+z/6v/0//b/AAD2//D/+P/s/+z/4P/S/9j/4P/c/9r/5v/s/+T/5P/s/+j/6v/2//j/AgAKAA4ACAAKAAwAAgAIABQAGAAgADQANgAkAB4AHAAUAAoAFAAaABgAHgAcABoAEgAIAAoACAAIAAAAAAAIAAAA+v/y//L/8P/m/+L/4P/k/+b/8v/8//z//P/s/+j/6v/q/+7/5P/k/+r/7P/q/+7//P8AAPT/+v8IAAYACAASABYAEgASABQAEAAOAAgAAAD+/woABgACAAgABgACAPz/9v/8/wAA/v/+/wQADAAQAAYA/v/+//b/8P8AAAgACAAQAA4ABgACAPz/+P/0/wIACAACAAYADAAMAAgABgAEAPz/+P/2/+z/6P/y//b//P8GAAYABAACAPr/+v/8/wIABAAGAAYAAAAGAAQA9v/o/+j/6v/w/wIACgAKABIADAD+//T/8P/6//b/AAAMAAwAEgAQAAwAEAAOAP7/+v/6//b//P8MABgAGgAOAAgACAAAAPb/9P/4//z/AAAQABoAEgAQAAQA9v/s/+j/7P/u//T//v/6/wIACgAAAP7/+v/2//b/+v/8//7/BAAIAAIA/P8KAAoACAAOAAgAAAD+/wQABAD+//D/7P/2//b/AAAGABAAHAAMAAwAGAAOAAQABAACAAAABAAKAA4ACAAGAA4A/P/y//z/+v8GAAYABAAAAPr/AgACAP7/+v/0//T/8v/i/+D/5v/o/+7/9P/y//D/7v/m//D/+P/2//b/9P8EAAYAAAAEAAAAAgAGAAYABAAEAAwAEgAWABYADgAOAA4AEAAKAAQAEAAKAA4AHAAeACAAEgAKAAIABAAKAAwAFAAYABoAFgAYABYABAD6//r//v/8/wYACgD8//j/+P/2//D/9v/4//T/+P/0//z/BgAKAAwABAAIAP7/9v/2/+r/6v/0//r/+v/+//j/9P/0//b/+v/6//j/+P/2//j//v/8//r/9P/w//L/9P/6//j/9P/2/wAA/v/4//j/+v/0/+z/6P/q/+7/9P8AAAAA/v8CAAwAFAAWABoAEgAMABAADAD8//z//v/2//L/+P/+/wAA/v/6//j/9P/8//r/8v8AAAoABgAIAA4ADAAQABQADAAEAAYABAAEAAYACgAGAAgADAACAPr/+P/2/wIAEAAUABwAGgAYAB4AEgAGAAQAAAAEABAAFgASABIAFgAYABAAEAAUABgAGgAYAAwAAAD8//j//P8AAAAABAAEAPr/BgAQAAoABgD4/+7/7v/0//r/+P/4//j/8P/y//T/8v/s/+z/6v/m/+j/8P/6//D/8v/8//T/7P/o/+D/3v/k/+b/8v/+/wIA/P/y/+z/5v/q//D/7v/q/+r/8v/2/wAADgAGAAIACAAEAAYACAAMAAoAAAAEAAwAFAAWAA4ACgAGAAgABgAEAA4AFgAUAAwACAAMAAoABAAMABIAFAASABQAGAAMAAYABAAIAAoADgAYAA4AAgAKAA4ADgAQAAwA/v8CAAQA/P8AAAQACAAAAAIABgD6//z//P/6//T//P/+//z/AgAAAP7/8v/q//L/+v/6//j/9v/+/wAABAAGAAQA/P/2//7/AgAMAA4ADgAKAP7/9P/m/+r/6v/k/+7//v8CAAQACgAGAAgACgAOAAgAAgAKAAYACgASAA4ADgAKAPr/5v/i/+j/5v/s/+r/8P/s/+j/7P/w//T/6v/q/+7/9v8EAAQAAgD6//D/9P/2//7//P/4//r/8P/q//D/8v/w//D/8v/6//z//v8AAP7/AAAMABIAFAAWABgAFgAWABwAIAAmACgAJAAcABwAHAAQAA4ABgD+//7/CAAUABwAHgASAAgAAAD8//z//P8EAAYABgAGAAYAAgD6//D/6v/w/+7/8P/2//L/8v/y//T/8v/y//b/+P/6//j//P8EAAoACgAMAA4ABgD6//b/+v/+/wQABAD4/+r/7P/s/+T/5v/u//L/9P8EAAIA9v/y//D/7v/q//D/8P/q//b//P/4//L/9P/0/+7/6v/u//b/9P/0/+7/6P/y//L/+v8KABAADgAKABIAFAAaABgAHAAgAB4AIAAcABgAFgAeACwAMAAwAC4AHgAOAAoACgAQAB4AHgAQAAYABAAEAPr//P8GAPr/+P/6//z/+P/u/+z/6v/m//D/7v/s/+z/6P/q//D/8v/6/wAA/P/+//r/6P/m//T//P8AAAQAAgAGAAgACAAEAAAAAAACAAYADgAUABgAGAAUAAgA/v8AAP7//v8CAAgACAAGAAwAAAD4//D/5P/e/9T/1P/m//T//v/8/wQAAAAAAPz/9P/2//T//P/2//j/+P/2//b/8v/0//L/9v/4//7/BgAMAA4ACAAIAAAA+v/+/wYACgAMAAwACAAOAAIAAAAIAAoADgAUACAAHgAaABwAEgAMAAoABAD8//r/9P/2//j/AAAGAAgADAAOABQAAgAAAAQAAgAEAPr//P8AAAQABgD+//r/+v/6//7/BgAKAAYAAgACAAQA/P/+/wIA/P/8//z/BAAEAAgADgD+//b/+v/2//T/+v/+//r/9P/y/+r/6P/y//b/8P/q/+7/9P/8/wIA/v/w/+z/9P/2//T/9v/4//L/8v/8/wgACAAIAAoAEAAMABAAGAASABQAEAAIABQAGgAOAAYADAAGAAQADgAQAAYA/v/2//L/+P/4//j/8P/y//T/8v/+/wYAEAAKAAQABAD+//b/8v/4//b/9v/0//D/7P/m//D/9P/y//b/9P/2//z//v8CAPz/AAD+//b//v8CAAQABgAQABgAEAASABQACgAKABAAFAAQABIAEgAKAA4ACgAEAPz/+v/8/wAABgAIAAgACAACAPj/8P/w/+7/8v/0//j//v/+//r/8P/q/+b/5v/k//D//v8CAA4ADAAKAAwADgAWABAADAAKABAAEAAOABIACgAEAAIA/v8CAAYADgAKAAwAAgAAAAAA9v/6/+z/6v/s/+z/9P/4//r/+v/6//7/AgACAAYACAAOABQAFAAUABgAFAAMAAoAAgD8/wAAAgACAAIACAAQABIAFgAcABQABgACAPz/+P/8//j/9v/0/+r/7P/u/+z/6P/g/+j/6v/u//T/8P/2//L/5v/m/+b/4v/g/+T/8P/y//T//P/+//r/7P/q//D/9v/+/wgABgAIAA4ACAASABwAGAASABYAFAAQABIAGAAaABAADgASABQAGAAaABwAFgAYABIAEAAOAAwABgD4//T/8v/4/wAAAAACAAIABAD+//r/+v/2//L/9P/4//7/BAAEAAAA/v/+//r//v8CAAAAAAACAAIACAAIAAYADgAKAAQABAAEAAAAAAACAAAABAAGAAYACAAAAPj/8P/s//L/9P/2//r//P/8//r/+v/6//r/9v/0//T/7P/2//z/9v/2//j/9P/2//r//v8AAAQABgACAAIA/P/8//7/+v/8//r//P8EAAYADAAOAAwABgD8/wAA/v/+/wYABgAAAPr/9v/m/+j/9v/0//b/+P/8//7/BgAKAAQAAgD8//r/AAAGAAYA/v8AAAAAAgAGAAYABAAEAAIADAASABIAGAAOAAgAAAD6/wAAAAAKAAgADgAWABAAEAAMAAYA/P/2//T/+P/8/wQA/P/+/wIAAAD+//z/+v/4//b/8v/0//b/+P/2//r/9v/y//L/9P/0//b/9P/8/woACgAKAAAA8v/u//L/+P8CAAgACAAIAA4ADAAIAAwADAAGAAgACgAKAAoABgAIAAYA/v8GAAoABgD+//D/6v/y//T/9P/+/wQA/P/4//r/+v/8//b/+P8AAAIAAgACAAQABgD+//z//v/8/wAAAgAAAPr/9P/2//j/AAAGAAgACAAKAAoACgAOAAgAAgAAAAAAAAD+/wYACgAIAAwAEAAKAAYAAgD8//r/9v/4//j/+P/6//b/+P/6/wIA/P/8/wQABgAMAAwADgAOAAgA/v/4//D/7P/0//b//v8CAAQABgAEAAIA/v/6//b//v8AAPr/9v/u//D/6v/s/+z/6v/0/wIABAACAAYAAAD+//z/+P/u//T/+P/2/wIAAAACAAIAAgAIAAoADAAKAAwADgAMABIAFAAQAA4ACgAGAAQAAAACAAgACgAKABIAEgAOABAACgAEAP7/+P/2//b/+P/4//b/+P/+/wAAAgAAAAIABAAAAPz/AAAEAAgACAAEAAYA/v/4//7/+v/8//j//P8EAAgACgAIAAoADgAMAAAA/P/8//T/8v/2//T/9v/4//j/AAAGABAAFAASABAADAAGAAAA/P/2//b//P/6//j/+P/4//L/6v/q//D/9P/8//z//P/6//r/+v/w/+r/6v/w//D/8v/8//z/AAAEAPz/+P/6//r//P/4//r/AAAEAAYABgAGAPz//v8CAAAABAAGABAAFAAUABwAHgAcABoAFAAMAAoACgAIAAQACAAIAAoACgAGAAQA/P/4//j/+P/8/wIACgAKAAgABgAEAAIABAAEAAAABgAKAAgADAAIAAAA+P/u//b//P/2//b/+P/+//7/AgAGAAAA/P/6//j/+v/4//j/9v/0//T/8v/4//b/8P/s/+r/9P/6/wAAAgACAP7/+P/0//T/9v8AAAYACgASABIAFAAUAAgAAAACAPz/+P8CAA4AGAAYABYAFgAMAAIA/v/+/wQABAAKAAoACgAGAPz/9v/2//j/+P/2//L/9v/2//r//P/4//j/+P/0//T/+v/4/wAABAACAAIA/v/8//b//P8EAAYABgAKAAoABAAEAAgABgACAAgACgASABAADAAMAAwADAAIAAYACAAKAAQABAAGAAIA/v8AAAAAAAD8//r/+P/0//b/+v/+//z/+v/6/+7/7v/y/+7/9P/2/wQACgAGAAAA/P/0/+r/5P/k/+j/8v/6//T/8v/0//L/7P/s//b/+P8AAAgACAAIAAQABgAAAPz//P8AAAQABAAGAAYABgAGAAQA/P/8//z//P/+/wIABgAKAAwACgAQABAAEgAYABYAGAAaACIAJgAmACgAIgAeABoAFgAIAAQA/v/2/wIACAAIAAYAAAD2//L/7v/q/+z/8v/6//j//v8CAPj/7v/u//D/7P/o/+r/8v/6//r//P/8//b/8v/4//b/9P/4//r/+v/2//T/+P/4//z/BgAKAAgAEgAUABYAEgAQAA4ACAAIAAYA+v/2//b/7v/y//T/9v/6//b//v8EAAYABgAGAAgAAAD4//z//P/8//b/9v/2//b/+v/6//7//v/+/wAAAAAEAPz/+P/+/wIACgAMAAoABAAEAAYAAgAAAAQABgAIAAoABgAEAAgACAAAAPj/9v/4//r//v8IAAYABgAOABQAEgAOAAoACgAMAAwACAAKAAYA/P8AAPz//P/+//T/9P/0//7/AgD+/wQABgD+//b/+v/4//b/AgAIAAwACAAEAAYA9v/w//L/8P/0//z/AAACAAAACAAKAAIA/v/8//j/+P/8//7/BgAKAAwABgD8//z/+P/2//T/9v/+/wAAAgAEAAQA/P/+/wAA+v/6//b//v8CAAQACAAKAAgABgAGAAYABgD+//r//v/+//z/+v/4//L/7v/s/+j/8P/y//L/9P/2//b/+v8AAAAA+v/4//r/AAAEAAQACAAEAAgABAACAAIABAAEAAgACgAQABYAFAAWABQAFAASAA4AEgAOAAwAEgAWABAACgAMAAYAAgAEAAQAAgAEAAoABAACAP7/+P/y/+7/8v/s/+j/7v/u//D/9v/u/+7/9v/2//L/9v/6//7/BAD8/wAA/v/8//z/8P/6/wIABgAKAA4ACgAIAAgACAAGAAYACAAIAAoACAAMAAgACAAIAAQABgACAAIAAgACAAQAAgAAAPj/+P/0//D/7v/o/+7/9v/2//r/AAD6//j/+v8AAAAA/P8AAAAAAgD8//z//P/+/wIA/P/4//T/+v8GAAYADgAUABoAHgAUAA4ACgAKAAoACgAGAAgACAAGAAgABAD+//r/+v/+/wIABgAKAAgACgAIAAYABAAAAPj/7P/w//L/9v/6//r/+v/6//z/+P/4//j/+v/+//z/+v/4//z//P/2//b/+v8AAAIAAgAGAAoADAAEAAQAAAD6//7//P/8//z/+P/4//r/+P/2//j/+v/2//r/BAAEAAYABAD+//j/+v/8//T/8v/w//L/9v/8/wgACgAMAA4ADAAMAAoACAAGAAAABAAKABIAFgAUABIACAAIAAwAEAAUABIAFAASAA4ADAACAPr/+P/+/wIAAAAGAAgABAD+//z//P/+//7/+P/4//j/+P/6//L/8P/w/+r/5P/m/+r/7v/6/wAABAAEAAYABAAAAAAA/P/4//7/BAAGAAoADAAOAAoABAD+//z/+v/+/wAABAAMAAoABgACAAQA/P/u/+z/6v/0/wAAAgD+//j/9v/8/wIABAAGAAoAFAAWABIACgAGAPr/8v/2//T//P8AAAYACgAOAA4ADAAKAAYAAgAAAAIABgAGAAYABgD+//r/+v/+/wIAAAAIAAoACgAIAAYAAAD6//j/8P/o/+r/6v/s//T/+P/2//L/9v/2//j/+v/4//r/+v/8//7/+P/2//r//P8CAAIABgAQABYAEAAOAA4ADgAOAAoACAAIAAgACAD+//r//v8AAAYACgAKAAwACgAGAAIAAgAEAAQAAAD4//r//v8CAPz/9v/2//j/AAACAAIA/P/2//T/9P/0//T/9v/4/wAABAD8//7/BgAGAAIABAACAAAACgAIAAYACAAKAAgACAAKAAQAAgAGAAgADgAMAAYAAgAAAAgAAgD8//j/8v/0//L/8v/2//b//v8AAPj/9v/w/+z/9P/4//j//v8EAAYABAACAAAA9v/y//T/7v/w//T/9P/+/wIABAAAAPr/AgAGAAoACgAKAAgACAAEAAIA/v/8/wYACgASABAADgAOAA4ADAAKAAYABAAGAAYAAAACAAgACAACAAIAAgAGAAgABgACAAAAAAAEAAYAAAD4//D/7v/s//D/9P/2//b/+P/4//7/CAAEAPz/+v/4//z/+v/w/+7/8v/2//j/+P/6//z/AAD8//j//v8EAAwADgAOAAoACgAMAAgABAAAAAIACAAMAAoACgAMAAwADAAMAAgABgAKAAoABgAIAAgABAD+//j/+P/+//7//P8CAAYADgAOAAYA/v/4//j/9v/0//b/9v/4//b/9P/y//b/+v/4//j/+P8AAAgACAAAAPr/+P/y//T/8P/q//D/9v/4//b//P8AAAIAAgAEAP7//v8CAPz//v8CAAYABAD+//z//P/8//j/9P/2//7/DAAKAAgA/v/+/wQABAACAAYAEAAWABYAEAAGAAQACAAKAAYABgAMAA4ADAAEAAAAAgAAAP7//P8EAP7/+P/8/wQACgAKAAYA/P/6//z//P/6//j/+v/6//b/8v/s/+7/7P/0//r/9P/0//b//v8AAAAAAAD+/wIAAAD+//j//P8EAAYACgAQAA4ACgAEAAAAAAACAAgACAAEAAIAAgD8//z/+v/+/wQABgAKAAoACgAKAAYA/v/8/wAABgD8//T/9v/6//7/AgAIAAoACAAGAAQABAACAAQAAgAGAAQABAD6/+z/6v/s//D/9P/8/wYACgAMAA4ADAAMAA4ADAAMAAgAAgAAAAIAAAAAAP7/AgACAAgACgAIAAoACAAIAAQAAgACAAIABAAEAP7//P/6//T/9v/8/wIABgAIAAoACgAGAAAA+P/0//j/+P/4//D/6v/o/+j/8v/6//z//P/6//7/BgAGAAYACAAEAAQABgD+//L/6v/w//j/AAAAAAIABAAIAA4ABAAEAAgACAAIAAYAAgAAAAIA/P/6//r/9v8CAAoADgAOAAoACAAAAPz/+P/y//L/+v/+/wAAAgAEAAYABgAIAAIAAAACAAYACAAKAAoACgAIAAYABAACAAAAAAD6//7/AgD+/wQABgAGAAAA+v/2//T/9P/8/wQABAAGAAYACAD+//T/9P/y//7/CAAIAAoAEgAQAA4AAAAAAAIAAAAEAAYADAAKAAQABgAKAAIAAAD8//7/BAAGAA4ADAAIAAAA+v8AAAAA+v/4//7/BAACAP7//P/4//z/BAAAAPj/9v/8//z/AAAAAPr/+v/y/+7/7P/s//L/9P/0//T/9P/0//j//P/8//z/+v/6//b/+v/+//z/+P/2//r//P/6//T/9P/8/wAABAAAAPz//P/+//r/+P/4/wAABAACAAYABAAOAA4ADAAOAAwAEAAWABgAFgAMAAgABAAEAPr//P8GAAoAEAAMABQAGgAeACAAGAAYABgAFAAQAAoABgAKAAgABAAEAAYABAD8//b/9v/4//r//v/6//T/9P/2//r/8v/m/+z/7v/y//T/9P/0//b/+P/0//D/8v/0//j//P/2//j/AAD+//z/+v/4//7/AgAGAAIABAAIAAQA/v/+/wIA/v8EAAQAAgAEAAgACgAGAAQABAD+//7/+v/2//z/+v/2//T/8v/0//b//P8AAAAAAAAEAAQAAgACAAIABAAEAAIAAAAEAAYAAgD+/wQABgAEAAQABgAKAAwABAAIAAoACAAMAA4ADgAMAAwAEAAUABYAFgASAA4ACAAGAAYA/P/2//T/9v/2/+7/8v/4//b/9P/2//b/9v/4//b/9P/2//j/9P/6//b/9v/2//L/8P/u//T/+P/8//r/9v/+/wgABgAGAAYABgAIAAIAAAD8//j//v8CAAQABgAKAAwACgAIAAIABgAMAAwACgAGAAYABgAEAPz/+v/4/wAAAgAGAAYABgAEAAAAAgD8//r//v8AAAQABAAAAAAA/P8AAPr/AgACAPz//P/6/wIA/P/2//z/+P/y/+z/8P/2//D/7P/u//j//P8AAAAABAAAAAAABgAEAAgAAAD4//b/9P/y//T/8v/4/wAABAASABQAGAAcABgAFgAQAA4ACgAAAPz/AAAAAAIABgAKAAwAEAAQAAwACgAKAAoACAAKAAgABAACAAQA/v/6//z//P/6/wAAAgAEAAAA+P/y/+7/8P/u//L/7v/w//T/8P/y//D/8v/0//j/+P/+/wYABgD8//j/9v/0//j/+P/8//r//v8GAAgACgAKAAoADgAOAAwA/v/+/wQAAAAGAAYABgAGAAQA/v/8//r//v8AAAAAAgAEAAYABgAGAP7//v/+//r/+P/4//j//v/+/wIABAACAAgABgAGAAgAAAAEAAQA/v/8//r/+P/+/wIAAgACAAIABAAGAAQABAAGAAoABgAEAAQABAAGAAgACAAMAAoACAAGAAYACAAIAAoACgAGAAIA/P/+//z/+v/6//j/+P/4//j/9v/4//b/9P/2//T/9v/6//b/7v/y//T/+v/6//b/9P/4//r/9P/0//b/+v/8//z//P/6//L/9v/4//b/9P/8/wQACAAQABAADgAMAAgAAgACAAQABgAEAAgACAAIABIAFAAQAAwADgAOAAoADgAOAAoACAAAAPj/9v/8//j/9P/4//7/AgAEAAQA/v/8//z//P/4//D/7P/0//T/8v/0//j//v8CAAQABgAIAAgACAAMAA4ADAAKAAYABgAEAAIACAAKAAgAAgAEAAQABgACAAIABAD+//r/9P/0//T/9v/8//r//v8CAAAAAgD+//r//v8EAAYAAgD+/wAA/v/2//r/+P/2//r/+v8AAAAAAgACAAQABAACAAQABgAGAAQAAgAEAAAA+v/2//T/+v8EAAQACgAMAAwADAAIAAAA/P/6//T/8v/y//T/8v/2/wAACAAGAAAAAAD+//7/AAD+/wgACAAEAAQAAAD+//T/7v/s/+r/8P/y//z/AAAMABYAFAAQAAoABgAEAP7/AAAEAAYACAAGAAYABAAGAAoACgAQABYAEAAOABIADgAAAP7/+v/0//j/9v/4//r/AAACAAAABAAAAPr/9P/y//b/+P/4//j/+v/8//L/7v/y/+7/7v/0//b//v8CAP7/+P/6//z//P/6//b/+P/+/wQACAAGAAYADAAMAAwACgAIAAoACAAMAAgABAAGAP7//P/6//j//v8AAAAAAgAIAAoACAAKAAYACgAKAAQA/v/8//7/+v/0//T/9P/0//j/9P/2//r/+v/6/wAAAAD6//z/AAACAAAAAAACAAQABgAGAAIABAAGAAIABAAIAAoAEAASABIAFAAOAAoACgAGAAIABAAIAAgADAAKAAgABgD8//T/9P/2//b/7P/w//b/+P/8//j/+P/2//r/+v/6//L/7v/0/+7/7P/s//D/8v/0//D/7P/y//T/+v/6//7/BAACAPz/+P/4//j/+v/6//7/BgAGAAYABAAGAAQAAAAGAAgADgAMABAAEAAKAAoACAAMAAYA/v/6//7/BgAIAAoADAAOAAoABAAEAAIAAAAAAAIABgAEAAQADgAOAAwABgAAAPz//v8CAP7/BAAGAAQAAgD8//7/+v/4//j/+v8EAPz/AAAGAPz/9P/y//b/+P/4//r/+v/4//j/+v/6//T/9P/0//b/+v/6//7/AgAEAAIAAgAEAAQABgAEAAYABAAIAAgADAAMAAYABgAEAAIABgAKAA4ADAAMAA4ADgAOAAwACAAEAP7/+P/4//j/+P/4//j/+v/2//L/9v/2//j/+P/y//b/+P/6//z/+P/2//z/AgACAPz/AAACAAIAAAD6//b/+v/8//j//v8CAAYACgAMAA4ADgAOAAoABgAEAAgACAACAAQABgACAPz//P/8//r/+v/8//z/AAD+//r//P/6//T/8v/u/+z/8v/2//b/+v/0//r//v/4//T/8v/4/wAABAD8//7/BAAIAP7/+v8AAAIABgACAAIACAASABAADAAIAAoADgAKAAoABgAGAAwADAAMAAwACAAKAAYAAgACAAYABAACAAgACAAGAAIAAgAEAAQABgAGAAQA/v/6//z//P/6//r/+v/6/wAAAgD6/wIACgAIAAYAAAD8//7/+P/2//j/+v8AAAAAAgACAAQAAgAAAAIA/v8AAAAA/P/+//7/AAD6//j/+P/u//D/8P/2//z//P8AAPz//P/8//r/+P/2//r/+P/4//z/BAAGAAYACAAGAAgACAACAAIABAACAAIAAgAAAAAAAAAAAAAA/v8EAAYABAAGAAwADAAGAAoACgAIAAAA/P8CAAQABgD8//r/+v/6//z/9v/0//j/+P/8//r/9v/2//r//v/4//j/9v/2//j//v8CAAIABgAKAAoABgAAAAQADAAKAAgACAAKABIAEgAMAAoABgAGAAYABgD+//7/BAAEAAYABgAGAAQABAAEAP7//P/6//r//P/8//j/9P/y//j/+P/2//j//P/+//j/+P/0//j/+v/2//T/8v/2//z/AgD+//b//P8EAAgA/v/+/wQACAAIAAQAAAACAAgACgAIAAIABAAIAAwACgAEAAYADgAOAAwABAACAAYACAAEAAIAAgAAAAAAAgD+//b/+P8AAAIA/P/6//7/AAACAP7//P/8//7/AgD6//r/AAAAAAQAAgAAAAIA/P8CAAQACAAKAAoACgAIAAQAAgACAAIA/v/6//r/AAAGAAIAAgACAAIAAAD6//T/9v/6//r/+v/4/wAAAgAEAP7//P/6//j//P/8//z/+v/8//j/9P/4//j/9v/0//j//v8EAAIAAAD+/wIABgAEAAQAAgAGAAwADAAIAAoABAAIAAgAAgD8//7/AgAAAAIA/P/+/wQACgAKAAAA+v8AAAYABgD8//r/AAACAAAA+P/2//j//P/8//r//P8CAAgACAAIAAYABgAKAAgACAAIAAgACgAGAAYAAgAAAAIA/P/+/wIABAACAPz/AgAEAAQABgAGAAYABAD+//z//P/8//z/+P/6//r/+P/0//L/9v/6//r/+v/8/wAAAAACAAAA+v/8//z/+P/6//j/8v/2//T/9P/y//b/9v/2//7/AAACAAIAAgD+/wAA/v/6/wIABgAKAAoACAAIAAoACAAEAP7/+v8AAAQABgAGAAYABgAIAAYABgAEAAQABAAEAAYAAgACAAgACgAIAAQA/v/8//7/+v/2//j//P8CAAYACAAEAAQABgAIAAYACAAIAAwACgAGAAYACAAEAAIAAAACAPz/+v8AAAIABAD+//T/9v/4//7/AAD+/wQABgAGAAQAAAD+//z/+v/6//T/9P/+/wAAAAD+//r//P/6//z/9v/0//L/9v/8//z//P/6/wAA/v/6//j/+P8CAAIAAgAAAAAAAgACAAAAAgAGAAgACgAKAAYACAAKAAQAAAAEAAYAAgAAAP7/+P/4//r/+v/8//z/9v/4//r/+P/+/wIAAgAGAAgACgAGAAYABAAEAAQABgAEAAAABAAGAAQA/v/+/wIAAgAAAP7//P/4//r//P/8//j/9v/8/wIABgD+//7/BAAIAAgAAgAAAAQACAAGAP7/+v/6//z//v/4//T/9v/6//z//P/6/wAAAAAGAAIA+v8AAPz//P/8//j//v8AAAQADAAMAAwADAAQAA4ACAAGAAwACgAIAAYABAAEAAIA/v/8/wIA/v/+/wIAAgD8/wAAAgD8//j/+P/0//b/9P/y//T/+v/8//r//P/8//z/+v/2//b/+v/8//z/+v/6//r/+P/6//b/+v/+/wYADAAKAAgADAAOAAoABgAEAAgABgAIAAgAAgAIAA4ACAACAAQABAAKAAQAAAAEAAoACgAIAAAA/P/+//r/+P/2//j/AAAKAAoACgAIAAgABgD+//b/9P/8/wIAAAACAP7//P/8//j/9P/0//b/+v8AAAIAAgAAAAQABAACAP7/+v/8//r/AAACAP7/AAAAAAQACAAAAPz//P8CAAAA+v/6//j/9P/y//T/8v/w//D/+P8AAPz/+v8AAAIAAgD+//z//v/8//j/9v/6//7/AgAEAAQAAAACAAQABgAOAAoADAASABIADAAEAAYACAACAAIAAgAAAAYABgAGAAoAEAAMAAoACgAMAAwABgAAAPz/AAAAAPj/+P/6//7/AAD+/wAACAAOAAoADAAIAAQA/v/8//r/9v/4//j/9v/0//r//P/4//z/AAAEAAYABAAEAAIAAgAEAP7//v8CAPz/+v/+//7/BAAKAAwACgAGAAgABgD+//b/+P/4//b/+v/2//T/9v/w//D/7v/y//j/+P/+/wYABAD+//r/+P/4//b/+P/6//z/+v/+/wIA/v/6//7//P/8//7/+P/4//j//v8CAAAABAAGAAQA/v/6//7/AAAGAAoADAAKAAoACAAGAAYABgAGAAIAAgACAAIABAAIAAQA/v/6//r//P/6//r/+v/+/wQABgAGAAIAAgAIAAgACAAGAAoADgAOAAYAAgAIAAgACgAGAAYACgAKAAYACAAGAAQABAACAP7/+v/6//z/AgAIAAwACgAIAAAA+P/0//b/9v/4//j/+v8AAPz/+P/4//r/+v/2//j/+v/6//j/+P/4//b/+P/4//r/+v/6//b/+v/8//j/AAAAAAQAAgD8//r//v8GAAIAAgAAAAQAAgD8//r/+v/+/wIAAgACAAIAAgAEAPz/9P/4//j/+v8AAAAAAgAGAAgABgAEAAIAAgD+//z/+v/+/wIABgAKAAYABAAIAAoACgAKAAgACAAKAAgACgAGAAQABAAGAAYABAAIAAgACAAGAAQABgAEAAIAAgACAAQABgACAAQABAACAAAA/v/+//z/+v/4//j/9v/2//j/+v/2//T/9P/y//T/9v/6//z//P/4//b/+v/6//j//P8AAAIAAAAAAAgADAAKAAgABgAIAAQAAgACAAQABgACAP7/+v8CAAAA+v/4//r//v/8//r/AAAAAAIABgACAAAAAgAAAAAA/v/4//7/AgAEAAQAAgAEAAYAAgACAP7/AAAEAP7/+v/8//z//P/8//z/+P/8/wQABgAIAAgADAAOAAwABgAGAAYABAAGAAIAAgAAAAQABAAGAAQA/v/+//r/+P/8//r/9v/4//b/8v/0//b/+v/8//j/+P/2//r/+v/8//z/+P/4//j/9v/6//7/+v8AAAIAAAAEAAYABgAEAAYABAAIAAoACgAIAAQABgAIAAoACAAIAAgACAAKAAgACgAOAA4ADAAIAAQA/P/6/wAAAAAAAAAAAAACAP7/+v/8//z//P/8//r//P/6//T/9v/y//D/8P/y//j/+P/4//j/+P/2//r//P/8//z//P/+/wQAAgACAAgACgAIAAYABgAEAAgACAAKAAoABgAIAAYABgAGAAYABgAEAAYABAAEAAQABgD8//7/AgAAAAIA/v8AAAAAAgAGAAYA/v/6//7/+P/2//j/9v/6//r/AAD8//r/+v8AAP7/+v/8//7/BAAEAAYABAACAAQABAACAAYABgAEAAQABAAGAAYABAACAAIA/v/6/wAA/P/6//z/+v/8//r/+v/6//7/AgD8//r/AAD+//r//P/6/wIA/P/4//r/+v/8/wAAAgAAAAQABgAEAP7//P/8/wAAAgAAAAAAAAAEAAQABAAEAAQACAAIAAgADAAOAAwADAAIAAgABgAEAAAA/P/8/wAAAgAEAPz/9v/4//j/+P/2//b/+P/6//r//v8CAAIA/v/4//b/9v/6//r/+v/+/wIAAgACAAAAAAACAAQABgAEAAAABAAGAAIAAgAAAAQABAAEAAIAAgAEAAgACAAGAAoABgAGAAQABAAGAAQABgAEAAIAAgACAAIAAgACAP7/+v/4//b/9v/6//j/+P/4//b/+v/6//r/+v/+/wQA/v/8//z//P/6//r/+v/+/wQABAAGAAYABAAEAAYABgAGAAIABgAEAAIAAgAAAAIABAAGAAIAAgACAAIAAAACAAAAAAAEAAYABgAGAAQA/v/6/wAAAAAAAAAAAAACAAIAAgACAPz//v8CAAAAAAAEAAYABgAGAAYABAACAP7//P/8//z//P/8//r/+P/4//b/+v/8//r//P/6/wAAAAAAAAAAAgACAPz//P/8//r/+v/6//7/BAACAAAAAgAAAAIAAgACAAAABAAGAAQAAgACAAAAAgAEAAYAAgAAAAQABAAIAAoACgAGAAQABAAAAAIAAAAAAAAAAgACAAIABAACAAIAAgAAAAAAAgACAAIAAAD+//z//v/+//7//P8AAAAAAgACAAAA/v/+//7//v/8/wAAAAAAAAAAAgACAAIABgAGAAgABAAEAAQAAgACAAIAAgACAP7//v/+//z//v8AAAAAAgAEAAIAAAD+//7//v/6//z//P/8//7//P/8//7//v/6//z//P/8/wAAAAAAAAAAAgAEAAIAAgACAP7//P8AAAIAAAACAP7//v/+//z//P/+/wIAAgAEAAAAAAAAAPz/AAACAAIAAgAAAAAA/P8AAAIAAgAEAAQAAAD8//7//P8AAAAAAAAAAAIA/v/8//z/AAAEAAIAAgAGAAgACAAEAAQABAACAAIAAAAAAAIAAgAAAAIABAACAAAAAgACAAIAAgAAAAIA/v/+//7//v/+//7//P/4//j//P/+//z/AAACAP7//P/8//z/AAAEAAQAAgACAAAA/v/+//7/+v/4//r//v8AAAAAAgACAAIAAgACAAQABAACAAIAAgACAAQABAACAAAAAgAEAAIAAgACAAIABAACAAQABAAEAAQABAACAAQAAgACAAAA/v/+//7//v/6//r/+v/6//7//P/8//7//v/+//r/+v/4//r//v/8//7//P8AAP7/AAACAAAAAgAAAAIAAgACAAIAAgACAAQABAAEAAIAAAAAAAIAAAAAAAIAAgACAAIAAgACAAIAAgAAAAAAAAAAAAIAAAAAAPz/+v/2//j/+P/6//7//P/+//z/AAD+//z//v/8//z//v8CAAIAAgAGAAgABAAEAAIABgAGAAYACAAGAAgABgAIAAQABgAGAAIABAACAAQABAAEAAQAAgAEAAIAAgACAAAAAgAEAAQABAACAP7//v/8//z//P/+/wAAAAACAAAA/P8AAP7//P/+//z//P/8//z//P/8/wAAAAAAAP7//P/+//z//v/+//7/AAACAAIA/v/8//7//P8AAAIAAAAAAAIAAAACAAIAAgACAAIAAgACAAQABAACAAIA/v/+//7//P/+//7//v/+//z/AAAAAPr/+v/6//j/+v/+/wAABgACAAYABAACAAQAAgAAAAAAAAAAAAAABAAGAAYACAAEAAIAAgACAAQAAgACAAIAAgACAP7//P/8//z//v/+//z//P/8/wAAAgAAAAAAAAACAP7//P/8/wAAAgD+//7//P8AAAIAAAACAAQAAgAEAAYABgAIAAQABAAEAAQAAgAAAAIAAgACAAYACAAEAAIAAgD+//7//v/8//7//P/8//7/+v/6//r/+P/6//r/+v/6/w==\" type=\"audio/wav\" />\n",
       "                    Your browser does not support the audio element.\n",
       "                </audio>\n",
       "              "
      ],
      "text/plain": [
       "<IPython.lib.display.Audio object>"
      ]
     },
     "execution_count": 9,
     "metadata": {},
     "output_type": "execute_result"
    }
   ],
   "source": [
    "# here we have a person saying \"one\" instead of \"on\"\n",
    "utils.display_audio(os.path.join(path_to_main, \"cv\", \"on\", \"7c1d8533_nohash_3.wav\"))"
   ]
  },
  {
   "cell_type": "code",
   "execution_count": 10,
   "metadata": {},
   "outputs": [
    {
     "data": {
      "text/html": [
       "\n",
       "                <audio controls=\"controls\" >\n",
       "                    <source src=\"data:audio/wav;base64,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\" type=\"audio/wav\" />\n",
       "                    Your browser does not support the audio element.\n",
       "                </audio>\n",
       "              "
      ],
      "text/plain": [
       "<IPython.lib.display.Audio object>"
      ]
     },
     "execution_count": 10,
     "metadata": {},
     "output_type": "execute_result"
    }
   ],
   "source": [
    "# here instead of \"on\" we get background noise\n",
    "utils.display_audio(os.path.join(path_to_main, \"cv\", \"on\", \"a6d586b7_nohash_4.wav\"))"
   ]
  },
  {
   "cell_type": "code",
   "execution_count": 11,
   "metadata": {},
   "outputs": [
    {
     "data": {
      "text/html": [
       "\n",
       "                <audio controls=\"controls\" >\n",
       "                    <source src=\"data:audio/wav;base64,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\" type=\"audio/wav\" />\n",
       "                    Your browser does not support the audio element.\n",
       "                </audio>\n",
       "              "
      ],
      "text/plain": [
       "<IPython.lib.display.Audio object>"
      ]
     },
     "execution_count": 11,
     "metadata": {},
     "output_type": "execute_result"
    }
   ],
   "source": [
    "# here a person doesn't manage to finish the word \"right\" before the wav cuts them off\n",
    "utils.display_audio(os.path.join(path_to_main, \"cv\", \"right\", \"439c84f4_nohash_0.wav\"))"
   ]
  },
  {
   "cell_type": "code",
   "execution_count": 12,
   "metadata": {},
   "outputs": [
    {
     "data": {
      "text/html": [
       "\n",
       "                <audio controls=\"controls\" >\n",
       "                    <source src=\"data:audio/wav;base64,UklGRiR9AABXQVZFZm10IBAAAAABAAEAgD4AAAB9AAACABAAZGF0YQB9AAAsAXkC0gHf//QB3/9iA6YApgBtBBUCLAGQAbP+F//SAdb7QQP2/vb+xQa+/5kFpQOxAW0E6QA4/5L+Wv9a/zj/e/9YAqUD0gEKAYUAe//K/ZL+qP32/iEAkv4KAfQBAADIAJAB6/2z/hf/F/9CABf/1P7IAGQA3//dAgoBLAHpAGQACgGS/of9nvxw/uv93//U/nv/Wv/W+0IAyv1m/Xz8OvxE/Wb9h/0u/lv81vu//If9Wv8Y/E/+OP/U/mQAI/2o/SP9nvzpANT+IQD2/k/+/gJYAtT+kv7g/N//NQWz/pz/Lv6T+0/+3/9uASEAtPuI+t//fPwAAJz/yv1CAE/+QgBCAFr/sQEeBtEEvAI2At//s/4hANIBNgKlAzj/9/tYAtT+6ANiA5ABFAX+Av4CNgKQAZABeAVtBEED0gF7/24B0gGc/7wChAOFAE0B3/+xAcYDIAPGA4QD9AEhAGQAZv1Q+zj/Lv5P/pz/v/zr/S7+RP0hAFv8qvqmANb7Rvr3+wP6Lv7L+p/5v/x8/Nb7+PgO+yT6nvzg/HL7Rvr4+Hz8e/8AAC7+Dvvg/J/51vsC/ff7I/3A+Qz+kv4v+1D7Zv1m/dIBT/46/CADs/6aAioEbgEeBv0FTAT0AZAB0gGYCNEE/gLcBYQDVgX0AZL+vAIUBVgCnP98/EIAVgUM/nD+Wv+mAKUDCgEKAfb+nP8KATYCZACz/kEDvAL0AUEDbQSCBoQDvv8JBKQGugUIB1YFHgYqBIUAxgPoA9IBFQIKAQoB6QA4/8r99v5n+qr6F/8M/nL7RP1a/3v/9v5b/KYAbgF8/EIA6QDr/Tj/F/+FAAAARP0UBRIIs/5P/sgAyAAqBFz5JPrSATj/9v7U/iP9Lv7GA5z/qP1P/mb96QBm/e73Lv44/9T+9/vC9qr6F/9G+pP74Px8/Bf/tPsC/S7+Lv6mAOv9W/wAACwBDP4D+rT7RP0KAdT+6/2lA3v/vv/SAd0C3QI4/wAA3/9kAAL99AHr/cr9yACo/RQFWv+QAW4BFQKc/wAA6QC0+/4C4Pz2/kT9k/vpAMv61vsu/oUADP4hAC7+Wv/SAev9vAIAAJz/9v4hAP4CCgFiA/QBpAbcBYQDdgjyBDQITAQgAzUF3QKmABf/WAKS/m4BTQGFAAkEs/4sASAD1P5CAEIAZv1CAJL+1P6wBNT+vAIUBdT+ZABP/rEBxgMM/mQALAFNAU0B/gJ5AtEEpQOQAQkEWAKFAJz/OP/3+xf/DP7IANT+RvqQASwBCQQj/Xz8AAA4/9T+4vnU/of9F/8M/p78LAFa/4UALv4X/7EBIANiA6j9OP9kAEED1P4C/SEAs/7K/XP4L/uo/Qz+y/r4+JL+s/6c/6r6yv1a/y/7T/7A+S/7v/z3++v99/tP/jYCOP8j/Tr8h/1BA1r/I/02AsYDIAPU/lgCIAPRBJoCQgDFBtIBKgQVApABmQWxAdEE3AViA4UAKgTdAt0CKgQKAWIDZADf/77/CgEu/lr/6/3U/o4Ekv7yBCADOP+kBqYAvAJ5Avb+0gH2/gAAsQFCABf/kv68AiEAhQAAAFr/hAMu/hf/mgKQASEAkv4Y/G4BAv3i+QAAqP0hAFD7qP32/lv8T/7s+pAB4Pyo/ekA1vtP/lz5UPtNAff7cP6mAPQB0gGQAfQBLAHU/iP93/9E/Xz8OP86/C7+1P72/lgCCgFw/jYC0gHU/gkEF//f/0/+h/3GAwL9RP1m/dIB6QB8/JL+Zv3RBJ78RP0X//f7TQGe/HD+h/2e/JL+9v4Y/J78IQCH/Zz/XPn3+8YDZv1P/nD+QQOOBE0BWv/0AdEEWv8sAZz/eQKaAof9/gJuAdT+vv+mAPb+yABkAGQAmgIj/SAD6AP0Af4CTQF2CAkEQgDRBMUGQQMu/iADKgRiAwz+vv+wBAoBQgCz/iADIQBP/jj/kAF5AuD8jgTIAIUANgJm/RUCF//2/sgAhQBa/3v/AACz/kIARP02AlgCAv2FAPb+vv8hAFv8qP3f/7P+yADf/y7+TQFP/k/+1P6S/nv/DP6o/ZL+vv+o/cr9Lv4Y/HD+Wv9w/goB6/2c/7wCAAA2AgoBhQBNAekApgClAwoBTQHpAIf9hQA4/+v9kv7U/nv/nP9uAfb+CgEX/woBQQOFAI4ECgEJBEwEeQLRBJABkAFNAaUDFQJuAfQBLAGFAL7/9AFYAlgCFQJuATYC9AEVAjYCNgJNARUCTATdAt0C0gFiA0EDQgAsAZz/6QB7/9T+OP84/zj/nvw4/7P+e/9kAHv/3/9w/r7/yACmAHD+pgAhAE/+F/98/CwBkv6H/UIAOP9uATj/kAGxAZAB6QDIADYCs/5a/3v/TQHpABf/LAEKAaUD0gHf//QBhQC+/7/89v7f/1r/kv4C/Zz/cP6FADj/6QAKAUIATQHU/mQAT/6FAPb+hQD0AVr/TQFkAGQAyv1E/cr9qP17/zr8kv6o/Zz/1P5E/UIAs/4AAHv/Wv9P/kIAIQAX/1r/qP3pAAAAvv8AAHv/9AFa/xf/yAAhAJL+9v4sAXv/F/+S/iEA6QB7/xf/1P4KAb7/hQB5ArwCIAPpAKYALAFuASADNgJYAkwECQToA9IBvv9NAU0BkAFNARUCeAViA4QDhAP9BdwFxgPRBBQF0QRBA7EBsQFYAlgC/gK8AlgC9AEKARUCkAFkAEIAIQDf/1r/Wv8AAL7/IQAhAJABZAB7/5z/s/72/uD86/0M/qj9I/2S/nD+Lv6o/cr9nP9w/nv/s/72/hf/4PwX/+v9Lv6H/U/+IQAM/qj9I/32/r7/cP5CADj/3//r/Yf96/2T+yP9W/xP/hf/6QD0AekALAFa/7P+Wv+QAcgAhQAKAW4BCQSQAd0CkAE2ApoCIQDdAjYC3QJBA3kC3QKQAbwCmgLdAkEDNgLoA2IDmgJNAW4BmgIVApAB9AGaAqUD3QIsASEA3/9a/3v/T/5w/rP+OP84/wz+yv1a/0IAyACc/8gA6QAKARf/cP6S/pL+QgDf/ywBIQDpALwCsQHpAHv/kAEsAZz/yACFAHkCbgEsAVgCmgLRBHkChAP+ApABvAKaAlgCnP/pAGQATQFNASEAsQGQAXkCAADf//QBkAG8Am4B9AEsAXD+3/8j/Xv/Lv44/6YAkv5CAC7+Wv9b/Nb79/u//Az+fPzK/UT93/9P/nD+yv1m/U/+I/3r/Yf9T/6H/XD+OP/g/Gb9GPwj/eD84Pz2/k/+OP/2/k/+OP8u/of9I/0M/hf/6/0M/pz/AAAKAQoBeQJYAukATQG+/77/F/97/77/e/9NAdIBvAIVAt0CxgNBA/4CsQG8Am4BeQJYAjYCIANBA0ED6QDdAv4CpQOxAekAWAIKARUCpgBCAG4ByACmAJz/Lv7g/J78fPz3+xj8I/3U/of9Zv2S/tT+IQC//OD8k/sk+gP6fvk6/Kr6A/pn+g77v/xb/CP9fPxb/If9s/7pACwBvv9a/5L+T/6//C7+kv6S/nv/T/7IAKYAsQEVApABbgG+/00BTQE2AvQBeQKlA5oC/gJuAf4CNgJuATYCCgEVAiEApgDf/5z/pgDIAJABWv8AAJz/e/9CAC7+yv3r/Yf9Av0Y/Fv8L/sY/ET9yv2+/woBFQKmANT+9v5w/mQAnP+mAOkALAHpAPb+e/+S/mQAQgCFACwBpgCEA/QBbgHIAFr/IQCH/UT9yv1a/9//hQDIAN//LAFNAdIBbgEsAW4B6QBuAaYAsQGxAdIBvv97/6YAOP/f/5z/hQBuAUIAhQAKAbEBeQIVAiADWAKxAXv/ZAAhACEApgCc/3v/6/2S/t//e//f/3v/IQCmAFr/kv7K/Qz+1vtb/AL9T/4X/0/+1P4C/Yf9OvwY/J78v/z2/gz+vv84/0IA1P6c/0T94Pyo/Xz8e/9P/mQAZABuAWQAnP/pAKYAyAB7/77/CgEKATYCbgE2AvQB9AF5AiwBLAFkAOkA3/8X/xf/e/9NAVr/bgGmAOkA6QBCAL7/cP4AAJL+QgCo/ZL+9v72/nv/3/82At0CeQK8AmIDpQPoA3kChANYAvQB0gHpAKYA6/3r/b/8h/3g/Mr9cP7r/XD+T/4hAGQAhQC+/3v/Wv8M/of9Wv+S/nv/cP6S/pL+OP/f/6YA9AH0AZoC/gL0AdIBCgGFAIUAF/+mAN//6QCc/yEAyADf/wAAs/5CAIUACgGFAL7/6QDIAE0BAACmAFr/QgAhADj/CgFa/ywB3/++/77/kv5kADj/hQDpACEANgJP/pL+RP3g/LP+GPz2/p789v5w/uv9AABw/iEA9v6FALEB0gHSAekAZAC+/9//QgCmAKYAAABCADj/F/8j/aj9qP3r/ZL+I/2c/77/9AFYAgoByAC+/9//nP+c/wAAbgHpAKYAOP97/3v/Wv97/1r/6QA2AoQDIANYAlgCkAHSAXv/nP8AAJz/IQAX/9//hQAhAGQA9v5a/1r/OP/2/k/+AABCAAAAF/9w/jj/1P5a/7P+kv4hAN//yADf/77/pgDIACEA6QDf/00BQgCmAMgATQHoAzYCNgK+/2QAOP84/zj/s/6FAAAAkAHpABUC6QAsAb7/QgAKAYUAsQFkAIUAOP8X/7P+F/++/4UAyACFAN//pgCmAMgA6QCFABUCCgH0Ab7/QgC+/8r9h/1b/If96/0u/kT9h/0M/i7+6/0X/yEAZACc/2QAIQC+/5z/Wv/U/nD+F/+S/kIA3//SARUC6QAKAbP+LAH2/rP+DP5m/b7/1P6c//b+T/5a/77/AAAAAMgALAEhAE0BIQA2AtIByACaAk0BNgIAAGQAIQDf/5ABpgDdAhUCFQIVAk0BkAEKAbEBLAFYApoCFQKxAUIAvv/f/yEAWv8X/wz+DP72/sr9e/97/00BTQGFAOkAe//f/+v9T/4X/9T+OP/U/r7/pgBkAMgAvv/f/5z/3/97/2b91P6H/Vr/h/1w/hf/Lv5kADj/bgGxAZoCFQIsAekAAABkAL7/3/++/+kAAAAhAN//bgFuARUC6QDIAGQA3/8AAJL+Wv8X/wAAIQDIACEACgHSAUIAkAHIAAoBAAC+/woBhQAsAUIAIQC+/yEA3/+mAJAB9AFYAtIBCgFkAEIAAABCAKYAsQEsASEApgB7/wAAF/+z/of9Av2o/Yf9qP2S/mQAkAHpAG4BbgH0AQAAF//U/qj9kv4j/fb+6/3U/tT+Lv6c/3v/TQFkAGQApgAsAU0BLAFkAJz/9v7U/kIAAAAKAcgAWAJNAdIBZABkAAAAF/+c/3v/QgAX/4UA3/8hAJL+OP9w/nv/nP97/9IB3/+xAdT+yADU/tT+yAAM/goBqP2FANT+nP97/y7+sQF7/ywBIQAAAEIAkv7f/77/TQFYAsgA0gHSAfQB9AGmAMgAAACc//b+3/+c/1r/cP6H/dT+F/8KAVr/vv9a/4UATQHpACEAF//SAVr/yABw/iP99v58/Pb+yv0X/77/s/5uAUIAbgHIAEIAyADf/ywBQgDpAL7/F/8sAZz/NgIsAbEBmgKxARUCvv+FAFr/3/9CANT+9v7r/Zz/3/9CAFr/OP/IAOkACgEAANT+OP+c/wAAF/9w/sr9Wv8hACwBCgGmAAoBIQCmAKj91P5w/tIBFQJCAAoBh/1kAL7/QgA4/3z8T/72/tIBLAF7/zj/Wv9uAaUD/gLIABj8Lv5P/pz/h/3A+eD84PyEA/4CFQIsAdT+CgHf/7EBIQAAAAAAF/9kAL7/sQGxAf4CpQO8AkEDvAK8ArEBWv+o/SP9Lv57/+kAyABuAbEBWAK8AvQBvAKEA8YDFAWOBKUDsQHf/9//QgCmANT+F/+//NT+DP7K/XD+v/xkAFr/WAKQAaYApgBw/t//T/5a/9T+nP9CAEIAnP8M/sr9qP0X/+kAyACFADj/Lv4X/5z/ZABkAL7/vv/2/qYA6QB5Ak0ByACQAcgAeQKQAUED0gEVAtIBCgHSAUIAyAB7//b+1P44//b+CgFCANIBNgIKATYCF//dAmQApQPpAL7/CgGz/hUCvv/+Alr/bgGmACEAmgLU/k0Bvv9kAAAAs/5a/0/+ZADU/nv/CgEKATYCsQGmAMgAkv7pAN//kAGmANT+6QDU/oUAIQBCAG4B3/8hAGQATQGFAL7/nP+o/ZL+4PwC/b/8I/1P/nv/OP/U/t//QgAKAfQBkAF7/0/+6/3r/d//s/7U/gz+qP1w/hf/Wv9a/3D+1P6o/QAAZv1w/sr9h/0sAcr9IQAu/t//bgEsAUEDZAD0AcgAZADpAPb+hQC+//b+Wv8u/t//cP6c/1r/s/6mANT+bgGmAE0BsQF7/+kAZACxARUCWAJ5AsgAsQEhAJABLAG+/5z/DP6z/jj/QgDpAMgATQHpAGQACgHf/4UAAAD2/kIA9v7IAHv/QgAhACEAQgCS/vb+s/5CAEIAIQCc/xf/9v6S/tT+ZAAhAOkAhQC+/5ABLAGaApABbgHIAL7/hQBP/gAA1P4AAHv/e//f/9T+3/+c/6YAbgF7/wAAAACFAGQA9v6c/y7+9v4hAN//CgG+/+kApgBCACEALv6+/8r99v4X/4f9F/9m/U/+DP6S/oUAOP8KAVr/IQB7/77/IQB7/9//nP97/+kAvv+FAHv/3/9kAL7/TQFP/t//nP/2/rEBWv+QASwByAD0AQAAvALIADYCNgJkAKUDZAC8AqYAyADSATj/0gFw/goBZADIAE0Bvv/IAKYApgBNAUIAQgAhADj/3/97/ywBNgLSATYChQCQAZAB6QD0AWQAbgFCAJABhQAhAOkAWv8VAr7/QgCFAKYAvAKQAZoCbgHSAQoBhQCc/9T+6/2o/SP9I/3U/i7+OP9a/3v/TQEhAMgAWv+mADj/F//U/r/8yv2e/JL+RP1m/cr9Zv2z/iP9nP+S/gz+RP06/E/+fPyz/sr9cP5kAHD+LAH2/pz/e/9w/mQAyv3f/8r9yv2z/uD8e/8j/Vr/s/5P/r7/1P7pAHv/OP8X/xf/vv++/7P+IQBa/77/QgBkAAoBe/+QAekAFQIVAiwBCgHf/00Bvv9NAekATQGxARUCmgLSASADsQFYAjYCbgE2AqYATQF7/4UACgEAALEBbgEgA5oCvALdAnkCeQL0ATYCWAIsASwBhQCmAGQA9v4AAHv/CgGmAOkATQHIAKYAAACc//b+nP9w/i7+Zv0u/nD+9v4hAGQANgKQAW4Bvv97/3D+T/4u/gL94Pzg/L/8I/2H/ZL+Wv9kAGQAZAAhAAoBWv9a/5L+yv2o/Vv8nvzW+1v8I/2//JL+yv1a/xf/vv9a/5L+F//r/fb+Zv0C/UT9Av2S/pL+1P5a/5z/9v4X/9T+Wv9a/3v/Wv97/2QAhQAKAekAyAAsAbEB6QCQAYUA6QAhACEAhQC+/00BhQBYAtIBbgFYAukAWAIsARUCFQJkAE0BLAHIAJABbgGaAv4CxgPRBMYDCQTSAbEBNgKc/00BnP8sAZABhQAVAt//vALSATYCmgIhAE0B3/9kAOkAQgAVArEBpgBuAaYACgGFAN//hQBkAMgAvv++/0IAe/9CAN//3/9CANT+OP8u/gz+DP4j/cr9yv0u/rP+9v6S/k/+6/2z/uv9s/4M/kT9T/4C/cr96/2//LP+h/3U/pL+qP0X/6j9T/4u/gz+e/8M/nv/T/6S/iEA1P72/i7+cP6z/pL+kv7r/bP+OP+c/3v/3/+z/iEAe//f/yEAAAAKARf/pgAAAN//LAG+/ywBF/9CAKYA3/9YAk0BeQIVAlgCWALSAYQDpQOaAoQD3QKaAqUD9AEVArEB9AEKASwBNgI2AqUDhANiA9IBkAEsAYUAZAA4/5z/3/8sAQoBvAKaAjYCNgIKAbEBhQAKAfQBCgGxAaYACgEVAtIBkAHIAIUALAEKASEA6QCmAKYAAAAAAOkAyACFAFr/cP72/pL+vv9E/Yf9RP0C/XD+T/7f/wAACgHIAL7/F/+z/gz+T/6H/Vv86/2o/Tj/DP44/5L+T/5CAJL+hQBa/wAAe/8C/Rf/Zv2z/lr/s/6mAEIAQgBkAFr/LAGmAAoBQgBa/4UA3/8hAIUAyADpAMgA6QAKAcgATQGFAL7/6QBCAG4BQgDIAEIAIQAKAaYAFQIsAYUAs/57/9//3/9a/77/vv9kAPQB6QDSAQoBCgH+AjYC6ANuAYUAIQD2/jYCnP9CAN//pgA2Ak0B9AE4/8gApgCxARUChQDIAFr/QgAhAPb+3/97/zj/ZADpANIBWAIVArEBTQEsAVgCTQFCAN//1P5kAHv/nP9w/tT+F/9a/2QAhQD0AaYATQFkAEIApgDf/8gAZABkAGQApgCmAEIAZABkAN//Wv++/2QALAHpAHkCsQE2ApABpgCFANT+DP6H/Wb9h/2H/ev9e/97/9//OP/2/hf/cP72/k/+cP4C/Xz8fPwC/SP9fPy//J78T/7U/mQAQgAsAekAhQAhAJL+OP8X/6YACgFuAbEBQgD0AekAbgG+/5L+AABCALEBbgG8Av4CNgKQAb7/s/4AALEBkAH0AekApgDpAFr/Wv84/4UACgFuAWIDWAJMBMgApgBa/zj/TQGz/tIBTQEVAgkEyADSAfb+Wv9a/6j9vv/K/QoBAADpAE0B1P4hAHD+QgCc/4UAkAH0AVgChQBNASEA6QAhAEIAIQCFAPQBZACFAAAAnP9a/wz+yv0u/nv/yACc/wAAOP8hAFr/s/5w/gz+F/8u/lr/6/0X/5z/OP+c/7P+cP4X/wAATQG+/5L+3/+mAG4B1P4X/3v/IQBkAOv96/3r/b7/Wv8j/ff71vuH/bP+4Pz2/pz/sQGaAhUCmgKxASwBIQDf/00B/gJ5AgkE/gIJBLwC0gG8ArP+bgHU/ukAbgF7/5ABT/6FAL/8I/0M/qj9yACc/2QApgDf/8gAT/4AAJz/ZABuAcgA/gIKATYCpgBkAEIAnP9CAGQA3QKaApoCbgG+/5z/9v4X/7P+3/++/2QApgAAAJz/1P4AAN//ZABkAOkA0gHSAVgCbgHpAGQAyAAsAaYAQgAAAEIAQgB7/0IAAAA4/7P+DP5w/uv9Wv9w/i7+nP/f/+kA9v7K/XD+kv5a/1r/IQAsAekAAADf/1r/IQBCADj/F/+S/r7/9v7r/dT+4Pwu/nD+cP6+/3v/pgB7/yEA3/+z/pz/vv84/1r/qP0AABf/3/97/0/+QgBa/9T+Zv2o/cr96/3r/U/+6/17//b+DP7r/Vv8qP0u/r7/Wv+c/6YAIQBkAAAAIQBNATYCbgHpAIUATQGmACwByADIAAoBTQE2AiwB9AGxATYCZADU/nv/ZADpALP+e/+mAJABkAHf/0IAhQCxAaYAe//pAOkAsQGQAbEBFQKaAt0CbgFuAQoBLAHf/4UAQgCFAEIAnP8AAE/+T/7K/Qz+1P7g/E/+Lv7K/Xv/6/2c//b+3/9a/6j9hQAhAG4BLAGmACwBnP8KAdT+T/6+/3v/AABP/tT+T/4C/eD8k/s6/Dr84Pwj/eD8cP5P/kIA9v7U/mQAIQD0AaYAbgHpABUCWAKQAekAOP9NAQAATQEAAEIA0gEhACwB1P7IAAoBnP+FAJL+LAHU/pL+kv7g/AAAkv57/9//9v4sAd//CgFuAYUA/gJNAZABpgDU/ukA9v6FABf/qP3U/p78cP4C/aj9IQA4/9IBZABuAfQBpgDpAAAAhQCmAMgACgHIAE0BeQKaAt0CeQJ5AtIB6QCxAQAA6QDpAJz/IQA4/yEAcP5P/nD+4Pwu/gz+kv72/lr/hQBkACwBQgDf/5ABTQEVAkIAIQBkAFr/F/9E/S7+yv0M/i7+kv57/7P+s/7r/ZL+T/5w/nD+h/2S/k/+1P7U/lr/s/4X/0IAnP9kAAAAkAEVAhUCvALIAG4B6QDpAOkAnP9kAL7/QgD2/rP+9v6S/r7/kv72/hf/OP/IAHv/1P4M/tT+nP8X/4UAvv+FAEIAZABCABf/QgBa/3v/nP++/+kAIQDf//b+OP8sAXv/vv/2/pz/hQCc/8gAAACaAvQByABNAd//TQGFAMgAsQFuAbwCNgJuAQoBCgGFAAAA9v72/t//6QD0AQoByAAhAIUApgC+/0IAe/8hADj/T/6+/y7+vv8M/gz+kv4M/iwBWv+mACEA3/8KAXD+hQA4/9//nP8M/pz/cP4hAFr/F/++/4f9F/+c/1r/QgC+/5ABLAHf/zj/s/5kAAAAWv84/yEAhQAKAaYAhQAsAekALAFCAOkAyAAKAcgAWv8X/+v9Wv9P/nD+s/6+/+kAQgAhABf/QgAhAEIAAAC+/2QAnP++/3D+s/4hAAAACgEAAAoBsQHSASwBIQAAAHD+cP5P/pL+vv84/9//IQC+/9//e/8X/9T+AAAhAIUAkAEhACEACgHSAbEB6QBCAEIAkAEKAb7/AAAhAMgAZACFAKYAZADpADj/ZAAhAJz/IQDU/lr/OP8X/zj/T/5a/1r/ZADIAJz/IQAu/nv/3/8AAAoBZAD0ASwBTQEAADj/Wv97/2QAvv9kAKYAyABCAGQAAAAhAAAAe/8hAL7/bgFYAvQB9AFCAE0ByACmAIUAZABYAukA9AH0AaYAsQGFACwBWv8hAOkAF/8AAET9DP6S/i7+h/0j/dT+T/5CAJz/vv9kAEIAnP+z/nv/OP9P/uD89/sj/bP+OP+c/zj/TQHIAOkAAABCAIUAIQCFAPb+1P7U/k/+T/4u/tT+F//f/9//nP8KAekAmgJkAGQAIQCc/9IB3/9uAXv/FQLIAHv/yACz/iwBnP+FADj/1P4AAE/+F//U/hf/QgDf/5z/s/57/5z/F//U/jj/pgBCANIBNgK8AiADQQM2At//CgF7/5z/3/+S/kIAAACxAekApgDpAIUA0gFuASwBpgCmAOkAQgCc/2QAyABCABf/1P7f/yEAyAAhACwBsQEKAaYAhQCc/77/e/9w/pL+vv8hAIUATQEsAaYAnP8KAZz/IQA4/xf/nP/2/nv/Lv5CAKYATQFuAUIAyADf/xf/T/6H/dT+1P6+/yEAWv+c/3D+F//r/U/+yv0u/nD+F/97/5z/LAEAAGQA3/+xAYUAhQCmAFr/kAFa/yEAcP6S/pz/T/44/6j9OP+c/77/ZAD2/t//nP8hAEIA6QBYAm4BvAIsAcgAAAAAACEAF/8hABf/pgDU/nv/vv84/4UAT/4X/3D+ZACc/9//6QD2/k0BTQFYAiwBkAHpAIUAIQBw/t//s/6+/1r/ZAAsAU/+kv4j/bP+IQAsAU0BQgAhABf/LAEVAnkCQQPGA+gD9AHIAN//Wv9w/pL+T/57/wAApgDSAekAhQAAAL7/QgB7/2QA6QB5AhUCkAFkABf/QgC+/0IAe/9CAG4BQgCFAHv/pgBCABf/s/4u/iEAe/9CAHv/e/9CACEApgA4/xf/DP5P/sr9Lv4AAAAAkAGmACwBAAD2/oUA9v5kAHv/6QCQASEALAGc/3kCTQGFAJz/cP7IAPb+e/+z/hf/nP/U/pz/nP8VAm4BbgGmAGQApgCFABUCTQH0AU0BsQEsAUIA3//2/lr/h/3K/Xz8DP7K/aj9AACc/9IByABuASwBbgGaAiwBWALpAMgAIQBa/7P+Lv6z/i7+OP8M/pL+F/9CAMgApgDSAcgA/gI2AjYCTQGmABUC6QBYAmQATQEKAXv/IQCz/kIALv6+/y7+nP/f/+v9OP/K/SEAnP/pAOkApgA2At//1P6o/ZL+e/8sAYUAe/8X/3D+s/7r/bP+qP3U/t//ZAD0AcgAFQIsAW4B6QB7/8gAIQAsASEAQgCc/wz+qP06/Mr9qP3U/vb+nP8hAHv/CgFuAZoCWAIVAukAnP97/5z/CgGQATYCQQNYApoCNgLIAFr/Lv7K/cr9DP6o/U/+9v7pAIUATQH+At0CxgOaAjYCbgGFAAAA9v6+/3v/AAC+/77/IQBw/hf/Lv5a/+kApgClAzYCeQIsAaYA6QA4/5z/s/4hAL7/9v4X/y7+1P72/kIAIQAAAN//AAB7/77/3/9CAE0BkAHSAZABsQGxAekA0gGQAQAAIQAu/hf/1P57/6YAQgCFAPb+F/8u/k/+Wv97/yEAAACmAKYAZAAhAAAA3/97/5L+cP4X/0/+e/9a/77/IQB7/0IA9v6c//b+s/57/6j9qP2e/ET9T/5w/pz/e/9CAJz/Wv9CAKYApgAsAbEBpgAhAHv/OP8AAAAAIQAhAN//vv8AACEAZADpAPQBbgGFACEAIQBkAEIApgBa/2QAe/+c/9//vv+QAWQA0gGFAE0BTQHpABUCQgBNAUIAyADf/5z/pgDf/00BTQFkACEAZADf/00B6QBNAaYA3//pAOkAmgIsAaYAyAA4/6YAT/7pAL7/QgDpAKYA/gKQAbEBF/9a//b+e/8X/9T+OP/U/t//T/5kAC7+F/8X//b+ZAB7/5ABAABuAb7/OP84/7/8s/5m/fb+OP+c/wAAWv9kAFr/pgB7/5L+1P6z/qj9h/1w/gz+F//r/Xv/3/8AAHv/1P5CABf/e/8u/jj/IQCmAOkAZAD0ASwB0gG+/9//nP84/5z/vv/IANT+hQAhAPQBsQFkAKYAkv6FANT+OP++//b+F//2/oUAZADSAQoBpgAhACEAQgDU/ukAnP/f/1r/3/9CAL7/LAGFANIBvv++/0/+cP5CACEAFQLpAPQB3/8hALP+9v5kAGQApgB7/woBvv9kACEAIQDpAAAApgDU/vb+6/0u/jj/1P6FAAAApgB7/5z/nP9CACwBZADIAN//nP/f/yEAWv9CAEIAyAAAAL7/6QDf/6YA9v7f/wAA9v57/3v/TQHpAG4BpgDpAG4BbgHpAEIApgCc/77/1P44/7P+s/44/zj/LAE4//b+yv2S/nv/OP/IAAAA6QDU/hf/1P6z/r7/DP5a/9T+vv84/xf/Wv9w/jj/AACc/xf/3/8AAE0ByADpAEIAnP9CAFr/yAAAAKYA3//2/vb+kv4hAFr/ZABa/6YAAAAX/77/9v6FACEAhQB7/8gALAFCAG4BCgGxAWQA6QBkAN//yAAhAOkALAHSAaYAsQFuAW4B0gFNAdIByADpAKYA0gH0AW4BCgEhAMgAvv++/xf/3/97/wAACgHf/zYCIQBNAYUAhQCFAAz+vv+S/vb+yABkACwBCgF7/wAAOP97/5z/kv57//b+3//2/pL+QgD2/qYAs/7U/gAA1P5CAPb+CgHIAEIATQG+/5z/3/+c/5z/3/+c/3v/1P7f/7P+OP+c/77/hQAAAE0BbgEsASwBF/+c/7P+qP2S/lr/IQAAAL7/OP97/7P+kAFa/0IAZAAhAOkAvv8KARf/3/9w/k/+Wv8X/9//9v5CAGQAF/+c/7P+Wv+c/77/IQCmAOkAhQDf/0IAhQA4/yEAe/9CACEACgGQAZz/pgC+/+kAsQHIAKYA3/9uAbEBvv97/xf/9v5CAAAA3/+FABf/yACFAG4BbgFa/77/cP4AAHD+T/5P/sr93/+xAd0CmgLpACEA1P6c/ywBAAB5AqYApgBNAYUAkAF7/6YAkv4M/lr/OP8KAQAATQGmAIUAQgDf/7EBFQJ5ApoCvALIAPb+cP7U/gAAAAAKAWQAnP8AABf/AAAAAL7/e//f/2QAQgBCAN//OP/U/pL+T/6S/pL+DP7U/tT+F/+z/pz/nP8hAOkA3/+FADj/IQAAAAAAhQC+/2QAOP9kACEAWv+FADj/AABkAAoBCgG+/zj/h/2S/tT+nP/IAKYA6QAX/1r/ZAAsAekAyADf/2QApgDf/3v/1P57//b+nP/2/t//hQB7/00BIQDIACEAnP/2/pL+1P4M/kIAQgDIAJz/pgD2/pz/QgAKAcgAvv9CAPb+ZAAhAGQAhQDSAWQACgEhAGQAQgCQAdIB6QD0Ad//pgCFAIUAQgDf/0IA3/9a/5ABLAEVAiwBLAGmAJL+1P4C/Zz/QgDU/pz/Lv6z/rP+OP8hANT+AACS/t//F//2/jj/9v57/5L+kv72/pz/IQCFACEAhQC+/5z/3/8KASEAZABa/xf/OP8u/nD+9v6mACEAhQBCAAAACgFNAfQB0gGmAGQAe/8AAN//Wv9kAEIAhQDSAbEBbgGFAKYACgEAAEIA6/3K/bP+F/+mABf/6QB7/ywBmgJCAE0Bvv9CAKYAZACFAAAAIQC+/77/IQD2/lr/e/+FABUCbgFYAhUCpgCQASEApgAhAJz/pgAAAMgAhQCFAAAATQHpAE0B3//pANT+hQC+/7P+sQHr/TYCOP9CAL7/1P7pADj/pgBP/jj/F/8u/gAAF/9kAAoBnP/f/5z/9v44/5L+1P6z/uv91P4M/nv/F/9kAIUAZACFAFr/IQB7/xf/AACFAHv/ZABP/vb+1P44/zj/cP7U/gz+F/84/3v/3//U/tT+1P4M/pz/nP/IAIUAhQCmAFr/F/+S/gz+6/3U/k/+1P6S/t//vv/SAZABAACxAcgACgHIAKYAhQDf/0IAe/84/2QAnP+mAEIApgBCAIUALAGmAMgApgCmAL7/hQDU/mQAOP9kACwBCgFiA00BNgKFAE0BLAG+/8gAT/5a/wAApgBYAtIBQQNYAt0ChAOxAbwC6QCmAL7/9v4AANT+6QDIAOkA9AFNAcgAZACc/7P+T/4X/wAAvv8KAcgAWAJNAekAbgH2/gAAOP8u/kIA3//f/0IAWv8AALP+3/97/wAAhQCc/8gAcP4hAJL+1P5a/2b9Lv6z/rP+e/97/xf/vv/U/lr/F/9w/nD+9v6S/uv9Wv9w/t//pgAsAZABbgGFAJz/1P6//CP9cvv3+7/8DP6+/77/ZAAhADYCQgCQAd//1P6mAFr/hQAX/5z/cP6S/tT+OP9CAFr/TQGmAAAALAFCAGQAZABCAEIAyAAKAXv/CgHf/9IBFQIKAXkCbgEVAmQAIQAX/8gA3/+xATYC9AFMBN0CxgPGA0EDeQIVAvQBWAIgA00BLAEKAekAmgI2AjYCeQJ5AhUC9AE2AgoByAAhAAAAnP/pAEIAyABNAU0BNgIKAZABIQAX//b+Zv3K/XD+s/5P/i7+Lv4X/0/+kv4u/vb+F/9m/Vr/h/0u/gz+I/3U/mb9kv6H/Rf/s/6S/p78Av2H/eD8yv1b/CP9RP2S/uv9F//U/gz+T/4C/Xv/e/9CAIUAvv/f/5z/1P6z/sr99v4X/9//hQBCAE0BTQGmAJz/AADf/wAAe/+mAMgACgEKAYUA6QBCAAoBQgBuAekAsQG+/2QAQgCz/sgAAADSAcgAFQL0AWIDWAKQATYC6QAgA6YAvAIKAdIB9AEKAdIBF/9uASEAhQA2AgoBNgKmACwB0gHpAG4BhQB5AgoB3QJYAkIALAEu/mQAe/8AAAAACgEAAHkC9AEKAZoCe/9YAgAA9AEKAQAATQGz/iwBs/4hAFr/1P6c/77/hQDIAHv/IQCc/5z/OP8hAAoBvv9kAC7+s/5w/uv9Zv3r/aj9cP5P/nD+ZACz/gAADP4hAOv9OP/K/XL7kv7W+1r/6/2z/i7+Lv44/y7+F//U/r7/Wv84/4UAnP8M/gz+I/3U/k/+Lv4X/9T+OP9kAKYAsQEsATj/vv/U/hf/fPzK/db7Zv04/9T+CgFCALwCCgGFAKYAAACc//b+IQAAAJz/bgEAACwBCgG+/xUC6QD+ArEBeQJ5ArEBNgKQAZoCNgI2Am4BNgLSAd0CTQFNAUIAeQI2ApABQQMKAYQDZADpAEIALAGQAYUAFQK+/+kAhQBNAYUAnP8X/3D+F/97/6YAnP9a/+kATQEgA4UAnP97/9//eQJuAcgAvv++/5z/IQC+/yP9v/z3+5L+vv9kAJL+Av1m/QL9OP/2/jYCCgHpAMgAcP5CAKj9s/4C/UT9kv72/k0BWv++/0/+h/3r/Wb9yv2S/gz+Av3K/ZL+e/97/7P+e/84/yEACgEhAAAA6/17/3v/3//f/9//QgDIAFgCLv44/yP9cP57/5L+F/86/Ov9Zv3f/8gApgDSAU0BFQLoAxUCkAG+/wAAsQF7/3kCWv8hANT+OP8VAsgAKgRYAkEDxgMVAvQBZAB7/00B9v6FAE0BbgFtBJoC0QT+Av4CNgJCAKYAIQCc/3v/F/+c/2QAhQCQAaYATQGFAMgApgCFAJoCkAFYAiEApgAAAIUA3/+o/UT9Av0M/mQAQgBkAAAAnP+FADj/3/9P/hf/yv3r/XD+kv7f//b+3//f/yEAnP84/xf/6QDU/nv/W/z3+wz+v/zf/+D8s/4M/rP+F//g/AL9fPye/Kj91P7U/tT+h/0u/mb99v4AAGQACgFuAcYDvAL+Ak0BIQAAAN//ZACmAHv/AACc/0IAyABCAL7/e/9CANT+LAGc/6YAQgBCAKYA3/8KARf/bgGFAPQBNgL0Af4CIANtBDUF8gRiA24B6QBuAZL+pgA4/77/TQFCAGIDTQG8AgoBpgBuAZz/hQA4/1r/3/++/1r/IQC+/ywB3//f/2QAAABCAIUATQHIAKYACgEKAXv/nP9P/of9Zv3K/Xz84PwM/hf/yAA4/0/+cvsj/U/+1P5CACEAZADpANIBWAJYArEBCgHIAPb+Lv4u/mb9Lv72/t//pgBuAbEBLAEAAFr/RP2//Mr9qP2c/7P+9v57/wz+F/+z/r7/3/+mALEBFQJiA3kC3QIKAYUAT/6c/xf/IQDSAb7/TQG+/00BkAHSAbEBkAGmAL7/F/8u/pL+h/1CANT+yADSAZABQQM2Am4BpgCFAIUAZAAKAU0BIQBuASEATQHIAKYAhQBa/24BWv8sAekA6QAsAQoBWALIAE0BAADf/0IAe/9a/y7+3/+FAJABNgLpAJABQgCFAIUATQFuAYUApgDSAVgCsQGQAd//OP9a/woBCgFNAU0BAABkAFr/AAAAAIUAFQJCACEA9v44/9T+kv7f//b+CgHpALEB0gFCAOkAOP8AAJz/3/++/0/+vv/U/qj9T/7g/L/8cP5P/kIAkv7f/+v9DP5a/578IQC//NT+kv4u/nv/I/0u/iP9T/6c/5z/IQAKAVr/e//K/ev99v4AAGQA3/8AAE/+F/+S/rP+Lv7K/Rf/s/4KAaYAAABNAXv/e/+c/zj/QgDpADYCmgI2AqUDNgJiA7EBbgGxASEAkAGmAPQBLAEVAm4BsQHdAlgC3QJYAjYCTQHSAQAAhQCFACEAnP97/9//e//+Av4CeQK8ArEBLAGFAAAAIQAAACEAyADIAJAByACmAPQBLAHSAdIByACS/kT9s/5P/mQA6QCc/4UAOP97/zj/OP9kABf/hQBP/k/+F//2/qYAvv/IAJL+Av33+578DP6c/4UAWv8X/xf/cP6z/nv/vv8X/xf/1P4M/gz+6/3f/5L+kv5b/L/8qP3r/Zz/s/6mAC7+TQEAAMgA6QBw/ukAF/+aAiwBZACFALP+TQGmACEAZADU/kIAIQBCAAoBIQA2AiEACgFCAOv9cP6H/dT+s/6z/pz/s/5kAG4BFQKwBPQB9AFCAGQAyACmAEED9AGEA7EBLAFNAd//0gGQATYCNgLIABUC3/8VAtIBpgBYAmQAvALIAAoBe/8u/pz/F//pAGQAFQKxAZABsQEsAQoBCgHpAAAA3/+c/ywBpgCmAKYAhQDIAJz/AABCAL7/OP+c/5L+I/1m/ev91P6+/yEAIQAhAAAAkv6S/qj9RP1P/i7+e/9kABUC6QBkAAAAnP/pABf/OP8X/wz+Lv4u/lr/3/8sAQoB9v72/rP+vv9P/of9RP1b/If9RP0X/zj/e/+mAL7/vv8X/3v/F/9a/wAAOP/IALEBkAEhABf/1P57/ywBTQFCAEIA1P6S/mQApgBuAbEBsQGxAUIACgEhAGQApgAhAMgAT/4X/y7+s/4hACEAsQFuATYCCgFYAsYDvAJBA5ABZADpANIBWAKQAfQBZAAsAQAAkv4j/Yf93/+FAMYDCQRiA3kCsQEhACEAs/7K/Qz+6/0M/jr8W/x8/Dj/pQM2AvQBAAD2/nv/TQFWBcYDsASxAQAA9v7U/mQAZABYApz/DP5Q+6r6k/uo/b7/Lv5w/lv8fPzg/HD+ZACmAAoB1P4C/bT7GPx7/9IBHgbRBDUFIAPIAIUAyv1NATj/bgEX/2b9yv1E/aYAOP/IAEIA6QAhAMr9W/wv+1v8yv1w/kT9Zv3g/Dj/bgEgA6UDmgKxAWQALAEgA5oCYgP0ATYCTQEhAIUAe//f/8r9vv/U/vb+9v7r/b7/nP82AgoBAABa/3D+AABa/yEAOP/U/k/+yv2S/hf/pgCxATYCNgIsASwBTQGaAt0C/gI2AmQAWv97/0IAWv/f/9//hQDIAJz/OP8j/eD8yv3f/0IAIQCmAL7/ZABa/1r/1P57/woBQgDpAE0B3QIgAxUC3QJNAZABpgBCAMgATQEhAGQAT/5P/uv9h/32/nD+yADU/hf/tPuI+rT7tPv2/k/+pgCc/77/6QA4/xUC3/+mAHv/qP1kAJL+FQLf/4UACgH2/iwBcP7pALP+pgCmAAoByAAAAL7/kv6z/sr9vv9P/oUAOP8u/gz+h/17/1r/CgGmACEAZAD2/tT+1P4hACwBNgK8ArEBsQFa/0IAQgCxAVgCyAAsAZL+IQAX/+kAyACmAOkACgFYAjYCTAT+AhUCyACc/9T+RP2S/k/+Wv/f/9//QgBP/nv/1P6+/yEAAADSAQAACgE4//b+kv5w/qYA9v6mALP+1P6S/mb9nP/2/r7/T/57/9//OP8VAiwBNgKQAaYA3//U/pz/OP+FALEB6QAAAJL+qP2c/77/nP8hAFr/kAEX/1r/nP9uAXkCZABYAtT+LAG+/xf/Wv8u/pz/qP04/wL9RP0M/lv8OP/r/WQAnP9m/ZL+RP0X/1r/0gGQAZAB0gF7/xUCNgIVAoUAAAC+/6YAIQDf/ywBpgBiAzYCvAJuAU0ByAAM/mQAAAAAALP+Zv0u/jj/vv+S/t//OP++/7P+T/4X/yEAvAKFAJoCCgE4/yEA9v6mAJz/3/97//b+F//K/UT9Zv17/+kAbgGFALP+OP/g/Pb+TQEsAaUDhQDdAqYA0gGxASEAWAJkACADCgEKAYUAnP+FAKYAWAJYApABhQDIAE0B0gGxAdIByABCAE/+I/0C/Rf/AACc/5z/9v5w/vb+cP6mAE0Bvv/pABf/sQEX/3v/s/6H/d//9/t7/3z86/2z/nD+QgCc/xUCCgHIAIUAnP8AAKj9F/8hANT+IQAM/jj/IQD0AdIBbgFiA7EByABkADj/QgC+/7P+Wv8X/wAAF/8hAEIAe/8hAMr9OP9CAAoBTQGFAEIAvv9P/t//AABuAd//Lv58/A776/0j/Zz/QgBkAG4BZACFAGQALAFkAIUA6QA2AtIBkAEKAd//IQB7/2QAvv/2/r7/s/6+/woB0gHIAIUA/gJuAVgC6QBkACEAT/6c/0/+F/8M/vb+LAEsASADTQFNAYUAsQGxAZABmgLIAMgAAAA4/7P+F/9a/9//pgDpAJz/QgDU/pz/CgG+/3kCpgD0AS7+6/0Y/Gf66/33+5L+Zv1P/i7+h/17//b+yADIACEAFQIhAGQAhQAu/nv/Av2+/wz+s/6S/jr83/8u/k0BCgEsAXkCIQD0AZL+Wv8hAHD+QgBw/gAAIQAKARUCpgBNARf/9v6mADj/TQEsAQAALAGc/0IAvv/f/9//3/8VAjj/IQB7/8r9Wv/f/zj/nP/pACEAyADIAFr/hQBkAIUAQgBkAOkA0gGEA1gCWALdAnkC0gEgA/QBTQEAAJL+DP4u/r7/vv/SAaYAbgG8ArEBbgHIAIUAOP9kALP+RP2H/eD8qP04/9T+pgAsAW4B6QDf/2QAOvyz/kT9kv7IAFr/eQKo/dT+4Pwj/bP+I/17/wL99v6+/9//TQHpAJABQgCFAIUAIQBkAAAA3//IACwB6QAVArEB6QCmAMgAbgFuASwB3/++/5z/9v7f//b+1P57/3D+nP/f/yEAnP+S/jj/Av0u/of9I/3f/2QAYgPSASwBe//K/Zz/Lv72/tT+1P5a/9T+vv9P/hf/F/9P/lr/cP4u/tT+yv3U/hf/ZAAVAsgAkAHf/9//Wv8KAcgAhQCxAQoBsQHf/3v/IQDpADYCQQOEA+gDKgSaAoUAOP84/y7+9v7U/hf/bgEKAbEBkAHf/xf/RP2z/tT+3/8VAnkChAN5AoQD/gIsAbEBLAGmAAoBZAAX/wz+kv6z/i7+OP9w/uv9nP8M/qj9Zv06/Kj9h/2+/wz+cP6z/mb9bgE4//QBCgFa/1r/h/2c/3D+CgGmAAoBQQP0ARUCbgGFAN//AABCAGQALAE2AqYAhQAAAHD+DP4u/vb+IQA2AjYCmgI2ArEBbgEVAvQBhQBYAqYAbgFkABf/pgDU/ukA9v5CAFr/OP8KAb/8kv4Y/AL91P4C/UIAcvu+/wz+6/0VAuv99AFCAFgCCgGc/24Bkv7pAHv/nP/SAXv/sQFkAL7/bgEAAFgCe/82AsgAe/8VAmb9yABw/sgACgEhANIBT/4KAdT+9v6+/77/6QBCAHkC9AHdAk0BCgGxAaYAbgFkALEBOP/f/y7+9/tw/p78sQGmALwCmgLIALwCWv+FAOv9Zv1E/Xz81P5w/hf/sQFuAf4CTQHpAEIALv4AAAL9hQC+/wAALAEAAHkCF/+FAJL+Zv0M/of9DP7g/ET9fPxP/qj9nvxE/db76/1w/hf/vv/U/tT+6/1m/Q77v/zg/If9Lv5m/SEA9v5w/r/8v/yH/Yf91P4M/nv/vv8AAJz/9v7K/Yf9Ovw4/wAA6QBYArEB3QIKASwBe/9kAIUAhQB5AjYCsASwBHgFxgOEA+kApgDIAN//3QIsAfQBsQEsAU0Bvv9NAQoB9AH+ApoCsQE2Ak0BkAEAAHv/qP3r/SEAs/4AAKj9OvzL+tf4n/kP+Nb71vs6/ET9I/1E/db7W/wO+3L7nvx7/zj/pgC8ApABYgOxAQkEWAIJBHkCWAJiAwoBhANa/+kAT/6//Pf7XPmf+V72XPlS+Lb4MPh09Qb0dvLk81/zPPb4+Gf6qvo6/Fv8JPrs+rT7L/tw/goBWAIqBG0EYgNBA1gChQD2/iEAQgC8AugD3AXGA00BQQO+//b+LAHIAP4CjgQeBkwEQAYSCGEGdgjwCrgLwgwEEJQRRhBFE54Sfg9cEqkTyhPgFXoYnBhaFUQW1hExDvkOoQxIDUgNJRB0DmkNaQ2uB1YFFAVABtwF/QXFBroFNAiCBsYDNgLpAAAAe/8M/jr8JPoa+X/2w/Nr8Uvu3Oym6obnyuT34lvjRuG04i/ifOMv4p/gy+Fz3+DjZOdj6sbt0utL7mLtmO+48ozxR/f4+C/76/2z/lr/cP7IAMgApgCOBEoHEQvNDawN+Q5IDVIO2A6sDZ0VkRcqHYIf8SCNIDUe8h3dG/4b0R2kHzQhPiJVIVUh8h28GyEZQhm9GIYWOBjsE6kTfRIwETwPrA2hDD0MJg2JEGgQRhBcEqwNKAq6BdwFeAX9BT4JVQjQB2AJ0AdABrAErgdsBz4JwgxVCK0KrQqMCnYI0AcoChQF8QeBCZgIEghhBoUAn/lS+Hfv0+iS5SThJ9tW1iDRs8zWyffJc8YmxavFzsJUwIK+Sr9rv2rCoMSrxS/JI8vfzdPPVtbv28vh3+YW6Y/rS+6L9D7zG/aq+r/8pgDSAWEG/Ag8D/gRiBNCGbEaxhyOHWEfSiBKIPEg5SLwIzEntSp9Kw0tJCxRKjwo5CVgIikg/CGYIdoheB5MHTYbIhZaFZ4SnhJlFiEZbho2G1gbehgBFgIT+BHhEjkVFhgtFwwXARYwEcIMHAxJCmoKdA6JELURwBJcEn4PHAwyC9oI5QkQDiUQiRBFE4gTSA0+CdwFTQH0ARIIlgt0DqEMsQGs9PblP9dQyePErMJ2wKO+57untVKtPqi7od6eu6ETpD6oO672s6e1ILhvtpC26rWDu/rDZsuk1GjehufH6kvuFOxL7mvxavQk+kT9mgLRBEAGTARtBAgHKQfaCHYIEA4EEMoTFhiFGTUe2SS2J8wphi8AMpEw3jF8Ln0rcirWKmgpMSdGKbYn4igmJvAj5h/9HjQh6By6HsUfQB9tHW0deRvJFrQUORVxFLQUnBh6GAoaIBzRHd0bVh5gIuYfgSIoI2Ai8SDaIdAg3B6ZHlUhFB6CHwggeRttHRUbshfMECQTURGgD3AX9Rf1F0QWdA7K/Xjs7t6czazCosFWvSq8xL6wub+xoKtUp2+dFp42odukR6wWt265N7eSs/CmTp20lzibsp3irnTDb8/63C/iA+G33Jbc+9n72SLnE+8y9S7+OP9E/Z/51/hH9+z6bQTkDKgWNCGhJfwhrSMSIQkd0CBRKt4xHjguRi5GyUgNRvo9TDb+NIUy6i+ENf40yDJ8LuwsHCU+Ih0iBiPiKC4t/jQ2NI42FjEZKyYmTB3pGWUW3hgKGugcNR7oHEwdkBoVGx4f0CBpJnIqwCsxJ2EfWRgOEe4NwgyUEakTIRmEHFkYLRd9EsIMUg7hEoUZ/R6WJGojhha5CNvv2tlcx0y5nLSesfO5NrrcukK4w6gsncKSxomwh3aOGpXonz+la6Ygn+uZapBKjQaQfpX7p6e1s8zO23DlsOu86bPlZ+G23+7ekuVX7NryT/5hBtAH5QmYCHYIbAeBCQUNOhJ5G5ghuCQZK5wx1DCwNro38TnkPnJDwUGqQg5DXj5SQK08SjliNcY13jHpMgozCTbRNjQ6tkA9Pqw/2T3aOio29DOSLXQnJiY0IcUfEiGOHXkbChoKGjgYqBYgHLAdPiKKJiYmoSU9JWojHh8GI4EioiLlIvwh3Rv0GvQanBgVGzQhMSeUKi4tcipeJR0ixR9CGQoasRp6GFkYfg95AvLuJt7gyvO5DLPurMCuW7EXtOyv76mDon6V2JHjkp6YNqEErCOyqq8mrDee+467iCCGdo7TnQu2UMle3VfsNuxi7XvmtOLM3tbiAOdu65b1zPck+u73Jvcb9sD5sAQ8D20dyiyENXg3pTUKMwIsGig8KDwoODGaNLg9HD62QFJAajxePqQ4jDzaOs48lj2wNtE23jEhMrIwpjJKOSg8MEOpRZRDgD4IOZEwDio9JYIf6BxYG8gZJBPAEhoPBBBREfYUZBl8FdIacBcYFRgVtREEEOIP4RKsDYoNrgfRBAAALAHRBJkFJg0OEQwX7BMNFKIJTAQgA7P+8QcxDiQTiBNeDEb6ROTryze3c610qvewsrbwv6DEHr7rstCjiJYzjlyVb50nqZq6bLzbvS6zbqCij9OEQoa3kQSslMZy4n/2yACS/oDz0+gQ3M/YUOLG7ST62Qv2FIUZkBqcGHIR7RBcEqgWNCHCJQIsLi05LkUsMSfMKRoocS0hMjQ6STzYQKpCMj0mPz47xjWENYI4vDS9MU4w4iiAJdkkJSl8Lro3aELJSGJOFkrtQuY4tC1qI/4bmhvJFukZdiFJI7Yn5CXEIuYfuSGuII0g2ST5J/knXiVKIAwXuAtYAg/4YPAo8Uj0RP30AcQJPgkoCpoCiPqU+Nvv0O7y7qLzDvuo/d//c/iA8yDq+tz0z0jCQrhatHCz07Zuuf66IrVnr4qs+6eUrYS4xL6UxnvNss+IyM+/yrJLozib4JgKoJOwtMmK3oDzVgU6Ep4SRhDaCKj9+Phq9Br5fPz9BYAM4BVsID4irCYxJ8IlYCIoI6ElBiMmJl0oaCkxJ10oHCUGIygjBiNRKpEwKTl2Opg6mTd9KygjORWIE8EPkhQKGtEdPSUlKfYt4C5OMJ0uWTEYLgUmPiIhGQUN0gGq+pT41/h7/0oH4g96GDUeKSC5IRIhmCGYIXUkoiKNIPIdUREGCk/+lvV28oLwUvggA/gRNR4yJGojNhusDekAR/dW71fsa/Em9+v9/QU+CdwFyv0U7IDaysuYvYS4p7WyttO2WLcAtRCq3KG+m7OaYqIvsIDB6NEE3vjfj9KswsOoXpLIgwGAa414oSbF9uUSCNwetifCJb4VnP9s7hjjlN9O6IDzFAWpEygjJSmeK8EorSOCHyodeB5gIs0mcirWKiUp7CxpJkgm+SdcKywzSTyqQgJFtUOtPN4x7iaaG6oQBQ1JCl0P1RTcHjAqki2lNaU1ITLJL8IleRuqEPwI6ANP/lv8Zv2QAQgHEQvBD04XLBpiHLEa0hpCGYUZ3hgWGJAaChpNGqgWZhOiCW0EcP4a+ZP70gEmDZ0VhByOHYUZqhAqBKv3QO1j6ivruu+e/BIItBSxGkUTugUS8rfcG8T3sIKl86DQo4ColK2zsyC4/L2YvcS+BMU7x9/N6s58yrfDbrl2p9aXgozQihqVt6qIyCLnmQWEHOUieRvCDDv5e+as24PUdtlj6lv8tg6EHGkmtifNJlQkjh29GCAcQhlEFukZehi8G7oeriC5Ie0pQjJCMo05NDr+NL0xcS0xJ7oemhshGQEW3hg1HkogaSZoKcwpki0YLpQq5CUQJ7khsRrdGw0U4g8aD/AKHAwmDakTtBTUFzUeYhyYIfAjaiN2IR4fvBviD2oKpAYC/Xz8Z/rM94j6qP3IALwCYQbQBx4GSgc+CbAEeAWEA3D+qvoP+IDzKu4H8dryG/aH/SP9tvjy7tbiKtXOwpq6RLLYqoey9LY+wWTOxtRf2lTZatuj1zbTINGUxjS9kLYYsX6uqLLbverOXODA+f0F2A4ZEoQDGvlj6pTfCNXy1e7eIOq+/2YT8SCsJkgm/CHeGO0Q+gsdCV4MPA8CE6YZ/R5WHo4dKSCNIBwl4ij2LXwuADJCMvUwcS3ZJIIfyRYCE0UTqROmGfEgoiJ9Ky4tIi9xLbYnaSbyHUEcshfhEswQURH2FMgZ8SChJdYqhi9NM+kyvTFxLbUqjSCQGogTSA0QDpgIEQv6C1IOzBB+DwUNoQyADBwMdA5SDrYOoQwRCwkE1P4Y/Bv2rPQS8kj0+vU6/Ov9v/zL+j/wcuJu0ibFTrbjq+OraKzUs6S7R8UYyiLOK9LKy57KO8d2wP66pLtktVq0hrUMs8i1E73Ax/PSGONg8L/83//+Amb92PV28urn7OGo5CDqS+5n+qQGGg8MF/4bNhuRF0QWMBFSDj0MrA3BDy0XeRvSGpkeQB/QIPwhaSY6K+AuhTKENVY3bTYKM5QqYCJWHrIXshdMHUkjlCr1MIQ15jj8Ogg58jYVNJEwDS1GKT0lVSGOHd0bTB1uGgkd8h2uIEkjUifMKX4olComJowjjh0CEwgHI/378kvuxu1s7tf4AACtClwS9hS9GMASBgpP/gb0N+nT6AvohucI7s/xXvbj9jz2/O/T6MvhX9qw0r7NT8xexHTDEsBXuiC4F7Sosi+wY7jyvOPEnM3Tz/TPtMkwxtu9brkUusa7BsJC0T7a3+Z28hD1iPo6/C/71/jY9aD2c/gD+pL+KgQeBuIPJBO+FZkeKCMaKOwsRSwOKjEn5SKkHyAchBy8G1Ye2SQ8KBguvTEqNgk2xjWxM6gvfSteJdwecBdwF3wVnRXdGx0iwCucMWw58jb+NEQvxCJuGg4RggZYArwC6AOiCZUO7BPgFXEUkRdaFb4V6hbUF50VkBqSFIAMNAhb/JfyTug648rkC+iL9AL9uQiyF20dZBnqFhIIOvwe8FrmXOCf4Avor+7u93D+WAIAAHL75PMj5KzbptFzxvC/r7wWt1i387nouD++BsL4xuvLNtMq1d7Q68u3w9C8GLFSrdetcLOAwffJP9fI5zPyPPbM93/2l/Ju697pp+cr65fyUvixAZYL7BMAGY0g2CcEKV0oXShSJyYmBiMoI7khjCMFJhwlzCm0LXAw6TJhONA5bDlJPDI9xTiaNGUvlScpIJwYGRLiD30SLRcSIQQppjJuMywzWTExJ7oeAhPlCR4G0QSZBWwHJg0xDhAOXQ9eDH4P5AwFDaEMEQvZC4IGQQOT+0j0ju6O7ivr3um86ULqdvK39db7y/rs+pT4X/Py7vPrCuu/47/jUt9z39Tl6uf871P1U/WU+A/4rPRK8ernXOD63NvWNNaa0zfQbtIo2FPcwODL4RrgO+A+2j/Xx9EAzpDP1MwW0LvT0NW33MDgaN7M3n/dU9xT3Grb79sC5ArrzvR7/xUCHAyKDcEPwBJdDzEOfg9oENYRqROoFjYbSiCkH9oh+iShJcEoliTMKeErJCxELzkuhi8kLDAqaSZ0J/okYCLmH0ogziMRJMIldCdSJ6opOiuJKTorfSswKpUnHCX9Hv4b1Be0FPgR+BG+FckWcBctF5IURRMEEDILggYhAGf6ovO48jTvu+xg8Gvxf/YP+A/4JvcP+F72dvIq7oPthOqG50/lfOOn59/mC+iz5d/m/+n06NDuVPL4+Pf7iPqI+sL22PUS8prspuqE6k7op+ec5k/lfOPX36DduNmu2I7VY9EU0+jRNNb81ijYVNnb1qLaKNj72azbatsP31zgAuTK5Mjnxu3w8XT1fvnL+p781P6QAcUGlgu1EeAVFRsUHh4fSSM+InYh/R6CH0og/CGWJIom4iiqKYgski1EL/gq4iihJZYkgSJ2IYAl2CfhK+0p4Ss5Lp0uvi59KzorBSYIIAoa9RcYFb4VvhX1F5obyBlMHb0Ybhr2FNgO7g3FBqQG6QD0AcYD9AF4BQkExgOmANb7DvuU+A/4zPd/9uL5+vXa8sbtkOgu5TzdgNpg11TZJt6U30Tksuh372vx0O4q7r7mk+KL2/zWbNWO1eTaGuDg49PoYPDE8BD1SvFg8Cru9uVk5zrj4ON8457jOOac5mTnkuUi5+jqeOyj8M70ivc6/J/5Z/r69ebw/O/o6kLqYu1U8oj6bgGBCcASFhgUHhQeeRtNGr4VUBRxFJQROhLsEywaYhwSIeQlHCWJKZYkwiXmH2IcNhtaFZwYABkVGyodQB+YIUAfsB3oHFgbxhzdG9IaNhtuGtQXkhSqEF4MmAj9BWEGjgT8CI0HgAzlCaQGrgfIADYC1vuq+oj6zPdS+Cf0ovMc86PwP/B377rvKPHE8HbyM/KY72zu3Oxj6pDo6udk53zj1OUs6Lzpj+vS67rvbO6j8PzvQuo36ZDoUOJz3xDc79uW3Bzan+DA4JLlIufI55vp6udO6NTlWuaz5S7leum86WLtgvB28u73Z/rf/90CxgNKB3gF8gTGA90CTASOBIIGjQe4C4kQ4RLJFmUW3hh6GAEWGBXMEOIPaBBoEC4UABmaG9AgYR/aISkgVh6aG94YphkMF7IXbhqaG2IcsB1tHdAg0CCYIUog3B4IILwbvBuQGiwacBfKE9YRlQ62DmkNdA6sDYkQXQ91C0kKKQfRBL7/3//r/Wb9v/wY/Gb9Z/qT++73R/cy9a7xmO8I7rjy8PHD86z0PvMc85jvu+ze6U/lOOYO4iThkuUM5ULqyOew68btIOpi7XrpC+i+5vblAOe+5jfpm+mQ6FjpY+pi7bvs3OzQ7nfv2vIo8a7xPvNf81/zdvIQ9df44vkj/bEBCQTcBUwEugV4BdAHdgi6BVUIrQrZCxwMfg/WEZQRZhMCE8wQoA+sDeQMjArwCu4N2A6VDokQ4g/hEnIR7RBxFEUT1BcuFOwTDRQZEhkSMBGIE1AUDRT2FOAVshfUFwEWWhXtECQT2A4FDaEMjAoFDR0JBQ2KDRAOrQrmBkwETQHf//b+Zv0hAOkAnvzK/d//pgDr/UT9yv1E/XL7wPlf8/DxmO+v7iruE+/O9KPwrvFr8Qfxuu+P64/rQur06MfqQuoW6YTqx+pX7PPrmO/E8GvxB/EG9MPz8PF28hLyX/Nq9Ir3t/XM97b4c/jC9gP6nvz3++D8AACOBAkEggaCBpgIYAlVCNAHeAXFBngF8gSZBbkIxAnECRwMgAwFDV4MzgqMCmoKBgqMCuUJagqtCgYK/Ai5CHYIrQp1CxELogkRC0kKSgdsBx0J2gg0CBIISQqBCUoHEghtBNwFjgQ1BVYFxQY+CcUGVQjFBuYGVgXGA44E0gFkAHv/RP20++D8GPwO++L5iPqU+Br5D/j4+Lb42PW39dryjPGA84LwE+/m8GvxSPTa8qv3D/h/9qD2w/My9Zfyz/Fg8CruP/BU8s70avRS+CT6Dvs6/OL54vl++df44/bX+JP7W/xm/ev9CgH0AUED3AVhBoIGxgM2AukA1P6QAfQBQQNWBeYGognECYEJQAYJBLoFSge6BVYFggbcBWEGjQeuBx0JgQkGCmoK5gbcBf4C3/97/0IAcP6mAKUDIANiA90C/QVBAzUFFQL0AU0B9v4X/7/8I/2S/rwCsQEsARf/kv5Q+4j67Prs+kT9fPwM/pz/1P5w/sr96/0u/iP9Lv5y+wL9L/vi+Z78v/yc/9IBTQH+AoQDvAJBAyADugX0Af4CQQOQAbAEeQJBA/4CugVKB4IG3AU1BXgF/QVtBFYFmQXRBDUFmgK8Ak0BpQNNASwBYgNNAZABZAD2/sr9Av2z/vQBsQHSAfQBNgKQAW4Bvv/K/ff74Pyq+jD4Uvgm9375aPdn+hj8Av17/+v9fPz3+4j6fvkb9ov0U/XD8+TzgPPj9vr1MPjW+1v8T/4j/eD8Z/o7+fj4+Pju91L4MPg7+S/7kv5uAbEBTAT9BWEGQAYJBEEDCQSZBQgHrgcdCUkKXgxpDdkLMQ7NDQUNPQyWC4oNzQ2sDQUNlQ59ErURwBLBD5UOJg1UC2oKVQgpB+YGggaZBbAEQQOZBRQF0QTSAXkCQgAM/g77+vX69aLzEvKY7+bwNO+48mDw5vA/8MTw+/Ku8XT1xPDP8a7xrvGX8vzvdvKs9DD4c/gm9zD4c/gO++z64Pwu/pz/yADU/m4ByAD+Am0EKgQqBCwB0gGmACEACgFYAoIG5gaiCc4K5QlqCq4HbAcpB8UGjQfcBcUGVgUUBR4G3AUIBwgHpAZsB9wFYgOmAAAApgBw/t//vv8KAekA6QDIABUCvAK+/2QA4PzW+375fvmf+Yj6Dvt8/Mr9h/0M/mb99v4C/db7wPmf+X75O/n4+Dv51/jM98v6v/w4//b+s/7K/UT9yv18/LT7n/nX+Eb6k/vi+X75XvYP+If9QgAsAXv/s/6H/ev9T/5w/jj/hQBCAJL+4PxP/t//LAEX/0/+I/04/zYCkAHIAAAALAHpABUCpQNtBNEE3AXmBqQGCAfRBJkFhAPRBPIEjQfxB7kI2gg0CJgIHQk0CHYIHQmYCPwIxgNBA5AB/gLGA7EBkAGz/rP+9/tb/HD+nP+aAhUCIAO+/6j9y/rX+C/7qP1m/aj97Po7+ZT47vfX+Gf6fvkw+Mz3ivcP+Nf4fvn4+Nf4ivdo97b4D/h/9l72q/fi+Ub6y/qH/SP9s/4AAHv/bgE2AkwEWAIhAAAAh/0X//b+kv7IANIB0QRMBNwFsASZBaQGbAd2CAgHjQeuB3gF8gQgAyADKgTGA44EbQR4BZkFxQb9BYQDpQMqBP0FNQXFBpkFNQXyBLAEsARYAvQBCgEhAKj9s/7r/YUAkAEhAAoBCgHU/i7+tPtS+Nb7Z/py+8v6iPo6/Kr6UPsP+HP4fvmT+578y/q0+xj8tPvr/Vv87PoO+zv5UPvL+rT7Zv0j/SP9L/uq+uz6JPoY/If9RP2e/JL+s/7U/t//ZADSAZoCvAIgA90CTQGQAXkCVgUIBwgHYAm5CGwHrgfQBxIIdgj8CIEJ0AdhBlYFVgWkBuYGEgiCBtwFFQKFALEBvALGA0EDCQS8At0CsQEhAEIA3/9CABf/RP3W+xj8h/3K/eD8RvoD+mf6fvl++XP4Rvov+4j61/j4+Fz5n/nA+V72wvYE93P4RvrL+jr8Dvuq+gL99/tb/Dr8I/1P/qj9vv9a/7EBhQBa//4COP+mAJABsQGlA3kCVgV4BSoE8gSOBDUFVgVhBngFFAWNB40HSgdKB3gFCAdhBroFmQWCBggHpAYIBykHKQdhBoIGFAWwBLAEvAKQAUIATQHIAIUAyACc/5ABbgHpAEIAZABuATj/OP8Y/LT74PwM/jj/vv/2/hf/s/5w/p78qP2S/of9nvzs+vf7fPxb/E/+Av04/4f9Zv2H/Z78Zv0O+9b7qvpG+lD7tPtE/Z78Av20+y7+Wv+o/ZL+6/04/zj/IQAhAJz/cP6+/9//6/1a/9T+ZAAsAbEBsQFBA/4CIAN5ArwCvAL0ASAD9AHdAvQB6QCaAiADKgSxAf4CIAPSAWQAkv7IACwBCgGxASEAbgEsAb7/pgBw/r7/kv6H/UT9RP1w/lv8Wv97/xf/hQB7/5z/yv2e/Bj8Av2e/ET9I/2H/Rj89/ue/CT6L/v3+7P+F/8X//QBpQNWBUwE6AO8AlgCsQFw/nD+Lv6z/oUATQGlA5oCmgL+AkED6AN5AkwEhAOOBOgD/gJ5AqYAF/98/Bj8k/sY/Mr9Lv6mADYCCQQ2AtIBbgGEA1gCNgK+/7/8T/6o/UIAs/57/5z/DP7r/Vv86/0u/nv/QgAVAkwE6AOlA+kAQgCS/uv9yv3g/OD8Av2T+3L7cvsC/UT9IQBkALEBNgI4/00BpgAKAU/+nvwC/Vv8cvs7+X75y/r3+9T+OP9CAAoBpgCQAQAApgBCAN//QgBa/77/nP97/0IAe//pAG4BCgGQAZABvAJBA/0F0QQUBZkFTAR4BXkCIAPSAZoCQQPdAv4CYgNBA7wChANiA5AB3QLyBDUF0QTRBPIEQQOOBP4CkAH0Ad//nP/K/dT+nP9CAKYAQgDpAAAAcP4u/i7+LAHU/pL+T/4j/UT91vv3+8v6GPxG+uL5Z/p++Tv5A/qT+3z8W/z3+yP9Av2o/db7fPzs+nP4y/qU+JP77Pok+sD51/i0+4j6Zv2o/bP+AABa/6YApgCmAN//cP4X/0/+DP6z/nD+e/+S/oUALAFuAegD6AN4BaUDSge6BW0EeAWEA/0FTAQ1BZoCpQOZBVgCYQYqBDUF0QSlA5kFCQSYCK4HHQk0CKQGHgYgAzYCpgBa/yEAcP4j/Wb9kv4X/00B0gFiA90CYgOaAgoB9AGc/9T+DP6H/Qz+fPy//L/89/v2/gL9OP/pAHv/bgG+/0IAe/+e/E/+9/sAAMr9h/1w/qr6I/0C/fb+pgCFACADCgFNAWQAWv++/7P+QgD2/lr/9v6H/bP+s/7U/kIAhQB5AiwBsQFNAekAAACc/xf/kv5a/3D+cP6e/Oz6qvr3+w77v/yH/bP+F/84/wAA6/3g/A77tPt8/C/7y/pG+mf6RvoY/Dr8I/3g/JL+6/1m/dT+Wv+S/pP7UPuS/lr/F//2/k/+yABa/yEAhQBa/5z/9v5CACwBQgBiA77/mgLGA1gCNQV7/yAD/gIqBCoEnP+8Apz/mgIqBEED0QR5AiADFQJBA3gF0QQIB40HxQbQB64HbAf9BeYGxgM1BUwEpAbcBaUDpQN5AoQDyACxATYCpQMeBo4ENQXGA5oCsQHSAb7/s/4X/0T9RP2//Nb7y/qq+pP7k/vg/ET96/1w/nD+Dvvs+oj6MPhS+Dz2+vXk8xD1J/T69Q/4Z/q0+8v6tPu0+/f7Z/qe/FD7GPyf+Q/4MPiU+Pf7Dvue/AL9I/2o/b/8RP1E/Yf9Lv4AAL7/LAGmABUCLAGFANIBIQCQAZz/6/0hAPf7AABa/3kCQQPIAG0ELAH+AjYCyACaAr7/xgMVAsYD3AW8AlYFbQQqBCoEhAPoAxUChAMJBLEBeQKEA44EeAW6BeYGFAWaAiAD0gHGA0wEpQNiAyADIAMJBEED8gT+AioEKgTSAXkCe/+FAAL9nP82AgAAvv8j/Xz8yv3W+7/8OvyS/oUAF/8VAvb+ZADIAAAAkAHr/WQAtPvL+hr5W/ye/Oz6Zv1b/Dj/kv5YAsgAe//f/y7+IQAu/nD+OvzW+7/8UPtw/k/+Av1w/kT91P6z/qYAeQI4/6YA9v7f/9T+nvzK/bT7W/x8/J/51vtQ++v9Zv3f/4UAZAD+AtIBmgIVAlgCCgGo/S7+Av1b/Hz8W/ye/Fv8DP6S/jj/AACxAcgATQHpAKYACgFa/yEAAv3U/tT+6/2c/7P+pgDIABUC0gFuAcgA9AGaAv4ChAP+AjUF0QRABnkC6AOaAjj/sQE4/00Bs/6FAN//Av1CAJL+WAIsAfQB3QJ5ApAByADpACADNgLSAXkC/gJYAm4BsQFCAIf9IQB7/wAAF/9NAQoBAADIACEAOP8hAHv/ZAA4/+v96/1y+4f9k/vg/Kj9OvyH/XL7qP2o/b/8cP5P/gz+F/9kAN//T/57/0IAcP6+/77/yAAKARf/OP8M/rP+F/+H/ZL+k/s6/Bj86/2S/k/+kAEsAfb+bgHf/zj/Wv+H/fb+Ovyz/k/+Zv3U/i7+QgDIALEB/gKmABUCkAFw/gAA6/17/2QAWv+xAdT+YgMgA7AEKQc1BdEEmgKaAhUCyAAgAwoB6QCFAAz+hQBa/xUCTQGQAXkCsQFBA9IBQQNuARUCsQFuATj/yAAsAQz+AADr/UIAe//0ARUCsQHGA9IBbgFuASEACgHf/6YAWv+z/jj/6/0M/i7+OP84/zj/e//f/wz+e/8j/ev9nP84/00BWv+QAfb+yv0M/of9s/4C/ZL+GPx8/HD+Lv72/ukAOP9CAJ78kv4M/uD8s/4O+8r9qP3K/Rj86/0AAJz/NgLdAiwBmgKQAYUA3/8M/vb+I/0X/zj/qP32/gz+RP2o/Z78cP5a/2QAkAGQAegDmgKEA77/IQDpAHv/ZAC+/0IAZAAhAFr/3/9a/xUCsQGmAKUDWAJMBEED3QK8AiwBTQFa/1gChQBkAE0BAABYAukANgJ5AoUAeQLSAdIBZAAhACwBZADpAPQB9AGQAYUALAGxAaYAeQJuAUwEeQK8AgkENgKaAgoBFQKmAAoB6QDIADj/Wv84/3D+F//2/tIBvv9NAWQA6QDpAEIAQgBP/jj/cP6S/qj9yv3K/Rf/s/5w/hf/Wv8sAbP+TQGmAN//QgCc/wAADP5w/k/+Lv6o/ev9fPx8/Mr9Lv44/8r9qP2//Gb9Lv5E/cgAnvxw/g77fPz3+xr5tPtS+A77lPie/AL99v7U/tT+TQHIAG4BbgE2AukAkAGH/Rf/RP2o/ZL+v/zIAE/+NgIKAekAsQGmAFgCe/9BA/4CbgFiA7EBFQKS/tT+kv4u/jj/kAFCAFgC6AOEA3gFTARWBXkCCQTSAZAB/gL2/gAAs/6QASEAkAGQAU0BFQJYAsYDkAHoA90CTAT+AvQBFQKQAfQBF/8X/xf/nP+FAJABeQIVApoCeQJYAtIB9AGQAaYACgHIACwBIQAX/+v9Zv2o/QL9kv5CAAoBLAEVAukAQgB7/5L+qP2S/mb9qP0u/uv9RP06/Hz87Po6/HL79/sj/ev9kv4j/Xv/yv33+578GPxE/Z78Zv3s+tb7I/3g/If9RP0X/6j9AABw/nv/e/+xAVr/DP7IAPb+bgG+/xUCAAAhAE0BZABBAwoBCQSmALwCe/8hANT+T/6S/lD7AABE/QoBCgFYArwCZAC8AiEAbgFuAfQBpgAhADYC3/82AvQBpQOxAUEDFQKaAqUDFQLdAoUA9AEsAfQBeQKFAOkAbgE2AgoBbgFNAd0CsQGQAWQAQgCmAAz+6QAu/kIAvv8AALEB6QD0AWQATQE4/1r/nP++/4UAOP8VAkIAQgBw/of9Lv4u/mQAF//IAAoBhQBCAFr/kv4j/Yf9DP5P/pL+F/9w/k/+s/5P/gL9Lv7K/S7+Av1w/iP9W/yI+n75JPrL+kT9h/3pAMgALAFuAYUAIQA4/8gAF/9a//b+s/7K/Vv8F/+H/bP+T/6S/pz/AACxAaYACgF7/5z/ZAAAAPb+cP4AAJz/QgCS/tT+Zv2o/dT+cP4AAAz+Wv/2/k0BLAFNAdIBLAE2AhUCxgNiA0wEpQNYAlgCbgF5AiEA6QDSAcYDpQP+AmEGQQPoAywB0gG8AnkC/gL0AfQBvv+S/qj9yv3r/Qz+AABa/77/OP97/+v9yv0u/jr8Lv7r/QAAvv8X/xf/OP+c/zj/6QD2/r7/F/++/woBQgCxAb7/FQIAALEB0gH0AbEBhQDSAdT+T/4AACEAAADf/7EBsQFuAdIBFQJ5AjYCTQEKAbEBbgGFAIUAQgBa/9T+1P6H/bP+1P4AAJL+vv+mAEIATQF7/2QAqP2S/nD+1vsM/mf66/3W+5P7nvwO+9T+4PyFADj/ZAAhAJz/e//f/1r/cP7K/Tr8Lv5w/pL+h/2S/iwBe/9uAUIA0gEsASEA3/+z/mQA9v5NASEAeQLIAPQBvAI2AmIDhQBBA3kC9AHSAZABeQIsAU0BZABNAZoCYgNBA2IDyABCAKYA1P6c/3D+nP+o/SP9s/7U/k0BI/2S/qj9AAAsATj/9AEAADYCnP8AAN//kv4j/S/7T/6e/HD+Av0j/Yf9qP3f/9T+bgFCAG4BeQJCAAAALv7f/xf/e/8AAN//WAJNAf4ChQCxASEAs/5NAWQA9AFa/7EBs/6c/3v/Wv/0AXv/LAH2/mQALv7U/nD+Zv0j/XL7v/ye/JL+4PzpADj/F//f/7/8OP+H/aYALv7K/XD+I/2z/mb9cP4C/Zz/QgAX/24BF/9iA0/+TQHf/77/0gFw/ugDQgA1BTYC6AOwBFYFggaOBPEHbQRKB8YD/QUgA2IDxgOFAAkE9AGkBugDxQa6BY4EVgWQARQFbgEAAIf9s/4X/3D+QgAX/zYChQDSAaYAWAKxAb7/WAI6/EIAT/57/+v99/s4/zr83/9m/QAAIQBCAAAA9v5CAE/+9v4j/ev9nvxw/qj9IQDU/qj91P7g/Bf/W/x7/5z/F/8X/5L+sQE2AlgCyAD0AZAB9AE4/2QA6QAKASwBLv5uAfb+Zv1E/eD8Lv7g/Fr/yv0X/9T+h/3K/Yf9Lv6e/Mv6GPy0+7T74Pz3+xj89/vr/cr96/1P/of9h/2e/HL71vu0+3z8Zv18/Pb+9v7pAIQDWAIsAVr/vv8hABf/pgCc/24BQgCc/6YAvAI1Bf4CYgMJBAkEkAH0AVgCLAHpAN//3QIKARUCFQLdAt0C6QBuASEAsQH0ASwBbgHf/4UAs/7f/wz+yABuAcgAeQLf/7wCQgBNAQAAIQDpAEIA3/+H/b7/Wv8KAVr/hQA2AqYALAEhADj/pgCmACwBIQCQAd0CAACmAN//0gH0AaYAbgFuAbwCIAM2AoUAnP9NAVr/9v4AAIUALAEAACEAcP4AACP91P4u/qj9ZABw/vQBcP4sAYf9Av0AAC7+pgCH/XkCT/5P/rP+yv1uATj/1P5w/goBhQCQAd//9AFYAkIAAACH/aUDTQFNAU0B6QBBAzj/hQAKAbEBeQLIAEwEbQTcBWEGxgOwBI4ECQRNAdIBvAJ7/3D+IQBCAJz/OP9CAPQBhQBYAk0BTQHdAoUAs/46/Az+1P58/N//AADpACwBAADSAcgAkAGc/3D+QgDf/3D+e/9w/gz+Lv4C/Wb9qP0KAZL+9v6FAAAAIQDK/Vr/vv/U/nD+cP7r/ZL+nP9w/pz/Wv/f/yP9cvtw/kT94PxE/fb+1P57/2b9fPxE/Xz8W/y0+3v/nP++/zj/9v5a/zj/9v7U/lgCQQO8Av4CCQTdAt//v/yo/bP+vv9kAJL+pgBCAAAAh/3r/ZABpgBkACwBIAPdAnkC0gG+/zj/T/5w/vb+pgDpAOkAe/9NAd//fPx7/5z/LAFCAGQATQE2AvQBOP8hABf/Zv33+5P7OP+mAAoBs/7r/UIALv4AAJz/IAOxAU0BAAC+/1gCkv6c/5P7T/5E/Vr/AAD0AZkFpQNMBDYCmgKxAZz/hQBCALEBYgNiA1gC6ANBA6YA6QBNARUCkAG8AtIB0gFCANT+I/17/0IA3/8sAS7+/gJCABUCF//pAJL+Av04/wz+vAJP/oQDDP7f/6j9yv0j/Z78yACT+9IBWv/RBKYACgHSAcr9nP9y+6j9tPs4/7P+nP9a/wAA6QBQ+wL9Zv3f/2b9F/82Apz/yv2T++z6A/qe/If9kv4gA5kFVgWmAN//vAKmAL/8RP2FAHkC0gEsAfQBvv8hANIBTQH+AuYGugW8AqUDYQZCAHD+cP5w/qj9nvzf/wAAkAG+/xUCyACEAwkE6QBiA4QDFAUKAU0BQQO8AtT+GPyS/sr9yv0X/0IAeQKOBJoCAAAAAE0BZABy+7P+CgH0ATj/3/82Asr9RP3L+lv8OvzIADYCDP4VAgoB9v6q+tT+Lv4Y/JP7h/1NAev9hQDU/tb7RP0j/Qz+fPymACADpgBYApoCWAKz/mQAsQGFANT+6QDf/zj/6/0M/nD+vv+QAXv/OP84/wAADP5b/JP71P5P/p78IQC+/3D+h/28ApABsQE2Amb9e/9w/ukARvov+8r9Av2S/of93QKQAekAIQBw/pz/6/1E/Vv8DvsO+8D5cvsj/cgAZADSAdIB/gLSAfb+kv6c/7P+k/t7/woBhQDf/yEAmgKmAJABLAGaAo4ENQUsAYf9YgNCAMr9I/17//4CTQFYAt0CNAhKB0wEpQOwBG0EhQBuAbP+vAIsAU/+qP3f//IEAAAX/5oCHgamAP4CKgRtBGID9AHoA/b+xgNYAlv8cvssAaj9Z/pNAd//YgNP/mIDbgFCAIQDvv9BAwoBpQMM/kT9Lv6//J781vsu/rwCbgFkAOkAQQOFACEATQEhAAoBAACmAJz/9AFiA1gCkv5uAWQAAv1P/tT+QgAhAHD+ZAAKASwBTQEX/0b6I/1a/3z8qP0hAAoBQgBNAYUAIQAX/9IBT/4X/6UDhQAM/pL+LAEAANIBOP9P/pABCgGlA44ESgfdAqYAvv9m/eD8DvvW+7b4W/y//Az+kv6z/rAE0gEgA7AE6AMX/zr8vv+e/A77Dvtn+sz3cP4gA7AEbQSEA4QD3//oA8YDmgI4/xf/UPvg/Bj89/uz/nz8LAEKAQkE6APGAxUC9v6H/ST66/2//Kj9Wv9CANIBNgKxAZABvALpAK4HVgXoA+gD9v5b/CP93QK//If9ZAAsAaYATQGmAN//nP/2/oUAe/9iA5ABDvvA+SEALv6e/If9IQAAABj8tPu0+7P+kv4sAUwE5gY0CP4Cs/4j/UIAqP2q+pz/kAE4/wL9/gK8AiwBOvz0ATYC9AFuAb/89v72/k/+ivdQ+5oC6QAC/Rf/8gSlA77/yADdAugDCgEhACP9kv5kAPf7T/68AhUCT/73+yADKgTU/pL+NgIqBDYC6QDSAY4ExgN5At//h/3K/eD8k/sj/QoBAABkAE0B/QX+Ap78AABWBd0CZAB4BQkE3QIhAL7/IQD2/qj9Zv0C/SAD9AGe/J/5hQBBAwz+e//0ARQFpgAY/C7+Wv+e/Fz5MPhE/aYAAAAu/kIAZABtBKYAhQBiA7oFIQB7/1YF/gJ7/3D+xgOQAbEBNgJiA24BLAEAAOD8F/+mAEb67PqH/dT+OvwO+0/+6QBw/jr8OP/IABUCAABw/jj/OP++/woBYgOOBLwCpQOEA/IE/gKmAKYAFAWwBN//4Pwu/pL+1vsu/mb96QA2AgoBkAEKAWID0gHIAGb9h/3pAOv97PrW+0T9cvvU/t//kv5CAP0FpAb+Ao4ExgPSAaYA/gL0AVv8UPtm/Z/5Gvnr/Xz83/+8AqUD6ANMBDQI8gR7/2b9e/9w/p/5Z/p8/Nb7Wv+mAAAAbgEqBIQDbgG+/0/+DP7i+Vv8Wv9b/L/8IQAVAtT+WAJYAsgATQGEAwAAOP+QAW4BT/5a//IE6QBw/v4CugU2Av4C8gRCAOkA3QKo/QP69v5CALT7L/tP/k/+9/tb/NT+T/6o/fQBkAF7/7EB0gF7/wAAZAA4/1r/nP9NATYC4Pxa/7EBQgDU/nkC3QLpAAoBFAUsAev9vv+o/SP9UPvU/pP74PyFAKYAW/w4/woBQgBw/r/8Wv9m/Zz/OP8X/5z/Wv97/zj/6/1NARf/ZABCAPQBQQOQAUIAxgP0Ab7/OP8sAUEDpgB7/xf/9AE2Anv/Zv2c/4UAKgSz/mQA/gJMBBUCLv5a/24Bh/2o/fQB9v6c/8gAsQHf/9//jgSmAE0BggYgA9IByACOBDYCAACaAtIBv/whAIUAhQAu/k0BbgGS/kEDbgHK/dT+IQBQ+4j6nvxCAOz6v/yS/p783/9uAUT9AACwBLAEv/yS/ugDZADIAEIAyABNAbwCLAHK/YUAHgbGA00BYgMJBLP+cP5a/2QAnvwY/JL++Pjr/UT9s/72/hf/bgFa/yEACQTSAfb+1P6QAcgAqP2+/wAAkv6o/Xv/pgBm/b7/sARBAxUCQQOFANb73/8KARr5Z/r+AoUAAv0j/ZoCQgDU/r7/e/97/xUCeQK//NT+jgRa/5P7ZAAKAcr9OvwM/rP+mgKFACEAxgPIALwCkv5b/CEAe/8X/7P+DP6aAtIB6AOmAAkEhAOxAf4CeAU2AjYCpQM2AsgAT/5CAHv/s/55ApABDP7+AhQF0gGc/90CLAHW+7EBLAEu/rP+DP5P/lr/s/6mAL/8kAEVAiEA0gH+AtEE6QB7/8gAeQLSAd//Wv9NAQAAT/4C/ZL+vv8AAC7+1P5uAcYDvv+S/jj/s/6T+0b6qvpn+hj8yv2o/Tj/OP9uAQAAF//IAE/+Av2c/+kARP0u/nD+Zv3g/Bj8yv06/AAAI/3pAJABmgKEA1r/hQDU/vf79/ue/Kj9T/5E/U0BpQMUBTj/s/7GA7wCLAHK/aYAIAOFAKj9fPyQAYUA3/+H/bP+CQRuAYQDQQOEA0EDCgG0+wL9cP7K/db7cP6FAE/+CQTSARUCCQTGA6UDIQClAwkE6QCQAWQAhQCS/qYAnP+z/rEB/gJ5AkEDmQWEAwkEsASQAVr/1P6c//b+I/0hAPQBQgAhAFr/NgJYAiEAWv/SAbwC9AGz/rP+h/3f/9T+A/oO+8gA9v4C/dIBQgC8AtT+WALf/xUCFQKS/nD+bgEqBKj9h/2mAEIAk/sj/QAAZAAsAfQBkAGmALwCyACe/Fv84Pwu/sD5hQB5AhUC0gEJBG4B4Pyc/00BcP7W+5ABLAEKAW4BmgIAAN//hANa/1r/vAJiA00BTQGaAgAAT/4u/uz6UPvU/hUCcP6FAJoCjgTIAHz8yv0C/dT+h/1E/S7+cP72/nD+0gFiA3v/RP1P/tT+pgC8Ak0B9AF5Ajj/h/2z/tIBQgBCAE0BWv/2/t0CvAIX/wL9Zv18/C/7yACc/7EBQQPdAnkCeQLSAbEBkv6mAHkCTQHSAfb+WAKxAYUAe/9P/oQDTQFkAIUAQgAKAQL9qP0O+0/+Zv06/JP77Prr/dT+yv0X/wz+DP5NAd//kv6//AoB3/9E/XD+OP9b/OD8L/tw/pABbQSxATj/xgP0AS7+h/04/8r9RP1w/gAAnP8VAlr/AAB7/1r/qP32/iADYgN5AhUCnP9NAXv/DP4O+wL9ZAAj/SEA3/9tBJoChANNAcgAOP/IAOkA9AEKAVgCNgJkABf/iPqH/UT9QgBCAET9VgWwBLwCpgBNAdIBcP7L+k/+e/8sAekAF/9BA00ByABP/gAAAAAKAWQAFQIgA0EDTQFuAfb+F/9a/+v9QgA6/CwB6QAVAmQADP44/8r9bgHK/Yf9yABuATUFkAGc/+kAhQBw/lz5RP3pADj/ZABuAW4B3QJNAfQBk/vf/3v/tPtw/gAApgDU/nkC3/+H/UEDkAGc/wAAHgb+AsgALAFCAMgAAADg/Ov9CgGlAwoBF/+wBCoE6/3g/LP+e/84/xj8h/1b/Bf/e/+FAMgATQE4/0IAAAAKATj/1vsAAJ78Zv04/9T+QgA4/yP9e/82AlgCvv8AACwBsQEM/gL9OvzIALEB9/uH/VgCLAFa/7P+sQE2AtT+TQEu/qYAFQJkAJL+KgQgA4UANgLyBNT+IQDU/mQApgCc/zYChQCaAoQDQgB5AkwECQQsAQoBNgJP/kIAQgCFAN//pgBCAN//CgF5ApoCIAN7/0EDmgKFAEIARP1a/zj/6/0hAAAAeQJCABf/hQCS/vb+Wv+e/E/+v/w4/y7+F/+mABf/yv2S/uv9GPxNAXv/Lv55AsgALv5P/sgA1P5y+7/8T/6e/EIA1P6o/XD+s/6FAAz+e/9w/sr9ZADU/sr99v4sAdT+yv0M/gz+9AHr/QAAAACxAQz+Lv7pAFgCh/1E/XkC/gJ5Ahj86QCxAUIAh/3W+woBCQSQAWb9vAKwBP0FIQBCALEBhAOmACEA9v55AuYG0gE4/+kAHgZ5AnD+nP8gA24ByADr/QAAxgMsAbP+yv2EA90Ckv6S/mQAyABCADj/s/6aAhQFeQLIANEESgcqBN//AACxAYUA6/3g/Ov9pgCo/Z78CgGQAcgAIQB5AsgACgFBAzj/QgCz/vb+v/ye/Dj/kv4j/ZL+hQAAABf/kv6c/wL9bgFw/r/8s/7IAIUAv/wX/zYCZABb/CwBpgAKAbP+DP6z/ukAeQIY/Dr86/2FAFr/F//f/9//vAKFAFr/CgE2AqUD4Pw4/+v96QB7/+D8nP+lAxf/hQBuAVgC9AHK/VgC0gFw/nv/yv1kADj/fPwj/fb+KgS8Ahf/3/8JBP4C9/uz/tIBIAOe/JL+LAGH/S7+e//g/E/+TQHf/0/+QQN4BaYAhQAJBGQAnvwhAL7/0gEAABUCWv+mAKUDLAGS/qYAhANw/kT9Wv9NAQoBF/8j/XkCxgMhAHD+kAG8Apz/cP7K/bP+DP5E/b/8cP70AVgCbgGQAXkCpgB7/yEAW/wM/rP+DP7U/qj99AGxAfQBCQTpAAoB3/9P/vb+RP2o/Xv/AABP/tT+TQFa/2QAFQIsAZAB6QDIAL7/nP9P/lr/v/zIAGQALv4u/r7/TQG+/wz+nvy8AgAAkv6S/goBIQBm/ev9fPwAACwBWv97/4QDNgKxAeD8ZACEA4f9e/+FANIB3QKmANIBYgM2AgoB0gEhAOkA6QAC/ev9Wv9CAGb9nP++/wL9RP0AAHD+6QCmAAAAIQAAADYCpgDSAcYDbgFYAjYCNgLpAJL+NgIhAL7/vv/0AekANgJCANIBTAQAAJoCvv9a/77/ZADU/kT9CgFkAIUA9v4KASADZAB7/5z/CgHpAPQB1P6+/0IAvv8sAev99AFuATj/3/9uAQoB1P5E/bP+tPs6/Dj/7PrW+ywBQgB8/Pb+QQPRBC7+s/72/lr/0gH3+578QgCFANT+I/3IAOgDLv5P/m4B6QCQAcr9Av2lA24BI/3s+jj/LAGc/6YA6QCxASwBnP/r/bEBbgG+/wP6OP8VApz/vv9kANIB9AG+/zr8TQF5At//I/2z/kEDLv5b/NT+IQCFAET9IQClA+gDhQDr/f4CxgNw/vb+WALdAiEADP55At0CCgGS/mQA3QJYAnv/LAFYAoUA0gHf/0IAmgKmAJL+9v4VAmIDOP84/xf/FQJuAUEDFQIKAfQBKgTpAOkAZABz+ET9F//SAbP+XPn3+xf/hQCaAjYCs/6o/Xz8qP3IAKYA/gI4/6j9IQC+/yoEmgJMBG4BbgH+At0COP8u/nD+I/0C/Tr8F/8AABf/hQA4/2QAZABb/N//1P7g/C7+TQHU/mb9OvymAEIAAACc/5L+6QCmAIUAWv8gAxf/4vkC/XD+CgG//Fv8nvwO+7/81P4VAjj/CgHg/NT+vAKaAiEAv/wKAbAE9AF8/MgAIAN5Ahf/CgH+AkEDQgBm/U0B0AelA3z81vumAN0CGPxE/QoBF/8j/Tj/OP9YAiEAcP7U/rAExQamAC7+NQVVCKYAAAAAADYCZADs+nz8yADyBE0BfPzoA0AGNgLU/vQBbQSaAgAA1vt5Av4CF/8v+77/0QSFAOv9LAFBA0IAIQD+AugDNQUqBBf/LAE1BaYARvpa/1gC3QJb/Jz/3QLpAAz+qP2c/3v/FQLi+cv6kAFiA4f9JPrpAGQAyv1P/iEA9AFa/9T+v/wAAPQBAADK/UIAvAIC/Z78OP8sAXD+UPuI+p78Av2e/AP6Zv0j/b/8Dvtb/Bf/nP9kAAz+FQKEA0EDF//IAHkCsQGc/zYCmgJw/gz+WALf/2QAyACc/2QAZACQAYUARP3r/Wb9n/kC/QL9DP7U/v4CsQHdApoCjgSQAYQDKgQKAdIBsQH+AhUCbgHSAQkEWv95AtIBs/7r/ev91P7r/Xz8OvwY/HD+vv9P/rT7T/42Am4B6AOCBngFvv/oA/4CeQJMBJABZADpAFgC3//2/lr/hQBP/pL+3/+mABf/vv8X/3D+AADK/Ub6I/2+/5L+OP/f/90CNgIKAfb+IQDcBYQD9AH2/k0ByAAC/Q77F/9w/lv8W/yo/Vr/9v4Y/Dj/kAEVAnv/Lv7K/cr94vlm/ZP76/2T+8z3kv6c/wkE3QIsAegDCQS+/3v/9v6+/xf/cvsC/dT+WAJE/Wb9AAB5Ar7/ZABNATYCWAK+/xUCpQNkAJ78L/uFAGID1vtw/rwChANkAAoB/gKQAWQAkv4u/ngFeAWmADj/YgNtBKYAAACQAekA1P5uASwBWv/2/ukAe/+FAI4Evv9m/bEBbQRMBOkAe/8gA9T+kv7r/bP+hAM1BQAAhQAqBI4EZABE/YQDpQOmAJL+4PyaAiwBAv0M/r/8cP5P/vf7fPwAAGb9s/5m/SEAe/98/JABYgNuAbP+Lv7K/cr9k/tQ+6j9e/9uAZ78pgCaAk0Be//f/zj/OP8AABf/OP8AAOD8kv6FAL7/T/5y+6j99v5a/w==\" type=\"audio/wav\" />\n",
       "                    Your browser does not support the audio element.\n",
       "                </audio>\n",
       "              "
      ],
      "text/plain": [
       "<IPython.lib.display.Audio object>"
      ]
     },
     "execution_count": 12,
     "metadata": {},
     "output_type": "execute_result"
    }
   ],
   "source": [
    "# here the word is unintelligible\n",
    "utils.display_audio(os.path.join(path_to_main, \"cv\", \"stop\", \"dbb40d24_nohash_0.wav\"))"
   ]
  },
  {
   "cell_type": "markdown",
   "metadata": {},
   "source": [
    "The majority of the mislabelled examples are silences where the person wasn't able to finish the utterance in time. Knowing this we could expect our models to incorrectly predict the silence category. \n",
    "\n",
    "Having tracked this in the CV set allows us to potentially remove all the mislabelled examples from the CV set. Let's keep both the cleaned and uncleaned versions for now. The below code is Linux specific, for a Windows-compatible code switch the separators in the mislabelled_cv_paths list."
   ]
  },
  {
   "cell_type": "code",
   "execution_count": 13,
   "metadata": {},
   "outputs": [
    {
     "data": {
      "text/plain": [
       "'data/main/cv/yes/c4cfbe43_nohash_1.wav'"
      ]
     },
     "execution_count": 13,
     "metadata": {},
     "output_type": "execute_result"
    }
   ],
   "source": [
    "# show a wav from entire CV set\n",
    "cv_wavs[0]"
   ]
  },
  {
   "cell_type": "markdown",
   "metadata": {},
   "source": [
    "We have to turn our paths from the mislabelled_cv_paths list to match the above, and then remove them."
   ]
  },
  {
   "cell_type": "code",
   "execution_count": 14,
   "metadata": {},
   "outputs": [
    {
     "data": {
      "text/plain": [
       "'data/main/cv/down/bdee441c_nohash_3.wav'"
      ]
     },
     "execution_count": 14,
     "metadata": {},
     "output_type": "execute_result"
    }
   ],
   "source": [
    "mislabelled_cv_paths = [\"data/main/\" + p for p in mislabelled_cv_paths]\n",
    "mislabelled_cv_paths[0]"
   ]
  },
  {
   "cell_type": "code",
   "execution_count": 15,
   "metadata": {},
   "outputs": [],
   "source": [
    "# keep only correctly labelled wavs\n",
    "cv_wavs_cleaned = []\n",
    "for wav_path in cv_wavs:\n",
    "    if wav_path in mislabelled_cv_paths:\n",
    "        pass\n",
    "    else:\n",
    "        cv_wavs_cleaned.append(wav_path)"
   ]
  },
  {
   "cell_type": "code",
   "execution_count": 16,
   "metadata": {},
   "outputs": [
    {
     "data": {
      "text/plain": [
       "6850"
      ]
     },
     "execution_count": 16,
     "metadata": {},
     "output_type": "execute_result"
    }
   ],
   "source": [
    "len(cv_wavs)"
   ]
  },
  {
   "cell_type": "code",
   "execution_count": 17,
   "metadata": {},
   "outputs": [
    {
     "data": {
      "text/plain": [
       "6811"
      ]
     },
     "execution_count": 17,
     "metadata": {},
     "output_type": "execute_result"
    }
   ],
   "source": [
    "len(cv_wavs_cleaned)"
   ]
  },
  {
   "cell_type": "markdown",
   "metadata": {},
   "source": [
    "### Balance the dataset\n",
    "Let's see how many examples we currently have, per subset & per category."
   ]
  },
  {
   "cell_type": "code",
   "execution_count": 45,
   "metadata": {},
   "outputs": [],
   "source": [
    "subsets = [\"train\", \"test\", \"cv\"]"
   ]
  },
  {
   "cell_type": "code",
   "execution_count": 48,
   "metadata": {},
   "outputs": [
    {
     "name": "stdout",
     "output_type": "stream",
     "text": [
      "train\n",
      "yes\t   1860    1860   40921\n",
      "no\t   1853    1853   40766\n",
      "up\t   1843    1843   40546\n",
      "down\t   1842    1842   40524\n",
      "left\t   1839    1839   40458\n",
      "right\t   1852    1852   40744\n",
      "on\t   1864    1864   41008\n",
      "off\t   1839    1839   40458\n",
      "stop\t   1885    1885   41470\n",
      "go\t   1861    1861   40942\n",
      "silence\t    294     294    6035\n",
      "unknown\t  32550   32550  881635\n",
      "\n",
      "test\n",
      "yes\t    256     256    5632\n",
      "no\t    252     252    5544\n",
      "up\t    272     272    5984\n",
      "down\t    253     253    5566\n",
      "left\t    267     267    5874\n",
      "right\t    259     259    5698\n",
      "on\t    246     246    5412\n",
      "off\t    262     262    5764\n",
      "stop\t    249     249    5478\n",
      "go\t    251     251    5522\n",
      "silence\t     52      52    1063\n",
      "unknown\t   4268    4268  115594\n",
      "\n",
      "cv\n",
      "yes\t    261     261    5742\n",
      "no\t    270     270    5940\n",
      "up\t    260     260    5720\n",
      "down\t    264     264    5808\n",
      "left\t    247     247    5434\n",
      "right\t    256     256    5632\n",
      "on\t    257     257    5654\n",
      "off\t    256     256    5632\n",
      "stop\t    246     246    5412\n",
      "go\t    260     260    5720\n",
      "silence\t     52      52    1069\n",
      "unknown\t   4221    4221  114326\n",
      "\n"
     ]
    }
   ],
   "source": [
    "# let's use unix commands to see the imbalance\n",
    "for subset in subsets:\n",
    "    print(subset)\n",
    "    path_to_subset = os.path.join(path_to_main, subset)\n",
    "    for category in categories_to_predict:\n",
    "        print(category, end=\"\\t\")\n",
    "        path_to_category = os.path.join(path_to_subset, category)\n",
    "        !ls $path_to_category | wc\n",
    "    print()"
   ]
  },
  {
   "cell_type": "markdown",
   "metadata": {},
   "source": [
    "The simplest solution is to only use a random, limited number of the *unknown* examples and use our data augmentation techniques to create more *silence* samples. Let's listen to some of the silences first, to know whether we're creating different, but valid examples. \n",
    "\n",
    "Remember that the silence category is also supposed to cover background noises, it is by no means \"quiet\"."
   ]
  },
  {
   "cell_type": "code",
   "execution_count": 56,
   "metadata": {},
   "outputs": [
    {
     "data": {
      "text/html": [
       "\n",
       "                <audio controls=\"controls\" >\n",
       "                    <source src=\"data:audio/wav;base64,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\" type=\"audio/wav\" />\n",
       "                    Your browser does not support the audio element.\n",
       "                </audio>\n",
       "              "
      ],
      "text/plain": [
       "<IPython.lib.display.Audio object>"
      ]
     },
     "execution_count": 56,
     "metadata": {},
     "output_type": "execute_result"
    }
   ],
   "source": [
    "# let's grab our silences\n",
    "utils.display_audio(os.path.join(path_to_cv, \"silence\", \"dude_miaowing_5.wav\"))"
   ]
  },
  {
   "cell_type": "code",
   "execution_count": 57,
   "metadata": {},
   "outputs": [
    {
     "data": {
      "text/html": [
       "\n",
       "                <audio controls=\"controls\" >\n",
       "                    <source src=\"data:audio/wav;base64,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\" type=\"audio/wav\" />\n",
       "                    Your browser does not support the audio element.\n",
       "                </audio>\n",
       "              "
      ],
      "text/plain": [
       "<IPython.lib.display.Audio object>"
      ]
     },
     "execution_count": 57,
     "metadata": {},
     "output_type": "execute_result"
    }
   ],
   "source": [
    "utils.display_audio(os.path.join(path_to_cv, \"silence\", \"doing_the_dishes_73.wav\"))"
   ]
  },
  {
   "cell_type": "code",
   "execution_count": 58,
   "metadata": {},
   "outputs": [
    {
     "data": {
      "text/html": [
       "\n",
       "                <audio controls=\"controls\" >\n",
       "                    <source src=\"data:audio/wav;base64,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\" type=\"audio/wav\" />\n",
       "                    Your browser does not support the audio element.\n",
       "                </audio>\n",
       "              "
      ],
      "text/plain": [
       "<IPython.lib.display.Audio object>"
      ]
     },
     "execution_count": 58,
     "metadata": {},
     "output_type": "execute_result"
    }
   ],
   "source": [
    "utils.display_audio(os.path.join(path_to_cv, \"silence\", \"white_noise_30.wav\"))"
   ]
  },
  {
   "cell_type": "markdown",
   "metadata": {},
   "source": [
    "There doesn't seem to be that much diversity in our background noise samples. This is a potential challenge. Our techniques of adding white noise aren't very sophisticated and might result in very uniform examples. The models might in turn learn to latch on to those simple, repeating characteristics, which do not really convey the idea of a \"silence\" - as distinguished from words being spoken.\n",
    "\n",
    "Let's grab the silence examples from the main cv set and apply the addition of white-noise, stretching and shifting (for increased randomness) to balance the category."
   ]
  },
  {
   "cell_type": "code",
   "execution_count": 61,
   "metadata": {},
   "outputs": [
    {
     "name": "stdout",
     "output_type": "stream",
     "text": [
      "['data/main/cv/silence/dude_miaowing_46.wav', 'data/main/cv/silence/dude_miaowing_39.wav', 'data/main/cv/silence/white_noise_55.wav', 'data/main/cv/silence/dude_miaowing_5.wav', 'data/main/cv/silence/white_noise_9.wav']\n",
      "52\n"
     ]
    }
   ],
   "source": [
    "cv_silences = [wav for wav in cv_wavs if \"silence\" in wav]\n",
    "print(cv_silences[:5])\n",
    "\n",
    "# confirm number\n",
    "print(len(cv_silences))"
   ]
  },
  {
   "cell_type": "code",
   "execution_count": 98,
   "metadata": {},
   "outputs": [],
   "source": [
    "# define how many we need to add (for cv & train we need approximately 200, for train 1500)\n",
    "to_add = 200"
   ]
  },
  {
   "cell_type": "code",
   "execution_count": 129,
   "metadata": {},
   "outputs": [],
   "source": [
    "# add them to a separate directory, for cleanliness\n",
    "!mkdir tmp"
   ]
  },
  {
   "cell_type": "code",
   "execution_count": 100,
   "metadata": {},
   "outputs": [
    {
     "name": "stdout",
     "output_type": "stream",
     "text": [
      "0 1 2 3 4 5 6 7 8 9 10 11 12 13 14 15 16 17 18 19 20 21 22 23 24 25 26 27 28 29 30 31 32 33 34 35 36 37 38 39 40 41 42 43 44 45 46 47 48 49 50 51 52 53 54 55 56 57 58 59 60 61 62 63 64 65 66 67 68 69 70 71 72 73 74 75 76 77 78 79 80 81 82 83 84 85 86 87 88 89 90 91 92 93 94 95 96 97 98 99 100 101 102 103 104 105 106 107 108 109 110 111 112 113 114 115 116 117 118 119 120 121 122 123 124 125 126 127 128 129 130 131 132 133 134 135 136 137 138 139 140 141 142 143 144 145 146 147 148 149 150 151 152 153 154 155 156 157 158 159 160 161 162 163 164 165 166 167 168 169 170 171 172 173 174 175 176 177 178 179 180 181 182 183 184 185 186 187 188 189 190 191 192 193 194 195 196 197 198 199 "
     ]
    }
   ],
   "source": [
    "random.seed(12345678)\n",
    "\n",
    "for i in range(to_add):\n",
    "    print(i, end=\" \")\n",
    "    # grab a random silence\n",
    "    wav_file = random.choice(cv_silences)\n",
    "    \n",
    "    # prepare outputs\n",
    "    output_white_noise_file = os.path.join(\"tmp\", \"{}_whitenoise.wav\".format(i))\n",
    "    output_shift_file = os.path.join(\"tmp\", \"{}_shift.wav\".format(i))\n",
    "    output_stretch_file =  os.path.join(\"tmp\", \"{}_final.wav\".format(i))\n",
    "\n",
    "    # random white noise\n",
    "    # within reasonable bounds and a constant seed\n",
    "    white_noise_factor = random.uniform(1, 100)\n",
    "    utils.augment_with_white_noise(wav_file, output_white_noise_file, white_noise_factor)\n",
    "\n",
    "    # shifting (default factor)\n",
    "    utils.augment_with_shift(output_white_noise_file, output_shift_file)\n",
    "\n",
    "    # stretching\n",
    "    stretch_factor = random.uniform(0.1, 3)\n",
    "    utils.augment_with_stretch(output_shift_file, output_stretch_file, stretch_factor)\n",
    "    \n",
    "    # remove the previous 2 files\n",
    "    !rm $output_shift_file\n",
    "    !rm $output_white_noise_file"
   ]
  },
  {
   "cell_type": "code",
   "execution_count": 101,
   "metadata": {},
   "outputs": [
    {
     "name": "stdout",
     "output_type": "stream",
     "text": [
      "    200     200    2690\r\n"
     ]
    }
   ],
   "source": [
    "!ls tmp | wc"
   ]
  },
  {
   "cell_type": "markdown",
   "metadata": {},
   "source": [
    "Let's listen to the new silences we've created, to check if they're acceptably varied."
   ]
  },
  {
   "cell_type": "code",
   "execution_count": 110,
   "metadata": {},
   "outputs": [
    {
     "data": {
      "text/html": [
       "\n",
       "                <audio controls=\"controls\" >\n",
       "                    <source src=\"data:audio/wav;base64,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\" type=\"audio/wav\" />\n",
       "                    Your browser does not support the audio element.\n",
       "                </audio>\n",
       "              "
      ],
      "text/plain": [
       "<IPython.lib.display.Audio object>"
      ]
     },
     "execution_count": 110,
     "metadata": {},
     "output_type": "execute_result"
    }
   ],
   "source": [
    "utils.display_audio(os.path.join(\"tmp\", \"1_final.wav\"))"
   ]
  },
  {
   "cell_type": "code",
   "execution_count": 111,
   "metadata": {},
   "outputs": [
    {
     "data": {
      "text/html": [
       "\n",
       "                <audio controls=\"controls\" >\n",
       "                    <source src=\"data:audio/wav;base64,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\" type=\"audio/wav\" />\n",
       "                    Your browser does not support the audio element.\n",
       "                </audio>\n",
       "              "
      ],
      "text/plain": [
       "<IPython.lib.display.Audio object>"
      ]
     },
     "execution_count": 111,
     "metadata": {},
     "output_type": "execute_result"
    }
   ],
   "source": [
    "utils.display_audio(os.path.join(\"tmp\", \"2_final.wav\"))"
   ]
  },
  {
   "cell_type": "code",
   "execution_count": 112,
   "metadata": {},
   "outputs": [
    {
     "data": {
      "text/html": [
       "\n",
       "                <audio controls=\"controls\" >\n",
       "                    <source src=\"data:audio/wav;base64,UklGRiTwAABXQVZFZm10IBAAAAABAAEAgD4AAAB9AAACABAAZGF0YQDwAAAFEAcKRg6WCcIUMB9pEAILuxDUFlAKoxCPF8Qb4SZBIC8RbAq37MbQOOI32JPskvLX5Xrxk+wb8M/fdt9C3yHpQgPKIKgoUTOAIs8PxAIO6aXuX+MU3tvY9vEb5vDvhvqL+Sb8Rgdj75/x2+104WDvb9iA/FwS8BiUGTMjOihnIUge7RA+Gj8XJf9x9/nmTdmY4/fxpeSq40vwQuit8iTqQ+ybCaEZoCohL084KTbhGfgX7gMB4D7ZyuR67VPs//Y1/eD3KvVT79LuEu+A69j7ffWI86wCSf7vB/Uf6Cn1J1kb+RyjCIgCnPoRACYD//fj+ZDvl+eE17HkyuLB4AkC2RiaG3QddiYlHIkW7BiDI7cW6/tt75/ZCNmI1KLjZAecFhcYEBtBHywRQuwt2LjLwOBD0OvcIO0i+AQACgMbDNUGuAdDDXwM+gpfEVAbSxtDD74V+BOo9g/vuwJV8vH9DwNq+nICuwKXGF0I+P/HDzr9LvJY9JXvCvle/CDujeeH6MPaPPjE+pMMLjD9KXEkTR6wCI30d/fZ65rnGgYECMgAkALU51H0IOSqBH0JZgkX+6oKpukS5O/jS/vyBRcOUglt/mYCf/nZ/nX/jP9rCgYE0Ana+nnm39383pHpRQNO+9AY4RXPEuIQQwqcDKQYtw0+DU0cqxUZIMYV6v+uD2jqMMHezr7AU8C8x0vk3O7mDW4glh1/Jx0dOwV4AkH/OCZQK50hBw+7Ca/7YOv+6vHs/u3D+yQAsfgK4cjyitua5JnaKtuE6SLtJ+9+8p75cvV2BkoCoxA5GJwYShaEFQ0nNBfi/TP4DOWDzZ/de/KH93X/UwmwGnEgBhq3H4cZIP9ED54OmBnQIgYpUhRzBrT6ieG022na69Kz4c7tKRYjIPU1fjMLHXsR6f5N9NwDzQ4nFBkjKitUGzEcfhdxD2ALE/BP68HayONU6gXs/fno9ZX0xPMH19/ZP9hZ4bgL8Ap6F64zyTUtErgL9vyW59n8RANRAz0M0BMnEdz9c/Ss6ivqOf388B7nK+mm6EXZHNk81wTbgvEw8Cn2eBQe/8YLqhk3CJcW3BYBJuwn7B4dDT72Fv7x7evqCfKPBvYkmiiqHkQYu+8H42PZ6cgM0iHPpeZaAPL5v/l2+HoDcQNjBUIE8xpPEYMaPyUPIW0L3e5A7NTU/N3c09bgAP5q90fxywZb9wbej9Jl42LhwfIWB5b8JgGuDZAFHA6nDDIY8h5HJt4huRW6/vrw+vp39n78+ASg+MYGKwNI8l7vSxAcCl8frxywI5wtLh0rB5MPM/9j9okFPPwk/tz66OF84uvq1fZ//pT/HQvKCncM5hnTGRwNFR9o/cX/RhCRE5wFpBIrGrkFMgqW/6HvKPc8AMUMcAFO6sPtdNtU3T7agNbB5m4GTxnmMfM2YjAVGq8JZv8I8MLmFwMVD2EgvidMF6AN4/AhzibqmORu5WTpR+7v+6n/FA1VBvjmcOkJ4wLfmujJ9cvqAgFpFP0SARRFGaAhxxQn/bfxaOKa4+De1eZ57PINjBCDA94XvRBaArj2q++C7OkCJRL9GDQbTR3nDAXtX+2w74zqyfR99SEG9P/X+o7wiN+58Un/3AeiFLUWjxEcAxD54evD7Sj/jxS6+vcI/fFz8KPx0OZY3PDhtOvp7qj3Lf8FChIGqwa+Btvx6f/D3WPvY/5L9I0DSAidGX4WHQ73F2kVKA43I/IiuyIrIPsctged9WPa/Nbt0qvnAPnF/ukQPyYsGeUAkwAoCJsVQAyuAtUUtxDZC24GPOtM/ZoOdAHAGCst3he/FKsgyQpzDFL8ledyBUP/UwKD9Dn/mwF9/+/6MuBB9ln+9fFlB2YSTPW+6SXuAfE+/FIOAxzwA1EOEQVh/031gf28ASENVA7PEuMC6gv88nr05edu6Kfyh/zE9eb+aAGF+Jr0wvbo8U/erOBp5bnliQEuD50tLSSfJW8iXPnG6RfmyNb9zZPbNPSG9YkMfw4tG9YTYgu8/Gz08Ohf8sTwIwf1FCcJDw2r91/9GOcL2YjcMur46gbhm/N2AS0PbA7rFh8aGwzoFdYGXAXOCdcOsB6JJ/MOH/2V9OjqC+D46JvlZPCu8rr5tv/TEvgP+xkSFM0PXxGY/pLyrPdf8qkK9xLrJz4aIhQNEmEa/RqNBhsHZgKdAWj7xvEq8+T1xOg16aHp+OZj4/vp0uJn5AL3ZQf1FuIc4htNFDcMuxFrBW0HtAdvAgv+Vf5oBh771fb9Anv4sf5U/IQGf/qRAyEJjAm28CoHSwMG/w4Hq//xAtkPzxc9CMn3B/G/83vzT/pyCt4I8QQ697zw8OsC5dH7dP98AXr/gPX27nTWEN8Z4+rrFgsV+m7/4P1+8RrgZPMjAP0XgyxeL+widh9vFmL3zQP//t/z3PLe66Dqne6H4XPkKepuAvoWTBy2KEcc5hv+Dkv84PKv/10BbhHDEisoMjNBKGEjcBLYB+/wRO3a5bvmDP+DBw8SjQzv+070pNvc1dvRht349I8BPvwsB4X9H/tgAxIADf/eEwwS+hQ0FT0XqRqSG9keoxJqELgCZ/QC6Cbml99f1VPcTumN6/TtiO5Z6izrsOCW5afo3PBF8q8IUBpyLlUtADDlJHIqoh1fCH8GFwzBDMgNRgRr+GPtkOAh2JbcreyO8gsG2QY1ChEBTARs8k/kUOzc8yb+eQQPD+YliSgoFmEM0wAp+jXfeOym6CDwn/qJ6//3e/k++hAMfBJJDmUDufQv3njznOKc7xv00fMIAm33WfBl7hjh4PEuATsDvBHxFDEUnxxwGqgb8RqPGrUXRxqsDNISPfpx+tP14+fS4DXtX+66+OkLgA54AUP7ePUA60jr7uwq79z9VwzoFyYWVxQ4Es8T0B/dJl8lTSDDGG0FDvpq65XtePbj7mjwQv5n7i303Pi75tzzgPzu+icISvlGBrYPXRSHEcQaHhUHFVYT9g7i+gj5tQOk/kYDvwIp+PX2Af55/6z8Gw4OFzUPugtrCV4CLflR9N/xP/Gf6kXkzvPV9dPnHfIx9lH+fvPU97v8bAfFD3YPEg7vI0EXCxCrDNEArfuu+0UJawJPCR8KdQqHDPX+Cvew9prrCeZd6O7gZu3N8CTtsfWm9n38tfx0A9EJhf7e/2YH4QGPDT4MpgYeC/EKEvohDmwML/yuAwcCB/Jr7yTjbtU802zX1Oz5+Y/+swF+7ojthPVU9HHs7vCZ/eQMcgOGAfIEOhGODvcTvw+OFYcVKwxt/PP5lP4G/gf+fxAWDlMVY/oa93Tg/eKe4q/oIuEl4yLzhAZtCkYUcBQ1GIwgox8fEoYbIhdVB/YB3gHrAe77ggO8CqgJSA8fDqoQkRdFGZwDYQBXAv/5sPWa/8wFFArw+/f6BvdB9fX2WADyDl0Q9hinFBwWCROa/oQAV/Y1+Mf10uhj8S0AgQIGDoAd4yDFGpoCp/aP6nfljNtA8Grkx+xp847vWvEa7PPwZe0BAIb1ye5L9Af5nAdWEM4a8x+RJhMXwgqkCCUDyvokAskFiQlU/j/0G/bw8Lz0HPSf7h37vfVS+Qv7//9cBEH9sPHD7G36wvWnA64KbwwSFrULAfjr9s3jnuyw+Z8QFR7+EYkL4wJk+5HzUOmh6Ifx7ugK8bTfJuDk1p3XOOpt81kOpx2RFfoXHQTM8Nvk9eXc+/kPvSL3Gx8aRQ+wAPwMcg7NE+EQ+QxpEdYHW/k3+PTuHvqf/rD+2fKO+8HysO1T8VD/3wJ8ChkHxQr9DI4Ief459A34AAV6/d35eQqUBfEITwrZ+8wEqRpXCuYKTATi9tPtPOvs803zhP7pBdwHmBECHg8OigdNBuIEIgTeB/gNdA1XBWQNbwPkAGoRLwNdBI3wF9RK0R7MTd/96Dr7Qv6R+ZTz1AevBRoD+QcgGEUXbBkwDXn2BwCk/HwAMxV+Hbwq+ykQGwAjGyWfG4UPhQxp+4z6p+f236Xa8dJ14y7wRfGm7vf8NhUzG0gcgBqPEZAJowrtDVEIJxwwJ7sMthfJBdH0E/MU8u8ADgBi8MTo1NQ21O/B58YT04fn8udz86j4/vYY/U35qvyxAED5qg7JF7ccdSTOJNohSgLO/EQF5Pbl9+nzn/keCOwO7Ace/0f2fu0016vIFMoOy0LfB/cnBKAI7QXgBT/7YfZ2Bqr85AbiE8EEqP2v/MQTtxryIq03ly9FIT0G5uct5E3ZnuNU9QD8rAxp/oL4Heh53vnk8ti57FDzyROGCDoNVgodCZ4KMgmbCAMfHCvhGfIYNAtLCWn3EfJy97bvnPTc/fsISQRz7p/Rf80ty9y74sk15Dj55AWjDbAX5S3rIOwlJSqaK3wpAiuXHxYZjxpqFIYHmf959knzOPo28Yf15PhsAjIBivbhBKcLERJAFHsK6wQ8FxsCWvgaCYkJrQg5DQYL2hh4AZoDFQI48LAAzPHY7lwCrAEOCS7+7vJ9+/j0MOnp9e3uhv3WCIYIZgM8+x76B+Gx3gXw1++c+PYAKwSZCQUBNPy2+Gn4wfii/U8JxQ7AE8Qa5iGWGyUQUQ9U8O/m0do50r/YKukXBeYVhinOKYwzoR/aBO0Ab+mJ4631afJz/6j5tAehFXgQaQEHA4gJGQX49+jyCu8+76vyy+0K6cj95fm7+ZjuI/qI9i3qheuC7mnpHPFW90UCUBM4GjAbnwqeCBEEuf8eDvgEtxEN9rH3TPOV7q/yG/EOBI0LIRBbDIoHE/ok/MD5U/kU+AbxOOiM49rkK+Fs7ensRu5z9iD9hPajCKoFoA2VGa4pfy+IMQQwehpcC7b9cP3H+L/3KAGuCb8E7AB+BUz8dOpO88v1MwZbCZ4KGg+HCb0IOAlwDTMQ8iKXL+IiFhqlFLoBnvcR867mZexO+7EFt/wqAtLzgOiA7hLtje+4+0sKCgUHD8r+s/Oz8Cv2HveA/jAMIhPFIdcnIB81B8XvY+ov9i7csegJ9tz4PPdd7kTmL+I+9zkHDhAjEHcSVwji+6P0Ae7G6KTjff97CscIpw6S/kfwEeCZ6+3oafSrAYoGhQaAACP75O5k98r5aPyQAUgLORDzEJcMcg7zBFAPewkVDVkWmhvXDfgE2PfD6s/vxuSS49fj0u5r+579VwP6Dp7/cwgCBy30ygnuDGMdCBwxGu8SpPvl5hnrMuDU7fr6qACEBQQW6AXEA1rodO7vAtn5LgL0BeH8YhLqGrsQhQu1AW0MvAKQAgwBfPPY9Vfs4OuC84T2QwTkFfMqKiwwH+IIvvZJ71nbX96V7DrsKPJd7nz1a+Rc1AvoCQDNCLkUlA/GCX4ZEAhYBQr2WQ1aDl4mpC9LB9jtKtooy6bdf+jz+/YOWw0EF0gPX/+z/x3wPgXaB1f+VwbPB3QDWwkF97Xx5vNV+HoGDxLoCSH+7f0g8gf1B+Wb6VwByOvn77Lo6OMe2Qnhud0K4H300fx9+R4GPwmWCocAvwZODkcSEy7oOdMz5DU1HDYVWfh18tvqb+hWAdwJcgXPHPYScQt2CfD4VvV17qHmpvoUBZwfoyzrNu5C3TTYKM0aBhHWAmoEvQyMD/cKyQfu/WD/GPkA7yjXqN/W5r/eVfxZ9U/20P+TEAgPYhfWF2YOExIFA2r7quy23A311+mm6Fr3qfZ19B3pPfaYAQcHViUyHmgpqBbgDtgCR+/e4uzhu+Wi9JPyOeyN2SLKMr3pv8+8hNkm+oz/BxfcH48sgDGVLMcbgR/+EhgUvAMJ/hkNBwVXCkgHTQC4BX36XusB6p/fHdzY7UbvGfcRBZrzFfS773Lizd1P2urQvvA47hn3NAK5DWMfXiInDG0MlwQP+6rzhfL1APoDyPzN/uUE9wFT76vf3NhWz2npsOKF9CALuRSXMAwmXiXwFi8JzwzfB0cQQRWvGe8qIBQ1EfwV3Qq/HAUeghLJAzAF3ges/E0A4QFoBnMNWyUUIosXAgNh8/nwHu5a5NvkbORS6gb95gFyDBgLVQXxBev+OPvW/6D7eQZQFgUaph6YEQ4EOvhZ6jzpZPLL8kcD5Q4oDf4cMxpxHkUXhQOP+fD3CegF+wQCMA/oJgIN9QSB/+n4B+rH3JPaafA98t0DpwlnExAYNBCaB+YKagtrDwIJvRdkGaMZuBkVEeUUPAKJ+6PgitM3yEe3ZKuBsB69r+at+oMKGCFWLrkcPha2GO/2MAVwFg4S3BjxHREKGgF28ebagNEUwvLOhsne1zPfo9+l2B7iEfG878j1L/sKARISMiRVL3gnMxmTI4wOUvBp9JT/MvGq71r6be69BAYF3QEW+qX9PQFS/vf7kv3w+uDsIeZ12yjYkvNO9c4ETQMHAAj7bf36CPYXqyPGLpY4LCkPHwoN+ffHBFkOwgHQBCQHaQiG8rDo8fZj82cCCQk8B14Q3AFn/Hjy0fhr9nf3/AuLF94kpRXaCv0FqQ9YBeMG2BRNFgwc2gzjBbr3oO7b6Rb3IvN8BSQB+Qrp/oXi9uIf3a3sZvAM/24J7RwLFtkctBV2G9sqJTM6KCgdJQ/Y+tvks9lz4pbrCQflBocFrvZE7CXjLdEw7IbtT/EwAuHqFumc67ftOPk7AG0GiwRA+D/+QQq+Cp0jzTVaL6Em+BxYBykGa/Tq4x70TvVY/Fj+zQiuC4jvYe7E7cjbUtvg33fsDfZsB0QCAwwBBc/zDe7i4p7w4Pjw73b5tBUXD9Eahh+DKpsleiHxGLsErPx8/Pf0YeF95aHlNM/fy9jTP8pS0wLgM+9N/rz04QM1DlP/8Abg/cT94xN+G1UppzPNIichxwtp/a3/+PmGGKgT/wkoBRj9wfXW6gndNOYq817sh/i6/dT6APAd55PTn+an+DgKvhF0IX5GkTklL4QoqQ6oE50Iv/1q+hYGIv4r/jwBxvsE8vnuZfCc/773JQFPBOT/Pf8O/bsAogJID94YHhwEGXgG0/Xi9SPxduQC75YAVgvYF/wYhxXUAAD05ul24X3eN+vG4zDy2PU17SPtrfHU/NwD5gskCi8KLgVgE3wbZBoOFFwXWBTWCecAL/mG9zH7TPxLCVIImQOD+4f1WePT7Z0OPhNsJPElnhzBD4P3jPRV47vw8wT8By4g6yiPF8gamAtU+T4AiQG0ClYWlQtWE4gS8w+uETQQ3gskAcnn6sNGxMu6gbn0x2rUqujQ8KL4yt488+fvK/y5DmILYBZOJH0JrAen9dXzFv34AsH74wcoBxP6FO6n58vXddme3HHpzvhRBYER2gkbBlD77f+/+4/7YwhUEUcfIh4KDGT5wfXC+mMOWCi2NmU4jz0NMwEq+Bj+IJEh0xNxG4MMegXPCGsHjwzoBC/5j+qm2MbdjuDo3z/oteY68LD25OkJ8J7rRez+/Q8PsR1oG2cWcQ6l/jTnTeAm04HS99606yT2ovKv5D7hHMYrtF+8XMYw4WICySkNHeoirw/iCbn9g/yy+V72/vzoEwsQrhXTFn0dNCKlIk0pKCrDISMXihfID3ENZhTcGRYV+xxME8oQjfwXDSn/X+dL/GUINguEG+YviyllHR0XfAcuAfP4wfl29i/szfRW5AXS5sjcyJfGccL6wVzN8Nmv4DvixOwHAcwJkw1DCuD8fuCT2hDW+di5yWC/DNDm32fuieSj8IrjK/QdC+MOwhGbFsQsiicTMAA79jsoL5or0h9dCy4HkwJ2B6kSewkTAzYP6xKXAj8M5/on7zf7+efI7nQKwwiyByEJJRO/HKQNKBhjDxAWpw/iDir/buyZ/5j9rwTABaoPjP8S7ubq9uN/6YXzJf3wDjoEFAhI8kjYudzWyI/NHdq/4ej+uQ2qKYMfdBudDtsDewnMDd8CewhnAX4MegvnAD4T4xyeJaMpNymDIVAHSPdY8F3xFvED+WYbdybxMZNDxDnlPAAt1iZOIk0ZBhHHEeUcyxLI+Xn9N+yx9YbtVewi74fRTtsh2dPdX++U72/uNf8V+Cnu+ujU3VbZksmq0ADLDNT73QLfF+Gs43PhW8YO1BfYmuEj4nHX7/OR6S3jOe2I3n/WQdN9z3PZnt208Rj91vZYBk0RewfZ+jsFsSAvLVMfpinEJ8QpHx+JCtz/6vmQ+cr+P+9G+oT/rPYM/vQD3hAYDVIHxgTEBFMFdPIK6bDlSetn9Sr+9/468236SOnj21LvOO+R/B8WbiFTOXA6UDOtMuAPYAVyBjj1yP+XD/ELrgMVEiP7cwCG5nvomfSt5gP2MfyB92QEDw1ECo4GFBZnDcYR4SBxFKgVuBqLFsIYdA7oGqEaxiGtKwIm2TXfLcEmoCP5JHokgCapHbgTAQIuBzkaFS4YIoYjDBz3Evv/gux88ETaINiu5xbliO44++f9sh5wGpcfUxKJ/cHuGNKOx8nQXOBw77L0OvXi5THfi9QvwR7Zkc1y11js2+Is8N/4IQW6E+sdyicAL4oWzxG9B0T8u/5+BlwVoRv+FK8ZpAce+xkJWhkYBU0HrS5cRyNFlGREUgVDJChkEJsCfOcc56rrjN6l8JP6nOQP6+3ntNR75grl7+lH5anxVO8o5x3oiuDx657xtvQz5vvkD+fo5n7YS9ky48DiOeca/Cj/pP3S9K7oduvr0brO8NUD6NHoVeGZ9S/tRuvT5UvoqwBoAe4FJxKAEM8Tjw1P/x70sPbJ94n4o/i9/OsRdxVWDpwdOx70DccJewRE+bD3Jv3BATgLIBkALEAkKiTPKdUTDxr3DjD0e+UU6owE0gqaCfwaCiHC/QTy/Oqoy8/KC8/kwsbYmuMD7Wj8hQniCnoEZQO6A5D/sPuIB3jkH+m4+Hn5gwZX/k37If489K3w7fon9tzuYw5uBkQp7zR5RZdIfTJwOX44tiviNwJP9VQsTRg7lTqIJxMd4QijAC375PodBpgBBQugD3AHqAtxBaYFggNRB2sK6ByAG/0DEvyF6pbTy9qm4V3s/vazABH/YvGr4LvkqdeC6oLoGO1J9x7kJ+fV3j30Nelh6ezuuNhs8uvrgwo1DVwKQSLzGpr72v4A8aXsCO59Au0DSv3o64fxxgJs+fwGFPwp900Onwu8Em8XmhsINf8pyxspDp/y5PSp/sHz+f+oDTMXPRrHAp0HifLC7PT+1wWbC0kZSBKICLsJJ/qH7M72m+/x94j+H/pg+77wy93Y3tbahukV6QrnR/Ow82vy4fBC64nuWeuZ5rXdCducz0XW5t1v78cAVAosDLQU+f9q7771PfDS9iMDIxdfITspVSQiGYEbqRkaGcMcBhz2KsIeNCjoK1MsSTVSK7YpmiZ7GH4RYwncB9MP8iPwROFJU1bjXwVDpTGpHvYODwmZBJUUIinXJZskQQZ35vXQtNbnzLvc6uun2UvYqt6Q3S3mB+2c5eft9+4n6yLeEM8c5mrnh+t+8gj07PU/5XXcX9dKz9bXVu0j+B3+4//U/IkGC/50AyAFzfSg9nHn1dzH3k/RzNlV6638nQYBGbsVFxTQDDEC7QWnCCsNXxyHEXkXwR2UDNokHhmoGKYbnRsyKEwesRT1H2EZsw6e/Y0b1hS7A3QDc/HK4CrYa9uP283jN+wu780AogC5+xMBpvJu9Fn8sAfmEJkF8e7d0mTPgcIqycjIPd0r5LXmUOSG9bjl0+2z/FP85Qj4CaUDdhp8FhILdvxaEoMRVgjMGicl+httIv8hsRfSEjkGaO8K5vrmm+hI5gD3Zekw6aEONBPFEhkltRzlBir/0ftY99QGug+KNH9CQ0aJOMAVFxOpDCXqo/yuBXoPHBlT8S/4nedkvx3LNtqG6VPutfjK+p79GQj77AzczdeSwvTfgeco5vsAYwO8EZv7GQfi/jruJenQ8+r6pPQzBHYhASlVL6As1EFRO+ciuv1q967lztSc61j/6vnUICcwhR8oJyL9+QAXAYD7oQma/zX92gQ/Gy8mDzTFJOkgQyUuBAgJj/WC/DL3EffN86IFywDl+4L73O464o7krO/d8vv91fSJ+VLu19pm53X+dvAN+oXzuviP5/ffJO2r9NcKkRh+FO0BeO5ixfTCX6xvu0bac+Yc8zwIjwKSDzEeGRKKD+QRlyA9EHYEyQJsCXgREy6AJEc5ai9dMMYtVxLhEhMUaAxa9Jf7reOaywe6gM7s0inV/+Lv4vL6aP+E/WAJpwNI8FcGuvNvAFwHI/1d9Fbnw841zN/Jt9tO3gPm9eTk7X3khN2j9o3nHPCD8wcEbwGL+d72yu9F2MjnsuqN4T3MutZU1vTO2M8w5gf7mAMaDdcPohavK/4bgyDvHzspDzZ6Q9o/uSscKPYZ1P+A7Yz0PRLgEJUT+BzeHpkVygMF3p7cxcTrsnC3hLp3u7nBF7+Y7EnqGPORBQsBW/81BU3hptEX1YfL19z74pb75g5mA5cRZA254cvaU7xewYXGU9IM7JQLJwSPDksQhQrpBl/2tfR27Iv1subu82DkEuzIB8UWwiaYHOEe4hCjBvgAfP4y7en5Rv0o9eX+0AxRBuT8yNIi0NLWLd118sEfFRtOIXsVKPcw4GIAVvAmB/0bhQ37C3H93wWt47fmnwh9CnUR1g49BR7/n+F+/HoGiBdvOYtF2EtTN4xAy0MvOL4zEihwN8wlBij2L8Im1hoRHGcVpxzvH+gu6yRULv0hKBgDIcUYPTi5JLIdXib7HmcXkxSB/7jwffBk1b7YpMkf0CrQ3cpQ1E3r3/3e+voBOf/bDkkcuhjnDov+Qf9m757bk+K0+UUAIQ13EoAkpyr+JiMjGxkl8QP2xPc388IMLBb2KBdNtEIwIuIPrg291dTWws77zWjlY/gHAP8F/gnrAN8JFB5PFF76fwnWCp4HBg/kF0cpli2gKCYehPj44V/wGNgd31PltOHZ8xTyofkvGS4OtBd2DeUJKA0K+rwEHPcz5PHU0uD829vNpbuTxg2446rnys/cBu768GEF7g1XCR8dFBf5Jg0f1AtDDFYDMfpa2hHtZtV34dThYOV16oXowN5Zw5m9FcG401P0dv5nAZj9OdzYz2C+W7oxq23JS+Av8Cn4fQTe81varujI6Zf2nQb0EZkJvvie3SnWDPDq5FTws/bW5Y70YvYN/jnveQd+FC8bZyMiLWopSh9bBd8FwxgaMiA/BlIxRVgwQyj8G5EVZgPfC+oGKvcR9wcf5h3OGmsNpxy+GuELGw/zHzUiVimPJ5YSzAU3FbQWyRqGDb4WKQ8ABan05sp7sCGpf6Tcs/yvldFV3PLdSPMs4YLrVOp8z/TZN9gwwprQfNMO1X/al+BO40PWK+yz7Z3hqPM57bP9V/4tG08odT4JUUtJlUqgSzFHFSupMBIeghHqAfT5QvuK7e3ZKdxv3uvwjuqy3vzhGM+z2XXW5N/Wz6DiZuQZ8Sv7xQT3BXgCygq56sTq6tkI3tDi+vqu+AD64Ozm8enpBdzb4lfXlOiV5H7ENtaU3ijUauU/0ufLHcvFygfIosZryUvfu88+1xTErd/OzaTrRQDl+coQ4xkdEL0J+AwsHf4A3ghXI9EjBDKaSHZEkUtaVq1QuFKgUUN3/390c65nOlpQS0Q9QykNNUYyeTNaRTEpog1a+hv5u+/c8Hz/ERcSC0n3zwch2xXT1t6C4Vf0oPMy6OjhV9/630ni6QVkBhcF6wzH/07lJutW6Dvhidyt/3sDSA8AFWDx69LryfK6ocELxPPWneRD6/n+sfkN+UHxJf1J/lAGYxdiInQqSivZKA83i1lQbhNshnXkallVHEbeQ8ExVzZyPjQz5R3nEjYfBgwxATAA1eK03WXbE8DPpsG99rsMzXjMT+vxzBvVprsTrNyupbv72qXp8fT5C30IywY2B84DQvS472ny5P9TBHcVXSUSF6TztBahCiMP1RHsKus0wkAIaCxV6EMUPbEJzdzK2N/ILc/q07LOiOBJ2YPmX+eR4pTvc/AYBI0R8whgBDAC1urZ/iQB/wAsIWUUCf9w8tPpuNlA4Y3z0fPk4h3wZv2VBVYEGfSrEjT4MgSw/ffnVtkRxv+7As5gxZ3MPOfizFnLJ7OGlcGgTp0NsLbUbOyyAzMkviYYHmsCqgVW6kv//fdc/9ke7SvqK0tGO1EvVnpbqCjvIuH0oeMk/ewEhhLeJnM6Jz5qML0Xp/aw98nQwLnPy/+7sMe7yBHpJ/dfDOs1XSiIERfyr/AL0SDf5f5xF2k0WkboUT80bTsvEcYQIBCy+iwhNQxCE8IbP/0H/P0ZniotS+g3YjidK+QaDAzO6vjhZvVwBU8SiP+E+M3fB68FzkXPXNR+9d0CDhRJH2MLWw4RGwoQLyz0TZJPmFexPs4RCgQX9KXyOfcEAksO8RvEEhT+Xe9W6QjU6s2f49HbjdWm1Wy6VNE2zL7W2vOX4mf5lfoHE2kKdg2DETUTJA4Z+7QGCxFNFr8bo0XXOANQLk2eO34Veg+Y9/r3m/fS96X7DhyCNCUOYwWmFdX9vvwZ6lvRRdJswpy9ZcrGtjS0QqdbkLOG+YuFqffBes82AbIDH/cICEwN7QZIDxUcICQDKEk1HjKPI6gs8yU6I39HkFOsQnw4dzWyJQ8DlP8LB0P/WRXPNBA+YDxLKCgfte+C28TbA8bZvFTHtMIawPnOd86e3DTzkd8B/CD0xeb92cLuz/xeBw4XsR9FF3sRexolDHkJbgBtC28UhCbbN5ooyTRfKSgk4Ar48p8FIwRQ7zL3bfKX82br7+cC+KTkU+s17E3zVOY09J7hqOsM90D93xH9DE8N3wQxHO8gshi+PC1IBlAjQBZGcjGWG0kmECf3Dpwcr/lp2IHe39EX6tjy3RH2HjgBfQVz/Vzg6u295AzZrfi+CRUbuh7HFdUKrf2y84/y3fOk88kFCytPJXAy/je5FmP+kviy2KjCX9H/tR+3isr81c3duuUC8R3SZLfftp2SwazJrB+439di2NDrr+b86+7qB9xB82EIRv6rFNcX/vchAqsZLQllJrE88VLHYodN5jqaFd8KnRKPE4YZXBnfHi4znhu5ErL+Hf+4CF4B5QC/HpAknx4aDccHrQ4Q9znj4+NxzT2nvrMpt42/vsh35YICifdCE/YDhvml2svXA9lR2rrcctWo4ZTofPIWC9AT4wRWAZXzMuNN5fLm6/S0BCkIPA+nLmYgPjFSKvswuykfHMIjDRruEVwFGxOrEFMNcSGaEqP9XwHBAV35xwYjEy0mRx/+LZMiLiZWIzUlZzBAQ31T0F32aBNkzjh/M7AXjwbCBiP/HPBI8RrekdJ69Nfk5/67F2kaew+0C8bucuoD3QrWae0y77Pxle5y4jDErMDqswXOgNbz76bwlPoI7Dfpw/Ce1APo2dgE6ejzkPBv8s7zDOD362nagtnY4dPnIOke1v/6SAw0+k0foT8cMSEgA/xZFVD0S/skGqAayD6XS9ctACMgELDulv3YCMoKEBA8D+L2CuGR1rb5w/Ja93/sJew17fXflN4H3TbirfMv49Hz8d6lyF+9MqrYsGG2MtxU7Yj1yO0w/tj97/hgGZQUmiLTNhwXRBghBDTpUOiE5rPjs+pK60vjTu5t4tvy7wYR/IYUoCQgMREhXwxmAkkGevAL6f4GEAfc+an5K/Tv5oD4WgsxCbwJXfihB3f7lumFAbX16x7HMf5RaWMNVIFDXE3INzItaxmLGyUP5vk+C5kZOB4wOsRDSUIzKdwZZgPI7lflaO9Z5A4TqiAPDG3+pPki9Fvx1+eu4dnmDeAh1ELcN9z45N70S/9eENUAC/GQ7EX0OOfT+bYhqB0FMukSdvTN233VPt/A8uAUYTb8RRk7WjbzIR8XtyiVLiw/ektFN+wpZw198T7+w/uD/cwLCQkXCqn/Iujo7eD8tPSi8cL2//2t8G/jJ9Ru3pX6wAMgFf4Byvj96v3mfcOJyWLJut6z1znlrNuK4SfQdaU9sqDD6doa8uj3LeQY18vOYcQN3l7a2AKNI4wnKSDnKHgl5DJITn5kGF2lYjtQvEC3A732QfguAeUJIR4eCjPuQd011ELJtMvV6ZX/cQTqCEbbe8FmukGp9tAG4lId+Q16GAQOVebUx7ayR7wCxerrEfmb7fLye99T3uPYaPprCtIbsiTpFzIQLxg2E0IPIRgAKNsr8CP2A77v5P1c9yoIyP7VCGkPzwYIBrEBQwWO9iUiUSNTKZU1iSv2Iy4dgiQLJ+k3aCIYNhsh4wjD+gPyQPov/goQWhuiKq8zjjUMJN4fByN6GOsGxv6M5angXuMB6unr3vtTAwPsS+2V40DIZcT+wcrQZ89z53QEgez35bfLrMY8vpHPGNIg2fLmO+Ihzy/eQde90Y3zagDPJjQ5kDA1OAwgoCOyHzwnQzGiJ3MYLP4096T25fWA+wD8YgPPBRv34fq5HwgMFQ+WJs0a0BeA/Db7jwnX/DEgWjoHMu0zAS9PBAnkNOSiwkja6Oim5yf8f/5v8YjXTdkjwdLEtskqtTi3ZMQ31lDNwdQi1J3ZWuOx9W0DrQHpAdsDzQGHDBoTkBAbGQb7igWX92wABO4aCmYG/v+RCWgLPRc0ELYRghJYCNYIhyOsFowNAxepGsYfdSwbJG4t3CAuCz8bigIuHkYvCB6ZDSQqwhdnFJAZMAUf/wb3Wu0C9Djo6ekZBnEKAQplGMENK/5C6S3XnbbZtHzWXvzoDQctSUkNR6Qs0xlqDmwId/xp82kXuB0EHGgfSy/HDPAKTAFX4yv5IPBs7/jr4ekY/Hb7p/UXDWv43gmfArkHVAI3+2/xKPmzAykLdwkN+gggUQ/7CtwWWBvAGagJ6AgJEpwbSiz4La8yJDbYMNMd6Q0kEFwFpP449h34XOzT/ej8Suyd7wX88OKT7Un/CQrVCWb/EQV0EU8FXxtaDiHeZNRetfbBPZ+/r8/paeZaCyofkSKsEfIGn/WF65Lt/gJU9AHtWuXo7iT4UwqGHFk/1DJvIUkS+AIe7iLrT/1T7RL4ffZL8zHDNMAbvjzLe80z5bf6gwHB9h3q8tf82pHKzc2t5TPZyNeg4T/pitoz8qILxwMiE4H1Uuu5ufSZTpRLpcTQQt4VFsYc5BTFFuAIiwY4/OUKkRUzK/sYCQxECbz0WPxq80INhDNKJ5kfZhOZBhAH+/PSEmwU0gRoDGXw8+GD1/3b8vJY/WwY1lhGV/FRdz+IMdwgQBHNDdgISQt5CaX3x+tfA5cNRiMFUIFGrEtzQ14xRQ468ITp4fUb9ggNO/x8/iTxK+rL6tH7LwLyETco5hCSBZjqYONx39vrDBKi+IP/K/vX2tzK1N4Y6wYH5huUKz47rBxZ+In7HgB//NsJSw2WM7k+ASouHm4lnyETMAEr/h5nQisnpgV145vYYNugzR7nHgURB4wL4wlc/an1/u9M7rru2gju/wUMQRBH99ED+PdL887wR/MH7PX8G+5g5jjcT9ls4FvdwNAr6f371+0y9rj5Df/S64DkruAA6Z3bvuC73KPLsdn+1lnMCc6h1L7K48U0z73Rgtqk4HfmGfw4DVYNAxZa+34B9f3S7yr+EhEKHCwU/BAtKQ4ZGBveHiwhRhvqHEw0fRWiBQX8PQVNCrYOUP9zCW8IQva+/y0NuR4nM5JM8EbzOyAmbw3y+9r4SP3CA24HQiHOHwEBFfby9jv8GviBBs0IBfi54bHRTNFUusXQStNg9L0CEf7P/KAJewKo7YwLDAvwJ1RECUtUUvtEnzIYHIEQOQoPE5UQrQbQD/sBN/s7+RoFmRTHCmYXrQQR96ny/+yD3ebxy/RlBNUAuw17HYAjgyS5JSUcniOXKzAOsgJLEiABjv6qDFoVYyQPKJAhGS67Dqj/RezE3jLSj9ZX3r7aY8nRxu/LTbs3wrP1NQIy+W78ZulwyOLGasgE18/cJPXNBScHHRIkFkcR4w26FOQMehqR/QLWl84dzLC5ccEu1Kng9tXDy4rSWccEz/DYnurG/3X7if7G/+HdHua839zjdefT8KEGM/rvBHXrxu4z8t/imgaNBp8DxgRuBKIIE/3UDacS1hITHv8Yex0c9AD2R97X1qj1E/oeFhIh8yr2LxUt4CnuGA8amxWvE10KfxUDE/sK/RQD9pj6SAq578rrPOVl5Crw6fho+JsBvRhXCiv6Efy/Bw77yw1vLn4s6TIgPqtM/jvWJWgu2CGuLtUleCz2EDT78fMK7JPvUu6wGR0pKCO4IyAh5RKG+SP/2APdDP8YqxTpFJ8cVgah/IvzkPnT9mf8KPOE5kzyAfxYI5w8SzyPSxtGNSIZI9oSxihKK/cigxjEDzwHffzh7Z749gXzAQ4QqRXYDCUUvP328o3dWtZgx7TAqLXMuBnTdMiazUfKjtiS1RDUbvEn1jbt6eec5Bzx/wZwEPr6fP7o6Uy9YLItpXGsQrR11RDbAfLu9tPl4+Lj2lfOMuzH5sbsp91E3eDhGOHc5CwAKRzbIdkjGQ8iDiz3IOIKwurICeqA+HgQBwogBqjlENA+xHnM299b/YQJRyFwHTMWqxJIDaAmUyENILAZ0xCq6j7kjOAI9IYdQC9NOuhaM00MLb8x8wrEFvwXrPI2+Nr9O+Ib21rfbN4z9ikPahN5IEYWXRRB/pL2pO+R/fcVayyHHv0hCyQOCxfvB/V1+zEJ/wEXC/kdKv329V/qoN1L5M0PXB8AIds4ajEBM/gi8BMfG0ULbxA4FQEXXhwLFbQafRlgGkQrkS1WQCkq0x+XFqMj2id1KdYjoy0hMa4EFv7iCXgMMgsvGqoNAQo49qvZidvgzb3T7unR+6QOOg0IDs8H8gDf9QHypvQoEDUHYhbfE40CaukIyiDZfMr6yGLe69iV6br5mOTd59YAi/c18JEAugAD+5zjC+3M6yj55P6P+Ovoy9TWwdHAR78s4eUFoiGoKOcxiC0AHIL+y/Z07N/g0PNB4Wrq0uL/30ja4eIG3n3j5+RE4F3lJOZo23/3J/SNAZocmBOnFBLx9PU39oLlwgHGDkYi8jdNMf4vvi3eEm4KEvTDDQMOOAP/CUQRg/GI8yQPiCfLInUwEDrhC0YPVei72KDth/JW55z/dvx2FOz1RuW50onF1cU30urYSd4AABj86v3iBGXiWtzzwoHLH8Zy0tXTWtlP52z62AhBLC415TYEHKINzgi+6PDvk/t3CT8MYCD6H3QrTSuXHpYjtRysIqgZGgcOFAAGmQuRARgVOx2ZIqIkISsgEtEPwxiKEo4cByGHDkcQ2/X+33PbXN7H5mHytwaCDsUcdSi7KxAvCCUWIPYlAgHw8AjkPd3O0aPdhu4i9zL4Wv6BDRAG8v5Q71boWNg9yGHeAN285JXnK84fyVavEaQXsv/AZt+o8i8Ci+gL3Yrn+uoAAZn9RBmlLA410jpgMcMu1id5D3EQqBuCGR8ivRQXALrzVeoJ19zxb/j/ALoDSAQ3IBwY6hl5LRAhWQ9GFL3vRemE1tDMuNuJ70DwsRp4KYwyoTfHGpskWAok+DLlxbxotofG8NJa5JoE2fuWHPYy3R1sGrYW+vk87mzV8sDcwPm91MQW3XfNmOSk9tXtIQiC/xMcXx08BgkMlRTrH3gUpg6dHMUaESW7IeQhchdOJCwRcuyRBRT4A/kK+vb+xQunGhYePSBjDlv7fe9C14vyqAP6GJAyZ0RrPB1EqDCPES8BOQoN8yP5JBJaAokJLRlGEcIPEPjN7xzmQuGl553m4/URBR39LPkPA9salzHcQOZKR0TUOrAyBRl/+Drwkf/P7WD+fRQiK4AitRfdAq/6MOs3397qEeIaATvs8/91C+gCIu6o5Jz3+uJi8lkMkxXuJkMpNTdlQ7Uo+xaBB5zyueh30K/JDdj760Ly+eXC68nej+zv3W/K6tte00DIK9lj2brlde2u+HkO4x+iLCY7DjCUI5cn+A2d9HPjctv7zJnSYchVzYzin9v18Nnbod3G6CHt3/0E/k0UvxCcDl8Q2/448A/3Juft28bgteTy++f61g7zEe4XwR0eFVsYBhIgD8IjBBpZCkXu7upv0Ha/v8VPsbrCTLgaqzm9gcg00kzUJdVr5ajXvOCQ7VECgw3YD3kJF/b4Bdf8lu9X+nUCQAtvBToegQ+M9j3wfuWy4m3v2/mDDG0XTw+hCeAEAxDPFzYmeRaiH1AsUiOKLhsqwz2VOr81oEY1SHI4CSiGK0Ej6x4oKTMv4CGzKF4pdC4vOz09yjRMIEcMlfAK5VbpZdNKx27H1tFR5qL+0SH4OOo2J1WIUT008TFiETIBt/k+3KbOjNDp0B3dXeb868X0fO8j7pLY0cCxzZjIT8yV5BcIhPNa9aL+Nd78xFTEC84J3/L1IBgAF0wacibpJtcM7SFdH4URACAU/xT/GwSq7kUO0iTVNCcxJRzF/TLoTsM/sCzHYdsT1rUCEAKF/e4LXA0DKmg49Tl1ONUbywH/0KvLUsY01f3Wg/Q7+EfuXPqh37rbouXp8k4BJQ5xGW8e+AqO5RbpF91V0ZjvAtRV7zz8kefL77/ogfEa8LLrR/BD3fXht84izPjjtu9mEyMz4DmAP2wpDwxd/q7woO+l8BAC6BHuCXYDNgssEt4UNSVRMSRFfjkvKfMo1hCRA+X/7hbgKSU87TwMQOEt7CHLLR063jtgRFdE2zJmIr8cTwe3A7ICjR2UF3ASzxOlCJj/2ettBcUN2hI7JvQXrBKZAFXsG92i7878dvWJC0gY0xCN/b7j+upx9J3f5eYD8qbZzeARx5i24M5nyNfRu93G5GT83f57/vAHCQX2EQwV5w9MBB8KTvat5P3z/d0N75zeStAI3/nSRtAG2Xjfmes18CUCZQZ496XxrfFe493Xt/uU9BLtAgVn7Yn9hAPKBcj6PhB1HBAe9xhYC3cM9++j+Z0PlPw6HhkhUQWr+hTsFNjw4cnUSdad24HUl+E/3mvZbO6Y7GT8IQqZEskbjguY7ibwnu1z6jXsgvRyBIoIPQnhFtUIY+425+fXHa8itA7Au88z7zADjwL/+2EX1gMC6ELsV//Z5ojy5fiq9Sz6SQPkIj8T1xl6IrEPRx3OGakYJBbSGEgo6jimSH9Aay4wJBQNgQgc/BD2VQ61HQwxdikdJlkmLBgaF4X/evlA8LP/0v3nCrgDEgx2DD0JCxVI/OcAJAY7AccOdw9THz4mJx3lJTkV1AnMAJgAcfUA8jL/FvxcBJIMlhIMBm71eAxq+7Xzcfvz5lfzxQVFEbEo5TWrPKhH4ihbH3UYXwYDABnlH+Bi4K3x4PZo7NzzXd/Y4ojpAOpj8N8E6wM0/AkPHAuaFqEd4BTC/M72/+lG51/0t/Hb8LsDQ/lW7+X8qfGk5ZcAR/Fl+HAFvfmq/+oR0vFx9A7x+dcr5JzMkMlN1l3bHuP25pHhrejX2krnpe+58zcLQRDHDVMjxx7TLy04MDa1KHEYphBYCYj2P+z/zfbB2ttw5JDmpvqjAXvyL/Hz5+L4aQzH+AkBGQ4rDrshcRYzFksUy+lR1W+6hKZQxjbEsNV+9XQE4wusE2oPPAPUEY8BeQjZAD318flC/tYEhPo187/dzrVgvxDLY79n7ssTLigSKG00bjWUMdU/OTiFNiAyCypXGssS9xKiBq793iPlJdQl2i82CxQOsBHu/0v/6BN1Im0vHlJzPzA3zDzwNm4f4TTaMFQZVA36DyL34d4f/N/7uASKAsb5Ce9E8y3mx/ZR+eb8egy3AuUUzA9HBEkSjRJG/TjyNOUyyGDEubOyoGe0gbzHxyDq3eiqBF4V3CRNKVY0+DL/JdEkiyeGCLQDr+8J5vXqh8vRt3u6c6o8piG4SNi7+CX9SBSwF3cG3P2w5AjRsdwN6NcRpiMELgY7lEhmLrQeCCNFJMArWBhLFJgDOeqpzb3MR8y4v4zd1ubm7TICEfeE6qHiE+EC1XTdD/Yi/4v9lQB+8YXsp+HL2kDQvNznyA7bZPH02kfeedB9vtTCqcB/vAvTyc7Jyezlf+cL9noN6hR4IW4yHh4PFAMNI/0u7yz6qwFnCkQfMSd6KGwhJTEAL1EVbgxCD8MJOwrUJ0NAKEzbSSJK21PKWNdMNUXgO+Y1pB6kHjQQhx3TGvQMQyq6F3MS3BOPBeQKufttAAoD7Qv/CTb9CvMK7MjaltMC18PU2eYF6BMEuRRIHdUujB5HHpAZ9BQMFJEgUB7kINchAB0DCmfz6+9U3ojbEN9i4CMG3gxyGC8PcxNLEML1nQgrAcEDNSUEKlIwJDU1Oq84OwOTDe3/eArqCZILZvL1/Jn9SehQ9UzzRer4+CHvRfriGBoGCRkcF1IIxRhOFqYSRg6J9oXTPsPryDLOycbyyajKPsxy2NrfTO4A9OHqKeAj0XbFcsrKyCHX1dha1SnOFsWPxsjUA881xZbDTdTDyr/OlNnb7XP21vr1+Sn1BeyD5wHhmOsT9S8EbyS2Gm8lcyhbHPwE1P1W9M3ixvBQ5Rrug+13/4gQaxFFIlYktioqHOsQ3wWNCAj9OQQlIW8bkAbeBCUAYxFlHLgROBDwFcUBcgzxEnwGGh7UHBEpZQ2rBKD7td/v1CXc+eMg67L7SxOFEJYLRgTtB+sKTBAZAssjNhdeHeI/9DgcQUUv/CWXEGYY3gny8yP2dfvGAksRCiTVHUMsjyquIR4mVSPNI5YV4BLd/U8DsAwsBJsNag42JFkMnRfAJ58XMQ5o/MYBwPc78PwE9//d9MH+TfwJB0Ef9A59CiILHgiREioMbgouFa/56d+H3pvpL+/TBhUYuhuQFC8eGxI/9gPhCdXhvsq5AMyhxyfR68Lvt7+/zq6Pwr29stIv6j7yxPzHCpv6B/nX7tjUU+ex4uXzeveo/AL6U+vb8a8FEQlpDWgCuPZe79jjO9sV2fjrzvgHDhkVQSYSL6EjIibzFLL3uOks45THk9JS5lPYaO55BrwgLyLOHAYa2hEt/HPuwvEJ4Ujsz+Sj2WHdod/h1L/RaNpW00Dmnvj4D+QTthNpFYwMMRkUAdwFzhQo/kX7O/uG/n4B8RWV/D4MQyD5FZYSvPyi/tIOBPpiB1Qe9imQQAE/3UEpKGg0DjKCGusQ9wxFDDHqrukc78zqQv99Fq0TpDSNHdgp2Cd9KnglACKJMUw2jDFmI1ok5AID/AABgAB8CRz8JPN84gDrjP7mFIse/yqHLkkmWieYHG4WLyf7EKkS7h3cGY4UZvZC16nVT9HmyrfM7dgb0gvei+Rv7SICVhcNG24f7ijUGakDzPrf2SjUfe8/7qLrCP4X8STx+u6G6s32Uui3+c0A3wUrDwMeBSr/GH4OaAFMEpMWIQkW977aGsLo0VnG38R4zoLVzMxOyHPQKt9J7i36dhkhKDclYyd5E90Euecj5ivxEe7A4gHqR+GhzwPYntXv6JDhh9U+yTG+1NCyw2nUie1r6er0nf0KBDX9kA8ZD6f8Vf9kC8T9Q/nOzIm/9drB1FPoePZoBoz3Pu1L7wX+V/GBAa4dHSLPI9wZgvp85dnUF8+16lIGoi5bPgUy9SeJEcEChfGX+cUYhhxVIEkX4hjME2gMLwPJDesmoTHIQ/9INCJaChv6h/PkCs4mRUMER4FHFDGcMAsTFRMrFn8eQieOKDs0rCdwITIRe+/MAggPxhhVKqMrfi/tGl8aWyDHGLEYIRISAcbqoOuM2Y/j0/rn+xoJqhyyEmAGewNs8Vv5JP5GCkkUOQjAATr9hxLEGsYwwyfRHxP+kPHF9NAAFADtBWMcQheKDGAElvmi1ZfCxLncxbrcF+35+rb2W9U9xNq8fa7Gw3XNgu6Z+uztUPrB+IsAU/jG+WgOcwub/YjkUtVNzYW117jKvL+93c140/njKOHjxYvT19SYypLjP/ZdCHATESSrE9oHGAgbFTX83gWoFtf+XvZJ6Ma/56wRmf2J+pbLnMqwa8+X6jj8RxL5GdoqRDSYMsQwIRRsEX8kdgU6CWoNCw5vCEMLoAWF8iLjDuPWy5fc6dJ94cPtb/l2CfUaNDtHRC5HUEK1PaBAGyXzG9gtOCKEG+kZESksOk8tOzV7NJIefDY6NYoyaC42JzYoOhWsE2wRJA7yEnQG+xMDHCQQcAkJAToGkBI1HKQlRyw6Pq48tCJwEmQP0xJiHZIdszZkNnotfRsgAsjuDdy1z0XiGQQ//J0EbgolAAXzcfbX/XvznxH8JGgmORi4GhoMNwR4BXnxyAbQ+CL6IOZf2hDmUNhT4Kfpp+fI+Yj+lfw3/jvkqe421anbgOrF7lP0J/De/wX1yOsQ5p/VTcpmzWzVBeyNA6/13QBLAqTv/OQC7C70p+++75Pttufm67TcvtdnxxXIOLZd0DfaPeCy7IHUE8xTzFO88s515bDWaOGa5MPgoOxQ7Fb/Pxn9Hngv3RcbE2gBHu8b2MPfxPL779H51/OS7jQG7/Ti8VcI7vwUFEYTfyASI10s8yP8CHEDkwPp8vUNhyTEKB0+6UQTSVIxpyZAN5oVhgw6BYb9w+Rw8EDiUOEC9AAOBCSYM1ZBVzeDK0YZefgd9z73GgImBNof4CNJPNQ3DSB5FgMG9A7P/PEKqQ5/GOIcKQ+0/MoHlQDtEFEDJf3TDmsCjPQvAqgBjBcaK28eljP0LToOU/v79x7qUO2R+o8BsxBgDuYYBxNcANzvXtsG2LjsuOyr3kLfw+Zj4iL3ag41FV4P/xjcGsX9OQceCxX/G/K5Bf0C3hJrBe71efVW0/bEgtHA0RDS+NfewRLPRODI2NHkm/L7+MD6GvW5BQX6LP0S+Xjr+OAS3HHcatWb1TLSWNHY4z/kHtLc3gzOL88d1WjLpt+p93X8UBmFAUAQawpB+2QBGPrB/DMNhQoyAiMX3xGWAx8GF/vpD3sPrATyDgYPEwbYFGMg3je5HxwWMQKv88fmaerU4snu7vHf++QKdwgCGpki9RkLFIQRNx1oEokfih9TEqQmoDBiL2Ap3i0PKtsB4vJO90npMdKB4B7mvuAV3jPutPqlC80cph/ZK0JIQ0nbKo8tOhhjGDAbtyo9H81CXz90Kv0saxTNCf3t/PLh7rYBsBc9JTEiaB8AC9z50/QC8aHmZPwmB7wWHhU5DB0e6wtKAd0PjwTJBD4MMRmcC2gQ7Ab6Ai4AXfxo+Ij8ufBr4mzVLsnqyT/N9PhHCIIcBSbbA6IEkuPWy7/UAdoB7DHo3+lZ6UbQS8+74aXl7eSq/OP7C/NC8+3pr9zi1VLlKfS37JnoCfqW+7YHOfY0BLwPUf2W+dbnStlmvbu13K+JtinO3eVU8qEALRtVIbQbYhprGD4iRh3FERkMtQd4Cb0D5ArzBm71B/om4ibuGPhf+tfwNOw59v70+u9K8U7omfSf9yQBDgY0B5AIQPC569PXaNz153/4y/+T+rj/fwTlDKQGDgxsEGL+cf0KE5b9ggKZCnEChfvZ+jL8HQHo7iP5qgQUBWwGEAvIG2UUQCmrLaQ9gUGMLckylxi+ALburu6T90n2nPoHBb8BDApHD8gKvhGlFZYOGDcbN8hKC1VKRUEtSyCrH2UV2A0CGiANBgKk+R/yhNWB5MXlE+eSAXsN/A/7FXUJOBDXG/ojdiFHOY9HoDMTHB0VKPEQ6bbbEt2txzvSeNHrxpDV6dAP0+XnCuVk8oD+u/wwEpAOJSBnKj8uwC/FK4cqlCFJBn8Dj/H+3DbMdMHXwRi4l9LY2XDlUe3Z4y/ogfGpBsoL6QUVARgRYhShAdP2KQUmCEfwdPfp+QYQ9QIX/bT10vUO/kf8jQJM7A7j+tp42/jLTsZMyU3iEt0b+0UOlAEQ/1vza+Wz4JLiKeNm8Jb4IgFNEV8NYQN1/WIIifT895Hnq+VH1VPRFt3J5TP4egVmE5IPp/bj7ZjyvfMeDj4dUTYIKrEm2iphIZIokSPmLOsq3gyf8IDeDuFy0Kr1PRkFIFsyEDTuJE0KWfP18Sv8sw3PM0g8fD9bO9EhWBaSCUkVpSUlHZAdmSHSDvn6fvl/9BQAqxWOJXkvYg96DLkGce2I97v3oRF0KXgtYUKDJSAp2xT69Jn+X/3P/+kAT/3SCoER/gnVDAAFqvmG8abk6uBx2OjPuu1qB8L7xv3K9JH+EwJe+L4GKhanEIsOqghpAhrunutG9ine2PZHARHuzPQC4LzY586S2hns2/gQAvIC4faL7gDhXuAK5AblNfqW/vPvSfu138vYUdty0UXf6er77JPwaepy0OzEccLzzafHxst42hLz4AHqAa0PEAv7/hr1lfWo6qXs59+Nz4PbW9nW5arrJ+mV5jXZWswPxyPfyvJDAq4YeSjAHTcWfwvWCo4LrgaHDDsbYALICfjrOvBE9nr6uBW6F3YMpv4L9Fb/p/ea9TYARBykL8s290ZLOLwxxzjkK8ky2i0iOKQ4sSx4HtwY8g2oJ0YbZx2tJjsHUiEEIsEgOijMH/gFDwft/zP70wrFDW0PlA6wDW0S8B1UEYslQzBEK4848S0fKRMqxByKFJocaP1UCTcC8vrcBcn8UPkK+KLsm+GS67D7zgSRD6kCNAapBL3+IQsiF+wk3TVrN5Mi2BRsCLP4kf+J4WPb89DbzuPUC8HnyfXTw+sD/SUVYhSbAgX7PvFjzJHfaO6w/I4OFCKZI7EPgQzN7mvWcs9vxbfY3uAx5fbYldpW43TP1Mxh4kfnF+Zk4XDazOFCzo28A8O6zZDkY+us+vwCbwlMCaD02Pm7BzL20wDN8Gro4eEp0RnaE+LU4GLxeveB/Rz4K/CI5J/VKNi17KPpPP2GFqwiPCovE9UHdAUl/yDxAg6nDucTEhlcGeQZRQO7/Kf5qPmfCLkZai7cK14lKCLiDEgLOPnZ+XHrcOgNBbwRcQmW/oD0kvyAADL6Pg3SG6g6WUCxRHRIBDhxNnswri00HOIcTxQp+LHb1teL027Pf89O5XzzN/UeBQkAGvusDIIVRBrAM39LCFUAXalSpjkTI1ER5RclCWvtDAp3/N/sneom5ebmMu5z9Gnsn+VD6av8AQV/Dq8nSCYMLpETWAymAlLuueCb6nDthuhKAgUB8wM5BLn9IgT5AW4Jp/6d6y8CPPpq9xUBMPL16CHPFcTZwdzACLyVyGzE/sxI5VP3tOnm7x380wnvDjYRhxfiG2wJ/QfD/4Tyo/Ef7szsJd4r1+PMW8bhybPbZ94F3abhWfqB8EHsTgHcBYkTZwuiHO0LFAl7Auz79+sE8a79vQK/ANEK9veqBk797PdKDoj9gxLtHb0ZNAq2BCYAp/nI+/P5+gXcA0QUPfHX+9cH7gZX/rwRmx2RHqAfHh8EHUIKoxbOGLQi1CbeI1Ul3CPeA2EFrAWIEbgAdfxS+WjtWusi6RrvAfVGGbgkqCd1GMsaJxS7BUUCCAv4HVIyyzJhNc42tS8qI9AFjvgRARn1awXo6172Zga0AG71Uu9u6onerNzQ3IPpHutbDHAgcCgAMgEwERr7F4YSsBJRHjkcyx5IHXwN0vr+8PvZN9tJ27Tj7vVt5z/jXtri2e/NYOex+/ActTRrL+sXRfsr38rZxN+N7ob16BFRGx4Prgks+2Xiad9Vzn/qnPSM8UzxZOul6PLYx95442jem9yi3mvb3eAI6HrouOgL6kjqZOsV8aD6GQoqDbL6gwCT+93tdPfPAQsJLBQvCYwZ2wjS/X30WvSG7/vw9epd3P3Q1cfbyKTPr+AeBZsMMBXZGrYSJgBaAKX4WQVpE78ptiKQI1IqvRz/D+L68Olt4V0EwQ+gE8cmKh/CEIEHMfCl2hbVat433CjmKvmQAJwD1P3YDUkToRNzJCkX1/+dBVQD7QW6CPYb9yXlMqc1iRzJF+YU8wSdAJfz4/g2ASAEvPKo+rL/Uf1xAIIIGhP1Fa8NjReD+CT9og9MEQQlHSMILrcs8Sd6NkoosispK/QbjAar/Jrr1uSu3DrolPAG+BD+C/sJ/gkFFhTzEtUMlwuFGLsa0w+bDpkR5w35BukSUBwiHN0MbfVy3LzSVcb4v6zTU+n2+N35c/IJ8pX32fVX+pYI7gWgD64DZevl8qbaydb26f3+7/BABKkRfAoiCVH6c/KQ7abjuOlM5CDrrQQN9sD9uP1M/sH/++154ibgP9yp3ovojv5+EEwjURi2AOz4qO118hj1RgX3FtcXZyIQGC4HAvvBAYvplOJA5BvmLueh117M4MiL4YTyNgHkG5kd3x+bE47+Ufoa9I75aAFX+Q36uAJ98xn/4utn9xD1pwc7CsoGBwmxAvv7A/VD5eDvc/1T8vf7kBBvCx3y2/Fw8q7nn++x8PsHUBMUGOwY2h1kJt8rdiyrK6gi4iBpHekb7CNaH8cNAQfg/8YHWQoS/mMP3PyX+lP03vRsBvcORBbJM7M4KCZvGbUODfQl/fj5dAQAFfwhNRVcEk78sfPS+m/yJv0cB20W8xtEF68GqwHd8QrsKuqN937yq+KL7LPles692s3ho+MM9PDqogk085v67AwLBnMVJx/eJKghKieWEhz+KeS5z0bVgtuq5+zsOPgC4Ujmc+C30xbbzuHj8LgBJQUm/6AN6R9QFLUMSQf6FOQJtAnf/8X8Ygc+/V3unuL43U7dRdts4WfrLO2H7fj23eqj5S/yDvjt8tD26AP47WT4dfYB8PPwr/vr8Vv9fBTaEhIZpBFGCJUJpwb++Hj2z+7M7o/xVuDg44Dndd7L23vhHOgyAd/6bA8cGUUazBFvGMEfFhX7F7Yk+g/iFMIfWBoBJCMRRhNVEfwNyvtdBhMGwgO2DXUGCA2/HegLZCQnIcoeoSqTHAgX5Qoz/cT5GAS9C9wcQxo0HXAb5hThBPvypA7j/2YPgh6ZD70QzgQf9UYAv/rn73ntQfFh5yHpFOvs8aUA2xehG/oe6Bm3FMQQfAu3/YQDM/k/9WUGkALS/6cHR+1A7/HbaOry4VTc9fvxAwEVrxsAFyUAhvZZ9droyPYZA1UEZgbvCBMLEe9l5v3lRd8Y7YnrXvIwAz76IfpMBmgDcv+v/z761/17+dDxYQVlDEUH4QbOA7HyI+KayZ/J6dFC5cfohgHZB2EJAgLGAGz8HfUQ8U3zvvkK/30PBQiABdH8xPco+0X7FuUh4/vnxfEZ6Vr1NfpX/AwJLgVXCQL8me0398vsW/knBhH+FhKMDUTxzPfR7fXiK/4TAeQKphrAKs0ptSSHFZwSs/3b9a7vX/ep927qY/xiACj/fAKzA90JvACE/VD0BOZ4+BD4wP2AE50d/yMkJHwucihLGXoZ/AL++6wAyhRaDxkM5wobAC7vn+gU5Gz4bQBwDBYKhQKDBU72L/B/A0kP4CZdNQo6vC/FHzsaFAunAKf3ZvlBAkoJxgkH7tztce5L4Jferu5s+xINHBNlDTsH+gy3DOb7af5MAowDKg71CpsPUQqq+DDkc/GnA2P22gpTDbcPbftz+X30VPevA+UImgh5Bv37/Oxn7+jmL+d35i/ojvkD/zsEhwJ9+fn1M+8+49vkwehQBiMJFiHgIRggvRS2/gruueLv7S3xAfmm/y307+pd51LkReFZ7tXua/qkBYMNRg8+C4ALawan5+LjJu/V+vQJBAp/AFkT0ggY8KPlEuVE3QjbLe1P9koCuBLIDmUPhhK4/Af0Mul86sPuQevT82X/DfxN+78DZQ53GbAZqQ5/FT8WwAFpDoz6sPK2B0YPwwyyEMv5tvYP95jf1e/B9o8PjREdCh0HVQWeD6AT0AyhEoAW/BojH3wSiwOCAkgPQg5BB8MM4AlMCBj/cPuE8Wfj9+6C8ev5ZAB7B8wTVA6xDp4U0B1ICAYGtQUpD8P77Oh/BSYEag2EERAJzgVd+Tvu/OQf7lH3lQZWFagPbhLyC5D8OfTb+a31zgEB+xIITgjpCn8YEwpJHUAUMgGjAKnz9e6c8I73sQES/Wb00f6d9o/xeujq6ZDzTvsY/lINRgtCGqMYTAhPCQENSwfQ59zvid3T457rR/mT/l75HuGd32jXUNZL4u3pGu1J/NMDfAHbBxcECwyJFZQSywjNAvwFK/YV+wfhbt4B3vnb+uvK7vjzyvjp/bP0jvW1+9r+8fWGCAkG3hAtD3wBDwV2DLwNeBh1HoYT6haDABHw++/4yo/brOx97V0A7AgkCOYVlwzQEEUWKBJhBgMPNQ5YCWcSgxS9FkwXnR6LF7ISDRjfFG4OkAm4GM8OVQaf+SL2vuvM713yYvB1Azz5cv/vAjH97AAj/SP7YvpdAmEZOAc7C/4UJg89FSAaiA7NF7MdlBnvETvuve678oTvFfK3BfQFLQ83E6gE2PNk7Wf6LPTy9jUEkgkgD0fyROux6yHxwv3T+y4OKxN6G9MXbgiFE2UDP/jz9UPqz/UT/g/34foMDir+gP4D8xvrWN4938zWyezF9Jz0W/aN+xzz/ezC3qzg+/H27+MBpQIb/gX/6u/t/8P/q/piB3QETwhE/hf5APd25tn5FPju9ycASgjE+JfsS+Do13faEOk08NP50QT5CZEIMQE197cC7P+yANcRDhFQH20c3BW4D1gS5/kU85roa+2h94/0P/v3DkQQNAN379Dq6+4++nf/7Q5CCNwaAwCO+u73xfiRCzgS6CJ8JckbYgOtDF0IRfIA+XT8BP32/ggIePRl/RgEX/YkBFIEIBqIE24dXhtUDGQWiwqCCscGCBKBCRgJjfsU7iHqDO4L9OD4cgwJFhQfQhAuF9AKFgjQAdMHuRReGy8dgR+jEOoNrQrpABIH4v2S63zz9eeW5MXxcg2zDH0IigclBssA6gDLAAsMCxhAJb8nxhW3DyoBVemW6IrvoPA5+EMA8uyt4EbUn9Ht0FTni/LBAYkLOA2SE/YPoSUIGbwqCT8rNGwqUw7RCFr5i+z+8ljywtk815bFXcsRypzEvsQS2sfh/ubn3bXrOfQkA0YC4QOQD2QhwiZUNAg4wCTiFx0QUhYCD94Dquym2pTUPtEMz1XhP/UW8xjzMPB64LPH2s9k1GDr9v0cCWQVrBG7APbvpuM/+pwPnyXVKrwi7x3VCLX/s/Tq80r9Xv6DABAEOPkW5CrfL9/L5kn8FgaqESgN1v6dBbTvidmU7UQDPwnOEoAnaDFWL0wZwwPE/GH0JuXM4eDkLf9JCoURGCK/FsUWuQ3bDJD+EAwwEDUTUBWkFm8PIQehAroGBvswEHUaDAgbECLwhes85sDjOdu79p4GbhXJFWscgxkBHg0ihBngFXEVjxOiBTT1AP8p8iP8nP1pEGESpBLzFo8G2/Ao9FLure+X+eoEowseBnYaYQoi+QX/Cuqo+L72NQgyCQIQYwUw+b3nMOXM7k/vDPSy/GjylQIU9CL/8RX/E34E7QSQ9zrxduw3598EawX4DvIaQxN9+lr6Bvm49CvwYuPu7OPkPe6n88TuEAbY+ej9UACf8df2FvqC+68HoQmCDU8HMf5d8CzgHu+s6jHk0vDn+cQHcv04AE73Ju/66Rfxcvda+5IKwxPZ+xwMUgVf/EMLLhelDz8M9QRf9UvkCOcq3KnnY/24+nb57O6k6ODttvkbDX4l4DKRNc4ePgcb8ejyA+8GAeYkGS36JkIVdvky4vnHZ8bH00bb7fb9+b36dgu7AOH9AwXXHUsbgyc8KPQlEBdDFnwEGQ5XDBsX1g1fEAoQVwRn75PiZvbq/QIGJAztChX/Ff0k6S7x8v+j9+wTziFCKZUzwC4qLIclOBkuB9MGxfxH+q7rHfIE9M7xLfDy4nrlt+P03xPyJ/TvC20NRgoZ/0n+ru12+1L/ofwAJPsoyR9ZHSn9q/ea8rrnoeu09EcBUfhD7wfi4Nxy363iPNBs6pjnvuvD81j2tP1xALAH8gU3D48c5iBjJn0qeCphExf1Guzf+CzsqOvN9QPqu+ng64Pa8/DK6wLlme6U7zv1dgKo/1QSdgw0GdYP4hJ7EEQW1gUkE00Obw8RC3ECDwE99BvYfd6W+6b3TPThB8jzHfgV7tPo1whBB78iGyp0HnoLZPv07hz8CP7jBeYGdAd+AQX1/eYT5DnYM+Td758Oiw7HFrcWOBokEwYJAxU0CpgO4Bx5EJ4WChSEA38A+vJQ6sj1kPMNBCMLIA5mBSL0TfRy/770tOtE+FwNlAnhFHQRZg7jJO8Z3wW2BWkBUwU8/U4ABvTT7Yz0cPed/uT/Zv0NAnMLsAg0BET9RQP8AtD3KQvuBLoBuhBn91MCkvwj9HoAhQLwBeYJKvYr9j7rk+Em9NrzkAoJBdfwJQ0uCLISmBeyGjwNfAU4+3P1/fzs/FX8uf3vAQfy0uSC6mnr8PYH87Huvenn7Fzd3tg26gD2kv1PChcUMwrrAdISEgm8E40NnAq9CZTw3unA4y3wZu6z9o8MlQbUECn9pvoW9lLg1e8/7c/4Y//L8wABuvnxCJDpdfIwAgUAtA5oEIESvhn+BIr6L/le+ScA5PSr9VjvlOyO6qTqXPcEBk0ZOBAU+88EhAQU/+8F/QRbHLoh5CJRKZQePhGR+QjnOt6j5p/b+uGz2iLq5vhh9Uf8v/x0/bUK1BEsIhMxtDBWLS07niXbGhknsx6uF5MYxAaE9cnqkeLT5GXYbt5i3+DaxOtY/L7wnvcAABcT+hRdGB8tpTKARFI0lywoFw0VhBANB4YHK/bOAekCDux17/nkMer95HDrt/XkBav/Tv71CbkIY/YRAE/1uvwlC6QVdBHwEkoXr/Ym8YjzsvjVAWkIrQIv+Azw3e+R7OfwSvaVDF4RaRBd+hD1DvLE8kjxOf4C/qX6nAiO/t8GvAcY/iYJBe+T9P/66fqv+HX3ivZKAQ7xFOCA6XLwqQbE+6IHTQBBBJwA5fc86sneseG071nti/rsFN0S5wfGCq7/sfUO/Ibxc/YIEW//n/7/9OL0B/Kz+lP9IwNeDf8QRAK5+Lfx+u84+9ICCgo/AUUIVPzR9rbwkf+GBG0G+QjiFXb+7Phh6dfXWeYE85Pwofwe+0gG6fl+BqkLRRz+IRgdPggR+JbsT+r36bcCnQvBFn4QVwoxAjfzhvW49JEBVxztHawU4A+cC33/mwHPCPkC+QkaJeAPav5S8RYBpPbp/q/2cwYPEgb+7vp2/CH17wAqCmANwg7XF54RKgYCBg/3Sv/wBzsQlBlK+iX0o+wM4/TuZv0uCAAbrCZ+Ho4P0/oL79fiqesfBisN9xmqGNIN1f9L6x/uj/tv+wb86hRx/R8Akfnc87zq6v5pCYESxxwlJLUMwQslAKr1HwlEBlwQxglb53rZO8+n0ubo59SH+oYO5w5fCEX3svSz/Xb+3/9z+n8LiQ8iBmj87fZN7Fr8cPct/zH8qAUTCnoX5A5eBUr8BOzJ6QPu7+w0+JTzP/Ps6pvbCtlU2g3a5dmS28rWo+lc+rMPohbmIhYvajV5KfomAincK9wjpQvp/fzj6d0Y4z/c3u9i9LP1dvQ27gjeI+p4+LoHxBPrK0Ynmhv3EuP8Agj4CDoOGBpFDNANgfa29uXl7Owl8RD2dQFkCRgC0/3V7Zn0igDJAVcLtgz3DWsFBAS47wbi6PaN7IzyYwCC/eUHBBRpCB0BdgtPD7oI6wiGEOoehRsyHQofohHbEzIPkgKJ9fv7nPkF+pDlDtdc5Tr3/QkfC64H5AjoC+sHVPzn/FoQQRMAGhgg4xTMF5YVCAmUARX6l/L/7h7nCPc+7T3+GvJn7bHy8vqGGTcfchaWEPkQ3gulACvsjOr36knryfHd+4zt5+Wq9Cj33uwWA2b/dBb5DaMS6BCiBrDrsu/v+KDyQ/WaAdMFSAeJ7z36v+wH+eD27fHS8WruvdtP4TvY7OuW8GH+nxLKD5YXvBcbADT3WPYJ60j6KxK5E7MnGyElFtUTdPR42unnD+MW7P794PZQ7GTwHPSK82X+P/b692ICgwdRExAZgBYBIwwfridWGI8BdALs/AX2rf0sEaUKfwmNBgoDif5r+tkDXvD17ULx6+3L9FwBHAxGDQAc5hQvBIX05PFk6bvuP/u3A6cJTwbsCm8DkwReGhUc1ScRKDMUyg7u9QT4mQBGAUQAbfld+mry8++G6CfwsezG7Rrv7/eNCskTfyMyDHMLIBBQAocIFAlsEMcYxQ9O9N7wxOgf3BrefuNA/bwBOhkxDdvwfPZwAWEIiAnLERMJAgMeCErxVPOY98L2mPpr5RPtWftb9KLtnvYT6Gj7n/k+/lsPhvZh+cr87uyH9uD6j/lgAj0PpAxADbkNAvdsBRD2dulr6G/n1POq+Gr0Uvbb7hL+O/2Q/OAIEBh9FEYFfgYlCjv+SwceCoX/VRoEC/AF9gwj8R7pJuzc66HyMPmVAI8CsgWf/BoAbuxD/WIGJQNxEQwYmwQw++P1TvH172H6kQQACGQDBw7IBev8E/z668T7+fRM/jAQ1RPHEOkfDvx79V34gfjAB8gdOyR3HbgSwAHL7tPiy96472sKmRQpH8MPFwHFCE4HFAmyBQUTsBiaFVYJaQgv9gLrs+FS3s3WAOzP/gIGNgQrATUHI/v4BBQL1w4xGhIRgwZ9BrUP2AauEAMLOBLLGEoKLf8m+3bwL94r5r3qYf1bAzMJvwUcCpoCIPTa+CcFVhKuFcEngyeHDXr+KfdO65fxm/1M/fwMhwl6/0QCYgoADJILxg7fFdoCFxxGCDHv+u4/7WjtRuxH8CzsBv3jAd/tdOOC85n11AEKA9wCjQcQAS/9l/yy+6gG4hiXCdL/BPe356jpE+W26jnqEfhD9Bbt8fB/8kTvWgKZBaIB7/9eAWX6APgb7jTtCvft/yz+7fur5N7wL+qr5ezwZAR+AhkXlBbhERUNJAkFGDEhnx3rGckPFwGC6BXiXuOR9Zz7/fxt9xjvLeHz4LPOdt3B9HH5hQotFm0XYBfzDTsKXSOcCcgDBweHEn0I8/zN+uTtCOeq67jmdN7w3SLzVPSVA+8TRRmeH2wgqRHOCJUTcRruEJcJtwf/HKMUgwD496DwRPpV/Bv7sv48C7r2pfvK+3X9yw1YGkMSxRmhHQINXgdV/XnyBv8d/MoLs/q//zgQ6Qe+BHwEjgftBWcLugV489Lg2eib+vwC/BhOEa0QQQWg8Kfpv/qp96AFxQzLA8wB4/cGALj/bP6P/KUE1AJsEf0YPQsXD/kCGQTy/ML/4/jk/G/36fdj87D6W+4r9A/w3vhUBJQA/v4c9bv6Avci+bILV/9VD3YeswVcGGsMKAWsCXH5hvqB89bn1PHq46jxxPzN9hb3E/Vr6+7pM/GV7HTxowjBEx4SwhF7EvABMv48+a76kQf5BVT78APq+0r3gela34DqFvu4CpoGsRHBCq0MyBlsBf4HPBGB/4sFfPoL6u/okecB4rjxDPNp/AwBeAI6EEQTHBEWAQQMSgf1DWILl/9tBdLzz/eo9Sz0cQ9S/bsMdAvCATEB4PGm7xbz9PSrA3QCSQgODgQd3hCXBGcHj/nhBBgOUw3QCJcAs+ve+Q3x/wK1Ak/7ZP7CBsb+oPh5Au3+lQ2hBU0AkPu8EVASOg1dD/X1PfyAAgLqtf1VAF4B3/2A9VsAngZnAnUIdv9lANf5jvgP8Wj0+P3cA/wICxuDB2z8mfvL9e7vDfGi/dn3BAIMEMohfS2JHqYXLQjY7ujfu8yO4g3myPqRB3ADa/1O8t/msOuY6g3sngKNDHUNTRXSEc4IhBVcHcAayxmwHoUMsPMp5PndONsJ6UXz2/VdBNMBROvG2fjbyc/j3SLlrOQxBxUMYg33IV4OFgWYB6cNYgnxDdEG2g1kCpv8zQAa/MnwcgqdBZb07epb5ivUr+O+7BbyiA2VDXcGnQJh+yr5/hTkELYKOSV3GUgcOxWoG2Qh5RxLEFsKOPre4yzlHO3O8r8DYhUeCdsMlvi88L/xMuOd8VHzrPY9BeoTlBF8FYoJ5RCdABYEiwkICOH8WQFw/lkGGxYCH40d9xHb/+rylOO88gT5CgORA18I7/XK4uPnotWf69AI5AokKNosFB4dH4cW2xveKgstjCjqIsoWSQSe91X2Svbo8MT08OQb8LLuQ9372l7YDdA03NTYe+geB7ISKyMrKJgjHxsAB0QD3vx79fUEbBlOCyUQfAIh8qDn3uFP5Bfo2eaK9gLpDvW3+LD3WwVQB/IApv6B8pzuyvTC9r/rPPqR+UEBUAW0AaMPtQqFAN4JpQtGDtQbMh4rHI0LHvID653litYy3PztI/OLBcrzWPZs6QjbCtwG5AfzgggeDIMSnQszBu0AxgFU/lgIjgfDEFcHbv+7Bl/8Xgca/jL2CgVFCBj9wfzu9j7sQO7x8wX4BARmCy8EYQJ2Dp0Im/7aGBgIBPeD8kvtXfn38e4F2A/2ADkU+wmWC5EGJv0Y/5r9FA4eFEQYQA7uFh8LCv8W+xH7XAvCCq4DgwlbBcvqdQA9/uECSA6CEzsUfQUoBjT/sPF58tj/Sgbq/TIAl/5s8pr5YQFr/UX9wfpH/yX6JvRyAjETPxesE7ANUgrW9JXzsfKv7cQGxP4WBgYSaAfkAzcAC/Ro+tP5bAIaBzn1ZwSu90H0swJjDJAJDw0VHA4Smf2zBZv/PPXSAEoHgf9nDskJpAQS/sT1lfmt49jsm+x57zP1KPY7A//8wgOS88/7TfjiBZEOBQ2sEqUDngpM6B/3I/xe9hP4hAqiA3sFCQoo+9T6AO2y4L3qROm887cIFwoQFicMqwZO+iLoE+AI7e/oC/hw/F7ybfYo8wLwSfyAG+UhNCr+JpAXoRNjAm8KEBBAEksKHQZJ8YDbBtqS1BXWQtp73Erlzd2T6zIDkxd3JKItMC+8K38aTxB9DrURcRavEjkMZQPJ64XjoN0S4XHypfLJ8ajrDe4U7vDyFQDrCLcZuh9IFyQMgv85/1j0gPfPAmL/XgJg/1MAoA9jA6rsXv1RAh0AjAK6BZIDuAm4Bq4KIgi5GzgQmwXx//TsSOaY473qlPX/99oFJQ0YAA0G/gJd/dUVZyHOIOwwSisJHmMOsvvFCIkHrvGR8gn4JO/n22zaD+zy6CIDvg2ZFPYiLBNXEJoD0f4VDfoCkgxVJFcemQ1aBV77he4g6onng+Zr6fvna9x50Irebd0k4pUBmP/oCYIZjBR3EbUGEP869FcDGgwAEMoVuiCaEz4J9QPh9Xz55vxQ+briQeMM4ZXZnuyD+gX3FvBW+NruI/fV+4UHp/6vDk0NkQ+8Dh0KYw7UFUwU9A1oBGr7/g+HAMUCVvuJ+1QFGO9Y8avxiOMd457pxONF8ysD4w/KDbQKGQhX9xP8kQk1BnEDaBIdG7kUShQqDI4AAADa94/u+PU07qnj0N5G7dfttgOJEu4Nshb9Fc8G3QG1AVTzM/Db8bz22/vxCuUMBwrVECINuBJ4Aw0PjAqoAQwXNALQDC0RRwOFA24FSwUTA6YJ1Anh9Y3rHv2aAR0CFBjGAFEAcQqO/O/5VwagAdoIfw9TCxoLqhDcC0cD6Qyj8hLoWeBM2tPii+dA9Jr4HAPNAZ0aGRGNE9MYQhc+GN0Ikf/c8qL24+OW2or3i/Fr/sT17O/c8DPuee0A6tj/QweJBxcZ9Bj8EdgNDgQN6afpGuoi52nxbwEqBI4MDRGfCo8Jhvq19QPxHfHU+UYAfwNPBU0DPP6H9EHvY+2/4+DT3uEI5KfrN/yVEeAkWSQiGZUOOgarCD8A5vfU+NgGeAOT/lD1Q/QK7qT0W/8R+zj8BP6o8MrjNO9TAYYZ9SnREG0SbREFB28EAgfVBdoCdfwNAef9fPZxANoBqPnq86b3qgDE+FXz1ujq8RrzZQ8qGN0SVBzCDpsGvPlm7NPwI/dm9gv2WPm1AN4FugoXCJsCjhDYFa0VlRyzLtwdARvDBvMJjwZR/Y/7ef5SArME5/DV+Xn07PaGAI/xJwasC/8GrwyNEHYQswy6EjwFxhKkCicHDftgAi4A8QnvC0fyjfmoAwD2DfmeCCgF5AsMAbX5BP8x7jzwQ/xr/fUTbPsX9J/7dvH54Sjtueav+oUHgQvsD1oJaQWSAjz++gAW+bMAbgks/RQInAy2BfP31+/F5zvpi/ZN9CDkLOpr5/jlh+jW5nb8DQhjFvoY4w3rAeX0jf7GELkPIB/YJTcQ5fbG83PjiOV/91/3bgmtEZH8efH550rjguZh6J/xBfgp/BX3+Px3/+oLwxLKFMsWnxqWA6z3W/R7+SD+4QYSF5oMHgFk8mLdltQ62hPg7u0J/sn+ffWsBS0IMPtG//8CuhIbEncIuQRSFDUP2P7I/nwOuRNGEBwGGPf/67n1Vu9w7/b4CP/xFaIPmw02BpH7kf6dAy8EoRc0GEoORRRSAD3yGu+W9An8vAqiF2wNhgqoBIYUHhFuCnoR1BuoC9n5f/FJ8JD0MvdN8Jv9QPW9+2nt1e307T0A7fcT/eH9IfIkAWQGnxKuIhkbWCwMHn4JEwo384ztNu8w6w7zUO7g7FDwje5S4qvrKfJfBK8a5y9+Lo4bnBbyDUD/9Pr96Qj8GAKR/qn0lfgQ32jhbugkA1UTWynqHBoHj/Wc6N3yVPuLB4cd5CgCJZwDqPJt6u7XJea/+6MIxgzMAU8L1gYX9AQONgJbCTkbFQ2XDi8Dq+933jntg/Dg4sf4sfvT90H3gPTi28/XteFs6OsFtBzUHasj3x6kFuwYwhvzCK0T8hAb/fD84+aG5/vhvdyz4R7XL+sF973o6vcUA8z8qwLmE5YjPS3sKA4hOxKcC5kLrwW7AVAJWf6g/pcCSf5r+fb/IgAF7d3uh+386V3swfPG68AC4gt4FN8FPQKZ+TXxrPT3+RvwowiKEukG9gnGDJIegQw1Dp8ORvzEBYvpSuRm7RzgZPLDACwAafci6qfhauFM4kHo1vXb/xIMgRktJMojZA5DGWsYWgv7HM8PTh7XCob9FesxxDbVbdIU3SX0VQ5iFdEH6AheDIzwc/7YF30SOiGlJkcUwxesGEcSBwTnEpELVP0k9sXknefb6b/8uRDYE/cNIfuz7R/koNtF6gD/kPuWBj8I7ftz+df/4fUs7n7yrvlSAN/0CP9bBjz9hgO5A4MX8SPWGxIV+AkrBBv5jOg67TztruJZ7lnv4Pdj6YbmdOxE63T4LQFsEkUW7Qm8B6T8wPzrBIkUWhqEFlASQhKQAyH8XAV//Z0H4vx698D9wfdV8nPsRu3cAlkJuBXxF2YZ6wFoASX9WvIW7U7oo/Ay68f8NAqPBHQIOw7DAGHy4Pmf+lj6EfP9ASkNBQkrB9UHo/4I7jzwuOb28Y3/JQZVCEkItQek/XH/hAUNEqwP3A9oCLwHSf1J8R/5IfRrBKAJZAQpJVUaKxduAIf7IvlT50X1kvpSCJ8SmQ5dDQAA0Pkd+AMGB/WNAOMD7gWmCP/6v/01+T76AAJYA3cZhRWKFaYljx5VBjUFUu2E63nzMPHX8nr0o/Oa/cjwLPNm+sb8ywFnAJ4B2gMRCOkMpgqpETcSwAb7B/IClgC2+moCpQE4/lT5SPwE+O/xzPAk8bX1uvpe8S7t2tjb62jsWPc6Bi3/qwsBBjD6sgFfAy4SGQ++GXgLOgrV8BL0kvFq6K4GFQo5DgUW6wlk8NP0D+/459zvI/S++JEE7vOe+2D1ivUi/Fv4q/K07fz1DPLBB9wb+CixIvgkLCWiCNMHkABG+Nj3lv1x8EH3q+9M6qrxGPFL8srsQPc+Bu/xGe1qDVMBownFDhsNwwqT/NgFbAO0CQUYhRMFIDAMlAMiB575ZO8Z3cri9eBu3SXpRu4HCH0cFRPK/Xb1t/W883kHchSJGgEpmCDeFb4WIhJaB0MFlAPm/mj1qeiI4fPY2v3x9an+A/xn+TQCXQcVBTIHlQpaEGEiNiOaG1UpRiV2LPcTCwbf/w7WR9njzy3W6+62AXT6/veo8jHtGO2u9BICKvf7AE4KThTsGfcNiQofEgANSP+V9cH2Hvu485v3i/V19XH42fWi/1LlTOQA7pfpCutr7jLip+sF9T33lAxMBWsJVBpcBUQF7wU0CPkWLBgmGAgTlRW9GPsMHAaHFjwcHxNKB0nundmXzQnDM9hp2S/taQBoAloGv/tsDH0ThyotMgg45S+1GQIY9BC9A7cEWgNGAqD0rvjm6VHqAOqw5jDl5Opm4Yvpqelm7+nyxgqMDDERWBI+CCMMMwlxDyEZ3iXJL+skJgiFAdTpAvHk81v2oupy9yf1bPOt6YnoxeqG7l3ytAKvDcMN5wXv910BjwkuAngZ1xo/HHkZdwK1/P7p/fLo/H8QNC8SNJkilRKzAdnpL9236RvpRfCW94D3gPFu7Yv4Jg4KFCEizRdcIOwbyBsrBcf6CgKrBtD1xPVI5GnjF9SNxKTRRegI/FP8ARO/GYcaNxJODn8FgQbPCT8Ab/c68cb21PSK9sv5+PZI82nhddG6zYDTbtxo5VP9lRGcG6QeFCFZEN8HWQpGErAC+AYrCkLuh/IX+3DzxvH+4eDi8+g+6Xb2Jv3x/2Ua3CFjJTYthhpcF8IWLApsA44CtwhQBvcBmvHz9Yz71f9SACgAwQK1AgMAs/eb5Sv2owP7ALAPfh2FEpAFdvXN6EvhHefJ1q7c0/AX5XTs0/mV+2X4fwVPG7wtZS9BJ68srRyk9Q/tee4q6XXivO+i8AvxG+Gh1xLib+ao8KPzbAPWH4EWTyV9LSQa9hyTFTkkgC2II64kOxXO/v75ff1g62vwKPTB/X73E/rFA6P25Pk3/BsE/RzHE9YZ4iJzDO8QXAojAJD3sfVj9xgJ9QZYAMz+3gIUCMb2UO1A8uHsd/A6AcYEdAPP/nX9Hfp/7FH/MAJX/tr+tginCh750u4q7Of0Dvip75P1Mv5D910DigK8/VDxM+0D6Yzk6OlU+k/+3wcQCw8VDRB3DkEJLgtKHbMVYwFl9pL7DPsP9pQF3xgwEQ0TZATX9fPzPfO76Y314PN0+qz6H/Z38HHnw/YnAv4FLx2PGzgq1CtwD5sKj/Wz5Xfy1umF99oJLxLHDGYTUgvn+Ort3t6S6p7rpuks+LTxt/Qp+FLmXte55RzTqdcP3Dj0nATGEXQWgh+/HpUbtiW2EBkUcRnBAnkFs/O14vLnCukY99Lw6e9W5XXrVehn70zsaPuSDNsB2hS/KNoZaR7XGW8iaRo0JNUm4iPPIkQZ4AXP/ZL6du/85izrY+l87BPmVOtu3kDmuO/S/3QMGg19GS4orxloG9sLaRl1GW0SZw5xB/cG5vmO8vX4jf0h9brswOZe+GDzS/w7DRAOhQO4Aqn8++Yy52LpVfGG96YNOxguFnAslw+UA235F+U642vTT9624c7yiQmQGbIiWi8nKSgQaxU8Ck36xO3dA0YPMwsTC4D7F+tj6VXieOgQ9mb+RAocBcMFmw5tERcSnRwqJ/EfvhIVEu0RNRaaDZ4II/1/8xHpxNWe5E7rf+Dm4lXwSOIE8LvsXu3//pv+/AGwGqMKe/zOA2kAjO1C7LDu/fJd5W/vHPTI6/7+xPYU/W39TwI7GQIGTQEI/KHzHfxE8uPyL/QWBaYAB+IW66XjI99r8Zfw+gzlJpoeLiBIHGAVVxhhE+AS7QHQBqgBrfqwApME+war9JbwR/5d88/16Pqe+YgAr/2T/7kIahK6EgEI3fbt/sT/5/KKB0MWAyAwJ0AfMBIV7S7hSeg10xTfFPBj9Uf3JfzuA0T4M/x4/krzAgCM+9gEWwl6FN4Wzhy+D7QAHgFdAO7vQPF/92H/WgprFagYaxmFErMCcO7a5BPlEgSbBZsDCQKe9zPxEPO58IkEHRKHJH4hWRFaELIKqv53CQgTARxzGWUQSgdW803treRX3xXsAADA+ir4v/dYDaUTyxBRFXEDiAQZ//n3egAqB1UL/AWACwQIiQE67hzgseWH5THpIPX28RYAjPlTAh38hOJH5RfkU/n7Dm8XNxkAFgQIvvel7DDqkvdA+rv5UwoyBAb3GvW48KXuzuId5gjn9+gp93P+7/5nFy0b2htTHA8d/g+aA+z5PPYk7xMApv5pDOgb+gsEGooJJP7m+Q7v8gL9BnkMcg3iA1P/0wYX9erzOfFa27ffxNxK5kr+7RaiJX8iDSivIBELWP3s8Fv1/Pz7BFkB3QzaCmoPWwQECFf+yPGs8BXnHOhU+esF8fi2/5MGvfq+6APsEvwVAbH1hAAuETAU7xM6DWEUwhoKBOn6Du7u3MrhY+dX7VD+TRIxFWMfVhPfDNQKHgJk+gf4iwTGF9AV9xeDEr4G4PWm4y7f2tkB3KzzxfgcBXIDhBHqF+IRGBhBGDwY4BaYF9Mg4gvuCHsDkfqP5XLi8/EI7K7sO+3q1tnmbuZ736D3cf4/C8MNPRoeHuP9tveNBY4ICBE3CyoNgAYk/bzuKOr350nw2ejA5x8AQgep+L3pfuNS5frxUPZm+8ER7xliEowM6/5RA4D++/41H0IqNSh4HHsOBgvU81X6Wv98/lcFiwpJ/qT8n+i17F/ocufp7Xf6BQXcGHERHA51BtYK5gOL7KLxkP1FD5wb3Rh0E0wRigQ+/Gzv9QUF80j2n+wa72LrNu3R7yb4LP4JAmgHnAIR+1b4Y+9F+EoLJg4TEy4ZkROfC9/8r+z05dLRoeej6if3RhIvEI8TjQLvAFoO8BDNCMUHwwhZA/cWEhgvCbYJxPRx4CrgAtr243rvywEyEd0KWQQtBFcJngYZ910P5Am9BNYK1watCZcQwg6bIEMLbQsK9gLWI8oB2wnxAQBH+3cNCRLMDh8JtPlT/ccGrPb7/bEXbSCXHFgbSgPe+eLuh+7K6aj3VPDB8kAGdwN4/EMOtv5RAz7+w/t89KfukfT7BLQWXiuRJUsUDiDNAbH2D+6v4QrhJPFFB9ISYB+fIo8XchGgAiftp+Nc38HeBunE5z/o9+lp3+rfZO8c8TP7lBB8IQMzmDxoPnUxxzKaGWcGau4E8pD9w/bV+AD6IuxR7Hnq0t7I6h75ZfK69uL7sAsrDM4CvwhkBCj7LfUv/aIJtgj0C80IIAZ2BTcA7QeB/54F1v5S9Bv97/Mo79TyR+m47vXpRu7pBbEO2An4BsoDPP8b8jXhbfe591v7gAepEzIcehQj/mfq9OTi4WblOPgv/rEAkfZn904BLAEyAAcPGyGXIuQKYgh/DcMHhRWTF7AfKxu2FdYH3vj98DT0Wf+c8vb1fvx77s3nMOCp3jDaeeY/7n8IwRoJK8orhC8OKJof+BfBGbQS3QphBS4An/kr77vsxfmf/Hb/9fT13k7Q7M2cywjGpdlH+pcNPRLjG/8Q9iO0I4YPpw2XBuDm1uc14QvuKfLD9zv1qPmj9ITxfOiS7dDyqAyrFgYeuiQCKosiBgY1/Iv2aPexEH4QzBYNDkQKsQg+5uPnN9vL3r3oiuU77jXo7evV97/4kAGlEUUQIB6wDyURmBnVHD4X1BFMC2wKn/2fBSoHrv/BAlP2ieSo41Pvp/XJ+aEHaQYWBAcOcvwg9ZLuavZh8frrgvfU8Vv1Pfai+y0D+wHr/zIVABbDIC0TcBFRG1QVDwKNBI0K6AfT+j4O/Pua7nvriu6/4sLr7gLUDxwc5BfgFX4JXQZu87TuP//xCLACDhGyDWQMO/k75VLuDe8H+e79yPfsA/QIMBcBJngb2iD1H/kZaxCeAowHYga7CmME1v6J/KDoDNzl4d/U+t396LPtPfHAAhkCPgQtA1D8dAMeDbIUsATSAN37SQDz+E7yzPZX/JcCuQJxA8gBPv8890nvn+bZ7nX34AHXBeAJhQIq8vHsYegB79jjdfBm/CT1wfjgBAoCigmmEJsX5hrfG4UZ/xr1B+7+Lf6x+nv/tP8d/j0OpgdZ8er4COcI5D3kd+L6/mwOnRIrFDAg0CKCFk8FGQZH/QLqcOXY5KfRbtBH6CrrWPrvAOf9xwpZ/vAHeRHPEOMVpw8kD/4MvQCw/9v1//mO8jjowd+k3yXuru53AOoNDxKdH9YeXxi+GVQK6gd6+/Xpmu5c7EHvAgZnEi4DNgQoAy32DugU6X72+/4DDmQTqhOrHIEJSAtUEzsMBRO+GgoMrP5KA1X3KPreAkAAOQL7/HMAivvmAIkIBglcBmwEOAGnBD8GQ/eb7ZbY8uNHAaEDaQSmFQ4BhAWkBUwE0w0oB/oFIQDA+lX/uAKtCiUDDA3BAtUGMQ7p/UX7JPxZ7JbqgdLn3Mrzi+kw8eYCEwTTDd0LZg7tF/MWQiHyG6Ec+hdPBJj0LPpP3gDogvMxAGQLVgytCmD2gOVl7sz20ge3DVYPnRNiGAkI8vom89LvlerU8c3zQfVE/5IF9Q/4EIIRUiH3CboNM/P42Arir+Se6CTr1ffh/mb1Wv0l8b3vEf0I+SoDRA5GE44ODAzfD8b7yPxE6FHdW+604dHdXvNr+BgLFA+FDdv/hAGr9NbvBObp9loMyg5UBzAWOAeICrsLswDGCQUTbQPhAXz3LwCIB/wDEvyG/X8RsAsSBWoC0/At9DP2//I5+MkMyySqGhMDxv7O9L/yc+Lp5rQGBximHZYd3hH1/X7xju5n6zAFbQf6FGcb5xCsCCkJnAAjAzMCvPvI9oD9mOo79pj5Nv1Y9+/10/wtChMS2A8wD5QNMAlMASric+cU9mjuPvPAA2MRMx4zCoX+GAeO+if+EQhSB8MRcAnxAEf+9uxe/DT+oQzGDK0PqRUKCdUHh/xwCaoA9wTuCtEI9v4d8wLVxtkb5fzu9gBV/3AHWwz9+eX30fEe9eH+hAlDGi4bXRvmH0QXoAZZAw8BYfKD8LPvY9wN3j3gjvAy8WQG4AT9CwAYAQpzCOoS4QbSCo/49vcW8ljrv+Ve/iIJcxhuIGMg0gyf9WDzzd4R6fv+BP1KCIoF0Qj9+8b4dQqHA14LTfPm68nrct2e1pLWGd+G7cXsp/XAAzATGBwmGAAULAvrA6wMvQQZB3YZZiNHD+kFXvLZ6lHfu+RU6in+AwwFBbQLXRqFBUUD2AIa82Hp4+w5/FYJmQ5pIw4WyxtgE6wMgQiqAxIEIwKP/Tv2euMa8Dv59Pv6/2f1lPYw8qjj0OxF5MLv0vhy90ARUhoCInsl3BFz+JvvK/h69gj90g4zFb39Z/vh7CTkwd+M7tf3RQBEAikJDu++6wAADAorGhIk9xj5F1AGcQaeB0sMKhcFLo0tTyBNFPQLs/3v7APRjOFL6R/n4utS7Vz3ifrP/KMHHxiKJBEf0Q52BXwCGfl89eL+kAczGs0dQQnz8tL1LOyz5YPlS+gn7GDyhu/P8H4F3gM+Bb0I4v1g8sD9Lval/2kEtftICgQHTQvO/PcBlgWt+pUAcQixEK8ZCCAYCloPAgDr6prmEuiC4D3pcuxO7qj8Uv0g/SgL3Ac9B+gODQpy/fQHXfUBCef6fByvGlwSuxTw/lPyse147WP2pviA+xn6Ies38G/0pPR+BvALJALxExISEwv6BNoKUQyyChv/DBQaFdILggkf99Ln9OdV1yDUM9CD1s/qsfu5B2sIUyHVGeQRYhNwECUMkBY6C9wWChdx/czw7PJj5WfmmN036/rl+eRR6rzrtPNlAWsZySh2Is4cAharCJ/3hvMq/DIXziwdIyAcfwcr/OH15vEO+871pvt59ObzG+uH9vAJLhQKCngI0g38CokC3Qmb/ZEXpBofF0EVVQzpBN3u3fQu65Xsveis+oruB/xMAU/tnPa793r12O0f9GTnodp/7Qz5uwUiGcYqgSfUFDAGefeA6lTjaPSXCPcR5xaQB8v+hvuz5CrPLtgj5KLxyPSk63vjC/JtAuYXByiaLzYthB5YGcrw9+ti+Iz40QDFESUJXwcGACjwZfDN9/LvkvlvAtEIzOmA6nvsoO5OAEMOXRv1G4UFR+tV40XRQNtj7CwGzxiiF5EVtQw/DSoJOPdJBv0ZCxeYFugOXgsK7oTu5OmL7dnv5e0C8DHvwu/U8WD2RvWrCDwIxwenBS0L1Phv/GsCmP+IEF0YBh75GioAog8VC2YGHRmaDbz4a/4T+envF/+ICIUJAPPL7/P6LudV7QIC4wBWDDIO4QnpEYr8J/WB6jXpIvn5CsIRBCSvNsw6TR/1D5oCLP18/dYAXQW8FGkZmwpA5JbWl94a6OnoVP2pBSbyc/n38Y7zb/OtBHgROyKfGW4TvBAPCrf/7AmwCmMQWg5hCGf9h/IU4SzoROIx+LX5g/zf6hL0FPfE+ez+ww/cFP4T9RHvDWoBhfyDEU8MDRF4ELkCQfmU4Dfvrf1s+cwYhRbxBEX58fEH23TTye5uArz8PhBtEhgMAwQz/q70zAcFCjEYZxckIGAiEB6tIPn3P/n17Cje2Or94p/mCOgB3sjcdNzX5OLeC+989RsF6Bj1FCIUuBFY/tj8RgSgEKQQExTwAC/4HPqk8L/z6/z6/L8Clvg+9CbuJOtw79Xu5+sgBeETwA8yF+wdbxi+EtQKrfjA+8j6ivtc7zTt0OXH4HTv9fqQ8A73+wS3AuIDkRN6EzcfwRX26QXpQv7eBpATaxLwH60d0A1z/3bu697F0k/H2c3x1AvhQ+/19z8P2A2rFJ4eiheuEK8QTwsSCWEAov/1AjX7zf4c+jsH9gmgC2ANPv4cAxwJkPPcB1sIagFhA4r+JPmD/1P/LP9DA3L31PcB9Vb2efORAsgLsQk0GS4Jw/egC1MDmwoqFDgYXCOtIYsQ+PNH4QbpIuWl5QLufeZs5TzlkOTO6pH2egWMDnAKYwgCCsEJJhCLGSUk+CwULYwf0iKLEqL//OyM6J/uKdpx3evjNNXx3EXePfcSCpsPsQeECqUFtBdDE/sWlibdIVUnRhqLEW0BQ/VT9QrrIOId70v/+ehS87jswuxk820A/f0VAHT2VQLsAGYHYwD3DgwZyhLED/YVQP2l93/1CvQx8F7jh/PqASMC6AyPESUCbwIv8Rvm+/Eu72MFxw/8HyAW+hN6DLoQWQFl/En6sgpbBF7+ZfC06VnmBuXV2MLg6+u7+LkP7RxpJYsgIhTvDT4Obf28B3kEbAvY/WX46fFGAG/3NPf/A5X5aABICWwQm/Pm50Thr9Y44Hruov+cC+UXXBs0EnwVMAg9BowFwARr/G34KvTy5JkC1QW1+eoLdgHoAiP+wvB/6sfmHuUT8b4BOvW/8Af3qPx7A5AIhBKwD/kSwgzk++IMdxF9C5gN6wjnCUgUOBnGGvACqfuO7Gb49ezU5ffcjtag1zPQF9bG78P8jBEgFj8XpB3GHMEsmjIDM80/3CcjI68cCQU6/KTtfe32+Bj4jOwD5mTZrMcLwUbF1dpH8sv6Zgsm/+wF0wqJASoTriaBHXIkgBlXDv0OPQRN/P0FFBBTDAMFnv6K8gjnat1V8Tz5fAUhCSEBcfmR9Xrs/PUe/IENUBNUDgcWcheVA3MCLf+sBQkJZQsrDbcNlvtO9573ivgFAWQIgg+5DKb8KgOIBpEKnAxTAIL8BfCx5drZN+EA4BLgAvIn92sCXANnDMIRpAtwC5P7VO7S7Df7WA6AF94hWDMWIJ0UNwXe8wXYDuLj2+PhFuX39J//jgMG+QXx6e/s/MXxuwlpDToIJhYTE/AM7vX4+Kb+SwToBOoJ8RBdFBwFdQU0+BzszvrDBrYAgxNpBpT/qPGH7s7mj+v08zzzVAj3ABD9F/bV9h35efQE/50JOBkaIese/h2oHZwCWfMq/csBUwdFAbr0vveD+YTwn+Oi5EfiD+2/4JHyxfzm8u7rve0T9PYHsAoxG/YlZB41G7gfyBDNEewQeQlfC1n0q+0K8FH7u/UO9q/2GfYP8Ej2Tuax8xzuZwATAzkCSwGC97zzAPOW+8IFtRDxIGAbWRV1DWwKcAMxBVsJow/jHLoZhggz/rT2uvhL6WL1vfTC8Wnu1OXi313eC+Ce9VsNCw+mFdUVlxr8D7IS4Q5b/hf7WgAs/EL/cf02BH0LWwbkAeAExAm2+GbzSfPE+IQGUwGXCWkQagGQ+aD8IPhY98r8D/0EAakGAA4uDxgOvwkKAhL8fPDX/TL7SQJWArEDLw/cDtYDNQ3+ASUEifam7z7Yh84H3ODWmOJ/CtId3yJNKOUQRRAGBr37/veP/wYSqQjBB1v+PvhY6KPsTfzKAMD6z+1B4KHiuej18hsD5BXKFPYJsAXWBygQmiUmHkwWXyqkD2AApPB24rTZztyk74cCQAhYI6UZ5A0//tHtF/wdAhn0NwIfAgf4Gft58Tn+YAQ8BqUG2//797XnNeVz8zv24QJtCkAhLjDyG48JMfcz+3zr7uih+moF/AkcBN/4LAFdBi743fbT+Uz3Cvhv8KD2TPyWCOv9zP+hAMH1IwJyBbsBIhTpGPUiIR+6HsADJ/fZ9AT0tO1+BT0Jkg0OFOwHB/ez5KbioPvF+fT/VQa6+aD8tf418Ij4RBC6H/sW2RD2BnTxE++b/UAEgA/mG2AffA6E9AziBNvz09vXZ92/8XwCGAe8E7USWRX0/HrxpfRG8Vr9IQgbB10Jkf/6Ax0FzAPMEsz+bgMi86XfhPh48sP8AQYnCCoLjQx89yjz6ftDCDQU/g2Z7ZjzL+N51STX49fl4K740wuRFnAiJhyEGPwdNRFSIVcbnxLKFxENl/XB8tr3t/aa4qXm1+kF54zLkcgJ2JTUcu5fCuMOhiaJLgojMx6LDUMXvxKPGYAkih3H/Z/47OuH6hHk9N0m2x3cDM2O5HPbGeD49AYB7hiPFSgYlxmxF6wrNCJUG2YZLx5/INAOZQQ9AUL5Le+u7dT+d/dU820M/wRIART33uuQ8oz1l/ljAMkLDQ7BAjcB+PoB/1ELKwnvFGIMGP/XCEsNwfpL8NoOYRj/GZoEXwxm+xbxLuX17rfzG/qMA4ICEe1n4Bja/skh35HotPo8FL0iJyOSJOsUyhCUFfoFMxlPKbcecx1UBKX8ewFnBWn0qf2r8CPs++oY7YHxFwdADqEQLQrlBAAAu/cn8GX4v/InBZUOhxOgF/4G8P/U9Sft7Oc17ZgA0gk9DSEI7hCSEe0WyhLfAlTyv+n57i/rAeKX5dD3gPk9/Fvr+vH98V3ps+e25Pr0qQYFCjoKrQPT+Yf36PMU8ZoCwReuC/wa4CbTHnQmtRTVEUwQIPyw9/zrLvnd+kfvNe4J8IjtWvXA+or2GALG9ljvQf1r85z5IQHXCDgjBhwKHVQdMhbVFvIj2QtaFJQMLvUM7Cfhvc/u3TLU2dDM1WzXCfLG8TTwKvdh+lwCCP+7FjMchhdrGW8SvA7THpoSgAEKCDr80OG52LLoyu7V6Xjw3e5H7sLtefyABH8KAhRXF08Zdw6DE4wMaw8YB7ESAg7mBtAHVvnG8ufyWfiOC34UEBAiCbYHegSM/gr+C/3D+fv70fJhAksEXwPeCg38yPsO8GX+Jwz3BDcIuf9u+Ir+HP80D0wNwgCY+rP6gv/6/rcG6wGEBaj9zf6Z8dLsOOK43TXgTeDm+ukaXR6GLWgc3fe198363wCABJQKBwnrEHoI3+t17CT1JwmVFLwWDBjfCSn9wfZh7X/wLAGZEnEQ0xSPAwEFw/Xv7i71tv4uBEH15fZt66HoAfLI+6gMsxOVFXYPexnfEEYG7/6UD7QPsQvDBYD5ivbS9+T4L/OH+hMKsQXDBCsI8+i53AXj3+Io8ojvi/YxAkAUZAdGCn4DdvnQA1wFTPtDCbcTTyM9LvUmVRzUBfMDMP7PANHuYuxr5OLds92i2nfUo91T5+zpwvwQAokD3xCXF/EjViLGI0wjFi2WIM8S0AawAi/9i/539hDu7/AY6DXube7n3RLs7ODa0wzYUfW781kH0BZjMHIleip/Iu8b9hqTC60FfgjX9+ndJt111sLP6urJ6N7xiPwl/dMKCPrU7pTxHPnGE8YggBytKm8RLQda6NPu5vmV7379T/pqDMT7Kfr5607uHeoD6b/pcOzk+CUGcA69BtsD3g8yFhkcgR1pBxwQMAtaALf6LPU+BLADI/03At8KEg1aCIYCKgIr/oX1hvv/5m3vveqh790FMfxv+7kErwqCAc4IwgaR/1H/rhK5BCIDff6a++0FJAjsD6sOIQvLD2Dr0N+06tndt/lI/br+dwIc98EAYgFCB+4PSAwFDc75Eflw/pX5tP5fAY0MXQpQBwkNGAasAVb2oPLb9V4NJyAvIk4VfRFyAcX9DuaR7/Lws/lC/Zj7ngFM+pT7swCS+bMEE/BO8qkFZQTN/rYFNAZTDMcMlQio+Zr+ZPfd83gErQJcC/wUnQsoD0X95O717eXzC/Oy9gH/8QluAmYKoPkp8tz0v+nN+bH++gGmCgoNrwJYBRoOWA13Aj0NUgC9DDkJwg91EP0Id/Uc8ubpxuHX42H1AvthDcgHURFW/W//w/IW55jmsPCM77QAtBvQHsolEyCEEEsFROxd5PXlIPBL6Rv5BvOWANYCyQBg/vb8JgI6AeUdkBpKEOQLKhDUDqwCjQw3FS8VBAD6AuzldNkL3Kbm+ely+0IN1RSTEhwFZAUw+aD75fYzDQQUCBo1H0EGnAAC9WrnZO9V8rztS/dq88juGe6R8Kv4L/c6+5H8ffcj++j8mwS+CRT9C/39DkgLhASfCiYO0gc99d/xc+gg8abwVwRTDYn8mPrT/nDxgQUoBYUY3BmSEIsDX/Rt75jtsvXkBVgahiBHCvr72/qV9Rn8dA4eFaQJngD4/vPydOFe6jfun/w2D9AToBdkEK0PqwXw+Cr00QEFBhcKlAsJE2T9QvIA73bzre7k9GTsjvd88N/x+wbW+gzxDegO8ZD4sv9SE+oeRzEFLF8i6BDDCU8BAOkZ9A4FQfx9BLX1nu6d+CHs1e8y9dwCQQUbDyAJtP/59/D/oxSIFPwUKgKKCrEQNw62EvQI9RED/2f9ofz86SDcEuQR5D35Svgq/qYHfAiMBCsBafkeAgb7p/xN/SkH7Aj//24C1AsNFOgQgwgbAmLy1PTS4vPaaPL9AJ8GVBdWBH8HffpC9Srqfu0s6jH6aQT3BsoUxhfpDzL5/Pow/Uf9kgbG/sUJZw4BDJQDvv60/70E1Azx/WH2Su+m6ZXyQAdKBekPDRgRBXD/WvJZ8QbsCfWk/5EOthTmFL8OCvZC74XlVfV2Ad4BZg3SCWwF+vnu80/uX+WT8U/vOAAfCjn/CvbW8JroWvNs+K/6qBcOFgsK9Ahl+ngHmQ9yCdwTKwhQCB//huwW63Tx+vTYAI7/Yvu37bbZeNlg5cX7PQEOA34TcxJJD5wQgQt1FxQIjxhIErkHxQbH/usEsAwtCQ4Gp/S/4jXs/M/kz8zm+ume5xj3S/1JBRMamAm9CFENfAy+8YX2bPcQAf0ZjhUuG54dOxCFHYwRHe/P8ojv/OXCBYvvYfhIAjH7/wIGAhUFXhaHG5UWbw+WAk/3YO3J98T/SgdVDq/88vL+7p3sBPXA/BYYjhsrEl0QfgpmBgkFav+RCPgRHh5iGA0RqQPs+8jmS+ve5VroJu5+73v23e7m6lH3lPlSDcUMmwicEk4Mkw/AD4v7l/jR/xD8pgRKGpkeKCRkHIEZQwveDQP3U/zK+6zqLPe17yHlB/GW7l34OfIG+tj8JvlO+934DwBX9c8JqhSaDzIg+hYyBuUK3QtA8K7/Hvdd8SHyxvmRAn37cfRX7AHeHuNo6qzz3wW/D0YV0Q/vGssH7vap8MX/ghhXDBASCyd1JG8LBueG3unU8eLI3SX12/ygDcz7IftzC/ga9x4gFOsQYA4PEEcJFQ4EDMcMWQ5eCSQC0edk5Zff5t4e3XXr3/BoA/z78vNX8sfoOegw6+UJRhWGJPQr7hfaFtUcrwdGCAkCpPPm8XP0ke61787vZ/Jn8nX7TQJx89ryz+gt6ejhMddw6wP5Dvv3EmAYmCDxIGMs1CgXHKoTpQZs+L/0yPgQBOD8wfJp6bnjBdxE2TThXPhT/sQL5v1K/hfvkPqf+Kf9VA9aFREnVCHxIQgb2Ql5B9oJRfgD9Hvi++L35bbdrOFP6vvgme968KLt8fbjADEFRwyzHqUbfiiZKd8fnyIvCisAYvEk+fzvFgurB8D6kwdP9CvgR94/1T7RjOKZ9YYKZxT1FqYXVBjwDuMOkQyJDhQELAw6BNwUfR6dEFkk/xuYGlEPd/zE98XZGt4D6hvvkfcU/1n1jgCQ9KDo2+pj9E3+F/jwB9P8LgYFDp0T8BNtJdUhQSIeH1YhvRWyC+n/sACS/FTrOuOX7E73Vepw5iHnNOPB8d/qhfRX/hr1PgX6CZ4CrQ4rDWD+RxR6FfMLTB/MHm8MogyuB/oE9xFHD9oMDALA87XywfBe58ru9QInAo8LpQby+N3zSfrR8Iz/f/2t+4b2a/dxDzgAhPmu+dEAuRdfChcMqgwmBmsGKwVhBEwGYwkBCBQHdvklBa3+x+qL6+zaWO3R8C/nl+gL5HTvNe60+CUBcxp8E+sSDRctBBP+svBr/+b8ORdKIMonZySaGFATdfkV5rHeRvbj/JcKq/zA//j2sels8mvzp/Jy+13wEO9E+LLybfoCB2EY1RSfF0QSG/tr/0T/EPaD++gLfBjtEBkJJADj78rXIdy03tTep+YP7wD5tPt59YX2NvWL7uAAwgTACHMbtgh3CuwKCQWnC8z80wDQ73PjWeVY7R718u6jAQcD2gQTAuz9owBiAFAIzQ3XDDYDYQB0CQ4LoQxyET0HKgeCDU8KQwJA/sUFTfld6XXjXuRF9u0M+QwoDfwKgg0tB/Lud+kf6cLsS/4B+1IJRRTpFWAYzgA191P0Duxi/EH/4ADaGvsT2hGXC2P6QuTq1yXZRMw+41H7p/glCPAW7RwQHT8l0x0MD58NufGN72rtrNy0AmAhSSPZMVsVKQqF8r7xqvEi8hn6rhMxDVUNiRa7+7P9VwH4B78E/u/69CsGff0l+bwIjvvR+w78YfJf+2X6UfmwAg4Uiw1HF2oW8ga6CST8sftHBBLq/fC8/Lr18fBN72vrO+5T67PjyfAQ/TIWgBp9GksRxw8zAhj5aAHRBGQLVB9nIRAu3SoFHrsJnfUx3VzaadC31O3hxubB9p0PtwssBrf51PllASf99whRHSwZ1hzAEWYBdQ1xB7gYGhWnFYgD3QLr+r7iD+mJ5Uvhpupr6gnwHfKP8VbtvfgtB/cQ2hV6IjgdLxWjDKAAcxAb/08LUibTG2sklCEuFzv7MOv46rLiqd9a55kARfh69fPz+fG189PqaNld6rj+jQVICOwVVRxxH6UcDA8zAfsBW/lk9r7tqu/V7djuSOkP4Q7Y2OSA43LZ5d8B6JnlNPpM/NIMkhvCJB8gPBKUD2/3W+3A80n5BwfqAdH9sgYa/UP1YfUW9RX7xQoMCdP9fffJ55LlLvGxCfMAnhUcIxknxi1TEnr6Oesn4s/ckesyAkQemB71CekiGQ4JAvP2C/Ox7RT1s+vH8aL+kuwX8x/8P/d4A1IFOQZ7BT317+l44WfwugAIBVMKGgg1AEv6FwdoCp3zqv0M/0wBYwkjDj8MZghaBOwHHvunA0oIyAk8AsMJxgQQAezwZ/4V9Czkieyb7l7yCgQrAUoLHBmGF3MXth7xGlsYIxcvCkYJYxFbBfcNUhCt+pj1IfSA6Z3cwN/p6/r6C/pt9egEYf1t9RX0euIr7OkCAQjwHsorOiB2FT4J8gc3B5j//QJM/szvYfU57cjsjPvq82Dvnfoz/z3tx/DC597+yPuSCVgRhxSgBaYHMv529/v36/meAkUMdAo2D9L+UAviBykGZAgxA0v+ZwIiAs8FHQxaDHYE1AWpBwP8RP7CCXkLlwPRBiUVJgnaHTkXIApeDCcAhvpu+/b6Cv3i9Lfwh/PgAin6n/Ji8/QApvJE99z4jPOD/q/9C/08GR8oHBlsJ+4T/xHjBlHvQ/i0BEDuyu557c3mVeeR1//LC8M0zCfcm+n2+nMP+w6mGFcRJg5kFZwVfRwzH/ExuzOqOicmhho1C6f64e2G0IbNG8X61KjaF+Ty9rn/wwDm7ZzS9d3K55ztqggDJKZAOUecQ5451SirJw8X9QM5/dLpsuyQ9pDYfeB54r3hTutq5rDqHOZX7E7uPf7nCmMOFBy1HtoZxQzXEAQAO/v6CrME5Q8tEMH68fnN71z60vs37tj2xukV5tPzXPAD9vP/bf6s+//9zAbACuQCgAh9+Cr6uffl8Az/vAYbAnAEQQhH9BbxaPX25fDxjvWw7/oCRAZu9kH5nwSiHagRLhFYGdEV7AZsEYcRBQy1A34E6ftE95XzSPlj8t/zd/rQ6wvw//559ZP/P/wWCF8Jsf72ByAGjQYKBoz+QQgD/LwIoA4GFOYUyf9/9qjpPPYBAtv3uexg5srd7OGc10LfW+RE5HL+qhCaH8oxcSqDIscX0Q4NAfAAGAUR++r7GBN/CPIFwvvvANf80PFM6jjc2OfB7q8AMQD9ByATFBW4GqQkNxV9FIMbahWgE6UTvA4VDRsYEwk3Agv19/Lq5r/h/98v5Ebny+z29VEGzgPSBwEKgf5VA2cGcf00EAUYXxogKPEdjQUb9qnoqvCq/6zzfvKFAJv7u/bf6MTh5uma+Vz3GABi/jb/BQGLAYMOuA+TFKYRzw7L9sL91/ytBWYFkQyKDsgNGP0y8svtmuaC9nv99vutENQM/AU9BKgKqwkIAgcA7ALK9xnqF+8SAVX13vlvBVEB5/+o/8sDWf6t+RcENwIh79/2rAIAAu8PswznBl0I2BU0DPII3f0w++QA4Os18iT2suWn5OLzU/XWAd0L/Pu78ZDo2fED5kbmoPUZCh8RtxZSDTH6TwKi9/nvt/kn/9UPwR9hFmAZqxLpE6sTEgKN+6LvaP6uBlQA6vml9kr2hvKB3ITj1elB8NsJYf9aByYQWBUDHMkUwCYxKscpUh5dDP772vhN+bsCXAba/Z7/TfQw6abk4eHN4v7v0upC9Ov9EgoHCR4C4QY3A8QH6A4eFZ0UTw85AiH2IfpO99ju7PYW90XswvVs7XcCO/0k/JMQ+hPACKcDb/zD/mQIbQveA2/9avzX9LLvzuyj7fXm0+/u+878dAEyEz0JGRXK/C8EmQ0990//fAU6+wwNuRWz/OX7i+7A1PvLHtE77Qn8xQbGFQYfchWMBEz9teuF9kruce1+AqYNJhNID5cVVhYuC0b/EvUs5zfwBfWjBSAOvv62/qr9jgAo+5nlsPFm89f7eP8kDNoGmBL/FRsXCBv1CI/50P8v+B4CzfJb81oClf+6BpUJuxvAI/0QJQfq6bLxNvcC8K39uREUEtwLSwGa7GXc9uuW50r8jgUvFd0koh0oHOMUSArVBw0NtASP/mn9JwsLBsD6xvt5Ajr2hNsK71r0PO14+m34V/FS/Uj9V+n++m0PHBgdIbMqozA+KJETrhGL94bt4/Vy75fqye3n8sv9TPnj9CrzDPML6OgFgQPe/Wf+w/kg+y/9mQEwAYcAP/xbFF4KkwN0E98VYAQgAin+v94X5GbYbtnR6uzzDPo7CnkD5Pu8BVP7ZAS9/qMH/Qs5/qYF8gjN+70M+BXZCZ0Nm/ynARH2XOXG6Ofx3ucN9FcRyQIHDqAQyQaV+rEAegLY/0kTIxhfATgD7AEw/w7t8wdmEqYCWPtHBn34DAI8/XgEwgZXAP30q/Sf9KL5jQIlCW38zRBS+3gKtgvc9zb1pe7u4z7wmvnb/YABiACdCAIFYvtY9TwJev4sCOoZkBtDHTwRJ/Il6/rgfdYe5Pr30u4q9ZoG8wSM/43wdfbE/3kMUgeg/osPXg9ZE2cg8BjWH8ka8P0DAEoCy+Uy6fTrofGc6rDyH+lR+pn15AF+CqsFIAXCAywB3wIVIIUhmiYTMJgg5grS90zo3OCc8DrySASODVcIyx34D1b63/pv7unjc+wg+aP2uvb0C5f0iePX96T8wurN/tkQ3QCv+WECvgoBAFoc3B2vIP8UdxU8EJ71jujj6iPvxvAmBPIdx/5I9oH62+Mt1ZHaYt7A8+gF9BoXDPIZTyejHhoplyepK48gsyBQG8wT9vYp7nfhbuJy3vrrQuN56gb2o+4n84/4DgPQBrP39wQgC3b2p/yzBoQGyg2fHhwN0wsrDpYMPA036vDnxefY1aLYxtqd5KbsXA3a8onzO/6M97b38eaMAfH92vxC/4cHyQwCC4sIAQtuAtT5xgUS/1H93/fG8NH2XvsMA1kBzwrVFWAOoQOzAgL6wAJu+iAA+gkk7pPjj/cc71Tyzg7/Fzoe6B5vEcAE8P9m/0v5Qf++BI4NsBLtD2kShPwcAV/rdepO4tPZguzL9Af6OgEr+zz+7PzeBAkDJQhtEL0YSxYRDRMTrA3FAcD7sAJ1/6wBsge6A8oDjwH99ejyf+wa8eP0Xfg1+P8FuhD1AugB8fnR67r2PvY18P0I4wwGEdUXUhfBILUTQAyd/i3+1vB6/HTv3vDRBzIINwzPG+4AS/bo+SvuPPQJDEoSbBc7DsUElwNq+A73Fvia+DABYv89A2QFVgts/QX3vfDQ6YHpDurhAyQJgxZpJ4oYBBGk/RXtbvfY5y/tZP5O+u338/XV+b33TPev+8j4HO5v+UXyuOQ99eL0V/awAhkeHyD5DqASNSEEDrMPkgsX+jr/gve69K/1uPBi/CXzeuO69vr7if7DBIUEhBGdDcYInAR+//3s/fU7/1T9xhIjHOQOKQsm9mjtbujB8qj6dQjWFtAT+Q13BzH62PYY8Jj0POtB8RL55P4w+Qf3VfzG/Kn8EvOtBsMEaAzLEMMU/hXmEWcQbAtjBLX/j/5f7QTtXfHPAcr+EAdqAKX95AzAARwJeP26/Mf+lvhGA7ARxCSAGW4VagDX6krlbuuR8Cf14f5uC3EHqQU0/jYH3QLmC4cSkxAvDqwBlwCh/JL4EQw6Dgv6uglVD4n5NvFA7B/rse2c4DHxAe718aUEOhKIDlcUXhKn9jP+pAPZCPgE7ggODU7/qvBh/EP+d/kO9HkDPQOE9kT8LfnV6S3uJPar8W/uAAS6+RsAnvUlBkgHefjwCJgAvAQ98177rP9p+s//fwk8Bs8LsA+4GQcNfg88BUYKYQGx8E3sDOYt6QD4Z/Sr/ED14vxO90r+1f9i+FACpQfdBP8COgmwDCL9FAQXEqT2XvjrCBgH0gk5A+38pgMv7HT1vfSZ4FLrnPLO5Zr4V/tgAeEBgQo3BU4LERgNEFkO3AqzCCgMCQnI+o0C0v3Q/U38kOfE57ju7vd59e39HA/7C88MHhnJBRwNlwrNBbIL7AQpBNAPVw69+08IafKc7gnz9eDu7n/2t/fSB/sGJPvc9+oBDwW1C5sSKQfCD7T6xv/j95runvhPB/ED9geZA/sApwIZ/ysD6fpLCJgFzwTU+Nf/wPiu/NsJ8RPqExgQagzl9lT7PPYU5xTx+erL8LIEagPZEO4SIh3SHLQfjx8zDDIRtgdzALX+ggf2CEv9RQKf8sXnxuVG33Tls/Z9ASv7/AAzDOT7W/9MArT9cglMCrQbABOtFxkcRAnvAO0Ble+72afRrcuw5U/mLfyeDPAF1fdV7gTlt98AAIUQLShPL1AvxSzqE+QF4v7q8HPqrt3V4b3lfPavANMAtRZrJw0nbSuPFML6N+jj2IDoTumM90IDvw+hDm4PYgqXAS0AeQUz9pn+2QXp9/kDNQjU/ZT2b+3w6s73vPlYAQUEwgUTDWAHnhFPCUIBgfn97oznBOag3B/ZYu5A/6wA6Q7zB2D5bfsQ9+D0iv2qCSIRkiAeG5UakRNu/GEEsfAO6BX3xAF9Adf8yQRrCOr7zf7D9RXuY+tk7TT7YffuCsQYxByfFHwU6B0oD2MfwBL/DyQR0RRZDo3yq/G27gvX8tSb5NLfLe9k9P76SfPa5+kHMQWrBHoJOhnGGzQXEAp4BQUGWflP/TbrKvZMBGf7e/zY9enpy+R657rpAPxC9vv1FQfwEWUP5QU5DHgAgPm3AlwIrwLKFhkRqA4zDFwPrwg7ANHzW+HE6mrqaP8WEXMTLCgQISUInBT9C6r20PAf+EDmpd7Q8WT4lPlEAVUGsAEGCvgGfwDKBKESDxN+DNMRlSBsGL4Acvg++0Ly9+j75nrnT+u89IXyO/c76UDtv+/z6o33bAfhDNAOZRPpHd4LCwcHESsEj/4oBUPuhOG96zHpOvo2+CcB1/sP7pDoS+nPA3X+gBjZJJQ0dicaHWsYag1lBqn82Ph/6EjxqfYe6t7yYgGXENocvSisJNcZtBGwAhX78AEn9Cv7V/SC+MX5OvVP7Arlg+vm6Wzoru9H9m/v6gbuD+QBbgyeApsI3P3ODjoLtwdUFxMH/go1ADT9Y/rv8EDZ9thV2uLYpuDy7QvynPmSBqAELg2eF1chFxZvH0cOtQ2tBWEFOAWNAF8fCQ8fDBz/T/1+9zPpLv5RDOQhGiKqFawK2vMI7gPmeOW47Lf6cfKY/Pz7rwIY+DQLFANCA/8DQgJ8CB8FFRSpEkYGHwINBvICG/rI8i329wDr80/3XvCt5avrMOuC8F7nvd575JLsk/d/HJQhASjkLVofFgwE8kXtdeqi9vgDlQVkDDsGiPWN6oXuEN5D+hL+UwheEMgS6xZJF/APywZz81kBev6N9HrxJe+ZAwXyzvB1+DD1TgT7CYQONhb4GB4ewCAEDzcH0QkcAXMAvvBf8yPvVOGG6p/t0+bx+sgLww2qFfAQsgYrAPPvePCx9/z0LhS/GTIZ9h3PD6UAQuSm3eXek94E8OYBOwgzDNgEQwwdAdryAvUc9PsDdRCvFrM1xT4xMxEl8RKp8FHmANzo2G3aYOAJ8RYGGP98APoLrArNAqsKUxMJFzIWMRDGBVwIGwD1+QzzMvodCDIE4wSl+Sz0R/fq6pHpbvGK6bLjjgJB/5AD9wfnAEYEXQQO+Ov1egGY/O/5xfIc9ur1Q/G89rT3r/R8Ag0McgsC+pT95AuhCgUJbgBZB1kA7/Cc633tzeVB9ucRHhASFMUWPAx1/MT/xQKt/YkJOxzIE6ULiQUn+pvwcuq24NLp9vqx8Bj4+w0gDyAb+/07AegJQg2LD9YOoxZcF10IvAeR/IDlRPKJ9eUC4QCY7E/rbOMT5IDwdPCK+hwG8ADN+mgCbw7vCoMPcAewBhcGXgO5+9f3avp491fzsvDD9EAELwBIFz8V4w2fHWgWtA9c9T3ruvGq+AEJQBabC9YOdwx5/SDpTd3o7EXlcvoH9+MGzA1YDZ4YghFTDGAKThAKA4j6Lw3yGV8Vjgtn8m/on9uM1NvWe+SR7IIg3wvHC7kOVAZdAqX9NfYv9a/8Hgk2+L4C0AG4643xa/L4/av9yhN9EbUQrhF6AUsOKxNRCvQTeBsODiECpvfgA0n4NPT1+GL21ekL7UD4MOlA7830+PVW8+P79w/ECbwSsBdgF2cUWxRuCYLwiwMNCOYCx/rSAh8Evfbb9dD+GgG6CY0O6vTs6NzjG+qJ5GzhZOcR9jcB1vqTBbkBLAom/VwDrREcDK4QrgWKCL8H1/aS+dIGmQ5cEkYbTBUOD5YGVP0P+b7j4ef350XbGd3N9P/rfvXo+dEBYAIdC/oPeBm8KV4naCESKXQg2hPG++3yevAMA0r6OgWCChQGq/ff6s/0tOA45ZPn7Ogj9Vv5JQT8DA8FHw3HA7n2avTW593fAfIZAowP2yHbE+sV8xNg+pr2ovtKAo8CqAzcAy/16/Gw6jfoBOch54rp+Pbn/M0CSP3k/xsGYwK/DqQTohDCH7EZgxL5Fr3+w/+K8g338v3tAm4G+fkJ9Zr4vu6N8VgFJRisGO8VCRArBlgIagRG/R7/g/T575/8avjlAwYRJw5l/+IGVfc37sr1cfJF+1T0J/MaCQQKEQbLDrcJRwJK9K7znex76z32I/Ns9wf5UPZD5gXbYeeZ5oDplgXQEeAZBS9EGroW7RP2Ax8Avfe/8gTo9emz34vl+uMM+DUHeAa6DO0PbQfZBZcL9QLyDVEZqSJGJDoSshWq/bDqfO808Af+GACFDkcFZwd8DaEFD/bk+zb5u/1NBVELqw97DocONg7HAQ7xu+XK7zPijeTb6+D1jvmsBfz8Rgfg/uIIyP4H6Fj20vIAEv8dMx41Gt8asxQ7BWzsFPQh7OjYYezU7QvqtvLK+/Ton/g8+g3+XAqdHhoqPRuJHkkeTRZGAa3+3gN/AZP1S/IXBTTydPg+Czv7OgjeE9MTpQLeBlP4AvdlAur+6vx29BkEjAWj+oz5Tf20/zr+NfmX9b/tyQAUA54AjxIeFTsPBQRBD+8P8wIgAeH7a/aR8mv2y/I+73b1OfTj7d/uCO+dAS8G+wMSBNv3MQRgA3MFpgjNCuQWqQukBSPr4d0d373h6/ZUClgbwSBFDNYNSwTHDfoGsgpsDwUS7ADOAEj8FeQt5GPnz/hE8L3uuvct/3kOdg6vEsMbUxv3EngRCQy6BZz1VgFw7h3/QwNQBMwFAwSy+EjiW/F36cPnavhI9Qf7pO1R7Fb8XwpdCz0AsPZL/E0DPf+xBAsLrgbx+fTm0eXX04nc6vGXBeH6JQHLCSoUDQnZBiUVnBD9ETIWgw+KBvcQYw7F/gL5Jf5z+6je8dG+37LsUPcjBhUOhhwBGeYV1hN2EdMkxBmQGtkg5ginCSoAp/z3+RL4E/ox8Ej+rfp1/sQG4vnK+gX32e+V89LzqPi9/zoBev8R/1brD/FJ0xzg8+7Z/XsOzQhMJi0okicWHsUP9P298kj9gOus7/XvofPK/tno5u3E6Ofe+eiJ+QjvY/rgAmUPnR0lJrQpvBoSFOgJqQlQFRgbjRaIDUIC6wLY+R3jt/hY/iT5jfmI/uTwhfh9+P395/Pb5xj/sPNWAMIPyAppFo4NGQ3A/4kQiQEo/dgAwP/m+HTwZvV66SPhBOYS/krnSPgcAOD5dQHO6ynzrf+/AAH7+fzk7IHuZPOW7WHsHPdE+FcRCCWhJo8z+ydTH0QJXfDR6jzqq+4p4N3nh+wx70jzhux26tLq6vtuBvQW+Ry7NWs63i5HIuYN1/7i8137PPyf+hADZP06D3gEqPQQ91z7J/H552gDdhBJB5ILHAtnB+z+sQgu9VULUQ7d8lv7jfR83vXj+O1G+Ff5+A0qBZ8MLwdBBY8LsQ2JHaAUiQ/CC+b7RQOt+mz+fPCI6WnsNt3t5STtuO1890MNdwzz+pgDixHvDEoRkA/xJkIdBiH5GUgaUh1TGogGbPO4+o7joucS5BvrIwDF+YIGGwAm+rzzxf30CBUMPwbuCPMBcvnf9Kr2G+mp5E74Mf/z/Ab8kPsjCmoHDgyuBtYRQiF6ECIGFgmO+aTrotsv5fTknOXE8onwvube6Dz1lfVN910GNQNWDz4ZcRISCRMBagybCW4OuQaEGxQPOw+REm37U+4Q/9XzyvJF/H/6g/GUCvoVXA4AAIEObA4xF3wSq/439gn5kO4N8Dj3MwGTA7cRJAld9LDydPLW6crxUQbsERUPpQq/DLcFCwJz85Le38/41qDvQ/kB/SQA8Q4EBiz/IPxJAcL8tgH7+m72X/xZBg4JkhbGCVcIsvsZ+cnvLeDg3/jp5fNx+OoUgyCxJOAYRxCHFOkb1xTrEhAE3AIQCe0K/fdc9TD9b+lG2SbbdOXA7S70B/D89aT9mhHOEzkZ7yKQG5wPmw2Y/iQECwcWCgIF/AXKCB30pO3O4V3la+BJ7FLxw/oc9NL+LAB+Ac4FCwb4B74ORhVZ90HpSvJh+or8zf9A/2oFdgbuC2j+TQSVA74Jwg7cFA8SjA8FEGoBmPaq7CrtafIZ/Qr9MQYPDKMUKhNQ+XLuf+4v7sLrOQfdC6ob+yCkFY8FMAhA9wX2afVp8Av6B/uf/XwIFfuB9MYAxfZg+/79mwRK/ZEHnAG1A7sGIAHuAxz7hf5RBw35B/Wu6MjeqORI7uT3ChFpIkMaLQT0C+oDrfsdDAj8KwgXC9MXUQ2uAgv58+qu5nL5cPOu/ZMIJwkiClQHTAFt7h0DDRCcAhESVwmDDpINzwX+BurvJvbb8YbudOxr+jv71vduAhD85ga0DacH8wZw/BkLJg85Fx0ahw2HCzf/1PGC2s7l/vof9XP7m/q5ApHyDPof/hr3/wKKAA0HrQZJDOX8YQUcCc8KUv2g/OID2v8Z+oX4Ou87AOQCv/1tDXcDcQP+DU0EdQao+Hr25vaoArL9XQy0Coj0GwTz6ejn1Ppl/Lv8tgbnE6QNBRHbGXcPlAoVIIcQIhU4EiAZcATQ+7z1euF45Cz1gPSc7TzqJOTWzcTcq+G379f+6BzGMIciGB/xEC8HVQjUA3gK4gTW/7H7kepP7qLuvPq65/D3Lfnz//UDeP1lCWsGv/0w9D/7mfrP+pIBogrdDpUFcf5G9d3tTfnOBUUR2Sf2IuAWlf9GA133GPM7AA3zEO5B9ZLxEfGW+KT3wffL/8XzWv7u80P75wFj/Uv+i+19+k7/Lg1rFjwhwBlWCfb+GfRD5szteeH75CXqFe8D7LLnNuru+KsFwggxCq8HsQVBF6wjCCEzGu0hBCRRDh/7LfFH+XPsVO0X7nT7vPYtAOMHtfb48zz73fUo6TAAfgb6B30XSg2yCjQRExgaEVUK8hHOBZj2C+/x7GD4iwnVEj4cjw12+TT1X+VV9QDyvwSRAx8KPBCGDfDnce1B7Nblyu1h8+AKYhJDHSoo5Bg7A9H+wflt8yv24+WT90D2yPJm/iMDhxCwEwwMUBZpGVgHqPFI8rXz+wldEdQVxxRIELf0kehf4SrjF/Av8fADrAmVBG8D/AY+BZwBVwnNEkcMVAdcGt4fWCFZDlMAR/qw7v3ljtqq22Tz6vtAARX0fvvv/Nb6FPLH5i/0ivGG/HL/YARYCfUSTQ6pHnkjIAa+8Er3IOpX4WbnbQPS/TQTchWuGyIWgxSvCD4EugSn+yz6IwBT+OvwegLr9wfsZuqB6VfRU9zJ8uDmMQS/F5AN+hzuISUf6y2TJNUaqBM/BEv2x/tQ9SjoiPlt7Xjp6/e59k/27fJY77biiNyt7lL7AAtDC+wYLRoZHBAX0AlZGEsTXA07BrYI9gcMCaAQXAeICEv8S/kQ8DTwJe7i4rPdpeeP+l32EgXFATgNfhkCFhYQEfdt9dP1kABTAQ/7pwlYE+MF5An+/mn8BAiZBLkXowdvE5wS5gJ397P4DfC65RDree1W4/Xwg/Cy8uz1kvYz/bkB8AMMCvAHlRGrBUD/RgFnBmsEnQ60F78N8v0K/PryF+B74szbEesR+O4AbPLP9BcAhQCxAVcW0xNpB4D/ouvw7WXt6PRq/vj/8gkrGTEneBjuEu4IhvwV/OcD1/oL+uwHowAe9D/u7Oge8XTqd/g7C0IPQRmLELQLBAi2AeD9zfZe/TP9Jw0bENQiWBgOEoAW/AIB9c3zTPfwAGnyePNs6VXmjt+O7Hj2kwIuE/EVyx1qB671mwJw/dIBtABTDHkJTvDy43Tdiek16sr4bgnhBqILhP8lAGT1Sf24/SH3ZvzwBN8AjgESAE8IS/5P/GP7w/v+/DX+FvmkC2sIXwKjCd0EyhFMDWgOzBNzDAsFcgWGBboAvgaHCT0Fr/Ad3D3ctdUj4IfjWfsxGFMb/RuBGT8VoAbU/qsOrfchBrr/3fav9er8cPKF/m79cPpa8VLn7+uE5STziv+D/f0HbBCTCnX8gwuRBpEFBgZtAXwHK/UlAFH64P9yAnX8f/7QAlgKUQbSAST+VgUyFFwW3xgRHMAK5AdH+o3x6+Zz6rPykukp9JH0hfwE+jv4tQeUAlIPWw/8BMkL6xeuEngRrhD4EpoLEgF8/erwGOYv9aTrDPVj68bzOPpi/ocC5ABFFdogESHpJ0MZMQrg+wPmhdl15/j8eALrCm0U7gEm9B3wvueM8JD9Ww14GsYeehUpDk4GJgeABOzxQgPoCekJ5wqA+1f81PzU9ebyP/Eg94zm9O8S8en1M/2wC/EMAwqhDTsJpA7kAqEKowLu9Zj6qAE9+BT3YQc0DnUKMxoiIdsW4hTg//EDQ+yN7O/ocuLG50LnEO8E/cP1Kfly92fulf1g+7MDKwqrGRkcIQU8AR0CGQ8QC1IdKRFJCpcACurZ6pjpR+Pl7HvnrPQc/h/wIu6i7MHvvuuc6Ln3t/0qA1QMgRG0Ci8D2xWpEhQbQQWI+jEGAfc/7or10u5++74JvgHNBBAFoQA4CmsJ3gQ5/Yv05d/c7ZvkCe40+QD9Ff4i9YH55u7e+EX80wMUJNMcNClQIp8MQgtSErQD6fiS/+0B2PAp+dLzK+KH8nX2P/DR7eb8evMs6RnyUvbE+/8FixV8H3cpMiMIKI4dSQ6/+ifwte307JXv5+3BALD/NvSH65zkS+53BFEQgglsETALYweaAEcEywFXCsYPwRPwCDUIxwqF/XP60Ovm9wvwwuzS6/HvXfZO+BsO1xO8FLcelBqvDjEJZANZA9j3K/Wf+1zy4vW4/QIE7wcIEVMhnSjPHj0ctRbND9oCiQBrApX/yP8B9Bby6OHS0LTLBdd09m32DwRvErcOgA5KBIEGhBqaGJ8drSaXLV0oQBUbEGYCcf4F7U/kmeA426nhxtE/4Z/wZOtS7srwnPNW+mn90gXCEdETIhWEG/AWEQ9xC6YMBABd8e7ySu98ArYHdBVEJIcnfA0MAoH2T+aX2sbW+9122u7jGO1G8rzzafkZ+qL71fgs7av2tP3fAmQk6SZwJG45tUQXJVYfbBFzCfv9ffDn7Mbh7Ono4irRvM151QDQGeBX3m3sXu5RABcNkgVsHeEdHyXHMI8njSTgFNIOQwJl/CH4M/yAAi77UvM850LZpt7P4SPkxfu4EjQILgqcBa392vRu7GP4Mu749jX7SQVkCiIMGQE5/xENJgteHp8f0xWcHz4bbBvJCrr5oO9K5qHc4dV13uzwXPOx/bcG//uS9+r0uADSCMYSnBDrBa4IPRSaEe0YRxWAFLAYXwuLDy8D3f+2/NDxlPD88r70HfvU+Tn5ePdu8Dn2NP4n/7IPNCTaF4gIiAzbC/oHYvsr73X3ZvT590vuGvl6/vACCRF6EzYM0gcn/wnsl+3G9Tf0fvsLA9b6sPuA+cL1duTx2nLqAe+K/k4P7RhUIMQhnBKbEiENuQq5DJALtwo9/4H6XO2s75Hu1Oqk9gf5+/IQ8lv2BvSRBnEFTwTnBgYUpPyaAPf99fzd+ZIBLvnE+J3wKfWd8cX+q/km5wf31PWE8tgJiggBCi4E0BM5AZn+zAU8AzoCUAfVDwwMfQbn8uv3C/ek9LLkMuBi5qjuO/jF9l8H5gxtB3cJ7wn9BaP6FgERA8sDbQrtEsITQCFEEvUdcwJy82HqxOZ/4g38bRNtEb8OxwYIEC364OIo1hTlMepAAlsPuh5jIAUX4hRyFLT/EvgS7xT2rvmJAvgbqxbHGlMHNf6T/qzv/uZD4iDqaO+E9esFUfxz/oMI2wGQA/EHpgNe/XYFrgW7E8cN3RTDE5kOIwQkA4b/8/xr7uD68P+8/gH5rvmS+ir+5v3W9Sj8XARBAPT+oANVFfoTxw+LCKj5BOkj1Ujau9e79EYJYhwLLgo1pySYDHICVfrn40j3MAhVGs8Scgvd/AL09/X12DrfWunO7GX1h/uvDCcNFxHPGCoKFP8yBjESrSLyF+QcIS7FLEAaIQg3EMoBjOSG4SLWutu+3lzw7+35+gUH5wXx/EoFygFH9CP8CANx+78BJgoyDNr6g/tW8Q3jDtkk2yXsAPmP/xEQVQv1FwIJN/z6+jboH+f19BXzkfvxCmkKBf24+LIAbPU034vsNvVW9qME6Qz0EU8HxBghF8gTSB3QF/MhxBDwDScD9Pgh9pDwbPHC3Dveg9kI4Mzrp/Nl/Nf6DvjtAhkATA6tDNUS1xf2Iwcg0xnuHgkTBQIC8ujuZfLV7MT6fOrp4f36m/Du9vn7JvCO7nrv1Ork6gv45gCBAVz9TwguEeISDQetCif96f9//0T7lwD8A6MUjg5jBYr8tgU++Ur1/feB+bf8N/WI8Lz3nfdo9df5MQRCCboFOA2qGKEfkRVuEAkYBgt+BTX1VPnT99Hv0/76AIn33P299zjsXO+e+rAFVAdJBUgXhhfUEdIbyxEv/kr7d/v0+30C5wWgABr4of1o+/TyYgPOETAFsv1y91YQRvvPAI4HRPV37PPkMOjN8YX7ZPro9zT4GwB8BLgD4BB1D84myxwCFNYYUAvp/HoFCg7a+8/9UfqX9ejyv+Zi5i7kgO3R7YUDd/v/+KkHPBCuFY4cSieNGi8JXwojBkcDoQ3kDeQMHwriFRMXqvw4/q7z6PG+4ofn1Pz6ARcOZhmdEjIAgAQZBZ32HuF/6v7dPtTY1rDrXeZi8xYJBBMyDjsF8Q8JEEYOgw1VBKsDphuXGv0JGxM++/z8E+nJztLQV8iFz/btw/WM+7n81P3C6wfZvO3uANcJ4yMuLv05XTXqK4gi+gmrDQ4BRPee9OPqjPwj/az3Du987vjvn+/a8N0EXvZB9wcBQ/Q3+T/85PJJ82cC2hHAHeYdvhULIVUNFgpfDK79ygrHCaIDPe9v6rrpTOt5+fQBtPNa+Cbx1u6y9fL2Swfb/0Twoudf4CLsH+vQ/EYKjRhTIUAc6iA1G08U5xt0ESkD1vrE8jbq+e0K9VL1VwMbBUcAGwrnBY8EXgKx+MPqje4X7SnuJ/qoCzgYbyCQG/QPmvki9x34P/U28xnznvJ8BasS+BNzIXMZ2xlLEygF//333r7sIOrt7TXlhOkj837xO/O8/OIL2hGmD4cX9R5JHfgbRQrqBbEGnfb+98j9Sus57M76svpXBLb7hvb4+hgEmfWd6Vvtou6g/Ov1JQOpB/YKrQjGCf0A4/0NAuH0WPbz+LoBCw7iDL8SnhSgEKsMigSn+YPjhuAL7en4IvpS9tH+3/OcAk318/eT9y71RPTO+pIFtQ4jD20RviPyESgFAQTr+JT/RBExD/EX0hm0GTgR1geTAgDnOfP64eDl5/Vo8GXvI/it/FTrx/NU8CTqauxS8hf+hwMxCkIM+hokGywSrRpgEBQDUv8D+Lb+AfloAEoAtxVLDy3/0PQW9PHhTc84z6XWe+hp9cn6lwlxFtQPpgPK/Bj3ef25BpsY3RmZI3UfNhaXCvX/Yf9cAksGoQrV+/ABBQFh+or3OuON4L35lPNK+9X+2fTn/dQEZP66BmMC7gNeEfwSkR3+Fggb9hlbE64Y9QQ4BS4LzPlB8zvteu6K6Iv+wP/F+lsJofeC+eftle2J53Pvhe4l/k8VXRpCHNAZtQVMAFP0NPohBGYQkSDoITQWigI39xb6ougv2ebj5+OJ73X7URF2EXINMxHUBaP9L/S1+dD2AvzJBzkOJw0ZDqEDbgL+90zq2e6H2+oAeAmOEhQWiRb3FmgIZQO79a/pUva4/kr/7QWkAokLpwfqBdr5JvTS6ifmCefz5Zf3Wwm4DzUctxbZDLQRq/5NAlf4RPHq/qv0+u+b/s4Nigc9C2AIMOsC7BzpEeBG8B3y7QU8FB78lQYj+xP1fPej9PYB1ggmFpER4Ag0+5r6hPWt75H0yvL26OPn6vob/uYAJwZBAMMDggH4AxwIewKgDTYKzgk3FgMahghOCL8AjPkR9bXm/Pz8/Q75yfNB8pfrbfUQ+psGZxciFNEc4iAoC8j9svQ+/T77YvVs9PLxludT7EDwfPFk9mj55P+gDu4J3Qjk+3gI/A6NETgByf8l/ATlmPLnA14LEwpDAiH/s/1Q/Pjv5exWAVMHDQsjEB4JphPRHCcBk/2I90Pp/+/d8HP/V/2ECYcc4hTtFYgZ+RFE/L4CRfj66mvwiept9oP0T/uWCQYKrQioEc8c1RSIEvUTOBA0EnAZGxnZCr8K8grYAAQBN/2x9RzyGenA4cvc/NyX6fTu8fCbAF3/GBLZGSMksxzFFsoZOBPkBrv2kvmz98X1a/Xv/zsHNwFW7HrjtOHB3GLiXO5B9zgJgBkoFx8SzgtFA5f4EfhN6wX7ZAxpCv4ViApg+AD59PoC80frX+hl8Ub4owW2D70XYhdBFPAH7QZ5BwL/RgDSBnsKNACT/1bxP+2+6djub/F0/9v+aA2oCPEFHfzD94AHrBIKGqQeNxKH/4L66+Z4+AUAtg0jEzEZ4hHPCRD9KPDV5zjl1+xk6Ej3sPpyB0X2xvAk6l7hm+WR8Zv2n/SECLf9nACH+5gBDQsJAscFpgSKASUJOA9MCpsQ+gVBAmkEMwk3BCoBGAR14oHpfteJ2+ni3+kv/lgF1f3BCDUIigg5Df0GUxx1IdoiXB4VE9sSGQh3/+v8aPre9vr2K/RL9jv5Hftb8tjz/fNt7rP6ZP/d/F7yGPic7wMDTwGMAWgDzfdD8lX1yPZY+zEV2BEZIbkbMQz3HXEVswVeADvw1OhM43jUlN5t7+gHLwoqCisGIwYrBsAA6wVs+akLqg9TDt8Lt/+bCc4Abf8jB3wL5w4/CHsOKQCmBQYK/wk/EjEV3hBjCfsEuwI2/tz0XveuA9sJNwEpAJ33D/dh7Yrl4+a39GkEGRJCEtgWFBSNABX84/Ot83bwFPiaDMEJHwnsEZsCewgL+gT2e/BD96f4S/ntBcwAvgKkDN8BCAVS+CHsAOhf8SDt8PHdCsoXGiC4Ir0Nuwl/+vLlz+1W8OT1Af5b/PIF8PgX61jwlO8z+Oj+xQx4DhgNAxHRBcX+V/viCI0EhBEZC/4URg63BH39zPnS+oX4CPAj8FHuM+oI52n2qgGXFVkIZP898oTsyArHCMIKpgnVAiUMGfv8B3MIigqbE2sBVvgl8wXqOe+5/B8CIfXz/Uf7Qeir4C/sHfpLCpUTfBIsCHL5m+uL4k3abd5g8Sr5OgnNCWga6Ch6J64apRIw/+H6jesP5C/w3wDwCxIOIhSBAbT1IPfQ56rtsf2k9WAKzQbn/PcF3f3g/UoCHQBa/+sTlRB1BQsLzQAZAn8CEwIND5UWvwryA23wB+3b35Lte/pmAZsWiQpfDB8PrA5RBisIhggOAhT2t/VL6U7tbe/O6ub1ie9984gBHAhxG6sbwhEQEgXzqOxSBbn14v1/ETsGlAHg+6z1oP6R9GT+1/hn910Abfkn+HcCawCNAyIV4BdqDdr84gEc/h70/PsD993zo/ST8L3wavQmBx8c5iMkJq0gpSSjEuv13vRB8q/4H/tb8b8E+ApAB10KDQI69nv21vO36gDbeOWR8DLnC/FV/fARRhk3FzMYEw4DCXIDXflF+/MDhADuDSIIywJrBuUP4v8lBB37YPgC8FjW2NXJ2hvWReWd+k322QYXC6EPKhG6C1MRdxLeFvgbHBz3Gk8Yow6N/rb+/voA8pvwhP+Y+kYIKfwc/Jb2w/W//A759/7SB5wHggX8BxkKnwX8B18HZvnL/YjymPpiBdj/TwS5A4UTFRGaF4gSRQLxDCP+W+7d9KXuQ/kOAtr7lAO7AVbwd/Bg++78//sN+m/8RQTxCHcH0wS7Asf2HPJ356vji+jq8hf6nBvyJDAt7iumGmkG9u/c7tTpnvMKCB8TlBhyCL/+4/Xb7onXRN6D5YPteP2w/voIhw15CYoMaQxd/OEIzgSzC/AUSxP+GJQi0g63+qTyP94I24vVOtar6uLxMvQG+CoBWgGmCdsP8wKH+v/2dPhL/wj0I/9jB7oYBh/5H/Mc9wmj7YThttIyyEXYtvDLA1wVmBmNHscTqRWIFJgKpAGzDJMELgTpB4r71fe46VjmJOyu5FvrhP7wBh4MjxeECkMLzgqyB3z5IPrdEX8SzSN8F3YOpPyK8OPyX/A683D7u/im8bbpffHE793zwvq19WD9PQI0A7UBqgJDDy8XyBiPDdAAZgFm8nXt/+ag6LLq9fVTAQ8BSQNZCDsG0Al1AcgD3gP1+WAFJArBCD0JFAEpAODtIe096zXiKOHZ7jXvWfKA/BkLIyAgFrsVixRxE2EbxRLRDRkRLQMEA87/Xf759dH9YPRl+Ar7afm+APDxY/iv7/762wCn+T/1cwiT+lrv/uub543zDg6eF78YvyLNIKweNQwD+K/1rfs89JL49AIMCXEO0A6NBtL8xfl8+u0Cvv8pBAYH2foF8JH5Pf/nDkAFDg/rAVz1cvB16aHoTfBg+/gBqgcLBW4JUgNYEdgE8wanGtscFx4/KpAh7gX9+zv2teMc1sHfIuhc8wX+hAhQDqwKPgFR/8joV+9M8Wnfm+tt/MIEPxPpElQcvRhHAYr49e3V52782gFFGXoZhxyHEwv9W/Br2/vdzvWa+pX4agxPB9UFOwYY/1n/0O6u5rTr6uqy9gf47/3wDq0T3gyRDlgDr/Y+8YLwIv8wB/EefTKOMVIsbiDqEPrrAN/R3ifYafVWDf4T7Azi/yfuiOx33dzcm9G73CbiS/IOEo8bayw4LhQqAh3ACDX8RADjBB0P5RniHAYbFR2WERzv4vrd4eHbZuT34IrY49798NT2dgFaCEcNkwe3+5D4A+YK49Py0wYLDbwb7yLlGd8MOfqt9kDw+Oe479zs/uznEHcWyg0LCgcM5QA/41jkkeXH+lkJFhTpGFQTkReUEbjraeTd4Q3uXfoPCO4brRBvD6EEvgL6/VgTTBONGlYbtAxrCIANvg9gDvccYhRVBcvwc+JG3fzTot/X3uHmbehf8frwbPRwBXoBqwctCBP2qfwsBaUFWRRMDEgLrQpPAO79y/39/x/5Avf79UX9ZvPS7Q/yMfWF7pPpCvAx9376eQTmDW8QtwOv/pT3vu96+tP3OAGEDZsLWg5sA8YG6grLCMAJYBAmD18Myg2DCQP/jQyjGGoOWAldBg78bAP197Xy5PoJ+A0ADvwO9/H+UQFM9CL7j/gK9AX0ZPQEANsFlgflBOb/cgFf/n/wXP5G/x8BIA4uFfUVhwxSEYYCc/El/Wr/bvy6CqkNmQd+AE/uc/JZ6JTlzuzJ6iXxcPpg+okFCAotE/IeTBpCFp0Frftt+PP16AjTGEAx4jIFJkkcpAo0/WnYLNyrzjTS2N8B80UAlBFYGLQdrxtMB6r4e/YG74btT/y4+q0KwhhKIKYOMAGc9ZLqFOLS5wLqzPb7/6gGDQME+sH87/ZQ/7n/qQleBpYKzgCV/+YIWAHT+vrwMvrz/V4EOg0VDoMGFwTx9K7xoulF8I7t3vRv8o7t++pI6DADcQT4EZopNSnSDosNOPjz6TzzpP4pCKwQIBY3GjUb7Ra3FdX/4+/W4VPd7t2545zoBe5z+0/9mgOUDQ8SNAswBV74fAC0+OcHXQ8+GBccyBt4EXwKdPnR+dL9R/sFB38HUQNmBPv/he409BvnbPUx5F3iMNhJ27H4uP5tAn4ExgGc8u3i1tsC2mfwlAyWH6Qv2zChLgQcTxaMCbf1bAW/EZn/eQUACMbww+Sh5jniGNsU0svg4/EW6X/ujv9cDbgaQyS/NvEqhSleHkETzhGmAQ/9tffU7u/z2/jtAc8IAv2XAtgET/yv/Oj//gA4CAsGygxFB/P8MO/P7F3uPOCd30vp3+qC9Ur3LwKfBo8AexzRHa8NgxAnEpIQ1xHHDc4N0wkXEVUKmgX3CfQAowCD8TzgEdWP1p3VL9vo7Fzs6v9vCz0KvhytGbwQLRG+AjX42/rF/OMHhgbDELwXeBJkEIoIZAS/FWcWdxPpCUMX7RlPGc8PI/kV89bkx9ZU0wLARcsL2prrRAUoENUg+yUyDq8FFwhR9Hr9SRN7E+keFyI0FH8FEfrN8VEAlgBCC2wKQRBOBnMAsf3s+J36kelK6eTiNuIk5unvGfdR9j8BBAd4BLID6/RYAjv0G/piDzwUXxa6G4gmAyO2IecjERSb99D0ZuEm7PHy3+c79ucErfro/Pb4Pehs4rLdwtZm4czeq/8OFmAQYBkpH24c2AckDfkC3fvH/jMDsfw5/asHTxLnBekBMPtbAPv94/XMBAf+x/sgBID5I/iO+L3jveqK8gvd09U/0DvLiedmBBsTKil8On00AxxYBToDrAX1Cn4eJClyIHgmHByqCCb2W+LE3d7MeNIr1ZPZqOUA/j4GfP0k+68EWPi6/Q0WhRFOGP8X1BaGGHcZjA+M/yH6vvHL6cnt8fEPAakLFhNVBf8NcQjoBnT+5e2P+iL2Ru6P9yzztuy3++bwouop+5L/2AtI/w/9mQxJBIELnhJYHaon5yoSFO3+mfjp8AXsa+Oo7N72ePZe/TH7A/mf9xADvgi7DvgRDwZqBPnz0OwN67/iQfixBxQK1/8A98zvKPFh+JYMxgjSJQ0fYBqFC+f/SgkZAzr/iPtJ+TL3gesh6RD0y+6Y6cHxd/1t+xQBIgGIBH8Diwjb/roD3gIXA3sD7QEDDE8AuPnc7J71+PMq8k/sePbt/rQPaB56GIYrwxcQEwsK3AQp/kD7F/sbBBD/yvjw5qPluuQE4n7WG9eS8F0O/hpHGyQfZxp7BZr7tfiEBqYibzSJO+45mCfTF639UvL38F7jPtx11RfTSe2h+ZH+8wuKC+MECvdU4bTdLNwz6n/w8PxXEosGJgmKD2gMcw+QFygWzRY4GJ4Rzwa8ANwHug2SCbUC3/1K/IbrR+Uz5hPq4ONk3yHrFfIn+W751vhiAV/9bP0jDB4QYRprHywc9hRlF5AZqBJ/CFYGBABN9oDtPwQvCvALjxFgAg3/9e6i6rLjZN0h6171LPKVAgcFbgfXFBsb3wmAAgH9sPRk/Dr7m/+QB7MGuA8xDC7+6f+H9gTpI/Jz8s3mnvQ2A1cFYhXUGfoRLwjoAk37Y/OP+J8AOv0lBikH2f7QAFwLrAQNBZX1ZueU4MHcD+0/9VcMGR0zE2oNbQPa86byE++I9SX8PAs5GvoSnCL5JVYVfAxs9BvqQ/t76R7jEOmA7Ebvhe5L7lj0RP56AXL23AGNCjX/4vcSAL8CXAVdBVXy8vCg+0oIYQoFHQUlyBu5GsYAY/xp9i7yH/5m9rvvIuKm4v/k9+ge8a0C4AZvGE0TPg3b/jn5U/k1AXMB/AOuF3UXTROWBaLzce7n44rlK+wq61v/awQCB34X5xg9F2MKswjJCxP6rfI956/jU/MF96r/eQtnEk0GBQM1/2f0Uvv+ADIDjBVeHpAXkDIbL4QfzBQLCNH5E/Wf5KXvCeNY7az4YPX7+o0GmwpyA2z9BwE3/vX5dAEPCIodkBEQCvj4/PJJ69zijuoi90T/HBE5A9Xzt/bz727z/f4X+ZQDXfep+Un+E/oV+1UGqw5pCQX/L/Ds6nDj//LP6FDvgQmuERUKXwtQCX0A6PhWCrQKCAxEEpMSLBHk/pv/z/i194H2QP3DA6ECIgkbBjYEJg1yC+UMQQqmBroNfQrXCrIHmfyc/in3mPev+d38DACiBwQD/fCj59zk7u/C9NT6aApjBj4VhA+nChcEqwOS+w/ysvD+/qj3/QD1EIUQxxn3FVURXwCa8wjj8Obx5XzmNvWoBYnu1u6t7xPshPM982jzdQTHD9QR5BQ9GhIcpySZIFgYDhTmG3YNIwvVAaYBr/AA6HXkPd9e4NDeM/SQ/JgABf90+p7/cwBgBR0N4AM5Fd4bvSHDFrMKSAEm83XzG+Qo5Hn7EP90/AIOSQ6AFHgjSiO0HnQTpPoF+In1H+2p+/ztEelz5aHgoN+a00rll+gO7TgDEQS1EdYaRh/+GRsfSiHbGhMH3AAp+wLx5O1p24HplvIn/osJvQc8AXr7FvLD8tfxcPjDA5cPChpmGs4N7wjh+8zzHvTu5Z/icuxH8SP6owp8CgYKVRStF4wIEAb+AacELAmIDaQiCi3rFBAQovyw8XrnsNM94y7f0fbm6pv0lPjT8MnwJ+lI6cL2bgQTBnoacx15EqIKI/a69ub+Lvhz+fEIjQttEFoNNgKmDKYHFvyy8Y/5zOWw393pyusK+UP/uf2P/hUFavvL8RLu7veI9r8Dsg/EGeUW3BPZCqwLfAXi/u367fyHElsMPQ2YBZsCNREZEhYR9xOPCr//s+6t6FDqzO4DBf8AB/sq9yfoguoc9fXu7PllClIKnQxpCgcE3v7H+wMXrx/wIIEa+By2F6P6Ju2I5AHfGvIN9zDuU/x/BQXwc/dx9oXsP/I1/LD+9faqAd4FwfxC/DgKgv3z+PX+9Qa1CzUHFyBLE8kg0hWhChoTjgno+s4AIfg167b2Zvoe8er52vQz6m3yvvfL9lr2wwAmEGcYPRMVHi0YmRdWDzEPXBdjHIEX4guU/gT3bP79/jX72/Pf9+L9oAFLCLEJ7RWsEH8C2wAI90nwcfFc86r53fy3Agz9M/UC8Kf4yfH6+9YF8wkHEtcT+AeLAQoITwT29jn9QPqC/BH9bwceBEj4aP4Y6zPbqOI25bTskvDzAvUR+RnCEbgIkv05803pT+Ur95r89QLbETEXQgu0BJkDR/8G/cUE2g4uCncGOQVI/5r9kv/gBa/+vABlA0T3qtrl3KreQNtc49/hR+pGBqoGowRlBHQBKAONCjMWQSFlJJwdLgv1BRL0gOOI8kXuXfoOCcMF+f8J+97snfDL7ZfnfvMe8LMDpAKzAgQIlQxiFy8MFxa3/1T+bgYv/Qb8owrABS0ChwNa+vzv6f1IBncZsiW6Jc8YuhVy9+3zHelT5VjhN+FC4sjlcel65PTn9vV6Eb0VjSITKeIiJBLqDS8C7vgO+p4Digc1/Wf++PMH/Yv0QAIP/pT2HflG94n9wQEC/lT+0ArjDG4NBBMHDu4UhgmiDCP79+xN+RLygfYI7n30JQHU/kgFewZH/MkELxKPEz4fAh0pFiQDnAY+7zfn1vQ4A4n5mfdR+z8Ejfw2/BP3jfUh66roPu+3+kcXex3eLi0oZCIHDLv0/u4O67rpg/bkBDb3PAKXAUwDtP8fBkb8eQmfE3kRnhUl/hf7oP5Z/1b5WPb3/Br6eP0FBc/9swHe73v3of0rAc30b/yaBc8HEAC9CIUBggT8EscVDQseAyT/6/94+3XvnfYr+7b2hvj2+FzvSPDF5o7p//Z5/EMArfvkBhULef0dELAKpwHoCcUGnfvK+NPom/F39/PvEwHR/eb1XvyKBEwAherI+EH41f9SDmEOvQ/JFUoSMxCD/HrwIe6g9WYC7P7g/Pj8DvFq9P7pIPSX94jwgRK/HA0XtBdBEDr7RQh39gIJrv3H/i/97u2A7Orws+MV7o/6UgJqDbAUow7XCKMQ8A/3DsYZNRtZFbEJGAIZAqD3ivZw+Tf2hfRR46rU+9Ky4gzuePyMBw4W9AflCK3+FPewFAgkCTKBPlQuyRkSDjEAQfJm20zqku018hX6eAAu+NkB6ADV9eDuSu6w+S7x1vea7nr2XfVW+zoA6AwyCXIJ/g+4AEvzRviW8x4CsPIp/yMFsBO6G9Id6xHFDX77o/eJ71Djx+hl6W7qCeGd6oDzEPfMBXEFkACcDEMD9/9TCpQRvBB9FFoYOw3MDdL+twgo+P74NQK9DyAU2Au+AMj7APA88bT7IQLyEIsUhQqCAPn0Yu0h79jv8wJXBwcGt/s4+eEFUQTG/TkKBxecENYNOP/98WLuc/269QsAqAQbBXIAUQhF+efqxfcI8fL4egIhC+IQ2hAkFpAIVgkr/oQE//Za5IDlZ+ZB1uzo/PepA7oUsRLkD8EM+A329HD9Lf9l+TMLjxUkHjUVMxQnC7f0afNc5Pbp2u/Y39b63vg0+Gz0Z/jL/xwPTRihEzob9CbjDaYAX/Kf9uHthffV7vTzoPwGApryXfJf+5X9lfqIA3UOgv8S8ZP2YfDo/UkJmAPDD/ULKgocDEXz0ABd/q76Ggv+BQb+S/2l+YPrweVe567vMvWvBcENkxJDDm8ImAL9DgsHsQoWAd8MvRgUC3AVOQkR/63+r/sr/VT5Y/J6/ZkBm/bQ9sH0JAf0BeXx8fq398YAvf7SApwM1RviFw0K+w9nC/MJBAy5BHf61f3Q+WXxyvbV/oz6JO8lCCECYfc084H2b/E89Wj1aOtw7X74te9wAZQI4hDUE44PXiCzEIYO8AeUBD8BEu/M8pHrZvGp/+P59vgwAfUFfPFn7HLkNOx29l4F9QWTDnMPpAlp9GP8SPl4/WH9hA4mHhAd/hzXC5ABZvfL7UXzPgOK9qf99Qjp/ckEevyt//j4lPW167f4r/YU8TkFyxHwEYYTmg3Y/7b/cPTc9brtX/6sC6QbsQ/4+mzvId7C3M/fReZk5fMB5gvFDzsaxhEUFxoDPQmz8lj8Ev6QB7cR2hOYFm4MmO+T3izZmc4uz+nedelO+h3+PQfX/qgLwBCXFyMeIBqJHdkV7wxl96sLW//n9BkDwA4QBrQEWQrQCun9Ou+l6vnnRvEi7gHmju5KBWv2Q/3JAkgRJB8sD8YZDRP+DFcPphLNF1gFsgZ/B0cFKgTT9Bf6dAF9Dk8HXgvoAuT/rwTG81v8D/ou+7j+/Pq9AboCWPYw+xD+Nf6B+hkD5A1G/8/7Uv8e/s/+2P5JBZj+4QfwCYX2/vMr994BP/tcDXYPSQ6FCTL1N+jW4QneFear7TEAzvuyC4P6RP0l/jP6+PQiDo4NLxcsG0wLrv/bBgr82QOKBAAAkxT/Ff8MXgQCBn32Qvj3853m5Pgc+dn7zQWHCDAGJQTg/5r4mPaw+/kB3gLPBd8QYAlu/+D4Jt2A0MjfMfVu/DgQzxkYG7sWixFaBSEC6/n3EZL8Z/dt7tHixfYd9Uj6Ifpf8kb45PMM3ZHlIOw2+AvtXAG9AawB5g6nHtMr30FHLE409xiz/i/7V+2h8gv9Q/aOAbECzfek6QXxfvMW9wgEvwWMBOP+Fe4cANzyeu9q/kj5VxCLCDn+KQFYBTIBlvzTBEv8eAbOCHX7o/aa+Av5Vfsj+QQQNhJhEiIRZADZ+5Ds4u4s5cDiDfSh/zUBEgM5D3YDNP/iBmP1yggM/CQLwQxxCbsB9viqAocIUROJERoQrQfZ/GLuv+Qj84j0KQwMI28kKxbkEYwMFPP65sTnCfFkAKgCFQId/Iz6afJ+9gsA3AOtBWcKvPky9UP8Fvy/BZIHXwagCN0AwwmlAuMEQAVQAhT7jAB8BS4EmftoC88DPvAb5wLWuNRX3cPxqPx+DXgD+ADn/3L3Fvsu93gJ+hjwFS0IWQd885X8dA2vBUYIJAsgDqQQhxWZAjYEdfu29jDqF+f84D3lWPoYAT4eRiCJFNkcKBD1+6jsguZ78orzVgybC4L9CQ5LCDIOggUv/ooOKQEWCdT+ewfP//r0tfpW/nf6RP26/UjxJAzVBqH7DARY/qoCCg0lFywUDQuK9BDRt9nI5zTp7Pi9CgwhNhmmGn0MMQQCACACkAj+AA3+3AG6+P79VvvR+6725vLjAgzwau/T7PnoE/FV9LIKhQcvHAUsEw6dCJn2s/vT9rv4KAvjCtD+aemQ9DvkueTW50L7ru5i+0zvsO5r8Bv5M/CF+3IBAA/TBJcCzgSCB94LoQ3gDT4NZgZrAgHfg+345eHrH/mI+dP7aQ8pFzEUOBuUEdgMwfnL+Dr84PvQAaYGhvosA+sPe/tuACD/EA62GksZIhWFBh7z5uYz+ED3uvbeDj4NuRNbE5v7/gECAtQDyPz0+l31TACD+iTzQwItBLwFaRCSFFwNawy2BMQIzQdRCksQQx+SCqUXlQOw8vr1hOxF9dLzQfhgAVAEaQYZ9Kv6efeCBcL8AAzpDyEIRg5j/UHrPO1I88P4ZBMlGtYZLBSOHAEfTgjKC4j55+u720rQhMnT4cX3Wf0lDhkKzQjZA8r9ewLkAcoIfw5mDmUQqA6CA/kGRv4V62PvXuVM7Xfv2Pc79OQAYQG5DPkKafum/Sjv5veb96MFqwm7CtwHevAj5W/baumy6KPxBPEr9Djldvjx+/cThyEWIsciRw5f+asD4ApsD0sbZAwuCgjwCNmg3NrON9uM527r1/XS83kAYfXg/aYKigZZEYoDLg2xBmr1GQioEj8Xpg0BDioAbfSr7sHtjuCR5uH5Iec64xjlnOnk7ooKHCXQHk8a+BNbB0n4TvXx+T/2bAeiEv4Rsw83FXgPpgve/Ov+KADe+sXxbQAc4evtwvI6/TUQyxIWHvoLtgLL+k8I7BA+GfccJyFpFkn9w/P2+l31xvxBAl4PhgL+BxIK1/gx/cEApP/n+rX0zOqS6qjmVPA99+fzv/9mBkkDiQBA90QLpQwWDdofhhRiEt4RqQ0K92P/wAM2+wEGfP0S7NrwG/IP9j/8ve7x+L73UfGdAIEFpRH+HscrNBrtEdUDlBKiDW4SYhcfDzAVMA9LCxEDU/9v+Rn7dfFl5cnietS95Hzl2PbW+Gn5hgmPDq4QJgK9AnYF6Ps8BFwCRgtvDHkBXAYw79L50P5P83L9KgagE6sDHAJdAAj+x/pd8izu4e+D5/P1n/RM+DT78fxO+1wEHAgNC+gIIAbWBpoG6xQCHesrYSbDGJsNZfoj76vldvH087f5QQrbA1X2FewB3JPc/erD/ZUA5g+rG7wWJhSgCdwFIAPUAKkBJ/f1AAQDdPuO9frnv+Td7+bhi+WP8GDu2QgJEJUYthkwE0gQ9f+iBFTxnvNN677nAfZR62PwB/Ji85H+6vgj+k7tp+Ux9anr0+2/A/oUeBZSJOESfBglD74A7/2Y8YT6NgLL7GH73/s3A4P9lPkp9KDxffBd/FT8+/9hBEMRMAV+Cpn2mPWW/8z+CQey/uH2q/qqADMImwJXCvD/ZQwSDvoF+QZRB2oMa/iu9Cjz1/Hp7zMGkwlOBZoBJgJ+FI0eVSOnHh4DwPBj3lfYh8vG04HnmAJCLTk1AiYmG9gbigOy+0f3T/M69WP+iRBiFS8WRQVb/vX2CPDS+L/xqAMuCiILKQQuBAQDrv5hBzT6Rv8qChgWHREEEv4IOfVT4prXe+oC/GkGUw0lBFQFwv2T/Dj99PsU/2sK/vo9As8F5AvJKcwlEjE2LjkYygJVAFjhZd1Jz8viGfEEBVMGMgNiBWj3IO908nH3GfoI/gISbg7tDUMEPA0FALsOWAfVDy8OBwMaBwUD7P5TCpfipvbm/an6ugDbA476CPo+/1r2sezb6sHjHu1//EgGAQcR/OsCs/xq+zTtRvXF+agFwwOI/pQBq/5nBLoC4RCSGu4biSV9FYENSv5i6yzvReyH7gjpS+6v7/TvHPyJ7gXmAPRE70cD3QT3BggechX3Hs0l6xyyIIIm4xpzBjQETPgN5I7ohtWdzxnfe+mZBx35xwq/GPQDv/lE5mjZvuqp9IYBfhJiEAgNJBDk+cXsa/C37dUB1hB3EEsY1xj/FHX9cv9N+dT5GAMNDff/nP2X5n/pNdzn4gTwB/g9++ruBfRe8vT5ovqdALEELwoZFy8sAjNiKrsjxgpaBtvx/wFq/Zv1Wv798tDtgejZ4Hvyzu31/7YDuPd++hLqTe/e5WTnOANECUsKlhf0E70VawwAF+UKCgM3CU8GOghgBOT88vJv6TDgdPPT8cX58Q18+Jru7e0t6entQfbe+E4FtA6aG9QaZR9SFwoFYAYv9O3+ewDr+kcIU/avE2UE3hH3GPAaIxrXFK/2yfIK797sMPPo67fzkQh1DfEJ7BFtC4f7nQxYB/EIl/z4C20LNP4vB8DtwfUoBhIRvBuEJ9IT3BMNETn7T/1h6ODtDeCl2sDSv9Ge4gfyhgdoBtoZBiBFKeggYw/PD9EQfBBBDUcQGwgiGRMMKwc8BNcG6fIv+wPqit9w2svaxvBe8cf1Wu9iAT4KOggQAar18guZFjQckh6qFDoOrwztAw8AWPm39uL29Pjq6Cjn1t+F82v8Ee2v/Gr2//Rf+oUIUgKf++DniOK37SLrW/E7CRoGHw+OD1cL1v7w9tIE4g1HDwAXOxLTA44KHf1D9LwBAO/7/zMDZvtF+qrxrPlk+BkDl/V58N32ufIW9okFkgzYCgMUQhd2C/QIpg8kDEARlAJe+6n2RfAdBEXtEfWK+gn4GvkF7g7vC/1L+P8FSxHiFh0KEgQC9bnxw/GD7eT/fAtHE0MFwwHoBakDrg6vBCwFqRqbCFH6CPg/74XnmOpY7Ovh3vMuDYcVURm+H0QgTw9bG8cT+P6l93v6P+ns4PXrxuxe+LQMKQT6Ch4GpgOm7wrvPfdL/sUW3RvZCgMakhShBfz8mfXIAHkJSAFY90n6w/fA7vH58wMw97Tqe+bn5/Ti5fMP77/zYA0CEGMN6g4VGf4YRxVvE3Ubdwoh+p397Or44/H08/WJ91D3n/vj8E3zufMP+w313vT57JHwUuqgASIQqx3GJw8qSTC0G8INy/Wo6d73h+1M97r9IPaP+4kDs/7c8DX/hv0+DKb9HAbC9p/5xAeGCvUU+RU8GdsD6e6u4hnZQN0k6nHzpAE1ERIb6SVWFUYsBy+cLSofMBp2+wLZrc8p4e3dpuWZ8Mf6vveG9on5nvvs8v7+BwBN9ZzvzQJQFF8XGyL9Ec4egRtrEVMLJf4888MCV+4M7pDmFeuH7LbodOBf8ajx+P4yB94BmgByAfMHOhNMFP8H3ggsByz9LgPiDNgMnxYpEDEA/PHV5svqO/5e6ZT+gwNQBp4A7Ppx/H37owRVAJ72qQ5vCccERgu1COz97gzaDEoX9gN+9WX0+uxo+PoNIQvvEnkcmhqkAwbwdvKhARX6VfHx8DPqzevv95T6vvcMAkIQQAzI/vz4QQSL81oHXBRcDRATxAoXDaL/AwWa9R73Y+kc6ALknuXI8o3+4QbPGZccZP62+ivkytiV2HjUR+q1CJEZPSG2HJQkPxtEGD4PfA4GB60AcfeB8/Px1vU/+H8IhAKq/YMDve9HBt32jgFlCCgUyxnwGVwG+/VyAubn+eeR8Kn5kAqK/sQUhQeGA4oWSvCd8732AfruDcoQFBZ1FrgK3gWX+JX1e+qY75fvcveM/GHqzvWC7bHv1vYP5r/tg+xP7gj00gMFCiIfeg+gGFoVahk1FqYbMgKc8pbqM+Oj6YDw5fkwCKEFDBGQ9rD+avES+Bz/XgDnBUgS2QrCDBwFFPqu/EDtI/lv+iD01PTTA8kKegVqEFAZZhqWFRsPtweo/Nz4VfUS+MLt6Ous98MIDPRQ+Unq+OqX8/z4AfVH/iT14/y6DIsMZgTtAPYIjQkcBdsSABe3JfodNRMaBYL+IOtv3rHiquQy7Ln3T/UY8vr2R/Cs677xAQN0DvQeYhl/HMsaCRHjCkYKCwdIDaQJrhuZEeYJT/7x9wLsefHO3pTqIOtt+mj/LQopBhwAUwJyBK0SVQ9AEbUPZgGU+738Weg79ov/z/6DFiwPXgoQDfX+nfzc8ZH14fUa7tD6PwtFCxYOoQaA7TH0/e0p6ST0FvrV+AoB9+r76jPde+dB+X8HNRLIIowemx4hDoEPshI+A6v7EfIh6dDrQ/Jf4C/wMfqIB+oVb/4+91f3W+hz5s7mgeRY+w8ZohP+GZMdoBgFDwr3t++95RrglfjJC8cCixeHGaUUPQmX8rXlBeO7/OQA2CGWGxMelRu0Dp78K+pk2C/UreeS1hfhmO0c81v74QkpESUO9R0BEmgQcg9rBX4UHhrEJ60lFh5GCg4EjO+t3WHWENIX0F3pfPWv8tQAW/ubC4bt0/GRBMQDNQivFagUxA+pCFkU0BTeJJUd/hBxCxj9UfGm47/dLOZl7dr7b/MxAvvyP/qj/0Hy1Aam/tELIR47GXYgbhG0BC3x5+Rk1GTW0+la7cP/EhfLG4ofkhulGAYOjPIR6unbV+1F/lkBKwdNGYIXVQaGDLrzSu2m/3Lk8e1i5FHzHvID8dIClQwKDPEN4QwkEjMUIBctEugjCx1vI5IYzQIt+P/kf8/W3cjavvDt8zEFmBEBBmoPEQtrClcKNAmdBg0BSwFCAWHxyOzV64PrLfcf+tcJ2gcJExsddws0CPAGZwXQ//L02vek+AXz2+1w/Nz9DPrZ+Nr1PQCMCWwMYfvcAQb/O+q36LH5su5p9OgApAXNCiIFe/88BW4K7xIoCq4B3wSQCZ/5Dfnj9tzwn+9C6wbv++8G+ef1JQfhB7YH0gyeFtYbMiGcHRUT4gja7D3mXOgJ5aL3wPYg/jMC7AYq/RX4qfOO8gL8QQDN/Jb9Ufb1+mwIXwsfGHMckhypGsUR+ftL7iDqNe7M+H/yWfIn+Qf6kvXF9kH9i/8vBq0NPwhGA+4CDfXC/ecDhgQl+U/5YwVm9SgQegQABbwSy//HAhgLkP/f/E0RLhDLAQH+a/gP9V76P/yBCQIMbBjCFGgOlAIY7mry4fMa85r7AO0t91/+I/xa9SX3r/Zl+QwBtQzoE7sWIxeVGCgGqQdc/DX50QL++2sCzfmK+eX+UvHk8Ev3CvOd6O36fPaS76r0MPZv/rAMJAj5CQ0RSw9+DgL8MwXgC6wFlwGfAvP9Gfn+8Yj4wu8k9AD21QIN+PQCwwRUDxYSYBGTBLIB4fpz9qL01/mv/Hz8QgGzAasANA+VBhMItBGO+wMGngPb+9/yXe245UjuVu/I/iYHGhhDDxIbvwkc/V0EuwE7BBYGnPqXAbX5pe4l69PwsPZ9/pUFhQY3B9MFRQ5hByD6r/t++W72FfX29Uv0Pfoo+o8GrgL5CM0PuxHgAxMJnv/o9CgCsP3F/F/9FfnXAQDzCwCE+p3ykPv8/qUAewRsEJsOrhg/DbwMe/xE8rzsLPaM8VD2ZPxqAyQQ8gWLCpX92P+tAFfvuvI4+AX2tgR6AGwGEwJJ/dT5dgNM+PwCQQV0AZQOggZOBDr/tQD8/RL0EQHO+z70hwlzBbEQRgauE+sL4vum+NzyGeft8uXxVvVt/+UGnBBsBcIB+wrb/TP7sQM6C54GsQTiCDID7/69/iMAVPcf9f75qfK+7uX1k/6d+6EHeghMBswGpAfCATD5Avo++48EiADHBZX9tP0+A9/3NPKXAGkPcv4t/ib+Afln+m7yZgdrAqwQvAtAC94CvwGI/pz9fQC2BUcBZPez+977Sf5D9ib5rv9B9Lb9X/6DAZYK6AH5BtT+dAiX+1wA8/+VAoAEzQG2CnsJLP/5AeD69/jc7ov0l/ME/scBJ/74/fQAPQKT/gT/3/3ECoQJSg/mCZEKYQY2E30HFABj++bvH/Iw8Pz7/P3ZAgINtASYAhYN9QBK+P/5Ff5h/KkIjwdeDVMN8Ae0CRb6Z/Ww/HP2QPWI/2IDfgV9CQ8GDwM3/hr/HvsR93D+fPpN/pf/oP7A/gwBYgFB/HTyhPkFAMH7n/09/GAFYgHB+2n/fADU+jH4ev899+z8zAgqBtUHrw1VA1X+8fn99Sz4Qf/C+v7+dP2CAUQCLQCRA9j+k/r+BdP/9f7HAZUIigfSA5X6jPw5/Rb6OwGCBkACQgEGAGEAOfhH99z5iv3XCCkN2w/kBx0BUQE4+DXzx/SS7vDvRPrX+7P2u/19AVIF+P8MAkkAwgUa/14C4gIOBsUFxQFpACIE1QdZA0oAagKx/9UAZvVt+Kv75vSo/LX7Y/t8/Zj9VAAyBxIHaAVtCBYHqwQjCJ4GtwyIB4wFjwWUAcj+3v5/+Nb/B/w+/8n4cP6z/fv/PwQJA00F5gVr/Z/96/rn+o/+NAf7A8UEOAWJ/N3zP/XH/1f/MgizDWkMVQW7/Xz8jPTD9Y/4jPtrAF7+WQStA1kFSQM4Alb7uPvt+QT5GPr7/Kz/kv83AlYDpQXm/RIA6PuAAv8CIgTSCRwGgQciA/MBkACsAmT9PP5t/3j8EwUSBlkCgQfKAcUBkP/O/Fb6Qvj7+q773/2OAfMH1gPIArYCm/3/+9P4of8HB9gGIgj2BtD/Sf+hBK/7hP6D/mb7b/pA+cD3q/K1+Mz3L/pa/HP6vP5f/pYB6v9YBp8EPQbXB1kEygVqBFEC5AFxAEsAt/0kAJcCRv9nACkBY/zb+Zv2kvmL+bz4XQJEBD0ILAj+CGUDUgU8Aaf86gAi/fgCaP6m/PD8TPn3/1MAwAO1BNkDlgK/BLkAKQEHBGr70wEPAif/Bf+2AYH+Rvzj+yr4oPs1+iH/9v10/BMB2QP/AK4DhgT5Ac4CrQX4AYoBmgPXAggAZfq2+Cz7nfx6/6X8Jf6cAjH/l/4F/nz6Y/7T/KL+aAEQAdv+jQPHAZMF/gZpB1IGLwJuAdr6OvuT+Yr6yPpV/hr/KP3e/2IC8wBT/dP+DABZ//IA0AIZBiIEDgKm/eb3svk=\" type=\"audio/wav\" />\n",
       "                    Your browser does not support the audio element.\n",
       "                </audio>\n",
       "              "
      ],
      "text/plain": [
       "<IPython.lib.display.Audio object>"
      ]
     },
     "execution_count": 112,
     "metadata": {},
     "output_type": "execute_result"
    }
   ],
   "source": [
    "utils.display_audio(os.path.join(\"tmp\", \"3_final.wav\"))"
   ]
  },
  {
   "cell_type": "markdown",
   "metadata": {},
   "source": [
    "Compared to our source they seem varied enough. Let's move them to back to the appropriate folder."
   ]
  },
  {
   "cell_type": "code",
   "execution_count": 117,
   "metadata": {},
   "outputs": [],
   "source": [
    "tmp_path = os.path.join(\"tmp\", \"*.wav\")\n",
    "target_path = path_to_cv_silence\n",
    "!mv $tmp_path $path_to_cv_silence"
   ]
  },
  {
   "cell_type": "markdown",
   "metadata": {},
   "source": [
    "Let's check if we got the desired effect."
   ]
  },
  {
   "cell_type": "code",
   "execution_count": 119,
   "metadata": {},
   "outputs": [
    {
     "name": "stdout",
     "output_type": "stream",
     "text": [
      "    252     252    3759\r\n"
     ]
    }
   ],
   "source": [
    "!ls $path_to_cv_silence | wc"
   ]
  },
  {
   "cell_type": "markdown",
   "metadata": {},
   "source": [
    "#### Repeat for test set"
   ]
  },
  {
   "cell_type": "code",
   "execution_count": 123,
   "metadata": {},
   "outputs": [
    {
     "data": {
      "text/plain": [
       "'data/main'"
      ]
     },
     "execution_count": 123,
     "metadata": {},
     "output_type": "execute_result"
    }
   ],
   "source": [
    "path_to_main"
   ]
  },
  {
   "cell_type": "code",
   "execution_count": 124,
   "metadata": {},
   "outputs": [
    {
     "data": {
      "text/plain": [
       "['data/main/test/silence/dude_miaowing_9.wav',\n",
       " 'data/main/test/silence/dude_miaowing_33.wav',\n",
       " 'data/main/test/silence/white_noise_50.wav',\n",
       " 'data/main/test/silence/white_noise_59.wav',\n",
       " 'data/main/test/silence/running_tap_18.wav',\n",
       " 'data/main/test/silence/white_noise_47.wav',\n",
       " 'data/main/test/silence/white_noise_43.wav',\n",
       " 'data/main/test/silence/exercise_bike_8.wav',\n",
       " 'data/main/test/silence/pink_noise_2.wav',\n",
       " 'data/main/test/silence/dude_miaowing_42.wav']"
      ]
     },
     "execution_count": 124,
     "metadata": {},
     "output_type": "execute_result"
    }
   ],
   "source": [
    "test_silences = utils.grab_wavs(os.path.join(path_to_main, \"test\", \"silence\"))"
   ]
  },
  {
   "cell_type": "code",
   "execution_count": 137,
   "metadata": {},
   "outputs": [],
   "source": [
    "def balance_silences(paths_to_silences, to_be_added, subset_name, show_progress_in_tens=False):\n",
    "    \"\"\"\n",
    "    Take a subset of the main dataset and add the appropriate amount of new silence examples.\n",
    "    \"\"\"\n",
    "    \n",
    "    for i in range(to_be_added):\n",
    "        \n",
    "        # sanity progress checker\n",
    "        if show_progress_in_tens:\n",
    "            if i % 10 == 0:\n",
    "                print(i, end=\" \")\n",
    "        else:\n",
    "            print(i, end=\" \")\n",
    "        \n",
    "        # grab a random silence\n",
    "        wav_file = random.choice(paths_to_silences)\n",
    "\n",
    "        # prepare outputs\n",
    "        output_white_noise_file = os.path.join(\"tmp\", \"{}_whitenoise.wav\".format(i))\n",
    "        output_shift_file = os.path.join(\"tmp\", \"{}_shift.wav\".format(i))\n",
    "        output_stretch_file =  os.path.join(\"tmp\", \"{}_final.wav\".format(i))\n",
    "\n",
    "        # random white noise\n",
    "        # within reasonable bounds and a constant seed\n",
    "        white_noise_factor = random.uniform(1, 100)\n",
    "        utils.augment_with_white_noise(wav_file, output_white_noise_file, white_noise_factor)\n",
    "\n",
    "        # shifting (default factor)\n",
    "        utils.augment_with_shift(output_white_noise_file, output_shift_file)\n",
    "\n",
    "        # stretching\n",
    "        stretch_factor = random.uniform(0.1, 3)\n",
    "        utils.augment_with_stretch(output_shift_file, output_stretch_file, stretch_factor)\n",
    "\n",
    "        # remove the previous 2 files\n",
    "        !rm $output_shift_file\n",
    "        !rm $output_white_noise_file\n",
    "        \n",
    "    # move the created files to appropriate folder\n",
    "    tmp_path = os.path.join(\"tmp\", \"*.wav\")\n",
    "    target_path = os.path.join(path_to_main, subset_name, \"silence\")\n",
    "    !mv $tmp_path $target_path"
   ]
  },
  {
   "cell_type": "code",
   "execution_count": 132,
   "metadata": {},
   "outputs": [
    {
     "name": "stdout",
     "output_type": "stream",
     "text": [
      "0 1 2 3 4 5 6 7 8 9 10 11 12 13 14 15 16 17 18 19 20 21 22 23 24 25 26 27 28 29 30 31 32 33 34 35 36 37 38 39 40 41 42 43 44 45 46 47 48 49 50 51 52 53 54 55 56 57 58 59 60 61 62 63 64 65 66 67 68 69 70 71 72 73 74 75 76 77 78 79 80 81 82 83 84 85 86 87 88 89 90 91 92 93 94 95 96 97 98 99 100 101 102 103 104 105 106 107 108 109 110 111 112 113 114 115 116 117 118 119 120 121 122 123 124 125 126 127 128 129 130 131 132 133 134 135 136 137 138 139 140 141 142 143 144 145 146 147 148 149 150 151 152 153 154 155 156 157 158 159 160 161 162 163 164 165 166 167 168 169 170 171 172 173 174 175 176 177 178 179 180 181 182 183 184 185 186 187 188 189 190 191 192 193 194 195 196 197 198 199 "
     ]
    }
   ],
   "source": [
    "# call the function on the test set\n",
    "balance_silences(test_silences, to_be_added=200, subset_name=\"test\")"
   ]
  },
  {
   "cell_type": "code",
   "execution_count": 134,
   "metadata": {},
   "outputs": [
    {
     "name": "stdout",
     "output_type": "stream",
     "text": [
      "    252     252    3753\r\n"
     ]
    }
   ],
   "source": [
    "# check\n",
    "target_path = os.path.join(path_to_main, \"test\", \"silence\")\n",
    "!ls $target_path | wc"
   ]
  },
  {
   "cell_type": "markdown",
   "metadata": {},
   "source": [
    "#### Repeat for train set"
   ]
  },
  {
   "cell_type": "code",
   "execution_count": 136,
   "metadata": {},
   "outputs": [
    {
     "data": {
      "text/plain": [
       "294"
      ]
     },
     "execution_count": 136,
     "metadata": {},
     "output_type": "execute_result"
    }
   ],
   "source": [
    "train_silences = utils.grab_wavs(os.path.join(path_to_main, \"train\", \"silence\"))\n",
    "len(train_silences)"
   ]
  },
  {
   "cell_type": "code",
   "execution_count": 138,
   "metadata": {},
   "outputs": [
    {
     "name": "stdout",
     "output_type": "stream",
     "text": [
      "0 10 20 30 40 50 60 70 80 90 100 110 120 130 140 150 160 170 180 190 200 210 220 230 240 250 260 270 280 290 300 310 320 330 340 350 360 370 380 390 400 410 420 430 440 450 460 470 480 490 500 510 520 530 540 550 560 570 580 590 600 610 620 630 640 650 660 670 680 690 700 710 720 730 740 750 760 770 780 790 800 810 820 830 840 850 860 870 880 890 900 910 920 930 940 950 960 970 980 990 1000 1010 1020 1030 1040 1050 1060 1070 1080 1090 1100 1110 1120 1130 1140 1150 1160 1170 1180 1190 1200 1210 1220 1230 1240 1250 1260 1270 1280 1290 1300 1310 1320 1330 1340 1350 1360 1370 1380 1390 1400 1410 1420 1430 1440 1450 1460 1470 1480 1490 "
     ]
    }
   ],
   "source": [
    "# call the function on the train set\n",
    "balance_silences(train_silences, to_be_added=1500, subset_name=\"train\", show_progress_in_tens=True)"
   ]
  },
  {
   "cell_type": "code",
   "execution_count": 139,
   "metadata": {},
   "outputs": [
    {
     "name": "stdout",
     "output_type": "stream",
     "text": [
      "   1794    1794   27425\r\n"
     ]
    }
   ],
   "source": [
    "# check\n",
    "target_path = os.path.join(path_to_main, \"train\", \"silence\")\n",
    "!ls $target_path | wc"
   ]
  },
  {
   "cell_type": "markdown",
   "metadata": {},
   "source": [
    "Finally let's confirm with a print out of all our example counts, per subset and category."
   ]
  },
  {
   "cell_type": "code",
   "execution_count": 140,
   "metadata": {},
   "outputs": [
    {
     "name": "stdout",
     "output_type": "stream",
     "text": [
      "train\n",
      "yes\t   1860    1860   40921\n",
      "no\t   1853    1853   40766\n",
      "up\t   1843    1843   40546\n",
      "down\t   1842    1842   40524\n",
      "left\t   1839    1839   40458\n",
      "right\t   1852    1852   40744\n",
      "on\t   1864    1864   41008\n",
      "off\t   1839    1839   40458\n",
      "stop\t   1885    1885   41470\n",
      "go\t   1861    1861   40942\n",
      "silence\t   1794    1794   27425\n",
      "unknown\t  32550   32550  881635\n",
      "\n",
      "test\n",
      "yes\t    256     256    5632\n",
      "no\t    252     252    5544\n",
      "up\t    272     272    5984\n",
      "down\t    253     253    5566\n",
      "left\t    267     267    5874\n",
      "right\t    259     259    5698\n",
      "on\t    246     246    5412\n",
      "off\t    262     262    5764\n",
      "stop\t    249     249    5478\n",
      "go\t    251     251    5522\n",
      "silence\t    252     252    3753\n",
      "unknown\t   4268    4268  115594\n",
      "\n",
      "cv\n",
      "yes\t    261     261    5742\n",
      "no\t    270     270    5940\n",
      "up\t    260     260    5720\n",
      "down\t    264     264    5808\n",
      "left\t    247     247    5434\n",
      "right\t    256     256    5632\n",
      "on\t    257     257    5654\n",
      "off\t    256     256    5632\n",
      "stop\t    246     246    5412\n",
      "go\t    260     260    5720\n",
      "silence\t    252     252    3759\n",
      "unknown\t   4221    4221  114326\n",
      "\n"
     ]
    }
   ],
   "source": [
    "# let's use unix commands to see the imbalance\n",
    "for subset in subsets:\n",
    "    print(subset)\n",
    "    path_to_subset = os.path.join(path_to_main, subset)\n",
    "    for category in categories_to_predict:\n",
    "        print(category, end=\"\\t\")\n",
    "        path_to_category = os.path.join(path_to_subset, category)\n",
    "        !ls $path_to_category | wc\n",
    "    print()"
   ]
  },
  {
   "cell_type": "markdown",
   "metadata": {},
   "source": [
    "#### Clean up\n",
    "Remove the tmp directory."
   ]
  },
  {
   "cell_type": "code",
   "execution_count": 141,
   "metadata": {},
   "outputs": [],
   "source": [
    "# remove the temporary directory and all its contents\n",
    "!rm -r tmp"
   ]
  },
  {
   "cell_type": "markdown",
   "metadata": {},
   "source": [
    "Great, now our silences are balanced. We don't have to remove the over-represented *unknown* example files - instead we'll just remove as many as we need from a list of paths."
   ]
  },
  {
   "cell_type": "markdown",
   "metadata": {},
   "source": [
    "#### Create list of paths to .wav files\n",
    "Per subset, per category. We have to repeat this for our CV set (and remove the mislabelled examples) because we've added the new silences."
   ]
  },
  {
   "cell_type": "code",
   "execution_count": 13,
   "metadata": {},
   "outputs": [
    {
     "name": "stdout",
     "output_type": "stream",
     "text": [
      "How many CV samples?:  7050\n"
     ]
    }
   ],
   "source": [
    "# first grab the cv set\n",
    "path_to_cv = os.path.join(path_to_main, \"cv\")\n",
    "main_cv_wavs = []\n",
    "\n",
    "for category in categories_to_predict:\n",
    "    path_to_category = os.path.join(path_to_cv, category)\n",
    "    category_files = utils.grab_wavs(path_to_category)\n",
    "    \n",
    "    # we use extend instead of append to add all elements from the iterable\n",
    "    main_cv_wavs.extend(category_files)\n",
    "    \n",
    "print(\"How many CV samples?: \", len(main_cv_wavs))"
   ]
  },
  {
   "cell_type": "code",
   "execution_count": 189,
   "metadata": {},
   "outputs": [
    {
     "name": "stdout",
     "output_type": "stream",
     "text": [
      "How many CV samples after removing the mislabelled ones?:  7011\n"
     ]
    }
   ],
   "source": [
    "# remove the mislabelled examples again\n",
    "main_cv_wavs_cleaned = []\n",
    "for wav_path in main_cv_wavs:\n",
    "    if wav_path in mislabelled_cv_paths:\n",
    "        pass\n",
    "    else:\n",
    "        main_cv_wavs_cleaned.append(wav_path)\n",
    "        \n",
    "main_cv_wavs = main_cv_wavs_cleaned\n",
    "print(\"How many CV samples after removing the mislabelled ones?: \", len(main_cv_wavs))"
   ]
  },
  {
   "cell_type": "code",
   "execution_count": 190,
   "metadata": {},
   "outputs": [
    {
     "name": "stdout",
     "output_type": "stream",
     "text": [
      "How many CV samples after removing the over-represented unknown?:  3051\n"
     ]
    }
   ],
   "source": [
    "main_cv_balanced = []\n",
    "\n",
    "# and finally remove the over-represented unknown samples randomly\n",
    "random.seed(1234567)\n",
    "\n",
    "# shuffle works in-place (this randomizes the order of unknown samples)\n",
    "random.shuffle(main_cv_wavs)\n",
    "\n",
    "# we need to remove 3960 examples for CV, 4000 Test, and 30 700 for Train\n",
    "to_remove = 3960\n",
    "\n",
    "# find an unkown example\n",
    "for example in main_cv_wavs:\n",
    "    \n",
    "    # remove the example if it's unknown and we still need to remove some\n",
    "    if to_remove > 0 and \"unknown\" in example:\n",
    "        to_remove -= 1\n",
    "    \n",
    "    # add to balanced\n",
    "    else :\n",
    "        main_cv_balanced.append(example)\n",
    "\n",
    "main_cv_wavs = main_cv_balanced\n",
    "print(\"How many CV samples after removing the over-represented unknown?: \", len(main_cv_wavs))"
   ]
  },
  {
   "cell_type": "code",
   "execution_count": 191,
   "metadata": {},
   "outputs": [
    {
     "name": "stdout",
     "output_type": "stream",
     "text": [
      "data/main/cv/unknown/f2dd248e_nohash_0_one.wav\n",
      "data/main/cv/unknown/c6ee87a7_nohash_0_bed.wav\n",
      "data/main/cv/unknown/56eb74ae_nohash_3_six.wav\n",
      "data/main/cv/unknown/bdee441c_nohash_1_four.wav\n",
      "data/main/cv/unknown/c4e1f6e0_nohash_0_bed.wav\n",
      "data/main/cv/unknown/b1426003_nohash_0_four.wav\n",
      "data/main/cv/unknown/6071a214_nohash_0_five.wav\n",
      "data/main/cv/unknown/ae927455_nohash_0_eight.wav\n",
      "data/main/cv/unknown/3ca784ec_nohash_0_four.wav\n",
      "data/main/cv/unknown/d874a786_nohash_1_seven.wav\n",
      "data/main/cv/unknown/105e72bb_nohash_0_dog.wav\n",
      "data/main/cv/unknown/2643992f_nohash_0_two.wav\n",
      "data/main/cv/unknown/50f55535_nohash_0_cat.wav\n",
      "data/main/cv/unknown/90804775_nohash_0_four.wav\n",
      "data/main/cv/unknown/57cb3575_nohash_0_sheila.wav\n",
      "data/main/cv/unknown/7fd25f7c_nohash_2_seven.wav\n",
      "data/main/cv/unknown/a8cf01bc_nohash_2_nine.wav\n",
      "data/main/cv/unknown/bfbd0e6b_nohash_2_one.wav\n",
      "data/main/cv/unknown/9cde5de8_nohash_1_wow.wav\n",
      "data/main/cv/unknown/22aa3665_nohash_0_wow.wav\n",
      "data/main/cv/unknown/ae927455_nohash_1_four.wav\n",
      "data/main/cv/unknown/dca2797e_nohash_3_five.wav\n",
      "data/main/cv/unknown/ae927455_nohash_2_six.wav\n",
      "data/main/cv/unknown/c4cfbe43_nohash_0_eight.wav\n",
      "data/main/cv/unknown/1bc45db9_nohash_1_bird.wav\n",
      "data/main/cv/unknown/f17be97f_nohash_0_happy.wav\n",
      "data/main/cv/unknown/b487da60_nohash_1_four.wav\n",
      "data/main/cv/unknown/6d0ad764_nohash_3_happy.wav\n",
      "data/main/cv/unknown/dca2797e_nohash_0_house.wav\n",
      "data/main/cv/unknown/9db2bfe9_nohash_2_seven.wav\n",
      "data/main/cv/unknown/bc196f81_nohash_1_happy.wav\n",
      "data/main/cv/unknown/dd086776_nohash_2_zero.wav\n",
      "data/main/cv/unknown/53d5b86f_nohash_0_marvin.wav\n",
      "data/main/cv/unknown/54d9ccb5_nohash_0_zero.wav\n",
      "data/main/cv/unknown/56eb74ae_nohash_0_three.wav\n",
      "data/main/cv/unknown/591d32f3_nohash_0_nine.wav\n",
      "data/main/cv/unknown/d197e3ae_nohash_0_three.wav\n",
      "data/main/cv/unknown/bfbd0e6b_nohash_1_four.wav\n",
      "data/main/cv/unknown/7eee5973_nohash_1_three.wav\n",
      "data/main/cv/unknown/2e0d80f7_nohash_0_cat.wav\n",
      "data/main/cv/unknown/dca2797e_nohash_0_eight.wav\n",
      "data/main/cv/unknown/f3cee168_nohash_0_bed.wav\n",
      "data/main/cv/unknown/6071a214_nohash_1_three.wav\n",
      "data/main/cv/unknown/c6389ab0_nohash_0_seven.wav\n",
      "data/main/cv/unknown/44c201dd_nohash_0_zero.wav\n",
      "data/main/cv/unknown/b0f24c9b_nohash_0_marvin.wav\n",
      "data/main/cv/unknown/f3cee168_nohash_1_six.wav\n",
      "data/main/cv/unknown/962f27eb_nohash_0_two.wav\n",
      "data/main/cv/unknown/d55aa56c_nohash_1_happy.wav\n",
      "data/main/cv/unknown/060cd039_nohash_0_eight.wav\n",
      "data/main/cv/unknown/b00dff7e_nohash_0_tree.wav\n",
      "data/main/cv/unknown/f84762e5_nohash_1_house.wav\n",
      "data/main/cv/unknown/23ad12d8_nohash_0_zero.wav\n",
      "data/main/cv/unknown/e8c3c5ca_nohash_1_house.wav\n",
      "data/main/cv/unknown/2643992f_nohash_0_wow.wav\n",
      "data/main/cv/unknown/a7dd45cf_nohash_0_one.wav\n",
      "data/main/cv/unknown/96c67073_nohash_0_happy.wav\n",
      "data/main/cv/unknown/c4cfbe43_nohash_2_eight.wav\n",
      "data/main/cv/unknown/3bdf05d3_nohash_0_dog.wav\n",
      "data/main/cv/unknown/8843b25f_nohash_0_seven.wav\n",
      "data/main/cv/unknown/7ca023e2_nohash_1_two.wav\n",
      "data/main/cv/unknown/28ef2a01_nohash_0_marvin.wav\n",
      "data/main/cv/unknown/f34e6f44_nohash_0_four.wav\n",
      "data/main/cv/unknown/6d818f6c_nohash_1_happy.wav\n",
      "data/main/cv/unknown/c2d15ea5_nohash_1_happy.wav\n",
      "data/main/cv/unknown/7c1d8533_nohash_1_six.wav\n",
      "data/main/cv/unknown/5fadb538_nohash_1_five.wav\n",
      "data/main/cv/unknown/3b853f44_nohash_0_nine.wav\n",
      "data/main/cv/unknown/dca2797e_nohash_3_one.wav\n",
      "data/main/cv/unknown/f34e6f44_nohash_0_happy.wav\n",
      "data/main/cv/unknown/86478fab_nohash_0_house.wav\n",
      "data/main/cv/unknown/97ae8b25_nohash_0_bed.wav\n",
      "data/main/cv/unknown/dc2222d7_nohash_0_cat.wav\n",
      "data/main/cv/unknown/db43cd03_nohash_1_marvin.wav\n",
      "data/main/cv/unknown/6b81fead_nohash_2_bed.wav\n",
      "data/main/cv/unknown/bfbd0e6b_nohash_3_one.wav\n",
      "data/main/cv/unknown/10f2bb12_nohash_2_one.wav\n",
      "data/main/cv/unknown/d197e3ae_nohash_4_six.wav\n",
      "data/main/cv/unknown/f17be97f_nohash_0_seven.wav\n",
      "data/main/cv/unknown/9db2bfe9_nohash_4_seven.wav\n",
      "data/main/cv/unknown/dca2797e_nohash_0_one.wav\n",
      "data/main/cv/unknown/a6d586b7_nohash_0_bed.wav\n",
      "data/main/cv/unknown/605ed0ff_nohash_1_eight.wav\n",
      "data/main/cv/unknown/65ec06e5_nohash_1_nine.wav\n",
      "data/main/cv/unknown/fde2dee7_nohash_1_zero.wav\n",
      "data/main/cv/unknown/591d32f3_nohash_2_happy.wav\n",
      "data/main/cv/unknown/ccea893d_nohash_1_bed.wav\n",
      "data/main/cv/unknown/171b56dc_nohash_0_three.wav\n",
      "data/main/cv/unknown/264f471d_nohash_0_nine.wav\n",
      "data/main/cv/unknown/6b81fead_nohash_1_five.wav\n",
      "data/main/cv/unknown/471a0925_nohash_1_two.wav\n",
      "data/main/cv/unknown/66774579_nohash_0_seven.wav\n",
      "data/main/cv/unknown/9db2bfe9_nohash_1_four.wav\n",
      "data/main/cv/unknown/6c0f6493_nohash_2_eight.wav\n",
      "data/main/cv/unknown/d9462202_nohash_0_dog.wav\n",
      "data/main/cv/unknown/e6e29c47_nohash_0_five.wav\n",
      "data/main/cv/unknown/257e17e0_nohash_1_one.wav\n",
      "data/main/cv/unknown/6d0ad764_nohash_1_wow.wav\n",
      "data/main/cv/unknown/264f471d_nohash_4_three.wav\n",
      "data/main/cv/unknown/9db2bfe9_nohash_4_five.wav\n",
      "data/main/cv/unknown/099d52ad_nohash_0_bed.wav\n",
      "data/main/cv/unknown/bca56796_nohash_0_six.wav\n",
      "data/main/cv/unknown/1a9afd33_nohash_0_three.wav\n",
      "data/main/cv/unknown/a6d586b7_nohash_3_nine.wav\n",
      "data/main/cv/unknown/56eb74ae_nohash_3_zero.wav\n",
      "data/main/cv/unknown/ad63d93c_nohash_2_five.wav\n",
      "data/main/cv/unknown/dc2222d7_nohash_0_three.wav\n",
      "data/main/cv/unknown/dca2797e_nohash_4_three.wav\n",
      "data/main/cv/unknown/50ed8a7b_nohash_0_seven.wav\n",
      "data/main/cv/unknown/22aa3665_nohash_1_cat.wav\n",
      "data/main/cv/unknown/6940f7f3_nohash_1_one.wav\n",
      "data/main/cv/unknown/060cd039_nohash_0_six.wav\n",
      "data/main/cv/unknown/6a27a9bf_nohash_0_one.wav\n",
      "data/main/cv/unknown/105e72bb_nohash_0_zero.wav\n",
      "data/main/cv/unknown/e54a0f16_nohash_0_wow.wav\n",
      "data/main/cv/unknown/ccea893d_nohash_1_four.wav\n",
      "data/main/cv/unknown/d874a786_nohash_0_wow.wav\n",
      "data/main/cv/unknown/c6389ab0_nohash_1_tree.wav\n",
      "data/main/cv/unknown/27b9a84f_nohash_0_house.wav\n",
      "data/main/cv/unknown/a7dd45cf_nohash_1_four.wav\n",
      "data/main/cv/unknown/fde2dee7_nohash_1_marvin.wav\n",
      "data/main/cv/unknown/ae927455_nohash_0_six.wav\n",
      "data/main/cv/unknown/29b81b73_nohash_0_dog.wav\n",
      "data/main/cv/unknown/ad63d93c_nohash_3_four.wav\n",
      "data/main/cv/unknown/439c84f4_nohash_3_zero.wav\n",
      "data/main/cv/unknown/b5d1e505_nohash_0_happy.wav\n",
      "data/main/cv/unknown/bdee441c_nohash_2_three.wav\n",
      "data/main/cv/unknown/826268f8_nohash_0_house.wav\n",
      "data/main/cv/unknown/d107dc42_nohash_0_three.wav\n",
      "data/main/cv/unknown/ad63d93c_nohash_2_three.wav\n",
      "data/main/cv/unknown/3e2ba5f7_nohash_1_marvin.wav\n",
      "data/main/cv/unknown/ad63d93c_nohash_1_four.wav\n",
      "data/main/cv/unknown/c4cfbe43_nohash_1_nine.wav\n",
      "data/main/cv/unknown/8335f893_nohash_1_one.wav\n",
      "data/main/cv/unknown/f17be97f_nohash_0_house.wav\n",
      "data/main/cv/unknown/c6ee87a7_nohash_0_three.wav\n",
      "data/main/cv/unknown/fd32732a_nohash_1_two.wav\n",
      "data/main/cv/unknown/962f27eb_nohash_0_one.wav\n",
      "data/main/cv/unknown/c256377f_nohash_1_three.wav\n",
      "data/main/cv/unknown/439c84f4_nohash_2_two.wav\n",
      "data/main/cv/unknown/b7016c27_nohash_0_seven.wav\n",
      "data/main/cv/unknown/29b81b73_nohash_2_sheila.wav\n",
      "data/main/cv/unknown/f5e5e8b0_nohash_0_three.wav\n",
      "data/main/cv/unknown/cc6bae0d_nohash_0_five.wav\n",
      "data/main/cv/unknown/439c84f4_nohash_3_six.wav\n",
      "data/main/cv/unknown/9db2bfe9_nohash_0_three.wav\n",
      "data/main/cv/unknown/c256377f_nohash_0_marvin.wav\n",
      "data/main/cv/unknown/ec74a8a5_nohash_1_tree.wav\n",
      "data/main/cv/unknown/dbb40d24_nohash_4_zero.wav\n",
      "data/main/cv/unknown/86402da1_nohash_1_bed.wav\n",
      "data/main/cv/unknown/edc53350_nohash_0_dog.wav\n",
      "data/main/cv/unknown/e54a0f16_nohash_3_five.wav\n",
      "data/main/cv/unknown/db9d52d2_nohash_2_tree.wav\n",
      "data/main/cv/unknown/b7a6f709_nohash_0_two.wav\n",
      "data/main/cv/unknown/a7dd45cf_nohash_0_four.wav\n",
      "data/main/cv/unknown/d197e3ae_nohash_0_four.wav\n",
      "data/main/cv/unknown/c4e1f6e0_nohash_0_two.wav\n",
      "data/main/cv/unknown/52bfbce8_nohash_1_two.wav\n",
      "data/main/cv/unknown/538e1856_nohash_0_seven.wav\n",
      "data/main/cv/unknown/c2d15ea5_nohash_0_four.wav\n",
      "data/main/cv/unknown/471a0925_nohash_4_seven.wav\n",
      "data/main/cv/unknown/50f55535_nohash_0_four.wav\n",
      "data/main/cv/unknown/605ed0ff_nohash_1_six.wav\n",
      "data/main/cv/unknown/8910e5ef_nohash_3_three.wav\n",
      "data/main/cv/unknown/605ed0ff_nohash_0_three.wav\n",
      "data/main/cv/unknown/c6ee87a7_nohash_2_nine.wav\n",
      "data/main/cv/unknown/7ca023e2_nohash_0_four.wav\n",
      "data/main/cv/unknown/6940f7f3_nohash_0_tree.wav\n",
      "data/main/cv/unknown/b6ebe225_nohash_0_nine.wav\n",
      "data/main/cv/unknown/10f2bb12_nohash_0_five.wav\n",
      "data/main/cv/unknown/c099668c_nohash_1_sheila.wav\n",
      "data/main/cv/unknown/4abefdf5_nohash_0_marvin.wav\n",
      "data/main/cv/unknown/2643992f_nohash_0_cat.wav\n",
      "data/main/cv/unknown/7c1d8533_nohash_3_five.wav\n",
      "data/main/cv/unknown/439c84f4_nohash_2_one.wav\n",
      "data/main/cv/unknown/f17be97f_nohash_4_five.wav\n",
      "data/main/cv/unknown/bca56796_nohash_0_bed.wav\n",
      "data/main/cv/unknown/c90c0105_nohash_1_sheila.wav\n",
      "data/main/cv/unknown/c4cfbe43_nohash_0_sheila.wav\n",
      "data/main/cv/unknown/060cd039_nohash_0_four.wav\n",
      "data/main/cv/unknown/6a27a9bf_nohash_0_sheila.wav\n",
      "data/main/cv/unknown/c6ee87a7_nohash_2_seven.wav\n",
      "data/main/cv/unknown/b17f5ba0_nohash_1_seven.wav\n",
      "data/main/cv/unknown/6c0f6493_nohash_0_one.wav\n",
      "data/main/cv/unknown/605ed0ff_nohash_0_eight.wav\n",
      "data/main/cv/unknown/7eee5973_nohash_1_four.wav\n",
      "data/main/cv/unknown/605ed0ff_nohash_1_bed.wav\n",
      "data/main/cv/unknown/dc2222d7_nohash_1_house.wav\n",
      "data/main/cv/unknown/19b05529_nohash_0_five.wav\n",
      "data/main/cv/unknown/db43cd03_nohash_0_four.wav\n",
      "data/main/cv/unknown/f34e6f44_nohash_0_bird.wav\n",
      "data/main/cv/unknown/099d52ad_nohash_2_two.wav\n",
      "data/main/cv/unknown/66cff190_nohash_0_bed.wav\n",
      "data/main/cv/unknown/e54a0f16_nohash_4_seven.wav\n",
      "data/main/cv/unknown/52bfbce8_nohash_1_nine.wav\n",
      "data/main/cv/unknown/bca56796_nohash_0_zero.wav\n",
      "data/main/cv/unknown/2643992f_nohash_1_eight.wav\n",
      "data/main/cv/unknown/e54a0f16_nohash_1_nine.wav\n",
      "data/main/cv/unknown/e8e960fd_nohash_1_four.wav\n",
      "data/main/cv/unknown/db9d52d2_nohash_0_bed.wav\n",
      "data/main/cv/unknown/7c1d8533_nohash_0_two.wav\n",
      "data/main/cv/unknown/c6ee87a7_nohash_3_zero.wav\n",
      "data/main/cv/unknown/65ec06e5_nohash_0_zero.wav\n",
      "data/main/cv/unknown/7ca023e2_nohash_3_wow.wav\n",
      "data/main/cv/unknown/fde2dee7_nohash_1_bird.wav\n",
      "data/main/cv/unknown/c6ee87a7_nohash_3_seven.wav\n",
      "data/main/cv/unknown/fc94edb0_nohash_1_sheila.wav\n",
      "data/main/cv/unknown/7be5a0f3_nohash_1_three.wav\n",
      "data/main/cv/unknown/fa7895de_nohash_3_two.wav\n",
      "data/main/cv/unknown/591d32f3_nohash_0_happy.wav\n",
      "data/main/cv/unknown/e6db3894_nohash_1_two.wav\n",
      "data/main/cv/unknown/ad63d93c_nohash_4_zero.wav\n",
      "data/main/cv/unknown/3e2ba5f7_nohash_0_dog.wav\n",
      "data/main/cv/unknown/989a2213_nohash_2_one.wav\n",
      "data/main/cv/unknown/dca2797e_nohash_3_eight.wav\n",
      "data/main/cv/unknown/e6e29c47_nohash_1_marvin.wav\n",
      "data/main/cv/unknown/c6ee87a7_nohash_1_three.wav\n",
      "data/main/cv/unknown/52bfbce8_nohash_2_cat.wav\n",
      "data/main/cv/unknown/7be5a0f3_nohash_2_four.wav\n",
      "data/main/cv/unknown/22aa3665_nohash_0_four.wav\n",
      "data/main/cv/unknown/fde2dee7_nohash_0_marvin.wav\n",
      "data/main/cv/unknown/52e228e9_nohash_0_sheila.wav\n",
      "data/main/cv/unknown/c24d96eb_nohash_0_bed.wav\n",
      "data/main/cv/unknown/41285056_nohash_0_six.wav\n",
      "data/main/cv/unknown/65ec06e5_nohash_0_nine.wav\n",
      "data/main/cv/unknown/d57febf0_nohash_2_seven.wav\n",
      "data/main/cv/unknown/db9d52d2_nohash_1_three.wav\n",
      "data/main/cv/unknown/9190045a_nohash_0_tree.wav\n",
      "data/main/cv/unknown/6a27a9bf_nohash_0_marvin.wav\n",
      "data/main/cv/unknown/7eee5973_nohash_0_bed.wav\n",
      "data/main/cv/unknown/d197e3ae_nohash_4_three.wav\n",
      "data/main/cv/unknown/d197e3ae_nohash_1_three.wav\n",
      "data/main/cv/unknown/b7016c27_nohash_1_five.wav\n",
      "data/main/cv/unknown/794cdfc5_nohash_1_three.wav\n",
      "data/main/cv/unknown/53d5b86f_nohash_0_eight.wav\n",
      "data/main/cv/unknown/099d52ad_nohash_2_nine.wav\n",
      "data/main/cv/unknown/f17be97f_nohash_3_five.wav\n",
      "data/main/cv/unknown/da7689f1_nohash_0_nine.wav\n",
      "data/main/cv/unknown/b00dff7e_nohash_0_bed.wav\n",
      "data/main/cv/unknown/a1dd919f_nohash_0_seven.wav\n",
      "data/main/cv/unknown/d55aa56c_nohash_0_eight.wav\n",
      "data/main/cv/unknown/cc6bae0d_nohash_0_three.wav\n",
      "data/main/cv/unknown/264f471d_nohash_2_five.wav\n",
      "data/main/cv/unknown/1657c9fa_nohash_1_nine.wav\n",
      "data/main/cv/unknown/c6389ab0_nohash_0_tree.wav\n",
      "data/main/cv/unknown/6940f7f3_nohash_0_happy.wav\n",
      "data/main/cv/unknown/b00dff7e_nohash_1_cat.wav\n",
      "data/main/cv/unknown/d197e3ae_nohash_2_two.wav\n",
      "data/main/cv/unknown/6a27a9bf_nohash_0_six.wav\n",
      "data/main/cv/unknown/d197e3ae_nohash_2_three.wav\n",
      "data/main/cv/unknown/471a0925_nohash_0_tree.wav\n",
      "data/main/cv/unknown/1657c9fa_nohash_0_four.wav\n",
      "data/main/cv/unknown/52bfbce8_nohash_0_dog.wav\n",
      "data/main/cv/unknown/16db1582_nohash_0_sheila.wav\n",
      "data/main/cv/unknown/dca2797e_nohash_1_eight.wav\n",
      "data/main/cv/unknown/ab1299bb_nohash_0_eight.wav\n",
      "data/main/cv/unknown/9190045a_nohash_0_dog.wav\n",
      "data/main/cv/unknown/2296b1af_nohash_0_six.wav\n",
      "data/main/cv/unknown/8335f893_nohash_0_dog.wav\n",
      "data/main/cv/unknown/471a0925_nohash_4_four.wav\n",
      "data/main/cv/unknown/16db1582_nohash_2_cat.wav\n"
     ]
    },
    {
     "data": {
      "text/plain": [
       "261"
      ]
     },
     "execution_count": 191,
     "metadata": {},
     "output_type": "execute_result"
    }
   ],
   "source": [
    "# confirm\n",
    "remaining_unknowns_count = 0\n",
    "for e in main_cv_wavs:\n",
    "    if \"unknown\" in e:\n",
    "        print(e)\n",
    "        remaining_unknowns_count += 1\n",
    "remaining_unknowns_count"
   ]
  },
  {
   "cell_type": "markdown",
   "metadata": {},
   "source": [
    "Repeat for the **test** subset."
   ]
  },
  {
   "cell_type": "code",
   "execution_count": 192,
   "metadata": {},
   "outputs": [
    {
     "name": "stdout",
     "output_type": "stream",
     "text": [
      "How many test samples?:  7087\n"
     ]
    }
   ],
   "source": [
    "# first grab the test set\n",
    "path_to_test = os.path.join(path_to_main, \"test\")\n",
    "main_test_wavs = []\n",
    "\n",
    "for category in categories_to_predict:\n",
    "    path_to_category = os.path.join(path_to_test, category)\n",
    "    category_files = utils.grab_wavs(path_to_category)\n",
    "    \n",
    "    # we use extend instead of append to add all elements from the iterable\n",
    "    main_test_wavs.extend(category_files)\n",
    "    \n",
    "print(\"How many test samples?: \", len(main_test_wavs))"
   ]
  },
  {
   "cell_type": "code",
   "execution_count": 193,
   "metadata": {},
   "outputs": [
    {
     "name": "stdout",
     "output_type": "stream",
     "text": [
      "How many test samples after removing the over-represented unknown?:  3087\n"
     ]
    }
   ],
   "source": [
    "main_test_balanced = []\n",
    "\n",
    "random.seed(1234567)\n",
    "random.shuffle(main_test_wavs)\n",
    "\n",
    "# we need to remove 3960 examples for CV, 4000 Test, and 30 700 for Train\n",
    "to_remove = 4000\n",
    "\n",
    "# find an unkown example\n",
    "for example in main_test_wavs:\n",
    "    \n",
    "    # remove the example if it's unknown and we still need to remove some\n",
    "    if to_remove > 0 and \"unknown\" in example:\n",
    "        to_remove -= 1\n",
    "    \n",
    "    # add to balanced\n",
    "    else :\n",
    "        main_test_balanced.append(example)\n",
    "\n",
    "main_test_wavs = main_test_balanced\n",
    "print(\"How many test samples after removing the over-represented unknown?: \", len(main_test_wavs))"
   ]
  },
  {
   "cell_type": "markdown",
   "metadata": {},
   "source": [
    "Repeat for the **train** subset."
   ]
  },
  {
   "cell_type": "code",
   "execution_count": 194,
   "metadata": {},
   "outputs": [
    {
     "name": "stdout",
     "output_type": "stream",
     "text": [
      "How many train samples?:  52882\n"
     ]
    }
   ],
   "source": [
    "# first grab the test set\n",
    "path_to_train = os.path.join(path_to_main, \"train\")\n",
    "main_train_wavs = []\n",
    "\n",
    "for category in categories_to_predict:\n",
    "    path_to_category = os.path.join(path_to_train, category)\n",
    "    category_files = utils.grab_wavs(path_to_category)\n",
    "    \n",
    "    # we use extend instead of append to add all elements from the iterable\n",
    "    main_train_wavs.extend(category_files)\n",
    "    \n",
    "print(\"How many train samples?: \", len(main_train_wavs))"
   ]
  },
  {
   "cell_type": "code",
   "execution_count": 195,
   "metadata": {},
   "outputs": [
    {
     "name": "stdout",
     "output_type": "stream",
     "text": [
      "How many train samples after removing the over-represented unknown?:  22182\n"
     ]
    }
   ],
   "source": [
    "main_train_balanced = []\n",
    "\n",
    "random.seed(1234567)\n",
    "random.shuffle(main_train_wavs)\n",
    "\n",
    "# we need to remove 3960 examples for CV, 4000 Test, and 30 700 for Train\n",
    "to_remove = 30700\n",
    "\n",
    "# find an unkown example\n",
    "for example in main_train_wavs:\n",
    "    \n",
    "    # remove the example if it's unknown and we still need to remove some\n",
    "    if to_remove > 0 and \"unknown\" in example:\n",
    "        to_remove -= 1\n",
    "    \n",
    "    # add to balanced\n",
    "    else :\n",
    "        main_train_balanced.append(example)\n",
    "\n",
    "main_train_wavs = main_train_balanced\n",
    "print(\"How many train samples after removing the over-represented unknown?: \", len(main_train_wavs))"
   ]
  },
  {
   "cell_type": "markdown",
   "metadata": {},
   "source": [
    "#### Persist the select paths to subset examples"
   ]
  },
  {
   "cell_type": "code",
   "execution_count": 211,
   "metadata": {},
   "outputs": [],
   "source": [
    "with open(os.path.join(path_to_main, \"main_cv_paths\"), \"wb\") as f:\n",
    "    pickle.dump(main_cv_wavs, f)"
   ]
  },
  {
   "cell_type": "code",
   "execution_count": 212,
   "metadata": {},
   "outputs": [],
   "source": [
    "with open(os.path.join(path_to_main,\"main_test_paths\"), \"wb\") as f:\n",
    "    pickle.dump(main_test_wavs, f)"
   ]
  },
  {
   "cell_type": "code",
   "execution_count": 213,
   "metadata": {},
   "outputs": [],
   "source": [
    "with open(os.path.join(path_to_main, \"main_train_paths\"), \"wb\") as f:\n",
    "    pickle.dump(main_train_wavs, f)"
   ]
  },
  {
   "cell_type": "code",
   "execution_count": 217,
   "metadata": {},
   "outputs": [
    {
     "data": {
      "text/plain": [
       "['data/main/train/up/cc71bada_nohash_0.wav',\n",
       " 'data/main/train/silence/dude_miaowing_44.wav',\n",
       " 'data/main/train/off/c1d39ce8_nohash_8.wav',\n",
       " 'data/main/train/down/151bfb79_nohash_0.wav',\n",
       " 'data/main/train/go/c2aeb59d_nohash_0.wav']"
      ]
     },
     "execution_count": 217,
     "metadata": {},
     "output_type": "execute_result"
    }
   ],
   "source": [
    "# sanity check\n",
    "main_train_wavs[:5]"
   ]
  },
  {
   "cell_type": "markdown",
   "metadata": {},
   "source": [
    "Reload if needed."
   ]
  },
  {
   "cell_type": "code",
   "execution_count": 14,
   "metadata": {},
   "outputs": [],
   "source": [
    "with open(os.path.join(path_to_main, \"main_cv_paths\"), \"rb\") as f:\n",
    "    main_cv = pickle.load(f)"
   ]
  },
  {
   "cell_type": "code",
   "execution_count": 15,
   "metadata": {},
   "outputs": [],
   "source": [
    "with open(os.path.join(path_to_main, \"main_test_paths\"), \"rb\") as f:\n",
    "    main_test = pickle.load(f)"
   ]
  },
  {
   "cell_type": "code",
   "execution_count": 16,
   "metadata": {},
   "outputs": [],
   "source": [
    "with open(os.path.join(path_to_main, \"main_train_paths\"), \"rb\") as f:\n",
    "    main_train = pickle.load(f)"
   ]
  },
  {
   "cell_type": "code",
   "execution_count": 17,
   "metadata": {},
   "outputs": [
    {
     "data": {
      "text/plain": [
       "['data/main/train/up/cc71bada_nohash_0.wav',\n",
       " 'data/main/train/silence/dude_miaowing_44.wav',\n",
       " 'data/main/train/off/c1d39ce8_nohash_8.wav',\n",
       " 'data/main/train/down/151bfb79_nohash_0.wav',\n",
       " 'data/main/train/go/c2aeb59d_nohash_0.wav']"
      ]
     },
     "execution_count": 17,
     "metadata": {},
     "output_type": "execute_result"
    }
   ],
   "source": [
    "main_train[:5]"
   ]
  },
  {
   "cell_type": "markdown",
   "metadata": {},
   "source": [
    "### Separate into X and y and persist\n",
    "Both in the raw wav format and the preprocessed form that was proven effective during sample experiments.\n",
    "\n",
    "Let's start with the **y** for our CV set."
   ]
  },
  {
   "cell_type": "code",
   "execution_count": 14,
   "metadata": {},
   "outputs": [
    {
     "name": "stdout",
     "output_type": "stream",
     "text": [
      "CV target (y)\n",
      "Target dimensions: (3051, 12)\n",
      "Received shape: (3051, 12)\n"
     ]
    }
   ],
   "source": [
    "print(\"CV target (y)\")\n",
    "\n",
    "# figure out the dimensions\n",
    "rows = len(main_cv)\n",
    "columns = len(categories_to_predict)\n",
    "dimensions = (rows, columns)\n",
    "print(\"Target dimensions: {}\".format(dimensions))\n",
    "\n",
    "# get the y\n",
    "cv_y = utils.get_y(main_cv, 13, categories_to_predict)\n",
    "print(\"Received shape: {}\".format(cv_y.shape))"
   ]
  },
  {
   "cell_type": "markdown",
   "metadata": {},
   "source": [
    "Repeat for Test and Train sets."
   ]
  },
  {
   "cell_type": "code",
   "execution_count": 15,
   "metadata": {},
   "outputs": [
    {
     "name": "stdout",
     "output_type": "stream",
     "text": [
      "Test target (y)\n",
      "Target dimensions: (3087, 12)\n",
      "Received shape: (3087, 12)\n"
     ]
    }
   ],
   "source": [
    "print(\"Test target (y)\")\n",
    "\n",
    "# figure out the dimensions\n",
    "rows = len(main_test)\n",
    "columns = len(categories_to_predict)\n",
    "dimensions = (rows, columns)\n",
    "print(\"Target dimensions: {}\".format(dimensions))\n",
    "\n",
    "# get the y\n",
    "test_y = utils.get_y(main_test, 15, categories_to_predict)\n",
    "print(\"Received shape: {}\".format(test_y.shape))"
   ]
  },
  {
   "cell_type": "code",
   "execution_count": 16,
   "metadata": {},
   "outputs": [
    {
     "name": "stdout",
     "output_type": "stream",
     "text": [
      "Train target (y)\n",
      "Target dimensions: (22182, 12)\n",
      "Received shape: (22182, 12)\n"
     ]
    }
   ],
   "source": [
    "print(\"Train target (y)\")\n",
    "\n",
    "# figure out the dimensions\n",
    "rows = len(main_train)\n",
    "columns = len(categories_to_predict)\n",
    "dimensions = (rows, columns)\n",
    "print(\"Target dimensions: {}\".format(dimensions))\n",
    "\n",
    "# get the y\n",
    "train_y = utils.get_y(main_train, 16, categories_to_predict)\n",
    "print(\"Received shape: {}\".format(train_y.shape))"
   ]
  },
  {
   "cell_type": "markdown",
   "metadata": {},
   "source": [
    "And now the **X**."
   ]
  },
  {
   "cell_type": "code",
   "execution_count": null,
   "metadata": {},
   "outputs": [],
   "source": [
    "# get the desired number of columns (n)\n",
    "n = len(utils.get_wav_info(main_train[0])[1])\n",
    "n"
   ]
  },
  {
   "cell_type": "code",
   "execution_count": 19,
   "metadata": {},
   "outputs": [
    {
     "name": "stdout",
     "output_type": "stream",
     "text": [
      "CV:  (3051, 16000)\n",
      "CPU times: user 1min 52s, sys: 2min 42s, total: 4min 35s\n",
      "Wall time: 4min 40s\n"
     ]
    }
   ],
   "source": [
    "%%time\n",
    "cv_X = utils.get_X(main_cv, n)\n",
    "print(\"CV: \",cv_X.shape)"
   ]
  },
  {
   "cell_type": "code",
   "execution_count": 20,
   "metadata": {},
   "outputs": [
    {
     "name": "stdout",
     "output_type": "stream",
     "text": [
      "Test:  (3087, 16000)\n",
      "CPU times: user 1min 53s, sys: 2min 43s, total: 4min 37s\n",
      "Wall time: 4min 42s\n"
     ]
    }
   ],
   "source": [
    "%%time\n",
    "test_X = utils.get_X(main_test, n)\n",
    "print(\"Test: \",test_X.shape)"
   ]
  },
  {
   "cell_type": "markdown",
   "metadata": {},
   "source": [
    "The Train set contains over 20K examples, which is a size that can slow down some the processing we want to expose the data to - so let's spread it into smaller chunks, each of a similar size to the CV & Test sets."
   ]
  },
  {
   "cell_type": "code",
   "execution_count": 17,
   "metadata": {},
   "outputs": [
    {
     "name": "stdout",
     "output_type": "stream",
     "text": [
      "3168\n"
     ]
    }
   ],
   "source": [
    "# find a good splitting point\n",
    "split_point = len(main_train) // 7\n",
    "print(split_point)"
   ]
  },
  {
   "cell_type": "code",
   "execution_count": 26,
   "metadata": {},
   "outputs": [
    {
     "name": "stdout",
     "output_type": "stream",
     "text": [
      "3168\n",
      "3168\n",
      "3168\n",
      "3168\n",
      "3168\n",
      "3168\n",
      "3168\n"
     ]
    },
    {
     "data": {
      "text/plain": [
       "'data/main/train/up/cc71bada_nohash_0.wav'"
      ]
     },
     "execution_count": 26,
     "metadata": {},
     "output_type": "execute_result"
    }
   ],
   "source": [
    "# split the Train set\n",
    "main_train_subsets = []\n",
    "for i in range(7):\n",
    "    \n",
    "    # grab a slice\n",
    "    part_of_train = main_train[split_point * i:split_point * (i + 1)]\n",
    "    \n",
    "    # confirm we grabbed the right length\n",
    "    print(len(part_of_train))\n",
    "          \n",
    "    # append\n",
    "    main_train_subsets.append(part_of_train)\n",
    "\n",
    "# sanity check\n",
    "main_train_subsets[0][0]"
   ]
  },
  {
   "cell_type": "code",
   "execution_count": 29,
   "metadata": {},
   "outputs": [
    {
     "name": "stdout",
     "output_type": "stream",
     "text": [
      "Train subset 1: (3168, 16000)\n",
      "Train subset 2: (3168, 16000)\n",
      "Train subset 3: (3168, 16000)\n",
      "Train subset 4: (3168, 16000)\n",
      "Train subset 5: (3168, 16000)\n",
      "Train subset 6: (3168, 16000)\n",
      "Train subset 7: (3168, 16000)\n"
     ]
    }
   ],
   "source": [
    "# get the X for each part of the Train subsets\n",
    "train_Xs = []\n",
    "for i, paths in enumerate(main_train_subsets):\n",
    "    \n",
    "    # extract\n",
    "    train_X_subset = utils.get_X(paths, n)\n",
    "    print(\"Train subset {}: {}\".format(i+1, train_X_subset.shape))\n",
    "    \n",
    "    # append\n",
    "    train_Xs.append(train_X_subset)"
   ]
  },
  {
   "cell_type": "markdown",
   "metadata": {},
   "source": [
    "Let's confirm through a quick sanity check that everything fits together."
   ]
  },
  {
   "cell_type": "code",
   "execution_count": 35,
   "metadata": {},
   "outputs": [
    {
     "name": "stdout",
     "output_type": "stream",
     "text": [
      "data/main/train/up/cc71bada_nohash_0.wav\n",
      "[0. 0. 1. 0. 0. 0. 0. 0. 0. 0. 0. 0.]\n",
      "[ -44. -119. -156. ...  160.  138.  135.]\n"
     ]
    }
   ],
   "source": [
    "# our first path should be an \"up\", which is the 3rd category to predict\n",
    "print(main_train[0])\n",
    "print(train_y[0])\n",
    "print(train_Xs[0][0])"
   ]
  },
  {
   "cell_type": "markdown",
   "metadata": {},
   "source": [
    "Persist in a separate directory."
   ]
  },
  {
   "cell_type": "code",
   "execution_count": 5,
   "metadata": {},
   "outputs": [],
   "source": [
    "# define the bcolz array saving functions\n",
    "def bcolz_save(fname, arr): c=bcolz.carray(arr, rootdir=fname, mode='w'); c.flush()\n",
    "def bcolz_load(fname): return bcolz.open(fname)[:]"
   ]
  },
  {
   "cell_type": "code",
   "execution_count": 6,
   "metadata": {},
   "outputs": [
    {
     "name": "stdout",
     "output_type": "stream",
     "text": [
      "/home/paperspace/tensorflow_speech_recognition\r\n"
     ]
    }
   ],
   "source": [
    "!pwd"
   ]
  },
  {
   "cell_type": "code",
   "execution_count": 7,
   "metadata": {
    "scrolled": true
   },
   "outputs": [
    {
     "data": {
      "text/plain": [
       "'data/main/preprocessed'"
      ]
     },
     "execution_count": 7,
     "metadata": {},
     "output_type": "execute_result"
    }
   ],
   "source": [
    "path_to_main_preprocessed = os.path.join(path_to_main, \"preprocessed\")\n",
    "path_to_main_preprocessed"
   ]
  },
  {
   "cell_type": "code",
   "execution_count": 25,
   "metadata": {},
   "outputs": [],
   "source": [
    "# create the directory if it's not there already\n",
    "# !mkdir $path_to_main_preprocessed"
   ]
  },
  {
   "cell_type": "markdown",
   "metadata": {},
   "source": [
    "#### Persist the y"
   ]
  },
  {
   "cell_type": "code",
   "execution_count": 26,
   "metadata": {},
   "outputs": [],
   "source": [
    "# save the y\n",
    "bcolz_save(path_to_main_preprocessed + os.path.sep + \"train_y\" + \".bc\", train_y)\n",
    "bcolz_save(path_to_main_preprocessed + os.path.sep + \"cv_y\" + \".bc\", cv_y)\n",
    "bcolz_save(path_to_main_preprocessed + os.path.sep + \"test_y\" + \".bc\", test_y)"
   ]
  },
  {
   "cell_type": "markdown",
   "metadata": {},
   "source": [
    "#### Persist the X"
   ]
  },
  {
   "cell_type": "code",
   "execution_count": null,
   "metadata": {},
   "outputs": [],
   "source": [
    "# raw data\n",
    "bcolz_save(path_to_main_preprocessed + os.path.sep + \"cv_X\" + \".bc\", cv_X)\n",
    "bcolz_save(path_to_main_preprocessed + os.path.sep + \"test_X\" + \".bc\", test_X)"
   ]
  },
  {
   "cell_type": "code",
   "execution_count": 39,
   "metadata": {},
   "outputs": [],
   "source": [
    "# in chunks for the Train set\n",
    "for i, train_subset in enumerate(train_Xs):\n",
    "    bcolz_save(path_to_main_preprocessed + os.path.sep + \"train_X\" + str(i + 1) +\".bc\", train_subset)"
   ]
  },
  {
   "cell_type": "code",
   "execution_count": 41,
   "metadata": {},
   "outputs": [
    {
     "name": "stdout",
     "output_type": "stream",
     "text": [
      "cv_X.bc  test_X.bc  train_X1.bc  train_X3.bc  train_X5.bc  train_X7.bc\r\n",
      "cv_y.bc  test_y.bc  train_X2.bc  train_X4.bc  train_X6.bc  train_y.bc\r\n"
     ]
    }
   ],
   "source": [
    "!ls $path_to_main_preprocessed"
   ]
  },
  {
   "cell_type": "markdown",
   "metadata": {},
   "source": [
    "### Preprocess & persist\n",
    "Preprocess the raw .wav files in ways that have proven useful during experiments on the sample (2D MFCCs and Tempograms)."
   ]
  },
  {
   "cell_type": "markdown",
   "metadata": {},
   "source": [
    "#### MFCCs 2D"
   ]
  },
  {
   "cell_type": "code",
   "execution_count": 21,
   "metadata": {},
   "outputs": [
    {
     "name": "stdout",
     "output_type": "stream",
     "text": [
      "CV mfccs:  (3051, 100, 32)\n",
      "Test mfccs:  (3087, 100, 32)\n",
      "CPU times: user 4min, sys: 21min 55s, total: 25min 56s\n",
      "Wall time: 4min 54s\n"
     ]
    }
   ],
   "source": [
    "%%time\n",
    "# CV and Test set first\n",
    "cv_X_mfccs_2D = utils.get_X_mfccs(main_cv, shape=(100, 32), mean=False)\n",
    "test_X_mfccs_2D = utils.get_X_mfccs(main_test, shape=(100, 32), mean=False)\n",
    "\n",
    "print(\"CV mfccs: \", cv_X_mfccs_2D.shape)\n",
    "print(\"Test mfccs: \",test_X_mfccs_2D.shape)"
   ]
  },
  {
   "cell_type": "code",
   "execution_count": 46,
   "metadata": {},
   "outputs": [
    {
     "name": "stdout",
     "output_type": "stream",
     "text": [
      "Train MFCCs 2D subset 1: (3168, 100, 32)\n",
      "Train MFCCs 2D subset 2: (3168, 100, 32)\n",
      "Train MFCCs 2D subset 3: (3168, 100, 32)\n",
      "Train MFCCs 2D subset 4: (3168, 100, 32)\n",
      "Train MFCCs 2D subset 5: (3168, 100, 32)\n",
      "Train MFCCs 2D subset 6: (3168, 100, 32)\n",
      "Train MFCCs 2D subset 7: (3168, 100, 32)\n"
     ]
    }
   ],
   "source": [
    "# get the X MFCCs 2D for each part of the Train subsets\n",
    "train_Xs_mfccs_2D = []\n",
    "for i, paths in enumerate(main_train_subsets):\n",
    "    \n",
    "    # extract\n",
    "    train_X_mfccs_2D_subset = utils.get_X_mfccs(paths, shape=(100, 32), mean=False)\n",
    "    print(\"Train MFCCs 2D subset {}: {}\".format(i+1, train_X_mfccs_2D_subset.shape))\n",
    "    \n",
    "    # append\n",
    "    train_Xs_mfccs_2D.append(train_X_mfccs_2D_subset)"
   ]
  },
  {
   "cell_type": "code",
   "execution_count": 52,
   "metadata": {},
   "outputs": [],
   "source": [
    "# persist the 2D MFCCs (Train)\n",
    "for i, train_X_mfccs_2D_subset in enumerate(train_Xs_mfccs_2D):\n",
    "    bcolz_save(path_to_main_preprocessed + os.path.sep + \"train_X_MFCCs_2D_\" + str(i + 1) +\".bc\", train_X_mfccs_2D_subset)"
   ]
  },
  {
   "cell_type": "code",
   "execution_count": 24,
   "metadata": {},
   "outputs": [],
   "source": [
    "# persist the 2D MFCCs (Test & CV)\n",
    "bcolz_save(path_to_main_preprocessed + os.path.sep + \"cv_X_MFCCs_2d\" + \".bc\", cv_X_mfccs_2D)\n",
    "bcolz_save(path_to_main_preprocessed + os.path.sep + \"test_X_MFCCs_2d\" + \".bc\", test_X_mfccs_2D)"
   ]
  },
  {
   "cell_type": "code",
   "execution_count": 53,
   "metadata": {
    "scrolled": false
   },
   "outputs": [
    {
     "name": "stdout",
     "output_type": "stream",
     "text": [
      "cv_X.bc      train_X2.bc  train_X7.bc\t\t train_X_MFCCs_2D_5.bc\r\n",
      "cv_y.bc      train_X3.bc  train_X_MFCCs_2D_1.bc  train_X_MFCCs_2D_6.bc\r\n",
      "test_X.bc    train_X4.bc  train_X_MFCCs_2D_2.bc  train_X_MFCCs_2D_7.bc\r\n",
      "test_y.bc    train_X5.bc  train_X_MFCCs_2D_3.bc  train_y.bc\r\n",
      "train_X1.bc  train_X6.bc  train_X_MFCCs_2D_4.bc\r\n"
     ]
    }
   ],
   "source": [
    "!ls $path_to_main_preprocessed"
   ]
  },
  {
   "cell_type": "markdown",
   "metadata": {},
   "source": [
    "#### Tempograms"
   ]
  },
  {
   "cell_type": "code",
   "execution_count": 22,
   "metadata": {},
   "outputs": [
    {
     "name": "stdout",
     "output_type": "stream",
     "text": [
      "CV tempogram:  (3051, 384, 32)\n",
      "CPU times: user 8min 2s, sys: 32min, total: 40min 2s\n",
      "Wall time: 8min 30s\n"
     ]
    }
   ],
   "source": [
    "%%time\n",
    "# CV first\n",
    "cv_X_tempogram = utils.get_X_tempogram(main_cv)\n",
    "print(\"CV tempogram: \", cv_X_tempogram.shape)"
   ]
  },
  {
   "cell_type": "code",
   "execution_count": 23,
   "metadata": {},
   "outputs": [
    {
     "name": "stdout",
     "output_type": "stream",
     "text": [
      "Test tempogram:  (3087, 384, 32)\n",
      "CPU times: user 8min 12s, sys: 33min 5s, total: 41min 17s\n",
      "Wall time: 8min 39s\n"
     ]
    }
   ],
   "source": [
    "%%time\n",
    "# Test set\n",
    "test_X_tempogram = utils.get_X_tempogram(main_test)\n",
    "print(\"Test tempogram: \",test_X_tempogram.shape)"
   ]
  },
  {
   "cell_type": "code",
   "execution_count": 58,
   "metadata": {},
   "outputs": [
    {
     "name": "stdout",
     "output_type": "stream",
     "text": [
      "Train tempogram subset 1: (3168, 384, 32)\n",
      "Train tempogram subset 2: (3168, 384, 32)\n",
      "Train tempogram subset 3: (3168, 384, 32)\n",
      "Train tempogram subset 4: (3168, 384, 32)\n",
      "Train tempogram subset 5: (3168, 384, 32)\n",
      "Train tempogram subset 6: (3168, 384, 32)\n",
      "Train tempogram subset 7: (3168, 384, 32)\n"
     ]
    }
   ],
   "source": [
    "# get the X MFCCs 2D for each part of the Train subsets\n",
    "train_Xs_tempogram = []\n",
    "for i, paths in enumerate(main_train_subsets):\n",
    "    \n",
    "    # extract\n",
    "    train_X_tempogram_subset = utils.get_X_tempogram(paths)\n",
    "    print(\"Train tempogram subset {}: {}\".format(i+1, train_X_tempogram_subset.shape))\n",
    "    \n",
    "    # append\n",
    "    train_Xs_tempogram.append(train_X_tempogram_subset)"
   ]
  },
  {
   "cell_type": "code",
   "execution_count": 59,
   "metadata": {},
   "outputs": [],
   "source": [
    "# persist the tempogram (Train)\n",
    "for i, train_X_tempogram_subset in enumerate(train_Xs_tempogram):\n",
    "    bcolz_save(path_to_main_preprocessed + os.path.sep + \"train_X_tempogram_\" + str(i + 1) +\".bc\", train_X_tempogram_subset)"
   ]
  },
  {
   "cell_type": "code",
   "execution_count": null,
   "metadata": {},
   "outputs": [],
   "source": [
    "# persist the tempogram (Test & CV)\n",
    "bcolz_save(path_to_main_preprocessed + os.path.sep + \"cv_X_tempogram\" + \".bc\", cv_X_tempogram)\n",
    "bcolz_save(path_to_main_preprocessed + os.path.sep + \"test_X_tempogram\" + \".bc\", test_X_tempogram)"
   ]
  },
  {
   "cell_type": "code",
   "execution_count": 28,
   "metadata": {
    "scrolled": false
   },
   "outputs": [
    {
     "name": "stdout",
     "output_type": "stream",
     "text": [
      "cv_X.bc\t\t     train_X3.bc\t    train_X_MFCCs_2D_6.bc\r\n",
      "cv_X_MFCCs_2d.bc     train_X4.bc\t    train_X_MFCCs_2D_7.bc\r\n",
      "cv_X_tempogram.bc    train_X5.bc\t    train_X_tempogram_1.bc\r\n",
      "cv_y.bc\t\t     train_X6.bc\t    train_X_tempogram_2.bc\r\n",
      "test_X.bc\t     train_X7.bc\t    train_X_tempogram_3.bc\r\n",
      "test_X_MFCCs_2d.bc   train_X_MFCCs_2D_1.bc  train_X_tempogram_4.bc\r\n",
      "test_X_tempogram.bc  train_X_MFCCs_2D_2.bc  train_X_tempogram_5.bc\r\n",
      "test_y.bc\t     train_X_MFCCs_2D_3.bc  train_X_tempogram_6.bc\r\n",
      "train_X1.bc\t     train_X_MFCCs_2D_4.bc  train_X_tempogram_7.bc\r\n",
      "train_X2.bc\t     train_X_MFCCs_2D_5.bc  train_y.bc\r\n"
     ]
    }
   ],
   "source": [
    "!ls $path_to_main_preprocessed"
   ]
  },
  {
   "cell_type": "markdown",
   "metadata": {},
   "source": [
    "### Reload\n",
    "If necessary, you can use this snippet to reload all of the previously preprocessed and persisted data sets."
   ]
  },
  {
   "cell_type": "code",
   "execution_count": 8,
   "metadata": {},
   "outputs": [],
   "source": [
    "# reload the y\n",
    "train_y = bcolz_load(path_to_main_preprocessed + os.path.sep + \"train_y\" + \".bc\")\n",
    "cv_y = bcolz_load(path_to_main_preprocessed + os.path.sep + \"cv_y\" + \".bc\")\n",
    "test_y = bcolz_load(path_to_main_preprocessed + os.path.sep + \"test_y\" + \".bc\")"
   ]
  },
  {
   "cell_type": "code",
   "execution_count": 9,
   "metadata": {},
   "outputs": [],
   "source": [
    "# reload the Test & CV X\n",
    "# raw\n",
    "cv_X = bcolz_load(path_to_main_preprocessed + os.path.sep + \"cv_X\" + \".bc\")\n",
    "test_X = bcolz_load(path_to_main_preprocessed + os.path.sep + \"test_X\" + \".bc\")\n",
    "\n",
    "# tempogram\n",
    "cv_X_tempogram = bcolz_load(path_to_main_preprocessed + os.path.sep + \"cv_X_tempogram\" + \".bc\")\n",
    "test_X_tempogram = bcolz_load(path_to_main_preprocessed + os.path.sep + \"test_X_tempogram\" + \".bc\")\n",
    "\n",
    "# 2D MFCCs\n",
    "cv_X_mfccs_2D = bcolz_load(path_to_main_preprocessed + os.path.sep + \"cv_X_MFCCs_2d\" + \".bc\")\n",
    "test_X_mfccs_2D = bcolz_load(path_to_main_preprocessed + os.path.sep + \"test_X_MFCCs_2d\" + \".bc\")"
   ]
  },
  {
   "cell_type": "code",
   "execution_count": 10,
   "metadata": {},
   "outputs": [],
   "source": [
    "# reload the Train X\n",
    "# raw\n",
    "train_Xs = []\n",
    "for i in range(7):\n",
    "    train_subset = bcolz_load(path_to_main_preprocessed + os.path.sep + \"train_X\" + str(i + 1) +\".bc\")\n",
    "    train_Xs.append(train_subset)\n",
    "    \n",
    "# MFCCs 2D\n",
    "train_Xs_MFCCs_2D = []\n",
    "for i in range(7):\n",
    "    train_subset = bcolz_load(path_to_main_preprocessed + os.path.sep + \"train_X_MFCCs_2D_\" + str(i + 1) +\".bc\")\n",
    "    train_Xs_MFCCs_2D.append(train_subset)\n",
    "\n",
    "# Tempogram\n",
    "train_Xs_tempogram = []\n",
    "for i in range(7):\n",
    "    train_subset = bcolz_load(path_to_main_preprocessed + os.path.sep + \"train_X_tempogram_\" + str(i + 1) +\".bc\")\n",
    "    train_Xs_tempogram.append(train_subset)"
   ]
  },
  {
   "cell_type": "markdown",
   "metadata": {},
   "source": [
    "#### Split the Train y\n",
    "Since we've split our Train X, it will be easier to split our Train y too, when we're passing it to our models."
   ]
  },
  {
   "cell_type": "code",
   "execution_count": 11,
   "metadata": {},
   "outputs": [],
   "source": [
    "# Train X subsets have 3168 examples each (7 total), exactly\n",
    "train_ys = []\n",
    "subset_size = 3168\n",
    "for i in range(7):\n",
    "    train_y_subset = train_y[subset_size * i : subset_size * (i + 1)]\n",
    "    train_ys.append(train_y_subset)"
   ]
  },
  {
   "cell_type": "code",
   "execution_count": 12,
   "metadata": {},
   "outputs": [
    {
     "data": {
      "text/plain": [
       "array([0., 0., 1., 0., 0., 0., 0., 0., 0., 0., 0., 0.])"
      ]
     },
     "execution_count": 12,
     "metadata": {},
     "output_type": "execute_result"
    }
   ],
   "source": [
    "train_ys[0][0]"
   ]
  },
  {
   "cell_type": "markdown",
   "metadata": {},
   "source": [
    "#### Expand Tempograms to 2D\n",
    "One of our best models (based on experiments on the sample) used 2D Tempograms, so let's expand our data into them."
   ]
  },
  {
   "cell_type": "code",
   "execution_count": 13,
   "metadata": {},
   "outputs": [
    {
     "data": {
      "text/plain": [
       "(3087, 384, 32, 1)"
      ]
     },
     "execution_count": 13,
     "metadata": {},
     "output_type": "execute_result"
    }
   ],
   "source": [
    "train_Xs_tempogram_2D = [np.expand_dims(train_X_tempogram, axis=3) for train_X_tempogram in train_Xs_tempogram]\n",
    "cv_X_tempogram_2D = np.expand_dims(cv_X_tempogram, axis=3)\n",
    "test_X_tempogram_2D = np.expand_dims(test_X_tempogram, axis=3)\n",
    "\n",
    "test_X_tempogram_2D.shape"
   ]
  },
  {
   "cell_type": "markdown",
   "metadata": {},
   "source": [
    "## Train Models\n",
    "We have the following promising model architectures to test on the entire set:\n",
    "\n",
    "1. 1D Convolutional Tempogram Model\n",
    "2. 2D Convolutional Tempogram Model\n",
    "3. 1D Convolutional Community Model (deep learning on raw data)\n",
    "\n",
    "We will want to persist the models that exceed a certain performance threshold. Let's set that threshold and create a directory for storing models."
   ]
  },
  {
   "cell_type": "code",
   "execution_count": 14,
   "metadata": {},
   "outputs": [],
   "source": [
    "# performance threshold\n",
    "accuracy_threshold = 0.6"
   ]
  },
  {
   "cell_type": "code",
   "execution_count": 15,
   "metadata": {},
   "outputs": [
    {
     "name": "stdout",
     "output_type": "stream",
     "text": [
      "/home/paperspace/tensorflow_speech_recognition\r\n"
     ]
    }
   ],
   "source": [
    "!pwd"
   ]
  },
  {
   "cell_type": "code",
   "execution_count": 16,
   "metadata": {},
   "outputs": [],
   "source": [
    "# create the directory for storing final models\n",
    "# !mkdir models"
   ]
  },
  {
   "cell_type": "code",
   "execution_count": 17,
   "metadata": {},
   "outputs": [
    {
     "data": {
      "text/plain": [
       "'/home/paperspace/tensorflow_speech_recognition/models'"
      ]
     },
     "execution_count": 17,
     "metadata": {},
     "output_type": "execute_result"
    }
   ],
   "source": [
    "path_to_models = os.path.join(os.path.expanduser(\"~\"), \"tensorflow_speech_recognition\", \"models\")\n",
    "path_to_models"
   ]
  },
  {
   "cell_type": "code",
   "execution_count": 18,
   "metadata": {},
   "outputs": [],
   "source": [
    "num_categories = 12"
   ]
  },
  {
   "cell_type": "markdown",
   "metadata": {},
   "source": [
    "#### 1D Convolutional Tempogram Model\n",
    "Let's try this model's architecture in the exact same form as the version we trained on sample, to approximately 0.4 accuracy."
   ]
  },
  {
   "cell_type": "code",
   "execution_count": 20,
   "metadata": {},
   "outputs": [],
   "source": [
    "current_model_path = os.path.join(path_to_models, \"1D_CNN_TEMPOGRAM\")\n",
    "\n",
    "cnn3 = Sequential([\n",
    "        Convolution1D(input_shape=(test_X_tempogram.shape[1], test_X_tempogram.shape[2]), \n",
    "                      kernel_size=32, filters=128, padding=\"same\", activation=\"relu\"),\n",
    "        Dropout(0.11),\n",
    "        MaxPooling1D(),\n",
    "        Convolution1D(kernel_size=12, filters=128, padding=\"same\", activation=\"relu\"),\n",
    "        Dropout(0.13),\n",
    "        MaxPooling1D(),\n",
    "        Flatten(),\n",
    "        Dense(2000, activation=\"relu\"),\n",
    "        Dropout(.7),\n",
    "        Dense(num_categories, activation=\"softmax\")\n",
    "    ])\n",
    "\n",
    "cnn3.compile(Adam(lr=0.0001),loss=\"categorical_crossentropy\", metrics=[\"accuracy\"])"
   ]
  },
  {
   "cell_type": "code",
   "execution_count": 34,
   "metadata": {},
   "outputs": [],
   "source": [
    "# start the timer\n",
    "start = time.time()"
   ]
  },
  {
   "cell_type": "code",
   "execution_count": 30,
   "metadata": {},
   "outputs": [
    {
     "name": "stdout",
     "output_type": "stream",
     "text": [
      "1 / 7 | Took 41.53 seconds | Train acc: 03741 | CV acc: 03743\n",
      "2 / 7 | Took 41.36 seconds | Train acc: 03845 | CV acc: 03648\n",
      "3 / 7 | Took 41.15 seconds | Train acc: 03889 | CV acc: 03707\n",
      "4 / 7 | Took 41.22 seconds | Train acc: 03662 | CV acc: 03812\n",
      "5 / 7 | Took 41.37 seconds | Train acc: 03860 | CV acc: 03795\n",
      "6 / 7 | Took 41.08 seconds | Train acc: 03854 | CV acc: 03900\n",
      "7 / 7 | Took 41.39 seconds | Train acc: 05297 | CV acc: 01203\n"
     ]
    }
   ],
   "source": [
    "# keep track of epoch\n",
    "cur_epoch_nr = 1\n",
    "\n",
    "# fit iteratively\n",
    "for i, train_X_tempogram in enumerate(train_Xs_tempogram):\n",
    "    \n",
    "    # pretty printing\n",
    "    print(i + 1, \"/\", len(train_Xs_tempogram), end=\" | \")\n",
    "    \n",
    "    result = cnn3.fit(train_X_tempogram, train_ys[i], batch_size=32, epochs=1, verbose=0,\n",
    "             validation_data=(cv_X_tempogram, cv_y))\n",
    "    \n",
    "    # pretty printing\n",
    "    duration = time.time() - start\n",
    "    start = time.time()\n",
    "    print(\"Took {:.2f} seconds\".format(duration), end=\" | \")\n",
    "    \n",
    "    # results\n",
    "    cv_acc = \"{:.4f}\".format(result.history[\"val_acc\"][0]).replace(\".\",\"\")\n",
    "    train_acc = \"{:.4f}\".format(result.history[\"acc\"][0]).replace(\".\",\"\")\n",
    "    print(\"Train acc: {} | CV acc: {}\".format(train_acc, cv_acc))\n",
    "    \n",
    "    # saving\n",
    "    if result.history[\"val_acc\"][0] >= accuracy_threshold:\n",
    "        cnn3.save_weights(current_model_path + \"_\" + str(cur_epoch_nr) + \"_\" + str(i + 1) + \"_\" + \"TR\" + train_acc + \"_\" + \"CV\" + cv_acc + \".h5\")"
   ]
  },
  {
   "cell_type": "markdown",
   "metadata": {},
   "source": [
    "Train for a couple more epochs, adjusting the learning rate."
   ]
  },
  {
   "cell_type": "code",
   "execution_count": 19,
   "metadata": {},
   "outputs": [],
   "source": [
    "# predefine the learning rates\n",
    "# iteratively\n",
    "lrs = [0.0003, 0.001, 0.0003,0.0001,0.00003,0.00003,0.03,\n",
    "       0.01,0.003,0.001,0.0003,0.0003,0.00001,0.00001,\n",
    "       0.00001,0.03,0.03,0.03,0.003,0.003,0.0003,0.00001,\n",
    "       0.00001,0.00001,0.000001,0.000001,0.000001,\n",
    "       0.000001,0.0000001,0.00000001,0.3,1.0,1.0,0.1,0.03,0.01,\n",
    "       0.003,0.001,0.001,0.0003,0.0001,\n",
    "       0.00003,0.00003,0.00001,0.00001,0.1,0.01,0.001,0.0001,\n",
    "       0.00001,0.0003, 0.001, 0.0003,0.0001,0.00003,0.00003,0.03,\n",
    "       0.01,0.003,0.001,0.0003,0.0003,0.00001,0.00001,\n",
    "       0.00001,0.03,0.03,0.03,0.003,0.003,0.0003,0.00001,\n",
    "       0.00001,0.00001,0.000001,0.000001,0.000001,0.3,1.0,\n",
    "       1.0,0.1,0.03,0.01,0.003,0.001,0.001,0.0003,0.0001,\n",
    "       0.00003,0.00003,0.00001,0.00001,0.1,0.01,0.001,0.0001,\n",
    "       0.000001]"
   ]
  },
  {
   "cell_type": "code",
   "execution_count": 38,
   "metadata": {},
   "outputs": [
    {
     "name": "stdout",
     "output_type": "stream",
     "text": [
      "\n",
      "1 / 7 | Actual epoch: 3 | Current lr: 0.0003 | Took 48.65 seconds | Train acc: 02061 | CV acc: 02635\n",
      "2 / 7 | Actual epoch: 3 | Current lr: 0.0003 | Took 40.76 seconds | Train acc: 03226 | CV acc: 03425\n",
      "3 / 7 | Actual epoch: 3 | Current lr: 0.0003 | Took 40.88 seconds | Train acc: 03674 | CV acc: 03661\n",
      "4 / 7 | Actual epoch: 3 | Current lr: 0.0003 | Took 41.19 seconds | Train acc: 03699 | CV acc: 03612\n",
      "5 / 7 | Actual epoch: 3 | Current lr: 0.0003 | Took 43.42 seconds | Train acc: 03759 | CV acc: 03756\n",
      "6 / 7 | Actual epoch: 3 | Current lr: 0.0003 | Took 43.88 seconds | Train acc: 03958 | CV acc: 03753\n",
      "7 / 7 | Actual epoch: 3 | Current lr: 0.0003 | Took 43.59 seconds | Train acc: 05571 | CV acc: 01295\n",
      "1 / 7 | Actual epoch: 4 | Current lr: 0.001 | Took 42.41 seconds | Train acc: 03324 | CV acc: 03802\n",
      "2 / 7 | Actual epoch: 4 | Current lr: 0.001 | Took 43.42 seconds | Train acc: 04034 | CV acc: 03832\n",
      "3 / 7 | Actual epoch: 4 | Current lr: 0.001 | Took 41.63 seconds | Train acc: 04100 | CV acc: 03864\n",
      "4 / 7 | Actual epoch: 4 | Current lr: 0.001 | Took 45.31 seconds | Train acc: 04003 | CV acc: 03854\n",
      "5 / 7 | Actual epoch: 4 | Current lr: 0.001 | Took 45.28 seconds | Train acc: 04018 | CV acc: 03943\n",
      "6 / 7 | Actual epoch: 4 | Current lr: 0.001 | Took 42.01 seconds | Train acc: 04113 | CV acc: 03812\n",
      "7 / 7 | Actual epoch: 4 | Current lr: 0.001 | Took 41.93 seconds | Train acc: 05432 | CV acc: 01331\n",
      "1 / 7 | Actual epoch: 5 | Current lr: 0.0003 | Took 41.93 seconds | Train acc: 03621 | CV acc: 03884\n",
      "2 / 7 | Actual epoch: 5 | Current lr: 0.0003 | Took 41.72 seconds | Train acc: 04085 | CV acc: 03943\n",
      "3 / 7 | Actual epoch: 5 | Current lr: 0.0003 | Took 42.90 seconds | Train acc: 04040 | CV acc: 03966\n",
      "4 / 7 | Actual epoch: 5 | Current lr: 0.0003 | Took 41.16 seconds | Train acc: 03996 | CV acc: 03959\n",
      "5 / 7 | Actual epoch: 5 | Current lr: 0.0003 | Took 41.19 seconds | Train acc: 04050 | CV acc: 04002\n",
      "6 / 7 | Actual epoch: 5 | Current lr: 0.0003 | Took 41.45 seconds | Train acc: 04088 | CV acc: 03986\n",
      "7 / 7 | Actual epoch: 5 | Current lr: 0.0003 | Took 41.95 seconds | Train acc: 05521 | CV acc: 01285\n",
      "1 / 7 | Actual epoch: 6 | Current lr: 0.0001 | Took 42.44 seconds | Train acc: 03627 | CV acc: 03969\n",
      "2 / 7 | Actual epoch: 6 | Current lr: 0.0001 | Took 41.96 seconds | Train acc: 04132 | CV acc: 03959\n",
      "3 / 7 | Actual epoch: 6 | Current lr: 0.0001 | Took 41.41 seconds | Train acc: 04198 | CV acc: 04113\n",
      "4 / 7 | Actual epoch: 6 | Current lr: 0.0001 | Took 41.65 seconds | Train acc: 04085 | CV acc: 04087\n",
      "5 / 7 | Actual epoch: 6 | Current lr: 0.0001 | Took 41.60 seconds | Train acc: 04113 | CV acc: 04025\n",
      "6 / 7 | Actual epoch: 6 | Current lr: 0.0001 | Took 41.55 seconds | Train acc: 04160 | CV acc: 04041\n",
      "7 / 7 | Actual epoch: 6 | Current lr: 0.0001 | Took 41.72 seconds | Train acc: 05549 | CV acc: 01586\n",
      "1 / 7 | Actual epoch: 7 | Current lr: 3e-05 | Took 41.53 seconds | Train acc: 03728 | CV acc: 03917\n",
      "2 / 7 | Actual epoch: 7 | Current lr: 3e-05 | Took 41.34 seconds | Train acc: 04265 | CV acc: 04143\n",
      "3 / 7 | Actual epoch: 7 | Current lr: 3e-05 | Took 41.42 seconds | Train acc: 04255 | CV acc: 04051\n",
      "4 / 7 | Actual epoch: 7 | Current lr: 3e-05 | Took 41.50 seconds | Train acc: 04129 | CV acc: 04140\n",
      "5 / 7 | Actual epoch: 7 | Current lr: 3e-05 | Took 41.85 seconds | Train acc: 04198 | CV acc: 04153\n",
      "6 / 7 | Actual epoch: 7 | Current lr: 3e-05 | Took 41.50 seconds | Train acc: 04208 | CV acc: 04090\n",
      "7 / 7 | Actual epoch: 7 | Current lr: 3e-05 | Took 41.91 seconds | Train acc: 05537 | CV acc: 01750\n",
      "1 / 7 | Actual epoch: 8 | Current lr: 3e-05 | Took 41.31 seconds | Train acc: 03892 | CV acc: 04100\n",
      "2 / 7 | Actual epoch: 8 | Current lr: 3e-05 | Took 41.51 seconds | Train acc: 04350 | CV acc: 04077\n",
      "3 / 7 | Actual epoch: 8 | Current lr: 3e-05 | Took 41.21 seconds | Train acc: 04309 | CV acc: 04202\n",
      "4 / 7 | Actual epoch: 8 | Current lr: 3e-05 | Took 41.26 seconds | Train acc: 04173 | CV acc: 04166\n",
      "5 / 7 | Actual epoch: 8 | Current lr: 3e-05 | Took 41.18 seconds | Train acc: 04252 | CV acc: 04156\n",
      "6 / 7 | Actual epoch: 8 | Current lr: 3e-05 | Took 41.32 seconds | Train acc: 04410 | CV acc: 04192\n",
      "7 / 7 | Actual epoch: 8 | Current lr: 3e-05 | Took 41.33 seconds | Train acc: 05530 | CV acc: 01636\n",
      "1 / 7 | Actual epoch: 9 | Current lr: 0.03 | Took 41.32 seconds | Train acc: 03933 | CV acc: 04189\n",
      "2 / 7 | Actual epoch: 9 | Current lr: 0.03 | Took 41.52 seconds | Train acc: 04485 | CV acc: 04199\n",
      "3 / 7 | Actual epoch: 9 | Current lr: 0.03 | Took 41.58 seconds | Train acc: 04375 | CV acc: 04231\n",
      "4 / 7 | Actual epoch: 9 | Current lr: 0.03 | Took 41.24 seconds | Train acc: 04287 | CV acc: 04231\n",
      "5 / 7 | Actual epoch: 9 | Current lr: 0.03 | Took 41.81 seconds | Train acc: 04432 | CV acc: 04258\n",
      "6 / 7 | Actual epoch: 9 | Current lr: 0.03 | Took 41.56 seconds | Train acc: 04403 | CV acc: 04179\n",
      "7 / 7 | Actual epoch: 9 | Current lr: 0.03 | Took 41.87 seconds | Train acc: 05584 | CV acc: 01534\n",
      "1 / 7 | Actual epoch: 10 | Current lr: 0.01 | Took 41.58 seconds | Train acc: 04012 | CV acc: 04189\n",
      "2 / 7 | Actual epoch: 10 | Current lr: 0.01 | Took 41.67 seconds | Train acc: 04489 | CV acc: 04330\n",
      "3 / 7 | Actual epoch: 10 | Current lr: 0.01 | Took 41.50 seconds | Train acc: 04413 | CV acc: 04258\n",
      "4 / 7 | Actual epoch: 10 | Current lr: 0.01 | Took 41.66 seconds | Train acc: 04444 | CV acc: 04182\n",
      "5 / 7 | Actual epoch: 10 | Current lr: 0.01 | Took 41.18 seconds | Train acc: 04381 | CV acc: 04323\n",
      "6 / 7 | Actual epoch: 10 | Current lr: 0.01 | Took 41.30 seconds | Train acc: 04426 | CV acc: 04222\n",
      "7 / 7 | Actual epoch: 10 | Current lr: 0.01 | Took 41.74 seconds | Train acc: 05486 | CV acc: 01518\n",
      "1 / 7 | Actual epoch: 11 | Current lr: 0.003 | Took 41.41 seconds | Train acc: 04059 | CV acc: 04356\n",
      "2 / 7 | Actual epoch: 11 | Current lr: 0.003 | Took 41.28 seconds | Train acc: 04577 | CV acc: 04287\n",
      "3 / 7 | Actual epoch: 11 | Current lr: 0.003 | Took 41.66 seconds | Train acc: 04426 | CV acc: 04346\n",
      "4 / 7 | Actual epoch: 11 | Current lr: 0.003 | Took 41.56 seconds | Train acc: 04340 | CV acc: 04336\n",
      "5 / 7 | Actual epoch: 11 | Current lr: 0.003 | Took 40.94 seconds | Train acc: 04435 | CV acc: 04326\n",
      "6 / 7 | Actual epoch: 11 | Current lr: 0.003 | Took 41.40 seconds | Train acc: 04441 | CV acc: 04267\n",
      "7 / 7 | Actual epoch: 11 | Current lr: 0.003 | Took 40.82 seconds | Train acc: 05707 | CV acc: 01629\n",
      "1 / 7 | Actual epoch: 12 | Current lr: 0.001 | Took 40.75 seconds | Train acc: 04006 | CV acc: 04267\n",
      "2 / 7 | Actual epoch: 12 | Current lr: 0.001 | Took 41.02 seconds | Train acc: 04571 | CV acc: 04245\n",
      "3 / 7 | Actual epoch: 12 | Current lr: 0.001 | Took 41.09 seconds | Train acc: 04558 | CV acc: 04313\n",
      "4 / 7 | Actual epoch: 12 | Current lr: 0.001 | Took 41.00 seconds | Train acc: 04391 | CV acc: 04258\n",
      "5 / 7 | Actual epoch: 12 | Current lr: 0.001 | Took 41.24 seconds | Train acc: 04280 | CV acc: 04307\n",
      "6 / 7 | Actual epoch: 12 | Current lr: 0.001 | Took 41.23 seconds | Train acc: 04527 | CV acc: 04300\n",
      "7 / 7 | Actual epoch: 12 | Current lr: 0.001 | Took 41.11 seconds | Train acc: 05587 | CV acc: 01688\n",
      "1 / 7 | Actual epoch: 13 | Current lr: 0.0003 | Took 41.20 seconds | Train acc: 04160 | CV acc: 04372\n",
      "2 / 7 | Actual epoch: 13 | Current lr: 0.0003 | Took 41.14 seconds | Train acc: 04590 | CV acc: 04300\n",
      "3 / 7 | Actual epoch: 13 | Current lr: 0.0003 | Took 41.24 seconds | Train acc: 04467 | CV acc: 04248\n",
      "4 / 7 | Actual epoch: 13 | Current lr: 0.0003 | Took 41.26 seconds | Train acc: 04511 | CV acc: 04320\n",
      "5 / 7 | Actual epoch: 13 | Current lr: 0.0003 | Took 40.93 seconds | Train acc: 04561 | CV acc: 04284\n",
      "6 / 7 | Actual epoch: 13 | Current lr: 0.0003 | Took 41.27 seconds | Train acc: 04545 | CV acc: 04323\n",
      "7 / 7 | Actual epoch: 13 | Current lr: 0.0003 | Took 40.91 seconds | Train acc: 05590 | CV acc: 01603\n",
      "1 / 7 | Actual epoch: 14 | Current lr: 0.0003 | Took 41.36 seconds | Train acc: 04555 | CV acc: 04372\n",
      "5 / 7 | Actual epoch: 14 | Current lr: 0.0003 | Took 41.29 seconds | Train acc: 04621 | CV acc: 04389\n",
      "6 / 7 | Actual epoch: 14 | Current lr: 0.0003 | Took 41.46 seconds | Train acc: 04558 | CV acc: 04336\n",
      "7 / 7 | Actual epoch: 14 | Current lr: 0.0003 | Took 41.07 seconds | Train acc: 05527 | CV acc: 01655\n",
      "1 / 7 | Actual epoch: 15 | Current lr: 1e-05 | Took 40.90 seconds | Train acc: 04107 | CV acc: 04287\n",
      "2 / 7 | Actual epoch: 15 | Current lr: 1e-05 | Took 41.64 seconds | Train acc: 04729 | CV acc: 04349\n",
      "3 / 7 | Actual epoch: 15 | Current lr: 1e-05 | Took 40.83 seconds | Train acc: 04586 | CV acc: 04363\n",
      "4 / 7 | Actual epoch: 15 | Current lr: 1e-05 | Took 41.01 seconds | Train acc: 04485 | CV acc: 04323\n",
      "5 / 7 | Actual epoch: 15 | Current lr: 1e-05 | Took 41.27 seconds | Train acc: 04624 | CV acc: 04271\n",
      "6 / 7 | Actual epoch: 15 | Current lr: 1e-05 | Took 42.23 seconds | Train acc: 04574 | CV acc: 04359\n",
      "7 / 7 | Actual epoch: 15 | Current lr: 1e-05 | Took 41.16 seconds | Train acc: 05603 | CV acc: 01931\n",
      "1 / 7 | Actual epoch: 16 | Current lr: 1e-05 | Took 41.46 seconds | Train acc: 04265 | CV acc: 04333\n",
      "2 / 7 | Actual epoch: 16 | Current lr: 1e-05 | Took 41.41 seconds | Train acc: 04744 | CV acc: 04366\n",
      "3 / 7 | Actual epoch: 16 | Current lr: 1e-05 | Took 41.61 seconds | Train acc: 04738 | CV acc: 04392\n",
      "4 / 7 | Actual epoch: 16 | Current lr: 1e-05 | Took 41.41 seconds | Train acc: 04590 | CV acc: 04369\n",
      "5 / 7 | Actual epoch: 16 | Current lr: 1e-05 | Took 41.35 seconds | Train acc: 04590 | CV acc: 04444\n",
      "6 / 7 | Actual epoch: 16 | Current lr: 1e-05 | Took 41.82 seconds | Train acc: 04662 | CV acc: 04297\n",
      "7 / 7 | Actual epoch: 16 | Current lr: 1e-05 | Took 41.70 seconds | Train acc: 05713 | CV acc: 01986\n",
      "1 / 7 | Actual epoch: 17 | Current lr: 1e-05 | Took 41.36 seconds | Train acc: 04195 | CV acc: 04349\n",
      "2 / 7 | Actual epoch: 17 | Current lr: 1e-05 | Took 41.47 seconds | Train acc: 04795 | CV acc: 04353\n",
      "3 / 7 | Actual epoch: 17 | Current lr: 1e-05 | Took 41.71 seconds | Train acc: 04643 | CV acc: 04408\n",
      "4 / 7 | Actual epoch: 17 | Current lr: 1e-05 | Took 41.65 seconds | Train acc: 04583 | CV acc: 04212\n",
      "5 / 7 | Actual epoch: 17 | Current lr: 1e-05 | Took 41.36 seconds | Train acc: 04665 | CV acc: 04412\n",
      "6 / 7 | Actual epoch: 17 | Current lr: 1e-05 | Took 41.03 seconds | Train acc: 04653 | CV acc: 04326\n",
      "7 / 7 | Actual epoch: 17 | Current lr: 1e-05 | Took 42.19 seconds | Train acc: 05679 | CV acc: 01901\n",
      "1 / 7 | Actual epoch: 18 | Current lr: 0.03 | Took 40.94 seconds | Train acc: 04283 | CV acc: 04343\n",
      "2 / 7 | Actual epoch: 18 | Current lr: 0.03 | Took 41.61 seconds | Train acc: 04823 | CV acc: 04415\n",
      "3 / 7 | Actual epoch: 18 | Current lr: 0.03 | Took 41.45 seconds | Train acc: 04814 | CV acc: 04336\n",
      "4 / 7 | Actual epoch: 18 | Current lr: 0.03 | Took 41.30 seconds | Train acc: 04631 | CV acc: 04372\n",
      "5 / 7 | Actual epoch: 18 | Current lr: 0.03 | Took 42.18 seconds | Train acc: 04760 | CV acc: 04300\n",
      "6 / 7 | Actual epoch: 18 | Current lr: 0.03 | Took 41.30 seconds | Train acc: 04864 | CV acc: 04326\n",
      "7 / 7 | Actual epoch: 18 | Current lr: 0.03 | Took 41.79 seconds | Train acc: 05612 | CV acc: 01586\n",
      "1 / 7 | Actual epoch: 19 | Current lr: 0.03 | Took 40.89 seconds | Train acc: 04154 | CV acc: 04340\n",
      "2 / 7 | Actual epoch: 19 | Current lr: 0.03 | Took 41.40 seconds | Train acc: 04757 | CV acc: 04408\n",
      "3 / 7 | Actual epoch: 19 | Current lr: 0.03 | Took 41.34 seconds | Train acc: 04643 | CV acc: 04363\n",
      "4 / 7 | Actual epoch: 19 | Current lr: 0.03 | Took 41.35 seconds | Train acc: 04640 | CV acc: 04349\n",
      "5 / 7 | Actual epoch: 19 | Current lr: 0.03 | Took 41.65 seconds | Train acc: 04691 | CV acc: 04310\n",
      "6 / 7 | Actual epoch: 19 | Current lr: 0.03 | Took 41.37 seconds | Train acc: 04684 | CV acc: 04399\n",
      "7 / 7 | Actual epoch: 19 | Current lr: 0.03 | Took 41.63 seconds | Train acc: 05597 | CV acc: 01944\n",
      "1 / 7 | Actual epoch: 20 | Current lr: 0.03 | Took 41.53 seconds | Train acc: 04116 | CV acc: 04317\n",
      "2 / 7 | Actual epoch: 20 | Current lr: 0.03 | Took 41.97 seconds | Train acc: 04858 | CV acc: 04363\n",
      "3 / 7 | Actual epoch: 20 | Current lr: 0.03 | Took 41.46 seconds | Train acc: 04795 | CV acc: 04385\n",
      "4 / 7 | Actual epoch: 20 | Current lr: 0.03 | Took 41.84 seconds | Train acc: 04656 | CV acc: 04340\n",
      "5 / 7 | Actual epoch: 20 | Current lr: 0.03 | Took 41.59 seconds | Train acc: 04798 | CV acc: 04435\n",
      "6 / 7 | Actual epoch: 20 | Current lr: 0.03 | Took 41.78 seconds | Train acc: 04773 | CV acc: 04359\n",
      "7 / 7 | Actual epoch: 20 | Current lr: 0.03 | Took 41.54 seconds | Train acc: 05597 | CV acc: 01986\n",
      "1 / 7 | Actual epoch: 21 | Current lr: 0.003 | Took 41.88 seconds | Train acc: 04315 | CV acc: 04399\n",
      "2 / 7 | Actual epoch: 21 | Current lr: 0.003 | Took 41.17 seconds | Train acc: 04848 | CV acc: 04372\n",
      "3 / 7 | Actual epoch: 21 | Current lr: 0.003 | Took 41.26 seconds | Train acc: 04706 | CV acc: 04422\n",
      "4 / 7 | Actual epoch: 21 | Current lr: 0.003 | Took 41.45 seconds | Train acc: 04662 | CV acc: 04353\n",
      "5 / 7 | Actual epoch: 21 | Current lr: 0.003 | Took 40.96 seconds | Train acc: 04738 | CV acc: 04366\n",
      "6 / 7 | Actual epoch: 21 | Current lr: 0.003 | Took 41.46 seconds | Train acc: 04773 | CV acc: 04369\n",
      "7 / 7 | Actual epoch: 21 | Current lr: 0.003 | Took 41.06 seconds | Train acc: 05631 | CV acc: 01835\n",
      "1 / 7 | Actual epoch: 22 | Current lr: 0.003 | Took 41.45 seconds | Train acc: 04302 | CV acc: 04310\n",
      "2 / 7 | Actual epoch: 22 | Current lr: 0.003 | Took 41.55 seconds | Train acc: 04918 | CV acc: 04405\n",
      "3 / 7 | Actual epoch: 22 | Current lr: 0.003 | Took 41.27 seconds | Train acc: 04766 | CV acc: 04379\n",
      "4 / 7 | Actual epoch: 22 | Current lr: 0.003 | Took 41.97 seconds | Train acc: 04763 | CV acc: 04412\n",
      "5 / 7 | Actual epoch: 22 | Current lr: 0.003 | Took 41.20 seconds | Train acc: 04785 | CV acc: 04356\n",
      "6 / 7 | Actual epoch: 22 | Current lr: 0.003 | Took 41.34 seconds | Train acc: 04956 | CV acc: 04448\n"
     ]
    }
   ],
   "source": [
    "# iteratively for each learning rate\n",
    "for lr in lrs:\n",
    "    # adjust learning rate and epoch\n",
    "    cnn3.optimizer.lr = lr\n",
    "    cur_epoch_nr = cur_epoch_nr + 1\n",
    "    \n",
    "    # fit iteratively\n",
    "    for i, train_X_tempogram in enumerate(train_Xs_tempogram):\n",
    "\n",
    "        # pretty printing\n",
    "        print(i + 1, \"/\", len(train_Xs_tempogram), end=\" | \")\n",
    "        print(\"Actual epoch: {}\".format(cur_epoch_nr), end=\" | \")\n",
    "        print(\"Current lr: {}\".format(lr), end=\" | \")\n",
    "\n",
    "        result = cnn3.fit(train_X_tempogram, train_ys[i], batch_size=32, epochs=1, verbose=0, \n",
    "                 validation_data=(cv_X_tempogram, cv_y))\n",
    "\n",
    "        # pretty printing\n",
    "        duration = time.time() - start\n",
    "        start = time.time()\n",
    "        print(\"Took {:.2f} seconds\".format(duration), end=\" | \")\n",
    "\n",
    "        # results\n",
    "        cv_acc = \"{:.4f}\".format(result.history[\"val_acc\"][0]).replace(\".\",\"\")\n",
    "        train_acc = \"{:.4f}\".format(result.history[\"acc\"][0]).replace(\".\",\"\")\n",
    "        print(\"Train acc: {} | CV acc: {}\".format(train_acc, cv_acc))\n",
    "\n",
    "        # saving\n",
    "        if result.history[\"val_acc\"][0] >= accuracy_threshold:\n",
    "            cnn3.save_weights(current_model_path + \"_\" + str(cur_epoch_nr) + \"_\" + str(i + 1) + \"_\" + \"TR\" + train_acc + \"_\" + \"CV\" + cv_acc + \".h5\")"
   ]
  },
  {
   "cell_type": "markdown",
   "metadata": {},
   "source": [
    "After 22 epochs we get to a CV accuracy of about 0.45, a little bit better than the performance on our sample set, but below our expectations. Our model doesn't seem to be overfitting too much either - the performance on the main train set is close to 0.49. This could suggest that whilst the general approach of using 1D convolutional layers on preprocessed tempograms is valid, **our architecture may not be complex enough to capture all the important differences.**\n",
    "\n",
    "Let's save the current model and reload it for further training."
   ]
  },
  {
   "cell_type": "code",
   "execution_count": 39,
   "metadata": {},
   "outputs": [],
   "source": [
    "# save the model\n",
    "cnn3.save_weights(current_model_path + \"_\" + str(cur_epoch_nr) + \"_\" + str(i + 1) + \"_\" + \"TR\" + train_acc + \"_\" + \"CV\" + cv_acc + \".h5\")"
   ]
  },
  {
   "cell_type": "code",
   "execution_count": 52,
   "metadata": {},
   "outputs": [],
   "source": [
    "# reload th current model, if needed\n",
    "# cnn3.load_weights(os.path.join(path_to_models, \"1D_CNN_TEMPOGRAM_3_1_TR02705_CV02950.h5\"))"
   ]
  },
  {
   "cell_type": "code",
   "execution_count": 40,
   "metadata": {},
   "outputs": [
    {
     "name": "stdout",
     "output_type": "stream",
     "text": [
      "Best 1D CNN Tempogram model scores\n",
      "Train acc: 0.4956\n",
      "CV acc: 0.4448\n"
     ]
    }
   ],
   "source": [
    "# show latest results\n",
    "best_training_accuracy = max(result.history[\"acc\"])\n",
    "best_validation_accuracy = max(result.history[\"val_acc\"])\n",
    "print(\"Best 1D CNN Tempogram model scores\\nTrain acc: {:.4f}\\nCV acc: {:.4f}\".format(best_training_accuracy, best_validation_accuracy))"
   ]
  },
  {
   "cell_type": "markdown",
   "metadata": {},
   "source": [
    "Our next logical step was to add more layers to our initial 1D Convolutional Tempogram Model and see if it enhances its performance. It didn't seem to increase the model's ability to fit the training set significantly (above 0.5 accuracy). This can be in part due to the fact that tempogram transformations (whilst trying to be less susceptible to differences in pitch) do represent a loss of certain features of the original examples.\n",
    "\n",
    "Let's train a 2D convolutional model and see if we can get a better performance from the tempograms."
   ]
  },
  {
   "cell_type": "markdown",
   "metadata": {},
   "source": [
    "#### 2D Convolutional Tempogram Model"
   ]
  },
  {
   "cell_type": "code",
   "execution_count": 22,
   "metadata": {},
   "outputs": [],
   "source": [
    "current_model_path = os.path.join(path_to_models, \"2D_CNN_TEMPOGRAM\")\n",
    "\n",
    "cnn5 = Sequential([\n",
    "        Conv2D(input_shape=(test_X_tempogram_2D.shape[1], test_X_tempogram_2D.shape[2], 1), \n",
    "                      kernel_size=32, filters=128, padding=\"same\", activation=\"relu\"),\n",
    "        Dropout(0.11),\n",
    "        MaxPooling2D(),\n",
    "        Conv2D(kernel_size=12, filters=128, padding=\"same\", activation=\"relu\"),\n",
    "        Dropout(0.13),\n",
    "        MaxPooling2D(),\n",
    "        Flatten(),\n",
    "        Dense(2000, activation=\"relu\"),\n",
    "        Dropout(.7),\n",
    "        Dense(num_categories, activation=\"softmax\")\n",
    "    ])\n",
    "\n",
    "cnn5.compile(Adam(lr=0.0001),loss=\"categorical_crossentropy\", metrics=[\"accuracy\"])"
   ]
  },
  {
   "cell_type": "code",
   "execution_count": 26,
   "metadata": {},
   "outputs": [],
   "source": [
    "# start the timer\n",
    "start = time.time()"
   ]
  },
  {
   "cell_type": "code",
   "execution_count": 24,
   "metadata": {},
   "outputs": [
    {
     "name": "stdout",
     "output_type": "stream",
     "text": [
      "1 / 7\n",
      "Train on 3168 samples, validate on 3051 samples\n",
      "Epoch 1/1\n",
      "3168/3168 [==============================] - 2734s - loss: 2.2794 - acc: 0.1660 - val_loss: 2.3795 - val_acc: 0.2370\n",
      "Took 2735.55 seconds\n",
      "\n",
      "2 / 7\n",
      "Train on 3168 samples, validate on 3051 samples\n",
      "Epoch 1/1\n",
      "3168/3168 [==============================] - 2438s - loss: 2.0278 - acc: 0.2825 - val_loss: 2.2474 - val_acc: 0.2943\n",
      "Took 5174.50 seconds\n",
      "\n",
      "3 / 7\n",
      "Train on 3168 samples, validate on 3051 samples\n",
      "Epoch 1/1\n",
      "3168/3168 [==============================] - 2666s - loss: 1.8855 - acc: 0.3277 - val_loss: 2.1622 - val_acc: 0.3510\n",
      "Took 7841.48 seconds\n",
      "\n",
      "4 / 7\n",
      "Train on 3168 samples, validate on 3051 samples\n",
      "Epoch 1/1\n",
      "3168/3168 [==============================] - 2690s - loss: 1.8429 - acc: 0.3362 - val_loss: 2.1423 - val_acc: 0.3399\n",
      "Took 10531.50 seconds\n",
      "\n",
      "5 / 7\n",
      "Train on 3168 samples, validate on 3051 samples\n",
      "Epoch 1/1\n",
      "3168/3168 [==============================] - 2740s - loss: 1.8121 - acc: 0.3526 - val_loss: 2.1443 - val_acc: 0.3579\n",
      "Took 13271.69 seconds\n",
      "\n",
      "6 / 7\n",
      "Train on 3168 samples, validate on 3051 samples\n",
      "Epoch 1/1\n",
      "3168/3168 [==============================] - 2760s - loss: 1.7914 - acc: 0.3643 - val_loss: 2.1677 - val_acc: 0.3704\n",
      "Took 16032.57 seconds\n",
      "\n",
      "7 / 7\n",
      "Train on 3168 samples, validate on 3051 samples\n",
      "Epoch 1/1\n",
      "3168/3168 [==============================] - 2770s - loss: 2.1461 - acc: 0.4972 - val_loss: 2.6823 - val_acc: 0.1141\n",
      "Took 18803.15 seconds\n",
      "\n"
     ]
    }
   ],
   "source": [
    "# keep track of epoch\n",
    "cur_epoch_nr = 1\n",
    "\n",
    "# fit iteratively\n",
    "for i, train_X_tempogram_2D in enumerate(train_Xs_tempogram_2D):\n",
    "    \n",
    "    # pretty printing\n",
    "    print(i + 1, \"/\", len(train_Xs_tempogram_2D))\n",
    "    \n",
    "    result = cnn5.fit(train_X_tempogram_2D, train_ys[i], batch_size=32, epochs=1, \n",
    "             validation_data=(cv_X_tempogram_2D, cv_y))\n",
    "    \n",
    "    # pretty printing\n",
    "    duration = time.time() - start\n",
    "    print(\"Took {:.2f} seconds\".format(duration))\n",
    "    print()\n",
    "    \n",
    "    # results\n",
    "    cv_acc = \"{:.4f}\".format(result.history[\"val_acc\"][0]).replace(\".\",\"\")\n",
    "    train_acc = \"{:.4f}\".format(result.history[\"acc\"][0]).replace(\".\",\"\")\n",
    "    \n",
    "    # saving\n",
    "    if result.history[\"val_acc\"][0] >= accuracy_threshold:\n",
    "        cnn5.save_weights(current_model_path + \"_\" + str(cur_epoch_nr) + \"_\" + str(i + 1) + \"_\" + \"TR\" + train_acc + \"_\" + \"CV\" + cv_acc + \".h5\")"
   ]
  },
  {
   "cell_type": "markdown",
   "metadata": {},
   "source": [
    "Our validation accuracy doesn't seem to exceed the levels we've reached on the sample set. We might be able to experiment with different learning rates and get a better result, but given the fact that the 2D Tempogram model is much more expensive to train (time-wise), let's move on to the 1D convolutional model on raw data."
   ]
  },
  {
   "cell_type": "markdown",
   "metadata": {},
   "source": [
    "#### 1D Convolutional Community Model"
   ]
  },
  {
   "cell_type": "code",
   "execution_count": 20,
   "metadata": {
    "scrolled": true
   },
   "outputs": [
    {
     "data": {
      "text/plain": [
       "(3168, 16000, 1)"
      ]
     },
     "execution_count": 20,
     "metadata": {},
     "output_type": "execute_result"
    }
   ],
   "source": [
    "# we need to expand the dimensions for 1D convolutions\n",
    "commmunity_train_Xs = [np.expand_dims(train_X, axis=2) for train_X in train_Xs]\n",
    "commmunity_train_Xs[0].shape"
   ]
  },
  {
   "cell_type": "code",
   "execution_count": 21,
   "metadata": {
    "scrolled": true
   },
   "outputs": [
    {
     "data": {
      "text/plain": [
       "(3051, 16000, 1)"
      ]
     },
     "execution_count": 21,
     "metadata": {},
     "output_type": "execute_result"
    }
   ],
   "source": [
    "# same for CV\n",
    "community_cv_X = np.expand_dims(cv_X, axis=2)\n",
    "community_cv_X.shape"
   ]
  },
  {
   "cell_type": "code",
   "execution_count": 22,
   "metadata": {},
   "outputs": [],
   "source": [
    "# Functional model\n",
    "current_model_path = os.path.join(path_to_models, \"1D_CNN_RAW\")\n",
    "\n",
    "# input layer & batch normalization\n",
    "inputs = Input(shape = (16000,1))\n",
    "x_1d = BatchNormalization(name = 'batchnormal_1d_in')(inputs)\n",
    "\n",
    "# iteratively create 9 blocks of 2 convolutional layers with batchnorm and max-pooling\n",
    "for i in range(9):\n",
    "    \n",
    "    name = 'step'+str(i)\n",
    "    \n",
    "    # first 1D convolutional block\n",
    "    x_1d = Conv1D(8*(2 ** i), (3),padding = 'same', name = 'conv'+name+'_1')(x_1d)\n",
    "    x_1d = BatchNormalization(name = 'batch'+name+'_1')(x_1d)\n",
    "    x_1d = Activation('relu')(x_1d)\n",
    "    \n",
    "    # second 1D convolutional block\n",
    "    x_1d = Conv1D(8*(2 ** i), (3),padding = 'same', name = 'conv'+name+'_2')(x_1d)\n",
    "    x_1d = BatchNormalization(name = 'batch'+name+'_2')(x_1d)\n",
    "    x_1d = Activation('relu')(x_1d)\n",
    "    \n",
    "    # max pooling\n",
    "    x_1d = MaxPooling1D((2), padding='same')(x_1d)\n",
    "\n",
    "# final convolution and dense layer\n",
    "x_1d = Conv1D(1024, (1),name='last1024')(x_1d)\n",
    "x_1d = GlobalMaxPool1D()(x_1d)\n",
    "x_1d = Dense(1024, activation = 'relu', name= 'dense1024_onlygmax')(x_1d)\n",
    "x_1d = Dropout(0.2)(x_1d)\n",
    "\n",
    "# soft-maxed prediction layer\n",
    "predictions = Dense(num_categories, activation = 'softmax',name='cls_1d')(x_1d)\n",
    "\n",
    "\n",
    "community_model = Model(inputs=inputs, outputs=predictions)\n",
    "community_model.compile(Adam(lr=0.0001),loss=\"categorical_crossentropy\", metrics=[\"accuracy\"])"
   ]
  },
  {
   "cell_type": "markdown",
   "metadata": {},
   "source": [
    "Train for 1 epoch."
   ]
  },
  {
   "cell_type": "code",
   "execution_count": 27,
   "metadata": {},
   "outputs": [
    {
     "name": "stdout",
     "output_type": "stream",
     "text": [
      "1 / 7\n",
      "Train on 3168 samples, validate on 3051 samples\n",
      "Epoch 1/1\n",
      "3168/3168 [==============================] - 1042s - loss: 2.6302 - acc: 0.1780 - val_loss: 2.6330 - val_acc: 0.0826\n",
      "Took 1112.49 seconds\n",
      "\n",
      "2 / 7\n",
      "Train on 3168 samples, validate on 3051 samples\n",
      "Epoch 1/1\n",
      "3168/3168 [==============================] - 1008s - loss: 1.6830 - acc: 0.4343 - val_loss: 2.6767 - val_acc: 0.1491\n",
      "Took 2121.38 seconds\n",
      "\n",
      "3 / 7\n",
      "Train on 3168 samples, validate on 3051 samples\n",
      "Epoch 1/1\n",
      "3168/3168 [==============================] - 1058s - loss: 1.1408 - acc: 0.6133 - val_loss: 2.1925 - val_acc: 0.3717\n",
      "Took 3180.02 seconds\n",
      "\n",
      "4 / 7\n",
      "Train on 3168 samples, validate on 3051 samples\n",
      "Epoch 1/1\n",
      "3168/3168 [==============================] - 1096s - loss: 0.8880 - acc: 0.7030 - val_loss: 1.9054 - val_acc: 0.5064\n",
      "Took 4276.91 seconds\n",
      "\n",
      "5 / 7\n",
      "Train on 3168 samples, validate on 3051 samples\n",
      "Epoch 1/1\n",
      "3168/3168 [==============================] - 1035s - loss: 0.7132 - acc: 0.7623 - val_loss: 1.6714 - val_acc: 0.6618\n",
      "Took 5312.86 seconds\n",
      "\n",
      "6 / 7\n",
      "Train on 3168 samples, validate on 3051 samples\n",
      "Epoch 1/1\n",
      "3168/3168 [==============================] - 1043s - loss: 0.6589 - acc: 0.7743 - val_loss: 1.5940 - val_acc: 0.6860\n",
      "Took 6361.21 seconds\n",
      "\n",
      "7 / 7\n",
      "Train on 3168 samples, validate on 3051 samples\n",
      "Epoch 1/1\n",
      "3168/3168 [==============================] - 1003s - loss: 0.9391 - acc: 0.7399 - val_loss: 1.3668 - val_acc: 0.5326\n",
      "Took 7365.40 seconds\n",
      "\n"
     ]
    }
   ],
   "source": [
    "# keep track of epoch\n",
    "cur_epoch_nr = 1\n",
    "\n",
    "# fit iteratively\n",
    "for i, community_train_X in enumerate(commmunity_train_Xs):\n",
    "    \n",
    "    # pretty printing\n",
    "    print(i + 1, \"/\", len(commmunity_train_Xs))\n",
    "    \n",
    "    result = community_model.fit(community_train_X, train_ys[i], batch_size=32, epochs=1, \n",
    "             validation_data=(community_cv_X, cv_y))\n",
    "    \n",
    "    # pretty printing\n",
    "    duration = time.time() - start\n",
    "    print(\"Took {:.2f} seconds\".format(duration))\n",
    "    print()\n",
    "    \n",
    "    # results\n",
    "    cv_acc = \"{:.4f}\".format(result.history[\"val_acc\"][0]).replace(\".\",\"\")\n",
    "    train_acc = \"{:.4f}\".format(result.history[\"acc\"][0]).replace(\".\",\"\")\n",
    "    \n",
    "    # saving\n",
    "    if result.history[\"val_acc\"][0] >= accuracy_threshold:\n",
    "        community_model.save_weights(current_model_path + \"_\" + str(cur_epoch_nr) + \"_\" + str(i + 1) + \"_\" + \"TR\" + train_acc + \"_\" + \"CV\" + cv_acc + \".h5\")"
   ]
  },
  {
   "cell_type": "code",
   "execution_count": 29,
   "metadata": {},
   "outputs": [],
   "source": [
    "# save the model\n",
    "community_model.save_weights(current_model_path + \"_\" + str(cur_epoch_nr) + \"_\" + str(i + 1) + \"_\" + \"TR\" + train_acc + \"_\" + \"CV\" + cv_acc + \".h5\")"
   ]
  },
  {
   "cell_type": "code",
   "execution_count": 23,
   "metadata": {},
   "outputs": [],
   "source": [
    "# reload th current model, if needed (and restart the timer)\n",
    "# community_model.load_weights(os.path.join(path_to_models, \"1D_CNN_RAW_1_7_TR07399_CV05326.h5\"))\n",
    "# start = time.time()"
   ]
  },
  {
   "cell_type": "markdown",
   "metadata": {},
   "source": [
    "Train for multiple epochs, adjusting the learning rate."
   ]
  },
  {
   "cell_type": "code",
   "execution_count": 31,
   "metadata": {},
   "outputs": [
    {
     "name": "stdout",
     "output_type": "stream",
     "text": [
      "1 / 7 | Actual epoch: 2 | Current lr: 0.0003 | Train on 3168 samples, validate on 3051 samples\n",
      "Epoch 1/1\n",
      "3168/3168 [==============================] - 952s - loss: 0.7235 - acc: 0.7674 - val_loss: 2.3488 - val_acc: 0.6785\n",
      "Took 953.21 seconds | Train acc: 07674 | CV acc: 06785\n",
      "2 / 7 | Actual epoch: 2 | Current lr: 0.0003 | Train on 3168 samples, validate on 3051 samples\n",
      "Epoch 1/1\n",
      "3168/3168 [==============================] - 949s - loss: 0.6754 - acc: 0.7847 - val_loss: 1.9839 - val_acc: 0.6667\n",
      "Took 951.80 seconds | Train acc: 07847 | CV acc: 06667\n",
      "3 / 7 | Actual epoch: 2 | Current lr: 0.0003 | Train on 3168 samples, validate on 3051 samples\n",
      "Epoch 1/1\n",
      "3168/3168 [==============================] - 945s - loss: 0.5880 - acc: 0.8103 - val_loss: 1.8069 - val_acc: 0.6247\n",
      "Took 945.77 seconds | Train acc: 08103 | CV acc: 06247\n",
      "4 / 7 | Actual epoch: 2 | Current lr: 0.0003 | Train on 3168 samples, validate on 3051 samples\n",
      "Epoch 1/1\n",
      "3168/3168 [==============================] - 945s - loss: 0.5381 - acc: 0.8336 - val_loss: 1.7823 - val_acc: 0.7257\n",
      "Took 945.37 seconds | Train acc: 08336 | CV acc: 07257\n",
      "5 / 7 | Actual epoch: 2 | Current lr: 0.0003 | Train on 3168 samples, validate on 3051 samples\n",
      "Epoch 1/1\n",
      "3168/3168 [==============================] - 946s - loss: 0.5337 - acc: 0.8355 - val_loss: 1.5966 - val_acc: 0.7607\n",
      "Took 946.25 seconds | Train acc: 08355 | CV acc: 07607\n",
      "6 / 7 | Actual epoch: 2 | Current lr: 0.0003 | Train on 3168 samples, validate on 3051 samples\n",
      "Epoch 1/1\n",
      "3168/3168 [==============================] - 948s - loss: 0.4391 - acc: 0.8573 - val_loss: 1.4830 - val_acc: 0.8001\n",
      "Took 948.96 seconds | Train acc: 08573 | CV acc: 08001\n",
      "7 / 7 | Actual epoch: 2 | Current lr: 0.0003 | Train on 3168 samples, validate on 3051 samples\n",
      "Epoch 1/1\n",
      "3168/3168 [==============================] - 948s - loss: 0.8042 - acc: 0.7762 - val_loss: 1.4962 - val_acc: 0.5991\n",
      "Took 949.06 seconds | Train acc: 07762 | CV acc: 05991\n"
     ]
    }
   ],
   "source": [
    "# iteratively for each learning rate\n",
    "for lr in lrs:\n",
    "    # adjust learning rate and epoch\n",
    "    community_model.optimizer.lr = lr\n",
    "    cur_epoch_nr = cur_epoch_nr + 1\n",
    "    \n",
    "    # fit iteratively\n",
    "    for i, community_train_X in enumerate(commmunity_train_Xs):\n",
    "\n",
    "        # pretty printing\n",
    "        print(i + 1, \"/\", len(commmunity_train_Xs), end=\" | \")\n",
    "        print(\"Actual epoch: {}\".format(cur_epoch_nr), end=\" | \")\n",
    "        print(\"Current lr: {}\".format(lr), end=\" | \")\n",
    "\n",
    "        result = community_model.fit(community_train_X, train_ys[i], batch_size=32, epochs=1, verbose=1, \n",
    "                 validation_data=(community_cv_X, cv_y))\n",
    "\n",
    "        # pretty printing\n",
    "        duration = time.time() - start\n",
    "        start = time.time()\n",
    "        print(\"Took {:.2f} seconds\".format(duration), end=\" | \")\n",
    "\n",
    "        # results\n",
    "        cv_acc = \"{:.4f}\".format(result.history[\"val_acc\"][0]).replace(\".\",\"\")\n",
    "        train_acc = \"{:.4f}\".format(result.history[\"acc\"][0]).replace(\".\",\"\")\n",
    "        print(\"Train acc: {} | CV acc: {}\".format(train_acc, cv_acc))\n",
    "\n",
    "        # saving\n",
    "        if result.history[\"val_acc\"][0] >= accuracy_threshold:\n",
    "            community_model.save_weights(current_model_path + \"_\" + str(cur_epoch_nr) + \"_\" + str(i + 1) + \"_\" + \"TR\" + train_acc + \"_\" + \"CV\" + cv_acc + \".h5\")"
   ]
  },
  {
   "cell_type": "markdown",
   "metadata": {},
   "source": [
    "We can see that after just 2 epochs our model has reached a **validation accuracy of more than 0.8**, with relatively little overfitting (0.85). We can conclude that this is the architecture we want to rewrite in **TensorFlow**, train further and monitor via **TensorBoard**."
   ]
  },
  {
   "cell_type": "code",
   "execution_count": null,
   "metadata": {},
   "outputs": [],
   "source": []
  }
 ],
 "metadata": {
  "kernelspec": {
   "display_name": "Python 3",
   "language": "python",
   "name": "python3"
  },
  "language_info": {
   "codemirror_mode": {
    "name": "ipython",
    "version": 3
   },
   "file_extension": ".py",
   "mimetype": "text/x-python",
   "name": "python",
   "nbconvert_exporter": "python",
   "pygments_lexer": "ipython3",
   "version": "3.6.4"
  }
 },
 "nbformat": 4,
 "nbformat_minor": 2
}
